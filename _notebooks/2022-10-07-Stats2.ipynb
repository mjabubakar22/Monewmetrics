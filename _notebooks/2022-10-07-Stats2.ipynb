{
 "cells": [
  {
   "attachments": {},
   "cell_type": "markdown",
   "metadata": {},
   "source": [
    "# EDA Part 2: Graphical Analysis\n",
    "\n",
    "- toc: true\n",
    "- badges: true\n",
    "- categories:[Statistics & Probability]\n",
    "- image:images/plots.jpg"
   ]
  },
  {
   "attachments": {},
   "cell_type": "markdown",
   "metadata": {},
   "source": [
    "While non-graphical analysis provides us with valuable insights, graphical techniques provide a visual representation that enhances our understanding of the data. graphical analysis serves as a vital tool for exploring and understanding data.\n",
    "\n",
    "Graphical analysis allows us to examine the distribution of data, providing insights into the patterns, shape, and spread of values within a dataset. Histograms, for example, display the frequency or proportion of data points within specific intervals, enabling us to identify peaks, gaps, or skewed distributions. Box plots provide a visual representation of the minimum, maximum, median, and quartiles, helping us understand the central tendencies and variability in the data. By exploring the distribution of data graphically, we can gain a deeper understanding of its characteristics and identify any outliers or anomalies.\n",
    "\n",
    "Furthermore, Graphical analysis enables us to explore the relationships between different variables in a dataset. Scatter plots, for instance, plot data points as dots on a graph, allowing us to observe the correlation or association between two variables. This helps us identify trends, patterns, or potential dependencies. Additionally, line plots or time series plots provide a visual representation of how variables change over time, highlighting any trends or seasonal patterns. By examining these graphical representations, we can uncover valuable insights into the relationships and dependencies between variables, enabling us to make informed decisions or predictions.\n",
    "\n",
    "Lastly, Graphical analysis facilitates the comparison of different datasets or categories, allowing us to identify similarities, differences, or trends. Bar charts or column charts, for example, provide a visual representation of categorical data, making it easy to compare the frequency or proportions of different categories. Grouped bar charts or stacked bar charts can be used to compare multiple categories simultaneously. By visually comparing data, we can identify variations, spot outliers, or detect patterns across different groups or time periods. This helps us make data-driven decisions and identify areas of improvement.\n",
    "\n",
    "By leveraging visual representations, we gain valuable insights into the underlying patterns, trends, and characteristics of the data, empowering us to make informed decisions and draw meaningful conclusions.\n",
    "\n",
    "We will explore some of the most commonly used visualization tools that I frequently use when performing graphical analysis"
   ]
  },
  {
   "cell_type": "code",
   "execution_count": 1,
   "metadata": {},
   "outputs": [
    {
     "data": {
      "text/html": [
       "        <script type=\"text/javascript\">\n",
       "        window.PlotlyConfig = {MathJaxConfig: 'local'};\n",
       "        if (window.MathJax && window.MathJax.Hub && window.MathJax.Hub.Config) {window.MathJax.Hub.Config({SVG: {font: \"STIX-Web\"}});}\n",
       "        if (typeof require !== 'undefined') {\n",
       "        require.undef(\"plotly\");\n",
       "        requirejs.config({\n",
       "            paths: {\n",
       "                'plotly': ['https://cdn.plot.ly/plotly-2.12.1.min']\n",
       "            }\n",
       "        });\n",
       "        require(['plotly'], function(Plotly) {\n",
       "            window._Plotly = Plotly;\n",
       "        });\n",
       "        }\n",
       "        </script>\n",
       "        "
      ]
     },
     "metadata": {},
     "output_type": "display_data"
    }
   ],
   "source": [
    "#importing relevant libraries\n",
    "import numpy as np\n",
    "import pandas as pd\n",
    "import yfinance as yf\n",
    "from yahoofinancials import YahooFinancials as yfin\n",
    "import plotly.express as px\n",
    "import plotly.graph_objs as go\n",
    "import plotly.figure_factory as ff\n",
    "from IPython.display import HTML\n",
    "from plotly.offline import init_notebook_mode, iplot\n",
    "init_notebook_mode(connected=True)  \n",
    "import warnings\n",
    "warnings.simplefilter(\"ignore\")"
   ]
  },
  {
   "attachments": {},
   "cell_type": "markdown",
   "metadata": {},
   "source": [
    "### HEATMAP"
   ]
  },
  {
   "attachments": {},
   "cell_type": "markdown",
   "metadata": {},
   "source": [
    "The correlation heatmap allows for a quick visual assessment of the relationships between variables in a dataset. It helps identify strong positive or negative correlations, patterns, and clusters among variables. This graphical representation provides a more intuitive and comprehensive understanding of the interdependencies among multiple variables compared to a tabular format."
   ]
  },
  {
   "attachments": {},
   "cell_type": "markdown",
   "metadata": {},
   "source": [
    "Using the same portfolio of stocks from the previous part, when we examine the return correlation between the stocks, we can quickly observe which stocks move together. As suspected, there is no pair with a negative correlation, considering that all the stocks share common traits. They are all part of the S&P 500, and they all belong to the technology sector, except for Tesla. This explains why Tesla is the only stock that exhibits a less positive correlation with every other stock. However, since Tesla utilizes technology heavily in its electric vehicles, it still considered a tech company by  some despite its primary focus on automotive production. Therefore, it exhibits similar characteristics to other tech stocks, which may explain why the correlation is not negative but still not as strong as the correlations among the purely technology-focused stocks."
   ]
  },
  {
   "cell_type": "code",
   "execution_count": 82,
   "metadata": {},
   "outputs": [
    {
     "name": "stdout",
     "output_type": "stream",
     "text": [
      "[*********************100%***********************]  1 of 1 completed\n",
      "[*********************100%***********************]  1 of 1 completed\n",
      "[*********************100%***********************]  1 of 1 completed\n",
      "[*********************100%***********************]  1 of 1 completed\n",
      "[*********************100%***********************]  1 of 1 completed\n",
      "[*********************100%***********************]  1 of 1 completed\n",
      "[*********************100%***********************]  1 of 1 completed\n"
     ]
    }
   ],
   "source": [
    "assets = ['META','AMZN','NFLX','GOOG','MSFT','NVDA','TSLA']\n",
    "pf_data = pd.DataFrame()\n",
    "for a in assets:\n",
    "    pf_data[a] = yf.download(a, start=\"2021-10-01\", end=\"2021-12-31\")['Adj Close']\n",
    "\n",
    "returns = pf_data.pct_change(1).dropna()\n",
    "cov = returns.cov()\n",
    "corr = returns.corr()"
   ]
  },
  {
   "cell_type": "code",
   "execution_count": 89,
   "metadata": {},
   "outputs": [
    {
     "data": {
      "application/vnd.plotly.v1+json": {
       "config": {
        "plotlyServerURL": "https://plot.ly"
       },
       "data": [
        {
         "coloraxis": "coloraxis",
         "hovertemplate": "x: %{x}<br>y: %{y}<br>color: %{z}<extra></extra>",
         "name": "0",
         "type": "heatmap",
         "x": [
          "META",
          "AMZN",
          "NFLX",
          "GOOG",
          "MSFT",
          "NVDA",
          "TSLA"
         ],
         "xaxis": "x",
         "y": [
          "META",
          "AMZN",
          "NFLX",
          "GOOG",
          "MSFT",
          "NVDA",
          "TSLA"
         ],
         "yaxis": "y",
         "z": [
          [
           1,
           0.4284499391340912,
           0.3982393486020421,
           0.44791959412897636,
           0.4596578720532282,
           0.3510222543079742,
           0.2471173301068396
          ],
          [
           0.4284499391340912,
           1,
           0.26432994194676307,
           0.6132080491697036,
           0.4983703821013487,
           0.6351800069472221,
           0.10579723046710499
          ],
          [
           0.3982393486020421,
           0.26432994194676307,
           1,
           0.3704716987252837,
           0.4525570820731297,
           0.3073935599081102,
           0.22203074193416936
          ],
          [
           0.44791959412897636,
           0.6132080491697036,
           0.3704716987252837,
           1,
           0.8224539910488878,
           0.5462909446785187,
           0.13717807581116595
          ],
          [
           0.4596578720532282,
           0.4983703821013487,
           0.4525570820731297,
           0.8224539910488878,
           1,
           0.5716925783468743,
           0.34213448809409347
          ],
          [
           0.3510222543079742,
           0.6351800069472221,
           0.3073935599081102,
           0.5462909446785187,
           0.5716925783468743,
           1,
           0.35680018787787077
          ],
          [
           0.2471173301068396,
           0.10579723046710499,
           0.22203074193416936,
           0.13717807581116595,
           0.34213448809409347,
           0.35680018787787077,
           1
          ]
         ]
        }
       ],
       "layout": {
        "coloraxis": {
         "colorscale": [
          [
           0,
           "#0d0887"
          ],
          [
           0.1111111111111111,
           "#46039f"
          ],
          [
           0.2222222222222222,
           "#7201a8"
          ],
          [
           0.3333333333333333,
           "#9c179e"
          ],
          [
           0.4444444444444444,
           "#bd3786"
          ],
          [
           0.5555555555555556,
           "#d8576b"
          ],
          [
           0.6666666666666666,
           "#ed7953"
          ],
          [
           0.7777777777777778,
           "#fb9f3a"
          ],
          [
           0.8888888888888888,
           "#fdca26"
          ],
          [
           1,
           "#f0f921"
          ]
         ]
        },
        "height": 800,
        "margin": {
         "t": 60
        },
        "template": {
         "data": {
          "bar": [
           {
            "error_x": {
             "color": "#f2f5fa"
            },
            "error_y": {
             "color": "#f2f5fa"
            },
            "marker": {
             "line": {
              "color": "rgb(17,17,17)",
              "width": 0.5
             },
             "pattern": {
              "fillmode": "overlay",
              "size": 10,
              "solidity": 0.2
             }
            },
            "type": "bar"
           }
          ],
          "barpolar": [
           {
            "marker": {
             "line": {
              "color": "rgb(17,17,17)",
              "width": 0.5
             },
             "pattern": {
              "fillmode": "overlay",
              "size": 10,
              "solidity": 0.2
             }
            },
            "type": "barpolar"
           }
          ],
          "carpet": [
           {
            "aaxis": {
             "endlinecolor": "#A2B1C6",
             "gridcolor": "#506784",
             "linecolor": "#506784",
             "minorgridcolor": "#506784",
             "startlinecolor": "#A2B1C6"
            },
            "baxis": {
             "endlinecolor": "#A2B1C6",
             "gridcolor": "#506784",
             "linecolor": "#506784",
             "minorgridcolor": "#506784",
             "startlinecolor": "#A2B1C6"
            },
            "type": "carpet"
           }
          ],
          "choropleth": [
           {
            "colorbar": {
             "outlinewidth": 0,
             "ticks": ""
            },
            "type": "choropleth"
           }
          ],
          "contour": [
           {
            "colorbar": {
             "outlinewidth": 0,
             "ticks": ""
            },
            "colorscale": [
             [
              0,
              "#0d0887"
             ],
             [
              0.1111111111111111,
              "#46039f"
             ],
             [
              0.2222222222222222,
              "#7201a8"
             ],
             [
              0.3333333333333333,
              "#9c179e"
             ],
             [
              0.4444444444444444,
              "#bd3786"
             ],
             [
              0.5555555555555556,
              "#d8576b"
             ],
             [
              0.6666666666666666,
              "#ed7953"
             ],
             [
              0.7777777777777778,
              "#fb9f3a"
             ],
             [
              0.8888888888888888,
              "#fdca26"
             ],
             [
              1,
              "#f0f921"
             ]
            ],
            "type": "contour"
           }
          ],
          "contourcarpet": [
           {
            "colorbar": {
             "outlinewidth": 0,
             "ticks": ""
            },
            "type": "contourcarpet"
           }
          ],
          "heatmap": [
           {
            "colorbar": {
             "outlinewidth": 0,
             "ticks": ""
            },
            "colorscale": [
             [
              0,
              "#0d0887"
             ],
             [
              0.1111111111111111,
              "#46039f"
             ],
             [
              0.2222222222222222,
              "#7201a8"
             ],
             [
              0.3333333333333333,
              "#9c179e"
             ],
             [
              0.4444444444444444,
              "#bd3786"
             ],
             [
              0.5555555555555556,
              "#d8576b"
             ],
             [
              0.6666666666666666,
              "#ed7953"
             ],
             [
              0.7777777777777778,
              "#fb9f3a"
             ],
             [
              0.8888888888888888,
              "#fdca26"
             ],
             [
              1,
              "#f0f921"
             ]
            ],
            "type": "heatmap"
           }
          ],
          "heatmapgl": [
           {
            "colorbar": {
             "outlinewidth": 0,
             "ticks": ""
            },
            "colorscale": [
             [
              0,
              "#0d0887"
             ],
             [
              0.1111111111111111,
              "#46039f"
             ],
             [
              0.2222222222222222,
              "#7201a8"
             ],
             [
              0.3333333333333333,
              "#9c179e"
             ],
             [
              0.4444444444444444,
              "#bd3786"
             ],
             [
              0.5555555555555556,
              "#d8576b"
             ],
             [
              0.6666666666666666,
              "#ed7953"
             ],
             [
              0.7777777777777778,
              "#fb9f3a"
             ],
             [
              0.8888888888888888,
              "#fdca26"
             ],
             [
              1,
              "#f0f921"
             ]
            ],
            "type": "heatmapgl"
           }
          ],
          "histogram": [
           {
            "marker": {
             "pattern": {
              "fillmode": "overlay",
              "size": 10,
              "solidity": 0.2
             }
            },
            "type": "histogram"
           }
          ],
          "histogram2d": [
           {
            "colorbar": {
             "outlinewidth": 0,
             "ticks": ""
            },
            "colorscale": [
             [
              0,
              "#0d0887"
             ],
             [
              0.1111111111111111,
              "#46039f"
             ],
             [
              0.2222222222222222,
              "#7201a8"
             ],
             [
              0.3333333333333333,
              "#9c179e"
             ],
             [
              0.4444444444444444,
              "#bd3786"
             ],
             [
              0.5555555555555556,
              "#d8576b"
             ],
             [
              0.6666666666666666,
              "#ed7953"
             ],
             [
              0.7777777777777778,
              "#fb9f3a"
             ],
             [
              0.8888888888888888,
              "#fdca26"
             ],
             [
              1,
              "#f0f921"
             ]
            ],
            "type": "histogram2d"
           }
          ],
          "histogram2dcontour": [
           {
            "colorbar": {
             "outlinewidth": 0,
             "ticks": ""
            },
            "colorscale": [
             [
              0,
              "#0d0887"
             ],
             [
              0.1111111111111111,
              "#46039f"
             ],
             [
              0.2222222222222222,
              "#7201a8"
             ],
             [
              0.3333333333333333,
              "#9c179e"
             ],
             [
              0.4444444444444444,
              "#bd3786"
             ],
             [
              0.5555555555555556,
              "#d8576b"
             ],
             [
              0.6666666666666666,
              "#ed7953"
             ],
             [
              0.7777777777777778,
              "#fb9f3a"
             ],
             [
              0.8888888888888888,
              "#fdca26"
             ],
             [
              1,
              "#f0f921"
             ]
            ],
            "type": "histogram2dcontour"
           }
          ],
          "mesh3d": [
           {
            "colorbar": {
             "outlinewidth": 0,
             "ticks": ""
            },
            "type": "mesh3d"
           }
          ],
          "parcoords": [
           {
            "line": {
             "colorbar": {
              "outlinewidth": 0,
              "ticks": ""
             }
            },
            "type": "parcoords"
           }
          ],
          "pie": [
           {
            "automargin": true,
            "type": "pie"
           }
          ],
          "scatter": [
           {
            "marker": {
             "line": {
              "color": "#283442"
             }
            },
            "type": "scatter"
           }
          ],
          "scatter3d": [
           {
            "line": {
             "colorbar": {
              "outlinewidth": 0,
              "ticks": ""
             }
            },
            "marker": {
             "colorbar": {
              "outlinewidth": 0,
              "ticks": ""
             }
            },
            "type": "scatter3d"
           }
          ],
          "scattercarpet": [
           {
            "marker": {
             "colorbar": {
              "outlinewidth": 0,
              "ticks": ""
             }
            },
            "type": "scattercarpet"
           }
          ],
          "scattergeo": [
           {
            "marker": {
             "colorbar": {
              "outlinewidth": 0,
              "ticks": ""
             }
            },
            "type": "scattergeo"
           }
          ],
          "scattergl": [
           {
            "marker": {
             "line": {
              "color": "#283442"
             }
            },
            "type": "scattergl"
           }
          ],
          "scattermapbox": [
           {
            "marker": {
             "colorbar": {
              "outlinewidth": 0,
              "ticks": ""
             }
            },
            "type": "scattermapbox"
           }
          ],
          "scatterpolar": [
           {
            "marker": {
             "colorbar": {
              "outlinewidth": 0,
              "ticks": ""
             }
            },
            "type": "scatterpolar"
           }
          ],
          "scatterpolargl": [
           {
            "marker": {
             "colorbar": {
              "outlinewidth": 0,
              "ticks": ""
             }
            },
            "type": "scatterpolargl"
           }
          ],
          "scatterternary": [
           {
            "marker": {
             "colorbar": {
              "outlinewidth": 0,
              "ticks": ""
             }
            },
            "type": "scatterternary"
           }
          ],
          "surface": [
           {
            "colorbar": {
             "outlinewidth": 0,
             "ticks": ""
            },
            "colorscale": [
             [
              0,
              "#0d0887"
             ],
             [
              0.1111111111111111,
              "#46039f"
             ],
             [
              0.2222222222222222,
              "#7201a8"
             ],
             [
              0.3333333333333333,
              "#9c179e"
             ],
             [
              0.4444444444444444,
              "#bd3786"
             ],
             [
              0.5555555555555556,
              "#d8576b"
             ],
             [
              0.6666666666666666,
              "#ed7953"
             ],
             [
              0.7777777777777778,
              "#fb9f3a"
             ],
             [
              0.8888888888888888,
              "#fdca26"
             ],
             [
              1,
              "#f0f921"
             ]
            ],
            "type": "surface"
           }
          ],
          "table": [
           {
            "cells": {
             "fill": {
              "color": "#506784"
             },
             "line": {
              "color": "rgb(17,17,17)"
             }
            },
            "header": {
             "fill": {
              "color": "#2a3f5f"
             },
             "line": {
              "color": "rgb(17,17,17)"
             }
            },
            "type": "table"
           }
          ]
         },
         "layout": {
          "annotationdefaults": {
           "arrowcolor": "#f2f5fa",
           "arrowhead": 0,
           "arrowwidth": 1
          },
          "autotypenumbers": "strict",
          "coloraxis": {
           "colorbar": {
            "outlinewidth": 0,
            "ticks": ""
           }
          },
          "colorscale": {
           "diverging": [
            [
             0,
             "#8e0152"
            ],
            [
             0.1,
             "#c51b7d"
            ],
            [
             0.2,
             "#de77ae"
            ],
            [
             0.3,
             "#f1b6da"
            ],
            [
             0.4,
             "#fde0ef"
            ],
            [
             0.5,
             "#f7f7f7"
            ],
            [
             0.6,
             "#e6f5d0"
            ],
            [
             0.7,
             "#b8e186"
            ],
            [
             0.8,
             "#7fbc41"
            ],
            [
             0.9,
             "#4d9221"
            ],
            [
             1,
             "#276419"
            ]
           ],
           "sequential": [
            [
             0,
             "#0d0887"
            ],
            [
             0.1111111111111111,
             "#46039f"
            ],
            [
             0.2222222222222222,
             "#7201a8"
            ],
            [
             0.3333333333333333,
             "#9c179e"
            ],
            [
             0.4444444444444444,
             "#bd3786"
            ],
            [
             0.5555555555555556,
             "#d8576b"
            ],
            [
             0.6666666666666666,
             "#ed7953"
            ],
            [
             0.7777777777777778,
             "#fb9f3a"
            ],
            [
             0.8888888888888888,
             "#fdca26"
            ],
            [
             1,
             "#f0f921"
            ]
           ],
           "sequentialminus": [
            [
             0,
             "#0d0887"
            ],
            [
             0.1111111111111111,
             "#46039f"
            ],
            [
             0.2222222222222222,
             "#7201a8"
            ],
            [
             0.3333333333333333,
             "#9c179e"
            ],
            [
             0.4444444444444444,
             "#bd3786"
            ],
            [
             0.5555555555555556,
             "#d8576b"
            ],
            [
             0.6666666666666666,
             "#ed7953"
            ],
            [
             0.7777777777777778,
             "#fb9f3a"
            ],
            [
             0.8888888888888888,
             "#fdca26"
            ],
            [
             1,
             "#f0f921"
            ]
           ]
          },
          "colorway": [
           "#636efa",
           "#EF553B",
           "#00cc96",
           "#ab63fa",
           "#FFA15A",
           "#19d3f3",
           "#FF6692",
           "#B6E880",
           "#FF97FF",
           "#FECB52"
          ],
          "font": {
           "color": "#f2f5fa"
          },
          "geo": {
           "bgcolor": "rgb(17,17,17)",
           "lakecolor": "rgb(17,17,17)",
           "landcolor": "rgb(17,17,17)",
           "showlakes": true,
           "showland": true,
           "subunitcolor": "#506784"
          },
          "hoverlabel": {
           "align": "left"
          },
          "hovermode": "closest",
          "mapbox": {
           "style": "dark"
          },
          "paper_bgcolor": "rgb(17,17,17)",
          "plot_bgcolor": "rgb(17,17,17)",
          "polar": {
           "angularaxis": {
            "gridcolor": "#506784",
            "linecolor": "#506784",
            "ticks": ""
           },
           "bgcolor": "rgb(17,17,17)",
           "radialaxis": {
            "gridcolor": "#506784",
            "linecolor": "#506784",
            "ticks": ""
           }
          },
          "scene": {
           "xaxis": {
            "backgroundcolor": "rgb(17,17,17)",
            "gridcolor": "#506784",
            "gridwidth": 2,
            "linecolor": "#506784",
            "showbackground": true,
            "ticks": "",
            "zerolinecolor": "#C8D4E3"
           },
           "yaxis": {
            "backgroundcolor": "rgb(17,17,17)",
            "gridcolor": "#506784",
            "gridwidth": 2,
            "linecolor": "#506784",
            "showbackground": true,
            "ticks": "",
            "zerolinecolor": "#C8D4E3"
           },
           "zaxis": {
            "backgroundcolor": "rgb(17,17,17)",
            "gridcolor": "#506784",
            "gridwidth": 2,
            "linecolor": "#506784",
            "showbackground": true,
            "ticks": "",
            "zerolinecolor": "#C8D4E3"
           }
          },
          "shapedefaults": {
           "line": {
            "color": "#f2f5fa"
           }
          },
          "sliderdefaults": {
           "bgcolor": "#C8D4E3",
           "bordercolor": "rgb(17,17,17)",
           "borderwidth": 1,
           "tickwidth": 0
          },
          "ternary": {
           "aaxis": {
            "gridcolor": "#506784",
            "linecolor": "#506784",
            "ticks": ""
           },
           "baxis": {
            "gridcolor": "#506784",
            "linecolor": "#506784",
            "ticks": ""
           },
           "bgcolor": "rgb(17,17,17)",
           "caxis": {
            "gridcolor": "#506784",
            "linecolor": "#506784",
            "ticks": ""
           }
          },
          "title": {
           "x": 0.05
          },
          "updatemenudefaults": {
           "bgcolor": "#506784",
           "borderwidth": 0
          },
          "xaxis": {
           "automargin": true,
           "gridcolor": "#283442",
           "linecolor": "#506784",
           "ticks": "",
           "title": {
            "standoff": 15
           },
           "zerolinecolor": "#283442",
           "zerolinewidth": 2
          },
          "yaxis": {
           "automargin": true,
           "gridcolor": "#283442",
           "linecolor": "#506784",
           "ticks": "",
           "title": {
            "standoff": 15
           },
           "zerolinecolor": "#283442",
           "zerolinewidth": 2
          }
         }
        },
        "title": {
         "text": "The Correlation Coefficient Of Stock Returns In a Portfolio"
        },
        "width": 1000,
        "xaxis": {
         "anchor": "y",
         "constrain": "domain",
         "domain": [
          0,
          1
         ],
         "scaleanchor": "y"
        },
        "yaxis": {
         "anchor": "x",
         "autorange": "reversed",
         "constrain": "domain",
         "domain": [
          0,
          1
         ]
        }
       }
      },
      "text/html": [
       "<div>                            <div id=\"31a8e4e1-0d65-49f9-9a2f-6313d8f54899\" class=\"plotly-graph-div\" style=\"height:800px; width:1000px;\"></div>            <script type=\"text/javascript\">                require([\"plotly\"], function(Plotly) {                    window.PLOTLYENV=window.PLOTLYENV || {};                                    if (document.getElementById(\"31a8e4e1-0d65-49f9-9a2f-6313d8f54899\")) {                    Plotly.newPlot(                        \"31a8e4e1-0d65-49f9-9a2f-6313d8f54899\",                        [{\"coloraxis\":\"coloraxis\",\"name\":\"0\",\"x\":[\"META\",\"AMZN\",\"NFLX\",\"GOOG\",\"MSFT\",\"NVDA\",\"TSLA\"],\"y\":[\"META\",\"AMZN\",\"NFLX\",\"GOOG\",\"MSFT\",\"NVDA\",\"TSLA\"],\"z\":[[1.0,0.4284499391340912,0.3982393486020421,0.44791959412897636,0.4596578720532282,0.3510222543079742,0.2471173301068396],[0.4284499391340912,1.0,0.26432994194676307,0.6132080491697036,0.4983703821013487,0.6351800069472221,0.10579723046710499],[0.3982393486020421,0.26432994194676307,1.0,0.3704716987252837,0.4525570820731297,0.3073935599081102,0.22203074193416936],[0.44791959412897636,0.6132080491697036,0.3704716987252837,1.0,0.8224539910488878,0.5462909446785187,0.13717807581116595],[0.4596578720532282,0.4983703821013487,0.4525570820731297,0.8224539910488878,1.0,0.5716925783468743,0.34213448809409347],[0.3510222543079742,0.6351800069472221,0.3073935599081102,0.5462909446785187,0.5716925783468743,1.0,0.35680018787787077],[0.2471173301068396,0.10579723046710499,0.22203074193416936,0.13717807581116595,0.34213448809409347,0.35680018787787077,1.0]],\"type\":\"heatmap\",\"xaxis\":\"x\",\"yaxis\":\"y\",\"hovertemplate\":\"x: %{x}<br>y: %{y}<br>color: %{z}<extra></extra>\"}],                        {\"template\":{\"data\":{\"barpolar\":[{\"marker\":{\"line\":{\"color\":\"rgb(17,17,17)\",\"width\":0.5},\"pattern\":{\"fillmode\":\"overlay\",\"size\":10,\"solidity\":0.2}},\"type\":\"barpolar\"}],\"bar\":[{\"error_x\":{\"color\":\"#f2f5fa\"},\"error_y\":{\"color\":\"#f2f5fa\"},\"marker\":{\"line\":{\"color\":\"rgb(17,17,17)\",\"width\":0.5},\"pattern\":{\"fillmode\":\"overlay\",\"size\":10,\"solidity\":0.2}},\"type\":\"bar\"}],\"carpet\":[{\"aaxis\":{\"endlinecolor\":\"#A2B1C6\",\"gridcolor\":\"#506784\",\"linecolor\":\"#506784\",\"minorgridcolor\":\"#506784\",\"startlinecolor\":\"#A2B1C6\"},\"baxis\":{\"endlinecolor\":\"#A2B1C6\",\"gridcolor\":\"#506784\",\"linecolor\":\"#506784\",\"minorgridcolor\":\"#506784\",\"startlinecolor\":\"#A2B1C6\"},\"type\":\"carpet\"}],\"choropleth\":[{\"colorbar\":{\"outlinewidth\":0,\"ticks\":\"\"},\"type\":\"choropleth\"}],\"contourcarpet\":[{\"colorbar\":{\"outlinewidth\":0,\"ticks\":\"\"},\"type\":\"contourcarpet\"}],\"contour\":[{\"colorbar\":{\"outlinewidth\":0,\"ticks\":\"\"},\"colorscale\":[[0.0,\"#0d0887\"],[0.1111111111111111,\"#46039f\"],[0.2222222222222222,\"#7201a8\"],[0.3333333333333333,\"#9c179e\"],[0.4444444444444444,\"#bd3786\"],[0.5555555555555556,\"#d8576b\"],[0.6666666666666666,\"#ed7953\"],[0.7777777777777778,\"#fb9f3a\"],[0.8888888888888888,\"#fdca26\"],[1.0,\"#f0f921\"]],\"type\":\"contour\"}],\"heatmapgl\":[{\"colorbar\":{\"outlinewidth\":0,\"ticks\":\"\"},\"colorscale\":[[0.0,\"#0d0887\"],[0.1111111111111111,\"#46039f\"],[0.2222222222222222,\"#7201a8\"],[0.3333333333333333,\"#9c179e\"],[0.4444444444444444,\"#bd3786\"],[0.5555555555555556,\"#d8576b\"],[0.6666666666666666,\"#ed7953\"],[0.7777777777777778,\"#fb9f3a\"],[0.8888888888888888,\"#fdca26\"],[1.0,\"#f0f921\"]],\"type\":\"heatmapgl\"}],\"heatmap\":[{\"colorbar\":{\"outlinewidth\":0,\"ticks\":\"\"},\"colorscale\":[[0.0,\"#0d0887\"],[0.1111111111111111,\"#46039f\"],[0.2222222222222222,\"#7201a8\"],[0.3333333333333333,\"#9c179e\"],[0.4444444444444444,\"#bd3786\"],[0.5555555555555556,\"#d8576b\"],[0.6666666666666666,\"#ed7953\"],[0.7777777777777778,\"#fb9f3a\"],[0.8888888888888888,\"#fdca26\"],[1.0,\"#f0f921\"]],\"type\":\"heatmap\"}],\"histogram2dcontour\":[{\"colorbar\":{\"outlinewidth\":0,\"ticks\":\"\"},\"colorscale\":[[0.0,\"#0d0887\"],[0.1111111111111111,\"#46039f\"],[0.2222222222222222,\"#7201a8\"],[0.3333333333333333,\"#9c179e\"],[0.4444444444444444,\"#bd3786\"],[0.5555555555555556,\"#d8576b\"],[0.6666666666666666,\"#ed7953\"],[0.7777777777777778,\"#fb9f3a\"],[0.8888888888888888,\"#fdca26\"],[1.0,\"#f0f921\"]],\"type\":\"histogram2dcontour\"}],\"histogram2d\":[{\"colorbar\":{\"outlinewidth\":0,\"ticks\":\"\"},\"colorscale\":[[0.0,\"#0d0887\"],[0.1111111111111111,\"#46039f\"],[0.2222222222222222,\"#7201a8\"],[0.3333333333333333,\"#9c179e\"],[0.4444444444444444,\"#bd3786\"],[0.5555555555555556,\"#d8576b\"],[0.6666666666666666,\"#ed7953\"],[0.7777777777777778,\"#fb9f3a\"],[0.8888888888888888,\"#fdca26\"],[1.0,\"#f0f921\"]],\"type\":\"histogram2d\"}],\"histogram\":[{\"marker\":{\"pattern\":{\"fillmode\":\"overlay\",\"size\":10,\"solidity\":0.2}},\"type\":\"histogram\"}],\"mesh3d\":[{\"colorbar\":{\"outlinewidth\":0,\"ticks\":\"\"},\"type\":\"mesh3d\"}],\"parcoords\":[{\"line\":{\"colorbar\":{\"outlinewidth\":0,\"ticks\":\"\"}},\"type\":\"parcoords\"}],\"pie\":[{\"automargin\":true,\"type\":\"pie\"}],\"scatter3d\":[{\"line\":{\"colorbar\":{\"outlinewidth\":0,\"ticks\":\"\"}},\"marker\":{\"colorbar\":{\"outlinewidth\":0,\"ticks\":\"\"}},\"type\":\"scatter3d\"}],\"scattercarpet\":[{\"marker\":{\"colorbar\":{\"outlinewidth\":0,\"ticks\":\"\"}},\"type\":\"scattercarpet\"}],\"scattergeo\":[{\"marker\":{\"colorbar\":{\"outlinewidth\":0,\"ticks\":\"\"}},\"type\":\"scattergeo\"}],\"scattergl\":[{\"marker\":{\"line\":{\"color\":\"#283442\"}},\"type\":\"scattergl\"}],\"scattermapbox\":[{\"marker\":{\"colorbar\":{\"outlinewidth\":0,\"ticks\":\"\"}},\"type\":\"scattermapbox\"}],\"scatterpolargl\":[{\"marker\":{\"colorbar\":{\"outlinewidth\":0,\"ticks\":\"\"}},\"type\":\"scatterpolargl\"}],\"scatterpolar\":[{\"marker\":{\"colorbar\":{\"outlinewidth\":0,\"ticks\":\"\"}},\"type\":\"scatterpolar\"}],\"scatter\":[{\"marker\":{\"line\":{\"color\":\"#283442\"}},\"type\":\"scatter\"}],\"scatterternary\":[{\"marker\":{\"colorbar\":{\"outlinewidth\":0,\"ticks\":\"\"}},\"type\":\"scatterternary\"}],\"surface\":[{\"colorbar\":{\"outlinewidth\":0,\"ticks\":\"\"},\"colorscale\":[[0.0,\"#0d0887\"],[0.1111111111111111,\"#46039f\"],[0.2222222222222222,\"#7201a8\"],[0.3333333333333333,\"#9c179e\"],[0.4444444444444444,\"#bd3786\"],[0.5555555555555556,\"#d8576b\"],[0.6666666666666666,\"#ed7953\"],[0.7777777777777778,\"#fb9f3a\"],[0.8888888888888888,\"#fdca26\"],[1.0,\"#f0f921\"]],\"type\":\"surface\"}],\"table\":[{\"cells\":{\"fill\":{\"color\":\"#506784\"},\"line\":{\"color\":\"rgb(17,17,17)\"}},\"header\":{\"fill\":{\"color\":\"#2a3f5f\"},\"line\":{\"color\":\"rgb(17,17,17)\"}},\"type\":\"table\"}]},\"layout\":{\"annotationdefaults\":{\"arrowcolor\":\"#f2f5fa\",\"arrowhead\":0,\"arrowwidth\":1},\"autotypenumbers\":\"strict\",\"coloraxis\":{\"colorbar\":{\"outlinewidth\":0,\"ticks\":\"\"}},\"colorscale\":{\"diverging\":[[0,\"#8e0152\"],[0.1,\"#c51b7d\"],[0.2,\"#de77ae\"],[0.3,\"#f1b6da\"],[0.4,\"#fde0ef\"],[0.5,\"#f7f7f7\"],[0.6,\"#e6f5d0\"],[0.7,\"#b8e186\"],[0.8,\"#7fbc41\"],[0.9,\"#4d9221\"],[1,\"#276419\"]],\"sequential\":[[0.0,\"#0d0887\"],[0.1111111111111111,\"#46039f\"],[0.2222222222222222,\"#7201a8\"],[0.3333333333333333,\"#9c179e\"],[0.4444444444444444,\"#bd3786\"],[0.5555555555555556,\"#d8576b\"],[0.6666666666666666,\"#ed7953\"],[0.7777777777777778,\"#fb9f3a\"],[0.8888888888888888,\"#fdca26\"],[1.0,\"#f0f921\"]],\"sequentialminus\":[[0.0,\"#0d0887\"],[0.1111111111111111,\"#46039f\"],[0.2222222222222222,\"#7201a8\"],[0.3333333333333333,\"#9c179e\"],[0.4444444444444444,\"#bd3786\"],[0.5555555555555556,\"#d8576b\"],[0.6666666666666666,\"#ed7953\"],[0.7777777777777778,\"#fb9f3a\"],[0.8888888888888888,\"#fdca26\"],[1.0,\"#f0f921\"]]},\"colorway\":[\"#636efa\",\"#EF553B\",\"#00cc96\",\"#ab63fa\",\"#FFA15A\",\"#19d3f3\",\"#FF6692\",\"#B6E880\",\"#FF97FF\",\"#FECB52\"],\"font\":{\"color\":\"#f2f5fa\"},\"geo\":{\"bgcolor\":\"rgb(17,17,17)\",\"lakecolor\":\"rgb(17,17,17)\",\"landcolor\":\"rgb(17,17,17)\",\"showlakes\":true,\"showland\":true,\"subunitcolor\":\"#506784\"},\"hoverlabel\":{\"align\":\"left\"},\"hovermode\":\"closest\",\"mapbox\":{\"style\":\"dark\"},\"paper_bgcolor\":\"rgb(17,17,17)\",\"plot_bgcolor\":\"rgb(17,17,17)\",\"polar\":{\"angularaxis\":{\"gridcolor\":\"#506784\",\"linecolor\":\"#506784\",\"ticks\":\"\"},\"bgcolor\":\"rgb(17,17,17)\",\"radialaxis\":{\"gridcolor\":\"#506784\",\"linecolor\":\"#506784\",\"ticks\":\"\"}},\"scene\":{\"xaxis\":{\"backgroundcolor\":\"rgb(17,17,17)\",\"gridcolor\":\"#506784\",\"gridwidth\":2,\"linecolor\":\"#506784\",\"showbackground\":true,\"ticks\":\"\",\"zerolinecolor\":\"#C8D4E3\"},\"yaxis\":{\"backgroundcolor\":\"rgb(17,17,17)\",\"gridcolor\":\"#506784\",\"gridwidth\":2,\"linecolor\":\"#506784\",\"showbackground\":true,\"ticks\":\"\",\"zerolinecolor\":\"#C8D4E3\"},\"zaxis\":{\"backgroundcolor\":\"rgb(17,17,17)\",\"gridcolor\":\"#506784\",\"gridwidth\":2,\"linecolor\":\"#506784\",\"showbackground\":true,\"ticks\":\"\",\"zerolinecolor\":\"#C8D4E3\"}},\"shapedefaults\":{\"line\":{\"color\":\"#f2f5fa\"}},\"sliderdefaults\":{\"bgcolor\":\"#C8D4E3\",\"bordercolor\":\"rgb(17,17,17)\",\"borderwidth\":1,\"tickwidth\":0},\"ternary\":{\"aaxis\":{\"gridcolor\":\"#506784\",\"linecolor\":\"#506784\",\"ticks\":\"\"},\"baxis\":{\"gridcolor\":\"#506784\",\"linecolor\":\"#506784\",\"ticks\":\"\"},\"bgcolor\":\"rgb(17,17,17)\",\"caxis\":{\"gridcolor\":\"#506784\",\"linecolor\":\"#506784\",\"ticks\":\"\"}},\"title\":{\"x\":0.05},\"updatemenudefaults\":{\"bgcolor\":\"#506784\",\"borderwidth\":0},\"xaxis\":{\"automargin\":true,\"gridcolor\":\"#283442\",\"linecolor\":\"#506784\",\"ticks\":\"\",\"title\":{\"standoff\":15},\"zerolinecolor\":\"#283442\",\"zerolinewidth\":2},\"yaxis\":{\"automargin\":true,\"gridcolor\":\"#283442\",\"linecolor\":\"#506784\",\"ticks\":\"\",\"title\":{\"standoff\":15},\"zerolinecolor\":\"#283442\",\"zerolinewidth\":2}}},\"xaxis\":{\"anchor\":\"y\",\"domain\":[0.0,1.0],\"scaleanchor\":\"y\",\"constrain\":\"domain\"},\"yaxis\":{\"anchor\":\"x\",\"domain\":[0.0,1.0],\"autorange\":\"reversed\",\"constrain\":\"domain\"},\"coloraxis\":{\"colorscale\":[[0.0,\"#0d0887\"],[0.1111111111111111,\"#46039f\"],[0.2222222222222222,\"#7201a8\"],[0.3333333333333333,\"#9c179e\"],[0.4444444444444444,\"#bd3786\"],[0.5555555555555556,\"#d8576b\"],[0.6666666666666666,\"#ed7953\"],[0.7777777777777778,\"#fb9f3a\"],[0.8888888888888888,\"#fdca26\"],[1.0,\"#f0f921\"]]},\"margin\":{\"t\":60},\"width\":1000,\"height\":800,\"title\":{\"text\":\"The Correlation Coefficient Of Stock Returns In a Portfolio\"}},                        {\"responsive\": true}                    ).then(function(){\n",
       "                            \n",
       "var gd = document.getElementById('31a8e4e1-0d65-49f9-9a2f-6313d8f54899');\n",
       "var x = new MutationObserver(function (mutations, observer) {{\n",
       "        var display = window.getComputedStyle(gd).display;\n",
       "        if (!display || display === 'none') {{\n",
       "            console.log([gd, 'removed!']);\n",
       "            Plotly.purge(gd);\n",
       "            observer.disconnect();\n",
       "        }}\n",
       "}});\n",
       "\n",
       "// Listen for the removal of the full notebook cells\n",
       "var notebookContainer = gd.closest('#notebook-container');\n",
       "if (notebookContainer) {{\n",
       "    x.observe(notebookContainer, {childList: true});\n",
       "}}\n",
       "\n",
       "// Listen for the clearing of the current output cell\n",
       "var outputEl = gd.closest('.output');\n",
       "if (outputEl) {{\n",
       "    x.observe(outputEl, {childList: true});\n",
       "}}\n",
       "\n",
       "                        })                };                });            </script>        </div>"
      ]
     },
     "metadata": {},
     "output_type": "display_data"
    }
   ],
   "source": [
    "fig = px.imshow(corr)\n",
    "fig.update_layout(width=1000, height=800)\n",
    "fig.update_layout(template = \"plotly_dark\", title = 'A heat Map Of Stock Returns In a Portfolio') \n",
    "fig.show()"
   ]
  },
  {
   "attachments": {},
   "cell_type": "markdown",
   "metadata": {},
   "source": [
    "### SCATTER MATRIX & SCATTER PLOT"
   ]
  },
  {
   "attachments": {},
   "cell_type": "markdown",
   "metadata": {},
   "source": [
    "Aside from a heatmap we can also use a scatter matrix to check the relationships between the stocks.\n",
    "\n",
    "A scatter matrix, also known as a scatterplot matrix or pair plot, is a graphical tool used to explore the relationships between multiple variables in a dataset. It consists of a grid of scatterplots, where each scatterplot represents the relationship between two variables."
   ]
  },
  {
   "attachments": {},
   "cell_type": "markdown",
   "metadata": {},
   "source": [
    "A scatter plot is a type of graph that displays the relationship between two variables. It consists of a horizontal x-axis and a vertical y-axis, where each data point is represented by a dot or marker on the plot. The position of each dot on the scatter plot corresponds to the values of the two variables being analyzed.\n",
    "\n",
    "Scatter plots are particularly useful for visualizing the correlation or relationship between two continuous variables. By plotting the data points on the scatter plot, it becomes easier to observe any patterns, trends, or associations between the variables. The general shape or direction of the points on the scatter plot can provide insights into the strength and direction of the relationship.\n"
   ]
  },
  {
   "cell_type": "code",
   "execution_count": 95,
   "metadata": {},
   "outputs": [
    {
     "data": {
      "application/vnd.plotly.v1+json": {
       "config": {
        "plotlyServerURL": "https://plot.ly"
       },
       "data": [
        {
         "dimensions": [
          {
           "axis": {
            "matches": true
           },
           "label": "META",
           "values": [
            -0.048919851612384324,
            0.02062955657697607,
            0.0020423570723544504,
            -0.013247851677478883,
            0.002521069707758228,
            -0.013937208774638554,
            -0.005162154341203817,
            0.002378291865764881,
            0.012294293859990146,
            -0.01147532653845873,
            0.03257786135645535,
            0.01386650547881274,
            0.002323622952479454,
            0.0032279068826102097,
            -0.05051485692229851,
            0.012568982082991065,
            -0.039185873580406705,
            -0.011367582931647191,
            0.015053526963856756,
            0.020983193281356893,
            0.01981025285723259,
            -0.005757998517495699,
            0.010790077693880074,
            0.012755596913971656,
            0.015721300233263902,
            -0.007357927270241871,
            -0.00959777935994377,
            -0.0230491116715702,
            0.00030513851015667726,
            0.04012334413221463,
            0.019566378079554747,
            -0.013235142524536725,
            -0.006385591602433571,
            -0.0061037844860868384,
            0.01951632851254903,
            -0.012423915954251075,
            -0.011026097938325208,
            0.011297249988417413,
            -0.023280368551700792,
            0.014739444446683736,
            -0.04014438769701845,
            -0.04271708597847701,
            -0.0006760832290780838,
            -0.011437282589672804,
            0.03594706984401963,
            0.015540952330480362,
            0.024007930543084477,
            -0.0022385958368837944,
            -0.00021225917974687647,
            0.01437449654094003,
            -0.00224221956380366,
            0.02373108904980903,
            -0.019785780287909893,
            -0.003314378536255158,
            -0.024985757884865567,
            0.026885849352599855,
            -0.01122082544292946,
            0.014495318052349715,
            0.032633345543763514,
            0.00011557151126107001,
            -0.009473741458414398,
            0.004140616142903397
           ]
          },
          {
           "axis": {
            "matches": true
           },
           "label": "AMZN",
           "values": [
            -0.028471678341373097,
            0.00978753803838428,
            0.012732016728672857,
            0.012391203105561077,
            -0.004181805261295635,
            -0.01286860335091844,
            0.0003172745113595443,
            0.011378601203982708,
            0.004743759227551214,
            0.03308023939004423,
            0.011064772529006062,
            -0.0007514424560826072,
            -0.008446195751808605,
            0.005841756945129006,
            -0.028954833317208384,
            -0.004550989805058192,
            0.01677526160393561,
            0.004863638245470758,
            0.01594115275917063,
            -0.021511245053778105,
            -0.01610709978002456,
            -0.0016154097805501921,
            0.021507811127532195,
            0.02748232410840923,
            0.01207642928374364,
            -0.008527948857282919,
            0.025007238016599764,
            -0.026334994227121156,
            -0.0027425987825921982,
            0.015162029225161966,
            0.0058238044631160335,
            -0.001404486161877938,
            0.0023441312596286235,
            0.04143700734081479,
            -0.005273114275827329,
            -0.02828730052206352,
            0.0020909577736383245,
            0.00010331533981333685,
            -0.021184701669844985,
            0.016267432688752415,
            -0.015302274022490625,
            -0.0180634873037836,
            -0.0018468889124809706,
            -0.013839076006382012,
            0.011086219388703134,
            0.027986504263362688,
            -0.00003689871657430732,
            -0.011279643604146683,
            -0.011247564604614624,
            -0.015356076499860039,
            -0.0028071293797337082,
            0.024977573145925636,
            -0.025641174633125208,
            0.00678920370502567,
            -0.017283556389377508,
            0.019978649621920752,
            0.0036381058820253998,
            0.0001841364158221559,
            -0.008178022851368039,
            0.005843719029521299,
            -0.0085549217086347,
            -0.0032890070546229833
           ]
          },
          {
           "axis": {
            "matches": true
           },
           "label": "NFLX",
           "values": [
            -0.01598311740669034,
            0.05214224454406269,
            0.006757892981904101,
            -0.011344078042489492,
            0.0012819460154962492,
            -0.008883121037757902,
            -0.003349029821900662,
            0.00771275211282485,
            0.006415107286420474,
            -0.008693609769246047,
            0.0154068869698889,
            0.0016145419756039558,
            -0.02169011792106812,
            0.044821892439330435,
            0.01779052089858002,
            0.010349203562767917,
            -0.0046749154912132385,
            -0.008376767273208019,
            0.01678936398017883,
            0.024122854476809508,
            -0.013240449480324545,
            -0.005064832998500357,
            0.015596422978730429,
            -0.028897636531460713,
            -0.033931856496892676,
            0.008873879953978925,
            0.00696903514049052,
            -0.01384170067381607,
            0.01649386218834592,
            0.03806376047205662,
            -0.00480503996733872,
            0.0118793621968738,
            0.0062408755818716966,
            -0.013980226511912663,
            -0.004721315571490692,
            -0.02887444893696056,
            -0.00779735217423394,
            0.006467266740878941,
            0.011165347895951694,
            -0.0027041460148987673,
            -0.033050134902731676,
            -0.03759153133673543,
            -0.0021044220130841396,
            -0.02326141823900496,
            0.017537736822547112,
            0.021038395594957127,
            0.0039962913323698945,
            -0.027194014496723762,
            0.0010801524460413159,
            -0.011607716538057367,
            -0.010867419860312477,
            0.011789474586699322,
            -0.023105878911224953,
            -0.007325850349759966,
            0.011947590883330195,
            0.01882977879150105,
            0.015407008509426223,
            -0.0002441446035595929,
            -0.0015796246411107218,
            -0.003930671261292984,
            -0.0002784364742586254,
            0.0025388162674182535
           ]
          },
          {
           "axis": {
            "matches": true
           },
           "label": "GOOG",
           "values": [
            -0.019767295978645683,
            0.018031641868068604,
            0.008643177160928772,
            0.013334137631931586,
            0.006254233740982107,
            -0.008628663505002354,
            -0.015373025580498245,
            0.008682396569587914,
            0.025467794216354367,
            0.001859817296365529,
            0.009073526844320945,
            0.00602621885506327,
            -0.009783015662055305,
            0.0025665066912496926,
            -0.029104130128649763,
            0.0010675923903855633,
            0.006478220602120333,
            0.04836694945695341,
            -0.0020386039455109195,
            0.014654824047089177,
            -0.030326266548866943,
            0.01452977928171606,
            0.006355187075844038,
            0.012896011020341103,
            0.003752941911757901,
            0.0007404409805558121,
            -0.0006896269884244521,
            -0.017571348972257872,
            0.0008320080522146167,
            0.019744674090181658,
            -0.001720680396285701,
            -0.0020884974625884345,
            -0.00009396259613125846,
            0.011049115220125971,
            -0.005019608954865751,
            -0.01916602211780316,
            -0.0021859256886936906,
            -0.0002691865046584585,
            -0.026660071606874003,
            0.023164283453649848,
            -0.025062640152544002,
            -0.00585460125577697,
            0.015241765583886346,
            -0.008735863812474265,
            0.008953105295237629,
            0.029486153584624253,
            0.004620520897325342,
            -0.004131924875548254,
            0.003841844579923759,
            -0.013253773131292279,
            -0.011819634370268228,
            0.016541261266040275,
            -0.017167839690898967,
            -0.014053633449836789,
            -0.0028114904821024966,
            0.012773743158932538,
            0.018918948943754232,
            0.0013167608990234392,
            0.0062625925127430815,
            -0.010914181469367512,
            0.00038582497987005304,
            -0.0034265083786925166
           ]
          },
          {
           "axis": {
            "matches": true
           },
           "label": "MSFT",
           "values": [
            -0.02071949618408042,
            0.019957043802311336,
            0.015064434626564038,
            0.005936409619350824,
            0,
            -0.0021029851789966525,
            -0.004588181688665038,
            0.011711388880802254,
            0.021733816725583832,
            0.004822618656020294,
            0.010124542090195865,
            0.0030590123621714316,
            -0.002660400589054257,
            0.010897524859524665,
            -0.005148678633856707,
            -0.0033316434927850302,
            0.006425854189529012,
            0.04211409823740153,
            0.0036515587313710185,
            0.02241379425712786,
            -0.006784745877758236,
            0.011415497604768454,
            0.002611764817567863,
            0.007305346631489407,
            -0.0011292741515284144,
            0.0027671463804104235,
            -0.003086128687416867,
            -0.015329548091101985,
            0.00492740300405492,
            0.01290482157799877,
            -0.0019302505799131398,
            0.010236007264316838,
            0.0006786155111178083,
            0.006339761921949183,
            0.005391789853684603,
            -0.009559655482947349,
            -0.006326698849462575,
            0.0006811389133873913,
            -0.024355572602966613,
            0.021081063371984454,
            -0.017942560638251948,
            -0.001542682136238871,
            -0.0017875282005661575,
            -0.019666743092401906,
            0.009845053984725016,
            0.026763415460508977,
            0.00014932605528983345,
            -0.005582630207476846,
            0.02833994292376163,
            -0.009166913244505026,
            -0.0325867894430365,
            0.019217776329997438,
            -0.029134952436052464,
            -0.003385726814405854,
            -0.012013405787924536,
            0.023068886934089816,
            0.018057447390953385,
            0.004471790889788441,
            0.023185669273500187,
            -0.003504117885271052,
            0.002051241496276335,
            -0.007691207012039292
           ]
          },
          {
           "axis": {
            "matches": true
           },
           "label": "NVDA",
           "values": [
            -0.04869347429134485,
            0.03643826853613197,
            0.01217540307715348,
            0.018115968502323776,
            -0.011577643594937626,
            -0.006528755088442972,
            -0.0011596742813123617,
            0.01296501432041297,
            0.038540519870591705,
            0.005334276053703624,
            0.016466977574704833,
            0.0030600417873420938,
            -0.008389408599537962,
            0.02664784584045754,
            0.0014983983578480409,
            0.019361096260018806,
            0.06695156657579471,
            -0.010761823390808778,
            0.0200401023233443,
            0.025099214151881544,
            0.01016919943562744,
            0.022224961677530963,
            0.007461976614240529,
            0.12042232996938407,
            -0.0016441754551344001,
            0.03535900174804185,
            -0.004772018547280488,
            -0.039077701617472704,
            0.031603453812395266,
            0,
            -0.012010674457012094,
            0.005928340101407192,
            -0.031188747390812677,
            0.08249871116648277,
            0.04135768772156023,
            -0.031196154094481954,
            -0.006571495611895517,
            0.029231915920403972,
            -0.035838824136598335,
            0.05945474622572022,
            -0.020973176634986768,
            -0.03786119186923165,
            0.02198187428626963,
            -0.04460560660066393,
            -0.021372972155144443,
            0.07956846347091573,
            -0.018533723876005048,
            -0.041978421717168035,
            -0.009576816840672464,
            -0.06745496267941731,
            0.006249885409546074,
            0.07488449328091273,
            -0.06802591990922979,
            -0.02064319711256979,
            -0.0029496330459123365,
            0.04891956131064523,
            0.011178151767525568,
            0.00816301590776991,
            0.04402851331512281,
            -0.0201326604708425,
            -0.01058635696080501,
            -0.013832864471289064
           ]
          },
          {
           "axis": {
            "matches": true
           },
           "label": "TSLA",
           "values": [
            0.008139621398127295,
            -0.001202850103416031,
            0.0027671424905384434,
            0.013874260399496352,
            -0.010231834522373306,
            0.008211528565575943,
            0.01740026730336086,
            0.006652379022320076,
            0.008926471099504285,
            0.030195999501915205,
            0.03212224493643445,
            -0.006711860640270406,
            0.0017703140411262641,
            0.03257101073349511,
            0.01753910755951127,
            0.12661598362581983,
            -0.006274050392506725,
            0.019078438805710585,
            0.03775074872979922,
            0.03431629436179362,
            0.0849102277797451,
            -0.03027499529203259,
            0.03571673801973452,
            0.013222297879683653,
            -0.006358169933862068,
            -0.04840070953386311,
            -0.11990303254359846,
            0.043429451929624774,
            -0.004157528824601631,
            -0.02829310201599211,
            -0.01938224449936754,
            0.04079376842602822,
            0.032501208284666294,
            0.006767610267700563,
            0.03710391800920432,
            0.017422122080461122,
            -0.041352932727292124,
            0.006284772484400847,
            -0.030537595031082,
            0.050900227900227524,
            0.006833823403773698,
            -0.04346763456194869,
            -0.00949773919092467,
            -0.06419876077133224,
            -0.005872086315763081,
            0.04235837141187604,
            0.016363195584229162,
            -0.06095644581905246,
            0.013179927022311633,
            -0.04977243020772948,
            -0.008174578197676419,
            0.018236618133556703,
            -0.050277132790258694,
            0.006095449446181567,
            -0.03498927121736173,
            0.04288056302579579,
            0.07494705523716627,
            0.05761886305530961,
            0.025248391499066658,
            -0.005000275342793459,
            -0.0020947102761840197,
            -0.014592268383646134
           ]
          },
          {
           "axis": {
            "matches": true
           },
           "label": "^GSPC",
           "values": [
            -0.012985898136748442,
            0.010524514660609219,
            0.004102792854185466,
            0.008298280656405366,
            -0.0019137230947889883,
            -0.006865763848056816,
            -0.0024167805585421087,
            0.00302251448379387,
            0.01706310194558336,
            0.007460210377712606,
            0.00337476955709759,
            0.007393339551406308,
            0.0036640298040166996,
            0.002995871849622578,
            -0.0010725536274130976,
            0.004748196569493546,
            0.0018197952535197182,
            -0.005051568068462853,
            0.009829281576461124,
            0.001949334719149265,
            0.0018000771431341267,
            0.0036803630854131963,
            0.006461279195357994,
            0.004181942361150437,
            0.003732799652949259,
            0.0008877879113036169,
            -0.003498775895770745,
            -0.008225823395229703,
            0.0005509400447352153,
            0.007222656026415475,
            -0.000010739820344718431,
            0.003865229864862485,
            -0.002601625374463401,
            0.0033847802152713324,
            -0.001398665559303236,
            -0.0031971365563219223,
            0.001657132912945114,
            0.0022938506357221833,
            -0.022724822637582465,
            0.013200199537034996,
            -0.01896131033450521,
            -0.011815187417889228,
            0.01419443613158311,
            -0.008448563730297565,
            0.011730872577451423,
            0.020707080374404274,
            0.0030852853123166657,
            -0.007181080169894716,
            0.009549073338481762,
            -0.009136167611567658,
            -0.0074706775774360246,
            0.016348464630746795,
            -0.008743415379980468,
            -0.010287680637092622,
            -0.01138805785140995,
            0.017777934551572505,
            0.010180197220578835,
            0.006223699921661829,
            0.01383893524747526,
            -0.0010101548486260992,
            0.0014018951394270118,
            -0.0029897555945093135
           ]
          }
         ],
         "hovertemplate": "%{xaxis.title.text}=%{x}<br>%{yaxis.title.text}=%{y}<extra></extra>",
         "legendgroup": "",
         "marker": {
          "color": "firebrick",
          "symbol": "circle"
         },
         "name": "",
         "showlegend": false,
         "type": "splom"
        }
       ],
       "layout": {
        "dragmode": "select",
        "height": 800,
        "legend": {
         "tracegroupgap": 0
        },
        "template": {
         "data": {
          "bar": [
           {
            "error_x": {
             "color": "#f2f5fa"
            },
            "error_y": {
             "color": "#f2f5fa"
            },
            "marker": {
             "line": {
              "color": "rgb(17,17,17)",
              "width": 0.5
             },
             "pattern": {
              "fillmode": "overlay",
              "size": 10,
              "solidity": 0.2
             }
            },
            "type": "bar"
           }
          ],
          "barpolar": [
           {
            "marker": {
             "line": {
              "color": "rgb(17,17,17)",
              "width": 0.5
             },
             "pattern": {
              "fillmode": "overlay",
              "size": 10,
              "solidity": 0.2
             }
            },
            "type": "barpolar"
           }
          ],
          "carpet": [
           {
            "aaxis": {
             "endlinecolor": "#A2B1C6",
             "gridcolor": "#506784",
             "linecolor": "#506784",
             "minorgridcolor": "#506784",
             "startlinecolor": "#A2B1C6"
            },
            "baxis": {
             "endlinecolor": "#A2B1C6",
             "gridcolor": "#506784",
             "linecolor": "#506784",
             "minorgridcolor": "#506784",
             "startlinecolor": "#A2B1C6"
            },
            "type": "carpet"
           }
          ],
          "choropleth": [
           {
            "colorbar": {
             "outlinewidth": 0,
             "ticks": ""
            },
            "type": "choropleth"
           }
          ],
          "contour": [
           {
            "colorbar": {
             "outlinewidth": 0,
             "ticks": ""
            },
            "colorscale": [
             [
              0,
              "#0d0887"
             ],
             [
              0.1111111111111111,
              "#46039f"
             ],
             [
              0.2222222222222222,
              "#7201a8"
             ],
             [
              0.3333333333333333,
              "#9c179e"
             ],
             [
              0.4444444444444444,
              "#bd3786"
             ],
             [
              0.5555555555555556,
              "#d8576b"
             ],
             [
              0.6666666666666666,
              "#ed7953"
             ],
             [
              0.7777777777777778,
              "#fb9f3a"
             ],
             [
              0.8888888888888888,
              "#fdca26"
             ],
             [
              1,
              "#f0f921"
             ]
            ],
            "type": "contour"
           }
          ],
          "contourcarpet": [
           {
            "colorbar": {
             "outlinewidth": 0,
             "ticks": ""
            },
            "type": "contourcarpet"
           }
          ],
          "heatmap": [
           {
            "colorbar": {
             "outlinewidth": 0,
             "ticks": ""
            },
            "colorscale": [
             [
              0,
              "#0d0887"
             ],
             [
              0.1111111111111111,
              "#46039f"
             ],
             [
              0.2222222222222222,
              "#7201a8"
             ],
             [
              0.3333333333333333,
              "#9c179e"
             ],
             [
              0.4444444444444444,
              "#bd3786"
             ],
             [
              0.5555555555555556,
              "#d8576b"
             ],
             [
              0.6666666666666666,
              "#ed7953"
             ],
             [
              0.7777777777777778,
              "#fb9f3a"
             ],
             [
              0.8888888888888888,
              "#fdca26"
             ],
             [
              1,
              "#f0f921"
             ]
            ],
            "type": "heatmap"
           }
          ],
          "heatmapgl": [
           {
            "colorbar": {
             "outlinewidth": 0,
             "ticks": ""
            },
            "colorscale": [
             [
              0,
              "#0d0887"
             ],
             [
              0.1111111111111111,
              "#46039f"
             ],
             [
              0.2222222222222222,
              "#7201a8"
             ],
             [
              0.3333333333333333,
              "#9c179e"
             ],
             [
              0.4444444444444444,
              "#bd3786"
             ],
             [
              0.5555555555555556,
              "#d8576b"
             ],
             [
              0.6666666666666666,
              "#ed7953"
             ],
             [
              0.7777777777777778,
              "#fb9f3a"
             ],
             [
              0.8888888888888888,
              "#fdca26"
             ],
             [
              1,
              "#f0f921"
             ]
            ],
            "type": "heatmapgl"
           }
          ],
          "histogram": [
           {
            "marker": {
             "pattern": {
              "fillmode": "overlay",
              "size": 10,
              "solidity": 0.2
             }
            },
            "type": "histogram"
           }
          ],
          "histogram2d": [
           {
            "colorbar": {
             "outlinewidth": 0,
             "ticks": ""
            },
            "colorscale": [
             [
              0,
              "#0d0887"
             ],
             [
              0.1111111111111111,
              "#46039f"
             ],
             [
              0.2222222222222222,
              "#7201a8"
             ],
             [
              0.3333333333333333,
              "#9c179e"
             ],
             [
              0.4444444444444444,
              "#bd3786"
             ],
             [
              0.5555555555555556,
              "#d8576b"
             ],
             [
              0.6666666666666666,
              "#ed7953"
             ],
             [
              0.7777777777777778,
              "#fb9f3a"
             ],
             [
              0.8888888888888888,
              "#fdca26"
             ],
             [
              1,
              "#f0f921"
             ]
            ],
            "type": "histogram2d"
           }
          ],
          "histogram2dcontour": [
           {
            "colorbar": {
             "outlinewidth": 0,
             "ticks": ""
            },
            "colorscale": [
             [
              0,
              "#0d0887"
             ],
             [
              0.1111111111111111,
              "#46039f"
             ],
             [
              0.2222222222222222,
              "#7201a8"
             ],
             [
              0.3333333333333333,
              "#9c179e"
             ],
             [
              0.4444444444444444,
              "#bd3786"
             ],
             [
              0.5555555555555556,
              "#d8576b"
             ],
             [
              0.6666666666666666,
              "#ed7953"
             ],
             [
              0.7777777777777778,
              "#fb9f3a"
             ],
             [
              0.8888888888888888,
              "#fdca26"
             ],
             [
              1,
              "#f0f921"
             ]
            ],
            "type": "histogram2dcontour"
           }
          ],
          "mesh3d": [
           {
            "colorbar": {
             "outlinewidth": 0,
             "ticks": ""
            },
            "type": "mesh3d"
           }
          ],
          "parcoords": [
           {
            "line": {
             "colorbar": {
              "outlinewidth": 0,
              "ticks": ""
             }
            },
            "type": "parcoords"
           }
          ],
          "pie": [
           {
            "automargin": true,
            "type": "pie"
           }
          ],
          "scatter": [
           {
            "marker": {
             "line": {
              "color": "#283442"
             }
            },
            "type": "scatter"
           }
          ],
          "scatter3d": [
           {
            "line": {
             "colorbar": {
              "outlinewidth": 0,
              "ticks": ""
             }
            },
            "marker": {
             "colorbar": {
              "outlinewidth": 0,
              "ticks": ""
             }
            },
            "type": "scatter3d"
           }
          ],
          "scattercarpet": [
           {
            "marker": {
             "colorbar": {
              "outlinewidth": 0,
              "ticks": ""
             }
            },
            "type": "scattercarpet"
           }
          ],
          "scattergeo": [
           {
            "marker": {
             "colorbar": {
              "outlinewidth": 0,
              "ticks": ""
             }
            },
            "type": "scattergeo"
           }
          ],
          "scattergl": [
           {
            "marker": {
             "line": {
              "color": "#283442"
             }
            },
            "type": "scattergl"
           }
          ],
          "scattermapbox": [
           {
            "marker": {
             "colorbar": {
              "outlinewidth": 0,
              "ticks": ""
             }
            },
            "type": "scattermapbox"
           }
          ],
          "scatterpolar": [
           {
            "marker": {
             "colorbar": {
              "outlinewidth": 0,
              "ticks": ""
             }
            },
            "type": "scatterpolar"
           }
          ],
          "scatterpolargl": [
           {
            "marker": {
             "colorbar": {
              "outlinewidth": 0,
              "ticks": ""
             }
            },
            "type": "scatterpolargl"
           }
          ],
          "scatterternary": [
           {
            "marker": {
             "colorbar": {
              "outlinewidth": 0,
              "ticks": ""
             }
            },
            "type": "scatterternary"
           }
          ],
          "surface": [
           {
            "colorbar": {
             "outlinewidth": 0,
             "ticks": ""
            },
            "colorscale": [
             [
              0,
              "#0d0887"
             ],
             [
              0.1111111111111111,
              "#46039f"
             ],
             [
              0.2222222222222222,
              "#7201a8"
             ],
             [
              0.3333333333333333,
              "#9c179e"
             ],
             [
              0.4444444444444444,
              "#bd3786"
             ],
             [
              0.5555555555555556,
              "#d8576b"
             ],
             [
              0.6666666666666666,
              "#ed7953"
             ],
             [
              0.7777777777777778,
              "#fb9f3a"
             ],
             [
              0.8888888888888888,
              "#fdca26"
             ],
             [
              1,
              "#f0f921"
             ]
            ],
            "type": "surface"
           }
          ],
          "table": [
           {
            "cells": {
             "fill": {
              "color": "#506784"
             },
             "line": {
              "color": "rgb(17,17,17)"
             }
            },
            "header": {
             "fill": {
              "color": "#2a3f5f"
             },
             "line": {
              "color": "rgb(17,17,17)"
             }
            },
            "type": "table"
           }
          ]
         },
         "layout": {
          "annotationdefaults": {
           "arrowcolor": "#f2f5fa",
           "arrowhead": 0,
           "arrowwidth": 1
          },
          "autotypenumbers": "strict",
          "coloraxis": {
           "colorbar": {
            "outlinewidth": 0,
            "ticks": ""
           }
          },
          "colorscale": {
           "diverging": [
            [
             0,
             "#8e0152"
            ],
            [
             0.1,
             "#c51b7d"
            ],
            [
             0.2,
             "#de77ae"
            ],
            [
             0.3,
             "#f1b6da"
            ],
            [
             0.4,
             "#fde0ef"
            ],
            [
             0.5,
             "#f7f7f7"
            ],
            [
             0.6,
             "#e6f5d0"
            ],
            [
             0.7,
             "#b8e186"
            ],
            [
             0.8,
             "#7fbc41"
            ],
            [
             0.9,
             "#4d9221"
            ],
            [
             1,
             "#276419"
            ]
           ],
           "sequential": [
            [
             0,
             "#0d0887"
            ],
            [
             0.1111111111111111,
             "#46039f"
            ],
            [
             0.2222222222222222,
             "#7201a8"
            ],
            [
             0.3333333333333333,
             "#9c179e"
            ],
            [
             0.4444444444444444,
             "#bd3786"
            ],
            [
             0.5555555555555556,
             "#d8576b"
            ],
            [
             0.6666666666666666,
             "#ed7953"
            ],
            [
             0.7777777777777778,
             "#fb9f3a"
            ],
            [
             0.8888888888888888,
             "#fdca26"
            ],
            [
             1,
             "#f0f921"
            ]
           ],
           "sequentialminus": [
            [
             0,
             "#0d0887"
            ],
            [
             0.1111111111111111,
             "#46039f"
            ],
            [
             0.2222222222222222,
             "#7201a8"
            ],
            [
             0.3333333333333333,
             "#9c179e"
            ],
            [
             0.4444444444444444,
             "#bd3786"
            ],
            [
             0.5555555555555556,
             "#d8576b"
            ],
            [
             0.6666666666666666,
             "#ed7953"
            ],
            [
             0.7777777777777778,
             "#fb9f3a"
            ],
            [
             0.8888888888888888,
             "#fdca26"
            ],
            [
             1,
             "#f0f921"
            ]
           ]
          },
          "colorway": [
           "#636efa",
           "#EF553B",
           "#00cc96",
           "#ab63fa",
           "#FFA15A",
           "#19d3f3",
           "#FF6692",
           "#B6E880",
           "#FF97FF",
           "#FECB52"
          ],
          "font": {
           "color": "#f2f5fa"
          },
          "geo": {
           "bgcolor": "rgb(17,17,17)",
           "lakecolor": "rgb(17,17,17)",
           "landcolor": "rgb(17,17,17)",
           "showlakes": true,
           "showland": true,
           "subunitcolor": "#506784"
          },
          "hoverlabel": {
           "align": "left"
          },
          "hovermode": "closest",
          "mapbox": {
           "style": "dark"
          },
          "paper_bgcolor": "rgb(17,17,17)",
          "plot_bgcolor": "rgb(17,17,17)",
          "polar": {
           "angularaxis": {
            "gridcolor": "#506784",
            "linecolor": "#506784",
            "ticks": ""
           },
           "bgcolor": "rgb(17,17,17)",
           "radialaxis": {
            "gridcolor": "#506784",
            "linecolor": "#506784",
            "ticks": ""
           }
          },
          "scene": {
           "xaxis": {
            "backgroundcolor": "rgb(17,17,17)",
            "gridcolor": "#506784",
            "gridwidth": 2,
            "linecolor": "#506784",
            "showbackground": true,
            "ticks": "",
            "zerolinecolor": "#C8D4E3"
           },
           "yaxis": {
            "backgroundcolor": "rgb(17,17,17)",
            "gridcolor": "#506784",
            "gridwidth": 2,
            "linecolor": "#506784",
            "showbackground": true,
            "ticks": "",
            "zerolinecolor": "#C8D4E3"
           },
           "zaxis": {
            "backgroundcolor": "rgb(17,17,17)",
            "gridcolor": "#506784",
            "gridwidth": 2,
            "linecolor": "#506784",
            "showbackground": true,
            "ticks": "",
            "zerolinecolor": "#C8D4E3"
           }
          },
          "shapedefaults": {
           "line": {
            "color": "#f2f5fa"
           }
          },
          "sliderdefaults": {
           "bgcolor": "#C8D4E3",
           "bordercolor": "rgb(17,17,17)",
           "borderwidth": 1,
           "tickwidth": 0
          },
          "ternary": {
           "aaxis": {
            "gridcolor": "#506784",
            "linecolor": "#506784",
            "ticks": ""
           },
           "baxis": {
            "gridcolor": "#506784",
            "linecolor": "#506784",
            "ticks": ""
           },
           "bgcolor": "rgb(17,17,17)",
           "caxis": {
            "gridcolor": "#506784",
            "linecolor": "#506784",
            "ticks": ""
           }
          },
          "title": {
           "x": 0.05
          },
          "updatemenudefaults": {
           "bgcolor": "#506784",
           "borderwidth": 0
          },
          "xaxis": {
           "automargin": true,
           "gridcolor": "#283442",
           "linecolor": "#506784",
           "ticks": "",
           "title": {
            "standoff": 15
           },
           "zerolinecolor": "#283442",
           "zerolinewidth": 2
          },
          "yaxis": {
           "automargin": true,
           "gridcolor": "#283442",
           "linecolor": "#506784",
           "ticks": "",
           "title": {
            "standoff": 15
           },
           "zerolinecolor": "#283442",
           "zerolinewidth": 2
          }
         }
        },
        "title": {
         "text": "Scatter Matrix Of Stock Returns In A Portfolio"
        },
        "width": 1200
       }
      },
      "text/html": [
       "<div>                            <div id=\"62127b6e-5fb8-489d-a25a-543eb1fe20ac\" class=\"plotly-graph-div\" style=\"height:800px; width:1200px;\"></div>            <script type=\"text/javascript\">                require([\"plotly\"], function(Plotly) {                    window.PLOTLYENV=window.PLOTLYENV || {};                                    if (document.getElementById(\"62127b6e-5fb8-489d-a25a-543eb1fe20ac\")) {                    Plotly.newPlot(                        \"62127b6e-5fb8-489d-a25a-543eb1fe20ac\",                        [{\"dimensions\":[{\"axis\":{\"matches\":true},\"label\":\"META\",\"values\":[-0.048919851612384324,0.02062955657697607,0.0020423570723544504,-0.013247851677478883,0.002521069707758228,-0.013937208774638554,-0.005162154341203817,0.002378291865764881,0.012294293859990146,-0.01147532653845873,0.03257786135645535,0.01386650547881274,0.002323622952479454,0.0032279068826102097,-0.05051485692229851,0.012568982082991065,-0.039185873580406705,-0.011367582931647191,0.015053526963856756,0.020983193281356893,0.01981025285723259,-0.005757998517495699,0.010790077693880074,0.012755596913971656,0.015721300233263902,-0.007357927270241871,-0.00959777935994377,-0.0230491116715702,0.00030513851015667726,0.04012334413221463,0.019566378079554747,-0.013235142524536725,-0.006385591602433571,-0.0061037844860868384,0.01951632851254903,-0.012423915954251075,-0.011026097938325208,0.011297249988417413,-0.023280368551700792,0.014739444446683736,-0.04014438769701845,-0.04271708597847701,-0.0006760832290780838,-0.011437282589672804,0.03594706984401963,0.015540952330480362,0.024007930543084477,-0.0022385958368837944,-0.00021225917974687647,0.01437449654094003,-0.00224221956380366,0.02373108904980903,-0.019785780287909893,-0.003314378536255158,-0.024985757884865567,0.026885849352599855,-0.01122082544292946,0.014495318052349715,0.032633345543763514,0.00011557151126107001,-0.009473741458414398,0.004140616142903397]},{\"axis\":{\"matches\":true},\"label\":\"AMZN\",\"values\":[-0.028471678341373097,0.00978753803838428,0.012732016728672857,0.012391203105561077,-0.004181805261295635,-0.01286860335091844,0.0003172745113595443,0.011378601203982708,0.004743759227551214,0.03308023939004423,0.011064772529006062,-0.0007514424560826072,-0.008446195751808605,0.005841756945129006,-0.028954833317208384,-0.004550989805058192,0.01677526160393561,0.004863638245470758,0.01594115275917063,-0.021511245053778105,-0.01610709978002456,-0.0016154097805501921,0.021507811127532195,0.02748232410840923,0.01207642928374364,-0.008527948857282919,0.025007238016599764,-0.026334994227121156,-0.0027425987825921982,0.015162029225161966,0.0058238044631160335,-0.001404486161877938,0.0023441312596286235,0.04143700734081479,-0.005273114275827329,-0.02828730052206352,0.0020909577736383245,0.00010331533981333685,-0.021184701669844985,0.016267432688752415,-0.015302274022490625,-0.0180634873037836,-0.0018468889124809706,-0.013839076006382012,0.011086219388703134,0.027986504263362688,-3.689871657430732e-05,-0.011279643604146683,-0.011247564604614624,-0.015356076499860039,-0.0028071293797337082,0.024977573145925636,-0.025641174633125208,0.00678920370502567,-0.017283556389377508,0.019978649621920752,0.0036381058820253998,0.0001841364158221559,-0.008178022851368039,0.005843719029521299,-0.0085549217086347,-0.0032890070546229833]},{\"axis\":{\"matches\":true},\"label\":\"NFLX\",\"values\":[-0.01598311740669034,0.05214224454406269,0.006757892981904101,-0.011344078042489492,0.0012819460154962492,-0.008883121037757902,-0.003349029821900662,0.00771275211282485,0.006415107286420474,-0.008693609769246047,0.0154068869698889,0.0016145419756039558,-0.02169011792106812,0.044821892439330435,0.01779052089858002,0.010349203562767917,-0.0046749154912132385,-0.008376767273208019,0.01678936398017883,0.024122854476809508,-0.013240449480324545,-0.005064832998500357,0.015596422978730429,-0.028897636531460713,-0.033931856496892676,0.008873879953978925,0.00696903514049052,-0.01384170067381607,0.01649386218834592,0.03806376047205662,-0.00480503996733872,0.0118793621968738,0.0062408755818716966,-0.013980226511912663,-0.004721315571490692,-0.02887444893696056,-0.00779735217423394,0.006467266740878941,0.011165347895951694,-0.0027041460148987673,-0.033050134902731676,-0.03759153133673543,-0.0021044220130841396,-0.02326141823900496,0.017537736822547112,0.021038395594957127,0.0039962913323698945,-0.027194014496723762,0.0010801524460413159,-0.011607716538057367,-0.010867419860312477,0.011789474586699322,-0.023105878911224953,-0.007325850349759966,0.011947590883330195,0.01882977879150105,0.015407008509426223,-0.0002441446035595929,-0.0015796246411107218,-0.003930671261292984,-0.0002784364742586254,0.0025388162674182535]},{\"axis\":{\"matches\":true},\"label\":\"GOOG\",\"values\":[-0.019767295978645683,0.018031641868068604,0.008643177160928772,0.013334137631931586,0.006254233740982107,-0.008628663505002354,-0.015373025580498245,0.008682396569587914,0.025467794216354367,0.001859817296365529,0.009073526844320945,0.00602621885506327,-0.009783015662055305,0.0025665066912496926,-0.029104130128649763,0.0010675923903855633,0.006478220602120333,0.04836694945695341,-0.0020386039455109195,0.014654824047089177,-0.030326266548866943,0.01452977928171606,0.006355187075844038,0.012896011020341103,0.003752941911757901,0.0007404409805558121,-0.0006896269884244521,-0.017571348972257872,0.0008320080522146167,0.019744674090181658,-0.001720680396285701,-0.0020884974625884345,-9.396259613125846e-05,0.011049115220125971,-0.005019608954865751,-0.01916602211780316,-0.0021859256886936906,-0.0002691865046584585,-0.026660071606874003,0.023164283453649848,-0.025062640152544002,-0.00585460125577697,0.015241765583886346,-0.008735863812474265,0.008953105295237629,0.029486153584624253,0.004620520897325342,-0.004131924875548254,0.003841844579923759,-0.013253773131292279,-0.011819634370268228,0.016541261266040275,-0.017167839690898967,-0.014053633449836789,-0.0028114904821024966,0.012773743158932538,0.018918948943754232,0.0013167608990234392,0.0062625925127430815,-0.010914181469367512,0.00038582497987005304,-0.0034265083786925166]},{\"axis\":{\"matches\":true},\"label\":\"MSFT\",\"values\":[-0.02071949618408042,0.019957043802311336,0.015064434626564038,0.005936409619350824,0.0,-0.0021029851789966525,-0.004588181688665038,0.011711388880802254,0.021733816725583832,0.004822618656020294,0.010124542090195865,0.0030590123621714316,-0.002660400589054257,0.010897524859524665,-0.005148678633856707,-0.0033316434927850302,0.006425854189529012,0.04211409823740153,0.0036515587313710185,0.02241379425712786,-0.006784745877758236,0.011415497604768454,0.002611764817567863,0.007305346631489407,-0.0011292741515284144,0.0027671463804104235,-0.003086128687416867,-0.015329548091101985,0.00492740300405492,0.01290482157799877,-0.0019302505799131398,0.010236007264316838,0.0006786155111178083,0.006339761921949183,0.005391789853684603,-0.009559655482947349,-0.006326698849462575,0.0006811389133873913,-0.024355572602966613,0.021081063371984454,-0.017942560638251948,-0.001542682136238871,-0.0017875282005661575,-0.019666743092401906,0.009845053984725016,0.026763415460508977,0.00014932605528983345,-0.005582630207476846,0.02833994292376163,-0.009166913244505026,-0.0325867894430365,0.019217776329997438,-0.029134952436052464,-0.003385726814405854,-0.012013405787924536,0.023068886934089816,0.018057447390953385,0.004471790889788441,0.023185669273500187,-0.003504117885271052,0.002051241496276335,-0.007691207012039292]},{\"axis\":{\"matches\":true},\"label\":\"NVDA\",\"values\":[-0.04869347429134485,0.03643826853613197,0.01217540307715348,0.018115968502323776,-0.011577643594937626,-0.006528755088442972,-0.0011596742813123617,0.01296501432041297,0.038540519870591705,0.005334276053703624,0.016466977574704833,0.0030600417873420938,-0.008389408599537962,0.02664784584045754,0.0014983983578480409,0.019361096260018806,0.06695156657579471,-0.010761823390808778,0.0200401023233443,0.025099214151881544,0.01016919943562744,0.022224961677530963,0.007461976614240529,0.12042232996938407,-0.0016441754551344001,0.03535900174804185,-0.004772018547280488,-0.039077701617472704,0.031603453812395266,0.0,-0.012010674457012094,0.005928340101407192,-0.031188747390812677,0.08249871116648277,0.04135768772156023,-0.031196154094481954,-0.006571495611895517,0.029231915920403972,-0.035838824136598335,0.05945474622572022,-0.020973176634986768,-0.03786119186923165,0.02198187428626963,-0.04460560660066393,-0.021372972155144443,0.07956846347091573,-0.018533723876005048,-0.041978421717168035,-0.009576816840672464,-0.06745496267941731,0.006249885409546074,0.07488449328091273,-0.06802591990922979,-0.02064319711256979,-0.0029496330459123365,0.04891956131064523,0.011178151767525568,0.00816301590776991,0.04402851331512281,-0.0201326604708425,-0.01058635696080501,-0.013832864471289064]},{\"axis\":{\"matches\":true},\"label\":\"TSLA\",\"values\":[0.008139621398127295,-0.001202850103416031,0.0027671424905384434,0.013874260399496352,-0.010231834522373306,0.008211528565575943,0.01740026730336086,0.006652379022320076,0.008926471099504285,0.030195999501915205,0.03212224493643445,-0.006711860640270406,0.0017703140411262641,0.03257101073349511,0.01753910755951127,0.12661598362581983,-0.006274050392506725,0.019078438805710585,0.03775074872979922,0.03431629436179362,0.0849102277797451,-0.03027499529203259,0.03571673801973452,0.013222297879683653,-0.006358169933862068,-0.04840070953386311,-0.11990303254359846,0.043429451929624774,-0.004157528824601631,-0.02829310201599211,-0.01938224449936754,0.04079376842602822,0.032501208284666294,0.006767610267700563,0.03710391800920432,0.017422122080461122,-0.041352932727292124,0.006284772484400847,-0.030537595031082,0.050900227900227524,0.006833823403773698,-0.04346763456194869,-0.00949773919092467,-0.06419876077133224,-0.005872086315763081,0.04235837141187604,0.016363195584229162,-0.06095644581905246,0.013179927022311633,-0.04977243020772948,-0.008174578197676419,0.018236618133556703,-0.050277132790258694,0.006095449446181567,-0.03498927121736173,0.04288056302579579,0.07494705523716627,0.05761886305530961,0.025248391499066658,-0.005000275342793459,-0.0020947102761840197,-0.014592268383646134]},{\"axis\":{\"matches\":true},\"label\":\"^GSPC\",\"values\":[-0.012985898136748442,0.010524514660609219,0.004102792854185466,0.008298280656405366,-0.0019137230947889883,-0.006865763848056816,-0.0024167805585421087,0.00302251448379387,0.01706310194558336,0.007460210377712606,0.00337476955709759,0.007393339551406308,0.0036640298040166996,0.002995871849622578,-0.0010725536274130976,0.004748196569493546,0.0018197952535197182,-0.005051568068462853,0.009829281576461124,0.001949334719149265,0.0018000771431341267,0.0036803630854131963,0.006461279195357994,0.004181942361150437,0.003732799652949259,0.0008877879113036169,-0.003498775895770745,-0.008225823395229703,0.0005509400447352153,0.007222656026415475,-1.0739820344718431e-05,0.003865229864862485,-0.002601625374463401,0.0033847802152713324,-0.001398665559303236,-0.0031971365563219223,0.001657132912945114,0.0022938506357221833,-0.022724822637582465,0.013200199537034996,-0.01896131033450521,-0.011815187417889228,0.01419443613158311,-0.008448563730297565,0.011730872577451423,0.020707080374404274,0.0030852853123166657,-0.007181080169894716,0.009549073338481762,-0.009136167611567658,-0.0074706775774360246,0.016348464630746795,-0.008743415379980468,-0.010287680637092622,-0.01138805785140995,0.017777934551572505,0.010180197220578835,0.006223699921661829,0.01383893524747526,-0.0010101548486260992,0.0014018951394270118,-0.0029897555945093135]}],\"hovertemplate\":\"%{xaxis.title.text}=%{x}<br>%{yaxis.title.text}=%{y}<extra></extra>\",\"legendgroup\":\"\",\"marker\":{\"color\":\"firebrick\",\"symbol\":\"circle\"},\"name\":\"\",\"showlegend\":false,\"type\":\"splom\"}],                        {\"template\":{\"data\":{\"barpolar\":[{\"marker\":{\"line\":{\"color\":\"rgb(17,17,17)\",\"width\":0.5},\"pattern\":{\"fillmode\":\"overlay\",\"size\":10,\"solidity\":0.2}},\"type\":\"barpolar\"}],\"bar\":[{\"error_x\":{\"color\":\"#f2f5fa\"},\"error_y\":{\"color\":\"#f2f5fa\"},\"marker\":{\"line\":{\"color\":\"rgb(17,17,17)\",\"width\":0.5},\"pattern\":{\"fillmode\":\"overlay\",\"size\":10,\"solidity\":0.2}},\"type\":\"bar\"}],\"carpet\":[{\"aaxis\":{\"endlinecolor\":\"#A2B1C6\",\"gridcolor\":\"#506784\",\"linecolor\":\"#506784\",\"minorgridcolor\":\"#506784\",\"startlinecolor\":\"#A2B1C6\"},\"baxis\":{\"endlinecolor\":\"#A2B1C6\",\"gridcolor\":\"#506784\",\"linecolor\":\"#506784\",\"minorgridcolor\":\"#506784\",\"startlinecolor\":\"#A2B1C6\"},\"type\":\"carpet\"}],\"choropleth\":[{\"colorbar\":{\"outlinewidth\":0,\"ticks\":\"\"},\"type\":\"choropleth\"}],\"contourcarpet\":[{\"colorbar\":{\"outlinewidth\":0,\"ticks\":\"\"},\"type\":\"contourcarpet\"}],\"contour\":[{\"colorbar\":{\"outlinewidth\":0,\"ticks\":\"\"},\"colorscale\":[[0.0,\"#0d0887\"],[0.1111111111111111,\"#46039f\"],[0.2222222222222222,\"#7201a8\"],[0.3333333333333333,\"#9c179e\"],[0.4444444444444444,\"#bd3786\"],[0.5555555555555556,\"#d8576b\"],[0.6666666666666666,\"#ed7953\"],[0.7777777777777778,\"#fb9f3a\"],[0.8888888888888888,\"#fdca26\"],[1.0,\"#f0f921\"]],\"type\":\"contour\"}],\"heatmapgl\":[{\"colorbar\":{\"outlinewidth\":0,\"ticks\":\"\"},\"colorscale\":[[0.0,\"#0d0887\"],[0.1111111111111111,\"#46039f\"],[0.2222222222222222,\"#7201a8\"],[0.3333333333333333,\"#9c179e\"],[0.4444444444444444,\"#bd3786\"],[0.5555555555555556,\"#d8576b\"],[0.6666666666666666,\"#ed7953\"],[0.7777777777777778,\"#fb9f3a\"],[0.8888888888888888,\"#fdca26\"],[1.0,\"#f0f921\"]],\"type\":\"heatmapgl\"}],\"heatmap\":[{\"colorbar\":{\"outlinewidth\":0,\"ticks\":\"\"},\"colorscale\":[[0.0,\"#0d0887\"],[0.1111111111111111,\"#46039f\"],[0.2222222222222222,\"#7201a8\"],[0.3333333333333333,\"#9c179e\"],[0.4444444444444444,\"#bd3786\"],[0.5555555555555556,\"#d8576b\"],[0.6666666666666666,\"#ed7953\"],[0.7777777777777778,\"#fb9f3a\"],[0.8888888888888888,\"#fdca26\"],[1.0,\"#f0f921\"]],\"type\":\"heatmap\"}],\"histogram2dcontour\":[{\"colorbar\":{\"outlinewidth\":0,\"ticks\":\"\"},\"colorscale\":[[0.0,\"#0d0887\"],[0.1111111111111111,\"#46039f\"],[0.2222222222222222,\"#7201a8\"],[0.3333333333333333,\"#9c179e\"],[0.4444444444444444,\"#bd3786\"],[0.5555555555555556,\"#d8576b\"],[0.6666666666666666,\"#ed7953\"],[0.7777777777777778,\"#fb9f3a\"],[0.8888888888888888,\"#fdca26\"],[1.0,\"#f0f921\"]],\"type\":\"histogram2dcontour\"}],\"histogram2d\":[{\"colorbar\":{\"outlinewidth\":0,\"ticks\":\"\"},\"colorscale\":[[0.0,\"#0d0887\"],[0.1111111111111111,\"#46039f\"],[0.2222222222222222,\"#7201a8\"],[0.3333333333333333,\"#9c179e\"],[0.4444444444444444,\"#bd3786\"],[0.5555555555555556,\"#d8576b\"],[0.6666666666666666,\"#ed7953\"],[0.7777777777777778,\"#fb9f3a\"],[0.8888888888888888,\"#fdca26\"],[1.0,\"#f0f921\"]],\"type\":\"histogram2d\"}],\"histogram\":[{\"marker\":{\"pattern\":{\"fillmode\":\"overlay\",\"size\":10,\"solidity\":0.2}},\"type\":\"histogram\"}],\"mesh3d\":[{\"colorbar\":{\"outlinewidth\":0,\"ticks\":\"\"},\"type\":\"mesh3d\"}],\"parcoords\":[{\"line\":{\"colorbar\":{\"outlinewidth\":0,\"ticks\":\"\"}},\"type\":\"parcoords\"}],\"pie\":[{\"automargin\":true,\"type\":\"pie\"}],\"scatter3d\":[{\"line\":{\"colorbar\":{\"outlinewidth\":0,\"ticks\":\"\"}},\"marker\":{\"colorbar\":{\"outlinewidth\":0,\"ticks\":\"\"}},\"type\":\"scatter3d\"}],\"scattercarpet\":[{\"marker\":{\"colorbar\":{\"outlinewidth\":0,\"ticks\":\"\"}},\"type\":\"scattercarpet\"}],\"scattergeo\":[{\"marker\":{\"colorbar\":{\"outlinewidth\":0,\"ticks\":\"\"}},\"type\":\"scattergeo\"}],\"scattergl\":[{\"marker\":{\"line\":{\"color\":\"#283442\"}},\"type\":\"scattergl\"}],\"scattermapbox\":[{\"marker\":{\"colorbar\":{\"outlinewidth\":0,\"ticks\":\"\"}},\"type\":\"scattermapbox\"}],\"scatterpolargl\":[{\"marker\":{\"colorbar\":{\"outlinewidth\":0,\"ticks\":\"\"}},\"type\":\"scatterpolargl\"}],\"scatterpolar\":[{\"marker\":{\"colorbar\":{\"outlinewidth\":0,\"ticks\":\"\"}},\"type\":\"scatterpolar\"}],\"scatter\":[{\"marker\":{\"line\":{\"color\":\"#283442\"}},\"type\":\"scatter\"}],\"scatterternary\":[{\"marker\":{\"colorbar\":{\"outlinewidth\":0,\"ticks\":\"\"}},\"type\":\"scatterternary\"}],\"surface\":[{\"colorbar\":{\"outlinewidth\":0,\"ticks\":\"\"},\"colorscale\":[[0.0,\"#0d0887\"],[0.1111111111111111,\"#46039f\"],[0.2222222222222222,\"#7201a8\"],[0.3333333333333333,\"#9c179e\"],[0.4444444444444444,\"#bd3786\"],[0.5555555555555556,\"#d8576b\"],[0.6666666666666666,\"#ed7953\"],[0.7777777777777778,\"#fb9f3a\"],[0.8888888888888888,\"#fdca26\"],[1.0,\"#f0f921\"]],\"type\":\"surface\"}],\"table\":[{\"cells\":{\"fill\":{\"color\":\"#506784\"},\"line\":{\"color\":\"rgb(17,17,17)\"}},\"header\":{\"fill\":{\"color\":\"#2a3f5f\"},\"line\":{\"color\":\"rgb(17,17,17)\"}},\"type\":\"table\"}]},\"layout\":{\"annotationdefaults\":{\"arrowcolor\":\"#f2f5fa\",\"arrowhead\":0,\"arrowwidth\":1},\"autotypenumbers\":\"strict\",\"coloraxis\":{\"colorbar\":{\"outlinewidth\":0,\"ticks\":\"\"}},\"colorscale\":{\"diverging\":[[0,\"#8e0152\"],[0.1,\"#c51b7d\"],[0.2,\"#de77ae\"],[0.3,\"#f1b6da\"],[0.4,\"#fde0ef\"],[0.5,\"#f7f7f7\"],[0.6,\"#e6f5d0\"],[0.7,\"#b8e186\"],[0.8,\"#7fbc41\"],[0.9,\"#4d9221\"],[1,\"#276419\"]],\"sequential\":[[0.0,\"#0d0887\"],[0.1111111111111111,\"#46039f\"],[0.2222222222222222,\"#7201a8\"],[0.3333333333333333,\"#9c179e\"],[0.4444444444444444,\"#bd3786\"],[0.5555555555555556,\"#d8576b\"],[0.6666666666666666,\"#ed7953\"],[0.7777777777777778,\"#fb9f3a\"],[0.8888888888888888,\"#fdca26\"],[1.0,\"#f0f921\"]],\"sequentialminus\":[[0.0,\"#0d0887\"],[0.1111111111111111,\"#46039f\"],[0.2222222222222222,\"#7201a8\"],[0.3333333333333333,\"#9c179e\"],[0.4444444444444444,\"#bd3786\"],[0.5555555555555556,\"#d8576b\"],[0.6666666666666666,\"#ed7953\"],[0.7777777777777778,\"#fb9f3a\"],[0.8888888888888888,\"#fdca26\"],[1.0,\"#f0f921\"]]},\"colorway\":[\"#636efa\",\"#EF553B\",\"#00cc96\",\"#ab63fa\",\"#FFA15A\",\"#19d3f3\",\"#FF6692\",\"#B6E880\",\"#FF97FF\",\"#FECB52\"],\"font\":{\"color\":\"#f2f5fa\"},\"geo\":{\"bgcolor\":\"rgb(17,17,17)\",\"lakecolor\":\"rgb(17,17,17)\",\"landcolor\":\"rgb(17,17,17)\",\"showlakes\":true,\"showland\":true,\"subunitcolor\":\"#506784\"},\"hoverlabel\":{\"align\":\"left\"},\"hovermode\":\"closest\",\"mapbox\":{\"style\":\"dark\"},\"paper_bgcolor\":\"rgb(17,17,17)\",\"plot_bgcolor\":\"rgb(17,17,17)\",\"polar\":{\"angularaxis\":{\"gridcolor\":\"#506784\",\"linecolor\":\"#506784\",\"ticks\":\"\"},\"bgcolor\":\"rgb(17,17,17)\",\"radialaxis\":{\"gridcolor\":\"#506784\",\"linecolor\":\"#506784\",\"ticks\":\"\"}},\"scene\":{\"xaxis\":{\"backgroundcolor\":\"rgb(17,17,17)\",\"gridcolor\":\"#506784\",\"gridwidth\":2,\"linecolor\":\"#506784\",\"showbackground\":true,\"ticks\":\"\",\"zerolinecolor\":\"#C8D4E3\"},\"yaxis\":{\"backgroundcolor\":\"rgb(17,17,17)\",\"gridcolor\":\"#506784\",\"gridwidth\":2,\"linecolor\":\"#506784\",\"showbackground\":true,\"ticks\":\"\",\"zerolinecolor\":\"#C8D4E3\"},\"zaxis\":{\"backgroundcolor\":\"rgb(17,17,17)\",\"gridcolor\":\"#506784\",\"gridwidth\":2,\"linecolor\":\"#506784\",\"showbackground\":true,\"ticks\":\"\",\"zerolinecolor\":\"#C8D4E3\"}},\"shapedefaults\":{\"line\":{\"color\":\"#f2f5fa\"}},\"sliderdefaults\":{\"bgcolor\":\"#C8D4E3\",\"bordercolor\":\"rgb(17,17,17)\",\"borderwidth\":1,\"tickwidth\":0},\"ternary\":{\"aaxis\":{\"gridcolor\":\"#506784\",\"linecolor\":\"#506784\",\"ticks\":\"\"},\"baxis\":{\"gridcolor\":\"#506784\",\"linecolor\":\"#506784\",\"ticks\":\"\"},\"bgcolor\":\"rgb(17,17,17)\",\"caxis\":{\"gridcolor\":\"#506784\",\"linecolor\":\"#506784\",\"ticks\":\"\"}},\"title\":{\"x\":0.05},\"updatemenudefaults\":{\"bgcolor\":\"#506784\",\"borderwidth\":0},\"xaxis\":{\"automargin\":true,\"gridcolor\":\"#283442\",\"linecolor\":\"#506784\",\"ticks\":\"\",\"title\":{\"standoff\":15},\"zerolinecolor\":\"#283442\",\"zerolinewidth\":2},\"yaxis\":{\"automargin\":true,\"gridcolor\":\"#283442\",\"linecolor\":\"#506784\",\"ticks\":\"\",\"title\":{\"standoff\":15},\"zerolinecolor\":\"#283442\",\"zerolinewidth\":2}}},\"legend\":{\"tracegroupgap\":0},\"title\":{\"text\":\"Scatter Matrix Of Stock Returns In A Portfolio\"},\"dragmode\":\"select\",\"width\":1200,\"height\":800},                        {\"responsive\": true}                    ).then(function(){\n",
       "                            \n",
       "var gd = document.getElementById('62127b6e-5fb8-489d-a25a-543eb1fe20ac');\n",
       "var x = new MutationObserver(function (mutations, observer) {{\n",
       "        var display = window.getComputedStyle(gd).display;\n",
       "        if (!display || display === 'none') {{\n",
       "            console.log([gd, 'removed!']);\n",
       "            Plotly.purge(gd);\n",
       "            observer.disconnect();\n",
       "        }}\n",
       "}});\n",
       "\n",
       "// Listen for the removal of the full notebook cells\n",
       "var notebookContainer = gd.closest('#notebook-container');\n",
       "if (notebookContainer) {{\n",
       "    x.observe(notebookContainer, {childList: true});\n",
       "}}\n",
       "\n",
       "// Listen for the clearing of the current output cell\n",
       "var outputEl = gd.closest('.output');\n",
       "if (outputEl) {{\n",
       "    x.observe(outputEl, {childList: true});\n",
       "}}\n",
       "\n",
       "                        })                };                });            </script>        </div>"
      ]
     },
     "metadata": {},
     "output_type": "display_data"
    }
   ],
   "source": [
    "fig = px.scatter_matrix(returns, title='A Scatter Matrix Of Stock Returns In A Portfolio', color_discrete_sequence=['firebrick'])\n",
    "fig.update_layout(width=1200, height=800)\n",
    "fig.update_layout(template = \"plotly_dark\")\n",
    "fig.show()"
   ]
  },
  {
   "attachments": {},
   "cell_type": "markdown",
   "metadata": {},
   "source": [
    "When we examine the relationships from both the heatmap and scatter matrix, the pair that exhibits the highest correlation is Microsoft and Google. This can be explained by the fact that these two companies are often mentioned in the same context, as they share similarities in their business models. For instance, Microsoft has Bing while Google dominates the search engine market, both companies have cloud platforms (Azure and Google Cloud Platform), and they offer productivity suites such as Excel and Google Sheets, Word and Google Docs, Gmail and Outlook, among others. To gain a deeper understanding of the relationship between these two stocks, we can visualize their relationship separately and analyze it more closely."
   ]
  },
  {
   "cell_type": "code",
   "execution_count": 94,
   "metadata": {},
   "outputs": [
    {
     "data": {
      "application/vnd.plotly.v1+json": {
       "config": {
        "plotlyServerURL": "https://plot.ly"
       },
       "data": [
        {
         "hovertemplate": "MSFT=%{marker.color}<br>GOOG=%{y}<extra></extra>",
         "legendgroup": "",
         "marker": {
          "color": [
           -0.02071949618408042,
           0.019957043802311336,
           0.015064434626564038,
           0.005936409619350824,
           0,
           -0.0021029851789966525,
           -0.004588181688665038,
           0.011711388880802254,
           0.021733816725583832,
           0.004822618656020294,
           0.010124542090195865,
           0.0030590123621714316,
           -0.002660400589054257,
           0.010897524859524665,
           -0.005148678633856707,
           -0.0033316434927850302,
           0.006425854189529012,
           0.04211409823740153,
           0.0036515587313710185,
           0.02241379425712786,
           -0.006784745877758236,
           0.011415497604768454,
           0.002611764817567863,
           0.007305346631489407,
           -0.0011292741515284144,
           0.0027671463804104235,
           -0.003086128687416867,
           -0.015329548091101985,
           0.00492740300405492,
           0.01290482157799877,
           -0.0019302505799131398,
           0.010236007264316838,
           0.0006786155111178083,
           0.006339761921949183,
           0.005391789853684603,
           -0.009559655482947349,
           -0.006326698849462575,
           0.0006811389133873913,
           -0.024355572602966613,
           0.021081063371984454,
           -0.017942560638251948,
           -0.001542682136238871,
           -0.0017875282005661575,
           -0.019666743092401906,
           0.009845053984725016,
           0.026763415460508977,
           0.00014932605528983345,
           -0.005582630207476846,
           0.02833994292376163,
           -0.009166913244505026,
           -0.0325867894430365,
           0.019217776329997438,
           -0.029134952436052464,
           -0.003385726814405854,
           -0.012013405787924536,
           0.023068886934089816,
           0.018057447390953385,
           0.004471790889788441,
           0.023185669273500187,
           -0.003504117885271052,
           0.002051241496276335,
           -0.007691207012039292
          ],
          "coloraxis": "coloraxis",
          "symbol": "circle"
         },
         "mode": "markers",
         "name": "",
         "orientation": "v",
         "showlegend": false,
         "type": "scatter",
         "x": [
          -0.02071949618408042,
          0.019957043802311336,
          0.015064434626564038,
          0.005936409619350824,
          0,
          -0.0021029851789966525,
          -0.004588181688665038,
          0.011711388880802254,
          0.021733816725583832,
          0.004822618656020294,
          0.010124542090195865,
          0.0030590123621714316,
          -0.002660400589054257,
          0.010897524859524665,
          -0.005148678633856707,
          -0.0033316434927850302,
          0.006425854189529012,
          0.04211409823740153,
          0.0036515587313710185,
          0.02241379425712786,
          -0.006784745877758236,
          0.011415497604768454,
          0.002611764817567863,
          0.007305346631489407,
          -0.0011292741515284144,
          0.0027671463804104235,
          -0.003086128687416867,
          -0.015329548091101985,
          0.00492740300405492,
          0.01290482157799877,
          -0.0019302505799131398,
          0.010236007264316838,
          0.0006786155111178083,
          0.006339761921949183,
          0.005391789853684603,
          -0.009559655482947349,
          -0.006326698849462575,
          0.0006811389133873913,
          -0.024355572602966613,
          0.021081063371984454,
          -0.017942560638251948,
          -0.001542682136238871,
          -0.0017875282005661575,
          -0.019666743092401906,
          0.009845053984725016,
          0.026763415460508977,
          0.00014932605528983345,
          -0.005582630207476846,
          0.02833994292376163,
          -0.009166913244505026,
          -0.0325867894430365,
          0.019217776329997438,
          -0.029134952436052464,
          -0.003385726814405854,
          -0.012013405787924536,
          0.023068886934089816,
          0.018057447390953385,
          0.004471790889788441,
          0.023185669273500187,
          -0.003504117885271052,
          0.002051241496276335,
          -0.007691207012039292
         ],
         "xaxis": "x",
         "y": [
          -0.019767295978645683,
          0.018031641868068604,
          0.008643177160928772,
          0.013334137631931586,
          0.006254233740982107,
          -0.008628663505002354,
          -0.015373025580498245,
          0.008682396569587914,
          0.025467794216354367,
          0.001859817296365529,
          0.009073526844320945,
          0.00602621885506327,
          -0.009783015662055305,
          0.0025665066912496926,
          -0.029104130128649763,
          0.0010675923903855633,
          0.006478220602120333,
          0.04836694945695341,
          -0.0020386039455109195,
          0.014654824047089177,
          -0.030326266548866943,
          0.01452977928171606,
          0.006355187075844038,
          0.012896011020341103,
          0.003752941911757901,
          0.0007404409805558121,
          -0.0006896269884244521,
          -0.017571348972257872,
          0.0008320080522146167,
          0.019744674090181658,
          -0.001720680396285701,
          -0.0020884974625884345,
          -0.00009396259613125846,
          0.011049115220125971,
          -0.005019608954865751,
          -0.01916602211780316,
          -0.0021859256886936906,
          -0.0002691865046584585,
          -0.026660071606874003,
          0.023164283453649848,
          -0.025062640152544002,
          -0.00585460125577697,
          0.015241765583886346,
          -0.008735863812474265,
          0.008953105295237629,
          0.029486153584624253,
          0.004620520897325342,
          -0.004131924875548254,
          0.003841844579923759,
          -0.013253773131292279,
          -0.011819634370268228,
          0.016541261266040275,
          -0.017167839690898967,
          -0.014053633449836789,
          -0.0028114904821024966,
          0.012773743158932538,
          0.018918948943754232,
          0.0013167608990234392,
          0.0062625925127430815,
          -0.010914181469367512,
          0.00038582497987005304,
          -0.0034265083786925166
         ],
         "yaxis": "y"
        }
       ],
       "layout": {
        "coloraxis": {
         "colorbar": {
          "title": {
           "text": "MSFT"
          }
         },
         "colorscale": [
          [
           0,
           "#0d0887"
          ],
          [
           0.1111111111111111,
           "#46039f"
          ],
          [
           0.2222222222222222,
           "#7201a8"
          ],
          [
           0.3333333333333333,
           "#9c179e"
          ],
          [
           0.4444444444444444,
           "#bd3786"
          ],
          [
           0.5555555555555556,
           "#d8576b"
          ],
          [
           0.6666666666666666,
           "#ed7953"
          ],
          [
           0.7777777777777778,
           "#fb9f3a"
          ],
          [
           0.8888888888888888,
           "#fdca26"
          ],
          [
           1,
           "#f0f921"
          ]
         ]
        },
        "height": 800,
        "legend": {
         "tracegroupgap": 0
        },
        "template": {
         "data": {
          "bar": [
           {
            "error_x": {
             "color": "#f2f5fa"
            },
            "error_y": {
             "color": "#f2f5fa"
            },
            "marker": {
             "line": {
              "color": "rgb(17,17,17)",
              "width": 0.5
             },
             "pattern": {
              "fillmode": "overlay",
              "size": 10,
              "solidity": 0.2
             }
            },
            "type": "bar"
           }
          ],
          "barpolar": [
           {
            "marker": {
             "line": {
              "color": "rgb(17,17,17)",
              "width": 0.5
             },
             "pattern": {
              "fillmode": "overlay",
              "size": 10,
              "solidity": 0.2
             }
            },
            "type": "barpolar"
           }
          ],
          "carpet": [
           {
            "aaxis": {
             "endlinecolor": "#A2B1C6",
             "gridcolor": "#506784",
             "linecolor": "#506784",
             "minorgridcolor": "#506784",
             "startlinecolor": "#A2B1C6"
            },
            "baxis": {
             "endlinecolor": "#A2B1C6",
             "gridcolor": "#506784",
             "linecolor": "#506784",
             "minorgridcolor": "#506784",
             "startlinecolor": "#A2B1C6"
            },
            "type": "carpet"
           }
          ],
          "choropleth": [
           {
            "colorbar": {
             "outlinewidth": 0,
             "ticks": ""
            },
            "type": "choropleth"
           }
          ],
          "contour": [
           {
            "colorbar": {
             "outlinewidth": 0,
             "ticks": ""
            },
            "colorscale": [
             [
              0,
              "#0d0887"
             ],
             [
              0.1111111111111111,
              "#46039f"
             ],
             [
              0.2222222222222222,
              "#7201a8"
             ],
             [
              0.3333333333333333,
              "#9c179e"
             ],
             [
              0.4444444444444444,
              "#bd3786"
             ],
             [
              0.5555555555555556,
              "#d8576b"
             ],
             [
              0.6666666666666666,
              "#ed7953"
             ],
             [
              0.7777777777777778,
              "#fb9f3a"
             ],
             [
              0.8888888888888888,
              "#fdca26"
             ],
             [
              1,
              "#f0f921"
             ]
            ],
            "type": "contour"
           }
          ],
          "contourcarpet": [
           {
            "colorbar": {
             "outlinewidth": 0,
             "ticks": ""
            },
            "type": "contourcarpet"
           }
          ],
          "heatmap": [
           {
            "colorbar": {
             "outlinewidth": 0,
             "ticks": ""
            },
            "colorscale": [
             [
              0,
              "#0d0887"
             ],
             [
              0.1111111111111111,
              "#46039f"
             ],
             [
              0.2222222222222222,
              "#7201a8"
             ],
             [
              0.3333333333333333,
              "#9c179e"
             ],
             [
              0.4444444444444444,
              "#bd3786"
             ],
             [
              0.5555555555555556,
              "#d8576b"
             ],
             [
              0.6666666666666666,
              "#ed7953"
             ],
             [
              0.7777777777777778,
              "#fb9f3a"
             ],
             [
              0.8888888888888888,
              "#fdca26"
             ],
             [
              1,
              "#f0f921"
             ]
            ],
            "type": "heatmap"
           }
          ],
          "heatmapgl": [
           {
            "colorbar": {
             "outlinewidth": 0,
             "ticks": ""
            },
            "colorscale": [
             [
              0,
              "#0d0887"
             ],
             [
              0.1111111111111111,
              "#46039f"
             ],
             [
              0.2222222222222222,
              "#7201a8"
             ],
             [
              0.3333333333333333,
              "#9c179e"
             ],
             [
              0.4444444444444444,
              "#bd3786"
             ],
             [
              0.5555555555555556,
              "#d8576b"
             ],
             [
              0.6666666666666666,
              "#ed7953"
             ],
             [
              0.7777777777777778,
              "#fb9f3a"
             ],
             [
              0.8888888888888888,
              "#fdca26"
             ],
             [
              1,
              "#f0f921"
             ]
            ],
            "type": "heatmapgl"
           }
          ],
          "histogram": [
           {
            "marker": {
             "pattern": {
              "fillmode": "overlay",
              "size": 10,
              "solidity": 0.2
             }
            },
            "type": "histogram"
           }
          ],
          "histogram2d": [
           {
            "colorbar": {
             "outlinewidth": 0,
             "ticks": ""
            },
            "colorscale": [
             [
              0,
              "#0d0887"
             ],
             [
              0.1111111111111111,
              "#46039f"
             ],
             [
              0.2222222222222222,
              "#7201a8"
             ],
             [
              0.3333333333333333,
              "#9c179e"
             ],
             [
              0.4444444444444444,
              "#bd3786"
             ],
             [
              0.5555555555555556,
              "#d8576b"
             ],
             [
              0.6666666666666666,
              "#ed7953"
             ],
             [
              0.7777777777777778,
              "#fb9f3a"
             ],
             [
              0.8888888888888888,
              "#fdca26"
             ],
             [
              1,
              "#f0f921"
             ]
            ],
            "type": "histogram2d"
           }
          ],
          "histogram2dcontour": [
           {
            "colorbar": {
             "outlinewidth": 0,
             "ticks": ""
            },
            "colorscale": [
             [
              0,
              "#0d0887"
             ],
             [
              0.1111111111111111,
              "#46039f"
             ],
             [
              0.2222222222222222,
              "#7201a8"
             ],
             [
              0.3333333333333333,
              "#9c179e"
             ],
             [
              0.4444444444444444,
              "#bd3786"
             ],
             [
              0.5555555555555556,
              "#d8576b"
             ],
             [
              0.6666666666666666,
              "#ed7953"
             ],
             [
              0.7777777777777778,
              "#fb9f3a"
             ],
             [
              0.8888888888888888,
              "#fdca26"
             ],
             [
              1,
              "#f0f921"
             ]
            ],
            "type": "histogram2dcontour"
           }
          ],
          "mesh3d": [
           {
            "colorbar": {
             "outlinewidth": 0,
             "ticks": ""
            },
            "type": "mesh3d"
           }
          ],
          "parcoords": [
           {
            "line": {
             "colorbar": {
              "outlinewidth": 0,
              "ticks": ""
             }
            },
            "type": "parcoords"
           }
          ],
          "pie": [
           {
            "automargin": true,
            "type": "pie"
           }
          ],
          "scatter": [
           {
            "marker": {
             "line": {
              "color": "#283442"
             }
            },
            "type": "scatter"
           }
          ],
          "scatter3d": [
           {
            "line": {
             "colorbar": {
              "outlinewidth": 0,
              "ticks": ""
             }
            },
            "marker": {
             "colorbar": {
              "outlinewidth": 0,
              "ticks": ""
             }
            },
            "type": "scatter3d"
           }
          ],
          "scattercarpet": [
           {
            "marker": {
             "colorbar": {
              "outlinewidth": 0,
              "ticks": ""
             }
            },
            "type": "scattercarpet"
           }
          ],
          "scattergeo": [
           {
            "marker": {
             "colorbar": {
              "outlinewidth": 0,
              "ticks": ""
             }
            },
            "type": "scattergeo"
           }
          ],
          "scattergl": [
           {
            "marker": {
             "line": {
              "color": "#283442"
             }
            },
            "type": "scattergl"
           }
          ],
          "scattermapbox": [
           {
            "marker": {
             "colorbar": {
              "outlinewidth": 0,
              "ticks": ""
             }
            },
            "type": "scattermapbox"
           }
          ],
          "scatterpolar": [
           {
            "marker": {
             "colorbar": {
              "outlinewidth": 0,
              "ticks": ""
             }
            },
            "type": "scatterpolar"
           }
          ],
          "scatterpolargl": [
           {
            "marker": {
             "colorbar": {
              "outlinewidth": 0,
              "ticks": ""
             }
            },
            "type": "scatterpolargl"
           }
          ],
          "scatterternary": [
           {
            "marker": {
             "colorbar": {
              "outlinewidth": 0,
              "ticks": ""
             }
            },
            "type": "scatterternary"
           }
          ],
          "surface": [
           {
            "colorbar": {
             "outlinewidth": 0,
             "ticks": ""
            },
            "colorscale": [
             [
              0,
              "#0d0887"
             ],
             [
              0.1111111111111111,
              "#46039f"
             ],
             [
              0.2222222222222222,
              "#7201a8"
             ],
             [
              0.3333333333333333,
              "#9c179e"
             ],
             [
              0.4444444444444444,
              "#bd3786"
             ],
             [
              0.5555555555555556,
              "#d8576b"
             ],
             [
              0.6666666666666666,
              "#ed7953"
             ],
             [
              0.7777777777777778,
              "#fb9f3a"
             ],
             [
              0.8888888888888888,
              "#fdca26"
             ],
             [
              1,
              "#f0f921"
             ]
            ],
            "type": "surface"
           }
          ],
          "table": [
           {
            "cells": {
             "fill": {
              "color": "#506784"
             },
             "line": {
              "color": "rgb(17,17,17)"
             }
            },
            "header": {
             "fill": {
              "color": "#2a3f5f"
             },
             "line": {
              "color": "rgb(17,17,17)"
             }
            },
            "type": "table"
           }
          ]
         },
         "layout": {
          "annotationdefaults": {
           "arrowcolor": "#f2f5fa",
           "arrowhead": 0,
           "arrowwidth": 1
          },
          "autotypenumbers": "strict",
          "coloraxis": {
           "colorbar": {
            "outlinewidth": 0,
            "ticks": ""
           }
          },
          "colorscale": {
           "diverging": [
            [
             0,
             "#8e0152"
            ],
            [
             0.1,
             "#c51b7d"
            ],
            [
             0.2,
             "#de77ae"
            ],
            [
             0.3,
             "#f1b6da"
            ],
            [
             0.4,
             "#fde0ef"
            ],
            [
             0.5,
             "#f7f7f7"
            ],
            [
             0.6,
             "#e6f5d0"
            ],
            [
             0.7,
             "#b8e186"
            ],
            [
             0.8,
             "#7fbc41"
            ],
            [
             0.9,
             "#4d9221"
            ],
            [
             1,
             "#276419"
            ]
           ],
           "sequential": [
            [
             0,
             "#0d0887"
            ],
            [
             0.1111111111111111,
             "#46039f"
            ],
            [
             0.2222222222222222,
             "#7201a8"
            ],
            [
             0.3333333333333333,
             "#9c179e"
            ],
            [
             0.4444444444444444,
             "#bd3786"
            ],
            [
             0.5555555555555556,
             "#d8576b"
            ],
            [
             0.6666666666666666,
             "#ed7953"
            ],
            [
             0.7777777777777778,
             "#fb9f3a"
            ],
            [
             0.8888888888888888,
             "#fdca26"
            ],
            [
             1,
             "#f0f921"
            ]
           ],
           "sequentialminus": [
            [
             0,
             "#0d0887"
            ],
            [
             0.1111111111111111,
             "#46039f"
            ],
            [
             0.2222222222222222,
             "#7201a8"
            ],
            [
             0.3333333333333333,
             "#9c179e"
            ],
            [
             0.4444444444444444,
             "#bd3786"
            ],
            [
             0.5555555555555556,
             "#d8576b"
            ],
            [
             0.6666666666666666,
             "#ed7953"
            ],
            [
             0.7777777777777778,
             "#fb9f3a"
            ],
            [
             0.8888888888888888,
             "#fdca26"
            ],
            [
             1,
             "#f0f921"
            ]
           ]
          },
          "colorway": [
           "#636efa",
           "#EF553B",
           "#00cc96",
           "#ab63fa",
           "#FFA15A",
           "#19d3f3",
           "#FF6692",
           "#B6E880",
           "#FF97FF",
           "#FECB52"
          ],
          "font": {
           "color": "#f2f5fa"
          },
          "geo": {
           "bgcolor": "rgb(17,17,17)",
           "lakecolor": "rgb(17,17,17)",
           "landcolor": "rgb(17,17,17)",
           "showlakes": true,
           "showland": true,
           "subunitcolor": "#506784"
          },
          "hoverlabel": {
           "align": "left"
          },
          "hovermode": "closest",
          "mapbox": {
           "style": "dark"
          },
          "paper_bgcolor": "rgb(17,17,17)",
          "plot_bgcolor": "rgb(17,17,17)",
          "polar": {
           "angularaxis": {
            "gridcolor": "#506784",
            "linecolor": "#506784",
            "ticks": ""
           },
           "bgcolor": "rgb(17,17,17)",
           "radialaxis": {
            "gridcolor": "#506784",
            "linecolor": "#506784",
            "ticks": ""
           }
          },
          "scene": {
           "xaxis": {
            "backgroundcolor": "rgb(17,17,17)",
            "gridcolor": "#506784",
            "gridwidth": 2,
            "linecolor": "#506784",
            "showbackground": true,
            "ticks": "",
            "zerolinecolor": "#C8D4E3"
           },
           "yaxis": {
            "backgroundcolor": "rgb(17,17,17)",
            "gridcolor": "#506784",
            "gridwidth": 2,
            "linecolor": "#506784",
            "showbackground": true,
            "ticks": "",
            "zerolinecolor": "#C8D4E3"
           },
           "zaxis": {
            "backgroundcolor": "rgb(17,17,17)",
            "gridcolor": "#506784",
            "gridwidth": 2,
            "linecolor": "#506784",
            "showbackground": true,
            "ticks": "",
            "zerolinecolor": "#C8D4E3"
           }
          },
          "shapedefaults": {
           "line": {
            "color": "#f2f5fa"
           }
          },
          "sliderdefaults": {
           "bgcolor": "#C8D4E3",
           "bordercolor": "rgb(17,17,17)",
           "borderwidth": 1,
           "tickwidth": 0
          },
          "ternary": {
           "aaxis": {
            "gridcolor": "#506784",
            "linecolor": "#506784",
            "ticks": ""
           },
           "baxis": {
            "gridcolor": "#506784",
            "linecolor": "#506784",
            "ticks": ""
           },
           "bgcolor": "rgb(17,17,17)",
           "caxis": {
            "gridcolor": "#506784",
            "linecolor": "#506784",
            "ticks": ""
           }
          },
          "title": {
           "x": 0.05
          },
          "updatemenudefaults": {
           "bgcolor": "#506784",
           "borderwidth": 0
          },
          "xaxis": {
           "automargin": true,
           "gridcolor": "#283442",
           "linecolor": "#506784",
           "ticks": "",
           "title": {
            "standoff": 15
           },
           "zerolinecolor": "#283442",
           "zerolinewidth": 2
          },
          "yaxis": {
           "automargin": true,
           "gridcolor": "#283442",
           "linecolor": "#506784",
           "ticks": "",
           "title": {
            "standoff": 15
           },
           "zerolinecolor": "#283442",
           "zerolinewidth": 2
          }
         }
        },
        "title": {
         "text": "Scatter Plot Of MSFT Return and GOOG Return"
        },
        "width": 1000,
        "xaxis": {
         "anchor": "y",
         "domain": [
          0,
          1
         ],
         "title": {
          "text": "MSFT"
         }
        },
        "yaxis": {
         "anchor": "x",
         "domain": [
          0,
          1
         ],
         "title": {
          "text": "GOOG"
         }
        }
       }
      },
      "text/html": [
       "<div>                            <div id=\"e9768f53-97d7-40b4-a3ab-e2b7e653e9c4\" class=\"plotly-graph-div\" style=\"height:800px; width:1000px;\"></div>            <script type=\"text/javascript\">                require([\"plotly\"], function(Plotly) {                    window.PLOTLYENV=window.PLOTLYENV || {};                                    if (document.getElementById(\"e9768f53-97d7-40b4-a3ab-e2b7e653e9c4\")) {                    Plotly.newPlot(                        \"e9768f53-97d7-40b4-a3ab-e2b7e653e9c4\",                        [{\"hovertemplate\":\"MSFT=%{marker.color}<br>GOOG=%{y}<extra></extra>\",\"legendgroup\":\"\",\"marker\":{\"color\":[-0.02071949618408042,0.019957043802311336,0.015064434626564038,0.005936409619350824,0.0,-0.0021029851789966525,-0.004588181688665038,0.011711388880802254,0.021733816725583832,0.004822618656020294,0.010124542090195865,0.0030590123621714316,-0.002660400589054257,0.010897524859524665,-0.005148678633856707,-0.0033316434927850302,0.006425854189529012,0.04211409823740153,0.0036515587313710185,0.02241379425712786,-0.006784745877758236,0.011415497604768454,0.002611764817567863,0.007305346631489407,-0.0011292741515284144,0.0027671463804104235,-0.003086128687416867,-0.015329548091101985,0.00492740300405492,0.01290482157799877,-0.0019302505799131398,0.010236007264316838,0.0006786155111178083,0.006339761921949183,0.005391789853684603,-0.009559655482947349,-0.006326698849462575,0.0006811389133873913,-0.024355572602966613,0.021081063371984454,-0.017942560638251948,-0.001542682136238871,-0.0017875282005661575,-0.019666743092401906,0.009845053984725016,0.026763415460508977,0.00014932605528983345,-0.005582630207476846,0.02833994292376163,-0.009166913244505026,-0.0325867894430365,0.019217776329997438,-0.029134952436052464,-0.003385726814405854,-0.012013405787924536,0.023068886934089816,0.018057447390953385,0.004471790889788441,0.023185669273500187,-0.003504117885271052,0.002051241496276335,-0.007691207012039292],\"coloraxis\":\"coloraxis\",\"symbol\":\"circle\"},\"mode\":\"markers\",\"name\":\"\",\"orientation\":\"v\",\"showlegend\":false,\"x\":[-0.02071949618408042,0.019957043802311336,0.015064434626564038,0.005936409619350824,0.0,-0.0021029851789966525,-0.004588181688665038,0.011711388880802254,0.021733816725583832,0.004822618656020294,0.010124542090195865,0.0030590123621714316,-0.002660400589054257,0.010897524859524665,-0.005148678633856707,-0.0033316434927850302,0.006425854189529012,0.04211409823740153,0.0036515587313710185,0.02241379425712786,-0.006784745877758236,0.011415497604768454,0.002611764817567863,0.007305346631489407,-0.0011292741515284144,0.0027671463804104235,-0.003086128687416867,-0.015329548091101985,0.00492740300405492,0.01290482157799877,-0.0019302505799131398,0.010236007264316838,0.0006786155111178083,0.006339761921949183,0.005391789853684603,-0.009559655482947349,-0.006326698849462575,0.0006811389133873913,-0.024355572602966613,0.021081063371984454,-0.017942560638251948,-0.001542682136238871,-0.0017875282005661575,-0.019666743092401906,0.009845053984725016,0.026763415460508977,0.00014932605528983345,-0.005582630207476846,0.02833994292376163,-0.009166913244505026,-0.0325867894430365,0.019217776329997438,-0.029134952436052464,-0.003385726814405854,-0.012013405787924536,0.023068886934089816,0.018057447390953385,0.004471790889788441,0.023185669273500187,-0.003504117885271052,0.002051241496276335,-0.007691207012039292],\"xaxis\":\"x\",\"y\":[-0.019767295978645683,0.018031641868068604,0.008643177160928772,0.013334137631931586,0.006254233740982107,-0.008628663505002354,-0.015373025580498245,0.008682396569587914,0.025467794216354367,0.001859817296365529,0.009073526844320945,0.00602621885506327,-0.009783015662055305,0.0025665066912496926,-0.029104130128649763,0.0010675923903855633,0.006478220602120333,0.04836694945695341,-0.0020386039455109195,0.014654824047089177,-0.030326266548866943,0.01452977928171606,0.006355187075844038,0.012896011020341103,0.003752941911757901,0.0007404409805558121,-0.0006896269884244521,-0.017571348972257872,0.0008320080522146167,0.019744674090181658,-0.001720680396285701,-0.0020884974625884345,-9.396259613125846e-05,0.011049115220125971,-0.005019608954865751,-0.01916602211780316,-0.0021859256886936906,-0.0002691865046584585,-0.026660071606874003,0.023164283453649848,-0.025062640152544002,-0.00585460125577697,0.015241765583886346,-0.008735863812474265,0.008953105295237629,0.029486153584624253,0.004620520897325342,-0.004131924875548254,0.003841844579923759,-0.013253773131292279,-0.011819634370268228,0.016541261266040275,-0.017167839690898967,-0.014053633449836789,-0.0028114904821024966,0.012773743158932538,0.018918948943754232,0.0013167608990234392,0.0062625925127430815,-0.010914181469367512,0.00038582497987005304,-0.0034265083786925166],\"yaxis\":\"y\",\"type\":\"scatter\"}],                        {\"template\":{\"data\":{\"barpolar\":[{\"marker\":{\"line\":{\"color\":\"rgb(17,17,17)\",\"width\":0.5},\"pattern\":{\"fillmode\":\"overlay\",\"size\":10,\"solidity\":0.2}},\"type\":\"barpolar\"}],\"bar\":[{\"error_x\":{\"color\":\"#f2f5fa\"},\"error_y\":{\"color\":\"#f2f5fa\"},\"marker\":{\"line\":{\"color\":\"rgb(17,17,17)\",\"width\":0.5},\"pattern\":{\"fillmode\":\"overlay\",\"size\":10,\"solidity\":0.2}},\"type\":\"bar\"}],\"carpet\":[{\"aaxis\":{\"endlinecolor\":\"#A2B1C6\",\"gridcolor\":\"#506784\",\"linecolor\":\"#506784\",\"minorgridcolor\":\"#506784\",\"startlinecolor\":\"#A2B1C6\"},\"baxis\":{\"endlinecolor\":\"#A2B1C6\",\"gridcolor\":\"#506784\",\"linecolor\":\"#506784\",\"minorgridcolor\":\"#506784\",\"startlinecolor\":\"#A2B1C6\"},\"type\":\"carpet\"}],\"choropleth\":[{\"colorbar\":{\"outlinewidth\":0,\"ticks\":\"\"},\"type\":\"choropleth\"}],\"contourcarpet\":[{\"colorbar\":{\"outlinewidth\":0,\"ticks\":\"\"},\"type\":\"contourcarpet\"}],\"contour\":[{\"colorbar\":{\"outlinewidth\":0,\"ticks\":\"\"},\"colorscale\":[[0.0,\"#0d0887\"],[0.1111111111111111,\"#46039f\"],[0.2222222222222222,\"#7201a8\"],[0.3333333333333333,\"#9c179e\"],[0.4444444444444444,\"#bd3786\"],[0.5555555555555556,\"#d8576b\"],[0.6666666666666666,\"#ed7953\"],[0.7777777777777778,\"#fb9f3a\"],[0.8888888888888888,\"#fdca26\"],[1.0,\"#f0f921\"]],\"type\":\"contour\"}],\"heatmapgl\":[{\"colorbar\":{\"outlinewidth\":0,\"ticks\":\"\"},\"colorscale\":[[0.0,\"#0d0887\"],[0.1111111111111111,\"#46039f\"],[0.2222222222222222,\"#7201a8\"],[0.3333333333333333,\"#9c179e\"],[0.4444444444444444,\"#bd3786\"],[0.5555555555555556,\"#d8576b\"],[0.6666666666666666,\"#ed7953\"],[0.7777777777777778,\"#fb9f3a\"],[0.8888888888888888,\"#fdca26\"],[1.0,\"#f0f921\"]],\"type\":\"heatmapgl\"}],\"heatmap\":[{\"colorbar\":{\"outlinewidth\":0,\"ticks\":\"\"},\"colorscale\":[[0.0,\"#0d0887\"],[0.1111111111111111,\"#46039f\"],[0.2222222222222222,\"#7201a8\"],[0.3333333333333333,\"#9c179e\"],[0.4444444444444444,\"#bd3786\"],[0.5555555555555556,\"#d8576b\"],[0.6666666666666666,\"#ed7953\"],[0.7777777777777778,\"#fb9f3a\"],[0.8888888888888888,\"#fdca26\"],[1.0,\"#f0f921\"]],\"type\":\"heatmap\"}],\"histogram2dcontour\":[{\"colorbar\":{\"outlinewidth\":0,\"ticks\":\"\"},\"colorscale\":[[0.0,\"#0d0887\"],[0.1111111111111111,\"#46039f\"],[0.2222222222222222,\"#7201a8\"],[0.3333333333333333,\"#9c179e\"],[0.4444444444444444,\"#bd3786\"],[0.5555555555555556,\"#d8576b\"],[0.6666666666666666,\"#ed7953\"],[0.7777777777777778,\"#fb9f3a\"],[0.8888888888888888,\"#fdca26\"],[1.0,\"#f0f921\"]],\"type\":\"histogram2dcontour\"}],\"histogram2d\":[{\"colorbar\":{\"outlinewidth\":0,\"ticks\":\"\"},\"colorscale\":[[0.0,\"#0d0887\"],[0.1111111111111111,\"#46039f\"],[0.2222222222222222,\"#7201a8\"],[0.3333333333333333,\"#9c179e\"],[0.4444444444444444,\"#bd3786\"],[0.5555555555555556,\"#d8576b\"],[0.6666666666666666,\"#ed7953\"],[0.7777777777777778,\"#fb9f3a\"],[0.8888888888888888,\"#fdca26\"],[1.0,\"#f0f921\"]],\"type\":\"histogram2d\"}],\"histogram\":[{\"marker\":{\"pattern\":{\"fillmode\":\"overlay\",\"size\":10,\"solidity\":0.2}},\"type\":\"histogram\"}],\"mesh3d\":[{\"colorbar\":{\"outlinewidth\":0,\"ticks\":\"\"},\"type\":\"mesh3d\"}],\"parcoords\":[{\"line\":{\"colorbar\":{\"outlinewidth\":0,\"ticks\":\"\"}},\"type\":\"parcoords\"}],\"pie\":[{\"automargin\":true,\"type\":\"pie\"}],\"scatter3d\":[{\"line\":{\"colorbar\":{\"outlinewidth\":0,\"ticks\":\"\"}},\"marker\":{\"colorbar\":{\"outlinewidth\":0,\"ticks\":\"\"}},\"type\":\"scatter3d\"}],\"scattercarpet\":[{\"marker\":{\"colorbar\":{\"outlinewidth\":0,\"ticks\":\"\"}},\"type\":\"scattercarpet\"}],\"scattergeo\":[{\"marker\":{\"colorbar\":{\"outlinewidth\":0,\"ticks\":\"\"}},\"type\":\"scattergeo\"}],\"scattergl\":[{\"marker\":{\"line\":{\"color\":\"#283442\"}},\"type\":\"scattergl\"}],\"scattermapbox\":[{\"marker\":{\"colorbar\":{\"outlinewidth\":0,\"ticks\":\"\"}},\"type\":\"scattermapbox\"}],\"scatterpolargl\":[{\"marker\":{\"colorbar\":{\"outlinewidth\":0,\"ticks\":\"\"}},\"type\":\"scatterpolargl\"}],\"scatterpolar\":[{\"marker\":{\"colorbar\":{\"outlinewidth\":0,\"ticks\":\"\"}},\"type\":\"scatterpolar\"}],\"scatter\":[{\"marker\":{\"line\":{\"color\":\"#283442\"}},\"type\":\"scatter\"}],\"scatterternary\":[{\"marker\":{\"colorbar\":{\"outlinewidth\":0,\"ticks\":\"\"}},\"type\":\"scatterternary\"}],\"surface\":[{\"colorbar\":{\"outlinewidth\":0,\"ticks\":\"\"},\"colorscale\":[[0.0,\"#0d0887\"],[0.1111111111111111,\"#46039f\"],[0.2222222222222222,\"#7201a8\"],[0.3333333333333333,\"#9c179e\"],[0.4444444444444444,\"#bd3786\"],[0.5555555555555556,\"#d8576b\"],[0.6666666666666666,\"#ed7953\"],[0.7777777777777778,\"#fb9f3a\"],[0.8888888888888888,\"#fdca26\"],[1.0,\"#f0f921\"]],\"type\":\"surface\"}],\"table\":[{\"cells\":{\"fill\":{\"color\":\"#506784\"},\"line\":{\"color\":\"rgb(17,17,17)\"}},\"header\":{\"fill\":{\"color\":\"#2a3f5f\"},\"line\":{\"color\":\"rgb(17,17,17)\"}},\"type\":\"table\"}]},\"layout\":{\"annotationdefaults\":{\"arrowcolor\":\"#f2f5fa\",\"arrowhead\":0,\"arrowwidth\":1},\"autotypenumbers\":\"strict\",\"coloraxis\":{\"colorbar\":{\"outlinewidth\":0,\"ticks\":\"\"}},\"colorscale\":{\"diverging\":[[0,\"#8e0152\"],[0.1,\"#c51b7d\"],[0.2,\"#de77ae\"],[0.3,\"#f1b6da\"],[0.4,\"#fde0ef\"],[0.5,\"#f7f7f7\"],[0.6,\"#e6f5d0\"],[0.7,\"#b8e186\"],[0.8,\"#7fbc41\"],[0.9,\"#4d9221\"],[1,\"#276419\"]],\"sequential\":[[0.0,\"#0d0887\"],[0.1111111111111111,\"#46039f\"],[0.2222222222222222,\"#7201a8\"],[0.3333333333333333,\"#9c179e\"],[0.4444444444444444,\"#bd3786\"],[0.5555555555555556,\"#d8576b\"],[0.6666666666666666,\"#ed7953\"],[0.7777777777777778,\"#fb9f3a\"],[0.8888888888888888,\"#fdca26\"],[1.0,\"#f0f921\"]],\"sequentialminus\":[[0.0,\"#0d0887\"],[0.1111111111111111,\"#46039f\"],[0.2222222222222222,\"#7201a8\"],[0.3333333333333333,\"#9c179e\"],[0.4444444444444444,\"#bd3786\"],[0.5555555555555556,\"#d8576b\"],[0.6666666666666666,\"#ed7953\"],[0.7777777777777778,\"#fb9f3a\"],[0.8888888888888888,\"#fdca26\"],[1.0,\"#f0f921\"]]},\"colorway\":[\"#636efa\",\"#EF553B\",\"#00cc96\",\"#ab63fa\",\"#FFA15A\",\"#19d3f3\",\"#FF6692\",\"#B6E880\",\"#FF97FF\",\"#FECB52\"],\"font\":{\"color\":\"#f2f5fa\"},\"geo\":{\"bgcolor\":\"rgb(17,17,17)\",\"lakecolor\":\"rgb(17,17,17)\",\"landcolor\":\"rgb(17,17,17)\",\"showlakes\":true,\"showland\":true,\"subunitcolor\":\"#506784\"},\"hoverlabel\":{\"align\":\"left\"},\"hovermode\":\"closest\",\"mapbox\":{\"style\":\"dark\"},\"paper_bgcolor\":\"rgb(17,17,17)\",\"plot_bgcolor\":\"rgb(17,17,17)\",\"polar\":{\"angularaxis\":{\"gridcolor\":\"#506784\",\"linecolor\":\"#506784\",\"ticks\":\"\"},\"bgcolor\":\"rgb(17,17,17)\",\"radialaxis\":{\"gridcolor\":\"#506784\",\"linecolor\":\"#506784\",\"ticks\":\"\"}},\"scene\":{\"xaxis\":{\"backgroundcolor\":\"rgb(17,17,17)\",\"gridcolor\":\"#506784\",\"gridwidth\":2,\"linecolor\":\"#506784\",\"showbackground\":true,\"ticks\":\"\",\"zerolinecolor\":\"#C8D4E3\"},\"yaxis\":{\"backgroundcolor\":\"rgb(17,17,17)\",\"gridcolor\":\"#506784\",\"gridwidth\":2,\"linecolor\":\"#506784\",\"showbackground\":true,\"ticks\":\"\",\"zerolinecolor\":\"#C8D4E3\"},\"zaxis\":{\"backgroundcolor\":\"rgb(17,17,17)\",\"gridcolor\":\"#506784\",\"gridwidth\":2,\"linecolor\":\"#506784\",\"showbackground\":true,\"ticks\":\"\",\"zerolinecolor\":\"#C8D4E3\"}},\"shapedefaults\":{\"line\":{\"color\":\"#f2f5fa\"}},\"sliderdefaults\":{\"bgcolor\":\"#C8D4E3\",\"bordercolor\":\"rgb(17,17,17)\",\"borderwidth\":1,\"tickwidth\":0},\"ternary\":{\"aaxis\":{\"gridcolor\":\"#506784\",\"linecolor\":\"#506784\",\"ticks\":\"\"},\"baxis\":{\"gridcolor\":\"#506784\",\"linecolor\":\"#506784\",\"ticks\":\"\"},\"bgcolor\":\"rgb(17,17,17)\",\"caxis\":{\"gridcolor\":\"#506784\",\"linecolor\":\"#506784\",\"ticks\":\"\"}},\"title\":{\"x\":0.05},\"updatemenudefaults\":{\"bgcolor\":\"#506784\",\"borderwidth\":0},\"xaxis\":{\"automargin\":true,\"gridcolor\":\"#283442\",\"linecolor\":\"#506784\",\"ticks\":\"\",\"title\":{\"standoff\":15},\"zerolinecolor\":\"#283442\",\"zerolinewidth\":2},\"yaxis\":{\"automargin\":true,\"gridcolor\":\"#283442\",\"linecolor\":\"#506784\",\"ticks\":\"\",\"title\":{\"standoff\":15},\"zerolinecolor\":\"#283442\",\"zerolinewidth\":2}}},\"xaxis\":{\"anchor\":\"y\",\"domain\":[0.0,1.0],\"title\":{\"text\":\"MSFT\"}},\"yaxis\":{\"anchor\":\"x\",\"domain\":[0.0,1.0],\"title\":{\"text\":\"GOOG\"}},\"coloraxis\":{\"colorbar\":{\"title\":{\"text\":\"MSFT\"}},\"colorscale\":[[0.0,\"#0d0887\"],[0.1111111111111111,\"#46039f\"],[0.2222222222222222,\"#7201a8\"],[0.3333333333333333,\"#9c179e\"],[0.4444444444444444,\"#bd3786\"],[0.5555555555555556,\"#d8576b\"],[0.6666666666666666,\"#ed7953\"],[0.7777777777777778,\"#fb9f3a\"],[0.8888888888888888,\"#fdca26\"],[1.0,\"#f0f921\"]]},\"legend\":{\"tracegroupgap\":0},\"title\":{\"text\":\"Scatter Plot Of MSFT Return and GOOG Return\"},\"width\":1000,\"height\":800},                        {\"responsive\": true}                    ).then(function(){\n",
       "                            \n",
       "var gd = document.getElementById('e9768f53-97d7-40b4-a3ab-e2b7e653e9c4');\n",
       "var x = new MutationObserver(function (mutations, observer) {{\n",
       "        var display = window.getComputedStyle(gd).display;\n",
       "        if (!display || display === 'none') {{\n",
       "            console.log([gd, 'removed!']);\n",
       "            Plotly.purge(gd);\n",
       "            observer.disconnect();\n",
       "        }}\n",
       "}});\n",
       "\n",
       "// Listen for the removal of the full notebook cells\n",
       "var notebookContainer = gd.closest('#notebook-container');\n",
       "if (notebookContainer) {{\n",
       "    x.observe(notebookContainer, {childList: true});\n",
       "}}\n",
       "\n",
       "// Listen for the clearing of the current output cell\n",
       "var outputEl = gd.closest('.output');\n",
       "if (outputEl) {{\n",
       "    x.observe(outputEl, {childList: true});\n",
       "}}\n",
       "\n",
       "                        })                };                });            </script>        </div>"
      ]
     },
     "metadata": {},
     "output_type": "display_data"
    }
   ],
   "source": [
    "fig = px.scatter(returns, x='MSFT', y='GOOG', title='Scatter Plot Of MSFT Return and GOOG Return',color=\"MSFT\")#,trendline='ols', trendline_color_override='firebrick')#color_discrete_sequence=['firebrick'])\n",
    "fig.update_layout(width=1000, height=800)\n",
    "fig.update_layout(template = \"plotly_dark\")\n",
    "fig.show()"
   ]
  },
  {
   "attachments": {},
   "cell_type": "markdown",
   "metadata": {},
   "source": [
    "We can definitely see a linear relationship here, when one does well the other does well and vice versa, this should be taken into consideration whenever one includes both of them in a portfolio"
   ]
  },
  {
   "attachments": {},
   "cell_type": "markdown",
   "metadata": {},
   "source": [
    "We can also plot a trendline, which is also known as an Ordinary Least Squares (OLS) line. it is often used in scatter plots to depict the overall trend or relationship between two variables.\n",
    "\n",
    "By using a trendline or OLS line in a scatter plot, we can visually observe the direction and strength of the relationship between the variables. The line is positioned to best represent the general pattern of the data points, whether it be a positive or negative correlation, or even no apparent correlation.\n"
   ]
  },
  {
   "cell_type": "code",
   "execution_count": 110,
   "metadata": {},
   "outputs": [
    {
     "data": {
      "application/vnd.plotly.v1+json": {
       "config": {
        "plotlyServerURL": "https://plot.ly"
       },
       "data": [
        {
         "hovertemplate": "MSFT=%{marker.color}<br>GOOG=%{y}<extra></extra>",
         "legendgroup": "",
         "marker": {
          "color": [
           -0.02071960120797578,
           0.019957043802311336,
           0.015064327254310061,
           0.005936516026065153,
           0,
           -0.0021028800244800028,
           -0.00458839195740024,
           0.011711284258745902,
           0.021734135183137715,
           0.004822413340907605,
           0.0101246450411967,
           0.003058911464606906,
           -0.0026601996769254344,
           0.010897422902248266,
           -0.005148578862930742,
           -0.003331643158663633,
           0.006425853542943338,
           0.042114094026832305,
           0.003651270562141873,
           0.022413989723436334,
           -0.006784652382748391,
           0.011415590663859776,
           0.0026113920465624663,
           0.0073054408165815765,
           -0.0011294585667210866,
           0.0027673316658303193,
           -0.0030859449610431966,
           -0.015329731256255474,
           0.0049274034658846055,
           0.012904916048794846,
           -0.0019302505799131398,
           0.010236007264316838,
           0.0006786155111178083,
           0.006339944442553369,
           0.005391607505047968,
           -0.009559655482947349,
           -0.006326607779824189,
           0.000681138850961327,
           -0.02435557037231062,
           0.021081061393032785,
           -0.017942558988696677,
           -0.001542775606845348,
           -0.0017875282005661575,
           -0.019666743092401906,
           0.009844958172844365,
           0.02676360775538833,
           0.0001491412320340224,
           -0.00558244594136259,
           0.028339847381096295,
           -0.009166913244505026,
           -0.03258688062805326,
           0.019217778141398467,
           -0.029134862651135407,
           -0.0033856315598814746,
           -0.012013595795939191,
           0.02306898590609685,
           0.018057447390953385,
           0.004471790889788441,
           0.023185761741731703,
           -0.0035042983143290796,
           0.0020513323729796085,
           -0.007691297517058104
          ],
          "coloraxis": "coloraxis",
          "symbol": "circle"
         },
         "mode": "markers",
         "name": "",
         "orientation": "v",
         "showlegend": false,
         "type": "scatter",
         "x": [
          -0.02071960120797578,
          0.019957043802311336,
          0.015064327254310061,
          0.005936516026065153,
          0,
          -0.0021028800244800028,
          -0.00458839195740024,
          0.011711284258745902,
          0.021734135183137715,
          0.004822413340907605,
          0.0101246450411967,
          0.003058911464606906,
          -0.0026601996769254344,
          0.010897422902248266,
          -0.005148578862930742,
          -0.003331643158663633,
          0.006425853542943338,
          0.042114094026832305,
          0.003651270562141873,
          0.022413989723436334,
          -0.006784652382748391,
          0.011415590663859776,
          0.0026113920465624663,
          0.0073054408165815765,
          -0.0011294585667210866,
          0.0027673316658303193,
          -0.0030859449610431966,
          -0.015329731256255474,
          0.0049274034658846055,
          0.012904916048794846,
          -0.0019302505799131398,
          0.010236007264316838,
          0.0006786155111178083,
          0.006339944442553369,
          0.005391607505047968,
          -0.009559655482947349,
          -0.006326607779824189,
          0.000681138850961327,
          -0.02435557037231062,
          0.021081061393032785,
          -0.017942558988696677,
          -0.001542775606845348,
          -0.0017875282005661575,
          -0.019666743092401906,
          0.009844958172844365,
          0.02676360775538833,
          0.0001491412320340224,
          -0.00558244594136259,
          0.028339847381096295,
          -0.009166913244505026,
          -0.03258688062805326,
          0.019217778141398467,
          -0.029134862651135407,
          -0.0033856315598814746,
          -0.012013595795939191,
          0.02306898590609685,
          0.018057447390953385,
          0.004471790889788441,
          0.023185761741731703,
          -0.0035042983143290796,
          0.0020513323729796085,
          -0.007691297517058104
         ],
         "xaxis": "x",
         "y": [
          -0.019767295978645683,
          0.018031641868068604,
          0.008643177160928772,
          0.013334137631931586,
          0.006254233740982107,
          -0.008628663505002354,
          -0.015373025580498245,
          0.008682396569587914,
          0.025467794216354367,
          0.001859817296365529,
          0.009073526844320945,
          0.00602621885506327,
          -0.009783015662055305,
          0.0025665066912496926,
          -0.029104130128649763,
          0.0010675923903855633,
          0.006478220602120333,
          0.04836694945695341,
          -0.0020386039455109195,
          0.014654824047089177,
          -0.030326266548866943,
          0.01452977928171606,
          0.006355187075844038,
          0.012896011020341103,
          0.003752941911757901,
          0.0007404409805558121,
          -0.0006896269884244521,
          -0.017571348972257872,
          0.0008320080522146167,
          0.019744674090181658,
          -0.001720680396285701,
          -0.0020884974625884345,
          -0.00009396259613125846,
          0.011049115220125971,
          -0.005019608954865751,
          -0.01916602211780316,
          -0.0021859256886936906,
          -0.0002691865046584585,
          -0.026660071606874003,
          0.023164283453649848,
          -0.025062640152544002,
          -0.00585460125577697,
          0.015241765583886346,
          -0.008735863812474265,
          0.008953105295237629,
          0.029486153584624253,
          0.004620520897325342,
          -0.004131924875548254,
          0.003841844579923759,
          -0.013253773131292279,
          -0.011819634370268228,
          0.016541261266040275,
          -0.017167839690898967,
          -0.014053633449836789,
          -0.0028114904821024966,
          0.012773743158932538,
          0.018918948943754232,
          0.0013167608990234392,
          0.0062625925127430815,
          -0.010914181469367512,
          0.00038582497987005304,
          -0.0034265083786925166
         ],
         "yaxis": "y"
        },
        {
         "hovertemplate": "<b>OLS trendline</b><br>GOOG = 0.852333 * MSFT + -0.00111757<br>R<sup>2</sup>=0.676431<br><br>MSFT=%{x}<br>GOOG=%{y} <b>(trend)</b><extra></extra>",
         "legendgroup": "",
         "line": {
          "color": "firebrick"
         },
         "marker": {
          "symbol": "circle"
         },
         "mode": "lines",
         "name": "",
         "showlegend": false,
         "type": "scatter",
         "x": [
          -0.03258688062805326,
          -0.029134862651135407,
          -0.02435557037231062,
          -0.02071960120797578,
          -0.019666743092401906,
          -0.017942558988696677,
          -0.015329731256255474,
          -0.012013595795939191,
          -0.009559655482947349,
          -0.009166913244505026,
          -0.007691297517058104,
          -0.006784652382748391,
          -0.006326607779824189,
          -0.00558244594136259,
          -0.005148578862930742,
          -0.00458839195740024,
          -0.0035042983143290796,
          -0.0033856315598814746,
          -0.003331643158663633,
          -0.0030859449610431966,
          -0.0026601996769254344,
          -0.0021028800244800028,
          -0.0019302505799131398,
          -0.0017875282005661575,
          -0.001542775606845348,
          -0.0011294585667210866,
          0,
          0.0001491412320340224,
          0.0006786155111178083,
          0.000681138850961327,
          0.0020513323729796085,
          0.0026113920465624663,
          0.0027673316658303193,
          0.003058911464606906,
          0.003651270562141873,
          0.004471790889788441,
          0.004822413340907605,
          0.0049274034658846055,
          0.005391607505047968,
          0.005936516026065153,
          0.006339944442553369,
          0.006425853542943338,
          0.0073054408165815765,
          0.009844958172844365,
          0.0101246450411967,
          0.010236007264316838,
          0.010897422902248266,
          0.011415590663859776,
          0.011711284258745902,
          0.012904916048794846,
          0.015064327254310061,
          0.018057447390953385,
          0.019217778141398467,
          0.019957043802311336,
          0.021081061393032785,
          0.021734135183137715,
          0.022413989723436334,
          0.02306898590609685,
          0.023185761741731703,
          0.02676360775538833,
          0.028339847381096295,
          0.042114094026832305
         ],
         "xaxis": "x",
         "y": [
          -0.028892428023944886,
          -0.02595016086981726,
          -0.021876614675681503,
          -0.01877755994387648,
          -0.017880174741330232,
          -0.016410596572872856,
          -0.014183598547961224,
          -0.011357148480560929,
          -0.009265575369011812,
          -0.008930828390307156,
          -0.007673113130418017,
          -0.006900350005496266,
          -0.006509943698425814,
          -0.005875670369230783,
          -0.005505871352347586,
          -0.005028405839903641,
          -0.004104397581738438,
          -0.004003254048815746,
          -0.0039572379791807475,
          -0.0037478214171811426,
          -0.003384944869648541,
          -0.0029099232102294606,
          -0.0027627855220770142,
          -0.002641138597953374,
          -0.002432528004901002,
          -0.002080244453792542,
          -0.001117570196290957,
          -0.0009904522753316847,
          -0.0005391641329406758,
          -0.0005370134083529332,
          0.0006308470783506599,
          0.0011082041468690475,
          0.0012411165542976516,
          0.0014896394966704717,
          0.001994526414345782,
          0.0026938825664490373,
          0.0029927294810148546,
          0.00308221597798362,
          0.003477872172816999,
          0.003942315421407671,
          0.004286170577091075,
          0.004359393696439874,
          0.005109094527003087,
          0.007273607734822581,
          0.007511993945930507,
          0.0076069115893170475,
          0.008170657641546345,
          0.008612308871496954,
          0.00886433813604214,
          0.009881709318193183,
          0.011722245695676177,
          0.014273379300799117,
          0.015262366924208608,
          0.015892467082093777,
          0.01685050381885324,
          0.017407139842968912,
          0.017986601971173456,
          0.018544876512965297,
          0.018644408354306113,
          0.02169392283508162,
          0.023037403114954252,
          0.03477764136098646
         ],
         "yaxis": "y"
        }
       ],
       "layout": {
        "coloraxis": {
         "colorbar": {
          "title": {
           "text": "MSFT"
          }
         },
         "colorscale": [
          [
           0,
           "#0d0887"
          ],
          [
           0.1111111111111111,
           "#46039f"
          ],
          [
           0.2222222222222222,
           "#7201a8"
          ],
          [
           0.3333333333333333,
           "#9c179e"
          ],
          [
           0.4444444444444444,
           "#bd3786"
          ],
          [
           0.5555555555555556,
           "#d8576b"
          ],
          [
           0.6666666666666666,
           "#ed7953"
          ],
          [
           0.7777777777777778,
           "#fb9f3a"
          ],
          [
           0.8888888888888888,
           "#fdca26"
          ],
          [
           1,
           "#f0f921"
          ]
         ]
        },
        "height": 800,
        "legend": {
         "tracegroupgap": 0
        },
        "template": {
         "data": {
          "bar": [
           {
            "error_x": {
             "color": "#f2f5fa"
            },
            "error_y": {
             "color": "#f2f5fa"
            },
            "marker": {
             "line": {
              "color": "rgb(17,17,17)",
              "width": 0.5
             },
             "pattern": {
              "fillmode": "overlay",
              "size": 10,
              "solidity": 0.2
             }
            },
            "type": "bar"
           }
          ],
          "barpolar": [
           {
            "marker": {
             "line": {
              "color": "rgb(17,17,17)",
              "width": 0.5
             },
             "pattern": {
              "fillmode": "overlay",
              "size": 10,
              "solidity": 0.2
             }
            },
            "type": "barpolar"
           }
          ],
          "carpet": [
           {
            "aaxis": {
             "endlinecolor": "#A2B1C6",
             "gridcolor": "#506784",
             "linecolor": "#506784",
             "minorgridcolor": "#506784",
             "startlinecolor": "#A2B1C6"
            },
            "baxis": {
             "endlinecolor": "#A2B1C6",
             "gridcolor": "#506784",
             "linecolor": "#506784",
             "minorgridcolor": "#506784",
             "startlinecolor": "#A2B1C6"
            },
            "type": "carpet"
           }
          ],
          "choropleth": [
           {
            "colorbar": {
             "outlinewidth": 0,
             "ticks": ""
            },
            "type": "choropleth"
           }
          ],
          "contour": [
           {
            "colorbar": {
             "outlinewidth": 0,
             "ticks": ""
            },
            "colorscale": [
             [
              0,
              "#0d0887"
             ],
             [
              0.1111111111111111,
              "#46039f"
             ],
             [
              0.2222222222222222,
              "#7201a8"
             ],
             [
              0.3333333333333333,
              "#9c179e"
             ],
             [
              0.4444444444444444,
              "#bd3786"
             ],
             [
              0.5555555555555556,
              "#d8576b"
             ],
             [
              0.6666666666666666,
              "#ed7953"
             ],
             [
              0.7777777777777778,
              "#fb9f3a"
             ],
             [
              0.8888888888888888,
              "#fdca26"
             ],
             [
              1,
              "#f0f921"
             ]
            ],
            "type": "contour"
           }
          ],
          "contourcarpet": [
           {
            "colorbar": {
             "outlinewidth": 0,
             "ticks": ""
            },
            "type": "contourcarpet"
           }
          ],
          "heatmap": [
           {
            "colorbar": {
             "outlinewidth": 0,
             "ticks": ""
            },
            "colorscale": [
             [
              0,
              "#0d0887"
             ],
             [
              0.1111111111111111,
              "#46039f"
             ],
             [
              0.2222222222222222,
              "#7201a8"
             ],
             [
              0.3333333333333333,
              "#9c179e"
             ],
             [
              0.4444444444444444,
              "#bd3786"
             ],
             [
              0.5555555555555556,
              "#d8576b"
             ],
             [
              0.6666666666666666,
              "#ed7953"
             ],
             [
              0.7777777777777778,
              "#fb9f3a"
             ],
             [
              0.8888888888888888,
              "#fdca26"
             ],
             [
              1,
              "#f0f921"
             ]
            ],
            "type": "heatmap"
           }
          ],
          "heatmapgl": [
           {
            "colorbar": {
             "outlinewidth": 0,
             "ticks": ""
            },
            "colorscale": [
             [
              0,
              "#0d0887"
             ],
             [
              0.1111111111111111,
              "#46039f"
             ],
             [
              0.2222222222222222,
              "#7201a8"
             ],
             [
              0.3333333333333333,
              "#9c179e"
             ],
             [
              0.4444444444444444,
              "#bd3786"
             ],
             [
              0.5555555555555556,
              "#d8576b"
             ],
             [
              0.6666666666666666,
              "#ed7953"
             ],
             [
              0.7777777777777778,
              "#fb9f3a"
             ],
             [
              0.8888888888888888,
              "#fdca26"
             ],
             [
              1,
              "#f0f921"
             ]
            ],
            "type": "heatmapgl"
           }
          ],
          "histogram": [
           {
            "marker": {
             "pattern": {
              "fillmode": "overlay",
              "size": 10,
              "solidity": 0.2
             }
            },
            "type": "histogram"
           }
          ],
          "histogram2d": [
           {
            "colorbar": {
             "outlinewidth": 0,
             "ticks": ""
            },
            "colorscale": [
             [
              0,
              "#0d0887"
             ],
             [
              0.1111111111111111,
              "#46039f"
             ],
             [
              0.2222222222222222,
              "#7201a8"
             ],
             [
              0.3333333333333333,
              "#9c179e"
             ],
             [
              0.4444444444444444,
              "#bd3786"
             ],
             [
              0.5555555555555556,
              "#d8576b"
             ],
             [
              0.6666666666666666,
              "#ed7953"
             ],
             [
              0.7777777777777778,
              "#fb9f3a"
             ],
             [
              0.8888888888888888,
              "#fdca26"
             ],
             [
              1,
              "#f0f921"
             ]
            ],
            "type": "histogram2d"
           }
          ],
          "histogram2dcontour": [
           {
            "colorbar": {
             "outlinewidth": 0,
             "ticks": ""
            },
            "colorscale": [
             [
              0,
              "#0d0887"
             ],
             [
              0.1111111111111111,
              "#46039f"
             ],
             [
              0.2222222222222222,
              "#7201a8"
             ],
             [
              0.3333333333333333,
              "#9c179e"
             ],
             [
              0.4444444444444444,
              "#bd3786"
             ],
             [
              0.5555555555555556,
              "#d8576b"
             ],
             [
              0.6666666666666666,
              "#ed7953"
             ],
             [
              0.7777777777777778,
              "#fb9f3a"
             ],
             [
              0.8888888888888888,
              "#fdca26"
             ],
             [
              1,
              "#f0f921"
             ]
            ],
            "type": "histogram2dcontour"
           }
          ],
          "mesh3d": [
           {
            "colorbar": {
             "outlinewidth": 0,
             "ticks": ""
            },
            "type": "mesh3d"
           }
          ],
          "parcoords": [
           {
            "line": {
             "colorbar": {
              "outlinewidth": 0,
              "ticks": ""
             }
            },
            "type": "parcoords"
           }
          ],
          "pie": [
           {
            "automargin": true,
            "type": "pie"
           }
          ],
          "scatter": [
           {
            "marker": {
             "line": {
              "color": "#283442"
             }
            },
            "type": "scatter"
           }
          ],
          "scatter3d": [
           {
            "line": {
             "colorbar": {
              "outlinewidth": 0,
              "ticks": ""
             }
            },
            "marker": {
             "colorbar": {
              "outlinewidth": 0,
              "ticks": ""
             }
            },
            "type": "scatter3d"
           }
          ],
          "scattercarpet": [
           {
            "marker": {
             "colorbar": {
              "outlinewidth": 0,
              "ticks": ""
             }
            },
            "type": "scattercarpet"
           }
          ],
          "scattergeo": [
           {
            "marker": {
             "colorbar": {
              "outlinewidth": 0,
              "ticks": ""
             }
            },
            "type": "scattergeo"
           }
          ],
          "scattergl": [
           {
            "marker": {
             "line": {
              "color": "#283442"
             }
            },
            "type": "scattergl"
           }
          ],
          "scattermapbox": [
           {
            "marker": {
             "colorbar": {
              "outlinewidth": 0,
              "ticks": ""
             }
            },
            "type": "scattermapbox"
           }
          ],
          "scatterpolar": [
           {
            "marker": {
             "colorbar": {
              "outlinewidth": 0,
              "ticks": ""
             }
            },
            "type": "scatterpolar"
           }
          ],
          "scatterpolargl": [
           {
            "marker": {
             "colorbar": {
              "outlinewidth": 0,
              "ticks": ""
             }
            },
            "type": "scatterpolargl"
           }
          ],
          "scatterternary": [
           {
            "marker": {
             "colorbar": {
              "outlinewidth": 0,
              "ticks": ""
             }
            },
            "type": "scatterternary"
           }
          ],
          "surface": [
           {
            "colorbar": {
             "outlinewidth": 0,
             "ticks": ""
            },
            "colorscale": [
             [
              0,
              "#0d0887"
             ],
             [
              0.1111111111111111,
              "#46039f"
             ],
             [
              0.2222222222222222,
              "#7201a8"
             ],
             [
              0.3333333333333333,
              "#9c179e"
             ],
             [
              0.4444444444444444,
              "#bd3786"
             ],
             [
              0.5555555555555556,
              "#d8576b"
             ],
             [
              0.6666666666666666,
              "#ed7953"
             ],
             [
              0.7777777777777778,
              "#fb9f3a"
             ],
             [
              0.8888888888888888,
              "#fdca26"
             ],
             [
              1,
              "#f0f921"
             ]
            ],
            "type": "surface"
           }
          ],
          "table": [
           {
            "cells": {
             "fill": {
              "color": "#506784"
             },
             "line": {
              "color": "rgb(17,17,17)"
             }
            },
            "header": {
             "fill": {
              "color": "#2a3f5f"
             },
             "line": {
              "color": "rgb(17,17,17)"
             }
            },
            "type": "table"
           }
          ]
         },
         "layout": {
          "annotationdefaults": {
           "arrowcolor": "#f2f5fa",
           "arrowhead": 0,
           "arrowwidth": 1
          },
          "autotypenumbers": "strict",
          "coloraxis": {
           "colorbar": {
            "outlinewidth": 0,
            "ticks": ""
           }
          },
          "colorscale": {
           "diverging": [
            [
             0,
             "#8e0152"
            ],
            [
             0.1,
             "#c51b7d"
            ],
            [
             0.2,
             "#de77ae"
            ],
            [
             0.3,
             "#f1b6da"
            ],
            [
             0.4,
             "#fde0ef"
            ],
            [
             0.5,
             "#f7f7f7"
            ],
            [
             0.6,
             "#e6f5d0"
            ],
            [
             0.7,
             "#b8e186"
            ],
            [
             0.8,
             "#7fbc41"
            ],
            [
             0.9,
             "#4d9221"
            ],
            [
             1,
             "#276419"
            ]
           ],
           "sequential": [
            [
             0,
             "#0d0887"
            ],
            [
             0.1111111111111111,
             "#46039f"
            ],
            [
             0.2222222222222222,
             "#7201a8"
            ],
            [
             0.3333333333333333,
             "#9c179e"
            ],
            [
             0.4444444444444444,
             "#bd3786"
            ],
            [
             0.5555555555555556,
             "#d8576b"
            ],
            [
             0.6666666666666666,
             "#ed7953"
            ],
            [
             0.7777777777777778,
             "#fb9f3a"
            ],
            [
             0.8888888888888888,
             "#fdca26"
            ],
            [
             1,
             "#f0f921"
            ]
           ],
           "sequentialminus": [
            [
             0,
             "#0d0887"
            ],
            [
             0.1111111111111111,
             "#46039f"
            ],
            [
             0.2222222222222222,
             "#7201a8"
            ],
            [
             0.3333333333333333,
             "#9c179e"
            ],
            [
             0.4444444444444444,
             "#bd3786"
            ],
            [
             0.5555555555555556,
             "#d8576b"
            ],
            [
             0.6666666666666666,
             "#ed7953"
            ],
            [
             0.7777777777777778,
             "#fb9f3a"
            ],
            [
             0.8888888888888888,
             "#fdca26"
            ],
            [
             1,
             "#f0f921"
            ]
           ]
          },
          "colorway": [
           "#636efa",
           "#EF553B",
           "#00cc96",
           "#ab63fa",
           "#FFA15A",
           "#19d3f3",
           "#FF6692",
           "#B6E880",
           "#FF97FF",
           "#FECB52"
          ],
          "font": {
           "color": "#f2f5fa"
          },
          "geo": {
           "bgcolor": "rgb(17,17,17)",
           "lakecolor": "rgb(17,17,17)",
           "landcolor": "rgb(17,17,17)",
           "showlakes": true,
           "showland": true,
           "subunitcolor": "#506784"
          },
          "hoverlabel": {
           "align": "left"
          },
          "hovermode": "closest",
          "mapbox": {
           "style": "dark"
          },
          "paper_bgcolor": "rgb(17,17,17)",
          "plot_bgcolor": "rgb(17,17,17)",
          "polar": {
           "angularaxis": {
            "gridcolor": "#506784",
            "linecolor": "#506784",
            "ticks": ""
           },
           "bgcolor": "rgb(17,17,17)",
           "radialaxis": {
            "gridcolor": "#506784",
            "linecolor": "#506784",
            "ticks": ""
           }
          },
          "scene": {
           "xaxis": {
            "backgroundcolor": "rgb(17,17,17)",
            "gridcolor": "#506784",
            "gridwidth": 2,
            "linecolor": "#506784",
            "showbackground": true,
            "ticks": "",
            "zerolinecolor": "#C8D4E3"
           },
           "yaxis": {
            "backgroundcolor": "rgb(17,17,17)",
            "gridcolor": "#506784",
            "gridwidth": 2,
            "linecolor": "#506784",
            "showbackground": true,
            "ticks": "",
            "zerolinecolor": "#C8D4E3"
           },
           "zaxis": {
            "backgroundcolor": "rgb(17,17,17)",
            "gridcolor": "#506784",
            "gridwidth": 2,
            "linecolor": "#506784",
            "showbackground": true,
            "ticks": "",
            "zerolinecolor": "#C8D4E3"
           }
          },
          "shapedefaults": {
           "line": {
            "color": "#f2f5fa"
           }
          },
          "sliderdefaults": {
           "bgcolor": "#C8D4E3",
           "bordercolor": "rgb(17,17,17)",
           "borderwidth": 1,
           "tickwidth": 0
          },
          "ternary": {
           "aaxis": {
            "gridcolor": "#506784",
            "linecolor": "#506784",
            "ticks": ""
           },
           "baxis": {
            "gridcolor": "#506784",
            "linecolor": "#506784",
            "ticks": ""
           },
           "bgcolor": "rgb(17,17,17)",
           "caxis": {
            "gridcolor": "#506784",
            "linecolor": "#506784",
            "ticks": ""
           }
          },
          "title": {
           "x": 0.05
          },
          "updatemenudefaults": {
           "bgcolor": "#506784",
           "borderwidth": 0
          },
          "xaxis": {
           "automargin": true,
           "gridcolor": "#283442",
           "linecolor": "#506784",
           "ticks": "",
           "title": {
            "standoff": 15
           },
           "zerolinecolor": "#283442",
           "zerolinewidth": 2
          },
          "yaxis": {
           "automargin": true,
           "gridcolor": "#283442",
           "linecolor": "#506784",
           "ticks": "",
           "title": {
            "standoff": 15
           },
           "zerolinecolor": "#283442",
           "zerolinewidth": 2
          }
         }
        },
        "title": {
         "text": "Scatter Plot and Trendline Of MSFT Return and GOOG Return"
        },
        "width": 1000,
        "xaxis": {
         "anchor": "y",
         "domain": [
          0,
          1
         ],
         "title": {
          "text": "MSFT"
         }
        },
        "yaxis": {
         "anchor": "x",
         "domain": [
          0,
          1
         ],
         "title": {
          "text": "GOOG"
         }
        }
       }
      },
      "text/html": [
       "<div>                            <div id=\"e15d072e-a226-4a6c-9362-6f8709f7bf27\" class=\"plotly-graph-div\" style=\"height:800px; width:1000px;\"></div>            <script type=\"text/javascript\">                require([\"plotly\"], function(Plotly) {                    window.PLOTLYENV=window.PLOTLYENV || {};                                    if (document.getElementById(\"e15d072e-a226-4a6c-9362-6f8709f7bf27\")) {                    Plotly.newPlot(                        \"e15d072e-a226-4a6c-9362-6f8709f7bf27\",                        [{\"hovertemplate\":\"MSFT=%{marker.color}<br>GOOG=%{y}<extra></extra>\",\"legendgroup\":\"\",\"marker\":{\"color\":[-0.02071960120797578,0.019957043802311336,0.015064327254310061,0.005936516026065153,0.0,-0.0021028800244800028,-0.00458839195740024,0.011711284258745902,0.021734135183137715,0.004822413340907605,0.0101246450411967,0.003058911464606906,-0.0026601996769254344,0.010897422902248266,-0.005148578862930742,-0.003331643158663633,0.006425853542943338,0.042114094026832305,0.003651270562141873,0.022413989723436334,-0.006784652382748391,0.011415590663859776,0.0026113920465624663,0.0073054408165815765,-0.0011294585667210866,0.0027673316658303193,-0.0030859449610431966,-0.015329731256255474,0.0049274034658846055,0.012904916048794846,-0.0019302505799131398,0.010236007264316838,0.0006786155111178083,0.006339944442553369,0.005391607505047968,-0.009559655482947349,-0.006326607779824189,0.000681138850961327,-0.02435557037231062,0.021081061393032785,-0.017942558988696677,-0.001542775606845348,-0.0017875282005661575,-0.019666743092401906,0.009844958172844365,0.02676360775538833,0.0001491412320340224,-0.00558244594136259,0.028339847381096295,-0.009166913244505026,-0.03258688062805326,0.019217778141398467,-0.029134862651135407,-0.0033856315598814746,-0.012013595795939191,0.02306898590609685,0.018057447390953385,0.004471790889788441,0.023185761741731703,-0.0035042983143290796,0.0020513323729796085,-0.007691297517058104],\"coloraxis\":\"coloraxis\",\"symbol\":\"circle\"},\"mode\":\"markers\",\"name\":\"\",\"orientation\":\"v\",\"showlegend\":false,\"x\":[-0.02071960120797578,0.019957043802311336,0.015064327254310061,0.005936516026065153,0.0,-0.0021028800244800028,-0.00458839195740024,0.011711284258745902,0.021734135183137715,0.004822413340907605,0.0101246450411967,0.003058911464606906,-0.0026601996769254344,0.010897422902248266,-0.005148578862930742,-0.003331643158663633,0.006425853542943338,0.042114094026832305,0.003651270562141873,0.022413989723436334,-0.006784652382748391,0.011415590663859776,0.0026113920465624663,0.0073054408165815765,-0.0011294585667210866,0.0027673316658303193,-0.0030859449610431966,-0.015329731256255474,0.0049274034658846055,0.012904916048794846,-0.0019302505799131398,0.010236007264316838,0.0006786155111178083,0.006339944442553369,0.005391607505047968,-0.009559655482947349,-0.006326607779824189,0.000681138850961327,-0.02435557037231062,0.021081061393032785,-0.017942558988696677,-0.001542775606845348,-0.0017875282005661575,-0.019666743092401906,0.009844958172844365,0.02676360775538833,0.0001491412320340224,-0.00558244594136259,0.028339847381096295,-0.009166913244505026,-0.03258688062805326,0.019217778141398467,-0.029134862651135407,-0.0033856315598814746,-0.012013595795939191,0.02306898590609685,0.018057447390953385,0.004471790889788441,0.023185761741731703,-0.0035042983143290796,0.0020513323729796085,-0.007691297517058104],\"xaxis\":\"x\",\"y\":[-0.019767295978645683,0.018031641868068604,0.008643177160928772,0.013334137631931586,0.006254233740982107,-0.008628663505002354,-0.015373025580498245,0.008682396569587914,0.025467794216354367,0.001859817296365529,0.009073526844320945,0.00602621885506327,-0.009783015662055305,0.0025665066912496926,-0.029104130128649763,0.0010675923903855633,0.006478220602120333,0.04836694945695341,-0.0020386039455109195,0.014654824047089177,-0.030326266548866943,0.01452977928171606,0.006355187075844038,0.012896011020341103,0.003752941911757901,0.0007404409805558121,-0.0006896269884244521,-0.017571348972257872,0.0008320080522146167,0.019744674090181658,-0.001720680396285701,-0.0020884974625884345,-9.396259613125846e-05,0.011049115220125971,-0.005019608954865751,-0.01916602211780316,-0.0021859256886936906,-0.0002691865046584585,-0.026660071606874003,0.023164283453649848,-0.025062640152544002,-0.00585460125577697,0.015241765583886346,-0.008735863812474265,0.008953105295237629,0.029486153584624253,0.004620520897325342,-0.004131924875548254,0.003841844579923759,-0.013253773131292279,-0.011819634370268228,0.016541261266040275,-0.017167839690898967,-0.014053633449836789,-0.0028114904821024966,0.012773743158932538,0.018918948943754232,0.0013167608990234392,0.0062625925127430815,-0.010914181469367512,0.00038582497987005304,-0.0034265083786925166],\"yaxis\":\"y\",\"type\":\"scatter\"},{\"hovertemplate\":\"<b>OLS trendline</b><br>GOOG = 0.852333 * MSFT + -0.00111757<br>R<sup>2</sup>=0.676431<br><br>MSFT=%{x}<br>GOOG=%{y} <b>(trend)</b><extra></extra>\",\"legendgroup\":\"\",\"line\":{\"color\":\"firebrick\"},\"marker\":{\"symbol\":\"circle\"},\"mode\":\"lines\",\"name\":\"\",\"showlegend\":false,\"x\":[-0.03258688062805326,-0.029134862651135407,-0.02435557037231062,-0.02071960120797578,-0.019666743092401906,-0.017942558988696677,-0.015329731256255474,-0.012013595795939191,-0.009559655482947349,-0.009166913244505026,-0.007691297517058104,-0.006784652382748391,-0.006326607779824189,-0.00558244594136259,-0.005148578862930742,-0.00458839195740024,-0.0035042983143290796,-0.0033856315598814746,-0.003331643158663633,-0.0030859449610431966,-0.0026601996769254344,-0.0021028800244800028,-0.0019302505799131398,-0.0017875282005661575,-0.001542775606845348,-0.0011294585667210866,0.0,0.0001491412320340224,0.0006786155111178083,0.000681138850961327,0.0020513323729796085,0.0026113920465624663,0.0027673316658303193,0.003058911464606906,0.003651270562141873,0.004471790889788441,0.004822413340907605,0.0049274034658846055,0.005391607505047968,0.005936516026065153,0.006339944442553369,0.006425853542943338,0.0073054408165815765,0.009844958172844365,0.0101246450411967,0.010236007264316838,0.010897422902248266,0.011415590663859776,0.011711284258745902,0.012904916048794846,0.015064327254310061,0.018057447390953385,0.019217778141398467,0.019957043802311336,0.021081061393032785,0.021734135183137715,0.022413989723436334,0.02306898590609685,0.023185761741731703,0.02676360775538833,0.028339847381096295,0.042114094026832305],\"xaxis\":\"x\",\"y\":[-0.028892428023944886,-0.02595016086981726,-0.021876614675681503,-0.01877755994387648,-0.017880174741330232,-0.016410596572872856,-0.014183598547961224,-0.011357148480560929,-0.009265575369011812,-0.008930828390307156,-0.007673113130418017,-0.006900350005496266,-0.006509943698425814,-0.005875670369230783,-0.005505871352347586,-0.005028405839903641,-0.004104397581738438,-0.004003254048815746,-0.0039572379791807475,-0.0037478214171811426,-0.003384944869648541,-0.0029099232102294606,-0.0027627855220770142,-0.002641138597953374,-0.002432528004901002,-0.002080244453792542,-0.001117570196290957,-0.0009904522753316847,-0.0005391641329406758,-0.0005370134083529332,0.0006308470783506599,0.0011082041468690475,0.0012411165542976516,0.0014896394966704717,0.001994526414345782,0.0026938825664490373,0.0029927294810148546,0.00308221597798362,0.003477872172816999,0.003942315421407671,0.004286170577091075,0.004359393696439874,0.005109094527003087,0.007273607734822581,0.007511993945930507,0.0076069115893170475,0.008170657641546345,0.008612308871496954,0.00886433813604214,0.009881709318193183,0.011722245695676177,0.014273379300799117,0.015262366924208608,0.015892467082093777,0.01685050381885324,0.017407139842968912,0.017986601971173456,0.018544876512965297,0.018644408354306113,0.02169392283508162,0.023037403114954252,0.03477764136098646],\"yaxis\":\"y\",\"type\":\"scatter\"}],                        {\"template\":{\"data\":{\"barpolar\":[{\"marker\":{\"line\":{\"color\":\"rgb(17,17,17)\",\"width\":0.5},\"pattern\":{\"fillmode\":\"overlay\",\"size\":10,\"solidity\":0.2}},\"type\":\"barpolar\"}],\"bar\":[{\"error_x\":{\"color\":\"#f2f5fa\"},\"error_y\":{\"color\":\"#f2f5fa\"},\"marker\":{\"line\":{\"color\":\"rgb(17,17,17)\",\"width\":0.5},\"pattern\":{\"fillmode\":\"overlay\",\"size\":10,\"solidity\":0.2}},\"type\":\"bar\"}],\"carpet\":[{\"aaxis\":{\"endlinecolor\":\"#A2B1C6\",\"gridcolor\":\"#506784\",\"linecolor\":\"#506784\",\"minorgridcolor\":\"#506784\",\"startlinecolor\":\"#A2B1C6\"},\"baxis\":{\"endlinecolor\":\"#A2B1C6\",\"gridcolor\":\"#506784\",\"linecolor\":\"#506784\",\"minorgridcolor\":\"#506784\",\"startlinecolor\":\"#A2B1C6\"},\"type\":\"carpet\"}],\"choropleth\":[{\"colorbar\":{\"outlinewidth\":0,\"ticks\":\"\"},\"type\":\"choropleth\"}],\"contourcarpet\":[{\"colorbar\":{\"outlinewidth\":0,\"ticks\":\"\"},\"type\":\"contourcarpet\"}],\"contour\":[{\"colorbar\":{\"outlinewidth\":0,\"ticks\":\"\"},\"colorscale\":[[0.0,\"#0d0887\"],[0.1111111111111111,\"#46039f\"],[0.2222222222222222,\"#7201a8\"],[0.3333333333333333,\"#9c179e\"],[0.4444444444444444,\"#bd3786\"],[0.5555555555555556,\"#d8576b\"],[0.6666666666666666,\"#ed7953\"],[0.7777777777777778,\"#fb9f3a\"],[0.8888888888888888,\"#fdca26\"],[1.0,\"#f0f921\"]],\"type\":\"contour\"}],\"heatmapgl\":[{\"colorbar\":{\"outlinewidth\":0,\"ticks\":\"\"},\"colorscale\":[[0.0,\"#0d0887\"],[0.1111111111111111,\"#46039f\"],[0.2222222222222222,\"#7201a8\"],[0.3333333333333333,\"#9c179e\"],[0.4444444444444444,\"#bd3786\"],[0.5555555555555556,\"#d8576b\"],[0.6666666666666666,\"#ed7953\"],[0.7777777777777778,\"#fb9f3a\"],[0.8888888888888888,\"#fdca26\"],[1.0,\"#f0f921\"]],\"type\":\"heatmapgl\"}],\"heatmap\":[{\"colorbar\":{\"outlinewidth\":0,\"ticks\":\"\"},\"colorscale\":[[0.0,\"#0d0887\"],[0.1111111111111111,\"#46039f\"],[0.2222222222222222,\"#7201a8\"],[0.3333333333333333,\"#9c179e\"],[0.4444444444444444,\"#bd3786\"],[0.5555555555555556,\"#d8576b\"],[0.6666666666666666,\"#ed7953\"],[0.7777777777777778,\"#fb9f3a\"],[0.8888888888888888,\"#fdca26\"],[1.0,\"#f0f921\"]],\"type\":\"heatmap\"}],\"histogram2dcontour\":[{\"colorbar\":{\"outlinewidth\":0,\"ticks\":\"\"},\"colorscale\":[[0.0,\"#0d0887\"],[0.1111111111111111,\"#46039f\"],[0.2222222222222222,\"#7201a8\"],[0.3333333333333333,\"#9c179e\"],[0.4444444444444444,\"#bd3786\"],[0.5555555555555556,\"#d8576b\"],[0.6666666666666666,\"#ed7953\"],[0.7777777777777778,\"#fb9f3a\"],[0.8888888888888888,\"#fdca26\"],[1.0,\"#f0f921\"]],\"type\":\"histogram2dcontour\"}],\"histogram2d\":[{\"colorbar\":{\"outlinewidth\":0,\"ticks\":\"\"},\"colorscale\":[[0.0,\"#0d0887\"],[0.1111111111111111,\"#46039f\"],[0.2222222222222222,\"#7201a8\"],[0.3333333333333333,\"#9c179e\"],[0.4444444444444444,\"#bd3786\"],[0.5555555555555556,\"#d8576b\"],[0.6666666666666666,\"#ed7953\"],[0.7777777777777778,\"#fb9f3a\"],[0.8888888888888888,\"#fdca26\"],[1.0,\"#f0f921\"]],\"type\":\"histogram2d\"}],\"histogram\":[{\"marker\":{\"pattern\":{\"fillmode\":\"overlay\",\"size\":10,\"solidity\":0.2}},\"type\":\"histogram\"}],\"mesh3d\":[{\"colorbar\":{\"outlinewidth\":0,\"ticks\":\"\"},\"type\":\"mesh3d\"}],\"parcoords\":[{\"line\":{\"colorbar\":{\"outlinewidth\":0,\"ticks\":\"\"}},\"type\":\"parcoords\"}],\"pie\":[{\"automargin\":true,\"type\":\"pie\"}],\"scatter3d\":[{\"line\":{\"colorbar\":{\"outlinewidth\":0,\"ticks\":\"\"}},\"marker\":{\"colorbar\":{\"outlinewidth\":0,\"ticks\":\"\"}},\"type\":\"scatter3d\"}],\"scattercarpet\":[{\"marker\":{\"colorbar\":{\"outlinewidth\":0,\"ticks\":\"\"}},\"type\":\"scattercarpet\"}],\"scattergeo\":[{\"marker\":{\"colorbar\":{\"outlinewidth\":0,\"ticks\":\"\"}},\"type\":\"scattergeo\"}],\"scattergl\":[{\"marker\":{\"line\":{\"color\":\"#283442\"}},\"type\":\"scattergl\"}],\"scattermapbox\":[{\"marker\":{\"colorbar\":{\"outlinewidth\":0,\"ticks\":\"\"}},\"type\":\"scattermapbox\"}],\"scatterpolargl\":[{\"marker\":{\"colorbar\":{\"outlinewidth\":0,\"ticks\":\"\"}},\"type\":\"scatterpolargl\"}],\"scatterpolar\":[{\"marker\":{\"colorbar\":{\"outlinewidth\":0,\"ticks\":\"\"}},\"type\":\"scatterpolar\"}],\"scatter\":[{\"marker\":{\"line\":{\"color\":\"#283442\"}},\"type\":\"scatter\"}],\"scatterternary\":[{\"marker\":{\"colorbar\":{\"outlinewidth\":0,\"ticks\":\"\"}},\"type\":\"scatterternary\"}],\"surface\":[{\"colorbar\":{\"outlinewidth\":0,\"ticks\":\"\"},\"colorscale\":[[0.0,\"#0d0887\"],[0.1111111111111111,\"#46039f\"],[0.2222222222222222,\"#7201a8\"],[0.3333333333333333,\"#9c179e\"],[0.4444444444444444,\"#bd3786\"],[0.5555555555555556,\"#d8576b\"],[0.6666666666666666,\"#ed7953\"],[0.7777777777777778,\"#fb9f3a\"],[0.8888888888888888,\"#fdca26\"],[1.0,\"#f0f921\"]],\"type\":\"surface\"}],\"table\":[{\"cells\":{\"fill\":{\"color\":\"#506784\"},\"line\":{\"color\":\"rgb(17,17,17)\"}},\"header\":{\"fill\":{\"color\":\"#2a3f5f\"},\"line\":{\"color\":\"rgb(17,17,17)\"}},\"type\":\"table\"}]},\"layout\":{\"annotationdefaults\":{\"arrowcolor\":\"#f2f5fa\",\"arrowhead\":0,\"arrowwidth\":1},\"autotypenumbers\":\"strict\",\"coloraxis\":{\"colorbar\":{\"outlinewidth\":0,\"ticks\":\"\"}},\"colorscale\":{\"diverging\":[[0,\"#8e0152\"],[0.1,\"#c51b7d\"],[0.2,\"#de77ae\"],[0.3,\"#f1b6da\"],[0.4,\"#fde0ef\"],[0.5,\"#f7f7f7\"],[0.6,\"#e6f5d0\"],[0.7,\"#b8e186\"],[0.8,\"#7fbc41\"],[0.9,\"#4d9221\"],[1,\"#276419\"]],\"sequential\":[[0.0,\"#0d0887\"],[0.1111111111111111,\"#46039f\"],[0.2222222222222222,\"#7201a8\"],[0.3333333333333333,\"#9c179e\"],[0.4444444444444444,\"#bd3786\"],[0.5555555555555556,\"#d8576b\"],[0.6666666666666666,\"#ed7953\"],[0.7777777777777778,\"#fb9f3a\"],[0.8888888888888888,\"#fdca26\"],[1.0,\"#f0f921\"]],\"sequentialminus\":[[0.0,\"#0d0887\"],[0.1111111111111111,\"#46039f\"],[0.2222222222222222,\"#7201a8\"],[0.3333333333333333,\"#9c179e\"],[0.4444444444444444,\"#bd3786\"],[0.5555555555555556,\"#d8576b\"],[0.6666666666666666,\"#ed7953\"],[0.7777777777777778,\"#fb9f3a\"],[0.8888888888888888,\"#fdca26\"],[1.0,\"#f0f921\"]]},\"colorway\":[\"#636efa\",\"#EF553B\",\"#00cc96\",\"#ab63fa\",\"#FFA15A\",\"#19d3f3\",\"#FF6692\",\"#B6E880\",\"#FF97FF\",\"#FECB52\"],\"font\":{\"color\":\"#f2f5fa\"},\"geo\":{\"bgcolor\":\"rgb(17,17,17)\",\"lakecolor\":\"rgb(17,17,17)\",\"landcolor\":\"rgb(17,17,17)\",\"showlakes\":true,\"showland\":true,\"subunitcolor\":\"#506784\"},\"hoverlabel\":{\"align\":\"left\"},\"hovermode\":\"closest\",\"mapbox\":{\"style\":\"dark\"},\"paper_bgcolor\":\"rgb(17,17,17)\",\"plot_bgcolor\":\"rgb(17,17,17)\",\"polar\":{\"angularaxis\":{\"gridcolor\":\"#506784\",\"linecolor\":\"#506784\",\"ticks\":\"\"},\"bgcolor\":\"rgb(17,17,17)\",\"radialaxis\":{\"gridcolor\":\"#506784\",\"linecolor\":\"#506784\",\"ticks\":\"\"}},\"scene\":{\"xaxis\":{\"backgroundcolor\":\"rgb(17,17,17)\",\"gridcolor\":\"#506784\",\"gridwidth\":2,\"linecolor\":\"#506784\",\"showbackground\":true,\"ticks\":\"\",\"zerolinecolor\":\"#C8D4E3\"},\"yaxis\":{\"backgroundcolor\":\"rgb(17,17,17)\",\"gridcolor\":\"#506784\",\"gridwidth\":2,\"linecolor\":\"#506784\",\"showbackground\":true,\"ticks\":\"\",\"zerolinecolor\":\"#C8D4E3\"},\"zaxis\":{\"backgroundcolor\":\"rgb(17,17,17)\",\"gridcolor\":\"#506784\",\"gridwidth\":2,\"linecolor\":\"#506784\",\"showbackground\":true,\"ticks\":\"\",\"zerolinecolor\":\"#C8D4E3\"}},\"shapedefaults\":{\"line\":{\"color\":\"#f2f5fa\"}},\"sliderdefaults\":{\"bgcolor\":\"#C8D4E3\",\"bordercolor\":\"rgb(17,17,17)\",\"borderwidth\":1,\"tickwidth\":0},\"ternary\":{\"aaxis\":{\"gridcolor\":\"#506784\",\"linecolor\":\"#506784\",\"ticks\":\"\"},\"baxis\":{\"gridcolor\":\"#506784\",\"linecolor\":\"#506784\",\"ticks\":\"\"},\"bgcolor\":\"rgb(17,17,17)\",\"caxis\":{\"gridcolor\":\"#506784\",\"linecolor\":\"#506784\",\"ticks\":\"\"}},\"title\":{\"x\":0.05},\"updatemenudefaults\":{\"bgcolor\":\"#506784\",\"borderwidth\":0},\"xaxis\":{\"automargin\":true,\"gridcolor\":\"#283442\",\"linecolor\":\"#506784\",\"ticks\":\"\",\"title\":{\"standoff\":15},\"zerolinecolor\":\"#283442\",\"zerolinewidth\":2},\"yaxis\":{\"automargin\":true,\"gridcolor\":\"#283442\",\"linecolor\":\"#506784\",\"ticks\":\"\",\"title\":{\"standoff\":15},\"zerolinecolor\":\"#283442\",\"zerolinewidth\":2}}},\"xaxis\":{\"anchor\":\"y\",\"domain\":[0.0,1.0],\"title\":{\"text\":\"MSFT\"}},\"yaxis\":{\"anchor\":\"x\",\"domain\":[0.0,1.0],\"title\":{\"text\":\"GOOG\"}},\"coloraxis\":{\"colorbar\":{\"title\":{\"text\":\"MSFT\"}},\"colorscale\":[[0.0,\"#0d0887\"],[0.1111111111111111,\"#46039f\"],[0.2222222222222222,\"#7201a8\"],[0.3333333333333333,\"#9c179e\"],[0.4444444444444444,\"#bd3786\"],[0.5555555555555556,\"#d8576b\"],[0.6666666666666666,\"#ed7953\"],[0.7777777777777778,\"#fb9f3a\"],[0.8888888888888888,\"#fdca26\"],[1.0,\"#f0f921\"]]},\"legend\":{\"tracegroupgap\":0},\"title\":{\"text\":\"Scatter Plot and Trendline Of MSFT Return and GOOG Return\"},\"width\":1000,\"height\":800},                        {\"responsive\": true}                    ).then(function(){\n",
       "                            \n",
       "var gd = document.getElementById('e15d072e-a226-4a6c-9362-6f8709f7bf27');\n",
       "var x = new MutationObserver(function (mutations, observer) {{\n",
       "        var display = window.getComputedStyle(gd).display;\n",
       "        if (!display || display === 'none') {{\n",
       "            console.log([gd, 'removed!']);\n",
       "            Plotly.purge(gd);\n",
       "            observer.disconnect();\n",
       "        }}\n",
       "}});\n",
       "\n",
       "// Listen for the removal of the full notebook cells\n",
       "var notebookContainer = gd.closest('#notebook-container');\n",
       "if (notebookContainer) {{\n",
       "    x.observe(notebookContainer, {childList: true});\n",
       "}}\n",
       "\n",
       "// Listen for the clearing of the current output cell\n",
       "var outputEl = gd.closest('.output');\n",
       "if (outputEl) {{\n",
       "    x.observe(outputEl, {childList: true});\n",
       "}}\n",
       "\n",
       "                        })                };                });            </script>        </div>"
      ]
     },
     "metadata": {},
     "output_type": "display_data"
    }
   ],
   "source": [
    "fig = px.scatter(returns, x='MSFT', y='GOOG', title='Scatter Plot and Trendline Of MSFT Return and GOOG Return',color=\"MSFT\",trendline='ols', trendline_color_override='firebrick')\n",
    "fig.update_layout(width=1000, height=800)\n",
    "fig.update_layout(template = \"plotly_dark\")\n",
    "fig.show()"
   ]
  },
  {
   "attachments": {},
   "cell_type": "markdown",
   "metadata": {},
   "source": [
    "In addition to representing the overall trend, a trendline or OLS line in a scatter plot can also be utilized for prediction purposes using linear regression. By fitting a linear regression model to the data, we can establish a mathematical relationship between the variables, enabling us to make predictions or estimates based on this model.\n",
    "\n",
    "Linear regression allows us to determine the equation of the line that best fits the data points, providing us with a predictive model. This model can then be used to forecast or estimate the value of one variable based on the value of the other variable. By leveraging the linear regression analysis, we can make informed predictions and gain insights into how changes in one variable may impact the other.\n"
   ]
  },
  {
   "attachments": {},
   "cell_type": "markdown",
   "metadata": {},
   "source": [
    "But again, caution should be exercised when interpreting the relationship between variables based on a scatter plot and linear regression analysis. Although changes in one variable may be associated with changes in the other variable, it does not necessarily imply causation!"
   ]
  },
  {
   "attachments": {},
   "cell_type": "markdown",
   "metadata": {},
   "source": [
    "### BAR CHART"
   ]
  },
  {
   "attachments": {},
   "cell_type": "markdown",
   "metadata": {},
   "source": [
    "A bar chart, also known as a bar graph, is a popular visualization tool that presents data using rectangular bars of varying heights.\n",
    "Each bar represents a category or group, and the height of the bar corresponds to the value or frequency of that category. Bar charts are effective in comparing different categories or groups and visually displaying patterns or trends in the data. "
   ]
  },
  {
   "attachments": {},
   "cell_type": "markdown",
   "metadata": {},
   "source": [
    "For this particular case, I wanted to examine the volume of trades for each stock in the 4th quarter of 2021. As anticipated, Tesla emerged as the leader of the pack, with approximately 5 billion shares traded. Amazon closely followed with 4 billion shares traded. Surprisingly, Netflix has not been receiving the level of trading activity that I would have expected, considering the company's size and prominence"
   ]
  },
  {
   "cell_type": "code",
   "execution_count": 83,
   "metadata": {},
   "outputs": [
    {
     "name": "stdout",
     "output_type": "stream",
     "text": [
      "[*********************100%***********************]  1 of 1 completed\n",
      "[*********************100%***********************]  1 of 1 completed\n",
      "[*********************100%***********************]  1 of 1 completed\n",
      "[*********************100%***********************]  1 of 1 completed\n",
      "[*********************100%***********************]  1 of 1 completed\n",
      "[*********************100%***********************]  1 of 1 completed\n",
      "[*********************100%***********************]  1 of 1 completed\n"
     ]
    }
   ],
   "source": [
    "pf_data2 = pd.DataFrame()\n",
    "for b in assets:\n",
    "    pf_data2[b] = yf.download(b, start=\"2021-01-01\", end=\"2021-12-31\", interval='3mo')['Volume']"
   ]
  },
  {
   "cell_type": "code",
   "execution_count": 85,
   "metadata": {},
   "outputs": [
    {
     "data": {
      "application/vnd.plotly.v1+json": {
       "config": {
        "plotlyServerURL": "https://plot.ly"
       },
       "data": [
        {
         "alignmentgroup": "True",
         "hovertemplate": "variable=2021-10-01 00:00:00<br>index=%{x}<br>value=%{y}<extra></extra>",
         "legendgroup": "2021-10-01 00:00:00",
         "marker": {
          "color": "firebrick",
          "pattern": {
           "shape": ""
          }
         },
         "name": "2021-10-01 00:00:00",
         "offsetgroup": "2021-10-01 00:00:00",
         "orientation": "v",
         "showlegend": true,
         "textposition": "auto",
         "type": "bar",
         "x": [
          "META",
          "AMZN",
          "NFLX",
          "GOOG",
          "MSFT",
          "NVDA",
          "TSLA"
         ],
         "xaxis": "x",
         "y": [
          1467754400,
          4077090000,
          223081800,
          1419004000,
          1652075800,
          2684075300,
          5064306000
         ],
         "yaxis": "y"
        }
       ],
       "layout": {
        "barmode": "relative",
        "height": 800,
        "legend": {
         "title": {
          "text": "variable"
         },
         "tracegroupgap": 0
        },
        "margin": {
         "t": 60
        },
        "template": {
         "data": {
          "bar": [
           {
            "error_x": {
             "color": "#f2f5fa"
            },
            "error_y": {
             "color": "#f2f5fa"
            },
            "marker": {
             "line": {
              "color": "rgb(17,17,17)",
              "width": 0.5
             },
             "pattern": {
              "fillmode": "overlay",
              "size": 10,
              "solidity": 0.2
             }
            },
            "type": "bar"
           }
          ],
          "barpolar": [
           {
            "marker": {
             "line": {
              "color": "rgb(17,17,17)",
              "width": 0.5
             },
             "pattern": {
              "fillmode": "overlay",
              "size": 10,
              "solidity": 0.2
             }
            },
            "type": "barpolar"
           }
          ],
          "carpet": [
           {
            "aaxis": {
             "endlinecolor": "#A2B1C6",
             "gridcolor": "#506784",
             "linecolor": "#506784",
             "minorgridcolor": "#506784",
             "startlinecolor": "#A2B1C6"
            },
            "baxis": {
             "endlinecolor": "#A2B1C6",
             "gridcolor": "#506784",
             "linecolor": "#506784",
             "minorgridcolor": "#506784",
             "startlinecolor": "#A2B1C6"
            },
            "type": "carpet"
           }
          ],
          "choropleth": [
           {
            "colorbar": {
             "outlinewidth": 0,
             "ticks": ""
            },
            "type": "choropleth"
           }
          ],
          "contour": [
           {
            "colorbar": {
             "outlinewidth": 0,
             "ticks": ""
            },
            "colorscale": [
             [
              0,
              "#0d0887"
             ],
             [
              0.1111111111111111,
              "#46039f"
             ],
             [
              0.2222222222222222,
              "#7201a8"
             ],
             [
              0.3333333333333333,
              "#9c179e"
             ],
             [
              0.4444444444444444,
              "#bd3786"
             ],
             [
              0.5555555555555556,
              "#d8576b"
             ],
             [
              0.6666666666666666,
              "#ed7953"
             ],
             [
              0.7777777777777778,
              "#fb9f3a"
             ],
             [
              0.8888888888888888,
              "#fdca26"
             ],
             [
              1,
              "#f0f921"
             ]
            ],
            "type": "contour"
           }
          ],
          "contourcarpet": [
           {
            "colorbar": {
             "outlinewidth": 0,
             "ticks": ""
            },
            "type": "contourcarpet"
           }
          ],
          "heatmap": [
           {
            "colorbar": {
             "outlinewidth": 0,
             "ticks": ""
            },
            "colorscale": [
             [
              0,
              "#0d0887"
             ],
             [
              0.1111111111111111,
              "#46039f"
             ],
             [
              0.2222222222222222,
              "#7201a8"
             ],
             [
              0.3333333333333333,
              "#9c179e"
             ],
             [
              0.4444444444444444,
              "#bd3786"
             ],
             [
              0.5555555555555556,
              "#d8576b"
             ],
             [
              0.6666666666666666,
              "#ed7953"
             ],
             [
              0.7777777777777778,
              "#fb9f3a"
             ],
             [
              0.8888888888888888,
              "#fdca26"
             ],
             [
              1,
              "#f0f921"
             ]
            ],
            "type": "heatmap"
           }
          ],
          "heatmapgl": [
           {
            "colorbar": {
             "outlinewidth": 0,
             "ticks": ""
            },
            "colorscale": [
             [
              0,
              "#0d0887"
             ],
             [
              0.1111111111111111,
              "#46039f"
             ],
             [
              0.2222222222222222,
              "#7201a8"
             ],
             [
              0.3333333333333333,
              "#9c179e"
             ],
             [
              0.4444444444444444,
              "#bd3786"
             ],
             [
              0.5555555555555556,
              "#d8576b"
             ],
             [
              0.6666666666666666,
              "#ed7953"
             ],
             [
              0.7777777777777778,
              "#fb9f3a"
             ],
             [
              0.8888888888888888,
              "#fdca26"
             ],
             [
              1,
              "#f0f921"
             ]
            ],
            "type": "heatmapgl"
           }
          ],
          "histogram": [
           {
            "marker": {
             "pattern": {
              "fillmode": "overlay",
              "size": 10,
              "solidity": 0.2
             }
            },
            "type": "histogram"
           }
          ],
          "histogram2d": [
           {
            "colorbar": {
             "outlinewidth": 0,
             "ticks": ""
            },
            "colorscale": [
             [
              0,
              "#0d0887"
             ],
             [
              0.1111111111111111,
              "#46039f"
             ],
             [
              0.2222222222222222,
              "#7201a8"
             ],
             [
              0.3333333333333333,
              "#9c179e"
             ],
             [
              0.4444444444444444,
              "#bd3786"
             ],
             [
              0.5555555555555556,
              "#d8576b"
             ],
             [
              0.6666666666666666,
              "#ed7953"
             ],
             [
              0.7777777777777778,
              "#fb9f3a"
             ],
             [
              0.8888888888888888,
              "#fdca26"
             ],
             [
              1,
              "#f0f921"
             ]
            ],
            "type": "histogram2d"
           }
          ],
          "histogram2dcontour": [
           {
            "colorbar": {
             "outlinewidth": 0,
             "ticks": ""
            },
            "colorscale": [
             [
              0,
              "#0d0887"
             ],
             [
              0.1111111111111111,
              "#46039f"
             ],
             [
              0.2222222222222222,
              "#7201a8"
             ],
             [
              0.3333333333333333,
              "#9c179e"
             ],
             [
              0.4444444444444444,
              "#bd3786"
             ],
             [
              0.5555555555555556,
              "#d8576b"
             ],
             [
              0.6666666666666666,
              "#ed7953"
             ],
             [
              0.7777777777777778,
              "#fb9f3a"
             ],
             [
              0.8888888888888888,
              "#fdca26"
             ],
             [
              1,
              "#f0f921"
             ]
            ],
            "type": "histogram2dcontour"
           }
          ],
          "mesh3d": [
           {
            "colorbar": {
             "outlinewidth": 0,
             "ticks": ""
            },
            "type": "mesh3d"
           }
          ],
          "parcoords": [
           {
            "line": {
             "colorbar": {
              "outlinewidth": 0,
              "ticks": ""
             }
            },
            "type": "parcoords"
           }
          ],
          "pie": [
           {
            "automargin": true,
            "type": "pie"
           }
          ],
          "scatter": [
           {
            "marker": {
             "line": {
              "color": "#283442"
             }
            },
            "type": "scatter"
           }
          ],
          "scatter3d": [
           {
            "line": {
             "colorbar": {
              "outlinewidth": 0,
              "ticks": ""
             }
            },
            "marker": {
             "colorbar": {
              "outlinewidth": 0,
              "ticks": ""
             }
            },
            "type": "scatter3d"
           }
          ],
          "scattercarpet": [
           {
            "marker": {
             "colorbar": {
              "outlinewidth": 0,
              "ticks": ""
             }
            },
            "type": "scattercarpet"
           }
          ],
          "scattergeo": [
           {
            "marker": {
             "colorbar": {
              "outlinewidth": 0,
              "ticks": ""
             }
            },
            "type": "scattergeo"
           }
          ],
          "scattergl": [
           {
            "marker": {
             "line": {
              "color": "#283442"
             }
            },
            "type": "scattergl"
           }
          ],
          "scattermapbox": [
           {
            "marker": {
             "colorbar": {
              "outlinewidth": 0,
              "ticks": ""
             }
            },
            "type": "scattermapbox"
           }
          ],
          "scatterpolar": [
           {
            "marker": {
             "colorbar": {
              "outlinewidth": 0,
              "ticks": ""
             }
            },
            "type": "scatterpolar"
           }
          ],
          "scatterpolargl": [
           {
            "marker": {
             "colorbar": {
              "outlinewidth": 0,
              "ticks": ""
             }
            },
            "type": "scatterpolargl"
           }
          ],
          "scatterternary": [
           {
            "marker": {
             "colorbar": {
              "outlinewidth": 0,
              "ticks": ""
             }
            },
            "type": "scatterternary"
           }
          ],
          "surface": [
           {
            "colorbar": {
             "outlinewidth": 0,
             "ticks": ""
            },
            "colorscale": [
             [
              0,
              "#0d0887"
             ],
             [
              0.1111111111111111,
              "#46039f"
             ],
             [
              0.2222222222222222,
              "#7201a8"
             ],
             [
              0.3333333333333333,
              "#9c179e"
             ],
             [
              0.4444444444444444,
              "#bd3786"
             ],
             [
              0.5555555555555556,
              "#d8576b"
             ],
             [
              0.6666666666666666,
              "#ed7953"
             ],
             [
              0.7777777777777778,
              "#fb9f3a"
             ],
             [
              0.8888888888888888,
              "#fdca26"
             ],
             [
              1,
              "#f0f921"
             ]
            ],
            "type": "surface"
           }
          ],
          "table": [
           {
            "cells": {
             "fill": {
              "color": "#506784"
             },
             "line": {
              "color": "rgb(17,17,17)"
             }
            },
            "header": {
             "fill": {
              "color": "#2a3f5f"
             },
             "line": {
              "color": "rgb(17,17,17)"
             }
            },
            "type": "table"
           }
          ]
         },
         "layout": {
          "annotationdefaults": {
           "arrowcolor": "#f2f5fa",
           "arrowhead": 0,
           "arrowwidth": 1
          },
          "autotypenumbers": "strict",
          "coloraxis": {
           "colorbar": {
            "outlinewidth": 0,
            "ticks": ""
           }
          },
          "colorscale": {
           "diverging": [
            [
             0,
             "#8e0152"
            ],
            [
             0.1,
             "#c51b7d"
            ],
            [
             0.2,
             "#de77ae"
            ],
            [
             0.3,
             "#f1b6da"
            ],
            [
             0.4,
             "#fde0ef"
            ],
            [
             0.5,
             "#f7f7f7"
            ],
            [
             0.6,
             "#e6f5d0"
            ],
            [
             0.7,
             "#b8e186"
            ],
            [
             0.8,
             "#7fbc41"
            ],
            [
             0.9,
             "#4d9221"
            ],
            [
             1,
             "#276419"
            ]
           ],
           "sequential": [
            [
             0,
             "#0d0887"
            ],
            [
             0.1111111111111111,
             "#46039f"
            ],
            [
             0.2222222222222222,
             "#7201a8"
            ],
            [
             0.3333333333333333,
             "#9c179e"
            ],
            [
             0.4444444444444444,
             "#bd3786"
            ],
            [
             0.5555555555555556,
             "#d8576b"
            ],
            [
             0.6666666666666666,
             "#ed7953"
            ],
            [
             0.7777777777777778,
             "#fb9f3a"
            ],
            [
             0.8888888888888888,
             "#fdca26"
            ],
            [
             1,
             "#f0f921"
            ]
           ],
           "sequentialminus": [
            [
             0,
             "#0d0887"
            ],
            [
             0.1111111111111111,
             "#46039f"
            ],
            [
             0.2222222222222222,
             "#7201a8"
            ],
            [
             0.3333333333333333,
             "#9c179e"
            ],
            [
             0.4444444444444444,
             "#bd3786"
            ],
            [
             0.5555555555555556,
             "#d8576b"
            ],
            [
             0.6666666666666666,
             "#ed7953"
            ],
            [
             0.7777777777777778,
             "#fb9f3a"
            ],
            [
             0.8888888888888888,
             "#fdca26"
            ],
            [
             1,
             "#f0f921"
            ]
           ]
          },
          "colorway": [
           "#636efa",
           "#EF553B",
           "#00cc96",
           "#ab63fa",
           "#FFA15A",
           "#19d3f3",
           "#FF6692",
           "#B6E880",
           "#FF97FF",
           "#FECB52"
          ],
          "font": {
           "color": "#f2f5fa"
          },
          "geo": {
           "bgcolor": "rgb(17,17,17)",
           "lakecolor": "rgb(17,17,17)",
           "landcolor": "rgb(17,17,17)",
           "showlakes": true,
           "showland": true,
           "subunitcolor": "#506784"
          },
          "hoverlabel": {
           "align": "left"
          },
          "hovermode": "closest",
          "mapbox": {
           "style": "dark"
          },
          "paper_bgcolor": "rgb(17,17,17)",
          "plot_bgcolor": "rgb(17,17,17)",
          "polar": {
           "angularaxis": {
            "gridcolor": "#506784",
            "linecolor": "#506784",
            "ticks": ""
           },
           "bgcolor": "rgb(17,17,17)",
           "radialaxis": {
            "gridcolor": "#506784",
            "linecolor": "#506784",
            "ticks": ""
           }
          },
          "scene": {
           "xaxis": {
            "backgroundcolor": "rgb(17,17,17)",
            "gridcolor": "#506784",
            "gridwidth": 2,
            "linecolor": "#506784",
            "showbackground": true,
            "ticks": "",
            "zerolinecolor": "#C8D4E3"
           },
           "yaxis": {
            "backgroundcolor": "rgb(17,17,17)",
            "gridcolor": "#506784",
            "gridwidth": 2,
            "linecolor": "#506784",
            "showbackground": true,
            "ticks": "",
            "zerolinecolor": "#C8D4E3"
           },
           "zaxis": {
            "backgroundcolor": "rgb(17,17,17)",
            "gridcolor": "#506784",
            "gridwidth": 2,
            "linecolor": "#506784",
            "showbackground": true,
            "ticks": "",
            "zerolinecolor": "#C8D4E3"
           }
          },
          "shapedefaults": {
           "line": {
            "color": "#f2f5fa"
           }
          },
          "sliderdefaults": {
           "bgcolor": "#C8D4E3",
           "bordercolor": "rgb(17,17,17)",
           "borderwidth": 1,
           "tickwidth": 0
          },
          "ternary": {
           "aaxis": {
            "gridcolor": "#506784",
            "linecolor": "#506784",
            "ticks": ""
           },
           "baxis": {
            "gridcolor": "#506784",
            "linecolor": "#506784",
            "ticks": ""
           },
           "bgcolor": "rgb(17,17,17)",
           "caxis": {
            "gridcolor": "#506784",
            "linecolor": "#506784",
            "ticks": ""
           }
          },
          "title": {
           "x": 0.05
          },
          "updatemenudefaults": {
           "bgcolor": "#506784",
           "borderwidth": 0
          },
          "xaxis": {
           "automargin": true,
           "gridcolor": "#283442",
           "linecolor": "#506784",
           "ticks": "",
           "title": {
            "standoff": 15
           },
           "zerolinecolor": "#283442",
           "zerolinewidth": 2
          },
          "yaxis": {
           "automargin": true,
           "gridcolor": "#283442",
           "linecolor": "#506784",
           "ticks": "",
           "title": {
            "standoff": 15
           },
           "zerolinecolor": "#283442",
           "zerolinewidth": 2
          }
         }
        },
        "width": 1000,
        "xaxis": {
         "anchor": "y",
         "domain": [
          0,
          1
         ],
         "title": {
          "text": "index"
         }
        },
        "yaxis": {
         "anchor": "x",
         "domain": [
          0,
          1
         ],
         "title": {
          "text": "value"
         }
        }
       }
      },
      "text/html": [
       "<div>                            <div id=\"5178322f-0d33-4052-8f9a-d785aae61402\" class=\"plotly-graph-div\" style=\"height:800px; width:1000px;\"></div>            <script type=\"text/javascript\">                require([\"plotly\"], function(Plotly) {                    window.PLOTLYENV=window.PLOTLYENV || {};                                    if (document.getElementById(\"5178322f-0d33-4052-8f9a-d785aae61402\")) {                    Plotly.newPlot(                        \"5178322f-0d33-4052-8f9a-d785aae61402\",                        [{\"alignmentgroup\":\"True\",\"hovertemplate\":\"variable=2021-10-01 00:00:00<br>index=%{x}<br>value=%{y}<extra></extra>\",\"legendgroup\":\"2021-10-01 00:00:00\",\"marker\":{\"color\":\"firebrick\",\"pattern\":{\"shape\":\"\"}},\"name\":\"2021-10-01 00:00:00\",\"offsetgroup\":\"2021-10-01 00:00:00\",\"orientation\":\"v\",\"showlegend\":true,\"textposition\":\"auto\",\"x\":[\"META\",\"AMZN\",\"NFLX\",\"GOOG\",\"MSFT\",\"NVDA\",\"TSLA\"],\"xaxis\":\"x\",\"y\":[1467754400,4077090000,223081800,1419004000,1652075800,2684075300,5064306000],\"yaxis\":\"y\",\"type\":\"bar\"}],                        {\"template\":{\"data\":{\"barpolar\":[{\"marker\":{\"line\":{\"color\":\"rgb(17,17,17)\",\"width\":0.5},\"pattern\":{\"fillmode\":\"overlay\",\"size\":10,\"solidity\":0.2}},\"type\":\"barpolar\"}],\"bar\":[{\"error_x\":{\"color\":\"#f2f5fa\"},\"error_y\":{\"color\":\"#f2f5fa\"},\"marker\":{\"line\":{\"color\":\"rgb(17,17,17)\",\"width\":0.5},\"pattern\":{\"fillmode\":\"overlay\",\"size\":10,\"solidity\":0.2}},\"type\":\"bar\"}],\"carpet\":[{\"aaxis\":{\"endlinecolor\":\"#A2B1C6\",\"gridcolor\":\"#506784\",\"linecolor\":\"#506784\",\"minorgridcolor\":\"#506784\",\"startlinecolor\":\"#A2B1C6\"},\"baxis\":{\"endlinecolor\":\"#A2B1C6\",\"gridcolor\":\"#506784\",\"linecolor\":\"#506784\",\"minorgridcolor\":\"#506784\",\"startlinecolor\":\"#A2B1C6\"},\"type\":\"carpet\"}],\"choropleth\":[{\"colorbar\":{\"outlinewidth\":0,\"ticks\":\"\"},\"type\":\"choropleth\"}],\"contourcarpet\":[{\"colorbar\":{\"outlinewidth\":0,\"ticks\":\"\"},\"type\":\"contourcarpet\"}],\"contour\":[{\"colorbar\":{\"outlinewidth\":0,\"ticks\":\"\"},\"colorscale\":[[0.0,\"#0d0887\"],[0.1111111111111111,\"#46039f\"],[0.2222222222222222,\"#7201a8\"],[0.3333333333333333,\"#9c179e\"],[0.4444444444444444,\"#bd3786\"],[0.5555555555555556,\"#d8576b\"],[0.6666666666666666,\"#ed7953\"],[0.7777777777777778,\"#fb9f3a\"],[0.8888888888888888,\"#fdca26\"],[1.0,\"#f0f921\"]],\"type\":\"contour\"}],\"heatmapgl\":[{\"colorbar\":{\"outlinewidth\":0,\"ticks\":\"\"},\"colorscale\":[[0.0,\"#0d0887\"],[0.1111111111111111,\"#46039f\"],[0.2222222222222222,\"#7201a8\"],[0.3333333333333333,\"#9c179e\"],[0.4444444444444444,\"#bd3786\"],[0.5555555555555556,\"#d8576b\"],[0.6666666666666666,\"#ed7953\"],[0.7777777777777778,\"#fb9f3a\"],[0.8888888888888888,\"#fdca26\"],[1.0,\"#f0f921\"]],\"type\":\"heatmapgl\"}],\"heatmap\":[{\"colorbar\":{\"outlinewidth\":0,\"ticks\":\"\"},\"colorscale\":[[0.0,\"#0d0887\"],[0.1111111111111111,\"#46039f\"],[0.2222222222222222,\"#7201a8\"],[0.3333333333333333,\"#9c179e\"],[0.4444444444444444,\"#bd3786\"],[0.5555555555555556,\"#d8576b\"],[0.6666666666666666,\"#ed7953\"],[0.7777777777777778,\"#fb9f3a\"],[0.8888888888888888,\"#fdca26\"],[1.0,\"#f0f921\"]],\"type\":\"heatmap\"}],\"histogram2dcontour\":[{\"colorbar\":{\"outlinewidth\":0,\"ticks\":\"\"},\"colorscale\":[[0.0,\"#0d0887\"],[0.1111111111111111,\"#46039f\"],[0.2222222222222222,\"#7201a8\"],[0.3333333333333333,\"#9c179e\"],[0.4444444444444444,\"#bd3786\"],[0.5555555555555556,\"#d8576b\"],[0.6666666666666666,\"#ed7953\"],[0.7777777777777778,\"#fb9f3a\"],[0.8888888888888888,\"#fdca26\"],[1.0,\"#f0f921\"]],\"type\":\"histogram2dcontour\"}],\"histogram2d\":[{\"colorbar\":{\"outlinewidth\":0,\"ticks\":\"\"},\"colorscale\":[[0.0,\"#0d0887\"],[0.1111111111111111,\"#46039f\"],[0.2222222222222222,\"#7201a8\"],[0.3333333333333333,\"#9c179e\"],[0.4444444444444444,\"#bd3786\"],[0.5555555555555556,\"#d8576b\"],[0.6666666666666666,\"#ed7953\"],[0.7777777777777778,\"#fb9f3a\"],[0.8888888888888888,\"#fdca26\"],[1.0,\"#f0f921\"]],\"type\":\"histogram2d\"}],\"histogram\":[{\"marker\":{\"pattern\":{\"fillmode\":\"overlay\",\"size\":10,\"solidity\":0.2}},\"type\":\"histogram\"}],\"mesh3d\":[{\"colorbar\":{\"outlinewidth\":0,\"ticks\":\"\"},\"type\":\"mesh3d\"}],\"parcoords\":[{\"line\":{\"colorbar\":{\"outlinewidth\":0,\"ticks\":\"\"}},\"type\":\"parcoords\"}],\"pie\":[{\"automargin\":true,\"type\":\"pie\"}],\"scatter3d\":[{\"line\":{\"colorbar\":{\"outlinewidth\":0,\"ticks\":\"\"}},\"marker\":{\"colorbar\":{\"outlinewidth\":0,\"ticks\":\"\"}},\"type\":\"scatter3d\"}],\"scattercarpet\":[{\"marker\":{\"colorbar\":{\"outlinewidth\":0,\"ticks\":\"\"}},\"type\":\"scattercarpet\"}],\"scattergeo\":[{\"marker\":{\"colorbar\":{\"outlinewidth\":0,\"ticks\":\"\"}},\"type\":\"scattergeo\"}],\"scattergl\":[{\"marker\":{\"line\":{\"color\":\"#283442\"}},\"type\":\"scattergl\"}],\"scattermapbox\":[{\"marker\":{\"colorbar\":{\"outlinewidth\":0,\"ticks\":\"\"}},\"type\":\"scattermapbox\"}],\"scatterpolargl\":[{\"marker\":{\"colorbar\":{\"outlinewidth\":0,\"ticks\":\"\"}},\"type\":\"scatterpolargl\"}],\"scatterpolar\":[{\"marker\":{\"colorbar\":{\"outlinewidth\":0,\"ticks\":\"\"}},\"type\":\"scatterpolar\"}],\"scatter\":[{\"marker\":{\"line\":{\"color\":\"#283442\"}},\"type\":\"scatter\"}],\"scatterternary\":[{\"marker\":{\"colorbar\":{\"outlinewidth\":0,\"ticks\":\"\"}},\"type\":\"scatterternary\"}],\"surface\":[{\"colorbar\":{\"outlinewidth\":0,\"ticks\":\"\"},\"colorscale\":[[0.0,\"#0d0887\"],[0.1111111111111111,\"#46039f\"],[0.2222222222222222,\"#7201a8\"],[0.3333333333333333,\"#9c179e\"],[0.4444444444444444,\"#bd3786\"],[0.5555555555555556,\"#d8576b\"],[0.6666666666666666,\"#ed7953\"],[0.7777777777777778,\"#fb9f3a\"],[0.8888888888888888,\"#fdca26\"],[1.0,\"#f0f921\"]],\"type\":\"surface\"}],\"table\":[{\"cells\":{\"fill\":{\"color\":\"#506784\"},\"line\":{\"color\":\"rgb(17,17,17)\"}},\"header\":{\"fill\":{\"color\":\"#2a3f5f\"},\"line\":{\"color\":\"rgb(17,17,17)\"}},\"type\":\"table\"}]},\"layout\":{\"annotationdefaults\":{\"arrowcolor\":\"#f2f5fa\",\"arrowhead\":0,\"arrowwidth\":1},\"autotypenumbers\":\"strict\",\"coloraxis\":{\"colorbar\":{\"outlinewidth\":0,\"ticks\":\"\"}},\"colorscale\":{\"diverging\":[[0,\"#8e0152\"],[0.1,\"#c51b7d\"],[0.2,\"#de77ae\"],[0.3,\"#f1b6da\"],[0.4,\"#fde0ef\"],[0.5,\"#f7f7f7\"],[0.6,\"#e6f5d0\"],[0.7,\"#b8e186\"],[0.8,\"#7fbc41\"],[0.9,\"#4d9221\"],[1,\"#276419\"]],\"sequential\":[[0.0,\"#0d0887\"],[0.1111111111111111,\"#46039f\"],[0.2222222222222222,\"#7201a8\"],[0.3333333333333333,\"#9c179e\"],[0.4444444444444444,\"#bd3786\"],[0.5555555555555556,\"#d8576b\"],[0.6666666666666666,\"#ed7953\"],[0.7777777777777778,\"#fb9f3a\"],[0.8888888888888888,\"#fdca26\"],[1.0,\"#f0f921\"]],\"sequentialminus\":[[0.0,\"#0d0887\"],[0.1111111111111111,\"#46039f\"],[0.2222222222222222,\"#7201a8\"],[0.3333333333333333,\"#9c179e\"],[0.4444444444444444,\"#bd3786\"],[0.5555555555555556,\"#d8576b\"],[0.6666666666666666,\"#ed7953\"],[0.7777777777777778,\"#fb9f3a\"],[0.8888888888888888,\"#fdca26\"],[1.0,\"#f0f921\"]]},\"colorway\":[\"#636efa\",\"#EF553B\",\"#00cc96\",\"#ab63fa\",\"#FFA15A\",\"#19d3f3\",\"#FF6692\",\"#B6E880\",\"#FF97FF\",\"#FECB52\"],\"font\":{\"color\":\"#f2f5fa\"},\"geo\":{\"bgcolor\":\"rgb(17,17,17)\",\"lakecolor\":\"rgb(17,17,17)\",\"landcolor\":\"rgb(17,17,17)\",\"showlakes\":true,\"showland\":true,\"subunitcolor\":\"#506784\"},\"hoverlabel\":{\"align\":\"left\"},\"hovermode\":\"closest\",\"mapbox\":{\"style\":\"dark\"},\"paper_bgcolor\":\"rgb(17,17,17)\",\"plot_bgcolor\":\"rgb(17,17,17)\",\"polar\":{\"angularaxis\":{\"gridcolor\":\"#506784\",\"linecolor\":\"#506784\",\"ticks\":\"\"},\"bgcolor\":\"rgb(17,17,17)\",\"radialaxis\":{\"gridcolor\":\"#506784\",\"linecolor\":\"#506784\",\"ticks\":\"\"}},\"scene\":{\"xaxis\":{\"backgroundcolor\":\"rgb(17,17,17)\",\"gridcolor\":\"#506784\",\"gridwidth\":2,\"linecolor\":\"#506784\",\"showbackground\":true,\"ticks\":\"\",\"zerolinecolor\":\"#C8D4E3\"},\"yaxis\":{\"backgroundcolor\":\"rgb(17,17,17)\",\"gridcolor\":\"#506784\",\"gridwidth\":2,\"linecolor\":\"#506784\",\"showbackground\":true,\"ticks\":\"\",\"zerolinecolor\":\"#C8D4E3\"},\"zaxis\":{\"backgroundcolor\":\"rgb(17,17,17)\",\"gridcolor\":\"#506784\",\"gridwidth\":2,\"linecolor\":\"#506784\",\"showbackground\":true,\"ticks\":\"\",\"zerolinecolor\":\"#C8D4E3\"}},\"shapedefaults\":{\"line\":{\"color\":\"#f2f5fa\"}},\"sliderdefaults\":{\"bgcolor\":\"#C8D4E3\",\"bordercolor\":\"rgb(17,17,17)\",\"borderwidth\":1,\"tickwidth\":0},\"ternary\":{\"aaxis\":{\"gridcolor\":\"#506784\",\"linecolor\":\"#506784\",\"ticks\":\"\"},\"baxis\":{\"gridcolor\":\"#506784\",\"linecolor\":\"#506784\",\"ticks\":\"\"},\"bgcolor\":\"rgb(17,17,17)\",\"caxis\":{\"gridcolor\":\"#506784\",\"linecolor\":\"#506784\",\"ticks\":\"\"}},\"title\":{\"x\":0.05},\"updatemenudefaults\":{\"bgcolor\":\"#506784\",\"borderwidth\":0},\"xaxis\":{\"automargin\":true,\"gridcolor\":\"#283442\",\"linecolor\":\"#506784\",\"ticks\":\"\",\"title\":{\"standoff\":15},\"zerolinecolor\":\"#283442\",\"zerolinewidth\":2},\"yaxis\":{\"automargin\":true,\"gridcolor\":\"#283442\",\"linecolor\":\"#506784\",\"ticks\":\"\",\"title\":{\"standoff\":15},\"zerolinecolor\":\"#283442\",\"zerolinewidth\":2}}},\"xaxis\":{\"anchor\":\"y\",\"domain\":[0.0,1.0],\"title\":{\"text\":\"index\"}},\"yaxis\":{\"anchor\":\"x\",\"domain\":[0.0,1.0],\"title\":{\"text\":\"value\"}},\"legend\":{\"title\":{\"text\":\"variable\"},\"tracegroupgap\":0},\"margin\":{\"t\":60},\"barmode\":\"relative\",\"width\":1000,\"height\":800},                        {\"responsive\": true}                    ).then(function(){\n",
       "                            \n",
       "var gd = document.getElementById('5178322f-0d33-4052-8f9a-d785aae61402');\n",
       "var x = new MutationObserver(function (mutations, observer) {{\n",
       "        var display = window.getComputedStyle(gd).display;\n",
       "        if (!display || display === 'none') {{\n",
       "            console.log([gd, 'removed!']);\n",
       "            Plotly.purge(gd);\n",
       "            observer.disconnect();\n",
       "        }}\n",
       "}});\n",
       "\n",
       "// Listen for the removal of the full notebook cells\n",
       "var notebookContainer = gd.closest('#notebook-container');\n",
       "if (notebookContainer) {{\n",
       "    x.observe(notebookContainer, {childList: true});\n",
       "}}\n",
       "\n",
       "// Listen for the clearing of the current output cell\n",
       "var outputEl = gd.closest('.output');\n",
       "if (outputEl) {{\n",
       "    x.observe(outputEl, {childList: true});\n",
       "}}\n",
       "\n",
       "                        })                };                });            </script>        </div>"
      ]
     },
     "metadata": {},
     "output_type": "display_data"
    }
   ],
   "source": [
    "fig = px.bar(pf_data2.loc['2021-10-01'],color_discrete_sequence=['firebrick'])\n",
    "fig.update_layout(width=1000, height=800, template = \"plotly_dark\")\n",
    "fig.show()"
   ]
  },
  {
   "attachments": {},
   "cell_type": "markdown",
   "metadata": {},
   "source": [
    "### STACKED BAR CHART"
   ]
  },
  {
   "attachments": {},
   "cell_type": "markdown",
   "metadata": {},
   "source": [
    "A stacked bar chart is a visualization tool that represents different categories or groups of data as stacked bars, where each bar segment corresponds to a subcategory or a portion of the whole\n",
    "\n",
    "Using the same example, instead of focusing on the volume traded in a single quarter, I now intend to analyze the volume traded in each of the four quarters of 2021. The verdict remains consistent, with Tesla consistently trading the highest volume. Additionally, another noteworthy observation is that the volume for the tech stocks in the portfolio decreased in the 3rd quarter, the volume had been in a downward trend decreasing QoQ since early 2021. "
   ]
  },
  {
   "cell_type": "code",
   "execution_count": 128,
   "metadata": {},
   "outputs": [
    {
     "data": {
      "application/vnd.plotly.v1+json": {
       "config": {
        "plotlyServerURL": "https://plot.ly"
       },
       "data": [
        {
         "alignmentgroup": "True",
         "hovertemplate": "variable=META<br>Date=%{x}<br>value=%{y}<extra></extra>",
         "legendgroup": "META",
         "marker": {
          "color": "#636efa",
          "pattern": {
           "shape": ""
          }
         },
         "name": "META",
         "offsetgroup": "META",
         "orientation": "v",
         "showlegend": true,
         "textposition": "auto",
         "type": "bar",
         "x": [
          "2021-01-01T00:00:00",
          "2021-04-01T00:00:00",
          "2021-07-01T00:00:00",
          "2021-10-01T00:00:00"
         ],
         "xaxis": "x",
         "y": [
          1267825000,
          1119491800,
          899674400,
          1467754400
         ],
         "yaxis": "y"
        },
        {
         "alignmentgroup": "True",
         "hovertemplate": "variable=AMZN<br>Date=%{x}<br>value=%{y}<extra></extra>",
         "legendgroup": "AMZN",
         "marker": {
          "color": "#EF553B",
          "pattern": {
           "shape": ""
          }
         },
         "name": "AMZN",
         "offsetgroup": "AMZN",
         "orientation": "v",
         "showlegend": true,
         "textposition": "auto",
         "type": "bar",
         "x": [
          "2021-01-01T00:00:00",
          "2021-04-01T00:00:00",
          "2021-07-01T00:00:00",
          "2021-10-01T00:00:00"
         ],
         "xaxis": "x",
         "y": [
          4436478000,
          4380690000,
          4182104000,
          4077090000
         ],
         "yaxis": "y"
        },
        {
         "alignmentgroup": "True",
         "hovertemplate": "variable=NFLX<br>Date=%{x}<br>value=%{y}<extra></extra>",
         "legendgroup": "NFLX",
         "marker": {
          "color": "#00cc96",
          "pattern": {
           "shape": ""
          }
         },
         "name": "NFLX",
         "offsetgroup": "NFLX",
         "orientation": "v",
         "showlegend": true,
         "textposition": "auto",
         "type": "bar",
         "x": [
          "2021-01-01T00:00:00",
          "2021-04-01T00:00:00",
          "2021-07-01T00:00:00",
          "2021-10-01T00:00:00"
         ],
         "xaxis": "x",
         "y": [
          292074800,
          257061500,
          214286400,
          223081800
         ],
         "yaxis": "y"
        },
        {
         "alignmentgroup": "True",
         "hovertemplate": "variable=GOOG<br>Date=%{x}<br>value=%{y}<extra></extra>",
         "legendgroup": "GOOG",
         "marker": {
          "color": "#ab63fa",
          "pattern": {
           "shape": ""
          }
         },
         "name": "GOOG",
         "offsetgroup": "GOOG",
         "orientation": "v",
         "showlegend": true,
         "textposition": "auto",
         "type": "bar",
         "x": [
          "2021-01-01T00:00:00",
          "2021-04-01T00:00:00",
          "2021-07-01T00:00:00",
          "2021-10-01T00:00:00"
         ],
         "xaxis": "x",
         "y": [
          1946118000,
          1672264000,
          1334286000,
          1419004000
         ],
         "yaxis": "y"
        },
        {
         "alignmentgroup": "True",
         "hovertemplate": "variable=MSFT<br>Date=%{x}<br>value=%{y}<extra></extra>",
         "legendgroup": "MSFT",
         "marker": {
          "color": "#FFA15A",
          "pattern": {
           "shape": ""
          }
         },
         "name": "MSFT",
         "offsetgroup": "MSFT",
         "orientation": "v",
         "showlegend": true,
         "textposition": "auto",
         "type": "bar",
         "x": [
          "2021-01-01T00:00:00",
          "2021-04-01T00:00:00",
          "2021-07-01T00:00:00",
          "2021-10-01T00:00:00"
         ],
         "xaxis": "x",
         "y": [
          1863984400,
          1572318700,
          1466900300,
          1652075800
         ],
         "yaxis": "y"
        },
        {
         "alignmentgroup": "True",
         "hovertemplate": "variable=NVDA<br>Date=%{x}<br>value=%{y}<extra></extra>",
         "legendgroup": "NVDA",
         "marker": {
          "color": "#19d3f3",
          "pattern": {
           "shape": ""
          }
         },
         "name": "NVDA",
         "offsetgroup": "NVDA",
         "orientation": "v",
         "showlegend": true,
         "textposition": "auto",
         "type": "bar",
         "x": [
          "2021-01-01T00:00:00",
          "2021-04-01T00:00:00",
          "2021-07-01T00:00:00",
          "2021-10-01T00:00:00"
         ],
         "xaxis": "x",
         "y": [
          2048315200,
          2404646800,
          1923844900,
          2684075300
         ],
         "yaxis": "y"
        },
        {
         "alignmentgroup": "True",
         "hovertemplate": "variable=TSLA<br>Date=%{x}<br>value=%{y}<extra></extra>",
         "legendgroup": "TSLA",
         "marker": {
          "color": "#FF6692",
          "pattern": {
           "shape": ""
          }
         },
         "name": "TSLA",
         "offsetgroup": "TSLA",
         "orientation": "v",
         "showlegend": true,
         "textposition": "auto",
         "type": "bar",
         "x": [
          "2021-01-01T00:00:00",
          "2021-04-01T00:00:00",
          "2021-07-01T00:00:00",
          "2021-10-01T00:00:00"
         ],
         "xaxis": "x",
         "y": [
          6513015300,
          5470912200,
          3659838000,
          5064306000
         ],
         "yaxis": "y"
        }
       ],
       "layout": {
        "barmode": "relative",
        "height": 800,
        "legend": {
         "title": {
          "text": "variable"
         },
         "tracegroupgap": 0
        },
        "margin": {
         "t": 60
        },
        "template": {
         "data": {
          "bar": [
           {
            "error_x": {
             "color": "#f2f5fa"
            },
            "error_y": {
             "color": "#f2f5fa"
            },
            "marker": {
             "line": {
              "color": "rgb(17,17,17)",
              "width": 0.5
             },
             "pattern": {
              "fillmode": "overlay",
              "size": 10,
              "solidity": 0.2
             }
            },
            "type": "bar"
           }
          ],
          "barpolar": [
           {
            "marker": {
             "line": {
              "color": "rgb(17,17,17)",
              "width": 0.5
             },
             "pattern": {
              "fillmode": "overlay",
              "size": 10,
              "solidity": 0.2
             }
            },
            "type": "barpolar"
           }
          ],
          "carpet": [
           {
            "aaxis": {
             "endlinecolor": "#A2B1C6",
             "gridcolor": "#506784",
             "linecolor": "#506784",
             "minorgridcolor": "#506784",
             "startlinecolor": "#A2B1C6"
            },
            "baxis": {
             "endlinecolor": "#A2B1C6",
             "gridcolor": "#506784",
             "linecolor": "#506784",
             "minorgridcolor": "#506784",
             "startlinecolor": "#A2B1C6"
            },
            "type": "carpet"
           }
          ],
          "choropleth": [
           {
            "colorbar": {
             "outlinewidth": 0,
             "ticks": ""
            },
            "type": "choropleth"
           }
          ],
          "contour": [
           {
            "colorbar": {
             "outlinewidth": 0,
             "ticks": ""
            },
            "colorscale": [
             [
              0,
              "#0d0887"
             ],
             [
              0.1111111111111111,
              "#46039f"
             ],
             [
              0.2222222222222222,
              "#7201a8"
             ],
             [
              0.3333333333333333,
              "#9c179e"
             ],
             [
              0.4444444444444444,
              "#bd3786"
             ],
             [
              0.5555555555555556,
              "#d8576b"
             ],
             [
              0.6666666666666666,
              "#ed7953"
             ],
             [
              0.7777777777777778,
              "#fb9f3a"
             ],
             [
              0.8888888888888888,
              "#fdca26"
             ],
             [
              1,
              "#f0f921"
             ]
            ],
            "type": "contour"
           }
          ],
          "contourcarpet": [
           {
            "colorbar": {
             "outlinewidth": 0,
             "ticks": ""
            },
            "type": "contourcarpet"
           }
          ],
          "heatmap": [
           {
            "colorbar": {
             "outlinewidth": 0,
             "ticks": ""
            },
            "colorscale": [
             [
              0,
              "#0d0887"
             ],
             [
              0.1111111111111111,
              "#46039f"
             ],
             [
              0.2222222222222222,
              "#7201a8"
             ],
             [
              0.3333333333333333,
              "#9c179e"
             ],
             [
              0.4444444444444444,
              "#bd3786"
             ],
             [
              0.5555555555555556,
              "#d8576b"
             ],
             [
              0.6666666666666666,
              "#ed7953"
             ],
             [
              0.7777777777777778,
              "#fb9f3a"
             ],
             [
              0.8888888888888888,
              "#fdca26"
             ],
             [
              1,
              "#f0f921"
             ]
            ],
            "type": "heatmap"
           }
          ],
          "heatmapgl": [
           {
            "colorbar": {
             "outlinewidth": 0,
             "ticks": ""
            },
            "colorscale": [
             [
              0,
              "#0d0887"
             ],
             [
              0.1111111111111111,
              "#46039f"
             ],
             [
              0.2222222222222222,
              "#7201a8"
             ],
             [
              0.3333333333333333,
              "#9c179e"
             ],
             [
              0.4444444444444444,
              "#bd3786"
             ],
             [
              0.5555555555555556,
              "#d8576b"
             ],
             [
              0.6666666666666666,
              "#ed7953"
             ],
             [
              0.7777777777777778,
              "#fb9f3a"
             ],
             [
              0.8888888888888888,
              "#fdca26"
             ],
             [
              1,
              "#f0f921"
             ]
            ],
            "type": "heatmapgl"
           }
          ],
          "histogram": [
           {
            "marker": {
             "pattern": {
              "fillmode": "overlay",
              "size": 10,
              "solidity": 0.2
             }
            },
            "type": "histogram"
           }
          ],
          "histogram2d": [
           {
            "colorbar": {
             "outlinewidth": 0,
             "ticks": ""
            },
            "colorscale": [
             [
              0,
              "#0d0887"
             ],
             [
              0.1111111111111111,
              "#46039f"
             ],
             [
              0.2222222222222222,
              "#7201a8"
             ],
             [
              0.3333333333333333,
              "#9c179e"
             ],
             [
              0.4444444444444444,
              "#bd3786"
             ],
             [
              0.5555555555555556,
              "#d8576b"
             ],
             [
              0.6666666666666666,
              "#ed7953"
             ],
             [
              0.7777777777777778,
              "#fb9f3a"
             ],
             [
              0.8888888888888888,
              "#fdca26"
             ],
             [
              1,
              "#f0f921"
             ]
            ],
            "type": "histogram2d"
           }
          ],
          "histogram2dcontour": [
           {
            "colorbar": {
             "outlinewidth": 0,
             "ticks": ""
            },
            "colorscale": [
             [
              0,
              "#0d0887"
             ],
             [
              0.1111111111111111,
              "#46039f"
             ],
             [
              0.2222222222222222,
              "#7201a8"
             ],
             [
              0.3333333333333333,
              "#9c179e"
             ],
             [
              0.4444444444444444,
              "#bd3786"
             ],
             [
              0.5555555555555556,
              "#d8576b"
             ],
             [
              0.6666666666666666,
              "#ed7953"
             ],
             [
              0.7777777777777778,
              "#fb9f3a"
             ],
             [
              0.8888888888888888,
              "#fdca26"
             ],
             [
              1,
              "#f0f921"
             ]
            ],
            "type": "histogram2dcontour"
           }
          ],
          "mesh3d": [
           {
            "colorbar": {
             "outlinewidth": 0,
             "ticks": ""
            },
            "type": "mesh3d"
           }
          ],
          "parcoords": [
           {
            "line": {
             "colorbar": {
              "outlinewidth": 0,
              "ticks": ""
             }
            },
            "type": "parcoords"
           }
          ],
          "pie": [
           {
            "automargin": true,
            "type": "pie"
           }
          ],
          "scatter": [
           {
            "marker": {
             "line": {
              "color": "#283442"
             }
            },
            "type": "scatter"
           }
          ],
          "scatter3d": [
           {
            "line": {
             "colorbar": {
              "outlinewidth": 0,
              "ticks": ""
             }
            },
            "marker": {
             "colorbar": {
              "outlinewidth": 0,
              "ticks": ""
             }
            },
            "type": "scatter3d"
           }
          ],
          "scattercarpet": [
           {
            "marker": {
             "colorbar": {
              "outlinewidth": 0,
              "ticks": ""
             }
            },
            "type": "scattercarpet"
           }
          ],
          "scattergeo": [
           {
            "marker": {
             "colorbar": {
              "outlinewidth": 0,
              "ticks": ""
             }
            },
            "type": "scattergeo"
           }
          ],
          "scattergl": [
           {
            "marker": {
             "line": {
              "color": "#283442"
             }
            },
            "type": "scattergl"
           }
          ],
          "scattermapbox": [
           {
            "marker": {
             "colorbar": {
              "outlinewidth": 0,
              "ticks": ""
             }
            },
            "type": "scattermapbox"
           }
          ],
          "scatterpolar": [
           {
            "marker": {
             "colorbar": {
              "outlinewidth": 0,
              "ticks": ""
             }
            },
            "type": "scatterpolar"
           }
          ],
          "scatterpolargl": [
           {
            "marker": {
             "colorbar": {
              "outlinewidth": 0,
              "ticks": ""
             }
            },
            "type": "scatterpolargl"
           }
          ],
          "scatterternary": [
           {
            "marker": {
             "colorbar": {
              "outlinewidth": 0,
              "ticks": ""
             }
            },
            "type": "scatterternary"
           }
          ],
          "surface": [
           {
            "colorbar": {
             "outlinewidth": 0,
             "ticks": ""
            },
            "colorscale": [
             [
              0,
              "#0d0887"
             ],
             [
              0.1111111111111111,
              "#46039f"
             ],
             [
              0.2222222222222222,
              "#7201a8"
             ],
             [
              0.3333333333333333,
              "#9c179e"
             ],
             [
              0.4444444444444444,
              "#bd3786"
             ],
             [
              0.5555555555555556,
              "#d8576b"
             ],
             [
              0.6666666666666666,
              "#ed7953"
             ],
             [
              0.7777777777777778,
              "#fb9f3a"
             ],
             [
              0.8888888888888888,
              "#fdca26"
             ],
             [
              1,
              "#f0f921"
             ]
            ],
            "type": "surface"
           }
          ],
          "table": [
           {
            "cells": {
             "fill": {
              "color": "#506784"
             },
             "line": {
              "color": "rgb(17,17,17)"
             }
            },
            "header": {
             "fill": {
              "color": "#2a3f5f"
             },
             "line": {
              "color": "rgb(17,17,17)"
             }
            },
            "type": "table"
           }
          ]
         },
         "layout": {
          "annotationdefaults": {
           "arrowcolor": "#f2f5fa",
           "arrowhead": 0,
           "arrowwidth": 1
          },
          "autotypenumbers": "strict",
          "coloraxis": {
           "colorbar": {
            "outlinewidth": 0,
            "ticks": ""
           }
          },
          "colorscale": {
           "diverging": [
            [
             0,
             "#8e0152"
            ],
            [
             0.1,
             "#c51b7d"
            ],
            [
             0.2,
             "#de77ae"
            ],
            [
             0.3,
             "#f1b6da"
            ],
            [
             0.4,
             "#fde0ef"
            ],
            [
             0.5,
             "#f7f7f7"
            ],
            [
             0.6,
             "#e6f5d0"
            ],
            [
             0.7,
             "#b8e186"
            ],
            [
             0.8,
             "#7fbc41"
            ],
            [
             0.9,
             "#4d9221"
            ],
            [
             1,
             "#276419"
            ]
           ],
           "sequential": [
            [
             0,
             "#0d0887"
            ],
            [
             0.1111111111111111,
             "#46039f"
            ],
            [
             0.2222222222222222,
             "#7201a8"
            ],
            [
             0.3333333333333333,
             "#9c179e"
            ],
            [
             0.4444444444444444,
             "#bd3786"
            ],
            [
             0.5555555555555556,
             "#d8576b"
            ],
            [
             0.6666666666666666,
             "#ed7953"
            ],
            [
             0.7777777777777778,
             "#fb9f3a"
            ],
            [
             0.8888888888888888,
             "#fdca26"
            ],
            [
             1,
             "#f0f921"
            ]
           ],
           "sequentialminus": [
            [
             0,
             "#0d0887"
            ],
            [
             0.1111111111111111,
             "#46039f"
            ],
            [
             0.2222222222222222,
             "#7201a8"
            ],
            [
             0.3333333333333333,
             "#9c179e"
            ],
            [
             0.4444444444444444,
             "#bd3786"
            ],
            [
             0.5555555555555556,
             "#d8576b"
            ],
            [
             0.6666666666666666,
             "#ed7953"
            ],
            [
             0.7777777777777778,
             "#fb9f3a"
            ],
            [
             0.8888888888888888,
             "#fdca26"
            ],
            [
             1,
             "#f0f921"
            ]
           ]
          },
          "colorway": [
           "#636efa",
           "#EF553B",
           "#00cc96",
           "#ab63fa",
           "#FFA15A",
           "#19d3f3",
           "#FF6692",
           "#B6E880",
           "#FF97FF",
           "#FECB52"
          ],
          "font": {
           "color": "#f2f5fa"
          },
          "geo": {
           "bgcolor": "rgb(17,17,17)",
           "lakecolor": "rgb(17,17,17)",
           "landcolor": "rgb(17,17,17)",
           "showlakes": true,
           "showland": true,
           "subunitcolor": "#506784"
          },
          "hoverlabel": {
           "align": "left"
          },
          "hovermode": "closest",
          "mapbox": {
           "style": "dark"
          },
          "paper_bgcolor": "rgb(17,17,17)",
          "plot_bgcolor": "rgb(17,17,17)",
          "polar": {
           "angularaxis": {
            "gridcolor": "#506784",
            "linecolor": "#506784",
            "ticks": ""
           },
           "bgcolor": "rgb(17,17,17)",
           "radialaxis": {
            "gridcolor": "#506784",
            "linecolor": "#506784",
            "ticks": ""
           }
          },
          "scene": {
           "xaxis": {
            "backgroundcolor": "rgb(17,17,17)",
            "gridcolor": "#506784",
            "gridwidth": 2,
            "linecolor": "#506784",
            "showbackground": true,
            "ticks": "",
            "zerolinecolor": "#C8D4E3"
           },
           "yaxis": {
            "backgroundcolor": "rgb(17,17,17)",
            "gridcolor": "#506784",
            "gridwidth": 2,
            "linecolor": "#506784",
            "showbackground": true,
            "ticks": "",
            "zerolinecolor": "#C8D4E3"
           },
           "zaxis": {
            "backgroundcolor": "rgb(17,17,17)",
            "gridcolor": "#506784",
            "gridwidth": 2,
            "linecolor": "#506784",
            "showbackground": true,
            "ticks": "",
            "zerolinecolor": "#C8D4E3"
           }
          },
          "shapedefaults": {
           "line": {
            "color": "#f2f5fa"
           }
          },
          "sliderdefaults": {
           "bgcolor": "#C8D4E3",
           "bordercolor": "rgb(17,17,17)",
           "borderwidth": 1,
           "tickwidth": 0
          },
          "ternary": {
           "aaxis": {
            "gridcolor": "#506784",
            "linecolor": "#506784",
            "ticks": ""
           },
           "baxis": {
            "gridcolor": "#506784",
            "linecolor": "#506784",
            "ticks": ""
           },
           "bgcolor": "rgb(17,17,17)",
           "caxis": {
            "gridcolor": "#506784",
            "linecolor": "#506784",
            "ticks": ""
           }
          },
          "title": {
           "x": 0.05
          },
          "updatemenudefaults": {
           "bgcolor": "#506784",
           "borderwidth": 0
          },
          "xaxis": {
           "automargin": true,
           "gridcolor": "#283442",
           "linecolor": "#506784",
           "ticks": "",
           "title": {
            "standoff": 15
           },
           "zerolinecolor": "#283442",
           "zerolinewidth": 2
          },
          "yaxis": {
           "automargin": true,
           "gridcolor": "#283442",
           "linecolor": "#506784",
           "ticks": "",
           "title": {
            "standoff": 15
           },
           "zerolinecolor": "#283442",
           "zerolinewidth": 2
          }
         }
        },
        "width": 1000,
        "xaxis": {
         "anchor": "y",
         "domain": [
          0,
          1
         ],
         "title": {
          "text": "Date"
         }
        },
        "yaxis": {
         "anchor": "x",
         "domain": [
          0,
          1
         ],
         "title": {
          "text": "value"
         }
        }
       }
      },
      "text/html": [
       "<div>                            <div id=\"da0172cb-f1e3-4a6f-9d67-9f99a88ee469\" class=\"plotly-graph-div\" style=\"height:800px; width:1000px;\"></div>            <script type=\"text/javascript\">                require([\"plotly\"], function(Plotly) {                    window.PLOTLYENV=window.PLOTLYENV || {};                                    if (document.getElementById(\"da0172cb-f1e3-4a6f-9d67-9f99a88ee469\")) {                    Plotly.newPlot(                        \"da0172cb-f1e3-4a6f-9d67-9f99a88ee469\",                        [{\"alignmentgroup\":\"True\",\"hovertemplate\":\"variable=META<br>Date=%{x}<br>value=%{y}<extra></extra>\",\"legendgroup\":\"META\",\"marker\":{\"color\":\"#636efa\",\"pattern\":{\"shape\":\"\"}},\"name\":\"META\",\"offsetgroup\":\"META\",\"orientation\":\"v\",\"showlegend\":true,\"textposition\":\"auto\",\"x\":[\"2021-01-01T00:00:00\",\"2021-04-01T00:00:00\",\"2021-07-01T00:00:00\",\"2021-10-01T00:00:00\"],\"xaxis\":\"x\",\"y\":[1267825000,1119491800,899674400,1467754400],\"yaxis\":\"y\",\"type\":\"bar\"},{\"alignmentgroup\":\"True\",\"hovertemplate\":\"variable=AMZN<br>Date=%{x}<br>value=%{y}<extra></extra>\",\"legendgroup\":\"AMZN\",\"marker\":{\"color\":\"#EF553B\",\"pattern\":{\"shape\":\"\"}},\"name\":\"AMZN\",\"offsetgroup\":\"AMZN\",\"orientation\":\"v\",\"showlegend\":true,\"textposition\":\"auto\",\"x\":[\"2021-01-01T00:00:00\",\"2021-04-01T00:00:00\",\"2021-07-01T00:00:00\",\"2021-10-01T00:00:00\"],\"xaxis\":\"x\",\"y\":[4436478000,4380690000,4182104000,4077090000],\"yaxis\":\"y\",\"type\":\"bar\"},{\"alignmentgroup\":\"True\",\"hovertemplate\":\"variable=NFLX<br>Date=%{x}<br>value=%{y}<extra></extra>\",\"legendgroup\":\"NFLX\",\"marker\":{\"color\":\"#00cc96\",\"pattern\":{\"shape\":\"\"}},\"name\":\"NFLX\",\"offsetgroup\":\"NFLX\",\"orientation\":\"v\",\"showlegend\":true,\"textposition\":\"auto\",\"x\":[\"2021-01-01T00:00:00\",\"2021-04-01T00:00:00\",\"2021-07-01T00:00:00\",\"2021-10-01T00:00:00\"],\"xaxis\":\"x\",\"y\":[292074800,257061500,214286400,223081800],\"yaxis\":\"y\",\"type\":\"bar\"},{\"alignmentgroup\":\"True\",\"hovertemplate\":\"variable=GOOG<br>Date=%{x}<br>value=%{y}<extra></extra>\",\"legendgroup\":\"GOOG\",\"marker\":{\"color\":\"#ab63fa\",\"pattern\":{\"shape\":\"\"}},\"name\":\"GOOG\",\"offsetgroup\":\"GOOG\",\"orientation\":\"v\",\"showlegend\":true,\"textposition\":\"auto\",\"x\":[\"2021-01-01T00:00:00\",\"2021-04-01T00:00:00\",\"2021-07-01T00:00:00\",\"2021-10-01T00:00:00\"],\"xaxis\":\"x\",\"y\":[1946118000,1672264000,1334286000,1419004000],\"yaxis\":\"y\",\"type\":\"bar\"},{\"alignmentgroup\":\"True\",\"hovertemplate\":\"variable=MSFT<br>Date=%{x}<br>value=%{y}<extra></extra>\",\"legendgroup\":\"MSFT\",\"marker\":{\"color\":\"#FFA15A\",\"pattern\":{\"shape\":\"\"}},\"name\":\"MSFT\",\"offsetgroup\":\"MSFT\",\"orientation\":\"v\",\"showlegend\":true,\"textposition\":\"auto\",\"x\":[\"2021-01-01T00:00:00\",\"2021-04-01T00:00:00\",\"2021-07-01T00:00:00\",\"2021-10-01T00:00:00\"],\"xaxis\":\"x\",\"y\":[1863984400,1572318700,1466900300,1652075800],\"yaxis\":\"y\",\"type\":\"bar\"},{\"alignmentgroup\":\"True\",\"hovertemplate\":\"variable=NVDA<br>Date=%{x}<br>value=%{y}<extra></extra>\",\"legendgroup\":\"NVDA\",\"marker\":{\"color\":\"#19d3f3\",\"pattern\":{\"shape\":\"\"}},\"name\":\"NVDA\",\"offsetgroup\":\"NVDA\",\"orientation\":\"v\",\"showlegend\":true,\"textposition\":\"auto\",\"x\":[\"2021-01-01T00:00:00\",\"2021-04-01T00:00:00\",\"2021-07-01T00:00:00\",\"2021-10-01T00:00:00\"],\"xaxis\":\"x\",\"y\":[2048315200,2404646800,1923844900,2684075300],\"yaxis\":\"y\",\"type\":\"bar\"},{\"alignmentgroup\":\"True\",\"hovertemplate\":\"variable=TSLA<br>Date=%{x}<br>value=%{y}<extra></extra>\",\"legendgroup\":\"TSLA\",\"marker\":{\"color\":\"#FF6692\",\"pattern\":{\"shape\":\"\"}},\"name\":\"TSLA\",\"offsetgroup\":\"TSLA\",\"orientation\":\"v\",\"showlegend\":true,\"textposition\":\"auto\",\"x\":[\"2021-01-01T00:00:00\",\"2021-04-01T00:00:00\",\"2021-07-01T00:00:00\",\"2021-10-01T00:00:00\"],\"xaxis\":\"x\",\"y\":[6513015300,5470912200,3659838000,5064306000],\"yaxis\":\"y\",\"type\":\"bar\"}],                        {\"template\":{\"data\":{\"barpolar\":[{\"marker\":{\"line\":{\"color\":\"rgb(17,17,17)\",\"width\":0.5},\"pattern\":{\"fillmode\":\"overlay\",\"size\":10,\"solidity\":0.2}},\"type\":\"barpolar\"}],\"bar\":[{\"error_x\":{\"color\":\"#f2f5fa\"},\"error_y\":{\"color\":\"#f2f5fa\"},\"marker\":{\"line\":{\"color\":\"rgb(17,17,17)\",\"width\":0.5},\"pattern\":{\"fillmode\":\"overlay\",\"size\":10,\"solidity\":0.2}},\"type\":\"bar\"}],\"carpet\":[{\"aaxis\":{\"endlinecolor\":\"#A2B1C6\",\"gridcolor\":\"#506784\",\"linecolor\":\"#506784\",\"minorgridcolor\":\"#506784\",\"startlinecolor\":\"#A2B1C6\"},\"baxis\":{\"endlinecolor\":\"#A2B1C6\",\"gridcolor\":\"#506784\",\"linecolor\":\"#506784\",\"minorgridcolor\":\"#506784\",\"startlinecolor\":\"#A2B1C6\"},\"type\":\"carpet\"}],\"choropleth\":[{\"colorbar\":{\"outlinewidth\":0,\"ticks\":\"\"},\"type\":\"choropleth\"}],\"contourcarpet\":[{\"colorbar\":{\"outlinewidth\":0,\"ticks\":\"\"},\"type\":\"contourcarpet\"}],\"contour\":[{\"colorbar\":{\"outlinewidth\":0,\"ticks\":\"\"},\"colorscale\":[[0.0,\"#0d0887\"],[0.1111111111111111,\"#46039f\"],[0.2222222222222222,\"#7201a8\"],[0.3333333333333333,\"#9c179e\"],[0.4444444444444444,\"#bd3786\"],[0.5555555555555556,\"#d8576b\"],[0.6666666666666666,\"#ed7953\"],[0.7777777777777778,\"#fb9f3a\"],[0.8888888888888888,\"#fdca26\"],[1.0,\"#f0f921\"]],\"type\":\"contour\"}],\"heatmapgl\":[{\"colorbar\":{\"outlinewidth\":0,\"ticks\":\"\"},\"colorscale\":[[0.0,\"#0d0887\"],[0.1111111111111111,\"#46039f\"],[0.2222222222222222,\"#7201a8\"],[0.3333333333333333,\"#9c179e\"],[0.4444444444444444,\"#bd3786\"],[0.5555555555555556,\"#d8576b\"],[0.6666666666666666,\"#ed7953\"],[0.7777777777777778,\"#fb9f3a\"],[0.8888888888888888,\"#fdca26\"],[1.0,\"#f0f921\"]],\"type\":\"heatmapgl\"}],\"heatmap\":[{\"colorbar\":{\"outlinewidth\":0,\"ticks\":\"\"},\"colorscale\":[[0.0,\"#0d0887\"],[0.1111111111111111,\"#46039f\"],[0.2222222222222222,\"#7201a8\"],[0.3333333333333333,\"#9c179e\"],[0.4444444444444444,\"#bd3786\"],[0.5555555555555556,\"#d8576b\"],[0.6666666666666666,\"#ed7953\"],[0.7777777777777778,\"#fb9f3a\"],[0.8888888888888888,\"#fdca26\"],[1.0,\"#f0f921\"]],\"type\":\"heatmap\"}],\"histogram2dcontour\":[{\"colorbar\":{\"outlinewidth\":0,\"ticks\":\"\"},\"colorscale\":[[0.0,\"#0d0887\"],[0.1111111111111111,\"#46039f\"],[0.2222222222222222,\"#7201a8\"],[0.3333333333333333,\"#9c179e\"],[0.4444444444444444,\"#bd3786\"],[0.5555555555555556,\"#d8576b\"],[0.6666666666666666,\"#ed7953\"],[0.7777777777777778,\"#fb9f3a\"],[0.8888888888888888,\"#fdca26\"],[1.0,\"#f0f921\"]],\"type\":\"histogram2dcontour\"}],\"histogram2d\":[{\"colorbar\":{\"outlinewidth\":0,\"ticks\":\"\"},\"colorscale\":[[0.0,\"#0d0887\"],[0.1111111111111111,\"#46039f\"],[0.2222222222222222,\"#7201a8\"],[0.3333333333333333,\"#9c179e\"],[0.4444444444444444,\"#bd3786\"],[0.5555555555555556,\"#d8576b\"],[0.6666666666666666,\"#ed7953\"],[0.7777777777777778,\"#fb9f3a\"],[0.8888888888888888,\"#fdca26\"],[1.0,\"#f0f921\"]],\"type\":\"histogram2d\"}],\"histogram\":[{\"marker\":{\"pattern\":{\"fillmode\":\"overlay\",\"size\":10,\"solidity\":0.2}},\"type\":\"histogram\"}],\"mesh3d\":[{\"colorbar\":{\"outlinewidth\":0,\"ticks\":\"\"},\"type\":\"mesh3d\"}],\"parcoords\":[{\"line\":{\"colorbar\":{\"outlinewidth\":0,\"ticks\":\"\"}},\"type\":\"parcoords\"}],\"pie\":[{\"automargin\":true,\"type\":\"pie\"}],\"scatter3d\":[{\"line\":{\"colorbar\":{\"outlinewidth\":0,\"ticks\":\"\"}},\"marker\":{\"colorbar\":{\"outlinewidth\":0,\"ticks\":\"\"}},\"type\":\"scatter3d\"}],\"scattercarpet\":[{\"marker\":{\"colorbar\":{\"outlinewidth\":0,\"ticks\":\"\"}},\"type\":\"scattercarpet\"}],\"scattergeo\":[{\"marker\":{\"colorbar\":{\"outlinewidth\":0,\"ticks\":\"\"}},\"type\":\"scattergeo\"}],\"scattergl\":[{\"marker\":{\"line\":{\"color\":\"#283442\"}},\"type\":\"scattergl\"}],\"scattermapbox\":[{\"marker\":{\"colorbar\":{\"outlinewidth\":0,\"ticks\":\"\"}},\"type\":\"scattermapbox\"}],\"scatterpolargl\":[{\"marker\":{\"colorbar\":{\"outlinewidth\":0,\"ticks\":\"\"}},\"type\":\"scatterpolargl\"}],\"scatterpolar\":[{\"marker\":{\"colorbar\":{\"outlinewidth\":0,\"ticks\":\"\"}},\"type\":\"scatterpolar\"}],\"scatter\":[{\"marker\":{\"line\":{\"color\":\"#283442\"}},\"type\":\"scatter\"}],\"scatterternary\":[{\"marker\":{\"colorbar\":{\"outlinewidth\":0,\"ticks\":\"\"}},\"type\":\"scatterternary\"}],\"surface\":[{\"colorbar\":{\"outlinewidth\":0,\"ticks\":\"\"},\"colorscale\":[[0.0,\"#0d0887\"],[0.1111111111111111,\"#46039f\"],[0.2222222222222222,\"#7201a8\"],[0.3333333333333333,\"#9c179e\"],[0.4444444444444444,\"#bd3786\"],[0.5555555555555556,\"#d8576b\"],[0.6666666666666666,\"#ed7953\"],[0.7777777777777778,\"#fb9f3a\"],[0.8888888888888888,\"#fdca26\"],[1.0,\"#f0f921\"]],\"type\":\"surface\"}],\"table\":[{\"cells\":{\"fill\":{\"color\":\"#506784\"},\"line\":{\"color\":\"rgb(17,17,17)\"}},\"header\":{\"fill\":{\"color\":\"#2a3f5f\"},\"line\":{\"color\":\"rgb(17,17,17)\"}},\"type\":\"table\"}]},\"layout\":{\"annotationdefaults\":{\"arrowcolor\":\"#f2f5fa\",\"arrowhead\":0,\"arrowwidth\":1},\"autotypenumbers\":\"strict\",\"coloraxis\":{\"colorbar\":{\"outlinewidth\":0,\"ticks\":\"\"}},\"colorscale\":{\"diverging\":[[0,\"#8e0152\"],[0.1,\"#c51b7d\"],[0.2,\"#de77ae\"],[0.3,\"#f1b6da\"],[0.4,\"#fde0ef\"],[0.5,\"#f7f7f7\"],[0.6,\"#e6f5d0\"],[0.7,\"#b8e186\"],[0.8,\"#7fbc41\"],[0.9,\"#4d9221\"],[1,\"#276419\"]],\"sequential\":[[0.0,\"#0d0887\"],[0.1111111111111111,\"#46039f\"],[0.2222222222222222,\"#7201a8\"],[0.3333333333333333,\"#9c179e\"],[0.4444444444444444,\"#bd3786\"],[0.5555555555555556,\"#d8576b\"],[0.6666666666666666,\"#ed7953\"],[0.7777777777777778,\"#fb9f3a\"],[0.8888888888888888,\"#fdca26\"],[1.0,\"#f0f921\"]],\"sequentialminus\":[[0.0,\"#0d0887\"],[0.1111111111111111,\"#46039f\"],[0.2222222222222222,\"#7201a8\"],[0.3333333333333333,\"#9c179e\"],[0.4444444444444444,\"#bd3786\"],[0.5555555555555556,\"#d8576b\"],[0.6666666666666666,\"#ed7953\"],[0.7777777777777778,\"#fb9f3a\"],[0.8888888888888888,\"#fdca26\"],[1.0,\"#f0f921\"]]},\"colorway\":[\"#636efa\",\"#EF553B\",\"#00cc96\",\"#ab63fa\",\"#FFA15A\",\"#19d3f3\",\"#FF6692\",\"#B6E880\",\"#FF97FF\",\"#FECB52\"],\"font\":{\"color\":\"#f2f5fa\"},\"geo\":{\"bgcolor\":\"rgb(17,17,17)\",\"lakecolor\":\"rgb(17,17,17)\",\"landcolor\":\"rgb(17,17,17)\",\"showlakes\":true,\"showland\":true,\"subunitcolor\":\"#506784\"},\"hoverlabel\":{\"align\":\"left\"},\"hovermode\":\"closest\",\"mapbox\":{\"style\":\"dark\"},\"paper_bgcolor\":\"rgb(17,17,17)\",\"plot_bgcolor\":\"rgb(17,17,17)\",\"polar\":{\"angularaxis\":{\"gridcolor\":\"#506784\",\"linecolor\":\"#506784\",\"ticks\":\"\"},\"bgcolor\":\"rgb(17,17,17)\",\"radialaxis\":{\"gridcolor\":\"#506784\",\"linecolor\":\"#506784\",\"ticks\":\"\"}},\"scene\":{\"xaxis\":{\"backgroundcolor\":\"rgb(17,17,17)\",\"gridcolor\":\"#506784\",\"gridwidth\":2,\"linecolor\":\"#506784\",\"showbackground\":true,\"ticks\":\"\",\"zerolinecolor\":\"#C8D4E3\"},\"yaxis\":{\"backgroundcolor\":\"rgb(17,17,17)\",\"gridcolor\":\"#506784\",\"gridwidth\":2,\"linecolor\":\"#506784\",\"showbackground\":true,\"ticks\":\"\",\"zerolinecolor\":\"#C8D4E3\"},\"zaxis\":{\"backgroundcolor\":\"rgb(17,17,17)\",\"gridcolor\":\"#506784\",\"gridwidth\":2,\"linecolor\":\"#506784\",\"showbackground\":true,\"ticks\":\"\",\"zerolinecolor\":\"#C8D4E3\"}},\"shapedefaults\":{\"line\":{\"color\":\"#f2f5fa\"}},\"sliderdefaults\":{\"bgcolor\":\"#C8D4E3\",\"bordercolor\":\"rgb(17,17,17)\",\"borderwidth\":1,\"tickwidth\":0},\"ternary\":{\"aaxis\":{\"gridcolor\":\"#506784\",\"linecolor\":\"#506784\",\"ticks\":\"\"},\"baxis\":{\"gridcolor\":\"#506784\",\"linecolor\":\"#506784\",\"ticks\":\"\"},\"bgcolor\":\"rgb(17,17,17)\",\"caxis\":{\"gridcolor\":\"#506784\",\"linecolor\":\"#506784\",\"ticks\":\"\"}},\"title\":{\"x\":0.05},\"updatemenudefaults\":{\"bgcolor\":\"#506784\",\"borderwidth\":0},\"xaxis\":{\"automargin\":true,\"gridcolor\":\"#283442\",\"linecolor\":\"#506784\",\"ticks\":\"\",\"title\":{\"standoff\":15},\"zerolinecolor\":\"#283442\",\"zerolinewidth\":2},\"yaxis\":{\"automargin\":true,\"gridcolor\":\"#283442\",\"linecolor\":\"#506784\",\"ticks\":\"\",\"title\":{\"standoff\":15},\"zerolinecolor\":\"#283442\",\"zerolinewidth\":2}}},\"xaxis\":{\"anchor\":\"y\",\"domain\":[0.0,1.0],\"title\":{\"text\":\"Date\"}},\"yaxis\":{\"anchor\":\"x\",\"domain\":[0.0,1.0],\"title\":{\"text\":\"value\"}},\"legend\":{\"title\":{\"text\":\"variable\"},\"tracegroupgap\":0},\"margin\":{\"t\":60},\"barmode\":\"relative\",\"width\":1000,\"height\":800},                        {\"responsive\": true}                    ).then(function(){\n",
       "                            \n",
       "var gd = document.getElementById('da0172cb-f1e3-4a6f-9d67-9f99a88ee469');\n",
       "var x = new MutationObserver(function (mutations, observer) {{\n",
       "        var display = window.getComputedStyle(gd).display;\n",
       "        if (!display || display === 'none') {{\n",
       "            console.log([gd, 'removed!']);\n",
       "            Plotly.purge(gd);\n",
       "            observer.disconnect();\n",
       "        }}\n",
       "}});\n",
       "\n",
       "// Listen for the removal of the full notebook cells\n",
       "var notebookContainer = gd.closest('#notebook-container');\n",
       "if (notebookContainer) {{\n",
       "    x.observe(notebookContainer, {childList: true});\n",
       "}}\n",
       "\n",
       "// Listen for the clearing of the current output cell\n",
       "var outputEl = gd.closest('.output');\n",
       "if (outputEl) {{\n",
       "    x.observe(outputEl, {childList: true});\n",
       "}}\n",
       "\n",
       "                        })                };                });            </script>        </div>"
      ]
     },
     "metadata": {},
     "output_type": "display_data"
    }
   ],
   "source": [
    "fig = px.bar(pf_data2)\n",
    "fig.update_layout(width=1000, height=800, template = \"plotly_dark\")\n",
    "fig.show()"
   ]
  },
  {
   "attachments": {},
   "cell_type": "markdown",
   "metadata": {},
   "source": [
    "Alternatively, we can plot a side-by-side bar graph for each stock. While a stacked bar chart provides information on the total volume, a side-by-side bar graph presents a clearer depiction of how the volume for each stock has evolved throughout the year."
   ]
  },
  {
   "cell_type": "code",
   "execution_count": 134,
   "metadata": {},
   "outputs": [
    {
     "data": {
      "application/vnd.plotly.v1+json": {
       "config": {
        "plotlyServerURL": "https://plot.ly"
       },
       "data": [
        {
         "alignmentgroup": "True",
         "hovertemplate": "variable=META<br>Date=%{x}<br>value=%{y}<extra></extra>",
         "legendgroup": "META",
         "marker": {
          "color": "#636efa",
          "pattern": {
           "shape": ""
          }
         },
         "name": "META",
         "offsetgroup": "META",
         "orientation": "v",
         "showlegend": true,
         "textposition": "auto",
         "type": "bar",
         "x": [
          "2021-01-01T00:00:00",
          "2021-04-01T00:00:00",
          "2021-07-01T00:00:00",
          "2021-10-01T00:00:00"
         ],
         "xaxis": "x",
         "y": [
          1267825000,
          1119491800,
          899674400,
          1467754400
         ],
         "yaxis": "y"
        },
        {
         "alignmentgroup": "True",
         "hovertemplate": "variable=AMZN<br>Date=%{x}<br>value=%{y}<extra></extra>",
         "legendgroup": "AMZN",
         "marker": {
          "color": "#EF553B",
          "pattern": {
           "shape": ""
          }
         },
         "name": "AMZN",
         "offsetgroup": "AMZN",
         "orientation": "v",
         "showlegend": true,
         "textposition": "auto",
         "type": "bar",
         "x": [
          "2021-01-01T00:00:00",
          "2021-04-01T00:00:00",
          "2021-07-01T00:00:00",
          "2021-10-01T00:00:00"
         ],
         "xaxis": "x",
         "y": [
          4436478000,
          4380690000,
          4182104000,
          4077090000
         ],
         "yaxis": "y"
        },
        {
         "alignmentgroup": "True",
         "hovertemplate": "variable=NFLX<br>Date=%{x}<br>value=%{y}<extra></extra>",
         "legendgroup": "NFLX",
         "marker": {
          "color": "#00cc96",
          "pattern": {
           "shape": ""
          }
         },
         "name": "NFLX",
         "offsetgroup": "NFLX",
         "orientation": "v",
         "showlegend": true,
         "textposition": "auto",
         "type": "bar",
         "x": [
          "2021-01-01T00:00:00",
          "2021-04-01T00:00:00",
          "2021-07-01T00:00:00",
          "2021-10-01T00:00:00"
         ],
         "xaxis": "x",
         "y": [
          292074800,
          257061500,
          214286400,
          223081800
         ],
         "yaxis": "y"
        },
        {
         "alignmentgroup": "True",
         "hovertemplate": "variable=GOOG<br>Date=%{x}<br>value=%{y}<extra></extra>",
         "legendgroup": "GOOG",
         "marker": {
          "color": "#ab63fa",
          "pattern": {
           "shape": ""
          }
         },
         "name": "GOOG",
         "offsetgroup": "GOOG",
         "orientation": "v",
         "showlegend": true,
         "textposition": "auto",
         "type": "bar",
         "x": [
          "2021-01-01T00:00:00",
          "2021-04-01T00:00:00",
          "2021-07-01T00:00:00",
          "2021-10-01T00:00:00"
         ],
         "xaxis": "x",
         "y": [
          1946118000,
          1672264000,
          1334286000,
          1419004000
         ],
         "yaxis": "y"
        },
        {
         "alignmentgroup": "True",
         "hovertemplate": "variable=MSFT<br>Date=%{x}<br>value=%{y}<extra></extra>",
         "legendgroup": "MSFT",
         "marker": {
          "color": "#FFA15A",
          "pattern": {
           "shape": ""
          }
         },
         "name": "MSFT",
         "offsetgroup": "MSFT",
         "orientation": "v",
         "showlegend": true,
         "textposition": "auto",
         "type": "bar",
         "x": [
          "2021-01-01T00:00:00",
          "2021-04-01T00:00:00",
          "2021-07-01T00:00:00",
          "2021-10-01T00:00:00"
         ],
         "xaxis": "x",
         "y": [
          1863984400,
          1572318700,
          1466900300,
          1652075800
         ],
         "yaxis": "y"
        },
        {
         "alignmentgroup": "True",
         "hovertemplate": "variable=NVDA<br>Date=%{x}<br>value=%{y}<extra></extra>",
         "legendgroup": "NVDA",
         "marker": {
          "color": "#19d3f3",
          "pattern": {
           "shape": ""
          }
         },
         "name": "NVDA",
         "offsetgroup": "NVDA",
         "orientation": "v",
         "showlegend": true,
         "textposition": "auto",
         "type": "bar",
         "x": [
          "2021-01-01T00:00:00",
          "2021-04-01T00:00:00",
          "2021-07-01T00:00:00",
          "2021-10-01T00:00:00"
         ],
         "xaxis": "x",
         "y": [
          2048315200,
          2404646800,
          1923844900,
          2684075300
         ],
         "yaxis": "y"
        },
        {
         "alignmentgroup": "True",
         "hovertemplate": "variable=TSLA<br>Date=%{x}<br>value=%{y}<extra></extra>",
         "legendgroup": "TSLA",
         "marker": {
          "color": "#FF6692",
          "pattern": {
           "shape": ""
          }
         },
         "name": "TSLA",
         "offsetgroup": "TSLA",
         "orientation": "v",
         "showlegend": true,
         "textposition": "auto",
         "type": "bar",
         "x": [
          "2021-01-01T00:00:00",
          "2021-04-01T00:00:00",
          "2021-07-01T00:00:00",
          "2021-10-01T00:00:00"
         ],
         "xaxis": "x",
         "y": [
          6513015300,
          5470912200,
          3659838000,
          5064306000
         ],
         "yaxis": "y"
        }
       ],
       "layout": {
        "barmode": "group",
        "height": 800,
        "legend": {
         "title": {
          "text": "variable"
         },
         "tracegroupgap": 0
        },
        "margin": {
         "t": 60
        },
        "template": {
         "data": {
          "bar": [
           {
            "error_x": {
             "color": "#f2f5fa"
            },
            "error_y": {
             "color": "#f2f5fa"
            },
            "marker": {
             "line": {
              "color": "rgb(17,17,17)",
              "width": 0.5
             },
             "pattern": {
              "fillmode": "overlay",
              "size": 10,
              "solidity": 0.2
             }
            },
            "type": "bar"
           }
          ],
          "barpolar": [
           {
            "marker": {
             "line": {
              "color": "rgb(17,17,17)",
              "width": 0.5
             },
             "pattern": {
              "fillmode": "overlay",
              "size": 10,
              "solidity": 0.2
             }
            },
            "type": "barpolar"
           }
          ],
          "carpet": [
           {
            "aaxis": {
             "endlinecolor": "#A2B1C6",
             "gridcolor": "#506784",
             "linecolor": "#506784",
             "minorgridcolor": "#506784",
             "startlinecolor": "#A2B1C6"
            },
            "baxis": {
             "endlinecolor": "#A2B1C6",
             "gridcolor": "#506784",
             "linecolor": "#506784",
             "minorgridcolor": "#506784",
             "startlinecolor": "#A2B1C6"
            },
            "type": "carpet"
           }
          ],
          "choropleth": [
           {
            "colorbar": {
             "outlinewidth": 0,
             "ticks": ""
            },
            "type": "choropleth"
           }
          ],
          "contour": [
           {
            "colorbar": {
             "outlinewidth": 0,
             "ticks": ""
            },
            "colorscale": [
             [
              0,
              "#0d0887"
             ],
             [
              0.1111111111111111,
              "#46039f"
             ],
             [
              0.2222222222222222,
              "#7201a8"
             ],
             [
              0.3333333333333333,
              "#9c179e"
             ],
             [
              0.4444444444444444,
              "#bd3786"
             ],
             [
              0.5555555555555556,
              "#d8576b"
             ],
             [
              0.6666666666666666,
              "#ed7953"
             ],
             [
              0.7777777777777778,
              "#fb9f3a"
             ],
             [
              0.8888888888888888,
              "#fdca26"
             ],
             [
              1,
              "#f0f921"
             ]
            ],
            "type": "contour"
           }
          ],
          "contourcarpet": [
           {
            "colorbar": {
             "outlinewidth": 0,
             "ticks": ""
            },
            "type": "contourcarpet"
           }
          ],
          "heatmap": [
           {
            "colorbar": {
             "outlinewidth": 0,
             "ticks": ""
            },
            "colorscale": [
             [
              0,
              "#0d0887"
             ],
             [
              0.1111111111111111,
              "#46039f"
             ],
             [
              0.2222222222222222,
              "#7201a8"
             ],
             [
              0.3333333333333333,
              "#9c179e"
             ],
             [
              0.4444444444444444,
              "#bd3786"
             ],
             [
              0.5555555555555556,
              "#d8576b"
             ],
             [
              0.6666666666666666,
              "#ed7953"
             ],
             [
              0.7777777777777778,
              "#fb9f3a"
             ],
             [
              0.8888888888888888,
              "#fdca26"
             ],
             [
              1,
              "#f0f921"
             ]
            ],
            "type": "heatmap"
           }
          ],
          "heatmapgl": [
           {
            "colorbar": {
             "outlinewidth": 0,
             "ticks": ""
            },
            "colorscale": [
             [
              0,
              "#0d0887"
             ],
             [
              0.1111111111111111,
              "#46039f"
             ],
             [
              0.2222222222222222,
              "#7201a8"
             ],
             [
              0.3333333333333333,
              "#9c179e"
             ],
             [
              0.4444444444444444,
              "#bd3786"
             ],
             [
              0.5555555555555556,
              "#d8576b"
             ],
             [
              0.6666666666666666,
              "#ed7953"
             ],
             [
              0.7777777777777778,
              "#fb9f3a"
             ],
             [
              0.8888888888888888,
              "#fdca26"
             ],
             [
              1,
              "#f0f921"
             ]
            ],
            "type": "heatmapgl"
           }
          ],
          "histogram": [
           {
            "marker": {
             "pattern": {
              "fillmode": "overlay",
              "size": 10,
              "solidity": 0.2
             }
            },
            "type": "histogram"
           }
          ],
          "histogram2d": [
           {
            "colorbar": {
             "outlinewidth": 0,
             "ticks": ""
            },
            "colorscale": [
             [
              0,
              "#0d0887"
             ],
             [
              0.1111111111111111,
              "#46039f"
             ],
             [
              0.2222222222222222,
              "#7201a8"
             ],
             [
              0.3333333333333333,
              "#9c179e"
             ],
             [
              0.4444444444444444,
              "#bd3786"
             ],
             [
              0.5555555555555556,
              "#d8576b"
             ],
             [
              0.6666666666666666,
              "#ed7953"
             ],
             [
              0.7777777777777778,
              "#fb9f3a"
             ],
             [
              0.8888888888888888,
              "#fdca26"
             ],
             [
              1,
              "#f0f921"
             ]
            ],
            "type": "histogram2d"
           }
          ],
          "histogram2dcontour": [
           {
            "colorbar": {
             "outlinewidth": 0,
             "ticks": ""
            },
            "colorscale": [
             [
              0,
              "#0d0887"
             ],
             [
              0.1111111111111111,
              "#46039f"
             ],
             [
              0.2222222222222222,
              "#7201a8"
             ],
             [
              0.3333333333333333,
              "#9c179e"
             ],
             [
              0.4444444444444444,
              "#bd3786"
             ],
             [
              0.5555555555555556,
              "#d8576b"
             ],
             [
              0.6666666666666666,
              "#ed7953"
             ],
             [
              0.7777777777777778,
              "#fb9f3a"
             ],
             [
              0.8888888888888888,
              "#fdca26"
             ],
             [
              1,
              "#f0f921"
             ]
            ],
            "type": "histogram2dcontour"
           }
          ],
          "mesh3d": [
           {
            "colorbar": {
             "outlinewidth": 0,
             "ticks": ""
            },
            "type": "mesh3d"
           }
          ],
          "parcoords": [
           {
            "line": {
             "colorbar": {
              "outlinewidth": 0,
              "ticks": ""
             }
            },
            "type": "parcoords"
           }
          ],
          "pie": [
           {
            "automargin": true,
            "type": "pie"
           }
          ],
          "scatter": [
           {
            "marker": {
             "line": {
              "color": "#283442"
             }
            },
            "type": "scatter"
           }
          ],
          "scatter3d": [
           {
            "line": {
             "colorbar": {
              "outlinewidth": 0,
              "ticks": ""
             }
            },
            "marker": {
             "colorbar": {
              "outlinewidth": 0,
              "ticks": ""
             }
            },
            "type": "scatter3d"
           }
          ],
          "scattercarpet": [
           {
            "marker": {
             "colorbar": {
              "outlinewidth": 0,
              "ticks": ""
             }
            },
            "type": "scattercarpet"
           }
          ],
          "scattergeo": [
           {
            "marker": {
             "colorbar": {
              "outlinewidth": 0,
              "ticks": ""
             }
            },
            "type": "scattergeo"
           }
          ],
          "scattergl": [
           {
            "marker": {
             "line": {
              "color": "#283442"
             }
            },
            "type": "scattergl"
           }
          ],
          "scattermapbox": [
           {
            "marker": {
             "colorbar": {
              "outlinewidth": 0,
              "ticks": ""
             }
            },
            "type": "scattermapbox"
           }
          ],
          "scatterpolar": [
           {
            "marker": {
             "colorbar": {
              "outlinewidth": 0,
              "ticks": ""
             }
            },
            "type": "scatterpolar"
           }
          ],
          "scatterpolargl": [
           {
            "marker": {
             "colorbar": {
              "outlinewidth": 0,
              "ticks": ""
             }
            },
            "type": "scatterpolargl"
           }
          ],
          "scatterternary": [
           {
            "marker": {
             "colorbar": {
              "outlinewidth": 0,
              "ticks": ""
             }
            },
            "type": "scatterternary"
           }
          ],
          "surface": [
           {
            "colorbar": {
             "outlinewidth": 0,
             "ticks": ""
            },
            "colorscale": [
             [
              0,
              "#0d0887"
             ],
             [
              0.1111111111111111,
              "#46039f"
             ],
             [
              0.2222222222222222,
              "#7201a8"
             ],
             [
              0.3333333333333333,
              "#9c179e"
             ],
             [
              0.4444444444444444,
              "#bd3786"
             ],
             [
              0.5555555555555556,
              "#d8576b"
             ],
             [
              0.6666666666666666,
              "#ed7953"
             ],
             [
              0.7777777777777778,
              "#fb9f3a"
             ],
             [
              0.8888888888888888,
              "#fdca26"
             ],
             [
              1,
              "#f0f921"
             ]
            ],
            "type": "surface"
           }
          ],
          "table": [
           {
            "cells": {
             "fill": {
              "color": "#506784"
             },
             "line": {
              "color": "rgb(17,17,17)"
             }
            },
            "header": {
             "fill": {
              "color": "#2a3f5f"
             },
             "line": {
              "color": "rgb(17,17,17)"
             }
            },
            "type": "table"
           }
          ]
         },
         "layout": {
          "annotationdefaults": {
           "arrowcolor": "#f2f5fa",
           "arrowhead": 0,
           "arrowwidth": 1
          },
          "autotypenumbers": "strict",
          "coloraxis": {
           "colorbar": {
            "outlinewidth": 0,
            "ticks": ""
           }
          },
          "colorscale": {
           "diverging": [
            [
             0,
             "#8e0152"
            ],
            [
             0.1,
             "#c51b7d"
            ],
            [
             0.2,
             "#de77ae"
            ],
            [
             0.3,
             "#f1b6da"
            ],
            [
             0.4,
             "#fde0ef"
            ],
            [
             0.5,
             "#f7f7f7"
            ],
            [
             0.6,
             "#e6f5d0"
            ],
            [
             0.7,
             "#b8e186"
            ],
            [
             0.8,
             "#7fbc41"
            ],
            [
             0.9,
             "#4d9221"
            ],
            [
             1,
             "#276419"
            ]
           ],
           "sequential": [
            [
             0,
             "#0d0887"
            ],
            [
             0.1111111111111111,
             "#46039f"
            ],
            [
             0.2222222222222222,
             "#7201a8"
            ],
            [
             0.3333333333333333,
             "#9c179e"
            ],
            [
             0.4444444444444444,
             "#bd3786"
            ],
            [
             0.5555555555555556,
             "#d8576b"
            ],
            [
             0.6666666666666666,
             "#ed7953"
            ],
            [
             0.7777777777777778,
             "#fb9f3a"
            ],
            [
             0.8888888888888888,
             "#fdca26"
            ],
            [
             1,
             "#f0f921"
            ]
           ],
           "sequentialminus": [
            [
             0,
             "#0d0887"
            ],
            [
             0.1111111111111111,
             "#46039f"
            ],
            [
             0.2222222222222222,
             "#7201a8"
            ],
            [
             0.3333333333333333,
             "#9c179e"
            ],
            [
             0.4444444444444444,
             "#bd3786"
            ],
            [
             0.5555555555555556,
             "#d8576b"
            ],
            [
             0.6666666666666666,
             "#ed7953"
            ],
            [
             0.7777777777777778,
             "#fb9f3a"
            ],
            [
             0.8888888888888888,
             "#fdca26"
            ],
            [
             1,
             "#f0f921"
            ]
           ]
          },
          "colorway": [
           "#636efa",
           "#EF553B",
           "#00cc96",
           "#ab63fa",
           "#FFA15A",
           "#19d3f3",
           "#FF6692",
           "#B6E880",
           "#FF97FF",
           "#FECB52"
          ],
          "font": {
           "color": "#f2f5fa"
          },
          "geo": {
           "bgcolor": "rgb(17,17,17)",
           "lakecolor": "rgb(17,17,17)",
           "landcolor": "rgb(17,17,17)",
           "showlakes": true,
           "showland": true,
           "subunitcolor": "#506784"
          },
          "hoverlabel": {
           "align": "left"
          },
          "hovermode": "closest",
          "mapbox": {
           "style": "dark"
          },
          "paper_bgcolor": "rgb(17,17,17)",
          "plot_bgcolor": "rgb(17,17,17)",
          "polar": {
           "angularaxis": {
            "gridcolor": "#506784",
            "linecolor": "#506784",
            "ticks": ""
           },
           "bgcolor": "rgb(17,17,17)",
           "radialaxis": {
            "gridcolor": "#506784",
            "linecolor": "#506784",
            "ticks": ""
           }
          },
          "scene": {
           "xaxis": {
            "backgroundcolor": "rgb(17,17,17)",
            "gridcolor": "#506784",
            "gridwidth": 2,
            "linecolor": "#506784",
            "showbackground": true,
            "ticks": "",
            "zerolinecolor": "#C8D4E3"
           },
           "yaxis": {
            "backgroundcolor": "rgb(17,17,17)",
            "gridcolor": "#506784",
            "gridwidth": 2,
            "linecolor": "#506784",
            "showbackground": true,
            "ticks": "",
            "zerolinecolor": "#C8D4E3"
           },
           "zaxis": {
            "backgroundcolor": "rgb(17,17,17)",
            "gridcolor": "#506784",
            "gridwidth": 2,
            "linecolor": "#506784",
            "showbackground": true,
            "ticks": "",
            "zerolinecolor": "#C8D4E3"
           }
          },
          "shapedefaults": {
           "line": {
            "color": "#f2f5fa"
           }
          },
          "sliderdefaults": {
           "bgcolor": "#C8D4E3",
           "bordercolor": "rgb(17,17,17)",
           "borderwidth": 1,
           "tickwidth": 0
          },
          "ternary": {
           "aaxis": {
            "gridcolor": "#506784",
            "linecolor": "#506784",
            "ticks": ""
           },
           "baxis": {
            "gridcolor": "#506784",
            "linecolor": "#506784",
            "ticks": ""
           },
           "bgcolor": "rgb(17,17,17)",
           "caxis": {
            "gridcolor": "#506784",
            "linecolor": "#506784",
            "ticks": ""
           }
          },
          "title": {
           "x": 0.05
          },
          "updatemenudefaults": {
           "bgcolor": "#506784",
           "borderwidth": 0
          },
          "xaxis": {
           "automargin": true,
           "gridcolor": "#283442",
           "linecolor": "#506784",
           "ticks": "",
           "title": {
            "standoff": 15
           },
           "zerolinecolor": "#283442",
           "zerolinewidth": 2
          },
          "yaxis": {
           "automargin": true,
           "gridcolor": "#283442",
           "linecolor": "#506784",
           "ticks": "",
           "title": {
            "standoff": 15
           },
           "zerolinecolor": "#283442",
           "zerolinewidth": 2
          }
         }
        },
        "width": 1000,
        "xaxis": {
         "anchor": "y",
         "domain": [
          0,
          1
         ],
         "title": {
          "text": "Date"
         }
        },
        "yaxis": {
         "anchor": "x",
         "domain": [
          0,
          1
         ],
         "title": {
          "text": "value"
         }
        }
       }
      },
      "text/html": [
       "<div>                            <div id=\"92695931-b239-47d0-a93d-78dda170fd9f\" class=\"plotly-graph-div\" style=\"height:800px; width:1000px;\"></div>            <script type=\"text/javascript\">                require([\"plotly\"], function(Plotly) {                    window.PLOTLYENV=window.PLOTLYENV || {};                                    if (document.getElementById(\"92695931-b239-47d0-a93d-78dda170fd9f\")) {                    Plotly.newPlot(                        \"92695931-b239-47d0-a93d-78dda170fd9f\",                        [{\"alignmentgroup\":\"True\",\"hovertemplate\":\"variable=META<br>Date=%{x}<br>value=%{y}<extra></extra>\",\"legendgroup\":\"META\",\"marker\":{\"color\":\"#636efa\",\"pattern\":{\"shape\":\"\"}},\"name\":\"META\",\"offsetgroup\":\"META\",\"orientation\":\"v\",\"showlegend\":true,\"textposition\":\"auto\",\"x\":[\"2021-01-01T00:00:00\",\"2021-04-01T00:00:00\",\"2021-07-01T00:00:00\",\"2021-10-01T00:00:00\"],\"xaxis\":\"x\",\"y\":[1267825000,1119491800,899674400,1467754400],\"yaxis\":\"y\",\"type\":\"bar\"},{\"alignmentgroup\":\"True\",\"hovertemplate\":\"variable=AMZN<br>Date=%{x}<br>value=%{y}<extra></extra>\",\"legendgroup\":\"AMZN\",\"marker\":{\"color\":\"#EF553B\",\"pattern\":{\"shape\":\"\"}},\"name\":\"AMZN\",\"offsetgroup\":\"AMZN\",\"orientation\":\"v\",\"showlegend\":true,\"textposition\":\"auto\",\"x\":[\"2021-01-01T00:00:00\",\"2021-04-01T00:00:00\",\"2021-07-01T00:00:00\",\"2021-10-01T00:00:00\"],\"xaxis\":\"x\",\"y\":[4436478000,4380690000,4182104000,4077090000],\"yaxis\":\"y\",\"type\":\"bar\"},{\"alignmentgroup\":\"True\",\"hovertemplate\":\"variable=NFLX<br>Date=%{x}<br>value=%{y}<extra></extra>\",\"legendgroup\":\"NFLX\",\"marker\":{\"color\":\"#00cc96\",\"pattern\":{\"shape\":\"\"}},\"name\":\"NFLX\",\"offsetgroup\":\"NFLX\",\"orientation\":\"v\",\"showlegend\":true,\"textposition\":\"auto\",\"x\":[\"2021-01-01T00:00:00\",\"2021-04-01T00:00:00\",\"2021-07-01T00:00:00\",\"2021-10-01T00:00:00\"],\"xaxis\":\"x\",\"y\":[292074800,257061500,214286400,223081800],\"yaxis\":\"y\",\"type\":\"bar\"},{\"alignmentgroup\":\"True\",\"hovertemplate\":\"variable=GOOG<br>Date=%{x}<br>value=%{y}<extra></extra>\",\"legendgroup\":\"GOOG\",\"marker\":{\"color\":\"#ab63fa\",\"pattern\":{\"shape\":\"\"}},\"name\":\"GOOG\",\"offsetgroup\":\"GOOG\",\"orientation\":\"v\",\"showlegend\":true,\"textposition\":\"auto\",\"x\":[\"2021-01-01T00:00:00\",\"2021-04-01T00:00:00\",\"2021-07-01T00:00:00\",\"2021-10-01T00:00:00\"],\"xaxis\":\"x\",\"y\":[1946118000,1672264000,1334286000,1419004000],\"yaxis\":\"y\",\"type\":\"bar\"},{\"alignmentgroup\":\"True\",\"hovertemplate\":\"variable=MSFT<br>Date=%{x}<br>value=%{y}<extra></extra>\",\"legendgroup\":\"MSFT\",\"marker\":{\"color\":\"#FFA15A\",\"pattern\":{\"shape\":\"\"}},\"name\":\"MSFT\",\"offsetgroup\":\"MSFT\",\"orientation\":\"v\",\"showlegend\":true,\"textposition\":\"auto\",\"x\":[\"2021-01-01T00:00:00\",\"2021-04-01T00:00:00\",\"2021-07-01T00:00:00\",\"2021-10-01T00:00:00\"],\"xaxis\":\"x\",\"y\":[1863984400,1572318700,1466900300,1652075800],\"yaxis\":\"y\",\"type\":\"bar\"},{\"alignmentgroup\":\"True\",\"hovertemplate\":\"variable=NVDA<br>Date=%{x}<br>value=%{y}<extra></extra>\",\"legendgroup\":\"NVDA\",\"marker\":{\"color\":\"#19d3f3\",\"pattern\":{\"shape\":\"\"}},\"name\":\"NVDA\",\"offsetgroup\":\"NVDA\",\"orientation\":\"v\",\"showlegend\":true,\"textposition\":\"auto\",\"x\":[\"2021-01-01T00:00:00\",\"2021-04-01T00:00:00\",\"2021-07-01T00:00:00\",\"2021-10-01T00:00:00\"],\"xaxis\":\"x\",\"y\":[2048315200,2404646800,1923844900,2684075300],\"yaxis\":\"y\",\"type\":\"bar\"},{\"alignmentgroup\":\"True\",\"hovertemplate\":\"variable=TSLA<br>Date=%{x}<br>value=%{y}<extra></extra>\",\"legendgroup\":\"TSLA\",\"marker\":{\"color\":\"#FF6692\",\"pattern\":{\"shape\":\"\"}},\"name\":\"TSLA\",\"offsetgroup\":\"TSLA\",\"orientation\":\"v\",\"showlegend\":true,\"textposition\":\"auto\",\"x\":[\"2021-01-01T00:00:00\",\"2021-04-01T00:00:00\",\"2021-07-01T00:00:00\",\"2021-10-01T00:00:00\"],\"xaxis\":\"x\",\"y\":[6513015300,5470912200,3659838000,5064306000],\"yaxis\":\"y\",\"type\":\"bar\"}],                        {\"template\":{\"data\":{\"barpolar\":[{\"marker\":{\"line\":{\"color\":\"rgb(17,17,17)\",\"width\":0.5},\"pattern\":{\"fillmode\":\"overlay\",\"size\":10,\"solidity\":0.2}},\"type\":\"barpolar\"}],\"bar\":[{\"error_x\":{\"color\":\"#f2f5fa\"},\"error_y\":{\"color\":\"#f2f5fa\"},\"marker\":{\"line\":{\"color\":\"rgb(17,17,17)\",\"width\":0.5},\"pattern\":{\"fillmode\":\"overlay\",\"size\":10,\"solidity\":0.2}},\"type\":\"bar\"}],\"carpet\":[{\"aaxis\":{\"endlinecolor\":\"#A2B1C6\",\"gridcolor\":\"#506784\",\"linecolor\":\"#506784\",\"minorgridcolor\":\"#506784\",\"startlinecolor\":\"#A2B1C6\"},\"baxis\":{\"endlinecolor\":\"#A2B1C6\",\"gridcolor\":\"#506784\",\"linecolor\":\"#506784\",\"minorgridcolor\":\"#506784\",\"startlinecolor\":\"#A2B1C6\"},\"type\":\"carpet\"}],\"choropleth\":[{\"colorbar\":{\"outlinewidth\":0,\"ticks\":\"\"},\"type\":\"choropleth\"}],\"contourcarpet\":[{\"colorbar\":{\"outlinewidth\":0,\"ticks\":\"\"},\"type\":\"contourcarpet\"}],\"contour\":[{\"colorbar\":{\"outlinewidth\":0,\"ticks\":\"\"},\"colorscale\":[[0.0,\"#0d0887\"],[0.1111111111111111,\"#46039f\"],[0.2222222222222222,\"#7201a8\"],[0.3333333333333333,\"#9c179e\"],[0.4444444444444444,\"#bd3786\"],[0.5555555555555556,\"#d8576b\"],[0.6666666666666666,\"#ed7953\"],[0.7777777777777778,\"#fb9f3a\"],[0.8888888888888888,\"#fdca26\"],[1.0,\"#f0f921\"]],\"type\":\"contour\"}],\"heatmapgl\":[{\"colorbar\":{\"outlinewidth\":0,\"ticks\":\"\"},\"colorscale\":[[0.0,\"#0d0887\"],[0.1111111111111111,\"#46039f\"],[0.2222222222222222,\"#7201a8\"],[0.3333333333333333,\"#9c179e\"],[0.4444444444444444,\"#bd3786\"],[0.5555555555555556,\"#d8576b\"],[0.6666666666666666,\"#ed7953\"],[0.7777777777777778,\"#fb9f3a\"],[0.8888888888888888,\"#fdca26\"],[1.0,\"#f0f921\"]],\"type\":\"heatmapgl\"}],\"heatmap\":[{\"colorbar\":{\"outlinewidth\":0,\"ticks\":\"\"},\"colorscale\":[[0.0,\"#0d0887\"],[0.1111111111111111,\"#46039f\"],[0.2222222222222222,\"#7201a8\"],[0.3333333333333333,\"#9c179e\"],[0.4444444444444444,\"#bd3786\"],[0.5555555555555556,\"#d8576b\"],[0.6666666666666666,\"#ed7953\"],[0.7777777777777778,\"#fb9f3a\"],[0.8888888888888888,\"#fdca26\"],[1.0,\"#f0f921\"]],\"type\":\"heatmap\"}],\"histogram2dcontour\":[{\"colorbar\":{\"outlinewidth\":0,\"ticks\":\"\"},\"colorscale\":[[0.0,\"#0d0887\"],[0.1111111111111111,\"#46039f\"],[0.2222222222222222,\"#7201a8\"],[0.3333333333333333,\"#9c179e\"],[0.4444444444444444,\"#bd3786\"],[0.5555555555555556,\"#d8576b\"],[0.6666666666666666,\"#ed7953\"],[0.7777777777777778,\"#fb9f3a\"],[0.8888888888888888,\"#fdca26\"],[1.0,\"#f0f921\"]],\"type\":\"histogram2dcontour\"}],\"histogram2d\":[{\"colorbar\":{\"outlinewidth\":0,\"ticks\":\"\"},\"colorscale\":[[0.0,\"#0d0887\"],[0.1111111111111111,\"#46039f\"],[0.2222222222222222,\"#7201a8\"],[0.3333333333333333,\"#9c179e\"],[0.4444444444444444,\"#bd3786\"],[0.5555555555555556,\"#d8576b\"],[0.6666666666666666,\"#ed7953\"],[0.7777777777777778,\"#fb9f3a\"],[0.8888888888888888,\"#fdca26\"],[1.0,\"#f0f921\"]],\"type\":\"histogram2d\"}],\"histogram\":[{\"marker\":{\"pattern\":{\"fillmode\":\"overlay\",\"size\":10,\"solidity\":0.2}},\"type\":\"histogram\"}],\"mesh3d\":[{\"colorbar\":{\"outlinewidth\":0,\"ticks\":\"\"},\"type\":\"mesh3d\"}],\"parcoords\":[{\"line\":{\"colorbar\":{\"outlinewidth\":0,\"ticks\":\"\"}},\"type\":\"parcoords\"}],\"pie\":[{\"automargin\":true,\"type\":\"pie\"}],\"scatter3d\":[{\"line\":{\"colorbar\":{\"outlinewidth\":0,\"ticks\":\"\"}},\"marker\":{\"colorbar\":{\"outlinewidth\":0,\"ticks\":\"\"}},\"type\":\"scatter3d\"}],\"scattercarpet\":[{\"marker\":{\"colorbar\":{\"outlinewidth\":0,\"ticks\":\"\"}},\"type\":\"scattercarpet\"}],\"scattergeo\":[{\"marker\":{\"colorbar\":{\"outlinewidth\":0,\"ticks\":\"\"}},\"type\":\"scattergeo\"}],\"scattergl\":[{\"marker\":{\"line\":{\"color\":\"#283442\"}},\"type\":\"scattergl\"}],\"scattermapbox\":[{\"marker\":{\"colorbar\":{\"outlinewidth\":0,\"ticks\":\"\"}},\"type\":\"scattermapbox\"}],\"scatterpolargl\":[{\"marker\":{\"colorbar\":{\"outlinewidth\":0,\"ticks\":\"\"}},\"type\":\"scatterpolargl\"}],\"scatterpolar\":[{\"marker\":{\"colorbar\":{\"outlinewidth\":0,\"ticks\":\"\"}},\"type\":\"scatterpolar\"}],\"scatter\":[{\"marker\":{\"line\":{\"color\":\"#283442\"}},\"type\":\"scatter\"}],\"scatterternary\":[{\"marker\":{\"colorbar\":{\"outlinewidth\":0,\"ticks\":\"\"}},\"type\":\"scatterternary\"}],\"surface\":[{\"colorbar\":{\"outlinewidth\":0,\"ticks\":\"\"},\"colorscale\":[[0.0,\"#0d0887\"],[0.1111111111111111,\"#46039f\"],[0.2222222222222222,\"#7201a8\"],[0.3333333333333333,\"#9c179e\"],[0.4444444444444444,\"#bd3786\"],[0.5555555555555556,\"#d8576b\"],[0.6666666666666666,\"#ed7953\"],[0.7777777777777778,\"#fb9f3a\"],[0.8888888888888888,\"#fdca26\"],[1.0,\"#f0f921\"]],\"type\":\"surface\"}],\"table\":[{\"cells\":{\"fill\":{\"color\":\"#506784\"},\"line\":{\"color\":\"rgb(17,17,17)\"}},\"header\":{\"fill\":{\"color\":\"#2a3f5f\"},\"line\":{\"color\":\"rgb(17,17,17)\"}},\"type\":\"table\"}]},\"layout\":{\"annotationdefaults\":{\"arrowcolor\":\"#f2f5fa\",\"arrowhead\":0,\"arrowwidth\":1},\"autotypenumbers\":\"strict\",\"coloraxis\":{\"colorbar\":{\"outlinewidth\":0,\"ticks\":\"\"}},\"colorscale\":{\"diverging\":[[0,\"#8e0152\"],[0.1,\"#c51b7d\"],[0.2,\"#de77ae\"],[0.3,\"#f1b6da\"],[0.4,\"#fde0ef\"],[0.5,\"#f7f7f7\"],[0.6,\"#e6f5d0\"],[0.7,\"#b8e186\"],[0.8,\"#7fbc41\"],[0.9,\"#4d9221\"],[1,\"#276419\"]],\"sequential\":[[0.0,\"#0d0887\"],[0.1111111111111111,\"#46039f\"],[0.2222222222222222,\"#7201a8\"],[0.3333333333333333,\"#9c179e\"],[0.4444444444444444,\"#bd3786\"],[0.5555555555555556,\"#d8576b\"],[0.6666666666666666,\"#ed7953\"],[0.7777777777777778,\"#fb9f3a\"],[0.8888888888888888,\"#fdca26\"],[1.0,\"#f0f921\"]],\"sequentialminus\":[[0.0,\"#0d0887\"],[0.1111111111111111,\"#46039f\"],[0.2222222222222222,\"#7201a8\"],[0.3333333333333333,\"#9c179e\"],[0.4444444444444444,\"#bd3786\"],[0.5555555555555556,\"#d8576b\"],[0.6666666666666666,\"#ed7953\"],[0.7777777777777778,\"#fb9f3a\"],[0.8888888888888888,\"#fdca26\"],[1.0,\"#f0f921\"]]},\"colorway\":[\"#636efa\",\"#EF553B\",\"#00cc96\",\"#ab63fa\",\"#FFA15A\",\"#19d3f3\",\"#FF6692\",\"#B6E880\",\"#FF97FF\",\"#FECB52\"],\"font\":{\"color\":\"#f2f5fa\"},\"geo\":{\"bgcolor\":\"rgb(17,17,17)\",\"lakecolor\":\"rgb(17,17,17)\",\"landcolor\":\"rgb(17,17,17)\",\"showlakes\":true,\"showland\":true,\"subunitcolor\":\"#506784\"},\"hoverlabel\":{\"align\":\"left\"},\"hovermode\":\"closest\",\"mapbox\":{\"style\":\"dark\"},\"paper_bgcolor\":\"rgb(17,17,17)\",\"plot_bgcolor\":\"rgb(17,17,17)\",\"polar\":{\"angularaxis\":{\"gridcolor\":\"#506784\",\"linecolor\":\"#506784\",\"ticks\":\"\"},\"bgcolor\":\"rgb(17,17,17)\",\"radialaxis\":{\"gridcolor\":\"#506784\",\"linecolor\":\"#506784\",\"ticks\":\"\"}},\"scene\":{\"xaxis\":{\"backgroundcolor\":\"rgb(17,17,17)\",\"gridcolor\":\"#506784\",\"gridwidth\":2,\"linecolor\":\"#506784\",\"showbackground\":true,\"ticks\":\"\",\"zerolinecolor\":\"#C8D4E3\"},\"yaxis\":{\"backgroundcolor\":\"rgb(17,17,17)\",\"gridcolor\":\"#506784\",\"gridwidth\":2,\"linecolor\":\"#506784\",\"showbackground\":true,\"ticks\":\"\",\"zerolinecolor\":\"#C8D4E3\"},\"zaxis\":{\"backgroundcolor\":\"rgb(17,17,17)\",\"gridcolor\":\"#506784\",\"gridwidth\":2,\"linecolor\":\"#506784\",\"showbackground\":true,\"ticks\":\"\",\"zerolinecolor\":\"#C8D4E3\"}},\"shapedefaults\":{\"line\":{\"color\":\"#f2f5fa\"}},\"sliderdefaults\":{\"bgcolor\":\"#C8D4E3\",\"bordercolor\":\"rgb(17,17,17)\",\"borderwidth\":1,\"tickwidth\":0},\"ternary\":{\"aaxis\":{\"gridcolor\":\"#506784\",\"linecolor\":\"#506784\",\"ticks\":\"\"},\"baxis\":{\"gridcolor\":\"#506784\",\"linecolor\":\"#506784\",\"ticks\":\"\"},\"bgcolor\":\"rgb(17,17,17)\",\"caxis\":{\"gridcolor\":\"#506784\",\"linecolor\":\"#506784\",\"ticks\":\"\"}},\"title\":{\"x\":0.05},\"updatemenudefaults\":{\"bgcolor\":\"#506784\",\"borderwidth\":0},\"xaxis\":{\"automargin\":true,\"gridcolor\":\"#283442\",\"linecolor\":\"#506784\",\"ticks\":\"\",\"title\":{\"standoff\":15},\"zerolinecolor\":\"#283442\",\"zerolinewidth\":2},\"yaxis\":{\"automargin\":true,\"gridcolor\":\"#283442\",\"linecolor\":\"#506784\",\"ticks\":\"\",\"title\":{\"standoff\":15},\"zerolinecolor\":\"#283442\",\"zerolinewidth\":2}}},\"xaxis\":{\"anchor\":\"y\",\"domain\":[0.0,1.0],\"title\":{\"text\":\"Date\"}},\"yaxis\":{\"anchor\":\"x\",\"domain\":[0.0,1.0],\"title\":{\"text\":\"value\"}},\"legend\":{\"title\":{\"text\":\"variable\"},\"tracegroupgap\":0},\"margin\":{\"t\":60},\"barmode\":\"group\",\"width\":1000,\"height\":800},                        {\"responsive\": true}                    ).then(function(){\n",
       "                            \n",
       "var gd = document.getElementById('92695931-b239-47d0-a93d-78dda170fd9f');\n",
       "var x = new MutationObserver(function (mutations, observer) {{\n",
       "        var display = window.getComputedStyle(gd).display;\n",
       "        if (!display || display === 'none') {{\n",
       "            console.log([gd, 'removed!']);\n",
       "            Plotly.purge(gd);\n",
       "            observer.disconnect();\n",
       "        }}\n",
       "}});\n",
       "\n",
       "// Listen for the removal of the full notebook cells\n",
       "var notebookContainer = gd.closest('#notebook-container');\n",
       "if (notebookContainer) {{\n",
       "    x.observe(notebookContainer, {childList: true});\n",
       "}}\n",
       "\n",
       "// Listen for the clearing of the current output cell\n",
       "var outputEl = gd.closest('.output');\n",
       "if (outputEl) {{\n",
       "    x.observe(outputEl, {childList: true});\n",
       "}}\n",
       "\n",
       "                        })                };                });            </script>        </div>"
      ]
     },
     "metadata": {},
     "output_type": "display_data"
    }
   ],
   "source": [
    "fig = px.bar(pf_data2,barmode='group')\n",
    "fig.update_layout(width=1000, height=800, template = \"plotly_dark\")\n",
    "fig.show()"
   ]
  },
  {
   "attachments": {},
   "cell_type": "markdown",
   "metadata": {},
   "source": [
    "### LINE CHART"
   ]
  },
  {
   "attachments": {},
   "cell_type": "markdown",
   "metadata": {},
   "source": [
    "Line charts, also known as line graphs or time series plots, are effective visual representations for displaying trends and patterns over time. They are particularly useful when analyzing data that is continuous or sequential in nature, such as stock prices, temperature fluctuations, or population growth.\n",
    "\n",
    "If we plot the stock prices, we can observe the progression of each stock throughout 2021. "
   ]
  },
  {
   "cell_type": "code",
   "execution_count": 138,
   "metadata": {},
   "outputs": [
    {
     "data": {
      "application/vnd.plotly.v1+json": {
       "config": {
        "plotlyServerURL": "https://plot.ly"
       },
       "data": [
        {
         "hovertemplate": "variable=META<br>Date=%{x}<br>value=%{y}<extra></extra>",
         "legendgroup": "META",
         "line": {
          "color": "#636efa",
          "dash": "solid"
         },
         "marker": {
          "symbol": "circle"
         },
         "mode": "lines",
         "name": "META",
         "orientation": "v",
         "showlegend": true,
         "type": "scatter",
         "x": [
          "2021-10-01T00:00:00",
          "2021-10-04T00:00:00",
          "2021-10-05T00:00:00",
          "2021-10-06T00:00:00",
          "2021-10-07T00:00:00",
          "2021-10-08T00:00:00",
          "2021-10-11T00:00:00",
          "2021-10-12T00:00:00",
          "2021-10-13T00:00:00",
          "2021-10-14T00:00:00",
          "2021-10-15T00:00:00",
          "2021-10-18T00:00:00",
          "2021-10-19T00:00:00",
          "2021-10-20T00:00:00",
          "2021-10-21T00:00:00",
          "2021-10-22T00:00:00",
          "2021-10-25T00:00:00",
          "2021-10-26T00:00:00",
          "2021-10-27T00:00:00",
          "2021-10-28T00:00:00",
          "2021-10-29T00:00:00",
          "2021-11-01T00:00:00",
          "2021-11-02T00:00:00",
          "2021-11-03T00:00:00",
          "2021-11-04T00:00:00",
          "2021-11-05T00:00:00",
          "2021-11-08T00:00:00",
          "2021-11-09T00:00:00",
          "2021-11-10T00:00:00",
          "2021-11-11T00:00:00",
          "2021-11-12T00:00:00",
          "2021-11-15T00:00:00",
          "2021-11-16T00:00:00",
          "2021-11-17T00:00:00",
          "2021-11-18T00:00:00",
          "2021-11-19T00:00:00",
          "2021-11-22T00:00:00",
          "2021-11-23T00:00:00",
          "2021-11-24T00:00:00",
          "2021-11-26T00:00:00",
          "2021-11-29T00:00:00",
          "2021-11-30T00:00:00",
          "2021-12-01T00:00:00",
          "2021-12-02T00:00:00",
          "2021-12-03T00:00:00",
          "2021-12-06T00:00:00",
          "2021-12-07T00:00:00",
          "2021-12-08T00:00:00",
          "2021-12-09T00:00:00",
          "2021-12-10T00:00:00",
          "2021-12-13T00:00:00",
          "2021-12-14T00:00:00",
          "2021-12-15T00:00:00",
          "2021-12-16T00:00:00",
          "2021-12-17T00:00:00",
          "2021-12-20T00:00:00",
          "2021-12-21T00:00:00",
          "2021-12-22T00:00:00",
          "2021-12-23T00:00:00",
          "2021-12-27T00:00:00",
          "2021-12-28T00:00:00",
          "2021-12-29T00:00:00",
          "2021-12-30T00:00:00"
         ],
         "xaxis": "x",
         "y": [
          343.010009765625,
          326.2300109863281,
          332.9599914550781,
          333.6400146484375,
          329.2200012207031,
          330.04998779296875,
          325.45001220703125,
          323.7699890136719,
          324.5400085449219,
          328.5299987792969,
          324.760009765625,
          335.3399963378906,
          339.989990234375,
          340.7799987792969,
          341.8800048828125,
          324.6099853515625,
          328.69000244140625,
          315.80999755859375,
          312.2200012207031,
          316.9200134277344,
          323.57000732421875,
          329.9800109863281,
          328.0799865722656,
          331.6199951171875,
          335.8500061035156,
          341.1300048828125,
          338.6199951171875,
          335.3699951171875,
          327.6400146484375,
          327.739990234375,
          340.8900146484375,
          347.55999755859375,
          342.9599914550781,
          340.7699890136719,
          338.69000244140625,
          345.29998779296875,
          341.010009765625,
          337.25,
          341.05999755859375,
          333.1199951171875,
          338.0299987792969,
          324.4599914550781,
          310.6000061035156,
          310.3900146484375,
          306.8399963378906,
          317.8699951171875,
          322.80999755859375,
          330.55999755859375,
          329.82000732421875,
          329.75,
          334.489990234375,
          333.739990234375,
          341.6600036621094,
          334.8999938964844,
          333.7900085449219,
          325.45001220703125,
          334.20001220703125,
          330.45001220703125,
          335.239990234375,
          346.17999267578125,
          346.2200012207031,
          342.94000244140625,
          344.3599853515625
         ],
         "yaxis": "y"
        },
        {
         "hovertemplate": "variable=AMZN<br>Date=%{x}<br>value=%{y}<extra></extra>",
         "legendgroup": "AMZN",
         "line": {
          "color": "#EF553B",
          "dash": "solid"
         },
         "marker": {
          "symbol": "circle"
         },
         "mode": "lines",
         "name": "AMZN",
         "orientation": "v",
         "showlegend": true,
         "type": "scatter",
         "x": [
          "2021-10-01T00:00:00",
          "2021-10-04T00:00:00",
          "2021-10-05T00:00:00",
          "2021-10-06T00:00:00",
          "2021-10-07T00:00:00",
          "2021-10-08T00:00:00",
          "2021-10-11T00:00:00",
          "2021-10-12T00:00:00",
          "2021-10-13T00:00:00",
          "2021-10-14T00:00:00",
          "2021-10-15T00:00:00",
          "2021-10-18T00:00:00",
          "2021-10-19T00:00:00",
          "2021-10-20T00:00:00",
          "2021-10-21T00:00:00",
          "2021-10-22T00:00:00",
          "2021-10-25T00:00:00",
          "2021-10-26T00:00:00",
          "2021-10-27T00:00:00",
          "2021-10-28T00:00:00",
          "2021-10-29T00:00:00",
          "2021-11-01T00:00:00",
          "2021-11-02T00:00:00",
          "2021-11-03T00:00:00",
          "2021-11-04T00:00:00",
          "2021-11-05T00:00:00",
          "2021-11-08T00:00:00",
          "2021-11-09T00:00:00",
          "2021-11-10T00:00:00",
          "2021-11-11T00:00:00",
          "2021-11-12T00:00:00",
          "2021-11-15T00:00:00",
          "2021-11-16T00:00:00",
          "2021-11-17T00:00:00",
          "2021-11-18T00:00:00",
          "2021-11-19T00:00:00",
          "2021-11-22T00:00:00",
          "2021-11-23T00:00:00",
          "2021-11-24T00:00:00",
          "2021-11-26T00:00:00",
          "2021-11-29T00:00:00",
          "2021-11-30T00:00:00",
          "2021-12-01T00:00:00",
          "2021-12-02T00:00:00",
          "2021-12-03T00:00:00",
          "2021-12-06T00:00:00",
          "2021-12-07T00:00:00",
          "2021-12-08T00:00:00",
          "2021-12-09T00:00:00",
          "2021-12-10T00:00:00",
          "2021-12-13T00:00:00",
          "2021-12-14T00:00:00",
          "2021-12-15T00:00:00",
          "2021-12-16T00:00:00",
          "2021-12-17T00:00:00",
          "2021-12-20T00:00:00",
          "2021-12-21T00:00:00",
          "2021-12-22T00:00:00",
          "2021-12-23T00:00:00",
          "2021-12-27T00:00:00",
          "2021-12-28T00:00:00",
          "2021-12-29T00:00:00",
          "2021-12-30T00:00:00"
         ],
         "xaxis": "x",
         "y": [
          164.16299438476562,
          159.48899841308594,
          161.0500030517578,
          163.10049438476562,
          165.1215057373047,
          164.43099975585938,
          162.31500244140625,
          162.3665008544922,
          164.21400451660156,
          164.9929962158203,
          170.4510040283203,
          172.33700561523438,
          172.20750427246094,
          170.7530059814453,
          171.75050354003906,
          166.77749633789062,
          166.01849365234375,
          168.80349731445312,
          169.62449645996094,
          172.32850646972656,
          168.6215057373047,
          165.90550231933594,
          165.6374969482422,
          169.1999969482422,
          173.85000610351562,
          175.94949340820312,
          174.44900512695312,
          178.81149291992188,
          174.1024932861328,
          173.625,
          176.25750732421875,
          177.28399658203125,
          177.03500366210938,
          177.4499969482422,
          184.80299377441406,
          183.82850646972656,
          178.6284942626953,
          179.0019989013672,
          179.02049255371094,
          175.22799682617188,
          178.07850646972656,
          175.35350036621094,
          172.18600463867188,
          171.8679962158203,
          169.489501953125,
          171.36849975585938,
          176.1645050048828,
          176.1580047607422,
          174.17100524902344,
          172.21200561523438,
          169.5675048828125,
          169.0915069580078,
          173.31500244140625,
          168.87100219726562,
          170.0175018310547,
          167.07899475097656,
          170.41700744628906,
          171.03700256347656,
          171.06849670410156,
          169.66949462890625,
          170.66099548339844,
          169.2010040283203,
          168.64450073242188
         ],
         "yaxis": "y"
        },
        {
         "hovertemplate": "variable=NFLX<br>Date=%{x}<br>value=%{y}<extra></extra>",
         "legendgroup": "NFLX",
         "line": {
          "color": "#00cc96",
          "dash": "solid"
         },
         "marker": {
          "symbol": "circle"
         },
         "mode": "lines",
         "name": "NFLX",
         "orientation": "v",
         "showlegend": true,
         "type": "scatter",
         "x": [
          "2021-10-01T00:00:00",
          "2021-10-04T00:00:00",
          "2021-10-05T00:00:00",
          "2021-10-06T00:00:00",
          "2021-10-07T00:00:00",
          "2021-10-08T00:00:00",
          "2021-10-11T00:00:00",
          "2021-10-12T00:00:00",
          "2021-10-13T00:00:00",
          "2021-10-14T00:00:00",
          "2021-10-15T00:00:00",
          "2021-10-18T00:00:00",
          "2021-10-19T00:00:00",
          "2021-10-20T00:00:00",
          "2021-10-21T00:00:00",
          "2021-10-22T00:00:00",
          "2021-10-25T00:00:00",
          "2021-10-26T00:00:00",
          "2021-10-27T00:00:00",
          "2021-10-28T00:00:00",
          "2021-10-29T00:00:00",
          "2021-11-01T00:00:00",
          "2021-11-02T00:00:00",
          "2021-11-03T00:00:00",
          "2021-11-04T00:00:00",
          "2021-11-05T00:00:00",
          "2021-11-08T00:00:00",
          "2021-11-09T00:00:00",
          "2021-11-10T00:00:00",
          "2021-11-11T00:00:00",
          "2021-11-12T00:00:00",
          "2021-11-15T00:00:00",
          "2021-11-16T00:00:00",
          "2021-11-17T00:00:00",
          "2021-11-18T00:00:00",
          "2021-11-19T00:00:00",
          "2021-11-22T00:00:00",
          "2021-11-23T00:00:00",
          "2021-11-24T00:00:00",
          "2021-11-26T00:00:00",
          "2021-11-29T00:00:00",
          "2021-11-30T00:00:00",
          "2021-12-01T00:00:00",
          "2021-12-02T00:00:00",
          "2021-12-03T00:00:00",
          "2021-12-06T00:00:00",
          "2021-12-07T00:00:00",
          "2021-12-08T00:00:00",
          "2021-12-09T00:00:00",
          "2021-12-10T00:00:00",
          "2021-12-13T00:00:00",
          "2021-12-14T00:00:00",
          "2021-12-15T00:00:00",
          "2021-12-16T00:00:00",
          "2021-12-17T00:00:00",
          "2021-12-20T00:00:00",
          "2021-12-21T00:00:00",
          "2021-12-22T00:00:00",
          "2021-12-23T00:00:00",
          "2021-12-27T00:00:00",
          "2021-12-28T00:00:00",
          "2021-12-29T00:00:00",
          "2021-12-30T00:00:00"
         ],
         "xaxis": "x",
         "y": [
          613.1500244140625,
          603.3499755859375,
          634.8099975585938,
          639.0999755859375,
          631.8499755859375,
          632.6599731445312,
          627.0399780273438,
          624.9400024414062,
          629.760009765625,
          633.7999877929688,
          628.2899780273438,
          637.969970703125,
          639,
          625.1400146484375,
          653.1599731445312,
          664.780029296875,
          671.6599731445312,
          668.52001953125,
          662.9199829101562,
          674.0499877929688,
          690.3099975585938,
          681.1699829101562,
          677.719970703125,
          688.2899780273438,
          668.4000244140625,
          645.719970703125,
          651.4500122070312,
          655.989990234375,
          646.9099731445312,
          657.5800170898438,
          682.6099853515625,
          679.3300170898438,
          687.4000244140625,
          691.6900024414062,
          682.02001953125,
          678.7999877929688,
          659.2000122070312,
          654.0599975585938,
          658.2899780273438,
          665.6400146484375,
          663.8400268554688,
          641.9000244140625,
          617.77001953125,
          616.469970703125,
          602.1300048828125,
          612.6900024414062,
          625.5800170898438,
          628.0800170898438,
          611,
          611.6599731445312,
          604.5599975585938,
          597.989990234375,
          605.0399780273438,
          591.0599975585938,
          586.72998046875,
          593.739990234375,
          604.9199829101562,
          614.239990234375,
          614.0900268554688,
          613.1199951171875,
          610.7100219726562,
          610.5399780273438,
          612.0900268554688
         ],
         "yaxis": "y"
        },
        {
         "hovertemplate": "variable=GOOG<br>Date=%{x}<br>value=%{y}<extra></extra>",
         "legendgroup": "GOOG",
         "line": {
          "color": "#ab63fa",
          "dash": "solid"
         },
         "marker": {
          "symbol": "circle"
         },
         "mode": "lines",
         "name": "GOOG",
         "orientation": "v",
         "showlegend": true,
         "type": "scatter",
         "x": [
          "2021-10-01T00:00:00",
          "2021-10-04T00:00:00",
          "2021-10-05T00:00:00",
          "2021-10-06T00:00:00",
          "2021-10-07T00:00:00",
          "2021-10-08T00:00:00",
          "2021-10-11T00:00:00",
          "2021-10-12T00:00:00",
          "2021-10-13T00:00:00",
          "2021-10-14T00:00:00",
          "2021-10-15T00:00:00",
          "2021-10-18T00:00:00",
          "2021-10-19T00:00:00",
          "2021-10-20T00:00:00",
          "2021-10-21T00:00:00",
          "2021-10-22T00:00:00",
          "2021-10-25T00:00:00",
          "2021-10-26T00:00:00",
          "2021-10-27T00:00:00",
          "2021-10-28T00:00:00",
          "2021-10-29T00:00:00",
          "2021-11-01T00:00:00",
          "2021-11-02T00:00:00",
          "2021-11-03T00:00:00",
          "2021-11-04T00:00:00",
          "2021-11-05T00:00:00",
          "2021-11-08T00:00:00",
          "2021-11-09T00:00:00",
          "2021-11-10T00:00:00",
          "2021-11-11T00:00:00",
          "2021-11-12T00:00:00",
          "2021-11-15T00:00:00",
          "2021-11-16T00:00:00",
          "2021-11-17T00:00:00",
          "2021-11-18T00:00:00",
          "2021-11-19T00:00:00",
          "2021-11-22T00:00:00",
          "2021-11-23T00:00:00",
          "2021-11-24T00:00:00",
          "2021-11-26T00:00:00",
          "2021-11-29T00:00:00",
          "2021-11-30T00:00:00",
          "2021-12-01T00:00:00",
          "2021-12-02T00:00:00",
          "2021-12-03T00:00:00",
          "2021-12-06T00:00:00",
          "2021-12-07T00:00:00",
          "2021-12-08T00:00:00",
          "2021-12-09T00:00:00",
          "2021-12-10T00:00:00",
          "2021-12-13T00:00:00",
          "2021-12-14T00:00:00",
          "2021-12-15T00:00:00",
          "2021-12-16T00:00:00",
          "2021-12-17T00:00:00",
          "2021-12-20T00:00:00",
          "2021-12-21T00:00:00",
          "2021-12-22T00:00:00",
          "2021-12-23T00:00:00",
          "2021-12-27T00:00:00",
          "2021-12-28T00:00:00",
          "2021-12-29T00:00:00",
          "2021-12-30T00:00:00"
         ],
         "xaxis": "x",
         "y": [
          136.46249389648438,
          133.76499938964844,
          136.177001953125,
          137.35400390625,
          139.1855010986328,
          140.05599975585938,
          138.84750366210938,
          136.71299743652344,
          137.89999389648438,
          141.41200256347656,
          141.6750030517578,
          142.9604949951172,
          143.82200622558594,
          142.4149932861328,
          142.78050231933594,
          138.625,
          138.7729949951172,
          139.6719970703125,
          146.42750549316406,
          146.12899780273438,
          148.27049255371094,
          143.7740020751953,
          145.86300659179688,
          146.7899932861328,
          148.68299865722656,
          149.24099731445312,
          149.35150146484375,
          149.24850463867188,
          146.62600708007812,
          146.7480010986328,
          149.64549255371094,
          149.38800048828125,
          149.0760040283203,
          149.06199645996094,
          150.70899963378906,
          149.95249938964844,
          147.07850646972656,
          146.7570037841797,
          146.71749877929688,
          142.80599975585938,
          146.11399841308594,
          142.45199584960938,
          141.6179962158203,
          143.77650451660156,
          142.52049255371094,
          143.79649353027344,
          148.0364990234375,
          148.7205047607422,
          148.1060028076172,
          148.6750030517578,
          146.70449829101562,
          144.9705047607422,
          147.36849975585938,
          144.8385009765625,
          142.80299377441406,
          142.40150451660156,
          144.2205047607422,
          146.94900512695312,
          147.1425018310547,
          148.06399536132812,
          146.447998046875,
          146.50450134277344,
          146.00250244140625
         ],
         "yaxis": "y"
        },
        {
         "hovertemplate": "variable=MSFT<br>Date=%{x}<br>value=%{y}<extra></extra>",
         "legendgroup": "MSFT",
         "line": {
          "color": "#FFA15A",
          "dash": "solid"
         },
         "marker": {
          "symbol": "circle"
         },
         "mode": "lines",
         "name": "MSFT",
         "orientation": "v",
         "showlegend": true,
         "type": "scatter",
         "x": [
          "2021-10-01T00:00:00",
          "2021-10-04T00:00:00",
          "2021-10-05T00:00:00",
          "2021-10-06T00:00:00",
          "2021-10-07T00:00:00",
          "2021-10-08T00:00:00",
          "2021-10-11T00:00:00",
          "2021-10-12T00:00:00",
          "2021-10-13T00:00:00",
          "2021-10-14T00:00:00",
          "2021-10-15T00:00:00",
          "2021-10-18T00:00:00",
          "2021-10-19T00:00:00",
          "2021-10-20T00:00:00",
          "2021-10-21T00:00:00",
          "2021-10-22T00:00:00",
          "2021-10-25T00:00:00",
          "2021-10-26T00:00:00",
          "2021-10-27T00:00:00",
          "2021-10-28T00:00:00",
          "2021-10-29T00:00:00",
          "2021-11-01T00:00:00",
          "2021-11-02T00:00:00",
          "2021-11-03T00:00:00",
          "2021-11-04T00:00:00",
          "2021-11-05T00:00:00",
          "2021-11-08T00:00:00",
          "2021-11-09T00:00:00",
          "2021-11-10T00:00:00",
          "2021-11-11T00:00:00",
          "2021-11-12T00:00:00",
          "2021-11-15T00:00:00",
          "2021-11-16T00:00:00",
          "2021-11-17T00:00:00",
          "2021-11-18T00:00:00",
          "2021-11-19T00:00:00",
          "2021-11-22T00:00:00",
          "2021-11-23T00:00:00",
          "2021-11-24T00:00:00",
          "2021-11-26T00:00:00",
          "2021-11-29T00:00:00",
          "2021-11-30T00:00:00",
          "2021-12-01T00:00:00",
          "2021-12-02T00:00:00",
          "2021-12-03T00:00:00",
          "2021-12-06T00:00:00",
          "2021-12-07T00:00:00",
          "2021-12-08T00:00:00",
          "2021-12-09T00:00:00",
          "2021-12-10T00:00:00",
          "2021-12-13T00:00:00",
          "2021-12-14T00:00:00",
          "2021-12-15T00:00:00",
          "2021-12-16T00:00:00",
          "2021-12-17T00:00:00",
          "2021-12-20T00:00:00",
          "2021-12-21T00:00:00",
          "2021-12-22T00:00:00",
          "2021-12-23T00:00:00",
          "2021-12-27T00:00:00",
          "2021-12-28T00:00:00",
          "2021-12-29T00:00:00",
          "2021-12-30T00:00:00"
         ],
         "xaxis": "x",
         "y": [
          284.5568542480469,
          278.66094970703125,
          284.22216796875,
          288.5037841796875,
          290.2165222167969,
          290.2165222167969,
          289.6062927246094,
          288.2774658203125,
          291.6535339355469,
          297.99237060546875,
          299.42938232421875,
          302.4610290527344,
          303.38623046875,
          302.5790710449219,
          305.8764343261719,
          304.3016052246094,
          303.2878112792969,
          305.23663330078125,
          318.0914611816406,
          319.2528991699219,
          326.40863037109375,
          324.19403076171875,
          327.89495849609375,
          328.7512512207031,
          331.15289306640625,
          330.77886962890625,
          331.69427490234375,
          330.67059326171875,
          325.6015319824219,
          327.2059020996094,
          331.4284973144531,
          330.7887268066406,
          334.1746520996094,
          334.4014587402344,
          336.52154541015625,
          338.3359069824219,
          335.1015930175781,
          332.98150634765625,
          333.20831298828125,
          325.0927734375,
          331.9461364746094,
          325.9901428222656,
          325.4872131347656,
          324.90545654296875,
          318.5156555175781,
          321.6513366699219,
          330.2598571777344,
          330.3092041015625,
          328.4652099609375,
          337.7738952636719,
          334.6775817871094,
          323.7714538574219,
          329.9936218261719,
          320.3793029785156,
          319.29461669921875,
          315.458740234375,
          322.736083984375,
          328.5638122558594,
          330.03314208984375,
          337.6851501464844,
          336.5018310546875,
          337.1921081542969,
          334.59869384765625
         ],
         "yaxis": "y"
        },
        {
         "hovertemplate": "variable=NVDA<br>Date=%{x}<br>value=%{y}<extra></extra>",
         "legendgroup": "NVDA",
         "line": {
          "color": "#19d3f3",
          "dash": "solid"
         },
         "marker": {
          "symbol": "circle"
         },
         "mode": "lines",
         "name": "NVDA",
         "orientation": "v",
         "showlegend": true,
         "type": "scatter",
         "x": [
          "2021-10-01T00:00:00",
          "2021-10-04T00:00:00",
          "2021-10-05T00:00:00",
          "2021-10-06T00:00:00",
          "2021-10-07T00:00:00",
          "2021-10-08T00:00:00",
          "2021-10-11T00:00:00",
          "2021-10-12T00:00:00",
          "2021-10-13T00:00:00",
          "2021-10-14T00:00:00",
          "2021-10-15T00:00:00",
          "2021-10-18T00:00:00",
          "2021-10-19T00:00:00",
          "2021-10-20T00:00:00",
          "2021-10-21T00:00:00",
          "2021-10-22T00:00:00",
          "2021-10-25T00:00:00",
          "2021-10-26T00:00:00",
          "2021-10-27T00:00:00",
          "2021-10-28T00:00:00",
          "2021-10-29T00:00:00",
          "2021-11-01T00:00:00",
          "2021-11-02T00:00:00",
          "2021-11-03T00:00:00",
          "2021-11-04T00:00:00",
          "2021-11-05T00:00:00",
          "2021-11-08T00:00:00",
          "2021-11-09T00:00:00",
          "2021-11-10T00:00:00",
          "2021-11-11T00:00:00",
          "2021-11-12T00:00:00",
          "2021-11-15T00:00:00",
          "2021-11-16T00:00:00",
          "2021-11-17T00:00:00",
          "2021-11-18T00:00:00",
          "2021-11-19T00:00:00",
          "2021-11-22T00:00:00",
          "2021-11-23T00:00:00",
          "2021-11-24T00:00:00",
          "2021-11-26T00:00:00",
          "2021-11-29T00:00:00",
          "2021-11-30T00:00:00",
          "2021-12-01T00:00:00",
          "2021-12-02T00:00:00",
          "2021-12-03T00:00:00",
          "2021-12-06T00:00:00",
          "2021-12-07T00:00:00",
          "2021-12-08T00:00:00",
          "2021-12-09T00:00:00",
          "2021-12-10T00:00:00",
          "2021-12-13T00:00:00",
          "2021-12-14T00:00:00",
          "2021-12-15T00:00:00",
          "2021-12-16T00:00:00",
          "2021-12-17T00:00:00",
          "2021-12-20T00:00:00",
          "2021-12-21T00:00:00",
          "2021-12-22T00:00:00",
          "2021-12-23T00:00:00",
          "2021-12-27T00:00:00",
          "2021-12-28T00:00:00",
          "2021-12-29T00:00:00",
          "2021-12-30T00:00:00"
         ],
         "xaxis": "x",
         "y": [
          207.16567993164062,
          197.07806396484375,
          204.2592315673828,
          206.74618530273438,
          210.49159240722656,
          208.0545654296875,
          206.69622802734375,
          206.45655822753906,
          209.1332550048828,
          217.193359375,
          218.3519287109375,
          221.94752502441406,
          222.62669372558594,
          220.7589874267578,
          226.64173889160156,
          226.98135375976562,
          231.37594604492188,
          246.86692810058594,
          244.21018981933594,
          249.1041717529297,
          255.35650634765625,
          257.95330810546875,
          263.686279296875,
          265.65386962890625,
          297.6446228027344,
          297.15521240234375,
          307.6623229980469,
          306.194091796875,
          294.2287292480469,
          303.5273742675781,
          303.5273742675781,
          299.8818359375,
          301.6596984863281,
          292.2511901855469,
          316.36163330078125,
          329.4455261230469,
          319.1681213378906,
          317.07073974609375,
          326.3393859863281,
          314.64373779296875,
          333.35076904296875,
          326.359375,
          314.00299072265625,
          320.9053955078125,
          306.5911865234375,
          300.0384216308594,
          323.9120178222656,
          317.90869140625,
          304.5634460449219,
          301.6466369628906,
          281.29913330078125,
          283.0572204589844,
          304.2537536621094,
          283.556640625,
          277.703125,
          276.884033203125,
          290.4290771484375,
          293.6754455566406,
          296.07281494140625,
          309.1084289550781,
          302.88525390625,
          299.6788635253906,
          295.53338623046875
         ],
         "yaxis": "y"
        },
        {
         "hovertemplate": "variable=TSLA<br>Date=%{x}<br>value=%{y}<extra></extra>",
         "legendgroup": "TSLA",
         "line": {
          "color": "#FF6692",
          "dash": "solid"
         },
         "marker": {
          "symbol": "circle"
         },
         "mode": "lines",
         "name": "TSLA",
         "orientation": "v",
         "showlegend": true,
         "type": "scatter",
         "x": [
          "2021-10-01T00:00:00",
          "2021-10-04T00:00:00",
          "2021-10-05T00:00:00",
          "2021-10-06T00:00:00",
          "2021-10-07T00:00:00",
          "2021-10-08T00:00:00",
          "2021-10-11T00:00:00",
          "2021-10-12T00:00:00",
          "2021-10-13T00:00:00",
          "2021-10-14T00:00:00",
          "2021-10-15T00:00:00",
          "2021-10-18T00:00:00",
          "2021-10-19T00:00:00",
          "2021-10-20T00:00:00",
          "2021-10-21T00:00:00",
          "2021-10-22T00:00:00",
          "2021-10-25T00:00:00",
          "2021-10-26T00:00:00",
          "2021-10-27T00:00:00",
          "2021-10-28T00:00:00",
          "2021-10-29T00:00:00",
          "2021-11-01T00:00:00",
          "2021-11-02T00:00:00",
          "2021-11-03T00:00:00",
          "2021-11-04T00:00:00",
          "2021-11-05T00:00:00",
          "2021-11-08T00:00:00",
          "2021-11-09T00:00:00",
          "2021-11-10T00:00:00",
          "2021-11-11T00:00:00",
          "2021-11-12T00:00:00",
          "2021-11-15T00:00:00",
          "2021-11-16T00:00:00",
          "2021-11-17T00:00:00",
          "2021-11-18T00:00:00",
          "2021-11-19T00:00:00",
          "2021-11-22T00:00:00",
          "2021-11-23T00:00:00",
          "2021-11-24T00:00:00",
          "2021-11-26T00:00:00",
          "2021-11-29T00:00:00",
          "2021-11-30T00:00:00",
          "2021-12-01T00:00:00",
          "2021-12-02T00:00:00",
          "2021-12-03T00:00:00",
          "2021-12-06T00:00:00",
          "2021-12-07T00:00:00",
          "2021-12-08T00:00:00",
          "2021-12-09T00:00:00",
          "2021-12-10T00:00:00",
          "2021-12-13T00:00:00",
          "2021-12-14T00:00:00",
          "2021-12-15T00:00:00",
          "2021-12-16T00:00:00",
          "2021-12-17T00:00:00",
          "2021-12-20T00:00:00",
          "2021-12-21T00:00:00",
          "2021-12-22T00:00:00",
          "2021-12-23T00:00:00",
          "2021-12-27T00:00:00",
          "2021-12-28T00:00:00",
          "2021-12-29T00:00:00",
          "2021-12-30T00:00:00"
         ],
         "xaxis": "x",
         "y": [
          258.40667724609375,
          260.510009765625,
          260.1966552734375,
          260.9166564941406,
          264.53668212890625,
          261.8299865722656,
          263.9800109863281,
          268.5733337402344,
          270.3599853515625,
          272.7733459472656,
          281.010009765625,
          290.03668212890625,
          288.0899963378906,
          288.6000061035156,
          298,
          303.2266540527344,
          341.6199951171875,
          339.4766540527344,
          345.9533386230469,
          359.0133361816406,
          371.3333435058594,
          402.86334228515625,
          390.6666564941406,
          404.6199951171875,
          409.9700012207031,
          407.36334228515625,
          387.64666748046875,
          341.1666564941406,
          355.98333740234375,
          354.5033264160156,
          344.47332763671875,
          337.7966613769531,
          351.57666015625,
          363.0033264160156,
          365.4599914550781,
          379.0199890136719,
          385.6233215332031,
          369.6766662597656,
          372,
          360.6400146484375,
          378.9966735839844,
          381.586669921875,
          365,
          361.5333251953125,
          338.3233337402344,
          336.336669921875,
          350.5833435058594,
          356.32000732421875,
          334.6000061035156,
          339.010009765625,
          322.13665771484375,
          319.5033264160156,
          325.3299865722656,
          308.97332763671875,
          310.8566589355469,
          299.9800109863281,
          312.84332275390625,
          336.2900085449219,
          355.6666564941406,
          364.64666748046875,
          362.8233337402344,
          362.0633239746094,
          356.7799987792969
         ],
         "yaxis": "y"
        }
       ],
       "layout": {
        "height": 800,
        "legend": {
         "title": {
          "text": "variable"
         },
         "tracegroupgap": 0
        },
        "margin": {
         "t": 60
        },
        "template": {
         "data": {
          "bar": [
           {
            "error_x": {
             "color": "#f2f5fa"
            },
            "error_y": {
             "color": "#f2f5fa"
            },
            "marker": {
             "line": {
              "color": "rgb(17,17,17)",
              "width": 0.5
             },
             "pattern": {
              "fillmode": "overlay",
              "size": 10,
              "solidity": 0.2
             }
            },
            "type": "bar"
           }
          ],
          "barpolar": [
           {
            "marker": {
             "line": {
              "color": "rgb(17,17,17)",
              "width": 0.5
             },
             "pattern": {
              "fillmode": "overlay",
              "size": 10,
              "solidity": 0.2
             }
            },
            "type": "barpolar"
           }
          ],
          "carpet": [
           {
            "aaxis": {
             "endlinecolor": "#A2B1C6",
             "gridcolor": "#506784",
             "linecolor": "#506784",
             "minorgridcolor": "#506784",
             "startlinecolor": "#A2B1C6"
            },
            "baxis": {
             "endlinecolor": "#A2B1C6",
             "gridcolor": "#506784",
             "linecolor": "#506784",
             "minorgridcolor": "#506784",
             "startlinecolor": "#A2B1C6"
            },
            "type": "carpet"
           }
          ],
          "choropleth": [
           {
            "colorbar": {
             "outlinewidth": 0,
             "ticks": ""
            },
            "type": "choropleth"
           }
          ],
          "contour": [
           {
            "colorbar": {
             "outlinewidth": 0,
             "ticks": ""
            },
            "colorscale": [
             [
              0,
              "#0d0887"
             ],
             [
              0.1111111111111111,
              "#46039f"
             ],
             [
              0.2222222222222222,
              "#7201a8"
             ],
             [
              0.3333333333333333,
              "#9c179e"
             ],
             [
              0.4444444444444444,
              "#bd3786"
             ],
             [
              0.5555555555555556,
              "#d8576b"
             ],
             [
              0.6666666666666666,
              "#ed7953"
             ],
             [
              0.7777777777777778,
              "#fb9f3a"
             ],
             [
              0.8888888888888888,
              "#fdca26"
             ],
             [
              1,
              "#f0f921"
             ]
            ],
            "type": "contour"
           }
          ],
          "contourcarpet": [
           {
            "colorbar": {
             "outlinewidth": 0,
             "ticks": ""
            },
            "type": "contourcarpet"
           }
          ],
          "heatmap": [
           {
            "colorbar": {
             "outlinewidth": 0,
             "ticks": ""
            },
            "colorscale": [
             [
              0,
              "#0d0887"
             ],
             [
              0.1111111111111111,
              "#46039f"
             ],
             [
              0.2222222222222222,
              "#7201a8"
             ],
             [
              0.3333333333333333,
              "#9c179e"
             ],
             [
              0.4444444444444444,
              "#bd3786"
             ],
             [
              0.5555555555555556,
              "#d8576b"
             ],
             [
              0.6666666666666666,
              "#ed7953"
             ],
             [
              0.7777777777777778,
              "#fb9f3a"
             ],
             [
              0.8888888888888888,
              "#fdca26"
             ],
             [
              1,
              "#f0f921"
             ]
            ],
            "type": "heatmap"
           }
          ],
          "heatmapgl": [
           {
            "colorbar": {
             "outlinewidth": 0,
             "ticks": ""
            },
            "colorscale": [
             [
              0,
              "#0d0887"
             ],
             [
              0.1111111111111111,
              "#46039f"
             ],
             [
              0.2222222222222222,
              "#7201a8"
             ],
             [
              0.3333333333333333,
              "#9c179e"
             ],
             [
              0.4444444444444444,
              "#bd3786"
             ],
             [
              0.5555555555555556,
              "#d8576b"
             ],
             [
              0.6666666666666666,
              "#ed7953"
             ],
             [
              0.7777777777777778,
              "#fb9f3a"
             ],
             [
              0.8888888888888888,
              "#fdca26"
             ],
             [
              1,
              "#f0f921"
             ]
            ],
            "type": "heatmapgl"
           }
          ],
          "histogram": [
           {
            "marker": {
             "pattern": {
              "fillmode": "overlay",
              "size": 10,
              "solidity": 0.2
             }
            },
            "type": "histogram"
           }
          ],
          "histogram2d": [
           {
            "colorbar": {
             "outlinewidth": 0,
             "ticks": ""
            },
            "colorscale": [
             [
              0,
              "#0d0887"
             ],
             [
              0.1111111111111111,
              "#46039f"
             ],
             [
              0.2222222222222222,
              "#7201a8"
             ],
             [
              0.3333333333333333,
              "#9c179e"
             ],
             [
              0.4444444444444444,
              "#bd3786"
             ],
             [
              0.5555555555555556,
              "#d8576b"
             ],
             [
              0.6666666666666666,
              "#ed7953"
             ],
             [
              0.7777777777777778,
              "#fb9f3a"
             ],
             [
              0.8888888888888888,
              "#fdca26"
             ],
             [
              1,
              "#f0f921"
             ]
            ],
            "type": "histogram2d"
           }
          ],
          "histogram2dcontour": [
           {
            "colorbar": {
             "outlinewidth": 0,
             "ticks": ""
            },
            "colorscale": [
             [
              0,
              "#0d0887"
             ],
             [
              0.1111111111111111,
              "#46039f"
             ],
             [
              0.2222222222222222,
              "#7201a8"
             ],
             [
              0.3333333333333333,
              "#9c179e"
             ],
             [
              0.4444444444444444,
              "#bd3786"
             ],
             [
              0.5555555555555556,
              "#d8576b"
             ],
             [
              0.6666666666666666,
              "#ed7953"
             ],
             [
              0.7777777777777778,
              "#fb9f3a"
             ],
             [
              0.8888888888888888,
              "#fdca26"
             ],
             [
              1,
              "#f0f921"
             ]
            ],
            "type": "histogram2dcontour"
           }
          ],
          "mesh3d": [
           {
            "colorbar": {
             "outlinewidth": 0,
             "ticks": ""
            },
            "type": "mesh3d"
           }
          ],
          "parcoords": [
           {
            "line": {
             "colorbar": {
              "outlinewidth": 0,
              "ticks": ""
             }
            },
            "type": "parcoords"
           }
          ],
          "pie": [
           {
            "automargin": true,
            "type": "pie"
           }
          ],
          "scatter": [
           {
            "marker": {
             "line": {
              "color": "#283442"
             }
            },
            "type": "scatter"
           }
          ],
          "scatter3d": [
           {
            "line": {
             "colorbar": {
              "outlinewidth": 0,
              "ticks": ""
             }
            },
            "marker": {
             "colorbar": {
              "outlinewidth": 0,
              "ticks": ""
             }
            },
            "type": "scatter3d"
           }
          ],
          "scattercarpet": [
           {
            "marker": {
             "colorbar": {
              "outlinewidth": 0,
              "ticks": ""
             }
            },
            "type": "scattercarpet"
           }
          ],
          "scattergeo": [
           {
            "marker": {
             "colorbar": {
              "outlinewidth": 0,
              "ticks": ""
             }
            },
            "type": "scattergeo"
           }
          ],
          "scattergl": [
           {
            "marker": {
             "line": {
              "color": "#283442"
             }
            },
            "type": "scattergl"
           }
          ],
          "scattermapbox": [
           {
            "marker": {
             "colorbar": {
              "outlinewidth": 0,
              "ticks": ""
             }
            },
            "type": "scattermapbox"
           }
          ],
          "scatterpolar": [
           {
            "marker": {
             "colorbar": {
              "outlinewidth": 0,
              "ticks": ""
             }
            },
            "type": "scatterpolar"
           }
          ],
          "scatterpolargl": [
           {
            "marker": {
             "colorbar": {
              "outlinewidth": 0,
              "ticks": ""
             }
            },
            "type": "scatterpolargl"
           }
          ],
          "scatterternary": [
           {
            "marker": {
             "colorbar": {
              "outlinewidth": 0,
              "ticks": ""
             }
            },
            "type": "scatterternary"
           }
          ],
          "surface": [
           {
            "colorbar": {
             "outlinewidth": 0,
             "ticks": ""
            },
            "colorscale": [
             [
              0,
              "#0d0887"
             ],
             [
              0.1111111111111111,
              "#46039f"
             ],
             [
              0.2222222222222222,
              "#7201a8"
             ],
             [
              0.3333333333333333,
              "#9c179e"
             ],
             [
              0.4444444444444444,
              "#bd3786"
             ],
             [
              0.5555555555555556,
              "#d8576b"
             ],
             [
              0.6666666666666666,
              "#ed7953"
             ],
             [
              0.7777777777777778,
              "#fb9f3a"
             ],
             [
              0.8888888888888888,
              "#fdca26"
             ],
             [
              1,
              "#f0f921"
             ]
            ],
            "type": "surface"
           }
          ],
          "table": [
           {
            "cells": {
             "fill": {
              "color": "#506784"
             },
             "line": {
              "color": "rgb(17,17,17)"
             }
            },
            "header": {
             "fill": {
              "color": "#2a3f5f"
             },
             "line": {
              "color": "rgb(17,17,17)"
             }
            },
            "type": "table"
           }
          ]
         },
         "layout": {
          "annotationdefaults": {
           "arrowcolor": "#f2f5fa",
           "arrowhead": 0,
           "arrowwidth": 1
          },
          "autotypenumbers": "strict",
          "coloraxis": {
           "colorbar": {
            "outlinewidth": 0,
            "ticks": ""
           }
          },
          "colorscale": {
           "diverging": [
            [
             0,
             "#8e0152"
            ],
            [
             0.1,
             "#c51b7d"
            ],
            [
             0.2,
             "#de77ae"
            ],
            [
             0.3,
             "#f1b6da"
            ],
            [
             0.4,
             "#fde0ef"
            ],
            [
             0.5,
             "#f7f7f7"
            ],
            [
             0.6,
             "#e6f5d0"
            ],
            [
             0.7,
             "#b8e186"
            ],
            [
             0.8,
             "#7fbc41"
            ],
            [
             0.9,
             "#4d9221"
            ],
            [
             1,
             "#276419"
            ]
           ],
           "sequential": [
            [
             0,
             "#0d0887"
            ],
            [
             0.1111111111111111,
             "#46039f"
            ],
            [
             0.2222222222222222,
             "#7201a8"
            ],
            [
             0.3333333333333333,
             "#9c179e"
            ],
            [
             0.4444444444444444,
             "#bd3786"
            ],
            [
             0.5555555555555556,
             "#d8576b"
            ],
            [
             0.6666666666666666,
             "#ed7953"
            ],
            [
             0.7777777777777778,
             "#fb9f3a"
            ],
            [
             0.8888888888888888,
             "#fdca26"
            ],
            [
             1,
             "#f0f921"
            ]
           ],
           "sequentialminus": [
            [
             0,
             "#0d0887"
            ],
            [
             0.1111111111111111,
             "#46039f"
            ],
            [
             0.2222222222222222,
             "#7201a8"
            ],
            [
             0.3333333333333333,
             "#9c179e"
            ],
            [
             0.4444444444444444,
             "#bd3786"
            ],
            [
             0.5555555555555556,
             "#d8576b"
            ],
            [
             0.6666666666666666,
             "#ed7953"
            ],
            [
             0.7777777777777778,
             "#fb9f3a"
            ],
            [
             0.8888888888888888,
             "#fdca26"
            ],
            [
             1,
             "#f0f921"
            ]
           ]
          },
          "colorway": [
           "#636efa",
           "#EF553B",
           "#00cc96",
           "#ab63fa",
           "#FFA15A",
           "#19d3f3",
           "#FF6692",
           "#B6E880",
           "#FF97FF",
           "#FECB52"
          ],
          "font": {
           "color": "#f2f5fa"
          },
          "geo": {
           "bgcolor": "rgb(17,17,17)",
           "lakecolor": "rgb(17,17,17)",
           "landcolor": "rgb(17,17,17)",
           "showlakes": true,
           "showland": true,
           "subunitcolor": "#506784"
          },
          "hoverlabel": {
           "align": "left"
          },
          "hovermode": "closest",
          "mapbox": {
           "style": "dark"
          },
          "paper_bgcolor": "rgb(17,17,17)",
          "plot_bgcolor": "rgb(17,17,17)",
          "polar": {
           "angularaxis": {
            "gridcolor": "#506784",
            "linecolor": "#506784",
            "ticks": ""
           },
           "bgcolor": "rgb(17,17,17)",
           "radialaxis": {
            "gridcolor": "#506784",
            "linecolor": "#506784",
            "ticks": ""
           }
          },
          "scene": {
           "xaxis": {
            "backgroundcolor": "rgb(17,17,17)",
            "gridcolor": "#506784",
            "gridwidth": 2,
            "linecolor": "#506784",
            "showbackground": true,
            "ticks": "",
            "zerolinecolor": "#C8D4E3"
           },
           "yaxis": {
            "backgroundcolor": "rgb(17,17,17)",
            "gridcolor": "#506784",
            "gridwidth": 2,
            "linecolor": "#506784",
            "showbackground": true,
            "ticks": "",
            "zerolinecolor": "#C8D4E3"
           },
           "zaxis": {
            "backgroundcolor": "rgb(17,17,17)",
            "gridcolor": "#506784",
            "gridwidth": 2,
            "linecolor": "#506784",
            "showbackground": true,
            "ticks": "",
            "zerolinecolor": "#C8D4E3"
           }
          },
          "shapedefaults": {
           "line": {
            "color": "#f2f5fa"
           }
          },
          "sliderdefaults": {
           "bgcolor": "#C8D4E3",
           "bordercolor": "rgb(17,17,17)",
           "borderwidth": 1,
           "tickwidth": 0
          },
          "ternary": {
           "aaxis": {
            "gridcolor": "#506784",
            "linecolor": "#506784",
            "ticks": ""
           },
           "baxis": {
            "gridcolor": "#506784",
            "linecolor": "#506784",
            "ticks": ""
           },
           "bgcolor": "rgb(17,17,17)",
           "caxis": {
            "gridcolor": "#506784",
            "linecolor": "#506784",
            "ticks": ""
           }
          },
          "title": {
           "x": 0.05
          },
          "updatemenudefaults": {
           "bgcolor": "#506784",
           "borderwidth": 0
          },
          "xaxis": {
           "automargin": true,
           "gridcolor": "#283442",
           "linecolor": "#506784",
           "ticks": "",
           "title": {
            "standoff": 15
           },
           "zerolinecolor": "#283442",
           "zerolinewidth": 2
          },
          "yaxis": {
           "automargin": true,
           "gridcolor": "#283442",
           "linecolor": "#506784",
           "ticks": "",
           "title": {
            "standoff": 15
           },
           "zerolinecolor": "#283442",
           "zerolinewidth": 2
          }
         }
        },
        "width": 1200,
        "xaxis": {
         "anchor": "y",
         "domain": [
          0,
          1
         ],
         "title": {
          "text": "Date"
         }
        },
        "yaxis": {
         "anchor": "x",
         "domain": [
          0,
          1
         ],
         "title": {
          "text": "value"
         }
        }
       }
      },
      "text/html": [
       "<div>                            <div id=\"cf308da2-a326-444a-9098-46df100d8943\" class=\"plotly-graph-div\" style=\"height:800px; width:1200px;\"></div>            <script type=\"text/javascript\">                require([\"plotly\"], function(Plotly) {                    window.PLOTLYENV=window.PLOTLYENV || {};                                    if (document.getElementById(\"cf308da2-a326-444a-9098-46df100d8943\")) {                    Plotly.newPlot(                        \"cf308da2-a326-444a-9098-46df100d8943\",                        [{\"hovertemplate\":\"variable=META<br>Date=%{x}<br>value=%{y}<extra></extra>\",\"legendgroup\":\"META\",\"line\":{\"color\":\"#636efa\",\"dash\":\"solid\"},\"marker\":{\"symbol\":\"circle\"},\"mode\":\"lines\",\"name\":\"META\",\"orientation\":\"v\",\"showlegend\":true,\"x\":[\"2021-10-01T00:00:00\",\"2021-10-04T00:00:00\",\"2021-10-05T00:00:00\",\"2021-10-06T00:00:00\",\"2021-10-07T00:00:00\",\"2021-10-08T00:00:00\",\"2021-10-11T00:00:00\",\"2021-10-12T00:00:00\",\"2021-10-13T00:00:00\",\"2021-10-14T00:00:00\",\"2021-10-15T00:00:00\",\"2021-10-18T00:00:00\",\"2021-10-19T00:00:00\",\"2021-10-20T00:00:00\",\"2021-10-21T00:00:00\",\"2021-10-22T00:00:00\",\"2021-10-25T00:00:00\",\"2021-10-26T00:00:00\",\"2021-10-27T00:00:00\",\"2021-10-28T00:00:00\",\"2021-10-29T00:00:00\",\"2021-11-01T00:00:00\",\"2021-11-02T00:00:00\",\"2021-11-03T00:00:00\",\"2021-11-04T00:00:00\",\"2021-11-05T00:00:00\",\"2021-11-08T00:00:00\",\"2021-11-09T00:00:00\",\"2021-11-10T00:00:00\",\"2021-11-11T00:00:00\",\"2021-11-12T00:00:00\",\"2021-11-15T00:00:00\",\"2021-11-16T00:00:00\",\"2021-11-17T00:00:00\",\"2021-11-18T00:00:00\",\"2021-11-19T00:00:00\",\"2021-11-22T00:00:00\",\"2021-11-23T00:00:00\",\"2021-11-24T00:00:00\",\"2021-11-26T00:00:00\",\"2021-11-29T00:00:00\",\"2021-11-30T00:00:00\",\"2021-12-01T00:00:00\",\"2021-12-02T00:00:00\",\"2021-12-03T00:00:00\",\"2021-12-06T00:00:00\",\"2021-12-07T00:00:00\",\"2021-12-08T00:00:00\",\"2021-12-09T00:00:00\",\"2021-12-10T00:00:00\",\"2021-12-13T00:00:00\",\"2021-12-14T00:00:00\",\"2021-12-15T00:00:00\",\"2021-12-16T00:00:00\",\"2021-12-17T00:00:00\",\"2021-12-20T00:00:00\",\"2021-12-21T00:00:00\",\"2021-12-22T00:00:00\",\"2021-12-23T00:00:00\",\"2021-12-27T00:00:00\",\"2021-12-28T00:00:00\",\"2021-12-29T00:00:00\",\"2021-12-30T00:00:00\"],\"xaxis\":\"x\",\"y\":[343.010009765625,326.2300109863281,332.9599914550781,333.6400146484375,329.2200012207031,330.04998779296875,325.45001220703125,323.7699890136719,324.5400085449219,328.5299987792969,324.760009765625,335.3399963378906,339.989990234375,340.7799987792969,341.8800048828125,324.6099853515625,328.69000244140625,315.80999755859375,312.2200012207031,316.9200134277344,323.57000732421875,329.9800109863281,328.0799865722656,331.6199951171875,335.8500061035156,341.1300048828125,338.6199951171875,335.3699951171875,327.6400146484375,327.739990234375,340.8900146484375,347.55999755859375,342.9599914550781,340.7699890136719,338.69000244140625,345.29998779296875,341.010009765625,337.25,341.05999755859375,333.1199951171875,338.0299987792969,324.4599914550781,310.6000061035156,310.3900146484375,306.8399963378906,317.8699951171875,322.80999755859375,330.55999755859375,329.82000732421875,329.75,334.489990234375,333.739990234375,341.6600036621094,334.8999938964844,333.7900085449219,325.45001220703125,334.20001220703125,330.45001220703125,335.239990234375,346.17999267578125,346.2200012207031,342.94000244140625,344.3599853515625],\"yaxis\":\"y\",\"type\":\"scatter\"},{\"hovertemplate\":\"variable=AMZN<br>Date=%{x}<br>value=%{y}<extra></extra>\",\"legendgroup\":\"AMZN\",\"line\":{\"color\":\"#EF553B\",\"dash\":\"solid\"},\"marker\":{\"symbol\":\"circle\"},\"mode\":\"lines\",\"name\":\"AMZN\",\"orientation\":\"v\",\"showlegend\":true,\"x\":[\"2021-10-01T00:00:00\",\"2021-10-04T00:00:00\",\"2021-10-05T00:00:00\",\"2021-10-06T00:00:00\",\"2021-10-07T00:00:00\",\"2021-10-08T00:00:00\",\"2021-10-11T00:00:00\",\"2021-10-12T00:00:00\",\"2021-10-13T00:00:00\",\"2021-10-14T00:00:00\",\"2021-10-15T00:00:00\",\"2021-10-18T00:00:00\",\"2021-10-19T00:00:00\",\"2021-10-20T00:00:00\",\"2021-10-21T00:00:00\",\"2021-10-22T00:00:00\",\"2021-10-25T00:00:00\",\"2021-10-26T00:00:00\",\"2021-10-27T00:00:00\",\"2021-10-28T00:00:00\",\"2021-10-29T00:00:00\",\"2021-11-01T00:00:00\",\"2021-11-02T00:00:00\",\"2021-11-03T00:00:00\",\"2021-11-04T00:00:00\",\"2021-11-05T00:00:00\",\"2021-11-08T00:00:00\",\"2021-11-09T00:00:00\",\"2021-11-10T00:00:00\",\"2021-11-11T00:00:00\",\"2021-11-12T00:00:00\",\"2021-11-15T00:00:00\",\"2021-11-16T00:00:00\",\"2021-11-17T00:00:00\",\"2021-11-18T00:00:00\",\"2021-11-19T00:00:00\",\"2021-11-22T00:00:00\",\"2021-11-23T00:00:00\",\"2021-11-24T00:00:00\",\"2021-11-26T00:00:00\",\"2021-11-29T00:00:00\",\"2021-11-30T00:00:00\",\"2021-12-01T00:00:00\",\"2021-12-02T00:00:00\",\"2021-12-03T00:00:00\",\"2021-12-06T00:00:00\",\"2021-12-07T00:00:00\",\"2021-12-08T00:00:00\",\"2021-12-09T00:00:00\",\"2021-12-10T00:00:00\",\"2021-12-13T00:00:00\",\"2021-12-14T00:00:00\",\"2021-12-15T00:00:00\",\"2021-12-16T00:00:00\",\"2021-12-17T00:00:00\",\"2021-12-20T00:00:00\",\"2021-12-21T00:00:00\",\"2021-12-22T00:00:00\",\"2021-12-23T00:00:00\",\"2021-12-27T00:00:00\",\"2021-12-28T00:00:00\",\"2021-12-29T00:00:00\",\"2021-12-30T00:00:00\"],\"xaxis\":\"x\",\"y\":[164.16299438476562,159.48899841308594,161.0500030517578,163.10049438476562,165.1215057373047,164.43099975585938,162.31500244140625,162.3665008544922,164.21400451660156,164.9929962158203,170.4510040283203,172.33700561523438,172.20750427246094,170.7530059814453,171.75050354003906,166.77749633789062,166.01849365234375,168.80349731445312,169.62449645996094,172.32850646972656,168.6215057373047,165.90550231933594,165.6374969482422,169.1999969482422,173.85000610351562,175.94949340820312,174.44900512695312,178.81149291992188,174.1024932861328,173.625,176.25750732421875,177.28399658203125,177.03500366210938,177.4499969482422,184.80299377441406,183.82850646972656,178.6284942626953,179.0019989013672,179.02049255371094,175.22799682617188,178.07850646972656,175.35350036621094,172.18600463867188,171.8679962158203,169.489501953125,171.36849975585938,176.1645050048828,176.1580047607422,174.17100524902344,172.21200561523438,169.5675048828125,169.0915069580078,173.31500244140625,168.87100219726562,170.0175018310547,167.07899475097656,170.41700744628906,171.03700256347656,171.06849670410156,169.66949462890625,170.66099548339844,169.2010040283203,168.64450073242188],\"yaxis\":\"y\",\"type\":\"scatter\"},{\"hovertemplate\":\"variable=NFLX<br>Date=%{x}<br>value=%{y}<extra></extra>\",\"legendgroup\":\"NFLX\",\"line\":{\"color\":\"#00cc96\",\"dash\":\"solid\"},\"marker\":{\"symbol\":\"circle\"},\"mode\":\"lines\",\"name\":\"NFLX\",\"orientation\":\"v\",\"showlegend\":true,\"x\":[\"2021-10-01T00:00:00\",\"2021-10-04T00:00:00\",\"2021-10-05T00:00:00\",\"2021-10-06T00:00:00\",\"2021-10-07T00:00:00\",\"2021-10-08T00:00:00\",\"2021-10-11T00:00:00\",\"2021-10-12T00:00:00\",\"2021-10-13T00:00:00\",\"2021-10-14T00:00:00\",\"2021-10-15T00:00:00\",\"2021-10-18T00:00:00\",\"2021-10-19T00:00:00\",\"2021-10-20T00:00:00\",\"2021-10-21T00:00:00\",\"2021-10-22T00:00:00\",\"2021-10-25T00:00:00\",\"2021-10-26T00:00:00\",\"2021-10-27T00:00:00\",\"2021-10-28T00:00:00\",\"2021-10-29T00:00:00\",\"2021-11-01T00:00:00\",\"2021-11-02T00:00:00\",\"2021-11-03T00:00:00\",\"2021-11-04T00:00:00\",\"2021-11-05T00:00:00\",\"2021-11-08T00:00:00\",\"2021-11-09T00:00:00\",\"2021-11-10T00:00:00\",\"2021-11-11T00:00:00\",\"2021-11-12T00:00:00\",\"2021-11-15T00:00:00\",\"2021-11-16T00:00:00\",\"2021-11-17T00:00:00\",\"2021-11-18T00:00:00\",\"2021-11-19T00:00:00\",\"2021-11-22T00:00:00\",\"2021-11-23T00:00:00\",\"2021-11-24T00:00:00\",\"2021-11-26T00:00:00\",\"2021-11-29T00:00:00\",\"2021-11-30T00:00:00\",\"2021-12-01T00:00:00\",\"2021-12-02T00:00:00\",\"2021-12-03T00:00:00\",\"2021-12-06T00:00:00\",\"2021-12-07T00:00:00\",\"2021-12-08T00:00:00\",\"2021-12-09T00:00:00\",\"2021-12-10T00:00:00\",\"2021-12-13T00:00:00\",\"2021-12-14T00:00:00\",\"2021-12-15T00:00:00\",\"2021-12-16T00:00:00\",\"2021-12-17T00:00:00\",\"2021-12-20T00:00:00\",\"2021-12-21T00:00:00\",\"2021-12-22T00:00:00\",\"2021-12-23T00:00:00\",\"2021-12-27T00:00:00\",\"2021-12-28T00:00:00\",\"2021-12-29T00:00:00\",\"2021-12-30T00:00:00\"],\"xaxis\":\"x\",\"y\":[613.1500244140625,603.3499755859375,634.8099975585938,639.0999755859375,631.8499755859375,632.6599731445312,627.0399780273438,624.9400024414062,629.760009765625,633.7999877929688,628.2899780273438,637.969970703125,639.0,625.1400146484375,653.1599731445312,664.780029296875,671.6599731445312,668.52001953125,662.9199829101562,674.0499877929688,690.3099975585938,681.1699829101562,677.719970703125,688.2899780273438,668.4000244140625,645.719970703125,651.4500122070312,655.989990234375,646.9099731445312,657.5800170898438,682.6099853515625,679.3300170898438,687.4000244140625,691.6900024414062,682.02001953125,678.7999877929688,659.2000122070312,654.0599975585938,658.2899780273438,665.6400146484375,663.8400268554688,641.9000244140625,617.77001953125,616.469970703125,602.1300048828125,612.6900024414062,625.5800170898438,628.0800170898438,611.0,611.6599731445312,604.5599975585938,597.989990234375,605.0399780273438,591.0599975585938,586.72998046875,593.739990234375,604.9199829101562,614.239990234375,614.0900268554688,613.1199951171875,610.7100219726562,610.5399780273438,612.0900268554688],\"yaxis\":\"y\",\"type\":\"scatter\"},{\"hovertemplate\":\"variable=GOOG<br>Date=%{x}<br>value=%{y}<extra></extra>\",\"legendgroup\":\"GOOG\",\"line\":{\"color\":\"#ab63fa\",\"dash\":\"solid\"},\"marker\":{\"symbol\":\"circle\"},\"mode\":\"lines\",\"name\":\"GOOG\",\"orientation\":\"v\",\"showlegend\":true,\"x\":[\"2021-10-01T00:00:00\",\"2021-10-04T00:00:00\",\"2021-10-05T00:00:00\",\"2021-10-06T00:00:00\",\"2021-10-07T00:00:00\",\"2021-10-08T00:00:00\",\"2021-10-11T00:00:00\",\"2021-10-12T00:00:00\",\"2021-10-13T00:00:00\",\"2021-10-14T00:00:00\",\"2021-10-15T00:00:00\",\"2021-10-18T00:00:00\",\"2021-10-19T00:00:00\",\"2021-10-20T00:00:00\",\"2021-10-21T00:00:00\",\"2021-10-22T00:00:00\",\"2021-10-25T00:00:00\",\"2021-10-26T00:00:00\",\"2021-10-27T00:00:00\",\"2021-10-28T00:00:00\",\"2021-10-29T00:00:00\",\"2021-11-01T00:00:00\",\"2021-11-02T00:00:00\",\"2021-11-03T00:00:00\",\"2021-11-04T00:00:00\",\"2021-11-05T00:00:00\",\"2021-11-08T00:00:00\",\"2021-11-09T00:00:00\",\"2021-11-10T00:00:00\",\"2021-11-11T00:00:00\",\"2021-11-12T00:00:00\",\"2021-11-15T00:00:00\",\"2021-11-16T00:00:00\",\"2021-11-17T00:00:00\",\"2021-11-18T00:00:00\",\"2021-11-19T00:00:00\",\"2021-11-22T00:00:00\",\"2021-11-23T00:00:00\",\"2021-11-24T00:00:00\",\"2021-11-26T00:00:00\",\"2021-11-29T00:00:00\",\"2021-11-30T00:00:00\",\"2021-12-01T00:00:00\",\"2021-12-02T00:00:00\",\"2021-12-03T00:00:00\",\"2021-12-06T00:00:00\",\"2021-12-07T00:00:00\",\"2021-12-08T00:00:00\",\"2021-12-09T00:00:00\",\"2021-12-10T00:00:00\",\"2021-12-13T00:00:00\",\"2021-12-14T00:00:00\",\"2021-12-15T00:00:00\",\"2021-12-16T00:00:00\",\"2021-12-17T00:00:00\",\"2021-12-20T00:00:00\",\"2021-12-21T00:00:00\",\"2021-12-22T00:00:00\",\"2021-12-23T00:00:00\",\"2021-12-27T00:00:00\",\"2021-12-28T00:00:00\",\"2021-12-29T00:00:00\",\"2021-12-30T00:00:00\"],\"xaxis\":\"x\",\"y\":[136.46249389648438,133.76499938964844,136.177001953125,137.35400390625,139.1855010986328,140.05599975585938,138.84750366210938,136.71299743652344,137.89999389648438,141.41200256347656,141.6750030517578,142.9604949951172,143.82200622558594,142.4149932861328,142.78050231933594,138.625,138.7729949951172,139.6719970703125,146.42750549316406,146.12899780273438,148.27049255371094,143.7740020751953,145.86300659179688,146.7899932861328,148.68299865722656,149.24099731445312,149.35150146484375,149.24850463867188,146.62600708007812,146.7480010986328,149.64549255371094,149.38800048828125,149.0760040283203,149.06199645996094,150.70899963378906,149.95249938964844,147.07850646972656,146.7570037841797,146.71749877929688,142.80599975585938,146.11399841308594,142.45199584960938,141.6179962158203,143.77650451660156,142.52049255371094,143.79649353027344,148.0364990234375,148.7205047607422,148.1060028076172,148.6750030517578,146.70449829101562,144.9705047607422,147.36849975585938,144.8385009765625,142.80299377441406,142.40150451660156,144.2205047607422,146.94900512695312,147.1425018310547,148.06399536132812,146.447998046875,146.50450134277344,146.00250244140625],\"yaxis\":\"y\",\"type\":\"scatter\"},{\"hovertemplate\":\"variable=MSFT<br>Date=%{x}<br>value=%{y}<extra></extra>\",\"legendgroup\":\"MSFT\",\"line\":{\"color\":\"#FFA15A\",\"dash\":\"solid\"},\"marker\":{\"symbol\":\"circle\"},\"mode\":\"lines\",\"name\":\"MSFT\",\"orientation\":\"v\",\"showlegend\":true,\"x\":[\"2021-10-01T00:00:00\",\"2021-10-04T00:00:00\",\"2021-10-05T00:00:00\",\"2021-10-06T00:00:00\",\"2021-10-07T00:00:00\",\"2021-10-08T00:00:00\",\"2021-10-11T00:00:00\",\"2021-10-12T00:00:00\",\"2021-10-13T00:00:00\",\"2021-10-14T00:00:00\",\"2021-10-15T00:00:00\",\"2021-10-18T00:00:00\",\"2021-10-19T00:00:00\",\"2021-10-20T00:00:00\",\"2021-10-21T00:00:00\",\"2021-10-22T00:00:00\",\"2021-10-25T00:00:00\",\"2021-10-26T00:00:00\",\"2021-10-27T00:00:00\",\"2021-10-28T00:00:00\",\"2021-10-29T00:00:00\",\"2021-11-01T00:00:00\",\"2021-11-02T00:00:00\",\"2021-11-03T00:00:00\",\"2021-11-04T00:00:00\",\"2021-11-05T00:00:00\",\"2021-11-08T00:00:00\",\"2021-11-09T00:00:00\",\"2021-11-10T00:00:00\",\"2021-11-11T00:00:00\",\"2021-11-12T00:00:00\",\"2021-11-15T00:00:00\",\"2021-11-16T00:00:00\",\"2021-11-17T00:00:00\",\"2021-11-18T00:00:00\",\"2021-11-19T00:00:00\",\"2021-11-22T00:00:00\",\"2021-11-23T00:00:00\",\"2021-11-24T00:00:00\",\"2021-11-26T00:00:00\",\"2021-11-29T00:00:00\",\"2021-11-30T00:00:00\",\"2021-12-01T00:00:00\",\"2021-12-02T00:00:00\",\"2021-12-03T00:00:00\",\"2021-12-06T00:00:00\",\"2021-12-07T00:00:00\",\"2021-12-08T00:00:00\",\"2021-12-09T00:00:00\",\"2021-12-10T00:00:00\",\"2021-12-13T00:00:00\",\"2021-12-14T00:00:00\",\"2021-12-15T00:00:00\",\"2021-12-16T00:00:00\",\"2021-12-17T00:00:00\",\"2021-12-20T00:00:00\",\"2021-12-21T00:00:00\",\"2021-12-22T00:00:00\",\"2021-12-23T00:00:00\",\"2021-12-27T00:00:00\",\"2021-12-28T00:00:00\",\"2021-12-29T00:00:00\",\"2021-12-30T00:00:00\"],\"xaxis\":\"x\",\"y\":[284.5568542480469,278.66094970703125,284.22216796875,288.5037841796875,290.2165222167969,290.2165222167969,289.6062927246094,288.2774658203125,291.6535339355469,297.99237060546875,299.42938232421875,302.4610290527344,303.38623046875,302.5790710449219,305.8764343261719,304.3016052246094,303.2878112792969,305.23663330078125,318.0914611816406,319.2528991699219,326.40863037109375,324.19403076171875,327.89495849609375,328.7512512207031,331.15289306640625,330.77886962890625,331.69427490234375,330.67059326171875,325.6015319824219,327.2059020996094,331.4284973144531,330.7887268066406,334.1746520996094,334.4014587402344,336.52154541015625,338.3359069824219,335.1015930175781,332.98150634765625,333.20831298828125,325.0927734375,331.9461364746094,325.9901428222656,325.4872131347656,324.90545654296875,318.5156555175781,321.6513366699219,330.2598571777344,330.3092041015625,328.4652099609375,337.7738952636719,334.6775817871094,323.7714538574219,329.9936218261719,320.3793029785156,319.29461669921875,315.458740234375,322.736083984375,328.5638122558594,330.03314208984375,337.6851501464844,336.5018310546875,337.1921081542969,334.59869384765625],\"yaxis\":\"y\",\"type\":\"scatter\"},{\"hovertemplate\":\"variable=NVDA<br>Date=%{x}<br>value=%{y}<extra></extra>\",\"legendgroup\":\"NVDA\",\"line\":{\"color\":\"#19d3f3\",\"dash\":\"solid\"},\"marker\":{\"symbol\":\"circle\"},\"mode\":\"lines\",\"name\":\"NVDA\",\"orientation\":\"v\",\"showlegend\":true,\"x\":[\"2021-10-01T00:00:00\",\"2021-10-04T00:00:00\",\"2021-10-05T00:00:00\",\"2021-10-06T00:00:00\",\"2021-10-07T00:00:00\",\"2021-10-08T00:00:00\",\"2021-10-11T00:00:00\",\"2021-10-12T00:00:00\",\"2021-10-13T00:00:00\",\"2021-10-14T00:00:00\",\"2021-10-15T00:00:00\",\"2021-10-18T00:00:00\",\"2021-10-19T00:00:00\",\"2021-10-20T00:00:00\",\"2021-10-21T00:00:00\",\"2021-10-22T00:00:00\",\"2021-10-25T00:00:00\",\"2021-10-26T00:00:00\",\"2021-10-27T00:00:00\",\"2021-10-28T00:00:00\",\"2021-10-29T00:00:00\",\"2021-11-01T00:00:00\",\"2021-11-02T00:00:00\",\"2021-11-03T00:00:00\",\"2021-11-04T00:00:00\",\"2021-11-05T00:00:00\",\"2021-11-08T00:00:00\",\"2021-11-09T00:00:00\",\"2021-11-10T00:00:00\",\"2021-11-11T00:00:00\",\"2021-11-12T00:00:00\",\"2021-11-15T00:00:00\",\"2021-11-16T00:00:00\",\"2021-11-17T00:00:00\",\"2021-11-18T00:00:00\",\"2021-11-19T00:00:00\",\"2021-11-22T00:00:00\",\"2021-11-23T00:00:00\",\"2021-11-24T00:00:00\",\"2021-11-26T00:00:00\",\"2021-11-29T00:00:00\",\"2021-11-30T00:00:00\",\"2021-12-01T00:00:00\",\"2021-12-02T00:00:00\",\"2021-12-03T00:00:00\",\"2021-12-06T00:00:00\",\"2021-12-07T00:00:00\",\"2021-12-08T00:00:00\",\"2021-12-09T00:00:00\",\"2021-12-10T00:00:00\",\"2021-12-13T00:00:00\",\"2021-12-14T00:00:00\",\"2021-12-15T00:00:00\",\"2021-12-16T00:00:00\",\"2021-12-17T00:00:00\",\"2021-12-20T00:00:00\",\"2021-12-21T00:00:00\",\"2021-12-22T00:00:00\",\"2021-12-23T00:00:00\",\"2021-12-27T00:00:00\",\"2021-12-28T00:00:00\",\"2021-12-29T00:00:00\",\"2021-12-30T00:00:00\"],\"xaxis\":\"x\",\"y\":[207.16567993164062,197.07806396484375,204.2592315673828,206.74618530273438,210.49159240722656,208.0545654296875,206.69622802734375,206.45655822753906,209.1332550048828,217.193359375,218.3519287109375,221.94752502441406,222.62669372558594,220.7589874267578,226.64173889160156,226.98135375976562,231.37594604492188,246.86692810058594,244.21018981933594,249.1041717529297,255.35650634765625,257.95330810546875,263.686279296875,265.65386962890625,297.6446228027344,297.15521240234375,307.6623229980469,306.194091796875,294.2287292480469,303.5273742675781,303.5273742675781,299.8818359375,301.6596984863281,292.2511901855469,316.36163330078125,329.4455261230469,319.1681213378906,317.07073974609375,326.3393859863281,314.64373779296875,333.35076904296875,326.359375,314.00299072265625,320.9053955078125,306.5911865234375,300.0384216308594,323.9120178222656,317.90869140625,304.5634460449219,301.6466369628906,281.29913330078125,283.0572204589844,304.2537536621094,283.556640625,277.703125,276.884033203125,290.4290771484375,293.6754455566406,296.07281494140625,309.1084289550781,302.88525390625,299.6788635253906,295.53338623046875],\"yaxis\":\"y\",\"type\":\"scatter\"},{\"hovertemplate\":\"variable=TSLA<br>Date=%{x}<br>value=%{y}<extra></extra>\",\"legendgroup\":\"TSLA\",\"line\":{\"color\":\"#FF6692\",\"dash\":\"solid\"},\"marker\":{\"symbol\":\"circle\"},\"mode\":\"lines\",\"name\":\"TSLA\",\"orientation\":\"v\",\"showlegend\":true,\"x\":[\"2021-10-01T00:00:00\",\"2021-10-04T00:00:00\",\"2021-10-05T00:00:00\",\"2021-10-06T00:00:00\",\"2021-10-07T00:00:00\",\"2021-10-08T00:00:00\",\"2021-10-11T00:00:00\",\"2021-10-12T00:00:00\",\"2021-10-13T00:00:00\",\"2021-10-14T00:00:00\",\"2021-10-15T00:00:00\",\"2021-10-18T00:00:00\",\"2021-10-19T00:00:00\",\"2021-10-20T00:00:00\",\"2021-10-21T00:00:00\",\"2021-10-22T00:00:00\",\"2021-10-25T00:00:00\",\"2021-10-26T00:00:00\",\"2021-10-27T00:00:00\",\"2021-10-28T00:00:00\",\"2021-10-29T00:00:00\",\"2021-11-01T00:00:00\",\"2021-11-02T00:00:00\",\"2021-11-03T00:00:00\",\"2021-11-04T00:00:00\",\"2021-11-05T00:00:00\",\"2021-11-08T00:00:00\",\"2021-11-09T00:00:00\",\"2021-11-10T00:00:00\",\"2021-11-11T00:00:00\",\"2021-11-12T00:00:00\",\"2021-11-15T00:00:00\",\"2021-11-16T00:00:00\",\"2021-11-17T00:00:00\",\"2021-11-18T00:00:00\",\"2021-11-19T00:00:00\",\"2021-11-22T00:00:00\",\"2021-11-23T00:00:00\",\"2021-11-24T00:00:00\",\"2021-11-26T00:00:00\",\"2021-11-29T00:00:00\",\"2021-11-30T00:00:00\",\"2021-12-01T00:00:00\",\"2021-12-02T00:00:00\",\"2021-12-03T00:00:00\",\"2021-12-06T00:00:00\",\"2021-12-07T00:00:00\",\"2021-12-08T00:00:00\",\"2021-12-09T00:00:00\",\"2021-12-10T00:00:00\",\"2021-12-13T00:00:00\",\"2021-12-14T00:00:00\",\"2021-12-15T00:00:00\",\"2021-12-16T00:00:00\",\"2021-12-17T00:00:00\",\"2021-12-20T00:00:00\",\"2021-12-21T00:00:00\",\"2021-12-22T00:00:00\",\"2021-12-23T00:00:00\",\"2021-12-27T00:00:00\",\"2021-12-28T00:00:00\",\"2021-12-29T00:00:00\",\"2021-12-30T00:00:00\"],\"xaxis\":\"x\",\"y\":[258.40667724609375,260.510009765625,260.1966552734375,260.9166564941406,264.53668212890625,261.8299865722656,263.9800109863281,268.5733337402344,270.3599853515625,272.7733459472656,281.010009765625,290.03668212890625,288.0899963378906,288.6000061035156,298.0,303.2266540527344,341.6199951171875,339.4766540527344,345.9533386230469,359.0133361816406,371.3333435058594,402.86334228515625,390.6666564941406,404.6199951171875,409.9700012207031,407.36334228515625,387.64666748046875,341.1666564941406,355.98333740234375,354.5033264160156,344.47332763671875,337.7966613769531,351.57666015625,363.0033264160156,365.4599914550781,379.0199890136719,385.6233215332031,369.6766662597656,372.0,360.6400146484375,378.9966735839844,381.586669921875,365.0,361.5333251953125,338.3233337402344,336.336669921875,350.5833435058594,356.32000732421875,334.6000061035156,339.010009765625,322.13665771484375,319.5033264160156,325.3299865722656,308.97332763671875,310.8566589355469,299.9800109863281,312.84332275390625,336.2900085449219,355.6666564941406,364.64666748046875,362.8233337402344,362.0633239746094,356.7799987792969],\"yaxis\":\"y\",\"type\":\"scatter\"}],                        {\"template\":{\"data\":{\"barpolar\":[{\"marker\":{\"line\":{\"color\":\"rgb(17,17,17)\",\"width\":0.5},\"pattern\":{\"fillmode\":\"overlay\",\"size\":10,\"solidity\":0.2}},\"type\":\"barpolar\"}],\"bar\":[{\"error_x\":{\"color\":\"#f2f5fa\"},\"error_y\":{\"color\":\"#f2f5fa\"},\"marker\":{\"line\":{\"color\":\"rgb(17,17,17)\",\"width\":0.5},\"pattern\":{\"fillmode\":\"overlay\",\"size\":10,\"solidity\":0.2}},\"type\":\"bar\"}],\"carpet\":[{\"aaxis\":{\"endlinecolor\":\"#A2B1C6\",\"gridcolor\":\"#506784\",\"linecolor\":\"#506784\",\"minorgridcolor\":\"#506784\",\"startlinecolor\":\"#A2B1C6\"},\"baxis\":{\"endlinecolor\":\"#A2B1C6\",\"gridcolor\":\"#506784\",\"linecolor\":\"#506784\",\"minorgridcolor\":\"#506784\",\"startlinecolor\":\"#A2B1C6\"},\"type\":\"carpet\"}],\"choropleth\":[{\"colorbar\":{\"outlinewidth\":0,\"ticks\":\"\"},\"type\":\"choropleth\"}],\"contourcarpet\":[{\"colorbar\":{\"outlinewidth\":0,\"ticks\":\"\"},\"type\":\"contourcarpet\"}],\"contour\":[{\"colorbar\":{\"outlinewidth\":0,\"ticks\":\"\"},\"colorscale\":[[0.0,\"#0d0887\"],[0.1111111111111111,\"#46039f\"],[0.2222222222222222,\"#7201a8\"],[0.3333333333333333,\"#9c179e\"],[0.4444444444444444,\"#bd3786\"],[0.5555555555555556,\"#d8576b\"],[0.6666666666666666,\"#ed7953\"],[0.7777777777777778,\"#fb9f3a\"],[0.8888888888888888,\"#fdca26\"],[1.0,\"#f0f921\"]],\"type\":\"contour\"}],\"heatmapgl\":[{\"colorbar\":{\"outlinewidth\":0,\"ticks\":\"\"},\"colorscale\":[[0.0,\"#0d0887\"],[0.1111111111111111,\"#46039f\"],[0.2222222222222222,\"#7201a8\"],[0.3333333333333333,\"#9c179e\"],[0.4444444444444444,\"#bd3786\"],[0.5555555555555556,\"#d8576b\"],[0.6666666666666666,\"#ed7953\"],[0.7777777777777778,\"#fb9f3a\"],[0.8888888888888888,\"#fdca26\"],[1.0,\"#f0f921\"]],\"type\":\"heatmapgl\"}],\"heatmap\":[{\"colorbar\":{\"outlinewidth\":0,\"ticks\":\"\"},\"colorscale\":[[0.0,\"#0d0887\"],[0.1111111111111111,\"#46039f\"],[0.2222222222222222,\"#7201a8\"],[0.3333333333333333,\"#9c179e\"],[0.4444444444444444,\"#bd3786\"],[0.5555555555555556,\"#d8576b\"],[0.6666666666666666,\"#ed7953\"],[0.7777777777777778,\"#fb9f3a\"],[0.8888888888888888,\"#fdca26\"],[1.0,\"#f0f921\"]],\"type\":\"heatmap\"}],\"histogram2dcontour\":[{\"colorbar\":{\"outlinewidth\":0,\"ticks\":\"\"},\"colorscale\":[[0.0,\"#0d0887\"],[0.1111111111111111,\"#46039f\"],[0.2222222222222222,\"#7201a8\"],[0.3333333333333333,\"#9c179e\"],[0.4444444444444444,\"#bd3786\"],[0.5555555555555556,\"#d8576b\"],[0.6666666666666666,\"#ed7953\"],[0.7777777777777778,\"#fb9f3a\"],[0.8888888888888888,\"#fdca26\"],[1.0,\"#f0f921\"]],\"type\":\"histogram2dcontour\"}],\"histogram2d\":[{\"colorbar\":{\"outlinewidth\":0,\"ticks\":\"\"},\"colorscale\":[[0.0,\"#0d0887\"],[0.1111111111111111,\"#46039f\"],[0.2222222222222222,\"#7201a8\"],[0.3333333333333333,\"#9c179e\"],[0.4444444444444444,\"#bd3786\"],[0.5555555555555556,\"#d8576b\"],[0.6666666666666666,\"#ed7953\"],[0.7777777777777778,\"#fb9f3a\"],[0.8888888888888888,\"#fdca26\"],[1.0,\"#f0f921\"]],\"type\":\"histogram2d\"}],\"histogram\":[{\"marker\":{\"pattern\":{\"fillmode\":\"overlay\",\"size\":10,\"solidity\":0.2}},\"type\":\"histogram\"}],\"mesh3d\":[{\"colorbar\":{\"outlinewidth\":0,\"ticks\":\"\"},\"type\":\"mesh3d\"}],\"parcoords\":[{\"line\":{\"colorbar\":{\"outlinewidth\":0,\"ticks\":\"\"}},\"type\":\"parcoords\"}],\"pie\":[{\"automargin\":true,\"type\":\"pie\"}],\"scatter3d\":[{\"line\":{\"colorbar\":{\"outlinewidth\":0,\"ticks\":\"\"}},\"marker\":{\"colorbar\":{\"outlinewidth\":0,\"ticks\":\"\"}},\"type\":\"scatter3d\"}],\"scattercarpet\":[{\"marker\":{\"colorbar\":{\"outlinewidth\":0,\"ticks\":\"\"}},\"type\":\"scattercarpet\"}],\"scattergeo\":[{\"marker\":{\"colorbar\":{\"outlinewidth\":0,\"ticks\":\"\"}},\"type\":\"scattergeo\"}],\"scattergl\":[{\"marker\":{\"line\":{\"color\":\"#283442\"}},\"type\":\"scattergl\"}],\"scattermapbox\":[{\"marker\":{\"colorbar\":{\"outlinewidth\":0,\"ticks\":\"\"}},\"type\":\"scattermapbox\"}],\"scatterpolargl\":[{\"marker\":{\"colorbar\":{\"outlinewidth\":0,\"ticks\":\"\"}},\"type\":\"scatterpolargl\"}],\"scatterpolar\":[{\"marker\":{\"colorbar\":{\"outlinewidth\":0,\"ticks\":\"\"}},\"type\":\"scatterpolar\"}],\"scatter\":[{\"marker\":{\"line\":{\"color\":\"#283442\"}},\"type\":\"scatter\"}],\"scatterternary\":[{\"marker\":{\"colorbar\":{\"outlinewidth\":0,\"ticks\":\"\"}},\"type\":\"scatterternary\"}],\"surface\":[{\"colorbar\":{\"outlinewidth\":0,\"ticks\":\"\"},\"colorscale\":[[0.0,\"#0d0887\"],[0.1111111111111111,\"#46039f\"],[0.2222222222222222,\"#7201a8\"],[0.3333333333333333,\"#9c179e\"],[0.4444444444444444,\"#bd3786\"],[0.5555555555555556,\"#d8576b\"],[0.6666666666666666,\"#ed7953\"],[0.7777777777777778,\"#fb9f3a\"],[0.8888888888888888,\"#fdca26\"],[1.0,\"#f0f921\"]],\"type\":\"surface\"}],\"table\":[{\"cells\":{\"fill\":{\"color\":\"#506784\"},\"line\":{\"color\":\"rgb(17,17,17)\"}},\"header\":{\"fill\":{\"color\":\"#2a3f5f\"},\"line\":{\"color\":\"rgb(17,17,17)\"}},\"type\":\"table\"}]},\"layout\":{\"annotationdefaults\":{\"arrowcolor\":\"#f2f5fa\",\"arrowhead\":0,\"arrowwidth\":1},\"autotypenumbers\":\"strict\",\"coloraxis\":{\"colorbar\":{\"outlinewidth\":0,\"ticks\":\"\"}},\"colorscale\":{\"diverging\":[[0,\"#8e0152\"],[0.1,\"#c51b7d\"],[0.2,\"#de77ae\"],[0.3,\"#f1b6da\"],[0.4,\"#fde0ef\"],[0.5,\"#f7f7f7\"],[0.6,\"#e6f5d0\"],[0.7,\"#b8e186\"],[0.8,\"#7fbc41\"],[0.9,\"#4d9221\"],[1,\"#276419\"]],\"sequential\":[[0.0,\"#0d0887\"],[0.1111111111111111,\"#46039f\"],[0.2222222222222222,\"#7201a8\"],[0.3333333333333333,\"#9c179e\"],[0.4444444444444444,\"#bd3786\"],[0.5555555555555556,\"#d8576b\"],[0.6666666666666666,\"#ed7953\"],[0.7777777777777778,\"#fb9f3a\"],[0.8888888888888888,\"#fdca26\"],[1.0,\"#f0f921\"]],\"sequentialminus\":[[0.0,\"#0d0887\"],[0.1111111111111111,\"#46039f\"],[0.2222222222222222,\"#7201a8\"],[0.3333333333333333,\"#9c179e\"],[0.4444444444444444,\"#bd3786\"],[0.5555555555555556,\"#d8576b\"],[0.6666666666666666,\"#ed7953\"],[0.7777777777777778,\"#fb9f3a\"],[0.8888888888888888,\"#fdca26\"],[1.0,\"#f0f921\"]]},\"colorway\":[\"#636efa\",\"#EF553B\",\"#00cc96\",\"#ab63fa\",\"#FFA15A\",\"#19d3f3\",\"#FF6692\",\"#B6E880\",\"#FF97FF\",\"#FECB52\"],\"font\":{\"color\":\"#f2f5fa\"},\"geo\":{\"bgcolor\":\"rgb(17,17,17)\",\"lakecolor\":\"rgb(17,17,17)\",\"landcolor\":\"rgb(17,17,17)\",\"showlakes\":true,\"showland\":true,\"subunitcolor\":\"#506784\"},\"hoverlabel\":{\"align\":\"left\"},\"hovermode\":\"closest\",\"mapbox\":{\"style\":\"dark\"},\"paper_bgcolor\":\"rgb(17,17,17)\",\"plot_bgcolor\":\"rgb(17,17,17)\",\"polar\":{\"angularaxis\":{\"gridcolor\":\"#506784\",\"linecolor\":\"#506784\",\"ticks\":\"\"},\"bgcolor\":\"rgb(17,17,17)\",\"radialaxis\":{\"gridcolor\":\"#506784\",\"linecolor\":\"#506784\",\"ticks\":\"\"}},\"scene\":{\"xaxis\":{\"backgroundcolor\":\"rgb(17,17,17)\",\"gridcolor\":\"#506784\",\"gridwidth\":2,\"linecolor\":\"#506784\",\"showbackground\":true,\"ticks\":\"\",\"zerolinecolor\":\"#C8D4E3\"},\"yaxis\":{\"backgroundcolor\":\"rgb(17,17,17)\",\"gridcolor\":\"#506784\",\"gridwidth\":2,\"linecolor\":\"#506784\",\"showbackground\":true,\"ticks\":\"\",\"zerolinecolor\":\"#C8D4E3\"},\"zaxis\":{\"backgroundcolor\":\"rgb(17,17,17)\",\"gridcolor\":\"#506784\",\"gridwidth\":2,\"linecolor\":\"#506784\",\"showbackground\":true,\"ticks\":\"\",\"zerolinecolor\":\"#C8D4E3\"}},\"shapedefaults\":{\"line\":{\"color\":\"#f2f5fa\"}},\"sliderdefaults\":{\"bgcolor\":\"#C8D4E3\",\"bordercolor\":\"rgb(17,17,17)\",\"borderwidth\":1,\"tickwidth\":0},\"ternary\":{\"aaxis\":{\"gridcolor\":\"#506784\",\"linecolor\":\"#506784\",\"ticks\":\"\"},\"baxis\":{\"gridcolor\":\"#506784\",\"linecolor\":\"#506784\",\"ticks\":\"\"},\"bgcolor\":\"rgb(17,17,17)\",\"caxis\":{\"gridcolor\":\"#506784\",\"linecolor\":\"#506784\",\"ticks\":\"\"}},\"title\":{\"x\":0.05},\"updatemenudefaults\":{\"bgcolor\":\"#506784\",\"borderwidth\":0},\"xaxis\":{\"automargin\":true,\"gridcolor\":\"#283442\",\"linecolor\":\"#506784\",\"ticks\":\"\",\"title\":{\"standoff\":15},\"zerolinecolor\":\"#283442\",\"zerolinewidth\":2},\"yaxis\":{\"automargin\":true,\"gridcolor\":\"#283442\",\"linecolor\":\"#506784\",\"ticks\":\"\",\"title\":{\"standoff\":15},\"zerolinecolor\":\"#283442\",\"zerolinewidth\":2}}},\"xaxis\":{\"anchor\":\"y\",\"domain\":[0.0,1.0],\"title\":{\"text\":\"Date\"}},\"yaxis\":{\"anchor\":\"x\",\"domain\":[0.0,1.0],\"title\":{\"text\":\"value\"}},\"legend\":{\"title\":{\"text\":\"variable\"},\"tracegroupgap\":0},\"margin\":{\"t\":60},\"width\":1200,\"height\":800},                        {\"responsive\": true}                    ).then(function(){\n",
       "                            \n",
       "var gd = document.getElementById('cf308da2-a326-444a-9098-46df100d8943');\n",
       "var x = new MutationObserver(function (mutations, observer) {{\n",
       "        var display = window.getComputedStyle(gd).display;\n",
       "        if (!display || display === 'none') {{\n",
       "            console.log([gd, 'removed!']);\n",
       "            Plotly.purge(gd);\n",
       "            observer.disconnect();\n",
       "        }}\n",
       "}});\n",
       "\n",
       "// Listen for the removal of the full notebook cells\n",
       "var notebookContainer = gd.closest('#notebook-container');\n",
       "if (notebookContainer) {{\n",
       "    x.observe(notebookContainer, {childList: true});\n",
       "}}\n",
       "\n",
       "// Listen for the clearing of the current output cell\n",
       "var outputEl = gd.closest('.output');\n",
       "if (outputEl) {{\n",
       "    x.observe(outputEl, {childList: true});\n",
       "}}\n",
       "\n",
       "                        })                };                });            </script>        </div>"
      ]
     },
     "metadata": {},
     "output_type": "display_data"
    }
   ],
   "source": [
    "fig = px.line(pf_data)\n",
    "fig.update_layout(width=1200, height=800, template = \"plotly_dark\")\n",
    "fig.show()"
   ]
  },
  {
   "attachments": {},
   "cell_type": "markdown",
   "metadata": {},
   "source": [
    "However, I typically examine how each stock has performed relative to one another. To achieve this, I normalize the data using cumulative returns, making it much easier to identify outperforming and underperforming stocks. By doing so, we can see that Nvidia is leading the pack, followed by Tesla, while Netflix and Meta have significantly underperformed in comparison."
   ]
  },
  {
   "cell_type": "code",
   "execution_count": 159,
   "metadata": {},
   "outputs": [
    {
     "data": {
      "application/vnd.plotly.v1+json": {
       "config": {
        "plotlyServerURL": "https://plot.ly"
       },
       "data": [
        {
         "hovertemplate": "variable=META<br>Date=%{x}<br>value=%{y}<extra></extra>",
         "legendgroup": "META",
         "line": {
          "color": "#636efa",
          "dash": "solid"
         },
         "marker": {
          "symbol": "circle"
         },
         "mode": "lines",
         "name": "META",
         "orientation": "v",
         "showlegend": true,
         "type": "scatter",
         "x": [
          "2021-10-04T00:00:00",
          "2021-10-05T00:00:00",
          "2021-10-06T00:00:00",
          "2021-10-07T00:00:00",
          "2021-10-08T00:00:00",
          "2021-10-11T00:00:00",
          "2021-10-12T00:00:00",
          "2021-10-13T00:00:00",
          "2021-10-14T00:00:00",
          "2021-10-15T00:00:00",
          "2021-10-18T00:00:00",
          "2021-10-19T00:00:00",
          "2021-10-20T00:00:00",
          "2021-10-21T00:00:00",
          "2021-10-22T00:00:00",
          "2021-10-25T00:00:00",
          "2021-10-26T00:00:00",
          "2021-10-27T00:00:00",
          "2021-10-28T00:00:00",
          "2021-10-29T00:00:00",
          "2021-11-01T00:00:00",
          "2021-11-02T00:00:00",
          "2021-11-03T00:00:00",
          "2021-11-04T00:00:00",
          "2021-11-05T00:00:00",
          "2021-11-08T00:00:00",
          "2021-11-09T00:00:00",
          "2021-11-10T00:00:00",
          "2021-11-11T00:00:00",
          "2021-11-12T00:00:00",
          "2021-11-15T00:00:00",
          "2021-11-16T00:00:00",
          "2021-11-17T00:00:00",
          "2021-11-18T00:00:00",
          "2021-11-19T00:00:00",
          "2021-11-22T00:00:00",
          "2021-11-23T00:00:00",
          "2021-11-24T00:00:00",
          "2021-11-26T00:00:00",
          "2021-11-29T00:00:00",
          "2021-11-30T00:00:00",
          "2021-12-01T00:00:00",
          "2021-12-02T00:00:00",
          "2021-12-03T00:00:00",
          "2021-12-06T00:00:00",
          "2021-12-07T00:00:00",
          "2021-12-08T00:00:00",
          "2021-12-09T00:00:00",
          "2021-12-10T00:00:00",
          "2021-12-13T00:00:00",
          "2021-12-14T00:00:00",
          "2021-12-15T00:00:00",
          "2021-12-16T00:00:00",
          "2021-12-17T00:00:00",
          "2021-12-20T00:00:00",
          "2021-12-21T00:00:00",
          "2021-12-22T00:00:00",
          "2021-12-23T00:00:00",
          "2021-12-27T00:00:00",
          "2021-12-28T00:00:00",
          "2021-12-29T00:00:00",
          "2021-12-30T00:00:00"
         ],
         "xaxis": "x",
         "y": [
          -0.048919851612384324,
          -0.029299489881983165,
          -0.02731697283000556,
          -0.04020293330315483,
          -0.03778321799271023,
          -0.05119383417000667,
          -0.05609171803790691,
          -0.053846828648888345,
          -0.042214543523736214,
          -0.05320544439058805,
          -0.02236090262489787,
          -0.00880446472484453,
          -0.006501300028683987,
          -0.003294378737182302,
          -0.05364282058892422,
          -0.04174807415679649,
          -0.07929801298106953,
          -0.08976416917383956,
          -0.07606190955102943,
          -0.05667473801913092,
          -0.03798722605267468,
          -0.04352649417887533,
          -0.03320607073892756,
          -0.020874037078398522,
          -0.005480903849124363,
          -0.01279850302746921,
          -0.02227344517921781,
          -0.04480917372554161,
          -0.04451770821989687,
          -0.006180563414566631,
          0.013264883424473961,
          -0.00014582172275701133,
          -0.006530482167222296,
          -0.012594405997570224,
          0.006676125950109801,
          -0.005830733631845386,
          -0.016792541330093558,
          -0.005685000879023017,
          -0.02883302051504344,
          -0.014518558772471324,
          -0.05408010781732575,
          -0.0944870491804447,
          -0.0950992513002068,
          -0.10544885687869288,
          -0.07329236445786369,
          -0.05889044526961118,
          -0.03629635244621088,
          -0.03845369541961452,
          -0.038657792449513395,
          -0.024838982212419314,
          -0.027025507324361264,
          -0.003935762995482928,
          -0.0236436711414989,
          -0.026879685601604364,
          -0.05119383417000689,
          -0.02568437453068384,
          -0.0366170000903937,
          -0.02265245710047714,
          0.009241662983311194,
          0.009358302567529897,
          -0.00020409702989887535,
          0.003935674025547842
         ],
         "yaxis": "y"
        },
        {
         "hovertemplate": "variable=AMZN<br>Date=%{x}<br>value=%{y}<extra></extra>",
         "legendgroup": "AMZN",
         "line": {
          "color": "#EF553B",
          "dash": "solid"
         },
         "marker": {
          "symbol": "circle"
         },
         "mode": "lines",
         "name": "AMZN",
         "orientation": "v",
         "showlegend": true,
         "type": "scatter",
         "x": [
          "2021-10-04T00:00:00",
          "2021-10-05T00:00:00",
          "2021-10-06T00:00:00",
          "2021-10-07T00:00:00",
          "2021-10-08T00:00:00",
          "2021-10-11T00:00:00",
          "2021-10-12T00:00:00",
          "2021-10-13T00:00:00",
          "2021-10-14T00:00:00",
          "2021-10-15T00:00:00",
          "2021-10-18T00:00:00",
          "2021-10-19T00:00:00",
          "2021-10-20T00:00:00",
          "2021-10-21T00:00:00",
          "2021-10-22T00:00:00",
          "2021-10-25T00:00:00",
          "2021-10-26T00:00:00",
          "2021-10-27T00:00:00",
          "2021-10-28T00:00:00",
          "2021-10-29T00:00:00",
          "2021-11-01T00:00:00",
          "2021-11-02T00:00:00",
          "2021-11-03T00:00:00",
          "2021-11-04T00:00:00",
          "2021-11-05T00:00:00",
          "2021-11-08T00:00:00",
          "2021-11-09T00:00:00",
          "2021-11-10T00:00:00",
          "2021-11-11T00:00:00",
          "2021-11-12T00:00:00",
          "2021-11-15T00:00:00",
          "2021-11-16T00:00:00",
          "2021-11-17T00:00:00",
          "2021-11-18T00:00:00",
          "2021-11-19T00:00:00",
          "2021-11-22T00:00:00",
          "2021-11-23T00:00:00",
          "2021-11-24T00:00:00",
          "2021-11-26T00:00:00",
          "2021-11-29T00:00:00",
          "2021-11-30T00:00:00",
          "2021-12-01T00:00:00",
          "2021-12-02T00:00:00",
          "2021-12-03T00:00:00",
          "2021-12-06T00:00:00",
          "2021-12-07T00:00:00",
          "2021-12-08T00:00:00",
          "2021-12-09T00:00:00",
          "2021-12-10T00:00:00",
          "2021-12-13T00:00:00",
          "2021-12-14T00:00:00",
          "2021-12-15T00:00:00",
          "2021-12-16T00:00:00",
          "2021-12-17T00:00:00",
          "2021-12-20T00:00:00",
          "2021-12-21T00:00:00",
          "2021-12-22T00:00:00",
          "2021-12-23T00:00:00",
          "2021-12-27T00:00:00",
          "2021-12-28T00:00:00",
          "2021-12-29T00:00:00",
          "2021-12-30T00:00:00"
         ],
         "xaxis": "x",
         "y": [
          -0.028471678341373097,
          -0.01896280793777161,
          -0.006472225996985048,
          0.005838778441702219,
          0.001632556545999586,
          -0.011257055527557291,
          -0.01094335259298962,
          0.00031072856600289356,
          0.005055961815056298,
          0.038303453632289486,
          0.049792045162812215,
          0.04900318685001914,
          0.0401431005896129,
          0.04621936377141034,
          0.01592625648017343,
          0.011302786444241208,
          0.028267655247632417,
          0.033268777142275274,
          0.04974027255998181,
          0.0271590523141243,
          0.010614498968545272,
          0.008981942422545686,
          0.03068293547126033,
          0.05900849795688812,
          0.07179753919334808,
          0.06265730459374552,
          0.08923142873979972,
          0.06054652535193816,
          0.05763787174262558,
          0.07367380806362545,
          0.07992667437895729,
          0.0784099323089491,
          0.08093786674196846,
          0.12572869706112,
          0.11979260099793843,
          0.08811669117112664,
          0.0903918972251565,
          0.09050455143454794,
          0.06740253784279893,
          0.08476643677896023,
          0.06816704351296776,
          0.048872221684151285,
          0.04693507120731355,
          0.03244645718312866,
          0.04389238511455007,
          0.07310728380105025,
          0.07306768751953152,
          0.060963866441185344,
          0.04903060681022642,
          0.03292161256135406,
          0.030022067955771226,
          0.055749519500054134,
          0.028678861701715297,
          0.03566277204086221,
          0.017762836119914915,
          0.03809636322096699,
          0.04187306770611032,
          0.04206491447853944,
          0.03354288379532511,
          0.03958261801318619,
          0.030689070106425964,
          0.027299126483723235
         ],
         "yaxis": "y"
        },
        {
         "hovertemplate": "variable=NFLX<br>Date=%{x}<br>value=%{y}<extra></extra>",
         "legendgroup": "NFLX",
         "line": {
          "color": "#00cc96",
          "dash": "solid"
         },
         "marker": {
          "symbol": "circle"
         },
         "mode": "lines",
         "name": "NFLX",
         "orientation": "v",
         "showlegend": true,
         "type": "scatter",
         "x": [
          "2021-10-04T00:00:00",
          "2021-10-05T00:00:00",
          "2021-10-06T00:00:00",
          "2021-10-07T00:00:00",
          "2021-10-08T00:00:00",
          "2021-10-11T00:00:00",
          "2021-10-12T00:00:00",
          "2021-10-13T00:00:00",
          "2021-10-14T00:00:00",
          "2021-10-15T00:00:00",
          "2021-10-18T00:00:00",
          "2021-10-19T00:00:00",
          "2021-10-20T00:00:00",
          "2021-10-21T00:00:00",
          "2021-10-22T00:00:00",
          "2021-10-25T00:00:00",
          "2021-10-26T00:00:00",
          "2021-10-27T00:00:00",
          "2021-10-28T00:00:00",
          "2021-10-29T00:00:00",
          "2021-11-01T00:00:00",
          "2021-11-02T00:00:00",
          "2021-11-03T00:00:00",
          "2021-11-04T00:00:00",
          "2021-11-05T00:00:00",
          "2021-11-08T00:00:00",
          "2021-11-09T00:00:00",
          "2021-11-10T00:00:00",
          "2021-11-11T00:00:00",
          "2021-11-12T00:00:00",
          "2021-11-15T00:00:00",
          "2021-11-16T00:00:00",
          "2021-11-17T00:00:00",
          "2021-11-18T00:00:00",
          "2021-11-19T00:00:00",
          "2021-11-22T00:00:00",
          "2021-11-23T00:00:00",
          "2021-11-24T00:00:00",
          "2021-11-26T00:00:00",
          "2021-11-29T00:00:00",
          "2021-11-30T00:00:00",
          "2021-12-01T00:00:00",
          "2021-12-02T00:00:00",
          "2021-12-03T00:00:00",
          "2021-12-06T00:00:00",
          "2021-12-07T00:00:00",
          "2021-12-08T00:00:00",
          "2021-12-09T00:00:00",
          "2021-12-10T00:00:00",
          "2021-12-13T00:00:00",
          "2021-12-14T00:00:00",
          "2021-12-15T00:00:00",
          "2021-12-16T00:00:00",
          "2021-12-17T00:00:00",
          "2021-12-20T00:00:00",
          "2021-12-21T00:00:00",
          "2021-12-22T00:00:00",
          "2021-12-23T00:00:00",
          "2021-12-27T00:00:00",
          "2021-12-28T00:00:00",
          "2021-12-29T00:00:00",
          "2021-12-30T00:00:00"
         ],
         "xaxis": "x",
         "y": [
          -0.01598311740669034,
          0.03532573152097629,
          0.04232235201600654,
          0.030498165909305763,
          0.031819208927069464,
          0.022653434005086792,
          0.019228537157134573,
          0.027089594210544687,
          0.033678484150171384,
          0.024692086782104106,
          0.04047940194209554,
          0.042159299611282286,
          0.019554741510175777,
          0.06525311447015425,
          0.08420452226541308,
          0.09542517557001129,
          0.0903041554472741,
          0.08117093128008057,
          0.09932310357013074,
          0.12584191482054763,
          0.11093526182453428,
          0.1053085602512478,
          0.12254742007893782,
          0.09010845274416779,
          0.05311904915960297,
          0.06246430117909374,
          0.06986865222952754,
          0.05505985058506746,
          0.07246186236107444,
          0.1132837938054021,
          0.10793442068117676,
          0.12109597495483193,
          0.12809259544986218,
          0.11232160543906167,
          0.10706998412279667,
          0.07510394839660117,
          0.06672098428704354,
          0.07361975343052074,
          0.08560709148553847,
          0.08267145139535192,
          0.04688901387139932,
          0.007534852700368466,
          0.005414574177396325,
          -0.017972794736135222,
          -0.0007502600576361207,
          0.02027235126942939,
          0.024349656823464016,
          -0.0035065225939072686,
          -0.002430157726822868,
          -0.014009665682844452,
          -0.024724836624078872,
          -0.013226854870419413,
          -0.036027115674632126,
          -0.04308903676642628,
          -0.03165625606593814,
          -0.01342255757352584,
          0.0017776494771468698,
          0.0015330708700604934,
          -0.000048975447573096353,
          -0.0039794542024818025,
          -0.004256782651542834,
          -0.0017287735731671416
         ],
         "yaxis": "y"
        },
        {
         "hovertemplate": "variable=GOOG<br>Date=%{x}<br>value=%{y}<extra></extra>",
         "legendgroup": "GOOG",
         "line": {
          "color": "#ab63fa",
          "dash": "solid"
         },
         "marker": {
          "symbol": "circle"
         },
         "mode": "lines",
         "name": "GOOG",
         "orientation": "v",
         "showlegend": true,
         "type": "scatter",
         "x": [
          "2021-10-04T00:00:00",
          "2021-10-05T00:00:00",
          "2021-10-06T00:00:00",
          "2021-10-07T00:00:00",
          "2021-10-08T00:00:00",
          "2021-10-11T00:00:00",
          "2021-10-12T00:00:00",
          "2021-10-13T00:00:00",
          "2021-10-14T00:00:00",
          "2021-10-15T00:00:00",
          "2021-10-18T00:00:00",
          "2021-10-19T00:00:00",
          "2021-10-20T00:00:00",
          "2021-10-21T00:00:00",
          "2021-10-22T00:00:00",
          "2021-10-25T00:00:00",
          "2021-10-26T00:00:00",
          "2021-10-27T00:00:00",
          "2021-10-28T00:00:00",
          "2021-10-29T00:00:00",
          "2021-11-01T00:00:00",
          "2021-11-02T00:00:00",
          "2021-11-03T00:00:00",
          "2021-11-04T00:00:00",
          "2021-11-05T00:00:00",
          "2021-11-08T00:00:00",
          "2021-11-09T00:00:00",
          "2021-11-10T00:00:00",
          "2021-11-11T00:00:00",
          "2021-11-12T00:00:00",
          "2021-11-15T00:00:00",
          "2021-11-16T00:00:00",
          "2021-11-17T00:00:00",
          "2021-11-18T00:00:00",
          "2021-11-19T00:00:00",
          "2021-11-22T00:00:00",
          "2021-11-23T00:00:00",
          "2021-11-24T00:00:00",
          "2021-11-26T00:00:00",
          "2021-11-29T00:00:00",
          "2021-11-30T00:00:00",
          "2021-12-01T00:00:00",
          "2021-12-02T00:00:00",
          "2021-12-03T00:00:00",
          "2021-12-06T00:00:00",
          "2021-12-07T00:00:00",
          "2021-12-08T00:00:00",
          "2021-12-09T00:00:00",
          "2021-12-10T00:00:00",
          "2021-12-13T00:00:00",
          "2021-12-14T00:00:00",
          "2021-12-15T00:00:00",
          "2021-12-16T00:00:00",
          "2021-12-17T00:00:00",
          "2021-12-20T00:00:00",
          "2021-12-21T00:00:00",
          "2021-12-22T00:00:00",
          "2021-12-23T00:00:00",
          "2021-12-27T00:00:00",
          "2021-12-28T00:00:00",
          "2021-12-29T00:00:00",
          "2021-12-30T00:00:00"
         ],
         "xaxis": "x",
         "y": [
          -0.019767295978645683,
          -0.002092090912364175,
          0.006533003936172177,
          0.019954253541738742,
          0.0263332858484977,
          0.017477401280927563,
          0.0018356951634570517,
          0.010534029966434932,
          0.036270102690243444,
          0.03819737575093329,
          0.047617487509513,
          0.053930659765636824,
          0.043620039614429285,
          0.046298497429221985,
          0.015846889806631292,
          0.016931400215985715,
          0.02351930616380793,
          0.07302381271324876,
          0.07083634213502443,
          0.08652926031224184,
          0.05357888435086955,
          0.06888715299636439,
          0.07568013081662261,
          0.08955211363799576,
          0.09364113943031227,
          0.0944509161479683,
          0.09369615325868685,
          0.0744784364801625,
          0.07537241119124505,
          0.0966052889757889,
          0.09471838175258496,
          0.09243206519004588,
          0.09232941743710366,
          0.10439869102869936,
          0.09885504146946977,
          0.07779436144040641,
          0.07543838305860451,
          0.07514888955929333,
          0.04648534317559161,
          0.07072642629500114,
          0.04389119517095019,
          0.03777962846880789,
          0.05359722229366204,
          0.04439314044650344,
          0.053743702202544874,
          0.08481455084451972,
          0.08982695914641936,
          0.08532387602387925,
          0.08949352167444347,
          0.07505362171015761,
          0.06234688097311092,
          0.0799194382864501,
          0.06137955449086263,
          0.046463315280896866,
          0.043521193630115196,
          0.056850865338448964,
          0.0768453729009495,
          0.07826332078227982,
          0.08501604458177647,
          0.07317398257403562,
          0.07358803990425922,
          0.06990938149026316
         ],
         "yaxis": "y"
        },
        {
         "hovertemplate": "variable=MSFT<br>Date=%{x}<br>value=%{y}<extra></extra>",
         "legendgroup": "MSFT",
         "line": {
          "color": "#FFA15A",
          "dash": "solid"
         },
         "marker": {
          "symbol": "circle"
         },
         "mode": "lines",
         "name": "MSFT",
         "orientation": "v",
         "showlegend": true,
         "type": "scatter",
         "x": [
          "2021-10-04T00:00:00",
          "2021-10-05T00:00:00",
          "2021-10-06T00:00:00",
          "2021-10-07T00:00:00",
          "2021-10-08T00:00:00",
          "2021-10-11T00:00:00",
          "2021-10-12T00:00:00",
          "2021-10-13T00:00:00",
          "2021-10-14T00:00:00",
          "2021-10-15T00:00:00",
          "2021-10-18T00:00:00",
          "2021-10-19T00:00:00",
          "2021-10-20T00:00:00",
          "2021-10-21T00:00:00",
          "2021-10-22T00:00:00",
          "2021-10-25T00:00:00",
          "2021-10-26T00:00:00",
          "2021-10-27T00:00:00",
          "2021-10-28T00:00:00",
          "2021-10-29T00:00:00",
          "2021-11-01T00:00:00",
          "2021-11-02T00:00:00",
          "2021-11-03T00:00:00",
          "2021-11-04T00:00:00",
          "2021-11-05T00:00:00",
          "2021-11-08T00:00:00",
          "2021-11-09T00:00:00",
          "2021-11-10T00:00:00",
          "2021-11-11T00:00:00",
          "2021-11-12T00:00:00",
          "2021-11-15T00:00:00",
          "2021-11-16T00:00:00",
          "2021-11-17T00:00:00",
          "2021-11-18T00:00:00",
          "2021-11-19T00:00:00",
          "2021-11-22T00:00:00",
          "2021-11-23T00:00:00",
          "2021-11-24T00:00:00",
          "2021-11-26T00:00:00",
          "2021-11-29T00:00:00",
          "2021-11-30T00:00:00",
          "2021-12-01T00:00:00",
          "2021-12-02T00:00:00",
          "2021-12-03T00:00:00",
          "2021-12-06T00:00:00",
          "2021-12-07T00:00:00",
          "2021-12-08T00:00:00",
          "2021-12-09T00:00:00",
          "2021-12-10T00:00:00",
          "2021-12-13T00:00:00",
          "2021-12-14T00:00:00",
          "2021-12-15T00:00:00",
          "2021-12-16T00:00:00",
          "2021-12-17T00:00:00",
          "2021-12-20T00:00:00",
          "2021-12-21T00:00:00",
          "2021-12-22T00:00:00",
          "2021-12-23T00:00:00",
          "2021-12-27T00:00:00",
          "2021-12-28T00:00:00",
          "2021-12-29T00:00:00",
          "2021-12-30T00:00:00"
         ],
         "xaxis": "x",
         "y": [
          -0.02071960120797578,
          -0.0011761666405165627,
          0.013870444070203547,
          0.01988941009242562,
          0.01988941009242562,
          0.017744919516719637,
          0.013075107897497329,
          0.024939408703590127,
          0.04721557803598064,
          0.05226557664714515,
          0.06291949934574581,
          0.06617087566019286,
          0.06333432678857598,
          0.07492204021745619,
          0.06938771876972982,
          0.06582500738120434,
          0.07267362828908652,
          0.11784852985604677,
          0.12193009728604376,
          0.14707702695702718,
          0.13929440082690925,
          0.15230033506860874,
          0.15530954996477475,
          0.16374948669393752,
          0.1624350799878036,
          0.16565203034331866,
          0.16205457125792733,
          0.14424069257736605,
          0.149878828131778,
          0.1647180251210829,
          0.16246972043869135,
          0.1743686616956721,
          0.17516571380402635,
          0.18261619914033744,
          0.1889922942692357,
          0.1776261510308641,
          0.170175665694553,
          0.17097271780290701,
          0.14245279487844642,
          0.16653713139959514,
          0.14560636286097495,
          0.14383894914384965,
          0.1417945190655998,
          0.11933924894998116,
          0.13035877318751865,
          0.16061114764028273,
          0.16078456438667788,
          0.15430433341315997,
          0.18701725233873967,
          0.17613607541279763,
          0.13780936576980762,
          0.15967553372837706,
          0.12588854633331859,
          0.12207670253794345,
          0.10859652658161223,
          0.13417083147484932,
          0.15465084516801575,
          0.15981441726986212,
          0.18670538103477097,
          0.1825469182385615,
          0.1849727150145115,
          0.17585884455971668
         ],
         "yaxis": "y"
        },
        {
         "hovertemplate": "variable=NVDA<br>Date=%{x}<br>value=%{y}<extra></extra>",
         "legendgroup": "NVDA",
         "line": {
          "color": "#19d3f3",
          "dash": "solid"
         },
         "marker": {
          "symbol": "circle"
         },
         "mode": "lines",
         "name": "NVDA",
         "orientation": "v",
         "showlegend": true,
         "type": "scatter",
         "x": [
          "2021-10-04T00:00:00",
          "2021-10-05T00:00:00",
          "2021-10-06T00:00:00",
          "2021-10-07T00:00:00",
          "2021-10-08T00:00:00",
          "2021-10-11T00:00:00",
          "2021-10-12T00:00:00",
          "2021-10-13T00:00:00",
          "2021-10-14T00:00:00",
          "2021-10-15T00:00:00",
          "2021-10-18T00:00:00",
          "2021-10-19T00:00:00",
          "2021-10-20T00:00:00",
          "2021-10-21T00:00:00",
          "2021-10-22T00:00:00",
          "2021-10-25T00:00:00",
          "2021-10-26T00:00:00",
          "2021-10-27T00:00:00",
          "2021-10-28T00:00:00",
          "2021-10-29T00:00:00",
          "2021-11-01T00:00:00",
          "2021-11-02T00:00:00",
          "2021-11-03T00:00:00",
          "2021-11-04T00:00:00",
          "2021-11-05T00:00:00",
          "2021-11-08T00:00:00",
          "2021-11-09T00:00:00",
          "2021-11-10T00:00:00",
          "2021-11-11T00:00:00",
          "2021-11-12T00:00:00",
          "2021-11-15T00:00:00",
          "2021-11-16T00:00:00",
          "2021-11-17T00:00:00",
          "2021-11-18T00:00:00",
          "2021-11-19T00:00:00",
          "2021-11-22T00:00:00",
          "2021-11-23T00:00:00",
          "2021-11-24T00:00:00",
          "2021-11-26T00:00:00",
          "2021-11-29T00:00:00",
          "2021-11-30T00:00:00",
          "2021-12-01T00:00:00",
          "2021-12-02T00:00:00",
          "2021-12-03T00:00:00",
          "2021-12-06T00:00:00",
          "2021-12-07T00:00:00",
          "2021-12-08T00:00:00",
          "2021-12-09T00:00:00",
          "2021-12-10T00:00:00",
          "2021-12-13T00:00:00",
          "2021-12-14T00:00:00",
          "2021-12-15T00:00:00",
          "2021-12-16T00:00:00",
          "2021-12-17T00:00:00",
          "2021-12-20T00:00:00",
          "2021-12-21T00:00:00",
          "2021-12-22T00:00:00",
          "2021-12-23T00:00:00",
          "2021-12-27T00:00:00",
          "2021-12-28T00:00:00",
          "2021-12-29T00:00:00",
          "2021-12-30T00:00:00"
         ],
         "xaxis": "x",
         "y": [
          -0.04869347070482688,
          -0.014029584269058759,
          -0.002024923380381738,
          0.01605436033943164,
          0.004290698625081912,
          -0.002266069864718001,
          -0.003422969018495592,
          0.009497591849631837,
          0.048404153847626974,
          0.05399663102009988,
          0.0713527699069223,
          0.07463115415182209,
          0.06561563430584938,
          0.09401199545401306,
          0.0956513348864716,
          0.11686427076758044,
          0.19164008334800253,
          0.17881586322560272,
          0.20243938009002083,
          0.23261973909924305,
          0.24515464236444307,
          0.27282800598962464,
          0.2823256714942608,
          0.4367467763045956,
          0.4343843656941502,
          0.4851027597793587,
          0.4780155279480227,
          0.4202580724043419,
          0.4651431374527588,
          0.4651431374527588,
          0.44754592573660457,
          0.45612776491679474,
          0.4107123838368505,
          0.5270948035657854,
          0.5902514655504492,
          0.5406418739011589,
          0.5305176989292768,
          0.5752579582390853,
          0.5188024285528041,
          0.6091022854411305,
          0.5753544462948217,
          0.5157095076089302,
          0.5490277907697023,
          0.479932325781977,
          0.44830177339154065,
          0.5635409201425079,
          0.5345625371497431,
          0.4701443122500797,
          0.4560647162330478,
          0.35784620982395765,
          0.366332592118473,
          0.468649410281208,
          0.3687433204117909,
          0.3404880822520171,
          0.33653428161696364,
          0.40191694514396303,
          0.417587341945568,
          0.42915957430353724,
          0.49208319185434624,
          0.46204358755849184,
          0.44656616686835915,
          0.4265557225887382
         ],
         "yaxis": "y"
        },
        {
         "hovertemplate": "variable=TSLA<br>Date=%{x}<br>value=%{y}<extra></extra>",
         "legendgroup": "TSLA",
         "line": {
          "color": "#FF6692",
          "dash": "solid"
         },
         "marker": {
          "symbol": "circle"
         },
         "mode": "lines",
         "name": "TSLA",
         "orientation": "v",
         "showlegend": true,
         "type": "scatter",
         "x": [
          "2021-10-04T00:00:00",
          "2021-10-05T00:00:00",
          "2021-10-06T00:00:00",
          "2021-10-07T00:00:00",
          "2021-10-08T00:00:00",
          "2021-10-11T00:00:00",
          "2021-10-12T00:00:00",
          "2021-10-13T00:00:00",
          "2021-10-14T00:00:00",
          "2021-10-15T00:00:00",
          "2021-10-18T00:00:00",
          "2021-10-19T00:00:00",
          "2021-10-20T00:00:00",
          "2021-10-21T00:00:00",
          "2021-10-22T00:00:00",
          "2021-10-25T00:00:00",
          "2021-10-26T00:00:00",
          "2021-10-27T00:00:00",
          "2021-10-28T00:00:00",
          "2021-10-29T00:00:00",
          "2021-11-01T00:00:00",
          "2021-11-02T00:00:00",
          "2021-11-03T00:00:00",
          "2021-11-04T00:00:00",
          "2021-11-05T00:00:00",
          "2021-11-08T00:00:00",
          "2021-11-09T00:00:00",
          "2021-11-10T00:00:00",
          "2021-11-11T00:00:00",
          "2021-11-12T00:00:00",
          "2021-11-15T00:00:00",
          "2021-11-16T00:00:00",
          "2021-11-17T00:00:00",
          "2021-11-18T00:00:00",
          "2021-11-19T00:00:00",
          "2021-11-22T00:00:00",
          "2021-11-23T00:00:00",
          "2021-11-24T00:00:00",
          "2021-11-26T00:00:00",
          "2021-11-29T00:00:00",
          "2021-11-30T00:00:00",
          "2021-12-01T00:00:00",
          "2021-12-02T00:00:00",
          "2021-12-03T00:00:00",
          "2021-12-06T00:00:00",
          "2021-12-07T00:00:00",
          "2021-12-08T00:00:00",
          "2021-12-09T00:00:00",
          "2021-12-10T00:00:00",
          "2021-12-13T00:00:00",
          "2021-12-14T00:00:00",
          "2021-12-15T00:00:00",
          "2021-12-16T00:00:00",
          "2021-12-17T00:00:00",
          "2021-12-20T00:00:00",
          "2021-12-21T00:00:00",
          "2021-12-22T00:00:00",
          "2021-12-23T00:00:00",
          "2021-12-27T00:00:00",
          "2021-12-28T00:00:00",
          "2021-12-29T00:00:00",
          "2021-12-30T00:00:00"
         ],
         "xaxis": "x",
         "y": [
          0.008139621398127295,
          0.006926980550270745,
          0.009713290983020872,
          0.023722316110951658,
          0.013247758775643659,
          0.021568071690835744,
          0.03934362920683521,
          0.046257736962752816,
          0.055597126414383524,
          0.08747193671781539,
          0.1224039766305638,
          0.11487055755733411,
          0.11684422855941623,
          0.15322097391546707,
          0.1734474406168547,
          0.3220246425437585,
          0.31373019331630325,
          0.3387941144167026,
          0.38933459463098163,
          0.4370114095473616,
          0.5590283756541208,
          0.511828798921047,
          0.5658263920627999,
          0.5865302150465246,
          0.576442786334052,
          0.5001418369359438,
          0.3202702814417997,
          0.37760889616378845,
          0.3718814474689598,
          0.3330666657218735,
          0.30722884167289544,
          0.3605556323199246,
          0.4047753343088303,
          0.4142823062851113,
          0.4667577210193825,
          0.492311753097441,
          0.4306002855634552,
          0.43959128287434046,
          0.39562962726764805,
          0.4666674933598809,
          0.4766904400015577,
          0.4125021995944467,
          0.39908662209609114,
          0.3092669947457729,
          0.30157886594224603,
          0.356711626967676,
          0.37891176467114573,
          0.29485820439871513,
          0.3119243410369317,
          0.24662667833484941,
          0.23643603106949151,
          0.25898444281467636,
          0.19568631480241305,
          0.20297456028778238,
          0.16088335713028679,
          0.21066268909130947,
          0.301398292524212,
          0.3763833825215783,
          0.4111348490162927,
          0.40407878622540006,
          0.40113764796332174,
          0.38069187136181015
         ],
         "yaxis": "y"
        }
       ],
       "layout": {
        "height": 800,
        "legend": {
         "title": {
          "text": "variable"
         },
         "tracegroupgap": 0
        },
        "margin": {
         "t": 60
        },
        "template": {
         "data": {
          "bar": [
           {
            "error_x": {
             "color": "#f2f5fa"
            },
            "error_y": {
             "color": "#f2f5fa"
            },
            "marker": {
             "line": {
              "color": "rgb(17,17,17)",
              "width": 0.5
             },
             "pattern": {
              "fillmode": "overlay",
              "size": 10,
              "solidity": 0.2
             }
            },
            "type": "bar"
           }
          ],
          "barpolar": [
           {
            "marker": {
             "line": {
              "color": "rgb(17,17,17)",
              "width": 0.5
             },
             "pattern": {
              "fillmode": "overlay",
              "size": 10,
              "solidity": 0.2
             }
            },
            "type": "barpolar"
           }
          ],
          "carpet": [
           {
            "aaxis": {
             "endlinecolor": "#A2B1C6",
             "gridcolor": "#506784",
             "linecolor": "#506784",
             "minorgridcolor": "#506784",
             "startlinecolor": "#A2B1C6"
            },
            "baxis": {
             "endlinecolor": "#A2B1C6",
             "gridcolor": "#506784",
             "linecolor": "#506784",
             "minorgridcolor": "#506784",
             "startlinecolor": "#A2B1C6"
            },
            "type": "carpet"
           }
          ],
          "choropleth": [
           {
            "colorbar": {
             "outlinewidth": 0,
             "ticks": ""
            },
            "type": "choropleth"
           }
          ],
          "contour": [
           {
            "colorbar": {
             "outlinewidth": 0,
             "ticks": ""
            },
            "colorscale": [
             [
              0,
              "#0d0887"
             ],
             [
              0.1111111111111111,
              "#46039f"
             ],
             [
              0.2222222222222222,
              "#7201a8"
             ],
             [
              0.3333333333333333,
              "#9c179e"
             ],
             [
              0.4444444444444444,
              "#bd3786"
             ],
             [
              0.5555555555555556,
              "#d8576b"
             ],
             [
              0.6666666666666666,
              "#ed7953"
             ],
             [
              0.7777777777777778,
              "#fb9f3a"
             ],
             [
              0.8888888888888888,
              "#fdca26"
             ],
             [
              1,
              "#f0f921"
             ]
            ],
            "type": "contour"
           }
          ],
          "contourcarpet": [
           {
            "colorbar": {
             "outlinewidth": 0,
             "ticks": ""
            },
            "type": "contourcarpet"
           }
          ],
          "heatmap": [
           {
            "colorbar": {
             "outlinewidth": 0,
             "ticks": ""
            },
            "colorscale": [
             [
              0,
              "#0d0887"
             ],
             [
              0.1111111111111111,
              "#46039f"
             ],
             [
              0.2222222222222222,
              "#7201a8"
             ],
             [
              0.3333333333333333,
              "#9c179e"
             ],
             [
              0.4444444444444444,
              "#bd3786"
             ],
             [
              0.5555555555555556,
              "#d8576b"
             ],
             [
              0.6666666666666666,
              "#ed7953"
             ],
             [
              0.7777777777777778,
              "#fb9f3a"
             ],
             [
              0.8888888888888888,
              "#fdca26"
             ],
             [
              1,
              "#f0f921"
             ]
            ],
            "type": "heatmap"
           }
          ],
          "heatmapgl": [
           {
            "colorbar": {
             "outlinewidth": 0,
             "ticks": ""
            },
            "colorscale": [
             [
              0,
              "#0d0887"
             ],
             [
              0.1111111111111111,
              "#46039f"
             ],
             [
              0.2222222222222222,
              "#7201a8"
             ],
             [
              0.3333333333333333,
              "#9c179e"
             ],
             [
              0.4444444444444444,
              "#bd3786"
             ],
             [
              0.5555555555555556,
              "#d8576b"
             ],
             [
              0.6666666666666666,
              "#ed7953"
             ],
             [
              0.7777777777777778,
              "#fb9f3a"
             ],
             [
              0.8888888888888888,
              "#fdca26"
             ],
             [
              1,
              "#f0f921"
             ]
            ],
            "type": "heatmapgl"
           }
          ],
          "histogram": [
           {
            "marker": {
             "pattern": {
              "fillmode": "overlay",
              "size": 10,
              "solidity": 0.2
             }
            },
            "type": "histogram"
           }
          ],
          "histogram2d": [
           {
            "colorbar": {
             "outlinewidth": 0,
             "ticks": ""
            },
            "colorscale": [
             [
              0,
              "#0d0887"
             ],
             [
              0.1111111111111111,
              "#46039f"
             ],
             [
              0.2222222222222222,
              "#7201a8"
             ],
             [
              0.3333333333333333,
              "#9c179e"
             ],
             [
              0.4444444444444444,
              "#bd3786"
             ],
             [
              0.5555555555555556,
              "#d8576b"
             ],
             [
              0.6666666666666666,
              "#ed7953"
             ],
             [
              0.7777777777777778,
              "#fb9f3a"
             ],
             [
              0.8888888888888888,
              "#fdca26"
             ],
             [
              1,
              "#f0f921"
             ]
            ],
            "type": "histogram2d"
           }
          ],
          "histogram2dcontour": [
           {
            "colorbar": {
             "outlinewidth": 0,
             "ticks": ""
            },
            "colorscale": [
             [
              0,
              "#0d0887"
             ],
             [
              0.1111111111111111,
              "#46039f"
             ],
             [
              0.2222222222222222,
              "#7201a8"
             ],
             [
              0.3333333333333333,
              "#9c179e"
             ],
             [
              0.4444444444444444,
              "#bd3786"
             ],
             [
              0.5555555555555556,
              "#d8576b"
             ],
             [
              0.6666666666666666,
              "#ed7953"
             ],
             [
              0.7777777777777778,
              "#fb9f3a"
             ],
             [
              0.8888888888888888,
              "#fdca26"
             ],
             [
              1,
              "#f0f921"
             ]
            ],
            "type": "histogram2dcontour"
           }
          ],
          "mesh3d": [
           {
            "colorbar": {
             "outlinewidth": 0,
             "ticks": ""
            },
            "type": "mesh3d"
           }
          ],
          "parcoords": [
           {
            "line": {
             "colorbar": {
              "outlinewidth": 0,
              "ticks": ""
             }
            },
            "type": "parcoords"
           }
          ],
          "pie": [
           {
            "automargin": true,
            "type": "pie"
           }
          ],
          "scatter": [
           {
            "marker": {
             "line": {
              "color": "#283442"
             }
            },
            "type": "scatter"
           }
          ],
          "scatter3d": [
           {
            "line": {
             "colorbar": {
              "outlinewidth": 0,
              "ticks": ""
             }
            },
            "marker": {
             "colorbar": {
              "outlinewidth": 0,
              "ticks": ""
             }
            },
            "type": "scatter3d"
           }
          ],
          "scattercarpet": [
           {
            "marker": {
             "colorbar": {
              "outlinewidth": 0,
              "ticks": ""
             }
            },
            "type": "scattercarpet"
           }
          ],
          "scattergeo": [
           {
            "marker": {
             "colorbar": {
              "outlinewidth": 0,
              "ticks": ""
             }
            },
            "type": "scattergeo"
           }
          ],
          "scattergl": [
           {
            "marker": {
             "line": {
              "color": "#283442"
             }
            },
            "type": "scattergl"
           }
          ],
          "scattermapbox": [
           {
            "marker": {
             "colorbar": {
              "outlinewidth": 0,
              "ticks": ""
             }
            },
            "type": "scattermapbox"
           }
          ],
          "scatterpolar": [
           {
            "marker": {
             "colorbar": {
              "outlinewidth": 0,
              "ticks": ""
             }
            },
            "type": "scatterpolar"
           }
          ],
          "scatterpolargl": [
           {
            "marker": {
             "colorbar": {
              "outlinewidth": 0,
              "ticks": ""
             }
            },
            "type": "scatterpolargl"
           }
          ],
          "scatterternary": [
           {
            "marker": {
             "colorbar": {
              "outlinewidth": 0,
              "ticks": ""
             }
            },
            "type": "scatterternary"
           }
          ],
          "surface": [
           {
            "colorbar": {
             "outlinewidth": 0,
             "ticks": ""
            },
            "colorscale": [
             [
              0,
              "#0d0887"
             ],
             [
              0.1111111111111111,
              "#46039f"
             ],
             [
              0.2222222222222222,
              "#7201a8"
             ],
             [
              0.3333333333333333,
              "#9c179e"
             ],
             [
              0.4444444444444444,
              "#bd3786"
             ],
             [
              0.5555555555555556,
              "#d8576b"
             ],
             [
              0.6666666666666666,
              "#ed7953"
             ],
             [
              0.7777777777777778,
              "#fb9f3a"
             ],
             [
              0.8888888888888888,
              "#fdca26"
             ],
             [
              1,
              "#f0f921"
             ]
            ],
            "type": "surface"
           }
          ],
          "table": [
           {
            "cells": {
             "fill": {
              "color": "#506784"
             },
             "line": {
              "color": "rgb(17,17,17)"
             }
            },
            "header": {
             "fill": {
              "color": "#2a3f5f"
             },
             "line": {
              "color": "rgb(17,17,17)"
             }
            },
            "type": "table"
           }
          ]
         },
         "layout": {
          "annotationdefaults": {
           "arrowcolor": "#f2f5fa",
           "arrowhead": 0,
           "arrowwidth": 1
          },
          "autotypenumbers": "strict",
          "coloraxis": {
           "colorbar": {
            "outlinewidth": 0,
            "ticks": ""
           }
          },
          "colorscale": {
           "diverging": [
            [
             0,
             "#8e0152"
            ],
            [
             0.1,
             "#c51b7d"
            ],
            [
             0.2,
             "#de77ae"
            ],
            [
             0.3,
             "#f1b6da"
            ],
            [
             0.4,
             "#fde0ef"
            ],
            [
             0.5,
             "#f7f7f7"
            ],
            [
             0.6,
             "#e6f5d0"
            ],
            [
             0.7,
             "#b8e186"
            ],
            [
             0.8,
             "#7fbc41"
            ],
            [
             0.9,
             "#4d9221"
            ],
            [
             1,
             "#276419"
            ]
           ],
           "sequential": [
            [
             0,
             "#0d0887"
            ],
            [
             0.1111111111111111,
             "#46039f"
            ],
            [
             0.2222222222222222,
             "#7201a8"
            ],
            [
             0.3333333333333333,
             "#9c179e"
            ],
            [
             0.4444444444444444,
             "#bd3786"
            ],
            [
             0.5555555555555556,
             "#d8576b"
            ],
            [
             0.6666666666666666,
             "#ed7953"
            ],
            [
             0.7777777777777778,
             "#fb9f3a"
            ],
            [
             0.8888888888888888,
             "#fdca26"
            ],
            [
             1,
             "#f0f921"
            ]
           ],
           "sequentialminus": [
            [
             0,
             "#0d0887"
            ],
            [
             0.1111111111111111,
             "#46039f"
            ],
            [
             0.2222222222222222,
             "#7201a8"
            ],
            [
             0.3333333333333333,
             "#9c179e"
            ],
            [
             0.4444444444444444,
             "#bd3786"
            ],
            [
             0.5555555555555556,
             "#d8576b"
            ],
            [
             0.6666666666666666,
             "#ed7953"
            ],
            [
             0.7777777777777778,
             "#fb9f3a"
            ],
            [
             0.8888888888888888,
             "#fdca26"
            ],
            [
             1,
             "#f0f921"
            ]
           ]
          },
          "colorway": [
           "#636efa",
           "#EF553B",
           "#00cc96",
           "#ab63fa",
           "#FFA15A",
           "#19d3f3",
           "#FF6692",
           "#B6E880",
           "#FF97FF",
           "#FECB52"
          ],
          "font": {
           "color": "#f2f5fa"
          },
          "geo": {
           "bgcolor": "rgb(17,17,17)",
           "lakecolor": "rgb(17,17,17)",
           "landcolor": "rgb(17,17,17)",
           "showlakes": true,
           "showland": true,
           "subunitcolor": "#506784"
          },
          "hoverlabel": {
           "align": "left"
          },
          "hovermode": "closest",
          "mapbox": {
           "style": "dark"
          },
          "paper_bgcolor": "rgb(17,17,17)",
          "plot_bgcolor": "rgb(17,17,17)",
          "polar": {
           "angularaxis": {
            "gridcolor": "#506784",
            "linecolor": "#506784",
            "ticks": ""
           },
           "bgcolor": "rgb(17,17,17)",
           "radialaxis": {
            "gridcolor": "#506784",
            "linecolor": "#506784",
            "ticks": ""
           }
          },
          "scene": {
           "xaxis": {
            "backgroundcolor": "rgb(17,17,17)",
            "gridcolor": "#506784",
            "gridwidth": 2,
            "linecolor": "#506784",
            "showbackground": true,
            "ticks": "",
            "zerolinecolor": "#C8D4E3"
           },
           "yaxis": {
            "backgroundcolor": "rgb(17,17,17)",
            "gridcolor": "#506784",
            "gridwidth": 2,
            "linecolor": "#506784",
            "showbackground": true,
            "ticks": "",
            "zerolinecolor": "#C8D4E3"
           },
           "zaxis": {
            "backgroundcolor": "rgb(17,17,17)",
            "gridcolor": "#506784",
            "gridwidth": 2,
            "linecolor": "#506784",
            "showbackground": true,
            "ticks": "",
            "zerolinecolor": "#C8D4E3"
           }
          },
          "shapedefaults": {
           "line": {
            "color": "#f2f5fa"
           }
          },
          "sliderdefaults": {
           "bgcolor": "#C8D4E3",
           "bordercolor": "rgb(17,17,17)",
           "borderwidth": 1,
           "tickwidth": 0
          },
          "ternary": {
           "aaxis": {
            "gridcolor": "#506784",
            "linecolor": "#506784",
            "ticks": ""
           },
           "baxis": {
            "gridcolor": "#506784",
            "linecolor": "#506784",
            "ticks": ""
           },
           "bgcolor": "rgb(17,17,17)",
           "caxis": {
            "gridcolor": "#506784",
            "linecolor": "#506784",
            "ticks": ""
           }
          },
          "title": {
           "x": 0.05
          },
          "updatemenudefaults": {
           "bgcolor": "#506784",
           "borderwidth": 0
          },
          "xaxis": {
           "automargin": true,
           "gridcolor": "#283442",
           "linecolor": "#506784",
           "ticks": "",
           "title": {
            "standoff": 15
           },
           "zerolinecolor": "#283442",
           "zerolinewidth": 2
          },
          "yaxis": {
           "automargin": true,
           "gridcolor": "#283442",
           "linecolor": "#506784",
           "ticks": "",
           "title": {
            "standoff": 15
           },
           "zerolinecolor": "#283442",
           "zerolinewidth": 2
          }
         }
        },
        "width": 1200,
        "xaxis": {
         "anchor": "y",
         "domain": [
          0,
          1
         ],
         "title": {
          "text": "Date"
         }
        },
        "yaxis": {
         "anchor": "x",
         "domain": [
          0,
          1
         ],
         "title": {
          "text": "value"
         }
        }
       }
      },
      "text/html": [
       "<div>                            <div id=\"957d943f-e078-43e5-9cbe-39b0ae504f9b\" class=\"plotly-graph-div\" style=\"height:800px; width:1200px;\"></div>            <script type=\"text/javascript\">                require([\"plotly\"], function(Plotly) {                    window.PLOTLYENV=window.PLOTLYENV || {};                                    if (document.getElementById(\"957d943f-e078-43e5-9cbe-39b0ae504f9b\")) {                    Plotly.newPlot(                        \"957d943f-e078-43e5-9cbe-39b0ae504f9b\",                        [{\"hovertemplate\":\"variable=META<br>Date=%{x}<br>value=%{y}<extra></extra>\",\"legendgroup\":\"META\",\"line\":{\"color\":\"#636efa\",\"dash\":\"solid\"},\"marker\":{\"symbol\":\"circle\"},\"mode\":\"lines\",\"name\":\"META\",\"orientation\":\"v\",\"showlegend\":true,\"x\":[\"2021-10-04T00:00:00\",\"2021-10-05T00:00:00\",\"2021-10-06T00:00:00\",\"2021-10-07T00:00:00\",\"2021-10-08T00:00:00\",\"2021-10-11T00:00:00\",\"2021-10-12T00:00:00\",\"2021-10-13T00:00:00\",\"2021-10-14T00:00:00\",\"2021-10-15T00:00:00\",\"2021-10-18T00:00:00\",\"2021-10-19T00:00:00\",\"2021-10-20T00:00:00\",\"2021-10-21T00:00:00\",\"2021-10-22T00:00:00\",\"2021-10-25T00:00:00\",\"2021-10-26T00:00:00\",\"2021-10-27T00:00:00\",\"2021-10-28T00:00:00\",\"2021-10-29T00:00:00\",\"2021-11-01T00:00:00\",\"2021-11-02T00:00:00\",\"2021-11-03T00:00:00\",\"2021-11-04T00:00:00\",\"2021-11-05T00:00:00\",\"2021-11-08T00:00:00\",\"2021-11-09T00:00:00\",\"2021-11-10T00:00:00\",\"2021-11-11T00:00:00\",\"2021-11-12T00:00:00\",\"2021-11-15T00:00:00\",\"2021-11-16T00:00:00\",\"2021-11-17T00:00:00\",\"2021-11-18T00:00:00\",\"2021-11-19T00:00:00\",\"2021-11-22T00:00:00\",\"2021-11-23T00:00:00\",\"2021-11-24T00:00:00\",\"2021-11-26T00:00:00\",\"2021-11-29T00:00:00\",\"2021-11-30T00:00:00\",\"2021-12-01T00:00:00\",\"2021-12-02T00:00:00\",\"2021-12-03T00:00:00\",\"2021-12-06T00:00:00\",\"2021-12-07T00:00:00\",\"2021-12-08T00:00:00\",\"2021-12-09T00:00:00\",\"2021-12-10T00:00:00\",\"2021-12-13T00:00:00\",\"2021-12-14T00:00:00\",\"2021-12-15T00:00:00\",\"2021-12-16T00:00:00\",\"2021-12-17T00:00:00\",\"2021-12-20T00:00:00\",\"2021-12-21T00:00:00\",\"2021-12-22T00:00:00\",\"2021-12-23T00:00:00\",\"2021-12-27T00:00:00\",\"2021-12-28T00:00:00\",\"2021-12-29T00:00:00\",\"2021-12-30T00:00:00\"],\"xaxis\":\"x\",\"y\":[-0.048919851612384324,-0.029299489881983165,-0.02731697283000556,-0.04020293330315483,-0.03778321799271023,-0.05119383417000667,-0.05609171803790691,-0.053846828648888345,-0.042214543523736214,-0.05320544439058805,-0.02236090262489787,-0.00880446472484453,-0.006501300028683987,-0.003294378737182302,-0.05364282058892422,-0.04174807415679649,-0.07929801298106953,-0.08976416917383956,-0.07606190955102943,-0.05667473801913092,-0.03798722605267468,-0.04352649417887533,-0.03320607073892756,-0.020874037078398522,-0.005480903849124363,-0.01279850302746921,-0.02227344517921781,-0.04480917372554161,-0.04451770821989687,-0.006180563414566631,0.013264883424473961,-0.00014582172275701133,-0.006530482167222296,-0.012594405997570224,0.006676125950109801,-0.005830733631845386,-0.016792541330093558,-0.005685000879023017,-0.02883302051504344,-0.014518558772471324,-0.05408010781732575,-0.0944870491804447,-0.0950992513002068,-0.10544885687869288,-0.07329236445786369,-0.05889044526961118,-0.03629635244621088,-0.03845369541961452,-0.038657792449513395,-0.024838982212419314,-0.027025507324361264,-0.003935762995482928,-0.0236436711414989,-0.026879685601604364,-0.05119383417000689,-0.02568437453068384,-0.0366170000903937,-0.02265245710047714,0.009241662983311194,0.009358302567529897,-0.00020409702989887535,0.003935674025547842],\"yaxis\":\"y\",\"type\":\"scatter\"},{\"hovertemplate\":\"variable=AMZN<br>Date=%{x}<br>value=%{y}<extra></extra>\",\"legendgroup\":\"AMZN\",\"line\":{\"color\":\"#EF553B\",\"dash\":\"solid\"},\"marker\":{\"symbol\":\"circle\"},\"mode\":\"lines\",\"name\":\"AMZN\",\"orientation\":\"v\",\"showlegend\":true,\"x\":[\"2021-10-04T00:00:00\",\"2021-10-05T00:00:00\",\"2021-10-06T00:00:00\",\"2021-10-07T00:00:00\",\"2021-10-08T00:00:00\",\"2021-10-11T00:00:00\",\"2021-10-12T00:00:00\",\"2021-10-13T00:00:00\",\"2021-10-14T00:00:00\",\"2021-10-15T00:00:00\",\"2021-10-18T00:00:00\",\"2021-10-19T00:00:00\",\"2021-10-20T00:00:00\",\"2021-10-21T00:00:00\",\"2021-10-22T00:00:00\",\"2021-10-25T00:00:00\",\"2021-10-26T00:00:00\",\"2021-10-27T00:00:00\",\"2021-10-28T00:00:00\",\"2021-10-29T00:00:00\",\"2021-11-01T00:00:00\",\"2021-11-02T00:00:00\",\"2021-11-03T00:00:00\",\"2021-11-04T00:00:00\",\"2021-11-05T00:00:00\",\"2021-11-08T00:00:00\",\"2021-11-09T00:00:00\",\"2021-11-10T00:00:00\",\"2021-11-11T00:00:00\",\"2021-11-12T00:00:00\",\"2021-11-15T00:00:00\",\"2021-11-16T00:00:00\",\"2021-11-17T00:00:00\",\"2021-11-18T00:00:00\",\"2021-11-19T00:00:00\",\"2021-11-22T00:00:00\",\"2021-11-23T00:00:00\",\"2021-11-24T00:00:00\",\"2021-11-26T00:00:00\",\"2021-11-29T00:00:00\",\"2021-11-30T00:00:00\",\"2021-12-01T00:00:00\",\"2021-12-02T00:00:00\",\"2021-12-03T00:00:00\",\"2021-12-06T00:00:00\",\"2021-12-07T00:00:00\",\"2021-12-08T00:00:00\",\"2021-12-09T00:00:00\",\"2021-12-10T00:00:00\",\"2021-12-13T00:00:00\",\"2021-12-14T00:00:00\",\"2021-12-15T00:00:00\",\"2021-12-16T00:00:00\",\"2021-12-17T00:00:00\",\"2021-12-20T00:00:00\",\"2021-12-21T00:00:00\",\"2021-12-22T00:00:00\",\"2021-12-23T00:00:00\",\"2021-12-27T00:00:00\",\"2021-12-28T00:00:00\",\"2021-12-29T00:00:00\",\"2021-12-30T00:00:00\"],\"xaxis\":\"x\",\"y\":[-0.028471678341373097,-0.01896280793777161,-0.006472225996985048,0.005838778441702219,0.001632556545999586,-0.011257055527557291,-0.01094335259298962,0.00031072856600289356,0.005055961815056298,0.038303453632289486,0.049792045162812215,0.04900318685001914,0.0401431005896129,0.04621936377141034,0.01592625648017343,0.011302786444241208,0.028267655247632417,0.033268777142275274,0.04974027255998181,0.0271590523141243,0.010614498968545272,0.008981942422545686,0.03068293547126033,0.05900849795688812,0.07179753919334808,0.06265730459374552,0.08923142873979972,0.06054652535193816,0.05763787174262558,0.07367380806362545,0.07992667437895729,0.0784099323089491,0.08093786674196846,0.12572869706112,0.11979260099793843,0.08811669117112664,0.0903918972251565,0.09050455143454794,0.06740253784279893,0.08476643677896023,0.06816704351296776,0.048872221684151285,0.04693507120731355,0.03244645718312866,0.04389238511455007,0.07310728380105025,0.07306768751953152,0.060963866441185344,0.04903060681022642,0.03292161256135406,0.030022067955771226,0.055749519500054134,0.028678861701715297,0.03566277204086221,0.017762836119914915,0.03809636322096699,0.04187306770611032,0.04206491447853944,0.03354288379532511,0.03958261801318619,0.030689070106425964,0.027299126483723235],\"yaxis\":\"y\",\"type\":\"scatter\"},{\"hovertemplate\":\"variable=NFLX<br>Date=%{x}<br>value=%{y}<extra></extra>\",\"legendgroup\":\"NFLX\",\"line\":{\"color\":\"#00cc96\",\"dash\":\"solid\"},\"marker\":{\"symbol\":\"circle\"},\"mode\":\"lines\",\"name\":\"NFLX\",\"orientation\":\"v\",\"showlegend\":true,\"x\":[\"2021-10-04T00:00:00\",\"2021-10-05T00:00:00\",\"2021-10-06T00:00:00\",\"2021-10-07T00:00:00\",\"2021-10-08T00:00:00\",\"2021-10-11T00:00:00\",\"2021-10-12T00:00:00\",\"2021-10-13T00:00:00\",\"2021-10-14T00:00:00\",\"2021-10-15T00:00:00\",\"2021-10-18T00:00:00\",\"2021-10-19T00:00:00\",\"2021-10-20T00:00:00\",\"2021-10-21T00:00:00\",\"2021-10-22T00:00:00\",\"2021-10-25T00:00:00\",\"2021-10-26T00:00:00\",\"2021-10-27T00:00:00\",\"2021-10-28T00:00:00\",\"2021-10-29T00:00:00\",\"2021-11-01T00:00:00\",\"2021-11-02T00:00:00\",\"2021-11-03T00:00:00\",\"2021-11-04T00:00:00\",\"2021-11-05T00:00:00\",\"2021-11-08T00:00:00\",\"2021-11-09T00:00:00\",\"2021-11-10T00:00:00\",\"2021-11-11T00:00:00\",\"2021-11-12T00:00:00\",\"2021-11-15T00:00:00\",\"2021-11-16T00:00:00\",\"2021-11-17T00:00:00\",\"2021-11-18T00:00:00\",\"2021-11-19T00:00:00\",\"2021-11-22T00:00:00\",\"2021-11-23T00:00:00\",\"2021-11-24T00:00:00\",\"2021-11-26T00:00:00\",\"2021-11-29T00:00:00\",\"2021-11-30T00:00:00\",\"2021-12-01T00:00:00\",\"2021-12-02T00:00:00\",\"2021-12-03T00:00:00\",\"2021-12-06T00:00:00\",\"2021-12-07T00:00:00\",\"2021-12-08T00:00:00\",\"2021-12-09T00:00:00\",\"2021-12-10T00:00:00\",\"2021-12-13T00:00:00\",\"2021-12-14T00:00:00\",\"2021-12-15T00:00:00\",\"2021-12-16T00:00:00\",\"2021-12-17T00:00:00\",\"2021-12-20T00:00:00\",\"2021-12-21T00:00:00\",\"2021-12-22T00:00:00\",\"2021-12-23T00:00:00\",\"2021-12-27T00:00:00\",\"2021-12-28T00:00:00\",\"2021-12-29T00:00:00\",\"2021-12-30T00:00:00\"],\"xaxis\":\"x\",\"y\":[-0.01598311740669034,0.03532573152097629,0.04232235201600654,0.030498165909305763,0.031819208927069464,0.022653434005086792,0.019228537157134573,0.027089594210544687,0.033678484150171384,0.024692086782104106,0.04047940194209554,0.042159299611282286,0.019554741510175777,0.06525311447015425,0.08420452226541308,0.09542517557001129,0.0903041554472741,0.08117093128008057,0.09932310357013074,0.12584191482054763,0.11093526182453428,0.1053085602512478,0.12254742007893782,0.09010845274416779,0.05311904915960297,0.06246430117909374,0.06986865222952754,0.05505985058506746,0.07246186236107444,0.1132837938054021,0.10793442068117676,0.12109597495483193,0.12809259544986218,0.11232160543906167,0.10706998412279667,0.07510394839660117,0.06672098428704354,0.07361975343052074,0.08560709148553847,0.08267145139535192,0.04688901387139932,0.007534852700368466,0.005414574177396325,-0.017972794736135222,-0.0007502600576361207,0.02027235126942939,0.024349656823464016,-0.0035065225939072686,-0.002430157726822868,-0.014009665682844452,-0.024724836624078872,-0.013226854870419413,-0.036027115674632126,-0.04308903676642628,-0.03165625606593814,-0.01342255757352584,0.0017776494771468698,0.0015330708700604934,-4.8975447573096353e-05,-0.0039794542024818025,-0.004256782651542834,-0.0017287735731671416],\"yaxis\":\"y\",\"type\":\"scatter\"},{\"hovertemplate\":\"variable=GOOG<br>Date=%{x}<br>value=%{y}<extra></extra>\",\"legendgroup\":\"GOOG\",\"line\":{\"color\":\"#ab63fa\",\"dash\":\"solid\"},\"marker\":{\"symbol\":\"circle\"},\"mode\":\"lines\",\"name\":\"GOOG\",\"orientation\":\"v\",\"showlegend\":true,\"x\":[\"2021-10-04T00:00:00\",\"2021-10-05T00:00:00\",\"2021-10-06T00:00:00\",\"2021-10-07T00:00:00\",\"2021-10-08T00:00:00\",\"2021-10-11T00:00:00\",\"2021-10-12T00:00:00\",\"2021-10-13T00:00:00\",\"2021-10-14T00:00:00\",\"2021-10-15T00:00:00\",\"2021-10-18T00:00:00\",\"2021-10-19T00:00:00\",\"2021-10-20T00:00:00\",\"2021-10-21T00:00:00\",\"2021-10-22T00:00:00\",\"2021-10-25T00:00:00\",\"2021-10-26T00:00:00\",\"2021-10-27T00:00:00\",\"2021-10-28T00:00:00\",\"2021-10-29T00:00:00\",\"2021-11-01T00:00:00\",\"2021-11-02T00:00:00\",\"2021-11-03T00:00:00\",\"2021-11-04T00:00:00\",\"2021-11-05T00:00:00\",\"2021-11-08T00:00:00\",\"2021-11-09T00:00:00\",\"2021-11-10T00:00:00\",\"2021-11-11T00:00:00\",\"2021-11-12T00:00:00\",\"2021-11-15T00:00:00\",\"2021-11-16T00:00:00\",\"2021-11-17T00:00:00\",\"2021-11-18T00:00:00\",\"2021-11-19T00:00:00\",\"2021-11-22T00:00:00\",\"2021-11-23T00:00:00\",\"2021-11-24T00:00:00\",\"2021-11-26T00:00:00\",\"2021-11-29T00:00:00\",\"2021-11-30T00:00:00\",\"2021-12-01T00:00:00\",\"2021-12-02T00:00:00\",\"2021-12-03T00:00:00\",\"2021-12-06T00:00:00\",\"2021-12-07T00:00:00\",\"2021-12-08T00:00:00\",\"2021-12-09T00:00:00\",\"2021-12-10T00:00:00\",\"2021-12-13T00:00:00\",\"2021-12-14T00:00:00\",\"2021-12-15T00:00:00\",\"2021-12-16T00:00:00\",\"2021-12-17T00:00:00\",\"2021-12-20T00:00:00\",\"2021-12-21T00:00:00\",\"2021-12-22T00:00:00\",\"2021-12-23T00:00:00\",\"2021-12-27T00:00:00\",\"2021-12-28T00:00:00\",\"2021-12-29T00:00:00\",\"2021-12-30T00:00:00\"],\"xaxis\":\"x\",\"y\":[-0.019767295978645683,-0.002092090912364175,0.006533003936172177,0.019954253541738742,0.0263332858484977,0.017477401280927563,0.0018356951634570517,0.010534029966434932,0.036270102690243444,0.03819737575093329,0.047617487509513,0.053930659765636824,0.043620039614429285,0.046298497429221985,0.015846889806631292,0.016931400215985715,0.02351930616380793,0.07302381271324876,0.07083634213502443,0.08652926031224184,0.05357888435086955,0.06888715299636439,0.07568013081662261,0.08955211363799576,0.09364113943031227,0.0944509161479683,0.09369615325868685,0.0744784364801625,0.07537241119124505,0.0966052889757889,0.09471838175258496,0.09243206519004588,0.09232941743710366,0.10439869102869936,0.09885504146946977,0.07779436144040641,0.07543838305860451,0.07514888955929333,0.04648534317559161,0.07072642629500114,0.04389119517095019,0.03777962846880789,0.05359722229366204,0.04439314044650344,0.053743702202544874,0.08481455084451972,0.08982695914641936,0.08532387602387925,0.08949352167444347,0.07505362171015761,0.06234688097311092,0.0799194382864501,0.06137955449086263,0.046463315280896866,0.043521193630115196,0.056850865338448964,0.0768453729009495,0.07826332078227982,0.08501604458177647,0.07317398257403562,0.07358803990425922,0.06990938149026316],\"yaxis\":\"y\",\"type\":\"scatter\"},{\"hovertemplate\":\"variable=MSFT<br>Date=%{x}<br>value=%{y}<extra></extra>\",\"legendgroup\":\"MSFT\",\"line\":{\"color\":\"#FFA15A\",\"dash\":\"solid\"},\"marker\":{\"symbol\":\"circle\"},\"mode\":\"lines\",\"name\":\"MSFT\",\"orientation\":\"v\",\"showlegend\":true,\"x\":[\"2021-10-04T00:00:00\",\"2021-10-05T00:00:00\",\"2021-10-06T00:00:00\",\"2021-10-07T00:00:00\",\"2021-10-08T00:00:00\",\"2021-10-11T00:00:00\",\"2021-10-12T00:00:00\",\"2021-10-13T00:00:00\",\"2021-10-14T00:00:00\",\"2021-10-15T00:00:00\",\"2021-10-18T00:00:00\",\"2021-10-19T00:00:00\",\"2021-10-20T00:00:00\",\"2021-10-21T00:00:00\",\"2021-10-22T00:00:00\",\"2021-10-25T00:00:00\",\"2021-10-26T00:00:00\",\"2021-10-27T00:00:00\",\"2021-10-28T00:00:00\",\"2021-10-29T00:00:00\",\"2021-11-01T00:00:00\",\"2021-11-02T00:00:00\",\"2021-11-03T00:00:00\",\"2021-11-04T00:00:00\",\"2021-11-05T00:00:00\",\"2021-11-08T00:00:00\",\"2021-11-09T00:00:00\",\"2021-11-10T00:00:00\",\"2021-11-11T00:00:00\",\"2021-11-12T00:00:00\",\"2021-11-15T00:00:00\",\"2021-11-16T00:00:00\",\"2021-11-17T00:00:00\",\"2021-11-18T00:00:00\",\"2021-11-19T00:00:00\",\"2021-11-22T00:00:00\",\"2021-11-23T00:00:00\",\"2021-11-24T00:00:00\",\"2021-11-26T00:00:00\",\"2021-11-29T00:00:00\",\"2021-11-30T00:00:00\",\"2021-12-01T00:00:00\",\"2021-12-02T00:00:00\",\"2021-12-03T00:00:00\",\"2021-12-06T00:00:00\",\"2021-12-07T00:00:00\",\"2021-12-08T00:00:00\",\"2021-12-09T00:00:00\",\"2021-12-10T00:00:00\",\"2021-12-13T00:00:00\",\"2021-12-14T00:00:00\",\"2021-12-15T00:00:00\",\"2021-12-16T00:00:00\",\"2021-12-17T00:00:00\",\"2021-12-20T00:00:00\",\"2021-12-21T00:00:00\",\"2021-12-22T00:00:00\",\"2021-12-23T00:00:00\",\"2021-12-27T00:00:00\",\"2021-12-28T00:00:00\",\"2021-12-29T00:00:00\",\"2021-12-30T00:00:00\"],\"xaxis\":\"x\",\"y\":[-0.02071960120797578,-0.0011761666405165627,0.013870444070203547,0.01988941009242562,0.01988941009242562,0.017744919516719637,0.013075107897497329,0.024939408703590127,0.04721557803598064,0.05226557664714515,0.06291949934574581,0.06617087566019286,0.06333432678857598,0.07492204021745619,0.06938771876972982,0.06582500738120434,0.07267362828908652,0.11784852985604677,0.12193009728604376,0.14707702695702718,0.13929440082690925,0.15230033506860874,0.15530954996477475,0.16374948669393752,0.1624350799878036,0.16565203034331866,0.16205457125792733,0.14424069257736605,0.149878828131778,0.1647180251210829,0.16246972043869135,0.1743686616956721,0.17516571380402635,0.18261619914033744,0.1889922942692357,0.1776261510308641,0.170175665694553,0.17097271780290701,0.14245279487844642,0.16653713139959514,0.14560636286097495,0.14383894914384965,0.1417945190655998,0.11933924894998116,0.13035877318751865,0.16061114764028273,0.16078456438667788,0.15430433341315997,0.18701725233873967,0.17613607541279763,0.13780936576980762,0.15967553372837706,0.12588854633331859,0.12207670253794345,0.10859652658161223,0.13417083147484932,0.15465084516801575,0.15981441726986212,0.18670538103477097,0.1825469182385615,0.1849727150145115,0.17585884455971668],\"yaxis\":\"y\",\"type\":\"scatter\"},{\"hovertemplate\":\"variable=NVDA<br>Date=%{x}<br>value=%{y}<extra></extra>\",\"legendgroup\":\"NVDA\",\"line\":{\"color\":\"#19d3f3\",\"dash\":\"solid\"},\"marker\":{\"symbol\":\"circle\"},\"mode\":\"lines\",\"name\":\"NVDA\",\"orientation\":\"v\",\"showlegend\":true,\"x\":[\"2021-10-04T00:00:00\",\"2021-10-05T00:00:00\",\"2021-10-06T00:00:00\",\"2021-10-07T00:00:00\",\"2021-10-08T00:00:00\",\"2021-10-11T00:00:00\",\"2021-10-12T00:00:00\",\"2021-10-13T00:00:00\",\"2021-10-14T00:00:00\",\"2021-10-15T00:00:00\",\"2021-10-18T00:00:00\",\"2021-10-19T00:00:00\",\"2021-10-20T00:00:00\",\"2021-10-21T00:00:00\",\"2021-10-22T00:00:00\",\"2021-10-25T00:00:00\",\"2021-10-26T00:00:00\",\"2021-10-27T00:00:00\",\"2021-10-28T00:00:00\",\"2021-10-29T00:00:00\",\"2021-11-01T00:00:00\",\"2021-11-02T00:00:00\",\"2021-11-03T00:00:00\",\"2021-11-04T00:00:00\",\"2021-11-05T00:00:00\",\"2021-11-08T00:00:00\",\"2021-11-09T00:00:00\",\"2021-11-10T00:00:00\",\"2021-11-11T00:00:00\",\"2021-11-12T00:00:00\",\"2021-11-15T00:00:00\",\"2021-11-16T00:00:00\",\"2021-11-17T00:00:00\",\"2021-11-18T00:00:00\",\"2021-11-19T00:00:00\",\"2021-11-22T00:00:00\",\"2021-11-23T00:00:00\",\"2021-11-24T00:00:00\",\"2021-11-26T00:00:00\",\"2021-11-29T00:00:00\",\"2021-11-30T00:00:00\",\"2021-12-01T00:00:00\",\"2021-12-02T00:00:00\",\"2021-12-03T00:00:00\",\"2021-12-06T00:00:00\",\"2021-12-07T00:00:00\",\"2021-12-08T00:00:00\",\"2021-12-09T00:00:00\",\"2021-12-10T00:00:00\",\"2021-12-13T00:00:00\",\"2021-12-14T00:00:00\",\"2021-12-15T00:00:00\",\"2021-12-16T00:00:00\",\"2021-12-17T00:00:00\",\"2021-12-20T00:00:00\",\"2021-12-21T00:00:00\",\"2021-12-22T00:00:00\",\"2021-12-23T00:00:00\",\"2021-12-27T00:00:00\",\"2021-12-28T00:00:00\",\"2021-12-29T00:00:00\",\"2021-12-30T00:00:00\"],\"xaxis\":\"x\",\"y\":[-0.04869347070482688,-0.014029584269058759,-0.002024923380381738,0.01605436033943164,0.004290698625081912,-0.002266069864718001,-0.003422969018495592,0.009497591849631837,0.048404153847626974,0.05399663102009988,0.0713527699069223,0.07463115415182209,0.06561563430584938,0.09401199545401306,0.0956513348864716,0.11686427076758044,0.19164008334800253,0.17881586322560272,0.20243938009002083,0.23261973909924305,0.24515464236444307,0.27282800598962464,0.2823256714942608,0.4367467763045956,0.4343843656941502,0.4851027597793587,0.4780155279480227,0.4202580724043419,0.4651431374527588,0.4651431374527588,0.44754592573660457,0.45612776491679474,0.4107123838368505,0.5270948035657854,0.5902514655504492,0.5406418739011589,0.5305176989292768,0.5752579582390853,0.5188024285528041,0.6091022854411305,0.5753544462948217,0.5157095076089302,0.5490277907697023,0.479932325781977,0.44830177339154065,0.5635409201425079,0.5345625371497431,0.4701443122500797,0.4560647162330478,0.35784620982395765,0.366332592118473,0.468649410281208,0.3687433204117909,0.3404880822520171,0.33653428161696364,0.40191694514396303,0.417587341945568,0.42915957430353724,0.49208319185434624,0.46204358755849184,0.44656616686835915,0.4265557225887382],\"yaxis\":\"y\",\"type\":\"scatter\"},{\"hovertemplate\":\"variable=TSLA<br>Date=%{x}<br>value=%{y}<extra></extra>\",\"legendgroup\":\"TSLA\",\"line\":{\"color\":\"#FF6692\",\"dash\":\"solid\"},\"marker\":{\"symbol\":\"circle\"},\"mode\":\"lines\",\"name\":\"TSLA\",\"orientation\":\"v\",\"showlegend\":true,\"x\":[\"2021-10-04T00:00:00\",\"2021-10-05T00:00:00\",\"2021-10-06T00:00:00\",\"2021-10-07T00:00:00\",\"2021-10-08T00:00:00\",\"2021-10-11T00:00:00\",\"2021-10-12T00:00:00\",\"2021-10-13T00:00:00\",\"2021-10-14T00:00:00\",\"2021-10-15T00:00:00\",\"2021-10-18T00:00:00\",\"2021-10-19T00:00:00\",\"2021-10-20T00:00:00\",\"2021-10-21T00:00:00\",\"2021-10-22T00:00:00\",\"2021-10-25T00:00:00\",\"2021-10-26T00:00:00\",\"2021-10-27T00:00:00\",\"2021-10-28T00:00:00\",\"2021-10-29T00:00:00\",\"2021-11-01T00:00:00\",\"2021-11-02T00:00:00\",\"2021-11-03T00:00:00\",\"2021-11-04T00:00:00\",\"2021-11-05T00:00:00\",\"2021-11-08T00:00:00\",\"2021-11-09T00:00:00\",\"2021-11-10T00:00:00\",\"2021-11-11T00:00:00\",\"2021-11-12T00:00:00\",\"2021-11-15T00:00:00\",\"2021-11-16T00:00:00\",\"2021-11-17T00:00:00\",\"2021-11-18T00:00:00\",\"2021-11-19T00:00:00\",\"2021-11-22T00:00:00\",\"2021-11-23T00:00:00\",\"2021-11-24T00:00:00\",\"2021-11-26T00:00:00\",\"2021-11-29T00:00:00\",\"2021-11-30T00:00:00\",\"2021-12-01T00:00:00\",\"2021-12-02T00:00:00\",\"2021-12-03T00:00:00\",\"2021-12-06T00:00:00\",\"2021-12-07T00:00:00\",\"2021-12-08T00:00:00\",\"2021-12-09T00:00:00\",\"2021-12-10T00:00:00\",\"2021-12-13T00:00:00\",\"2021-12-14T00:00:00\",\"2021-12-15T00:00:00\",\"2021-12-16T00:00:00\",\"2021-12-17T00:00:00\",\"2021-12-20T00:00:00\",\"2021-12-21T00:00:00\",\"2021-12-22T00:00:00\",\"2021-12-23T00:00:00\",\"2021-12-27T00:00:00\",\"2021-12-28T00:00:00\",\"2021-12-29T00:00:00\",\"2021-12-30T00:00:00\"],\"xaxis\":\"x\",\"y\":[0.008139621398127295,0.006926980550270745,0.009713290983020872,0.023722316110951658,0.013247758775643659,0.021568071690835744,0.03934362920683521,0.046257736962752816,0.055597126414383524,0.08747193671781539,0.1224039766305638,0.11487055755733411,0.11684422855941623,0.15322097391546707,0.1734474406168547,0.3220246425437585,0.31373019331630325,0.3387941144167026,0.38933459463098163,0.4370114095473616,0.5590283756541208,0.511828798921047,0.5658263920627999,0.5865302150465246,0.576442786334052,0.5001418369359438,0.3202702814417997,0.37760889616378845,0.3718814474689598,0.3330666657218735,0.30722884167289544,0.3605556323199246,0.4047753343088303,0.4142823062851113,0.4667577210193825,0.492311753097441,0.4306002855634552,0.43959128287434046,0.39562962726764805,0.4666674933598809,0.4766904400015577,0.4125021995944467,0.39908662209609114,0.3092669947457729,0.30157886594224603,0.356711626967676,0.37891176467114573,0.29485820439871513,0.3119243410369317,0.24662667833484941,0.23643603106949151,0.25898444281467636,0.19568631480241305,0.20297456028778238,0.16088335713028679,0.21066268909130947,0.301398292524212,0.3763833825215783,0.4111348490162927,0.40407878622540006,0.40113764796332174,0.38069187136181015],\"yaxis\":\"y\",\"type\":\"scatter\"}],                        {\"template\":{\"data\":{\"barpolar\":[{\"marker\":{\"line\":{\"color\":\"rgb(17,17,17)\",\"width\":0.5},\"pattern\":{\"fillmode\":\"overlay\",\"size\":10,\"solidity\":0.2}},\"type\":\"barpolar\"}],\"bar\":[{\"error_x\":{\"color\":\"#f2f5fa\"},\"error_y\":{\"color\":\"#f2f5fa\"},\"marker\":{\"line\":{\"color\":\"rgb(17,17,17)\",\"width\":0.5},\"pattern\":{\"fillmode\":\"overlay\",\"size\":10,\"solidity\":0.2}},\"type\":\"bar\"}],\"carpet\":[{\"aaxis\":{\"endlinecolor\":\"#A2B1C6\",\"gridcolor\":\"#506784\",\"linecolor\":\"#506784\",\"minorgridcolor\":\"#506784\",\"startlinecolor\":\"#A2B1C6\"},\"baxis\":{\"endlinecolor\":\"#A2B1C6\",\"gridcolor\":\"#506784\",\"linecolor\":\"#506784\",\"minorgridcolor\":\"#506784\",\"startlinecolor\":\"#A2B1C6\"},\"type\":\"carpet\"}],\"choropleth\":[{\"colorbar\":{\"outlinewidth\":0,\"ticks\":\"\"},\"type\":\"choropleth\"}],\"contourcarpet\":[{\"colorbar\":{\"outlinewidth\":0,\"ticks\":\"\"},\"type\":\"contourcarpet\"}],\"contour\":[{\"colorbar\":{\"outlinewidth\":0,\"ticks\":\"\"},\"colorscale\":[[0.0,\"#0d0887\"],[0.1111111111111111,\"#46039f\"],[0.2222222222222222,\"#7201a8\"],[0.3333333333333333,\"#9c179e\"],[0.4444444444444444,\"#bd3786\"],[0.5555555555555556,\"#d8576b\"],[0.6666666666666666,\"#ed7953\"],[0.7777777777777778,\"#fb9f3a\"],[0.8888888888888888,\"#fdca26\"],[1.0,\"#f0f921\"]],\"type\":\"contour\"}],\"heatmapgl\":[{\"colorbar\":{\"outlinewidth\":0,\"ticks\":\"\"},\"colorscale\":[[0.0,\"#0d0887\"],[0.1111111111111111,\"#46039f\"],[0.2222222222222222,\"#7201a8\"],[0.3333333333333333,\"#9c179e\"],[0.4444444444444444,\"#bd3786\"],[0.5555555555555556,\"#d8576b\"],[0.6666666666666666,\"#ed7953\"],[0.7777777777777778,\"#fb9f3a\"],[0.8888888888888888,\"#fdca26\"],[1.0,\"#f0f921\"]],\"type\":\"heatmapgl\"}],\"heatmap\":[{\"colorbar\":{\"outlinewidth\":0,\"ticks\":\"\"},\"colorscale\":[[0.0,\"#0d0887\"],[0.1111111111111111,\"#46039f\"],[0.2222222222222222,\"#7201a8\"],[0.3333333333333333,\"#9c179e\"],[0.4444444444444444,\"#bd3786\"],[0.5555555555555556,\"#d8576b\"],[0.6666666666666666,\"#ed7953\"],[0.7777777777777778,\"#fb9f3a\"],[0.8888888888888888,\"#fdca26\"],[1.0,\"#f0f921\"]],\"type\":\"heatmap\"}],\"histogram2dcontour\":[{\"colorbar\":{\"outlinewidth\":0,\"ticks\":\"\"},\"colorscale\":[[0.0,\"#0d0887\"],[0.1111111111111111,\"#46039f\"],[0.2222222222222222,\"#7201a8\"],[0.3333333333333333,\"#9c179e\"],[0.4444444444444444,\"#bd3786\"],[0.5555555555555556,\"#d8576b\"],[0.6666666666666666,\"#ed7953\"],[0.7777777777777778,\"#fb9f3a\"],[0.8888888888888888,\"#fdca26\"],[1.0,\"#f0f921\"]],\"type\":\"histogram2dcontour\"}],\"histogram2d\":[{\"colorbar\":{\"outlinewidth\":0,\"ticks\":\"\"},\"colorscale\":[[0.0,\"#0d0887\"],[0.1111111111111111,\"#46039f\"],[0.2222222222222222,\"#7201a8\"],[0.3333333333333333,\"#9c179e\"],[0.4444444444444444,\"#bd3786\"],[0.5555555555555556,\"#d8576b\"],[0.6666666666666666,\"#ed7953\"],[0.7777777777777778,\"#fb9f3a\"],[0.8888888888888888,\"#fdca26\"],[1.0,\"#f0f921\"]],\"type\":\"histogram2d\"}],\"histogram\":[{\"marker\":{\"pattern\":{\"fillmode\":\"overlay\",\"size\":10,\"solidity\":0.2}},\"type\":\"histogram\"}],\"mesh3d\":[{\"colorbar\":{\"outlinewidth\":0,\"ticks\":\"\"},\"type\":\"mesh3d\"}],\"parcoords\":[{\"line\":{\"colorbar\":{\"outlinewidth\":0,\"ticks\":\"\"}},\"type\":\"parcoords\"}],\"pie\":[{\"automargin\":true,\"type\":\"pie\"}],\"scatter3d\":[{\"line\":{\"colorbar\":{\"outlinewidth\":0,\"ticks\":\"\"}},\"marker\":{\"colorbar\":{\"outlinewidth\":0,\"ticks\":\"\"}},\"type\":\"scatter3d\"}],\"scattercarpet\":[{\"marker\":{\"colorbar\":{\"outlinewidth\":0,\"ticks\":\"\"}},\"type\":\"scattercarpet\"}],\"scattergeo\":[{\"marker\":{\"colorbar\":{\"outlinewidth\":0,\"ticks\":\"\"}},\"type\":\"scattergeo\"}],\"scattergl\":[{\"marker\":{\"line\":{\"color\":\"#283442\"}},\"type\":\"scattergl\"}],\"scattermapbox\":[{\"marker\":{\"colorbar\":{\"outlinewidth\":0,\"ticks\":\"\"}},\"type\":\"scattermapbox\"}],\"scatterpolargl\":[{\"marker\":{\"colorbar\":{\"outlinewidth\":0,\"ticks\":\"\"}},\"type\":\"scatterpolargl\"}],\"scatterpolar\":[{\"marker\":{\"colorbar\":{\"outlinewidth\":0,\"ticks\":\"\"}},\"type\":\"scatterpolar\"}],\"scatter\":[{\"marker\":{\"line\":{\"color\":\"#283442\"}},\"type\":\"scatter\"}],\"scatterternary\":[{\"marker\":{\"colorbar\":{\"outlinewidth\":0,\"ticks\":\"\"}},\"type\":\"scatterternary\"}],\"surface\":[{\"colorbar\":{\"outlinewidth\":0,\"ticks\":\"\"},\"colorscale\":[[0.0,\"#0d0887\"],[0.1111111111111111,\"#46039f\"],[0.2222222222222222,\"#7201a8\"],[0.3333333333333333,\"#9c179e\"],[0.4444444444444444,\"#bd3786\"],[0.5555555555555556,\"#d8576b\"],[0.6666666666666666,\"#ed7953\"],[0.7777777777777778,\"#fb9f3a\"],[0.8888888888888888,\"#fdca26\"],[1.0,\"#f0f921\"]],\"type\":\"surface\"}],\"table\":[{\"cells\":{\"fill\":{\"color\":\"#506784\"},\"line\":{\"color\":\"rgb(17,17,17)\"}},\"header\":{\"fill\":{\"color\":\"#2a3f5f\"},\"line\":{\"color\":\"rgb(17,17,17)\"}},\"type\":\"table\"}]},\"layout\":{\"annotationdefaults\":{\"arrowcolor\":\"#f2f5fa\",\"arrowhead\":0,\"arrowwidth\":1},\"autotypenumbers\":\"strict\",\"coloraxis\":{\"colorbar\":{\"outlinewidth\":0,\"ticks\":\"\"}},\"colorscale\":{\"diverging\":[[0,\"#8e0152\"],[0.1,\"#c51b7d\"],[0.2,\"#de77ae\"],[0.3,\"#f1b6da\"],[0.4,\"#fde0ef\"],[0.5,\"#f7f7f7\"],[0.6,\"#e6f5d0\"],[0.7,\"#b8e186\"],[0.8,\"#7fbc41\"],[0.9,\"#4d9221\"],[1,\"#276419\"]],\"sequential\":[[0.0,\"#0d0887\"],[0.1111111111111111,\"#46039f\"],[0.2222222222222222,\"#7201a8\"],[0.3333333333333333,\"#9c179e\"],[0.4444444444444444,\"#bd3786\"],[0.5555555555555556,\"#d8576b\"],[0.6666666666666666,\"#ed7953\"],[0.7777777777777778,\"#fb9f3a\"],[0.8888888888888888,\"#fdca26\"],[1.0,\"#f0f921\"]],\"sequentialminus\":[[0.0,\"#0d0887\"],[0.1111111111111111,\"#46039f\"],[0.2222222222222222,\"#7201a8\"],[0.3333333333333333,\"#9c179e\"],[0.4444444444444444,\"#bd3786\"],[0.5555555555555556,\"#d8576b\"],[0.6666666666666666,\"#ed7953\"],[0.7777777777777778,\"#fb9f3a\"],[0.8888888888888888,\"#fdca26\"],[1.0,\"#f0f921\"]]},\"colorway\":[\"#636efa\",\"#EF553B\",\"#00cc96\",\"#ab63fa\",\"#FFA15A\",\"#19d3f3\",\"#FF6692\",\"#B6E880\",\"#FF97FF\",\"#FECB52\"],\"font\":{\"color\":\"#f2f5fa\"},\"geo\":{\"bgcolor\":\"rgb(17,17,17)\",\"lakecolor\":\"rgb(17,17,17)\",\"landcolor\":\"rgb(17,17,17)\",\"showlakes\":true,\"showland\":true,\"subunitcolor\":\"#506784\"},\"hoverlabel\":{\"align\":\"left\"},\"hovermode\":\"closest\",\"mapbox\":{\"style\":\"dark\"},\"paper_bgcolor\":\"rgb(17,17,17)\",\"plot_bgcolor\":\"rgb(17,17,17)\",\"polar\":{\"angularaxis\":{\"gridcolor\":\"#506784\",\"linecolor\":\"#506784\",\"ticks\":\"\"},\"bgcolor\":\"rgb(17,17,17)\",\"radialaxis\":{\"gridcolor\":\"#506784\",\"linecolor\":\"#506784\",\"ticks\":\"\"}},\"scene\":{\"xaxis\":{\"backgroundcolor\":\"rgb(17,17,17)\",\"gridcolor\":\"#506784\",\"gridwidth\":2,\"linecolor\":\"#506784\",\"showbackground\":true,\"ticks\":\"\",\"zerolinecolor\":\"#C8D4E3\"},\"yaxis\":{\"backgroundcolor\":\"rgb(17,17,17)\",\"gridcolor\":\"#506784\",\"gridwidth\":2,\"linecolor\":\"#506784\",\"showbackground\":true,\"ticks\":\"\",\"zerolinecolor\":\"#C8D4E3\"},\"zaxis\":{\"backgroundcolor\":\"rgb(17,17,17)\",\"gridcolor\":\"#506784\",\"gridwidth\":2,\"linecolor\":\"#506784\",\"showbackground\":true,\"ticks\":\"\",\"zerolinecolor\":\"#C8D4E3\"}},\"shapedefaults\":{\"line\":{\"color\":\"#f2f5fa\"}},\"sliderdefaults\":{\"bgcolor\":\"#C8D4E3\",\"bordercolor\":\"rgb(17,17,17)\",\"borderwidth\":1,\"tickwidth\":0},\"ternary\":{\"aaxis\":{\"gridcolor\":\"#506784\",\"linecolor\":\"#506784\",\"ticks\":\"\"},\"baxis\":{\"gridcolor\":\"#506784\",\"linecolor\":\"#506784\",\"ticks\":\"\"},\"bgcolor\":\"rgb(17,17,17)\",\"caxis\":{\"gridcolor\":\"#506784\",\"linecolor\":\"#506784\",\"ticks\":\"\"}},\"title\":{\"x\":0.05},\"updatemenudefaults\":{\"bgcolor\":\"#506784\",\"borderwidth\":0},\"xaxis\":{\"automargin\":true,\"gridcolor\":\"#283442\",\"linecolor\":\"#506784\",\"ticks\":\"\",\"title\":{\"standoff\":15},\"zerolinecolor\":\"#283442\",\"zerolinewidth\":2},\"yaxis\":{\"automargin\":true,\"gridcolor\":\"#283442\",\"linecolor\":\"#506784\",\"ticks\":\"\",\"title\":{\"standoff\":15},\"zerolinecolor\":\"#283442\",\"zerolinewidth\":2}}},\"xaxis\":{\"anchor\":\"y\",\"domain\":[0.0,1.0],\"title\":{\"text\":\"Date\"}},\"yaxis\":{\"anchor\":\"x\",\"domain\":[0.0,1.0],\"title\":{\"text\":\"value\"}},\"legend\":{\"title\":{\"text\":\"variable\"},\"tracegroupgap\":0},\"margin\":{\"t\":60},\"width\":1200,\"height\":800},                        {\"responsive\": true}                    ).then(function(){\n",
       "                            \n",
       "var gd = document.getElementById('957d943f-e078-43e5-9cbe-39b0ae504f9b');\n",
       "var x = new MutationObserver(function (mutations, observer) {{\n",
       "        var display = window.getComputedStyle(gd).display;\n",
       "        if (!display || display === 'none') {{\n",
       "            console.log([gd, 'removed!']);\n",
       "            Plotly.purge(gd);\n",
       "            observer.disconnect();\n",
       "        }}\n",
       "}});\n",
       "\n",
       "// Listen for the removal of the full notebook cells\n",
       "var notebookContainer = gd.closest('#notebook-container');\n",
       "if (notebookContainer) {{\n",
       "    x.observe(notebookContainer, {childList: true});\n",
       "}}\n",
       "\n",
       "// Listen for the clearing of the current output cell\n",
       "var outputEl = gd.closest('.output');\n",
       "if (outputEl) {{\n",
       "    x.observe(outputEl, {childList: true});\n",
       "}}\n",
       "\n",
       "                        })                };                });            </script>        </div>"
      ]
     },
     "metadata": {},
     "output_type": "display_data"
    }
   ],
   "source": [
    "cum_returns =   (1 + returns).cumprod() - 1\n",
    "fig = px.line(cum_returns)\n",
    "fig.update_layout(width=1200, height=800, template = \"plotly_dark\")\n",
    "fig.show()"
   ]
  },
  {
   "attachments": {},
   "cell_type": "markdown",
   "metadata": {},
   "source": [
    "### PIE CHART"
   ]
  },
  {
   "attachments": {},
   "cell_type": "markdown",
   "metadata": {},
   "source": [
    "A pie chart is a circular graphical representation that is divided into slices to illustrate the proportional composition of different categories or parts of a whole. Each slice represents a specific category, and its size is determined by the proportion or percentage it contributes to the total. Pie charts are effective in visualizing categorical data and showing the relative sizes or distributions of different categories. They are particularly useful for displaying data that can be grouped into distinct categories and highlighting the relative importance or contribution of each category. By examining a pie chart, we can quickly grasp the overall composition and relative significance of different components within the data."
   ]
  },
  {
   "attachments": {},
   "cell_type": "markdown",
   "metadata": {},
   "source": [
    "If we want to determine the sectors that contribute the most or are most represented in the S&P 500, we can use a pie chart for this analysis. From the pie chart, we can observe that there are five dominant sectors, with four of them being cyclical. This observation may explain why the S&P 500 tends to underperform during economic downturns. Additionally, the telecommunication sector has the fewest number of companies in the index, indicating that it is the least represented sector"
   ]
  },
  {
   "attachments": {},
   "cell_type": "markdown",
   "metadata": {},
   "source": [
    "Data Source: https://www.kaggle.com/datasets/paytonfisher/sp-500-companies-with-financial-information?resource=download"
   ]
  },
  {
   "cell_type": "code",
   "execution_count": 111,
   "metadata": {},
   "outputs": [
    {
     "data": {
      "application/vnd.plotly.v1+json": {
       "config": {
        "plotlyServerURL": "https://plot.ly"
       },
       "data": [
        {
         "domain": {
          "x": [
           0,
           1
          ],
          "y": [
           0,
           1
          ]
         },
         "hovertemplate": "Sector=%{label}<extra></extra>",
         "labels": [
          "Industrials",
          "Industrials",
          "Health Care",
          "Health Care",
          "Information Technology",
          "Information Technology",
          "Industrials",
          "Information Technology",
          "Consumer Discretionary",
          "Information Technology",
          "Utilities",
          "Health Care",
          "Financials",
          "Financials",
          "Health Care",
          "Materials",
          "Information Technology",
          "Industrials",
          "Materials",
          "Real Estate",
          "Health Care",
          "Health Care",
          "Industrials",
          "Health Care",
          "Information Technology",
          "Utilities",
          "Financials",
          "Information Technology",
          "Information Technology",
          "Consumer Staples",
          "Consumer Discretionary",
          "Utilities",
          "Industrials",
          "Utilities",
          "Financials",
          "Financials",
          "Real Estate",
          "Utilities",
          "Financials",
          "Health Care",
          "Industrials",
          "Health Care",
          "Information Technology",
          "Energy",
          "Information Technology",
          "Energy",
          "Information Technology",
          "Health Care",
          "Financials",
          "Energy",
          "Real Estate",
          "Information Technology",
          "Information Technology",
          "Consumer Discretionary",
          "Consumer Staples",
          "Industrials",
          "Financials",
          "Financials",
          "Telecommunication Services",
          "Information Technology",
          "Information Technology",
          "Consumer Discretionary",
          "Real Estate",
          "Materials",
          "Energy",
          "Materials",
          "Financials",
          "Health Care",
          "Financials",
          "Health Care",
          "Financials",
          "Consumer Discretionary",
          "Health Care",
          "Financials",
          "Financials",
          "Industrials",
          "Consumer Discretionary",
          "Real Estate",
          "Health Care",
          "Financials",
          "Health Care",
          "Information Technology",
          "Consumer Staples",
          "Industrials",
          "Information Technology",
          "Energy",
          "Information Technology",
          "Consumer Staples",
          "Financials",
          "Health Care",
          "Consumer Discretionary",
          "Consumer Discretionary",
          "Industrials",
          "Financials",
          "Real Estate",
          "Consumer Discretionary",
          "Health Care",
          "Health Care",
          "Utilities",
          "Telecommunication Services",
          "Health Care",
          "Materials",
          "Financials",
          "Consumer Discretionary",
          "Energy",
          "Energy",
          "Consumer Discretionary",
          "Financials",
          "Consumer Staples",
          "Health Care",
          "Energy",
          "Financials",
          "Industrials",
          "Information Technology",
          "Financials",
          "Financials",
          "Information Technology",
          "Financials",
          "Utilities",
          "Consumer Staples",
          "Information Technology",
          "Consumer Staples",
          "Consumer Discretionary",
          "Financials",
          "Consumer Staples",
          "Energy",
          "Energy",
          "Utilities",
          "Consumer Staples",
          "Information Technology",
          "Consumer Staples",
          "Consumer Staples",
          "Real Estate",
          "Information Technology",
          "Industrials",
          "Industrials",
          "Consumer Staples",
          "Consumer Discretionary",
          "Health Care",
          "Consumer Discretionary",
          "Health Care",
          "Industrials",
          "Industrials",
          "Health Care",
          "Energy",
          "Real Estate",
          "Financials",
          "Consumer Discretionary",
          "Consumer Discretionary",
          "Consumer Discretionary",
          "Consumer Discretionary",
          "Consumer Discretionary",
          "Utilities",
          "Industrials",
          "Materials",
          "Consumer Staples",
          "Utilities",
          "Utilities",
          "Real Estate",
          "Information Technology",
          "Financials",
          "Materials",
          "Industrials",
          "Information Technology",
          "Materials",
          "Utilities",
          "Health Care",
          "Information Technology",
          "Industrials",
          "Utilities",
          "Health Care",
          "Energy",
          "Energy",
          "Industrials",
          "Real Estate",
          "Real Estate",
          "Real Estate",
          "Consumer Staples",
          "Financials",
          "Utilities",
          "Utilities",
          "Consumer Discretionary",
          "Industrials",
          "Health Care",
          "Real Estate",
          "Energy",
          "Information Technology",
          "Information Technology",
          "Industrials",
          "Real Estate",
          "Industrials",
          "Information Technology",
          "Financials",
          "Utilities",
          "Information Technology",
          "Information Technology",
          "Industrials",
          "Industrials",
          "Materials",
          "Consumer Discretionary",
          "Consumer Discretionary",
          "Industrials",
          "Industrials",
          "Financials",
          "Materials",
          "Consumer Discretionary",
          "Consumer Discretionary",
          "Information Technology",
          "Industrials",
          "Industrials",
          "Real Estate",
          "Consumer Staples",
          "Consumer Discretionary",
          "Consumer Discretionary",
          "Health Care",
          "Information Technology",
          "Financials",
          "Consumer Discretionary",
          "Industrials",
          "Energy",
          "Consumer Discretionary",
          "Consumer Discretionary",
          "Information Technology",
          "Financials",
          "Consumer Discretionary",
          "Health Care",
          "Real Estate",
          "Energy",
          "Health Care",
          "Energy",
          "Information Technology",
          "Consumer Discretionary",
          "Health Care",
          "Consumer Discretionary",
          "Industrials",
          "Consumer Staples",
          "Real Estate",
          "Information Technology",
          "Health Care",
          "Financials",
          "Industrials",
          "Health Care",
          "Industrials",
          "Industrials",
          "Health Care",
          "Health Care",
          "Industrials",
          "Information Technology",
          "Financials",
          "Information Technology",
          "Materials",
          "Consumer Discretionary",
          "Materials",
          "Information Technology",
          "Health Care",
          "Financials",
          "Health Care",
          "Real Estate",
          "Industrials",
          "Industrials",
          "Consumer Staples",
          "Health Care",
          "Industrials",
          "Financials",
          "Information Technology",
          "Industrials",
          "Consumer Staples",
          "Financials",
          "Consumer Staples",
          "Real Estate",
          "Energy",
          "Information Technology",
          "Consumer Discretionary",
          "Consumer Staples",
          "Consumer Staples",
          "Consumer Discretionary",
          "Industrials",
          "Health Care",
          "Information Technology",
          "Consumer Discretionary",
          "Consumer Discretionary",
          "Financials",
          "Health Care",
          "Financials",
          "Consumer Discretionary",
          "Industrials",
          "Financials",
          "Consumer Discretionary",
          "Materials",
          "Financials",
          "Real Estate",
          "Consumer Discretionary",
          "Energy",
          "Energy",
          "Consumer Discretionary",
          "Financials",
          "Materials",
          "Industrials",
          "Information Technology",
          "Consumer Discretionary",
          "Consumer Staples",
          "Consumer Discretionary",
          "Health Care",
          "Health Care",
          "Health Care",
          "Financials",
          "Health Care",
          "Consumer Discretionary",
          "Consumer Discretionary",
          "Information Technology",
          "Information Technology",
          "Information Technology",
          "Real Estate",
          "Consumer Discretionary",
          "Consumer Staples",
          "Consumer Staples",
          "Materials",
          "Consumer Staples",
          "Financials",
          "Financials",
          "Information Technology",
          "Health Care",
          "Financials",
          "Energy",
          "Financials",
          "Information Technology",
          "Information Technology",
          "Consumer Discretionary",
          "Energy",
          "Materials",
          "Consumer Discretionary",
          "Consumer Discretionary",
          "Utilities",
          "Industrials",
          "Consumer Discretionary",
          "Utilities",
          "Energy",
          "Consumer Discretionary",
          "Industrials",
          "Financials",
          "Industrials",
          "Consumer Discretionary",
          "Utilities",
          "Materials",
          "Information Technology",
          "Consumer Discretionary",
          "Energy",
          "Consumer Discretionary",
          "Energy",
          "Information Technology",
          "Industrials",
          "Materials",
          "Industrials",
          "Health Care",
          "Information Technology",
          "Information Technology",
          "Industrials",
          "Financials",
          "Consumer Staples",
          "Health Care",
          "Health Care",
          "Health Care",
          "Utilities",
          "Consumer Staples",
          "Energy",
          "Utilities",
          "Energy",
          "Financials",
          "Consumer Discretionary",
          "Materials",
          "Utilities",
          "Materials",
          "Consumer Discretionary",
          "Financials",
          "Consumer Staples",
          "Financials",
          "Real Estate",
          "Financials",
          "Utilities",
          "Real Estate",
          "Consumer Discretionary",
          "Consumer Discretionary",
          "Information Technology",
          "Information Technology",
          "Industrials",
          "Health Care",
          "Energy",
          "Financials",
          "Industrials",
          "Real Estate",
          "Information Technology",
          "Real Estate",
          "Health Care",
          "Financials",
          "Industrials",
          "Health Care",
          "Industrials",
          "Industrials",
          "Industrials",
          "Industrials",
          "Consumer Discretionary",
          "Consumer Discretionary",
          "Financials",
          "Information Technology",
          "Real Estate",
          "Utilities",
          "Energy",
          "Consumer Discretionary",
          "Information Technology",
          "Materials",
          "Utilities",
          "Materials",
          "Consumer Discretionary",
          "Real Estate",
          "Information Technology",
          "Real Estate",
          "Consumer Discretionary",
          "Utilities",
          "Industrials",
          "Consumer Discretionary",
          "Consumer Discretionary",
          "Financials",
          "Industrials",
          "Health Care",
          "Financials",
          "Information Technology",
          "Financials",
          "Information Technology",
          "Consumer Staples",
          "Financials",
          "Consumer Discretionary",
          "Consumer Discretionary",
          "Information Technology",
          "Energy",
          "Information Technology",
          "Industrials",
          "Financials",
          "Consumer Staples",
          "Health Care",
          "Consumer Staples",
          "Materials",
          "Financials",
          "Consumer Discretionary",
          "Health Care",
          "Consumer Discretionary",
          "Consumer Discretionary",
          "Consumer Discretionary",
          "Financials",
          "Information Technology",
          "Consumer Discretionary",
          "Industrials",
          "Consumer Discretionary",
          "Consumer Discretionary",
          "Consumer Discretionary",
          "Consumer Staples",
          "Financials",
          "Real Estate",
          "Consumer Discretionary",
          "Consumer Discretionary",
          "Consumer Discretionary",
          "Industrials",
          "Industrials",
          "Health Care",
          "Industrials",
          "Industrials",
          "Industrials",
          "Health Care",
          "Financials",
          "Consumer Discretionary",
          "Energy",
          "Health Care",
          "Real Estate",
          "Information Technology",
          "Industrials",
          "Telecommunication Services",
          "Health Care",
          "Consumer Discretionary",
          "Information Technology",
          "Real Estate",
          "Materials",
          "Consumer Staples",
          "Consumer Staples",
          "Industrials",
          "Health Care",
          "Utilities",
          "Financials",
          "Real Estate",
          "Information Technology",
          "Information Technology",
          "Materials",
          "Real Estate",
          "Consumer Discretionary",
          "Energy",
          "Financials",
          "Consumer Discretionary",
          "Consumer Discretionary",
          "Utilities",
          "Information Technology",
          "Information Technology",
          "Financials",
          "Industrials",
          "Consumer Discretionary",
          "Health Care",
          "Financials",
          "Health Care"
         ],
         "legendgroup": "",
         "name": "",
         "showlegend": true,
         "type": "pie"
        }
       ],
       "layout": {
        "height": 800,
        "legend": {
         "tracegroupgap": 0
        },
        "margin": {
         "t": 60
        },
        "template": {
         "data": {
          "bar": [
           {
            "error_x": {
             "color": "#f2f5fa"
            },
            "error_y": {
             "color": "#f2f5fa"
            },
            "marker": {
             "line": {
              "color": "rgb(17,17,17)",
              "width": 0.5
             },
             "pattern": {
              "fillmode": "overlay",
              "size": 10,
              "solidity": 0.2
             }
            },
            "type": "bar"
           }
          ],
          "barpolar": [
           {
            "marker": {
             "line": {
              "color": "rgb(17,17,17)",
              "width": 0.5
             },
             "pattern": {
              "fillmode": "overlay",
              "size": 10,
              "solidity": 0.2
             }
            },
            "type": "barpolar"
           }
          ],
          "carpet": [
           {
            "aaxis": {
             "endlinecolor": "#A2B1C6",
             "gridcolor": "#506784",
             "linecolor": "#506784",
             "minorgridcolor": "#506784",
             "startlinecolor": "#A2B1C6"
            },
            "baxis": {
             "endlinecolor": "#A2B1C6",
             "gridcolor": "#506784",
             "linecolor": "#506784",
             "minorgridcolor": "#506784",
             "startlinecolor": "#A2B1C6"
            },
            "type": "carpet"
           }
          ],
          "choropleth": [
           {
            "colorbar": {
             "outlinewidth": 0,
             "ticks": ""
            },
            "type": "choropleth"
           }
          ],
          "contour": [
           {
            "colorbar": {
             "outlinewidth": 0,
             "ticks": ""
            },
            "colorscale": [
             [
              0,
              "#0d0887"
             ],
             [
              0.1111111111111111,
              "#46039f"
             ],
             [
              0.2222222222222222,
              "#7201a8"
             ],
             [
              0.3333333333333333,
              "#9c179e"
             ],
             [
              0.4444444444444444,
              "#bd3786"
             ],
             [
              0.5555555555555556,
              "#d8576b"
             ],
             [
              0.6666666666666666,
              "#ed7953"
             ],
             [
              0.7777777777777778,
              "#fb9f3a"
             ],
             [
              0.8888888888888888,
              "#fdca26"
             ],
             [
              1,
              "#f0f921"
             ]
            ],
            "type": "contour"
           }
          ],
          "contourcarpet": [
           {
            "colorbar": {
             "outlinewidth": 0,
             "ticks": ""
            },
            "type": "contourcarpet"
           }
          ],
          "heatmap": [
           {
            "colorbar": {
             "outlinewidth": 0,
             "ticks": ""
            },
            "colorscale": [
             [
              0,
              "#0d0887"
             ],
             [
              0.1111111111111111,
              "#46039f"
             ],
             [
              0.2222222222222222,
              "#7201a8"
             ],
             [
              0.3333333333333333,
              "#9c179e"
             ],
             [
              0.4444444444444444,
              "#bd3786"
             ],
             [
              0.5555555555555556,
              "#d8576b"
             ],
             [
              0.6666666666666666,
              "#ed7953"
             ],
             [
              0.7777777777777778,
              "#fb9f3a"
             ],
             [
              0.8888888888888888,
              "#fdca26"
             ],
             [
              1,
              "#f0f921"
             ]
            ],
            "type": "heatmap"
           }
          ],
          "heatmapgl": [
           {
            "colorbar": {
             "outlinewidth": 0,
             "ticks": ""
            },
            "colorscale": [
             [
              0,
              "#0d0887"
             ],
             [
              0.1111111111111111,
              "#46039f"
             ],
             [
              0.2222222222222222,
              "#7201a8"
             ],
             [
              0.3333333333333333,
              "#9c179e"
             ],
             [
              0.4444444444444444,
              "#bd3786"
             ],
             [
              0.5555555555555556,
              "#d8576b"
             ],
             [
              0.6666666666666666,
              "#ed7953"
             ],
             [
              0.7777777777777778,
              "#fb9f3a"
             ],
             [
              0.8888888888888888,
              "#fdca26"
             ],
             [
              1,
              "#f0f921"
             ]
            ],
            "type": "heatmapgl"
           }
          ],
          "histogram": [
           {
            "marker": {
             "pattern": {
              "fillmode": "overlay",
              "size": 10,
              "solidity": 0.2
             }
            },
            "type": "histogram"
           }
          ],
          "histogram2d": [
           {
            "colorbar": {
             "outlinewidth": 0,
             "ticks": ""
            },
            "colorscale": [
             [
              0,
              "#0d0887"
             ],
             [
              0.1111111111111111,
              "#46039f"
             ],
             [
              0.2222222222222222,
              "#7201a8"
             ],
             [
              0.3333333333333333,
              "#9c179e"
             ],
             [
              0.4444444444444444,
              "#bd3786"
             ],
             [
              0.5555555555555556,
              "#d8576b"
             ],
             [
              0.6666666666666666,
              "#ed7953"
             ],
             [
              0.7777777777777778,
              "#fb9f3a"
             ],
             [
              0.8888888888888888,
              "#fdca26"
             ],
             [
              1,
              "#f0f921"
             ]
            ],
            "type": "histogram2d"
           }
          ],
          "histogram2dcontour": [
           {
            "colorbar": {
             "outlinewidth": 0,
             "ticks": ""
            },
            "colorscale": [
             [
              0,
              "#0d0887"
             ],
             [
              0.1111111111111111,
              "#46039f"
             ],
             [
              0.2222222222222222,
              "#7201a8"
             ],
             [
              0.3333333333333333,
              "#9c179e"
             ],
             [
              0.4444444444444444,
              "#bd3786"
             ],
             [
              0.5555555555555556,
              "#d8576b"
             ],
             [
              0.6666666666666666,
              "#ed7953"
             ],
             [
              0.7777777777777778,
              "#fb9f3a"
             ],
             [
              0.8888888888888888,
              "#fdca26"
             ],
             [
              1,
              "#f0f921"
             ]
            ],
            "type": "histogram2dcontour"
           }
          ],
          "mesh3d": [
           {
            "colorbar": {
             "outlinewidth": 0,
             "ticks": ""
            },
            "type": "mesh3d"
           }
          ],
          "parcoords": [
           {
            "line": {
             "colorbar": {
              "outlinewidth": 0,
              "ticks": ""
             }
            },
            "type": "parcoords"
           }
          ],
          "pie": [
           {
            "automargin": true,
            "type": "pie"
           }
          ],
          "scatter": [
           {
            "marker": {
             "line": {
              "color": "#283442"
             }
            },
            "type": "scatter"
           }
          ],
          "scatter3d": [
           {
            "line": {
             "colorbar": {
              "outlinewidth": 0,
              "ticks": ""
             }
            },
            "marker": {
             "colorbar": {
              "outlinewidth": 0,
              "ticks": ""
             }
            },
            "type": "scatter3d"
           }
          ],
          "scattercarpet": [
           {
            "marker": {
             "colorbar": {
              "outlinewidth": 0,
              "ticks": ""
             }
            },
            "type": "scattercarpet"
           }
          ],
          "scattergeo": [
           {
            "marker": {
             "colorbar": {
              "outlinewidth": 0,
              "ticks": ""
             }
            },
            "type": "scattergeo"
           }
          ],
          "scattergl": [
           {
            "marker": {
             "line": {
              "color": "#283442"
             }
            },
            "type": "scattergl"
           }
          ],
          "scattermapbox": [
           {
            "marker": {
             "colorbar": {
              "outlinewidth": 0,
              "ticks": ""
             }
            },
            "type": "scattermapbox"
           }
          ],
          "scatterpolar": [
           {
            "marker": {
             "colorbar": {
              "outlinewidth": 0,
              "ticks": ""
             }
            },
            "type": "scatterpolar"
           }
          ],
          "scatterpolargl": [
           {
            "marker": {
             "colorbar": {
              "outlinewidth": 0,
              "ticks": ""
             }
            },
            "type": "scatterpolargl"
           }
          ],
          "scatterternary": [
           {
            "marker": {
             "colorbar": {
              "outlinewidth": 0,
              "ticks": ""
             }
            },
            "type": "scatterternary"
           }
          ],
          "surface": [
           {
            "colorbar": {
             "outlinewidth": 0,
             "ticks": ""
            },
            "colorscale": [
             [
              0,
              "#0d0887"
             ],
             [
              0.1111111111111111,
              "#46039f"
             ],
             [
              0.2222222222222222,
              "#7201a8"
             ],
             [
              0.3333333333333333,
              "#9c179e"
             ],
             [
              0.4444444444444444,
              "#bd3786"
             ],
             [
              0.5555555555555556,
              "#d8576b"
             ],
             [
              0.6666666666666666,
              "#ed7953"
             ],
             [
              0.7777777777777778,
              "#fb9f3a"
             ],
             [
              0.8888888888888888,
              "#fdca26"
             ],
             [
              1,
              "#f0f921"
             ]
            ],
            "type": "surface"
           }
          ],
          "table": [
           {
            "cells": {
             "fill": {
              "color": "#506784"
             },
             "line": {
              "color": "rgb(17,17,17)"
             }
            },
            "header": {
             "fill": {
              "color": "#2a3f5f"
             },
             "line": {
              "color": "rgb(17,17,17)"
             }
            },
            "type": "table"
           }
          ]
         },
         "layout": {
          "annotationdefaults": {
           "arrowcolor": "#f2f5fa",
           "arrowhead": 0,
           "arrowwidth": 1
          },
          "autotypenumbers": "strict",
          "coloraxis": {
           "colorbar": {
            "outlinewidth": 0,
            "ticks": ""
           }
          },
          "colorscale": {
           "diverging": [
            [
             0,
             "#8e0152"
            ],
            [
             0.1,
             "#c51b7d"
            ],
            [
             0.2,
             "#de77ae"
            ],
            [
             0.3,
             "#f1b6da"
            ],
            [
             0.4,
             "#fde0ef"
            ],
            [
             0.5,
             "#f7f7f7"
            ],
            [
             0.6,
             "#e6f5d0"
            ],
            [
             0.7,
             "#b8e186"
            ],
            [
             0.8,
             "#7fbc41"
            ],
            [
             0.9,
             "#4d9221"
            ],
            [
             1,
             "#276419"
            ]
           ],
           "sequential": [
            [
             0,
             "#0d0887"
            ],
            [
             0.1111111111111111,
             "#46039f"
            ],
            [
             0.2222222222222222,
             "#7201a8"
            ],
            [
             0.3333333333333333,
             "#9c179e"
            ],
            [
             0.4444444444444444,
             "#bd3786"
            ],
            [
             0.5555555555555556,
             "#d8576b"
            ],
            [
             0.6666666666666666,
             "#ed7953"
            ],
            [
             0.7777777777777778,
             "#fb9f3a"
            ],
            [
             0.8888888888888888,
             "#fdca26"
            ],
            [
             1,
             "#f0f921"
            ]
           ],
           "sequentialminus": [
            [
             0,
             "#0d0887"
            ],
            [
             0.1111111111111111,
             "#46039f"
            ],
            [
             0.2222222222222222,
             "#7201a8"
            ],
            [
             0.3333333333333333,
             "#9c179e"
            ],
            [
             0.4444444444444444,
             "#bd3786"
            ],
            [
             0.5555555555555556,
             "#d8576b"
            ],
            [
             0.6666666666666666,
             "#ed7953"
            ],
            [
             0.7777777777777778,
             "#fb9f3a"
            ],
            [
             0.8888888888888888,
             "#fdca26"
            ],
            [
             1,
             "#f0f921"
            ]
           ]
          },
          "colorway": [
           "#636efa",
           "#EF553B",
           "#00cc96",
           "#ab63fa",
           "#FFA15A",
           "#19d3f3",
           "#FF6692",
           "#B6E880",
           "#FF97FF",
           "#FECB52"
          ],
          "font": {
           "color": "#f2f5fa"
          },
          "geo": {
           "bgcolor": "rgb(17,17,17)",
           "lakecolor": "rgb(17,17,17)",
           "landcolor": "rgb(17,17,17)",
           "showlakes": true,
           "showland": true,
           "subunitcolor": "#506784"
          },
          "hoverlabel": {
           "align": "left"
          },
          "hovermode": "closest",
          "mapbox": {
           "style": "dark"
          },
          "paper_bgcolor": "rgb(17,17,17)",
          "plot_bgcolor": "rgb(17,17,17)",
          "polar": {
           "angularaxis": {
            "gridcolor": "#506784",
            "linecolor": "#506784",
            "ticks": ""
           },
           "bgcolor": "rgb(17,17,17)",
           "radialaxis": {
            "gridcolor": "#506784",
            "linecolor": "#506784",
            "ticks": ""
           }
          },
          "scene": {
           "xaxis": {
            "backgroundcolor": "rgb(17,17,17)",
            "gridcolor": "#506784",
            "gridwidth": 2,
            "linecolor": "#506784",
            "showbackground": true,
            "ticks": "",
            "zerolinecolor": "#C8D4E3"
           },
           "yaxis": {
            "backgroundcolor": "rgb(17,17,17)",
            "gridcolor": "#506784",
            "gridwidth": 2,
            "linecolor": "#506784",
            "showbackground": true,
            "ticks": "",
            "zerolinecolor": "#C8D4E3"
           },
           "zaxis": {
            "backgroundcolor": "rgb(17,17,17)",
            "gridcolor": "#506784",
            "gridwidth": 2,
            "linecolor": "#506784",
            "showbackground": true,
            "ticks": "",
            "zerolinecolor": "#C8D4E3"
           }
          },
          "shapedefaults": {
           "line": {
            "color": "#f2f5fa"
           }
          },
          "sliderdefaults": {
           "bgcolor": "#C8D4E3",
           "bordercolor": "rgb(17,17,17)",
           "borderwidth": 1,
           "tickwidth": 0
          },
          "ternary": {
           "aaxis": {
            "gridcolor": "#506784",
            "linecolor": "#506784",
            "ticks": ""
           },
           "baxis": {
            "gridcolor": "#506784",
            "linecolor": "#506784",
            "ticks": ""
           },
           "bgcolor": "rgb(17,17,17)",
           "caxis": {
            "gridcolor": "#506784",
            "linecolor": "#506784",
            "ticks": ""
           }
          },
          "title": {
           "x": 0.05
          },
          "updatemenudefaults": {
           "bgcolor": "#506784",
           "borderwidth": 0
          },
          "xaxis": {
           "automargin": true,
           "gridcolor": "#283442",
           "linecolor": "#506784",
           "ticks": "",
           "title": {
            "standoff": 15
           },
           "zerolinecolor": "#283442",
           "zerolinewidth": 2
          },
          "yaxis": {
           "automargin": true,
           "gridcolor": "#283442",
           "linecolor": "#506784",
           "ticks": "",
           "title": {
            "standoff": 15
           },
           "zerolinecolor": "#283442",
           "zerolinewidth": 2
          }
         }
        },
        "width": 1200
       }
      },
      "text/html": [
       "<div>                            <div id=\"b2c6fa07-1a0e-40af-adf6-c7a65ef6bcf6\" class=\"plotly-graph-div\" style=\"height:800px; width:1200px;\"></div>            <script type=\"text/javascript\">                require([\"plotly\"], function(Plotly) {                    window.PLOTLYENV=window.PLOTLYENV || {};                                    if (document.getElementById(\"b2c6fa07-1a0e-40af-adf6-c7a65ef6bcf6\")) {                    Plotly.newPlot(                        \"b2c6fa07-1a0e-40af-adf6-c7a65ef6bcf6\",                        [{\"domain\":{\"x\":[0.0,1.0],\"y\":[0.0,1.0]},\"hovertemplate\":\"Sector=%{label}<extra></extra>\",\"labels\":[\"Industrials\",\"Industrials\",\"Health Care\",\"Health Care\",\"Information Technology\",\"Information Technology\",\"Industrials\",\"Information Technology\",\"Consumer Discretionary\",\"Information Technology\",\"Utilities\",\"Health Care\",\"Financials\",\"Financials\",\"Health Care\",\"Materials\",\"Information Technology\",\"Industrials\",\"Materials\",\"Real Estate\",\"Health Care\",\"Health Care\",\"Industrials\",\"Health Care\",\"Information Technology\",\"Utilities\",\"Financials\",\"Information Technology\",\"Information Technology\",\"Consumer Staples\",\"Consumer Discretionary\",\"Utilities\",\"Industrials\",\"Utilities\",\"Financials\",\"Financials\",\"Real Estate\",\"Utilities\",\"Financials\",\"Health Care\",\"Industrials\",\"Health Care\",\"Information Technology\",\"Energy\",\"Information Technology\",\"Energy\",\"Information Technology\",\"Health Care\",\"Financials\",\"Energy\",\"Real Estate\",\"Information Technology\",\"Information Technology\",\"Consumer Discretionary\",\"Consumer Staples\",\"Industrials\",\"Financials\",\"Financials\",\"Telecommunication Services\",\"Information Technology\",\"Information Technology\",\"Consumer Discretionary\",\"Real Estate\",\"Materials\",\"Energy\",\"Materials\",\"Financials\",\"Health Care\",\"Financials\",\"Health Care\",\"Financials\",\"Consumer Discretionary\",\"Health Care\",\"Financials\",\"Financials\",\"Industrials\",\"Consumer Discretionary\",\"Real Estate\",\"Health Care\",\"Financials\",\"Health Care\",\"Information Technology\",\"Consumer Staples\",\"Industrials\",\"Information Technology\",\"Energy\",\"Information Technology\",\"Consumer Staples\",\"Financials\",\"Health Care\",\"Consumer Discretionary\",\"Consumer Discretionary\",\"Industrials\",\"Financials\",\"Real Estate\",\"Consumer Discretionary\",\"Health Care\",\"Health Care\",\"Utilities\",\"Telecommunication Services\",\"Health Care\",\"Materials\",\"Financials\",\"Consumer Discretionary\",\"Energy\",\"Energy\",\"Consumer Discretionary\",\"Financials\",\"Consumer Staples\",\"Health Care\",\"Energy\",\"Financials\",\"Industrials\",\"Information Technology\",\"Financials\",\"Financials\",\"Information Technology\",\"Financials\",\"Utilities\",\"Consumer Staples\",\"Information Technology\",\"Consumer Staples\",\"Consumer Discretionary\",\"Financials\",\"Consumer Staples\",\"Energy\",\"Energy\",\"Utilities\",\"Consumer Staples\",\"Information Technology\",\"Consumer Staples\",\"Consumer Staples\",\"Real Estate\",\"Information Technology\",\"Industrials\",\"Industrials\",\"Consumer Staples\",\"Consumer Discretionary\",\"Health Care\",\"Consumer Discretionary\",\"Health Care\",\"Industrials\",\"Industrials\",\"Health Care\",\"Energy\",\"Real Estate\",\"Financials\",\"Consumer Discretionary\",\"Consumer Discretionary\",\"Consumer Discretionary\",\"Consumer Discretionary\",\"Consumer Discretionary\",\"Utilities\",\"Industrials\",\"Materials\",\"Consumer Staples\",\"Utilities\",\"Utilities\",\"Real Estate\",\"Information Technology\",\"Financials\",\"Materials\",\"Industrials\",\"Information Technology\",\"Materials\",\"Utilities\",\"Health Care\",\"Information Technology\",\"Industrials\",\"Utilities\",\"Health Care\",\"Energy\",\"Energy\",\"Industrials\",\"Real Estate\",\"Real Estate\",\"Real Estate\",\"Consumer Staples\",\"Financials\",\"Utilities\",\"Utilities\",\"Consumer Discretionary\",\"Industrials\",\"Health Care\",\"Real Estate\",\"Energy\",\"Information Technology\",\"Information Technology\",\"Industrials\",\"Real Estate\",\"Industrials\",\"Information Technology\",\"Financials\",\"Utilities\",\"Information Technology\",\"Information Technology\",\"Industrials\",\"Industrials\",\"Materials\",\"Consumer Discretionary\",\"Consumer Discretionary\",\"Industrials\",\"Industrials\",\"Financials\",\"Materials\",\"Consumer Discretionary\",\"Consumer Discretionary\",\"Information Technology\",\"Industrials\",\"Industrials\",\"Real Estate\",\"Consumer Staples\",\"Consumer Discretionary\",\"Consumer Discretionary\",\"Health Care\",\"Information Technology\",\"Financials\",\"Consumer Discretionary\",\"Industrials\",\"Energy\",\"Consumer Discretionary\",\"Consumer Discretionary\",\"Information Technology\",\"Financials\",\"Consumer Discretionary\",\"Health Care\",\"Real Estate\",\"Energy\",\"Health Care\",\"Energy\",\"Information Technology\",\"Consumer Discretionary\",\"Health Care\",\"Consumer Discretionary\",\"Industrials\",\"Consumer Staples\",\"Real Estate\",\"Information Technology\",\"Health Care\",\"Financials\",\"Industrials\",\"Health Care\",\"Industrials\",\"Industrials\",\"Health Care\",\"Health Care\",\"Industrials\",\"Information Technology\",\"Financials\",\"Information Technology\",\"Materials\",\"Consumer Discretionary\",\"Materials\",\"Information Technology\",\"Health Care\",\"Financials\",\"Health Care\",\"Real Estate\",\"Industrials\",\"Industrials\",\"Consumer Staples\",\"Health Care\",\"Industrials\",\"Financials\",\"Information Technology\",\"Industrials\",\"Consumer Staples\",\"Financials\",\"Consumer Staples\",\"Real Estate\",\"Energy\",\"Information Technology\",\"Consumer Discretionary\",\"Consumer Staples\",\"Consumer Staples\",\"Consumer Discretionary\",\"Industrials\",\"Health Care\",\"Information Technology\",\"Consumer Discretionary\",\"Consumer Discretionary\",\"Financials\",\"Health Care\",\"Financials\",\"Consumer Discretionary\",\"Industrials\",\"Financials\",\"Consumer Discretionary\",\"Materials\",\"Financials\",\"Real Estate\",\"Consumer Discretionary\",\"Energy\",\"Energy\",\"Consumer Discretionary\",\"Financials\",\"Materials\",\"Industrials\",\"Information Technology\",\"Consumer Discretionary\",\"Consumer Staples\",\"Consumer Discretionary\",\"Health Care\",\"Health Care\",\"Health Care\",\"Financials\",\"Health Care\",\"Consumer Discretionary\",\"Consumer Discretionary\",\"Information Technology\",\"Information Technology\",\"Information Technology\",\"Real Estate\",\"Consumer Discretionary\",\"Consumer Staples\",\"Consumer Staples\",\"Materials\",\"Consumer Staples\",\"Financials\",\"Financials\",\"Information Technology\",\"Health Care\",\"Financials\",\"Energy\",\"Financials\",\"Information Technology\",\"Information Technology\",\"Consumer Discretionary\",\"Energy\",\"Materials\",\"Consumer Discretionary\",\"Consumer Discretionary\",\"Utilities\",\"Industrials\",\"Consumer Discretionary\",\"Utilities\",\"Energy\",\"Consumer Discretionary\",\"Industrials\",\"Financials\",\"Industrials\",\"Consumer Discretionary\",\"Utilities\",\"Materials\",\"Information Technology\",\"Consumer Discretionary\",\"Energy\",\"Consumer Discretionary\",\"Energy\",\"Information Technology\",\"Industrials\",\"Materials\",\"Industrials\",\"Health Care\",\"Information Technology\",\"Information Technology\",\"Industrials\",\"Financials\",\"Consumer Staples\",\"Health Care\",\"Health Care\",\"Health Care\",\"Utilities\",\"Consumer Staples\",\"Energy\",\"Utilities\",\"Energy\",\"Financials\",\"Consumer Discretionary\",\"Materials\",\"Utilities\",\"Materials\",\"Consumer Discretionary\",\"Financials\",\"Consumer Staples\",\"Financials\",\"Real Estate\",\"Financials\",\"Utilities\",\"Real Estate\",\"Consumer Discretionary\",\"Consumer Discretionary\",\"Information Technology\",\"Information Technology\",\"Industrials\",\"Health Care\",\"Energy\",\"Financials\",\"Industrials\",\"Real Estate\",\"Information Technology\",\"Real Estate\",\"Health Care\",\"Financials\",\"Industrials\",\"Health Care\",\"Industrials\",\"Industrials\",\"Industrials\",\"Industrials\",\"Consumer Discretionary\",\"Consumer Discretionary\",\"Financials\",\"Information Technology\",\"Real Estate\",\"Utilities\",\"Energy\",\"Consumer Discretionary\",\"Information Technology\",\"Materials\",\"Utilities\",\"Materials\",\"Consumer Discretionary\",\"Real Estate\",\"Information Technology\",\"Real Estate\",\"Consumer Discretionary\",\"Utilities\",\"Industrials\",\"Consumer Discretionary\",\"Consumer Discretionary\",\"Financials\",\"Industrials\",\"Health Care\",\"Financials\",\"Information Technology\",\"Financials\",\"Information Technology\",\"Consumer Staples\",\"Financials\",\"Consumer Discretionary\",\"Consumer Discretionary\",\"Information Technology\",\"Energy\",\"Information Technology\",\"Industrials\",\"Financials\",\"Consumer Staples\",\"Health Care\",\"Consumer Staples\",\"Materials\",\"Financials\",\"Consumer Discretionary\",\"Health Care\",\"Consumer Discretionary\",\"Consumer Discretionary\",\"Consumer Discretionary\",\"Financials\",\"Information Technology\",\"Consumer Discretionary\",\"Industrials\",\"Consumer Discretionary\",\"Consumer Discretionary\",\"Consumer Discretionary\",\"Consumer Staples\",\"Financials\",\"Real Estate\",\"Consumer Discretionary\",\"Consumer Discretionary\",\"Consumer Discretionary\",\"Industrials\",\"Industrials\",\"Health Care\",\"Industrials\",\"Industrials\",\"Industrials\",\"Health Care\",\"Financials\",\"Consumer Discretionary\",\"Energy\",\"Health Care\",\"Real Estate\",\"Information Technology\",\"Industrials\",\"Telecommunication Services\",\"Health Care\",\"Consumer Discretionary\",\"Information Technology\",\"Real Estate\",\"Materials\",\"Consumer Staples\",\"Consumer Staples\",\"Industrials\",\"Health Care\",\"Utilities\",\"Financials\",\"Real Estate\",\"Information Technology\",\"Information Technology\",\"Materials\",\"Real Estate\",\"Consumer Discretionary\",\"Energy\",\"Financials\",\"Consumer Discretionary\",\"Consumer Discretionary\",\"Utilities\",\"Information Technology\",\"Information Technology\",\"Financials\",\"Industrials\",\"Consumer Discretionary\",\"Health Care\",\"Financials\",\"Health Care\"],\"legendgroup\":\"\",\"name\":\"\",\"showlegend\":true,\"type\":\"pie\"}],                        {\"template\":{\"data\":{\"barpolar\":[{\"marker\":{\"line\":{\"color\":\"rgb(17,17,17)\",\"width\":0.5},\"pattern\":{\"fillmode\":\"overlay\",\"size\":10,\"solidity\":0.2}},\"type\":\"barpolar\"}],\"bar\":[{\"error_x\":{\"color\":\"#f2f5fa\"},\"error_y\":{\"color\":\"#f2f5fa\"},\"marker\":{\"line\":{\"color\":\"rgb(17,17,17)\",\"width\":0.5},\"pattern\":{\"fillmode\":\"overlay\",\"size\":10,\"solidity\":0.2}},\"type\":\"bar\"}],\"carpet\":[{\"aaxis\":{\"endlinecolor\":\"#A2B1C6\",\"gridcolor\":\"#506784\",\"linecolor\":\"#506784\",\"minorgridcolor\":\"#506784\",\"startlinecolor\":\"#A2B1C6\"},\"baxis\":{\"endlinecolor\":\"#A2B1C6\",\"gridcolor\":\"#506784\",\"linecolor\":\"#506784\",\"minorgridcolor\":\"#506784\",\"startlinecolor\":\"#A2B1C6\"},\"type\":\"carpet\"}],\"choropleth\":[{\"colorbar\":{\"outlinewidth\":0,\"ticks\":\"\"},\"type\":\"choropleth\"}],\"contourcarpet\":[{\"colorbar\":{\"outlinewidth\":0,\"ticks\":\"\"},\"type\":\"contourcarpet\"}],\"contour\":[{\"colorbar\":{\"outlinewidth\":0,\"ticks\":\"\"},\"colorscale\":[[0.0,\"#0d0887\"],[0.1111111111111111,\"#46039f\"],[0.2222222222222222,\"#7201a8\"],[0.3333333333333333,\"#9c179e\"],[0.4444444444444444,\"#bd3786\"],[0.5555555555555556,\"#d8576b\"],[0.6666666666666666,\"#ed7953\"],[0.7777777777777778,\"#fb9f3a\"],[0.8888888888888888,\"#fdca26\"],[1.0,\"#f0f921\"]],\"type\":\"contour\"}],\"heatmapgl\":[{\"colorbar\":{\"outlinewidth\":0,\"ticks\":\"\"},\"colorscale\":[[0.0,\"#0d0887\"],[0.1111111111111111,\"#46039f\"],[0.2222222222222222,\"#7201a8\"],[0.3333333333333333,\"#9c179e\"],[0.4444444444444444,\"#bd3786\"],[0.5555555555555556,\"#d8576b\"],[0.6666666666666666,\"#ed7953\"],[0.7777777777777778,\"#fb9f3a\"],[0.8888888888888888,\"#fdca26\"],[1.0,\"#f0f921\"]],\"type\":\"heatmapgl\"}],\"heatmap\":[{\"colorbar\":{\"outlinewidth\":0,\"ticks\":\"\"},\"colorscale\":[[0.0,\"#0d0887\"],[0.1111111111111111,\"#46039f\"],[0.2222222222222222,\"#7201a8\"],[0.3333333333333333,\"#9c179e\"],[0.4444444444444444,\"#bd3786\"],[0.5555555555555556,\"#d8576b\"],[0.6666666666666666,\"#ed7953\"],[0.7777777777777778,\"#fb9f3a\"],[0.8888888888888888,\"#fdca26\"],[1.0,\"#f0f921\"]],\"type\":\"heatmap\"}],\"histogram2dcontour\":[{\"colorbar\":{\"outlinewidth\":0,\"ticks\":\"\"},\"colorscale\":[[0.0,\"#0d0887\"],[0.1111111111111111,\"#46039f\"],[0.2222222222222222,\"#7201a8\"],[0.3333333333333333,\"#9c179e\"],[0.4444444444444444,\"#bd3786\"],[0.5555555555555556,\"#d8576b\"],[0.6666666666666666,\"#ed7953\"],[0.7777777777777778,\"#fb9f3a\"],[0.8888888888888888,\"#fdca26\"],[1.0,\"#f0f921\"]],\"type\":\"histogram2dcontour\"}],\"histogram2d\":[{\"colorbar\":{\"outlinewidth\":0,\"ticks\":\"\"},\"colorscale\":[[0.0,\"#0d0887\"],[0.1111111111111111,\"#46039f\"],[0.2222222222222222,\"#7201a8\"],[0.3333333333333333,\"#9c179e\"],[0.4444444444444444,\"#bd3786\"],[0.5555555555555556,\"#d8576b\"],[0.6666666666666666,\"#ed7953\"],[0.7777777777777778,\"#fb9f3a\"],[0.8888888888888888,\"#fdca26\"],[1.0,\"#f0f921\"]],\"type\":\"histogram2d\"}],\"histogram\":[{\"marker\":{\"pattern\":{\"fillmode\":\"overlay\",\"size\":10,\"solidity\":0.2}},\"type\":\"histogram\"}],\"mesh3d\":[{\"colorbar\":{\"outlinewidth\":0,\"ticks\":\"\"},\"type\":\"mesh3d\"}],\"parcoords\":[{\"line\":{\"colorbar\":{\"outlinewidth\":0,\"ticks\":\"\"}},\"type\":\"parcoords\"}],\"pie\":[{\"automargin\":true,\"type\":\"pie\"}],\"scatter3d\":[{\"line\":{\"colorbar\":{\"outlinewidth\":0,\"ticks\":\"\"}},\"marker\":{\"colorbar\":{\"outlinewidth\":0,\"ticks\":\"\"}},\"type\":\"scatter3d\"}],\"scattercarpet\":[{\"marker\":{\"colorbar\":{\"outlinewidth\":0,\"ticks\":\"\"}},\"type\":\"scattercarpet\"}],\"scattergeo\":[{\"marker\":{\"colorbar\":{\"outlinewidth\":0,\"ticks\":\"\"}},\"type\":\"scattergeo\"}],\"scattergl\":[{\"marker\":{\"line\":{\"color\":\"#283442\"}},\"type\":\"scattergl\"}],\"scattermapbox\":[{\"marker\":{\"colorbar\":{\"outlinewidth\":0,\"ticks\":\"\"}},\"type\":\"scattermapbox\"}],\"scatterpolargl\":[{\"marker\":{\"colorbar\":{\"outlinewidth\":0,\"ticks\":\"\"}},\"type\":\"scatterpolargl\"}],\"scatterpolar\":[{\"marker\":{\"colorbar\":{\"outlinewidth\":0,\"ticks\":\"\"}},\"type\":\"scatterpolar\"}],\"scatter\":[{\"marker\":{\"line\":{\"color\":\"#283442\"}},\"type\":\"scatter\"}],\"scatterternary\":[{\"marker\":{\"colorbar\":{\"outlinewidth\":0,\"ticks\":\"\"}},\"type\":\"scatterternary\"}],\"surface\":[{\"colorbar\":{\"outlinewidth\":0,\"ticks\":\"\"},\"colorscale\":[[0.0,\"#0d0887\"],[0.1111111111111111,\"#46039f\"],[0.2222222222222222,\"#7201a8\"],[0.3333333333333333,\"#9c179e\"],[0.4444444444444444,\"#bd3786\"],[0.5555555555555556,\"#d8576b\"],[0.6666666666666666,\"#ed7953\"],[0.7777777777777778,\"#fb9f3a\"],[0.8888888888888888,\"#fdca26\"],[1.0,\"#f0f921\"]],\"type\":\"surface\"}],\"table\":[{\"cells\":{\"fill\":{\"color\":\"#506784\"},\"line\":{\"color\":\"rgb(17,17,17)\"}},\"header\":{\"fill\":{\"color\":\"#2a3f5f\"},\"line\":{\"color\":\"rgb(17,17,17)\"}},\"type\":\"table\"}]},\"layout\":{\"annotationdefaults\":{\"arrowcolor\":\"#f2f5fa\",\"arrowhead\":0,\"arrowwidth\":1},\"autotypenumbers\":\"strict\",\"coloraxis\":{\"colorbar\":{\"outlinewidth\":0,\"ticks\":\"\"}},\"colorscale\":{\"diverging\":[[0,\"#8e0152\"],[0.1,\"#c51b7d\"],[0.2,\"#de77ae\"],[0.3,\"#f1b6da\"],[0.4,\"#fde0ef\"],[0.5,\"#f7f7f7\"],[0.6,\"#e6f5d0\"],[0.7,\"#b8e186\"],[0.8,\"#7fbc41\"],[0.9,\"#4d9221\"],[1,\"#276419\"]],\"sequential\":[[0.0,\"#0d0887\"],[0.1111111111111111,\"#46039f\"],[0.2222222222222222,\"#7201a8\"],[0.3333333333333333,\"#9c179e\"],[0.4444444444444444,\"#bd3786\"],[0.5555555555555556,\"#d8576b\"],[0.6666666666666666,\"#ed7953\"],[0.7777777777777778,\"#fb9f3a\"],[0.8888888888888888,\"#fdca26\"],[1.0,\"#f0f921\"]],\"sequentialminus\":[[0.0,\"#0d0887\"],[0.1111111111111111,\"#46039f\"],[0.2222222222222222,\"#7201a8\"],[0.3333333333333333,\"#9c179e\"],[0.4444444444444444,\"#bd3786\"],[0.5555555555555556,\"#d8576b\"],[0.6666666666666666,\"#ed7953\"],[0.7777777777777778,\"#fb9f3a\"],[0.8888888888888888,\"#fdca26\"],[1.0,\"#f0f921\"]]},\"colorway\":[\"#636efa\",\"#EF553B\",\"#00cc96\",\"#ab63fa\",\"#FFA15A\",\"#19d3f3\",\"#FF6692\",\"#B6E880\",\"#FF97FF\",\"#FECB52\"],\"font\":{\"color\":\"#f2f5fa\"},\"geo\":{\"bgcolor\":\"rgb(17,17,17)\",\"lakecolor\":\"rgb(17,17,17)\",\"landcolor\":\"rgb(17,17,17)\",\"showlakes\":true,\"showland\":true,\"subunitcolor\":\"#506784\"},\"hoverlabel\":{\"align\":\"left\"},\"hovermode\":\"closest\",\"mapbox\":{\"style\":\"dark\"},\"paper_bgcolor\":\"rgb(17,17,17)\",\"plot_bgcolor\":\"rgb(17,17,17)\",\"polar\":{\"angularaxis\":{\"gridcolor\":\"#506784\",\"linecolor\":\"#506784\",\"ticks\":\"\"},\"bgcolor\":\"rgb(17,17,17)\",\"radialaxis\":{\"gridcolor\":\"#506784\",\"linecolor\":\"#506784\",\"ticks\":\"\"}},\"scene\":{\"xaxis\":{\"backgroundcolor\":\"rgb(17,17,17)\",\"gridcolor\":\"#506784\",\"gridwidth\":2,\"linecolor\":\"#506784\",\"showbackground\":true,\"ticks\":\"\",\"zerolinecolor\":\"#C8D4E3\"},\"yaxis\":{\"backgroundcolor\":\"rgb(17,17,17)\",\"gridcolor\":\"#506784\",\"gridwidth\":2,\"linecolor\":\"#506784\",\"showbackground\":true,\"ticks\":\"\",\"zerolinecolor\":\"#C8D4E3\"},\"zaxis\":{\"backgroundcolor\":\"rgb(17,17,17)\",\"gridcolor\":\"#506784\",\"gridwidth\":2,\"linecolor\":\"#506784\",\"showbackground\":true,\"ticks\":\"\",\"zerolinecolor\":\"#C8D4E3\"}},\"shapedefaults\":{\"line\":{\"color\":\"#f2f5fa\"}},\"sliderdefaults\":{\"bgcolor\":\"#C8D4E3\",\"bordercolor\":\"rgb(17,17,17)\",\"borderwidth\":1,\"tickwidth\":0},\"ternary\":{\"aaxis\":{\"gridcolor\":\"#506784\",\"linecolor\":\"#506784\",\"ticks\":\"\"},\"baxis\":{\"gridcolor\":\"#506784\",\"linecolor\":\"#506784\",\"ticks\":\"\"},\"bgcolor\":\"rgb(17,17,17)\",\"caxis\":{\"gridcolor\":\"#506784\",\"linecolor\":\"#506784\",\"ticks\":\"\"}},\"title\":{\"x\":0.05},\"updatemenudefaults\":{\"bgcolor\":\"#506784\",\"borderwidth\":0},\"xaxis\":{\"automargin\":true,\"gridcolor\":\"#283442\",\"linecolor\":\"#506784\",\"ticks\":\"\",\"title\":{\"standoff\":15},\"zerolinecolor\":\"#283442\",\"zerolinewidth\":2},\"yaxis\":{\"automargin\":true,\"gridcolor\":\"#283442\",\"linecolor\":\"#506784\",\"ticks\":\"\",\"title\":{\"standoff\":15},\"zerolinecolor\":\"#283442\",\"zerolinewidth\":2}}},\"legend\":{\"tracegroupgap\":0},\"margin\":{\"t\":60},\"width\":1200,\"height\":800},                        {\"responsive\": true}                    ).then(function(){\n",
       "                            \n",
       "var gd = document.getElementById('b2c6fa07-1a0e-40af-adf6-c7a65ef6bcf6');\n",
       "var x = new MutationObserver(function (mutations, observer) {{\n",
       "        var display = window.getComputedStyle(gd).display;\n",
       "        if (!display || display === 'none') {{\n",
       "            console.log([gd, 'removed!']);\n",
       "            Plotly.purge(gd);\n",
       "            observer.disconnect();\n",
       "        }}\n",
       "}});\n",
       "\n",
       "// Listen for the removal of the full notebook cells\n",
       "var notebookContainer = gd.closest('#notebook-container');\n",
       "if (notebookContainer) {{\n",
       "    x.observe(notebookContainer, {childList: true});\n",
       "}}\n",
       "\n",
       "// Listen for the clearing of the current output cell\n",
       "var outputEl = gd.closest('.output');\n",
       "if (outputEl) {{\n",
       "    x.observe(outputEl, {childList: true});\n",
       "}}\n",
       "\n",
       "                        })                };                });            </script>        </div>"
      ]
     },
     "metadata": {},
     "output_type": "display_data"
    }
   ],
   "source": [
    "SnP_500 = pd.read_csv('/home/mj22/data/financials.csv')\n",
    "\n",
    "fig = px.pie(SnP_500, names='Sector')\n",
    "fig.update_layout(width=1200, height=800, template = \"plotly_dark\")\n",
    "fig.show()"
   ]
  },
  {
   "attachments": {},
   "cell_type": "markdown",
   "metadata": {},
   "source": [
    "### BOX PLOT"
   ]
  },
  {
   "attachments": {},
   "cell_type": "markdown",
   "metadata": {},
   "source": [
    "A box plot is a graphical representation that provides a visual summary of the distribution of a dataset. It is particularly useful for comparing the distribution of multiple variables or groups. The plot consists of a box that represents the interquartile range (IQR), which contains the middle 50% of the data, with a line inside the box indicating the median. The whiskers extend from the box to the minimum and maximum values, excluding any outliers, which are represented as individual points. By examining the box plot, we can identify the central tendency, spread, skewness, and potential outliers in the data, making it a powerful tool for exploratory data analysis."
   ]
  },
  {
   "attachments": {},
   "cell_type": "markdown",
   "metadata": {},
   "source": [
    "When we examine the box plot for Price/Sales for all the stocks in the index, we quickly notice the presence of outliers. The maximum value is 20, the minimum value is 0.15, and the median is 2.89. The first quartile is 1.62, and the third quartile is 4.71. "
   ]
  },
  {
   "cell_type": "code",
   "execution_count": 106,
   "metadata": {},
   "outputs": [
    {
     "data": {
      "application/vnd.plotly.v1+json": {
       "config": {
        "plotlyServerURL": "https://plot.ly"
       },
       "data": [
        {
         "alignmentgroup": "True",
         "hovertemplate": "Price/Sales=%{y}<extra></extra>",
         "legendgroup": "",
         "marker": {
          "color": "firebrick"
         },
         "name": "",
         "notched": false,
         "offsetgroup": "",
         "orientation": "v",
         "showlegend": false,
         "type": "box",
         "x0": " ",
         "xaxis": "x",
         "y": [
          4.3902707,
          3.5754826,
          3.7404804,
          6.291571,
          2.604117,
          10.59512,
          1.7953473,
          13.092818,
          1.1301061,
          2.1091955,
          0.65951383,
          0.9923546,
          4.591235,
          1.5429344,
          6.493563,
          4.1163683,
          5.8546524,
          0.9801092,
          5.3666205,
          10.492155,
          9.720562,
          13.138819,
          4.265232,
          4.820115,
          1.7282298,
          3.4331481,
          1.2085556,
          6.801692,
          6.772653,
          4.945682,
          3.927053,
          2.693119,
          0.58022565,
          2.7489934,
          2.273575,
          1.4686536,
          11.954137,
          5.553833,
          1.9493247,
          0.17396984,
          4.015368,
          5.58192,
          3.85675,
          3.9682212,
          8.00391,
          0.6618165,
          16.8134,
          0.6696521,
          3.4972682,
          3.651366,
          6.187621,
          3.4586093,
          4.7020154,
          1.5025798,
          0.52478915,
          0.94214815,
          1.9400215,
          0.9821866,
          1.4083152,
          16.50682,
          4.0483294,
          1.8510429,
          10.251216,
          1.5206499,
          1.9390045,
          1.5696399,
          3.2011874,
          3.4394414,
          3.4552107,
          5.6912947,
          1.4328232,
          0.76715523,
          5.737439,
          6.9158196,
          2.0188456,
          2.1560605,
          1.5831376,
          6.839459,
          4.055685,
          1.4188358,
          6.503231,
          6.961893,
          1.8411398,
          0.85282737,
          3.3742425,
          8.636729,
          5.751737,
          2.3898203,
          1.5931405,
          0.21131156,
          0.6913859,
          2.8147783,
          2.0468428,
          8.249042,
          1.4622321,
          2.1055017,
          5.830071,
          0.5028663,
          1.6262617,
          1.4795984,
          5.5560412,
          3.0044448,
          7.949615,
          2.1208634,
          0.40765184,
          1.6489863,
          2.5523853,
          2.0985637,
          3.1682448,
          1.550762,
          7.556446,
          2.756679,
          2.7614057,
          5.484418,
          2.1857586,
          3.3917346,
          4.7538714,
          14.881806,
          2.4711676,
          6.822138,
          3.9678397,
          4.000737,
          2.1797748,
          4.905472,
          1.8294994,
          12.271951,
          2.0764177,
          2.960244,
          5.145596,
          2.544682,
          0.61203885,
          2.0061796,
          10.125291,
          1.3324839,
          4.216355,
          1.9406168,
          0.549852,
          1.1931022,
          3.688278,
          1.5278828,
          1.1451397,
          2.3746448,
          0.91792434,
          4.626262,
          2.0660408,
          12.434961,
          2.3610325,
          1.804088,
          1.7147918,
          1.8521843,
          1.5283886,
          1.6097589,
          3.7954214,
          1.986176,
          2.6922395,
          4.2149186,
          1.9091922,
          2.9348857,
          16.077257,
          1.9598055,
          5.689136,
          1.4904785,
          1.8161736,
          4.6720185,
          3.7360687,
          2.161095,
          7.8283277,
          7.4415817,
          3.6707752,
          1.5543115,
          1.227099,
          8.02302,
          6.4987307,
          5.6338058,
          10.639136,
          8.593619,
          14.1830845,
          3.9522583,
          2.0991988,
          3.1134193,
          1.3933871,
          2.5074897,
          2.190319,
          0.57588416,
          12.204818,
          1.7701944,
          4.1203604,
          13.241967,
          3.472977,
          12.898601,
          1.0751684,
          4.7038417,
          2.8802848,
          1.2994481,
          6.518713,
          5.137961,
          2.0803037,
          0.5516402,
          6.0089035,
          1.0362948,
          0.27054095,
          5.1682673,
          1.8434572,
          3.399101,
          1.6538345,
          1.1289738,
          5.319881,
          4.894499,
          2.0481362,
          1.0887611,
          17.003777,
          2.0389178,
          0.5633218,
          1.212236,
          5.2087464,
          5.775833,
          2.309415,
          0.72725976,
          1.3995146,
          2.1424224,
          1.6339768,
          1.66195,
          2.9516637,
          1.3939538,
          3.2375681,
          0.7251921,
          8.127109,
          3.7385862,
          1.262194,
          3.780475,
          1.4609766,
          3.7628453,
          4.80335,
          2.8964398,
          2.8267899,
          2.5174792,
          3.5549128,
          0.8954903,
          0.9256895,
          3.5112102,
          1.8924941,
          7.97525,
          5.0604,
          3.9286149,
          11.713953,
          17.02699,
          1.6147361,
          3.348876,
          9.619987,
          1.817167,
          1.0738261,
          1.4712903,
          4.4208813,
          9.633731,
          14.655261,
          2.6513786,
          2.8477087,
          3.2898626,
          1.7697402,
          1.2129636,
          2.496677,
          4.6326222,
          1.1415336,
          3.3714993,
          1.8543326,
          4.281897,
          2.3173764,
          3.270451,
          2.1947837,
          7.0508943,
          2.823936,
          4.3395863,
          0.8557757,
          4.6780853,
          0.27961263,
          1.7060977,
          1.4884604,
          2.2459624,
          3.0405293,
          2.0302901,
          1.1468264,
          1.0410156,
          3.754678,
          1.201944,
          1.723609,
          1.8781451,
          1.5809761,
          1.5653384,
          1.3037612,
          4.6277885,
          11.394877,
          0.45503208,
          4.6578755,
          0.42713487,
          2.9997249,
          2.9848945,
          4.416998,
          2.308266,
          15.020556,
          1.1863722,
          2.7788277,
          5.770237,
          0.15318617,
          4.944542,
          5.0893345,
          1.0496864,
          8.372307,
          2.2276719,
          3.1455927,
          7.4475183,
          2.1912806,
          7.1130967,
          6.6291075,
          2.7977824,
          1.2371694,
          2.5708609,
          3.589782,
          14.152587,
          9.932974,
          2.2258842,
          2.6092634,
          2.5358944,
          3.2591083,
          2.5209634,
          0.6986579,
          3.6687026,
          9.861594,
          1.2810479,
          4.703259,
          3.7076392,
          1.5518167,
          1.5718216,
          4.091698,
          2.7288198,
          3.0549932,
          2.2361343,
          4.6976447,
          0.74603415,
          3.8525908,
          4.031728,
          2.209576,
          3.2066104,
          0.9933021,
          0.99837583,
          20.094294,
          3.1934319,
          6.044895,
          1.5327156,
          2.6159565,
          5.2561646,
          1.28693,
          1.741522,
          1.8652664,
          0.7872792,
          7.248487,
          6.935696,
          2.5191512,
          3.9272704,
          3.6705062,
          3.7116463,
          3.3850067,
          4.0020885,
          1.5730644,
          2.7574685,
          0.47499472,
          2.9931207,
          6.7890477,
          4.04653,
          1.3948758,
          1.9551051,
          3.7497053,
          3.887915,
          9.176564,
          1.7167546,
          3.1595004,
          1.1458876,
          14.380373,
          1.083727,
          3.4491453,
          16.16417,
          1.0341544,
          1.7617522,
          3.389142,
          4.263658,
          0.77893436,
          1.7709883,
          1.9624339,
          1.9734555,
          2.2938328,
          15.588069,
          8.202077,
          13.762162,
          8.48541,
          3.474771,
          2.8841186,
          6.1640687,
          1.3330402,
          3.760594,
          3.781273,
          5.9715905,
          2.9734495,
          3.1026611,
          10.254704,
          10.3738785,
          15.189207,
          1.651705,
          3.2297828,
          4.374079,
          1.3048558,
          2.4700067,
          3.15303,
          2.5276077,
          0.7564699,
          8.754495,
          6.9704437,
          6.5820084,
          3.5114813,
          2.5080602,
          1.6294897,
          1.944325,
          3.4392443,
          3.263072,
          2.2607324,
          4.635566,
          3.3089445,
          3.5516493,
          2.1096623,
          6.276264,
          0.7295535,
          7.3911157,
          4.0785494,
          0.8047394,
          2.5734365,
          1.561575,
          6.9572234,
          1.0645695,
          3.3834257,
          2.798683,
          6.8538465,
          2.8396711,
          1.8161958,
          1.33382,
          3.9635563,
          4.015666,
          4.516748,
          2.3735986,
          1.9293598,
          3.1079664,
          3.175548,
          1.1642125,
          4.268832,
          4.5925775,
          2.1080317,
          3.1654842,
          0.93730986,
          3.7773547,
          12.365829,
          3.3779113,
          1.602308,
          1.4738787,
          4.8605075,
          0.5020496,
          1.0903316,
          1.4744618,
          2.1782618,
          1.7324123,
          1.3158662,
          0.9984924,
          3.7110944,
          0.4211918,
          3.9652252,
          7.0740495,
          12.401829,
          9.935474,
          1.6452544,
          16.185404,
          1.0924768,
          14.433654,
          7.1491003,
          5.7576876,
          0.82099426,
          0.5904388,
          3.2787669,
          6.9824114,
          2.4834197,
          2.8728192,
          6.725218,
          1.245503,
          2.22677,
          1.075785,
          3.6396794,
          0.58064795,
          4.2982845,
          3.4484663,
          2.7332082,
          2.478658,
          2.520456,
          0.7877656,
          7.101206,
          0.84394187,
          2.7262094,
          6.3136363,
          3.1648953,
          3.7945793,
          9.280896
         ],
         "y0": " ",
         "yaxis": "y"
        }
       ],
       "layout": {
        "boxmode": "group",
        "height": 800,
        "legend": {
         "tracegroupgap": 0
        },
        "margin": {
         "t": 60
        },
        "template": {
         "data": {
          "bar": [
           {
            "error_x": {
             "color": "#f2f5fa"
            },
            "error_y": {
             "color": "#f2f5fa"
            },
            "marker": {
             "line": {
              "color": "rgb(17,17,17)",
              "width": 0.5
             },
             "pattern": {
              "fillmode": "overlay",
              "size": 10,
              "solidity": 0.2
             }
            },
            "type": "bar"
           }
          ],
          "barpolar": [
           {
            "marker": {
             "line": {
              "color": "rgb(17,17,17)",
              "width": 0.5
             },
             "pattern": {
              "fillmode": "overlay",
              "size": 10,
              "solidity": 0.2
             }
            },
            "type": "barpolar"
           }
          ],
          "carpet": [
           {
            "aaxis": {
             "endlinecolor": "#A2B1C6",
             "gridcolor": "#506784",
             "linecolor": "#506784",
             "minorgridcolor": "#506784",
             "startlinecolor": "#A2B1C6"
            },
            "baxis": {
             "endlinecolor": "#A2B1C6",
             "gridcolor": "#506784",
             "linecolor": "#506784",
             "minorgridcolor": "#506784",
             "startlinecolor": "#A2B1C6"
            },
            "type": "carpet"
           }
          ],
          "choropleth": [
           {
            "colorbar": {
             "outlinewidth": 0,
             "ticks": ""
            },
            "type": "choropleth"
           }
          ],
          "contour": [
           {
            "colorbar": {
             "outlinewidth": 0,
             "ticks": ""
            },
            "colorscale": [
             [
              0,
              "#0d0887"
             ],
             [
              0.1111111111111111,
              "#46039f"
             ],
             [
              0.2222222222222222,
              "#7201a8"
             ],
             [
              0.3333333333333333,
              "#9c179e"
             ],
             [
              0.4444444444444444,
              "#bd3786"
             ],
             [
              0.5555555555555556,
              "#d8576b"
             ],
             [
              0.6666666666666666,
              "#ed7953"
             ],
             [
              0.7777777777777778,
              "#fb9f3a"
             ],
             [
              0.8888888888888888,
              "#fdca26"
             ],
             [
              1,
              "#f0f921"
             ]
            ],
            "type": "contour"
           }
          ],
          "contourcarpet": [
           {
            "colorbar": {
             "outlinewidth": 0,
             "ticks": ""
            },
            "type": "contourcarpet"
           }
          ],
          "heatmap": [
           {
            "colorbar": {
             "outlinewidth": 0,
             "ticks": ""
            },
            "colorscale": [
             [
              0,
              "#0d0887"
             ],
             [
              0.1111111111111111,
              "#46039f"
             ],
             [
              0.2222222222222222,
              "#7201a8"
             ],
             [
              0.3333333333333333,
              "#9c179e"
             ],
             [
              0.4444444444444444,
              "#bd3786"
             ],
             [
              0.5555555555555556,
              "#d8576b"
             ],
             [
              0.6666666666666666,
              "#ed7953"
             ],
             [
              0.7777777777777778,
              "#fb9f3a"
             ],
             [
              0.8888888888888888,
              "#fdca26"
             ],
             [
              1,
              "#f0f921"
             ]
            ],
            "type": "heatmap"
           }
          ],
          "heatmapgl": [
           {
            "colorbar": {
             "outlinewidth": 0,
             "ticks": ""
            },
            "colorscale": [
             [
              0,
              "#0d0887"
             ],
             [
              0.1111111111111111,
              "#46039f"
             ],
             [
              0.2222222222222222,
              "#7201a8"
             ],
             [
              0.3333333333333333,
              "#9c179e"
             ],
             [
              0.4444444444444444,
              "#bd3786"
             ],
             [
              0.5555555555555556,
              "#d8576b"
             ],
             [
              0.6666666666666666,
              "#ed7953"
             ],
             [
              0.7777777777777778,
              "#fb9f3a"
             ],
             [
              0.8888888888888888,
              "#fdca26"
             ],
             [
              1,
              "#f0f921"
             ]
            ],
            "type": "heatmapgl"
           }
          ],
          "histogram": [
           {
            "marker": {
             "pattern": {
              "fillmode": "overlay",
              "size": 10,
              "solidity": 0.2
             }
            },
            "type": "histogram"
           }
          ],
          "histogram2d": [
           {
            "colorbar": {
             "outlinewidth": 0,
             "ticks": ""
            },
            "colorscale": [
             [
              0,
              "#0d0887"
             ],
             [
              0.1111111111111111,
              "#46039f"
             ],
             [
              0.2222222222222222,
              "#7201a8"
             ],
             [
              0.3333333333333333,
              "#9c179e"
             ],
             [
              0.4444444444444444,
              "#bd3786"
             ],
             [
              0.5555555555555556,
              "#d8576b"
             ],
             [
              0.6666666666666666,
              "#ed7953"
             ],
             [
              0.7777777777777778,
              "#fb9f3a"
             ],
             [
              0.8888888888888888,
              "#fdca26"
             ],
             [
              1,
              "#f0f921"
             ]
            ],
            "type": "histogram2d"
           }
          ],
          "histogram2dcontour": [
           {
            "colorbar": {
             "outlinewidth": 0,
             "ticks": ""
            },
            "colorscale": [
             [
              0,
              "#0d0887"
             ],
             [
              0.1111111111111111,
              "#46039f"
             ],
             [
              0.2222222222222222,
              "#7201a8"
             ],
             [
              0.3333333333333333,
              "#9c179e"
             ],
             [
              0.4444444444444444,
              "#bd3786"
             ],
             [
              0.5555555555555556,
              "#d8576b"
             ],
             [
              0.6666666666666666,
              "#ed7953"
             ],
             [
              0.7777777777777778,
              "#fb9f3a"
             ],
             [
              0.8888888888888888,
              "#fdca26"
             ],
             [
              1,
              "#f0f921"
             ]
            ],
            "type": "histogram2dcontour"
           }
          ],
          "mesh3d": [
           {
            "colorbar": {
             "outlinewidth": 0,
             "ticks": ""
            },
            "type": "mesh3d"
           }
          ],
          "parcoords": [
           {
            "line": {
             "colorbar": {
              "outlinewidth": 0,
              "ticks": ""
             }
            },
            "type": "parcoords"
           }
          ],
          "pie": [
           {
            "automargin": true,
            "type": "pie"
           }
          ],
          "scatter": [
           {
            "marker": {
             "line": {
              "color": "#283442"
             }
            },
            "type": "scatter"
           }
          ],
          "scatter3d": [
           {
            "line": {
             "colorbar": {
              "outlinewidth": 0,
              "ticks": ""
             }
            },
            "marker": {
             "colorbar": {
              "outlinewidth": 0,
              "ticks": ""
             }
            },
            "type": "scatter3d"
           }
          ],
          "scattercarpet": [
           {
            "marker": {
             "colorbar": {
              "outlinewidth": 0,
              "ticks": ""
             }
            },
            "type": "scattercarpet"
           }
          ],
          "scattergeo": [
           {
            "marker": {
             "colorbar": {
              "outlinewidth": 0,
              "ticks": ""
             }
            },
            "type": "scattergeo"
           }
          ],
          "scattergl": [
           {
            "marker": {
             "line": {
              "color": "#283442"
             }
            },
            "type": "scattergl"
           }
          ],
          "scattermapbox": [
           {
            "marker": {
             "colorbar": {
              "outlinewidth": 0,
              "ticks": ""
             }
            },
            "type": "scattermapbox"
           }
          ],
          "scatterpolar": [
           {
            "marker": {
             "colorbar": {
              "outlinewidth": 0,
              "ticks": ""
             }
            },
            "type": "scatterpolar"
           }
          ],
          "scatterpolargl": [
           {
            "marker": {
             "colorbar": {
              "outlinewidth": 0,
              "ticks": ""
             }
            },
            "type": "scatterpolargl"
           }
          ],
          "scatterternary": [
           {
            "marker": {
             "colorbar": {
              "outlinewidth": 0,
              "ticks": ""
             }
            },
            "type": "scatterternary"
           }
          ],
          "surface": [
           {
            "colorbar": {
             "outlinewidth": 0,
             "ticks": ""
            },
            "colorscale": [
             [
              0,
              "#0d0887"
             ],
             [
              0.1111111111111111,
              "#46039f"
             ],
             [
              0.2222222222222222,
              "#7201a8"
             ],
             [
              0.3333333333333333,
              "#9c179e"
             ],
             [
              0.4444444444444444,
              "#bd3786"
             ],
             [
              0.5555555555555556,
              "#d8576b"
             ],
             [
              0.6666666666666666,
              "#ed7953"
             ],
             [
              0.7777777777777778,
              "#fb9f3a"
             ],
             [
              0.8888888888888888,
              "#fdca26"
             ],
             [
              1,
              "#f0f921"
             ]
            ],
            "type": "surface"
           }
          ],
          "table": [
           {
            "cells": {
             "fill": {
              "color": "#506784"
             },
             "line": {
              "color": "rgb(17,17,17)"
             }
            },
            "header": {
             "fill": {
              "color": "#2a3f5f"
             },
             "line": {
              "color": "rgb(17,17,17)"
             }
            },
            "type": "table"
           }
          ]
         },
         "layout": {
          "annotationdefaults": {
           "arrowcolor": "#f2f5fa",
           "arrowhead": 0,
           "arrowwidth": 1
          },
          "autotypenumbers": "strict",
          "coloraxis": {
           "colorbar": {
            "outlinewidth": 0,
            "ticks": ""
           }
          },
          "colorscale": {
           "diverging": [
            [
             0,
             "#8e0152"
            ],
            [
             0.1,
             "#c51b7d"
            ],
            [
             0.2,
             "#de77ae"
            ],
            [
             0.3,
             "#f1b6da"
            ],
            [
             0.4,
             "#fde0ef"
            ],
            [
             0.5,
             "#f7f7f7"
            ],
            [
             0.6,
             "#e6f5d0"
            ],
            [
             0.7,
             "#b8e186"
            ],
            [
             0.8,
             "#7fbc41"
            ],
            [
             0.9,
             "#4d9221"
            ],
            [
             1,
             "#276419"
            ]
           ],
           "sequential": [
            [
             0,
             "#0d0887"
            ],
            [
             0.1111111111111111,
             "#46039f"
            ],
            [
             0.2222222222222222,
             "#7201a8"
            ],
            [
             0.3333333333333333,
             "#9c179e"
            ],
            [
             0.4444444444444444,
             "#bd3786"
            ],
            [
             0.5555555555555556,
             "#d8576b"
            ],
            [
             0.6666666666666666,
             "#ed7953"
            ],
            [
             0.7777777777777778,
             "#fb9f3a"
            ],
            [
             0.8888888888888888,
             "#fdca26"
            ],
            [
             1,
             "#f0f921"
            ]
           ],
           "sequentialminus": [
            [
             0,
             "#0d0887"
            ],
            [
             0.1111111111111111,
             "#46039f"
            ],
            [
             0.2222222222222222,
             "#7201a8"
            ],
            [
             0.3333333333333333,
             "#9c179e"
            ],
            [
             0.4444444444444444,
             "#bd3786"
            ],
            [
             0.5555555555555556,
             "#d8576b"
            ],
            [
             0.6666666666666666,
             "#ed7953"
            ],
            [
             0.7777777777777778,
             "#fb9f3a"
            ],
            [
             0.8888888888888888,
             "#fdca26"
            ],
            [
             1,
             "#f0f921"
            ]
           ]
          },
          "colorway": [
           "#636efa",
           "#EF553B",
           "#00cc96",
           "#ab63fa",
           "#FFA15A",
           "#19d3f3",
           "#FF6692",
           "#B6E880",
           "#FF97FF",
           "#FECB52"
          ],
          "font": {
           "color": "#f2f5fa"
          },
          "geo": {
           "bgcolor": "rgb(17,17,17)",
           "lakecolor": "rgb(17,17,17)",
           "landcolor": "rgb(17,17,17)",
           "showlakes": true,
           "showland": true,
           "subunitcolor": "#506784"
          },
          "hoverlabel": {
           "align": "left"
          },
          "hovermode": "closest",
          "mapbox": {
           "style": "dark"
          },
          "paper_bgcolor": "rgb(17,17,17)",
          "plot_bgcolor": "rgb(17,17,17)",
          "polar": {
           "angularaxis": {
            "gridcolor": "#506784",
            "linecolor": "#506784",
            "ticks": ""
           },
           "bgcolor": "rgb(17,17,17)",
           "radialaxis": {
            "gridcolor": "#506784",
            "linecolor": "#506784",
            "ticks": ""
           }
          },
          "scene": {
           "xaxis": {
            "backgroundcolor": "rgb(17,17,17)",
            "gridcolor": "#506784",
            "gridwidth": 2,
            "linecolor": "#506784",
            "showbackground": true,
            "ticks": "",
            "zerolinecolor": "#C8D4E3"
           },
           "yaxis": {
            "backgroundcolor": "rgb(17,17,17)",
            "gridcolor": "#506784",
            "gridwidth": 2,
            "linecolor": "#506784",
            "showbackground": true,
            "ticks": "",
            "zerolinecolor": "#C8D4E3"
           },
           "zaxis": {
            "backgroundcolor": "rgb(17,17,17)",
            "gridcolor": "#506784",
            "gridwidth": 2,
            "linecolor": "#506784",
            "showbackground": true,
            "ticks": "",
            "zerolinecolor": "#C8D4E3"
           }
          },
          "shapedefaults": {
           "line": {
            "color": "#f2f5fa"
           }
          },
          "sliderdefaults": {
           "bgcolor": "#C8D4E3",
           "bordercolor": "rgb(17,17,17)",
           "borderwidth": 1,
           "tickwidth": 0
          },
          "ternary": {
           "aaxis": {
            "gridcolor": "#506784",
            "linecolor": "#506784",
            "ticks": ""
           },
           "baxis": {
            "gridcolor": "#506784",
            "linecolor": "#506784",
            "ticks": ""
           },
           "bgcolor": "rgb(17,17,17)",
           "caxis": {
            "gridcolor": "#506784",
            "linecolor": "#506784",
            "ticks": ""
           }
          },
          "title": {
           "x": 0.05
          },
          "updatemenudefaults": {
           "bgcolor": "#506784",
           "borderwidth": 0
          },
          "xaxis": {
           "automargin": true,
           "gridcolor": "#283442",
           "linecolor": "#506784",
           "ticks": "",
           "title": {
            "standoff": 15
           },
           "zerolinecolor": "#283442",
           "zerolinewidth": 2
          },
          "yaxis": {
           "automargin": true,
           "gridcolor": "#283442",
           "linecolor": "#506784",
           "ticks": "",
           "title": {
            "standoff": 15
           },
           "zerolinecolor": "#283442",
           "zerolinewidth": 2
          }
         }
        },
        "width": 1000,
        "xaxis": {
         "anchor": "y",
         "domain": [
          0,
          1
         ]
        },
        "yaxis": {
         "anchor": "x",
         "domain": [
          0,
          1
         ],
         "title": {
          "text": "Price/Sales"
         }
        }
       }
      },
      "text/html": [
       "<div>                            <div id=\"f259c1c8-65cc-4fed-b83e-0276c06299f0\" class=\"plotly-graph-div\" style=\"height:800px; width:1000px;\"></div>            <script type=\"text/javascript\">                require([\"plotly\"], function(Plotly) {                    window.PLOTLYENV=window.PLOTLYENV || {};                                    if (document.getElementById(\"f259c1c8-65cc-4fed-b83e-0276c06299f0\")) {                    Plotly.newPlot(                        \"f259c1c8-65cc-4fed-b83e-0276c06299f0\",                        [{\"alignmentgroup\":\"True\",\"hovertemplate\":\"Price/Sales=%{y}<extra></extra>\",\"legendgroup\":\"\",\"marker\":{\"color\":\"firebrick\"},\"name\":\"\",\"notched\":false,\"offsetgroup\":\"\",\"orientation\":\"v\",\"showlegend\":false,\"x0\":\" \",\"xaxis\":\"x\",\"y\":[4.3902707,3.5754826,3.7404804,6.291571,2.604117,10.59512,1.7953473,13.092818,1.1301061,2.1091955,0.65951383,0.9923546,4.591235,1.5429344,6.493563,4.1163683,5.8546524,0.9801092,5.3666205,10.492155,9.720562,13.138819,4.265232,4.820115,1.7282298,3.4331481,1.2085556,6.801692,6.772653,4.945682,3.927053,2.693119,0.58022565,2.7489934,2.273575,1.4686536,11.954137,5.553833,1.9493247,0.17396984,4.015368,5.58192,3.85675,3.9682212,8.00391,0.6618165,16.8134,0.6696521,3.4972682,3.651366,6.187621,3.4586093,4.7020154,1.5025798,0.52478915,0.94214815,1.9400215,0.9821866,1.4083152,16.50682,4.0483294,1.8510429,10.251216,1.5206499,1.9390045,1.5696399,3.2011874,3.4394414,3.4552107,5.6912947,1.4328232,0.76715523,5.737439,6.9158196,2.0188456,2.1560605,1.5831376,6.839459,4.055685,1.4188358,6.503231,6.961893,1.8411398,0.85282737,3.3742425,8.636729,5.751737,2.3898203,1.5931405,0.21131156,0.6913859,2.8147783,2.0468428,8.249042,1.4622321,2.1055017,5.830071,0.5028663,1.6262617,1.4795984,5.5560412,3.0044448,7.949615,2.1208634,0.40765184,1.6489863,2.5523853,2.0985637,3.1682448,1.550762,7.556446,2.756679,2.7614057,5.484418,2.1857586,3.3917346,4.7538714,14.881806,2.4711676,6.822138,3.9678397,4.000737,2.1797748,4.905472,1.8294994,12.271951,2.0764177,2.960244,5.145596,2.544682,0.61203885,2.0061796,10.125291,1.3324839,4.216355,1.9406168,0.549852,1.1931022,3.688278,1.5278828,1.1451397,2.3746448,0.91792434,4.626262,2.0660408,12.434961,2.3610325,1.804088,1.7147918,1.8521843,1.5283886,1.6097589,3.7954214,1.986176,2.6922395,4.2149186,1.9091922,2.9348857,16.077257,1.9598055,5.689136,1.4904785,1.8161736,4.6720185,3.7360687,2.161095,7.8283277,7.4415817,3.6707752,1.5543115,1.227099,8.02302,6.4987307,5.6338058,10.639136,8.593619,14.1830845,3.9522583,2.0991988,3.1134193,1.3933871,2.5074897,2.190319,0.57588416,12.204818,1.7701944,4.1203604,13.241967,3.472977,12.898601,1.0751684,4.7038417,2.8802848,1.2994481,6.518713,5.137961,2.0803037,0.5516402,6.0089035,1.0362948,0.27054095,5.1682673,1.8434572,3.399101,1.6538345,1.1289738,5.319881,4.894499,2.0481362,1.0887611,17.003777,2.0389178,0.5633218,1.212236,5.2087464,5.775833,2.309415,0.72725976,1.3995146,2.1424224,1.6339768,1.66195,2.9516637,1.3939538,3.2375681,0.7251921,8.127109,3.7385862,1.262194,3.780475,1.4609766,3.7628453,4.80335,2.8964398,2.8267899,2.5174792,3.5549128,0.8954903,0.9256895,3.5112102,1.8924941,7.97525,5.0604,3.9286149,11.713953,17.02699,1.6147361,3.348876,9.619987,1.817167,1.0738261,1.4712903,4.4208813,9.633731,14.655261,2.6513786,2.8477087,3.2898626,1.7697402,1.2129636,2.496677,4.6326222,1.1415336,3.3714993,1.8543326,4.281897,2.3173764,3.270451,2.1947837,7.0508943,2.823936,4.3395863,0.8557757,4.6780853,0.27961263,1.7060977,1.4884604,2.2459624,3.0405293,2.0302901,1.1468264,1.0410156,3.754678,1.201944,1.723609,1.8781451,1.5809761,1.5653384,1.3037612,4.6277885,11.394877,0.45503208,4.6578755,0.42713487,2.9997249,2.9848945,4.416998,2.308266,15.020556,1.1863722,2.7788277,5.770237,0.15318617,4.944542,5.0893345,1.0496864,8.372307,2.2276719,3.1455927,7.4475183,2.1912806,7.1130967,6.6291075,2.7977824,1.2371694,2.5708609,3.589782,14.152587,9.932974,2.2258842,2.6092634,2.5358944,3.2591083,2.5209634,0.6986579,3.6687026,9.861594,1.2810479,4.703259,3.7076392,1.5518167,1.5718216,4.091698,2.7288198,3.0549932,2.2361343,4.6976447,0.74603415,3.8525908,4.031728,2.209576,3.2066104,0.9933021,0.99837583,20.094294,3.1934319,6.044895,1.5327156,2.6159565,5.2561646,1.28693,1.741522,1.8652664,0.7872792,7.248487,6.935696,2.5191512,3.9272704,3.6705062,3.7116463,3.3850067,4.0020885,1.5730644,2.7574685,0.47499472,2.9931207,6.7890477,4.04653,1.3948758,1.9551051,3.7497053,3.887915,9.176564,1.7167546,3.1595004,1.1458876,14.380373,1.083727,3.4491453,16.16417,1.0341544,1.7617522,3.389142,4.263658,0.77893436,1.7709883,1.9624339,1.9734555,2.2938328,15.588069,8.202077,13.762162,8.48541,3.474771,2.8841186,6.1640687,1.3330402,3.760594,3.781273,5.9715905,2.9734495,3.1026611,10.254704,10.3738785,15.189207,1.651705,3.2297828,4.374079,1.3048558,2.4700067,3.15303,2.5276077,0.7564699,8.754495,6.9704437,6.5820084,3.5114813,2.5080602,1.6294897,1.944325,3.4392443,3.263072,2.2607324,4.635566,3.3089445,3.5516493,2.1096623,6.276264,0.7295535,7.3911157,4.0785494,0.8047394,2.5734365,1.561575,6.9572234,1.0645695,3.3834257,2.798683,6.8538465,2.8396711,1.8161958,1.33382,3.9635563,4.015666,4.516748,2.3735986,1.9293598,3.1079664,3.175548,1.1642125,4.268832,4.5925775,2.1080317,3.1654842,0.93730986,3.7773547,12.365829,3.3779113,1.602308,1.4738787,4.8605075,0.5020496,1.0903316,1.4744618,2.1782618,1.7324123,1.3158662,0.9984924,3.7110944,0.4211918,3.9652252,7.0740495,12.401829,9.935474,1.6452544,16.185404,1.0924768,14.433654,7.1491003,5.7576876,0.82099426,0.5904388,3.2787669,6.9824114,2.4834197,2.8728192,6.725218,1.245503,2.22677,1.075785,3.6396794,0.58064795,4.2982845,3.4484663,2.7332082,2.478658,2.520456,0.7877656,7.101206,0.84394187,2.7262094,6.3136363,3.1648953,3.7945793,9.280896],\"y0\":\" \",\"yaxis\":\"y\",\"type\":\"box\"}],                        {\"template\":{\"data\":{\"barpolar\":[{\"marker\":{\"line\":{\"color\":\"rgb(17,17,17)\",\"width\":0.5},\"pattern\":{\"fillmode\":\"overlay\",\"size\":10,\"solidity\":0.2}},\"type\":\"barpolar\"}],\"bar\":[{\"error_x\":{\"color\":\"#f2f5fa\"},\"error_y\":{\"color\":\"#f2f5fa\"},\"marker\":{\"line\":{\"color\":\"rgb(17,17,17)\",\"width\":0.5},\"pattern\":{\"fillmode\":\"overlay\",\"size\":10,\"solidity\":0.2}},\"type\":\"bar\"}],\"carpet\":[{\"aaxis\":{\"endlinecolor\":\"#A2B1C6\",\"gridcolor\":\"#506784\",\"linecolor\":\"#506784\",\"minorgridcolor\":\"#506784\",\"startlinecolor\":\"#A2B1C6\"},\"baxis\":{\"endlinecolor\":\"#A2B1C6\",\"gridcolor\":\"#506784\",\"linecolor\":\"#506784\",\"minorgridcolor\":\"#506784\",\"startlinecolor\":\"#A2B1C6\"},\"type\":\"carpet\"}],\"choropleth\":[{\"colorbar\":{\"outlinewidth\":0,\"ticks\":\"\"},\"type\":\"choropleth\"}],\"contourcarpet\":[{\"colorbar\":{\"outlinewidth\":0,\"ticks\":\"\"},\"type\":\"contourcarpet\"}],\"contour\":[{\"colorbar\":{\"outlinewidth\":0,\"ticks\":\"\"},\"colorscale\":[[0.0,\"#0d0887\"],[0.1111111111111111,\"#46039f\"],[0.2222222222222222,\"#7201a8\"],[0.3333333333333333,\"#9c179e\"],[0.4444444444444444,\"#bd3786\"],[0.5555555555555556,\"#d8576b\"],[0.6666666666666666,\"#ed7953\"],[0.7777777777777778,\"#fb9f3a\"],[0.8888888888888888,\"#fdca26\"],[1.0,\"#f0f921\"]],\"type\":\"contour\"}],\"heatmapgl\":[{\"colorbar\":{\"outlinewidth\":0,\"ticks\":\"\"},\"colorscale\":[[0.0,\"#0d0887\"],[0.1111111111111111,\"#46039f\"],[0.2222222222222222,\"#7201a8\"],[0.3333333333333333,\"#9c179e\"],[0.4444444444444444,\"#bd3786\"],[0.5555555555555556,\"#d8576b\"],[0.6666666666666666,\"#ed7953\"],[0.7777777777777778,\"#fb9f3a\"],[0.8888888888888888,\"#fdca26\"],[1.0,\"#f0f921\"]],\"type\":\"heatmapgl\"}],\"heatmap\":[{\"colorbar\":{\"outlinewidth\":0,\"ticks\":\"\"},\"colorscale\":[[0.0,\"#0d0887\"],[0.1111111111111111,\"#46039f\"],[0.2222222222222222,\"#7201a8\"],[0.3333333333333333,\"#9c179e\"],[0.4444444444444444,\"#bd3786\"],[0.5555555555555556,\"#d8576b\"],[0.6666666666666666,\"#ed7953\"],[0.7777777777777778,\"#fb9f3a\"],[0.8888888888888888,\"#fdca26\"],[1.0,\"#f0f921\"]],\"type\":\"heatmap\"}],\"histogram2dcontour\":[{\"colorbar\":{\"outlinewidth\":0,\"ticks\":\"\"},\"colorscale\":[[0.0,\"#0d0887\"],[0.1111111111111111,\"#46039f\"],[0.2222222222222222,\"#7201a8\"],[0.3333333333333333,\"#9c179e\"],[0.4444444444444444,\"#bd3786\"],[0.5555555555555556,\"#d8576b\"],[0.6666666666666666,\"#ed7953\"],[0.7777777777777778,\"#fb9f3a\"],[0.8888888888888888,\"#fdca26\"],[1.0,\"#f0f921\"]],\"type\":\"histogram2dcontour\"}],\"histogram2d\":[{\"colorbar\":{\"outlinewidth\":0,\"ticks\":\"\"},\"colorscale\":[[0.0,\"#0d0887\"],[0.1111111111111111,\"#46039f\"],[0.2222222222222222,\"#7201a8\"],[0.3333333333333333,\"#9c179e\"],[0.4444444444444444,\"#bd3786\"],[0.5555555555555556,\"#d8576b\"],[0.6666666666666666,\"#ed7953\"],[0.7777777777777778,\"#fb9f3a\"],[0.8888888888888888,\"#fdca26\"],[1.0,\"#f0f921\"]],\"type\":\"histogram2d\"}],\"histogram\":[{\"marker\":{\"pattern\":{\"fillmode\":\"overlay\",\"size\":10,\"solidity\":0.2}},\"type\":\"histogram\"}],\"mesh3d\":[{\"colorbar\":{\"outlinewidth\":0,\"ticks\":\"\"},\"type\":\"mesh3d\"}],\"parcoords\":[{\"line\":{\"colorbar\":{\"outlinewidth\":0,\"ticks\":\"\"}},\"type\":\"parcoords\"}],\"pie\":[{\"automargin\":true,\"type\":\"pie\"}],\"scatter3d\":[{\"line\":{\"colorbar\":{\"outlinewidth\":0,\"ticks\":\"\"}},\"marker\":{\"colorbar\":{\"outlinewidth\":0,\"ticks\":\"\"}},\"type\":\"scatter3d\"}],\"scattercarpet\":[{\"marker\":{\"colorbar\":{\"outlinewidth\":0,\"ticks\":\"\"}},\"type\":\"scattercarpet\"}],\"scattergeo\":[{\"marker\":{\"colorbar\":{\"outlinewidth\":0,\"ticks\":\"\"}},\"type\":\"scattergeo\"}],\"scattergl\":[{\"marker\":{\"line\":{\"color\":\"#283442\"}},\"type\":\"scattergl\"}],\"scattermapbox\":[{\"marker\":{\"colorbar\":{\"outlinewidth\":0,\"ticks\":\"\"}},\"type\":\"scattermapbox\"}],\"scatterpolargl\":[{\"marker\":{\"colorbar\":{\"outlinewidth\":0,\"ticks\":\"\"}},\"type\":\"scatterpolargl\"}],\"scatterpolar\":[{\"marker\":{\"colorbar\":{\"outlinewidth\":0,\"ticks\":\"\"}},\"type\":\"scatterpolar\"}],\"scatter\":[{\"marker\":{\"line\":{\"color\":\"#283442\"}},\"type\":\"scatter\"}],\"scatterternary\":[{\"marker\":{\"colorbar\":{\"outlinewidth\":0,\"ticks\":\"\"}},\"type\":\"scatterternary\"}],\"surface\":[{\"colorbar\":{\"outlinewidth\":0,\"ticks\":\"\"},\"colorscale\":[[0.0,\"#0d0887\"],[0.1111111111111111,\"#46039f\"],[0.2222222222222222,\"#7201a8\"],[0.3333333333333333,\"#9c179e\"],[0.4444444444444444,\"#bd3786\"],[0.5555555555555556,\"#d8576b\"],[0.6666666666666666,\"#ed7953\"],[0.7777777777777778,\"#fb9f3a\"],[0.8888888888888888,\"#fdca26\"],[1.0,\"#f0f921\"]],\"type\":\"surface\"}],\"table\":[{\"cells\":{\"fill\":{\"color\":\"#506784\"},\"line\":{\"color\":\"rgb(17,17,17)\"}},\"header\":{\"fill\":{\"color\":\"#2a3f5f\"},\"line\":{\"color\":\"rgb(17,17,17)\"}},\"type\":\"table\"}]},\"layout\":{\"annotationdefaults\":{\"arrowcolor\":\"#f2f5fa\",\"arrowhead\":0,\"arrowwidth\":1},\"autotypenumbers\":\"strict\",\"coloraxis\":{\"colorbar\":{\"outlinewidth\":0,\"ticks\":\"\"}},\"colorscale\":{\"diverging\":[[0,\"#8e0152\"],[0.1,\"#c51b7d\"],[0.2,\"#de77ae\"],[0.3,\"#f1b6da\"],[0.4,\"#fde0ef\"],[0.5,\"#f7f7f7\"],[0.6,\"#e6f5d0\"],[0.7,\"#b8e186\"],[0.8,\"#7fbc41\"],[0.9,\"#4d9221\"],[1,\"#276419\"]],\"sequential\":[[0.0,\"#0d0887\"],[0.1111111111111111,\"#46039f\"],[0.2222222222222222,\"#7201a8\"],[0.3333333333333333,\"#9c179e\"],[0.4444444444444444,\"#bd3786\"],[0.5555555555555556,\"#d8576b\"],[0.6666666666666666,\"#ed7953\"],[0.7777777777777778,\"#fb9f3a\"],[0.8888888888888888,\"#fdca26\"],[1.0,\"#f0f921\"]],\"sequentialminus\":[[0.0,\"#0d0887\"],[0.1111111111111111,\"#46039f\"],[0.2222222222222222,\"#7201a8\"],[0.3333333333333333,\"#9c179e\"],[0.4444444444444444,\"#bd3786\"],[0.5555555555555556,\"#d8576b\"],[0.6666666666666666,\"#ed7953\"],[0.7777777777777778,\"#fb9f3a\"],[0.8888888888888888,\"#fdca26\"],[1.0,\"#f0f921\"]]},\"colorway\":[\"#636efa\",\"#EF553B\",\"#00cc96\",\"#ab63fa\",\"#FFA15A\",\"#19d3f3\",\"#FF6692\",\"#B6E880\",\"#FF97FF\",\"#FECB52\"],\"font\":{\"color\":\"#f2f5fa\"},\"geo\":{\"bgcolor\":\"rgb(17,17,17)\",\"lakecolor\":\"rgb(17,17,17)\",\"landcolor\":\"rgb(17,17,17)\",\"showlakes\":true,\"showland\":true,\"subunitcolor\":\"#506784\"},\"hoverlabel\":{\"align\":\"left\"},\"hovermode\":\"closest\",\"mapbox\":{\"style\":\"dark\"},\"paper_bgcolor\":\"rgb(17,17,17)\",\"plot_bgcolor\":\"rgb(17,17,17)\",\"polar\":{\"angularaxis\":{\"gridcolor\":\"#506784\",\"linecolor\":\"#506784\",\"ticks\":\"\"},\"bgcolor\":\"rgb(17,17,17)\",\"radialaxis\":{\"gridcolor\":\"#506784\",\"linecolor\":\"#506784\",\"ticks\":\"\"}},\"scene\":{\"xaxis\":{\"backgroundcolor\":\"rgb(17,17,17)\",\"gridcolor\":\"#506784\",\"gridwidth\":2,\"linecolor\":\"#506784\",\"showbackground\":true,\"ticks\":\"\",\"zerolinecolor\":\"#C8D4E3\"},\"yaxis\":{\"backgroundcolor\":\"rgb(17,17,17)\",\"gridcolor\":\"#506784\",\"gridwidth\":2,\"linecolor\":\"#506784\",\"showbackground\":true,\"ticks\":\"\",\"zerolinecolor\":\"#C8D4E3\"},\"zaxis\":{\"backgroundcolor\":\"rgb(17,17,17)\",\"gridcolor\":\"#506784\",\"gridwidth\":2,\"linecolor\":\"#506784\",\"showbackground\":true,\"ticks\":\"\",\"zerolinecolor\":\"#C8D4E3\"}},\"shapedefaults\":{\"line\":{\"color\":\"#f2f5fa\"}},\"sliderdefaults\":{\"bgcolor\":\"#C8D4E3\",\"bordercolor\":\"rgb(17,17,17)\",\"borderwidth\":1,\"tickwidth\":0},\"ternary\":{\"aaxis\":{\"gridcolor\":\"#506784\",\"linecolor\":\"#506784\",\"ticks\":\"\"},\"baxis\":{\"gridcolor\":\"#506784\",\"linecolor\":\"#506784\",\"ticks\":\"\"},\"bgcolor\":\"rgb(17,17,17)\",\"caxis\":{\"gridcolor\":\"#506784\",\"linecolor\":\"#506784\",\"ticks\":\"\"}},\"title\":{\"x\":0.05},\"updatemenudefaults\":{\"bgcolor\":\"#506784\",\"borderwidth\":0},\"xaxis\":{\"automargin\":true,\"gridcolor\":\"#283442\",\"linecolor\":\"#506784\",\"ticks\":\"\",\"title\":{\"standoff\":15},\"zerolinecolor\":\"#283442\",\"zerolinewidth\":2},\"yaxis\":{\"automargin\":true,\"gridcolor\":\"#283442\",\"linecolor\":\"#506784\",\"ticks\":\"\",\"title\":{\"standoff\":15},\"zerolinecolor\":\"#283442\",\"zerolinewidth\":2}}},\"xaxis\":{\"anchor\":\"y\",\"domain\":[0.0,1.0]},\"yaxis\":{\"anchor\":\"x\",\"domain\":[0.0,1.0],\"title\":{\"text\":\"Price/Sales\"}},\"legend\":{\"tracegroupgap\":0},\"margin\":{\"t\":60},\"boxmode\":\"group\",\"width\":1000,\"height\":800},                        {\"responsive\": true}                    ).then(function(){\n",
       "                            \n",
       "var gd = document.getElementById('f259c1c8-65cc-4fed-b83e-0276c06299f0');\n",
       "var x = new MutationObserver(function (mutations, observer) {{\n",
       "        var display = window.getComputedStyle(gd).display;\n",
       "        if (!display || display === 'none') {{\n",
       "            console.log([gd, 'removed!']);\n",
       "            Plotly.purge(gd);\n",
       "            observer.disconnect();\n",
       "        }}\n",
       "}});\n",
       "\n",
       "// Listen for the removal of the full notebook cells\n",
       "var notebookContainer = gd.closest('#notebook-container');\n",
       "if (notebookContainer) {{\n",
       "    x.observe(notebookContainer, {childList: true});\n",
       "}}\n",
       "\n",
       "// Listen for the clearing of the current output cell\n",
       "var outputEl = gd.closest('.output');\n",
       "if (outputEl) {{\n",
       "    x.observe(outputEl, {childList: true});\n",
       "}}\n",
       "\n",
       "                        })                };                });            </script>        </div>"
      ]
     },
     "metadata": {},
     "output_type": "display_data"
    }
   ],
   "source": [
    "fig = px.box(SnP_500, y='Price/Sales', color_discrete_sequence=['firebrick'])\n",
    "fig.update_layout(width=1000, height=800, template = \"plotly_dark\")\n",
    "fig.show()"
   ]
  },
  {
   "attachments": {},
   "cell_type": "markdown",
   "metadata": {},
   "source": [
    "We can also analyze the Price/Sales ratio for each sector in the index, providing us with a more insightful observation. From this analysis, we can observe that the real estate sector has a significantly higher P/S ratio compared to other sectors, while the telecommunications sector appears to have the lowest. However, it's important to note that this is an inductive observation, as the index only includes the 500 largest companies, which may not present the complete picture."
   ]
  },
  {
   "cell_type": "code",
   "execution_count": 101,
   "metadata": {},
   "outputs": [
    {
     "data": {
      "application/vnd.plotly.v1+json": {
       "config": {
        "plotlyServerURL": "https://plot.ly"
       },
       "data": [
        {
         "alignmentgroup": "True",
         "hovertemplate": "Sector=%{x}<br>Price/Sales=%{y}<extra></extra>",
         "legendgroup": "",
         "marker": {
          "color": "firebrick"
         },
         "name": "",
         "notched": false,
         "offsetgroup": "",
         "orientation": "v",
         "showlegend": false,
         "type": "box",
         "x": [
          "Industrials",
          "Industrials",
          "Health Care",
          "Health Care",
          "Information Technology",
          "Information Technology",
          "Industrials",
          "Information Technology",
          "Consumer Discretionary",
          "Information Technology",
          "Utilities",
          "Health Care",
          "Financials",
          "Financials",
          "Health Care",
          "Materials",
          "Information Technology",
          "Industrials",
          "Materials",
          "Real Estate",
          "Health Care",
          "Health Care",
          "Industrials",
          "Health Care",
          "Information Technology",
          "Utilities",
          "Financials",
          "Information Technology",
          "Information Technology",
          "Consumer Staples",
          "Consumer Discretionary",
          "Utilities",
          "Industrials",
          "Utilities",
          "Financials",
          "Financials",
          "Real Estate",
          "Utilities",
          "Financials",
          "Health Care",
          "Industrials",
          "Health Care",
          "Information Technology",
          "Energy",
          "Information Technology",
          "Energy",
          "Information Technology",
          "Health Care",
          "Financials",
          "Energy",
          "Real Estate",
          "Information Technology",
          "Information Technology",
          "Consumer Discretionary",
          "Consumer Staples",
          "Industrials",
          "Financials",
          "Financials",
          "Telecommunication Services",
          "Information Technology",
          "Information Technology",
          "Consumer Discretionary",
          "Real Estate",
          "Materials",
          "Energy",
          "Materials",
          "Financials",
          "Health Care",
          "Financials",
          "Health Care",
          "Financials",
          "Consumer Discretionary",
          "Health Care",
          "Financials",
          "Financials",
          "Industrials",
          "Consumer Discretionary",
          "Real Estate",
          "Health Care",
          "Financials",
          "Health Care",
          "Information Technology",
          "Consumer Staples",
          "Industrials",
          "Information Technology",
          "Energy",
          "Information Technology",
          "Consumer Staples",
          "Financials",
          "Health Care",
          "Consumer Discretionary",
          "Consumer Discretionary",
          "Industrials",
          "Financials",
          "Real Estate",
          "Consumer Discretionary",
          "Health Care",
          "Health Care",
          "Utilities",
          "Telecommunication Services",
          "Health Care",
          "Materials",
          "Financials",
          "Consumer Discretionary",
          "Energy",
          "Energy",
          "Consumer Discretionary",
          "Financials",
          "Consumer Staples",
          "Health Care",
          "Energy",
          "Financials",
          "Industrials",
          "Information Technology",
          "Financials",
          "Financials",
          "Information Technology",
          "Financials",
          "Utilities",
          "Consumer Staples",
          "Information Technology",
          "Consumer Staples",
          "Consumer Discretionary",
          "Financials",
          "Consumer Staples",
          "Energy",
          "Energy",
          "Utilities",
          "Consumer Staples",
          "Information Technology",
          "Consumer Staples",
          "Consumer Staples",
          "Real Estate",
          "Information Technology",
          "Industrials",
          "Industrials",
          "Consumer Staples",
          "Consumer Discretionary",
          "Health Care",
          "Consumer Discretionary",
          "Health Care",
          "Industrials",
          "Industrials",
          "Health Care",
          "Energy",
          "Real Estate",
          "Financials",
          "Consumer Discretionary",
          "Consumer Discretionary",
          "Consumer Discretionary",
          "Consumer Discretionary",
          "Consumer Discretionary",
          "Utilities",
          "Industrials",
          "Materials",
          "Consumer Staples",
          "Utilities",
          "Utilities",
          "Real Estate",
          "Information Technology",
          "Financials",
          "Materials",
          "Industrials",
          "Information Technology",
          "Materials",
          "Utilities",
          "Health Care",
          "Information Technology",
          "Industrials",
          "Utilities",
          "Health Care",
          "Energy",
          "Energy",
          "Industrials",
          "Real Estate",
          "Real Estate",
          "Real Estate",
          "Consumer Staples",
          "Financials",
          "Utilities",
          "Utilities",
          "Consumer Discretionary",
          "Industrials",
          "Health Care",
          "Real Estate",
          "Energy",
          "Information Technology",
          "Information Technology",
          "Industrials",
          "Real Estate",
          "Industrials",
          "Information Technology",
          "Financials",
          "Utilities",
          "Information Technology",
          "Information Technology",
          "Industrials",
          "Industrials",
          "Materials",
          "Consumer Discretionary",
          "Consumer Discretionary",
          "Industrials",
          "Industrials",
          "Financials",
          "Materials",
          "Consumer Discretionary",
          "Consumer Discretionary",
          "Information Technology",
          "Industrials",
          "Industrials",
          "Real Estate",
          "Consumer Staples",
          "Consumer Discretionary",
          "Consumer Discretionary",
          "Health Care",
          "Information Technology",
          "Financials",
          "Consumer Discretionary",
          "Industrials",
          "Energy",
          "Consumer Discretionary",
          "Consumer Discretionary",
          "Information Technology",
          "Financials",
          "Consumer Discretionary",
          "Health Care",
          "Real Estate",
          "Energy",
          "Health Care",
          "Energy",
          "Information Technology",
          "Consumer Discretionary",
          "Health Care",
          "Consumer Discretionary",
          "Industrials",
          "Consumer Staples",
          "Real Estate",
          "Information Technology",
          "Health Care",
          "Financials",
          "Industrials",
          "Health Care",
          "Industrials",
          "Industrials",
          "Health Care",
          "Health Care",
          "Industrials",
          "Information Technology",
          "Financials",
          "Information Technology",
          "Materials",
          "Consumer Discretionary",
          "Materials",
          "Information Technology",
          "Health Care",
          "Financials",
          "Health Care",
          "Real Estate",
          "Industrials",
          "Industrials",
          "Consumer Staples",
          "Health Care",
          "Industrials",
          "Financials",
          "Information Technology",
          "Industrials",
          "Consumer Staples",
          "Financials",
          "Consumer Staples",
          "Real Estate",
          "Energy",
          "Information Technology",
          "Consumer Discretionary",
          "Consumer Staples",
          "Consumer Staples",
          "Consumer Discretionary",
          "Industrials",
          "Health Care",
          "Information Technology",
          "Consumer Discretionary",
          "Consumer Discretionary",
          "Financials",
          "Health Care",
          "Financials",
          "Consumer Discretionary",
          "Industrials",
          "Financials",
          "Consumer Discretionary",
          "Materials",
          "Financials",
          "Real Estate",
          "Consumer Discretionary",
          "Energy",
          "Energy",
          "Consumer Discretionary",
          "Financials",
          "Materials",
          "Industrials",
          "Information Technology",
          "Consumer Discretionary",
          "Consumer Staples",
          "Consumer Discretionary",
          "Health Care",
          "Health Care",
          "Health Care",
          "Financials",
          "Health Care",
          "Consumer Discretionary",
          "Consumer Discretionary",
          "Information Technology",
          "Information Technology",
          "Information Technology",
          "Real Estate",
          "Consumer Discretionary",
          "Consumer Staples",
          "Consumer Staples",
          "Materials",
          "Consumer Staples",
          "Financials",
          "Financials",
          "Information Technology",
          "Health Care",
          "Financials",
          "Energy",
          "Financials",
          "Information Technology",
          "Information Technology",
          "Consumer Discretionary",
          "Energy",
          "Materials",
          "Consumer Discretionary",
          "Consumer Discretionary",
          "Utilities",
          "Industrials",
          "Consumer Discretionary",
          "Utilities",
          "Energy",
          "Consumer Discretionary",
          "Industrials",
          "Financials",
          "Industrials",
          "Consumer Discretionary",
          "Utilities",
          "Materials",
          "Information Technology",
          "Consumer Discretionary",
          "Energy",
          "Consumer Discretionary",
          "Energy",
          "Information Technology",
          "Industrials",
          "Materials",
          "Industrials",
          "Health Care",
          "Information Technology",
          "Information Technology",
          "Industrials",
          "Financials",
          "Consumer Staples",
          "Health Care",
          "Health Care",
          "Health Care",
          "Utilities",
          "Consumer Staples",
          "Energy",
          "Utilities",
          "Energy",
          "Financials",
          "Consumer Discretionary",
          "Materials",
          "Utilities",
          "Materials",
          "Consumer Discretionary",
          "Financials",
          "Consumer Staples",
          "Financials",
          "Real Estate",
          "Financials",
          "Utilities",
          "Real Estate",
          "Consumer Discretionary",
          "Consumer Discretionary",
          "Information Technology",
          "Information Technology",
          "Industrials",
          "Health Care",
          "Energy",
          "Financials",
          "Industrials",
          "Real Estate",
          "Information Technology",
          "Real Estate",
          "Health Care",
          "Financials",
          "Industrials",
          "Health Care",
          "Industrials",
          "Industrials",
          "Industrials",
          "Industrials",
          "Consumer Discretionary",
          "Consumer Discretionary",
          "Financials",
          "Information Technology",
          "Real Estate",
          "Utilities",
          "Energy",
          "Consumer Discretionary",
          "Information Technology",
          "Materials",
          "Utilities",
          "Materials",
          "Consumer Discretionary",
          "Real Estate",
          "Information Technology",
          "Real Estate",
          "Consumer Discretionary",
          "Utilities",
          "Industrials",
          "Consumer Discretionary",
          "Consumer Discretionary",
          "Financials",
          "Industrials",
          "Health Care",
          "Financials",
          "Information Technology",
          "Financials",
          "Information Technology",
          "Consumer Staples",
          "Financials",
          "Consumer Discretionary",
          "Consumer Discretionary",
          "Information Technology",
          "Energy",
          "Information Technology",
          "Industrials",
          "Financials",
          "Consumer Staples",
          "Health Care",
          "Consumer Staples",
          "Materials",
          "Financials",
          "Consumer Discretionary",
          "Health Care",
          "Consumer Discretionary",
          "Consumer Discretionary",
          "Consumer Discretionary",
          "Financials",
          "Information Technology",
          "Consumer Discretionary",
          "Industrials",
          "Consumer Discretionary",
          "Consumer Discretionary",
          "Consumer Discretionary",
          "Consumer Staples",
          "Financials",
          "Real Estate",
          "Consumer Discretionary",
          "Consumer Discretionary",
          "Consumer Discretionary",
          "Industrials",
          "Industrials",
          "Health Care",
          "Industrials",
          "Industrials",
          "Industrials",
          "Health Care",
          "Financials",
          "Consumer Discretionary",
          "Energy",
          "Health Care",
          "Real Estate",
          "Information Technology",
          "Industrials",
          "Telecommunication Services",
          "Health Care",
          "Consumer Discretionary",
          "Information Technology",
          "Real Estate",
          "Materials",
          "Consumer Staples",
          "Consumer Staples",
          "Industrials",
          "Health Care",
          "Utilities",
          "Financials",
          "Real Estate",
          "Information Technology",
          "Information Technology",
          "Materials",
          "Real Estate",
          "Consumer Discretionary",
          "Energy",
          "Financials",
          "Consumer Discretionary",
          "Consumer Discretionary",
          "Utilities",
          "Information Technology",
          "Information Technology",
          "Financials",
          "Industrials",
          "Consumer Discretionary",
          "Health Care",
          "Financials",
          "Health Care"
         ],
         "x0": " ",
         "xaxis": "x",
         "y": [
          4.3902707,
          3.5754826,
          3.7404804,
          6.291571,
          2.604117,
          10.59512,
          1.7953473,
          13.092818,
          1.1301061,
          2.1091955,
          0.65951383,
          0.9923546,
          4.591235,
          1.5429344,
          6.493563,
          4.1163683,
          5.8546524,
          0.9801092,
          5.3666205,
          10.492155,
          9.720562,
          13.138819,
          4.265232,
          4.820115,
          1.7282298,
          3.4331481,
          1.2085556,
          6.801692,
          6.772653,
          4.945682,
          3.927053,
          2.693119,
          0.58022565,
          2.7489934,
          2.273575,
          1.4686536,
          11.954137,
          5.553833,
          1.9493247,
          0.17396984,
          4.015368,
          5.58192,
          3.85675,
          3.9682212,
          8.00391,
          0.6618165,
          16.8134,
          0.6696521,
          3.4972682,
          3.651366,
          6.187621,
          3.4586093,
          4.7020154,
          1.5025798,
          0.52478915,
          0.94214815,
          1.9400215,
          0.9821866,
          1.4083152,
          16.50682,
          4.0483294,
          1.8510429,
          10.251216,
          1.5206499,
          1.9390045,
          1.5696399,
          3.2011874,
          3.4394414,
          3.4552107,
          5.6912947,
          1.4328232,
          0.76715523,
          5.737439,
          6.9158196,
          2.0188456,
          2.1560605,
          1.5831376,
          6.839459,
          4.055685,
          1.4188358,
          6.503231,
          6.961893,
          1.8411398,
          0.85282737,
          3.3742425,
          8.636729,
          5.751737,
          2.3898203,
          1.5931405,
          0.21131156,
          0.6913859,
          2.8147783,
          2.0468428,
          8.249042,
          1.4622321,
          2.1055017,
          5.830071,
          0.5028663,
          1.6262617,
          1.4795984,
          5.5560412,
          3.0044448,
          7.949615,
          2.1208634,
          0.40765184,
          1.6489863,
          2.5523853,
          2.0985637,
          3.1682448,
          1.550762,
          7.556446,
          2.756679,
          2.7614057,
          5.484418,
          2.1857586,
          3.3917346,
          4.7538714,
          14.881806,
          2.4711676,
          6.822138,
          3.9678397,
          4.000737,
          2.1797748,
          4.905472,
          1.8294994,
          12.271951,
          2.0764177,
          2.960244,
          5.145596,
          2.544682,
          0.61203885,
          2.0061796,
          10.125291,
          1.3324839,
          4.216355,
          1.9406168,
          0.549852,
          1.1931022,
          3.688278,
          1.5278828,
          1.1451397,
          2.3746448,
          0.91792434,
          4.626262,
          2.0660408,
          12.434961,
          2.3610325,
          1.804088,
          1.7147918,
          1.8521843,
          1.5283886,
          1.6097589,
          3.7954214,
          1.986176,
          2.6922395,
          4.2149186,
          1.9091922,
          2.9348857,
          16.077257,
          1.9598055,
          5.689136,
          1.4904785,
          1.8161736,
          4.6720185,
          3.7360687,
          2.161095,
          7.8283277,
          7.4415817,
          3.6707752,
          1.5543115,
          1.227099,
          8.02302,
          6.4987307,
          5.6338058,
          10.639136,
          8.593619,
          14.1830845,
          3.9522583,
          2.0991988,
          3.1134193,
          1.3933871,
          2.5074897,
          2.190319,
          0.57588416,
          12.204818,
          1.7701944,
          4.1203604,
          13.241967,
          3.472977,
          12.898601,
          1.0751684,
          4.7038417,
          2.8802848,
          1.2994481,
          6.518713,
          5.137961,
          2.0803037,
          0.5516402,
          6.0089035,
          1.0362948,
          0.27054095,
          5.1682673,
          1.8434572,
          3.399101,
          1.6538345,
          1.1289738,
          5.319881,
          4.894499,
          2.0481362,
          1.0887611,
          17.003777,
          2.0389178,
          0.5633218,
          1.212236,
          5.2087464,
          5.775833,
          2.309415,
          0.72725976,
          1.3995146,
          2.1424224,
          1.6339768,
          1.66195,
          2.9516637,
          1.3939538,
          3.2375681,
          0.7251921,
          8.127109,
          3.7385862,
          1.262194,
          3.780475,
          1.4609766,
          3.7628453,
          4.80335,
          2.8964398,
          2.8267899,
          2.5174792,
          3.5549128,
          0.8954903,
          0.9256895,
          3.5112102,
          1.8924941,
          7.97525,
          5.0604,
          3.9286149,
          11.713953,
          17.02699,
          1.6147361,
          3.348876,
          9.619987,
          1.817167,
          1.0738261,
          1.4712903,
          4.4208813,
          9.633731,
          14.655261,
          2.6513786,
          2.8477087,
          3.2898626,
          1.7697402,
          1.2129636,
          2.496677,
          4.6326222,
          1.1415336,
          3.3714993,
          1.8543326,
          4.281897,
          2.3173764,
          3.270451,
          2.1947837,
          7.0508943,
          2.823936,
          4.3395863,
          0.8557757,
          4.6780853,
          0.27961263,
          1.7060977,
          1.4884604,
          2.2459624,
          3.0405293,
          2.0302901,
          1.1468264,
          1.0410156,
          3.754678,
          1.201944,
          1.723609,
          1.8781451,
          1.5809761,
          1.5653384,
          1.3037612,
          4.6277885,
          11.394877,
          0.45503208,
          4.6578755,
          0.42713487,
          2.9997249,
          2.9848945,
          4.416998,
          2.308266,
          15.020556,
          1.1863722,
          2.7788277,
          5.770237,
          0.15318617,
          4.944542,
          5.0893345,
          1.0496864,
          8.372307,
          2.2276719,
          3.1455927,
          7.4475183,
          2.1912806,
          7.1130967,
          6.6291075,
          2.7977824,
          1.2371694,
          2.5708609,
          3.589782,
          14.152587,
          9.932974,
          2.2258842,
          2.6092634,
          2.5358944,
          3.2591083,
          2.5209634,
          0.6986579,
          3.6687026,
          9.861594,
          1.2810479,
          4.703259,
          3.7076392,
          1.5518167,
          1.5718216,
          4.091698,
          2.7288198,
          3.0549932,
          2.2361343,
          4.6976447,
          0.74603415,
          3.8525908,
          4.031728,
          2.209576,
          3.2066104,
          0.9933021,
          0.99837583,
          20.094294,
          3.1934319,
          6.044895,
          1.5327156,
          2.6159565,
          5.2561646,
          1.28693,
          1.741522,
          1.8652664,
          0.7872792,
          7.248487,
          6.935696,
          2.5191512,
          3.9272704,
          3.6705062,
          3.7116463,
          3.3850067,
          4.0020885,
          1.5730644,
          2.7574685,
          0.47499472,
          2.9931207,
          6.7890477,
          4.04653,
          1.3948758,
          1.9551051,
          3.7497053,
          3.887915,
          9.176564,
          1.7167546,
          3.1595004,
          1.1458876,
          14.380373,
          1.083727,
          3.4491453,
          16.16417,
          1.0341544,
          1.7617522,
          3.389142,
          4.263658,
          0.77893436,
          1.7709883,
          1.9624339,
          1.9734555,
          2.2938328,
          15.588069,
          8.202077,
          13.762162,
          8.48541,
          3.474771,
          2.8841186,
          6.1640687,
          1.3330402,
          3.760594,
          3.781273,
          5.9715905,
          2.9734495,
          3.1026611,
          10.254704,
          10.3738785,
          15.189207,
          1.651705,
          3.2297828,
          4.374079,
          1.3048558,
          2.4700067,
          3.15303,
          2.5276077,
          0.7564699,
          8.754495,
          6.9704437,
          6.5820084,
          3.5114813,
          2.5080602,
          1.6294897,
          1.944325,
          3.4392443,
          3.263072,
          2.2607324,
          4.635566,
          3.3089445,
          3.5516493,
          2.1096623,
          6.276264,
          0.7295535,
          7.3911157,
          4.0785494,
          0.8047394,
          2.5734365,
          1.561575,
          6.9572234,
          1.0645695,
          3.3834257,
          2.798683,
          6.8538465,
          2.8396711,
          1.8161958,
          1.33382,
          3.9635563,
          4.015666,
          4.516748,
          2.3735986,
          1.9293598,
          3.1079664,
          3.175548,
          1.1642125,
          4.268832,
          4.5925775,
          2.1080317,
          3.1654842,
          0.93730986,
          3.7773547,
          12.365829,
          3.3779113,
          1.602308,
          1.4738787,
          4.8605075,
          0.5020496,
          1.0903316,
          1.4744618,
          2.1782618,
          1.7324123,
          1.3158662,
          0.9984924,
          3.7110944,
          0.4211918,
          3.9652252,
          7.0740495,
          12.401829,
          9.935474,
          1.6452544,
          16.185404,
          1.0924768,
          14.433654,
          7.1491003,
          5.7576876,
          0.82099426,
          0.5904388,
          3.2787669,
          6.9824114,
          2.4834197,
          2.8728192,
          6.725218,
          1.245503,
          2.22677,
          1.075785,
          3.6396794,
          0.58064795,
          4.2982845,
          3.4484663,
          2.7332082,
          2.478658,
          2.520456,
          0.7877656,
          7.101206,
          0.84394187,
          2.7262094,
          6.3136363,
          3.1648953,
          3.7945793,
          9.280896
         ],
         "y0": " ",
         "yaxis": "y"
        }
       ],
       "layout": {
        "boxmode": "group",
        "height": 800,
        "legend": {
         "tracegroupgap": 0
        },
        "margin": {
         "t": 60
        },
        "template": {
         "data": {
          "bar": [
           {
            "error_x": {
             "color": "#f2f5fa"
            },
            "error_y": {
             "color": "#f2f5fa"
            },
            "marker": {
             "line": {
              "color": "rgb(17,17,17)",
              "width": 0.5
             },
             "pattern": {
              "fillmode": "overlay",
              "size": 10,
              "solidity": 0.2
             }
            },
            "type": "bar"
           }
          ],
          "barpolar": [
           {
            "marker": {
             "line": {
              "color": "rgb(17,17,17)",
              "width": 0.5
             },
             "pattern": {
              "fillmode": "overlay",
              "size": 10,
              "solidity": 0.2
             }
            },
            "type": "barpolar"
           }
          ],
          "carpet": [
           {
            "aaxis": {
             "endlinecolor": "#A2B1C6",
             "gridcolor": "#506784",
             "linecolor": "#506784",
             "minorgridcolor": "#506784",
             "startlinecolor": "#A2B1C6"
            },
            "baxis": {
             "endlinecolor": "#A2B1C6",
             "gridcolor": "#506784",
             "linecolor": "#506784",
             "minorgridcolor": "#506784",
             "startlinecolor": "#A2B1C6"
            },
            "type": "carpet"
           }
          ],
          "choropleth": [
           {
            "colorbar": {
             "outlinewidth": 0,
             "ticks": ""
            },
            "type": "choropleth"
           }
          ],
          "contour": [
           {
            "colorbar": {
             "outlinewidth": 0,
             "ticks": ""
            },
            "colorscale": [
             [
              0,
              "#0d0887"
             ],
             [
              0.1111111111111111,
              "#46039f"
             ],
             [
              0.2222222222222222,
              "#7201a8"
             ],
             [
              0.3333333333333333,
              "#9c179e"
             ],
             [
              0.4444444444444444,
              "#bd3786"
             ],
             [
              0.5555555555555556,
              "#d8576b"
             ],
             [
              0.6666666666666666,
              "#ed7953"
             ],
             [
              0.7777777777777778,
              "#fb9f3a"
             ],
             [
              0.8888888888888888,
              "#fdca26"
             ],
             [
              1,
              "#f0f921"
             ]
            ],
            "type": "contour"
           }
          ],
          "contourcarpet": [
           {
            "colorbar": {
             "outlinewidth": 0,
             "ticks": ""
            },
            "type": "contourcarpet"
           }
          ],
          "heatmap": [
           {
            "colorbar": {
             "outlinewidth": 0,
             "ticks": ""
            },
            "colorscale": [
             [
              0,
              "#0d0887"
             ],
             [
              0.1111111111111111,
              "#46039f"
             ],
             [
              0.2222222222222222,
              "#7201a8"
             ],
             [
              0.3333333333333333,
              "#9c179e"
             ],
             [
              0.4444444444444444,
              "#bd3786"
             ],
             [
              0.5555555555555556,
              "#d8576b"
             ],
             [
              0.6666666666666666,
              "#ed7953"
             ],
             [
              0.7777777777777778,
              "#fb9f3a"
             ],
             [
              0.8888888888888888,
              "#fdca26"
             ],
             [
              1,
              "#f0f921"
             ]
            ],
            "type": "heatmap"
           }
          ],
          "heatmapgl": [
           {
            "colorbar": {
             "outlinewidth": 0,
             "ticks": ""
            },
            "colorscale": [
             [
              0,
              "#0d0887"
             ],
             [
              0.1111111111111111,
              "#46039f"
             ],
             [
              0.2222222222222222,
              "#7201a8"
             ],
             [
              0.3333333333333333,
              "#9c179e"
             ],
             [
              0.4444444444444444,
              "#bd3786"
             ],
             [
              0.5555555555555556,
              "#d8576b"
             ],
             [
              0.6666666666666666,
              "#ed7953"
             ],
             [
              0.7777777777777778,
              "#fb9f3a"
             ],
             [
              0.8888888888888888,
              "#fdca26"
             ],
             [
              1,
              "#f0f921"
             ]
            ],
            "type": "heatmapgl"
           }
          ],
          "histogram": [
           {
            "marker": {
             "pattern": {
              "fillmode": "overlay",
              "size": 10,
              "solidity": 0.2
             }
            },
            "type": "histogram"
           }
          ],
          "histogram2d": [
           {
            "colorbar": {
             "outlinewidth": 0,
             "ticks": ""
            },
            "colorscale": [
             [
              0,
              "#0d0887"
             ],
             [
              0.1111111111111111,
              "#46039f"
             ],
             [
              0.2222222222222222,
              "#7201a8"
             ],
             [
              0.3333333333333333,
              "#9c179e"
             ],
             [
              0.4444444444444444,
              "#bd3786"
             ],
             [
              0.5555555555555556,
              "#d8576b"
             ],
             [
              0.6666666666666666,
              "#ed7953"
             ],
             [
              0.7777777777777778,
              "#fb9f3a"
             ],
             [
              0.8888888888888888,
              "#fdca26"
             ],
             [
              1,
              "#f0f921"
             ]
            ],
            "type": "histogram2d"
           }
          ],
          "histogram2dcontour": [
           {
            "colorbar": {
             "outlinewidth": 0,
             "ticks": ""
            },
            "colorscale": [
             [
              0,
              "#0d0887"
             ],
             [
              0.1111111111111111,
              "#46039f"
             ],
             [
              0.2222222222222222,
              "#7201a8"
             ],
             [
              0.3333333333333333,
              "#9c179e"
             ],
             [
              0.4444444444444444,
              "#bd3786"
             ],
             [
              0.5555555555555556,
              "#d8576b"
             ],
             [
              0.6666666666666666,
              "#ed7953"
             ],
             [
              0.7777777777777778,
              "#fb9f3a"
             ],
             [
              0.8888888888888888,
              "#fdca26"
             ],
             [
              1,
              "#f0f921"
             ]
            ],
            "type": "histogram2dcontour"
           }
          ],
          "mesh3d": [
           {
            "colorbar": {
             "outlinewidth": 0,
             "ticks": ""
            },
            "type": "mesh3d"
           }
          ],
          "parcoords": [
           {
            "line": {
             "colorbar": {
              "outlinewidth": 0,
              "ticks": ""
             }
            },
            "type": "parcoords"
           }
          ],
          "pie": [
           {
            "automargin": true,
            "type": "pie"
           }
          ],
          "scatter": [
           {
            "marker": {
             "line": {
              "color": "#283442"
             }
            },
            "type": "scatter"
           }
          ],
          "scatter3d": [
           {
            "line": {
             "colorbar": {
              "outlinewidth": 0,
              "ticks": ""
             }
            },
            "marker": {
             "colorbar": {
              "outlinewidth": 0,
              "ticks": ""
             }
            },
            "type": "scatter3d"
           }
          ],
          "scattercarpet": [
           {
            "marker": {
             "colorbar": {
              "outlinewidth": 0,
              "ticks": ""
             }
            },
            "type": "scattercarpet"
           }
          ],
          "scattergeo": [
           {
            "marker": {
             "colorbar": {
              "outlinewidth": 0,
              "ticks": ""
             }
            },
            "type": "scattergeo"
           }
          ],
          "scattergl": [
           {
            "marker": {
             "line": {
              "color": "#283442"
             }
            },
            "type": "scattergl"
           }
          ],
          "scattermapbox": [
           {
            "marker": {
             "colorbar": {
              "outlinewidth": 0,
              "ticks": ""
             }
            },
            "type": "scattermapbox"
           }
          ],
          "scatterpolar": [
           {
            "marker": {
             "colorbar": {
              "outlinewidth": 0,
              "ticks": ""
             }
            },
            "type": "scatterpolar"
           }
          ],
          "scatterpolargl": [
           {
            "marker": {
             "colorbar": {
              "outlinewidth": 0,
              "ticks": ""
             }
            },
            "type": "scatterpolargl"
           }
          ],
          "scatterternary": [
           {
            "marker": {
             "colorbar": {
              "outlinewidth": 0,
              "ticks": ""
             }
            },
            "type": "scatterternary"
           }
          ],
          "surface": [
           {
            "colorbar": {
             "outlinewidth": 0,
             "ticks": ""
            },
            "colorscale": [
             [
              0,
              "#0d0887"
             ],
             [
              0.1111111111111111,
              "#46039f"
             ],
             [
              0.2222222222222222,
              "#7201a8"
             ],
             [
              0.3333333333333333,
              "#9c179e"
             ],
             [
              0.4444444444444444,
              "#bd3786"
             ],
             [
              0.5555555555555556,
              "#d8576b"
             ],
             [
              0.6666666666666666,
              "#ed7953"
             ],
             [
              0.7777777777777778,
              "#fb9f3a"
             ],
             [
              0.8888888888888888,
              "#fdca26"
             ],
             [
              1,
              "#f0f921"
             ]
            ],
            "type": "surface"
           }
          ],
          "table": [
           {
            "cells": {
             "fill": {
              "color": "#506784"
             },
             "line": {
              "color": "rgb(17,17,17)"
             }
            },
            "header": {
             "fill": {
              "color": "#2a3f5f"
             },
             "line": {
              "color": "rgb(17,17,17)"
             }
            },
            "type": "table"
           }
          ]
         },
         "layout": {
          "annotationdefaults": {
           "arrowcolor": "#f2f5fa",
           "arrowhead": 0,
           "arrowwidth": 1
          },
          "autotypenumbers": "strict",
          "coloraxis": {
           "colorbar": {
            "outlinewidth": 0,
            "ticks": ""
           }
          },
          "colorscale": {
           "diverging": [
            [
             0,
             "#8e0152"
            ],
            [
             0.1,
             "#c51b7d"
            ],
            [
             0.2,
             "#de77ae"
            ],
            [
             0.3,
             "#f1b6da"
            ],
            [
             0.4,
             "#fde0ef"
            ],
            [
             0.5,
             "#f7f7f7"
            ],
            [
             0.6,
             "#e6f5d0"
            ],
            [
             0.7,
             "#b8e186"
            ],
            [
             0.8,
             "#7fbc41"
            ],
            [
             0.9,
             "#4d9221"
            ],
            [
             1,
             "#276419"
            ]
           ],
           "sequential": [
            [
             0,
             "#0d0887"
            ],
            [
             0.1111111111111111,
             "#46039f"
            ],
            [
             0.2222222222222222,
             "#7201a8"
            ],
            [
             0.3333333333333333,
             "#9c179e"
            ],
            [
             0.4444444444444444,
             "#bd3786"
            ],
            [
             0.5555555555555556,
             "#d8576b"
            ],
            [
             0.6666666666666666,
             "#ed7953"
            ],
            [
             0.7777777777777778,
             "#fb9f3a"
            ],
            [
             0.8888888888888888,
             "#fdca26"
            ],
            [
             1,
             "#f0f921"
            ]
           ],
           "sequentialminus": [
            [
             0,
             "#0d0887"
            ],
            [
             0.1111111111111111,
             "#46039f"
            ],
            [
             0.2222222222222222,
             "#7201a8"
            ],
            [
             0.3333333333333333,
             "#9c179e"
            ],
            [
             0.4444444444444444,
             "#bd3786"
            ],
            [
             0.5555555555555556,
             "#d8576b"
            ],
            [
             0.6666666666666666,
             "#ed7953"
            ],
            [
             0.7777777777777778,
             "#fb9f3a"
            ],
            [
             0.8888888888888888,
             "#fdca26"
            ],
            [
             1,
             "#f0f921"
            ]
           ]
          },
          "colorway": [
           "#636efa",
           "#EF553B",
           "#00cc96",
           "#ab63fa",
           "#FFA15A",
           "#19d3f3",
           "#FF6692",
           "#B6E880",
           "#FF97FF",
           "#FECB52"
          ],
          "font": {
           "color": "#f2f5fa"
          },
          "geo": {
           "bgcolor": "rgb(17,17,17)",
           "lakecolor": "rgb(17,17,17)",
           "landcolor": "rgb(17,17,17)",
           "showlakes": true,
           "showland": true,
           "subunitcolor": "#506784"
          },
          "hoverlabel": {
           "align": "left"
          },
          "hovermode": "closest",
          "mapbox": {
           "style": "dark"
          },
          "paper_bgcolor": "rgb(17,17,17)",
          "plot_bgcolor": "rgb(17,17,17)",
          "polar": {
           "angularaxis": {
            "gridcolor": "#506784",
            "linecolor": "#506784",
            "ticks": ""
           },
           "bgcolor": "rgb(17,17,17)",
           "radialaxis": {
            "gridcolor": "#506784",
            "linecolor": "#506784",
            "ticks": ""
           }
          },
          "scene": {
           "xaxis": {
            "backgroundcolor": "rgb(17,17,17)",
            "gridcolor": "#506784",
            "gridwidth": 2,
            "linecolor": "#506784",
            "showbackground": true,
            "ticks": "",
            "zerolinecolor": "#C8D4E3"
           },
           "yaxis": {
            "backgroundcolor": "rgb(17,17,17)",
            "gridcolor": "#506784",
            "gridwidth": 2,
            "linecolor": "#506784",
            "showbackground": true,
            "ticks": "",
            "zerolinecolor": "#C8D4E3"
           },
           "zaxis": {
            "backgroundcolor": "rgb(17,17,17)",
            "gridcolor": "#506784",
            "gridwidth": 2,
            "linecolor": "#506784",
            "showbackground": true,
            "ticks": "",
            "zerolinecolor": "#C8D4E3"
           }
          },
          "shapedefaults": {
           "line": {
            "color": "#f2f5fa"
           }
          },
          "sliderdefaults": {
           "bgcolor": "#C8D4E3",
           "bordercolor": "rgb(17,17,17)",
           "borderwidth": 1,
           "tickwidth": 0
          },
          "ternary": {
           "aaxis": {
            "gridcolor": "#506784",
            "linecolor": "#506784",
            "ticks": ""
           },
           "baxis": {
            "gridcolor": "#506784",
            "linecolor": "#506784",
            "ticks": ""
           },
           "bgcolor": "rgb(17,17,17)",
           "caxis": {
            "gridcolor": "#506784",
            "linecolor": "#506784",
            "ticks": ""
           }
          },
          "title": {
           "x": 0.05
          },
          "updatemenudefaults": {
           "bgcolor": "#506784",
           "borderwidth": 0
          },
          "xaxis": {
           "automargin": true,
           "gridcolor": "#283442",
           "linecolor": "#506784",
           "ticks": "",
           "title": {
            "standoff": 15
           },
           "zerolinecolor": "#283442",
           "zerolinewidth": 2
          },
          "yaxis": {
           "automargin": true,
           "gridcolor": "#283442",
           "linecolor": "#506784",
           "ticks": "",
           "title": {
            "standoff": 15
           },
           "zerolinecolor": "#283442",
           "zerolinewidth": 2
          }
         }
        },
        "width": 1200,
        "xaxis": {
         "anchor": "y",
         "domain": [
          0,
          1
         ],
         "title": {
          "text": "Sector"
         }
        },
        "yaxis": {
         "anchor": "x",
         "domain": [
          0,
          1
         ],
         "title": {
          "text": "Price/Sales"
         }
        }
       }
      },
      "text/html": [
       "<div>                            <div id=\"ae201061-8191-4850-9a83-ce24057cae06\" class=\"plotly-graph-div\" style=\"height:800px; width:1200px;\"></div>            <script type=\"text/javascript\">                require([\"plotly\"], function(Plotly) {                    window.PLOTLYENV=window.PLOTLYENV || {};                                    if (document.getElementById(\"ae201061-8191-4850-9a83-ce24057cae06\")) {                    Plotly.newPlot(                        \"ae201061-8191-4850-9a83-ce24057cae06\",                        [{\"alignmentgroup\":\"True\",\"hovertemplate\":\"Sector=%{x}<br>Price/Sales=%{y}<extra></extra>\",\"legendgroup\":\"\",\"marker\":{\"color\":\"firebrick\"},\"name\":\"\",\"notched\":false,\"offsetgroup\":\"\",\"orientation\":\"v\",\"showlegend\":false,\"x\":[\"Industrials\",\"Industrials\",\"Health Care\",\"Health Care\",\"Information Technology\",\"Information Technology\",\"Industrials\",\"Information Technology\",\"Consumer Discretionary\",\"Information Technology\",\"Utilities\",\"Health Care\",\"Financials\",\"Financials\",\"Health Care\",\"Materials\",\"Information Technology\",\"Industrials\",\"Materials\",\"Real Estate\",\"Health Care\",\"Health Care\",\"Industrials\",\"Health Care\",\"Information Technology\",\"Utilities\",\"Financials\",\"Information Technology\",\"Information Technology\",\"Consumer Staples\",\"Consumer Discretionary\",\"Utilities\",\"Industrials\",\"Utilities\",\"Financials\",\"Financials\",\"Real Estate\",\"Utilities\",\"Financials\",\"Health Care\",\"Industrials\",\"Health Care\",\"Information Technology\",\"Energy\",\"Information Technology\",\"Energy\",\"Information Technology\",\"Health Care\",\"Financials\",\"Energy\",\"Real Estate\",\"Information Technology\",\"Information Technology\",\"Consumer Discretionary\",\"Consumer Staples\",\"Industrials\",\"Financials\",\"Financials\",\"Telecommunication Services\",\"Information Technology\",\"Information Technology\",\"Consumer Discretionary\",\"Real Estate\",\"Materials\",\"Energy\",\"Materials\",\"Financials\",\"Health Care\",\"Financials\",\"Health Care\",\"Financials\",\"Consumer Discretionary\",\"Health Care\",\"Financials\",\"Financials\",\"Industrials\",\"Consumer Discretionary\",\"Real Estate\",\"Health Care\",\"Financials\",\"Health Care\",\"Information Technology\",\"Consumer Staples\",\"Industrials\",\"Information Technology\",\"Energy\",\"Information Technology\",\"Consumer Staples\",\"Financials\",\"Health Care\",\"Consumer Discretionary\",\"Consumer Discretionary\",\"Industrials\",\"Financials\",\"Real Estate\",\"Consumer Discretionary\",\"Health Care\",\"Health Care\",\"Utilities\",\"Telecommunication Services\",\"Health Care\",\"Materials\",\"Financials\",\"Consumer Discretionary\",\"Energy\",\"Energy\",\"Consumer Discretionary\",\"Financials\",\"Consumer Staples\",\"Health Care\",\"Energy\",\"Financials\",\"Industrials\",\"Information Technology\",\"Financials\",\"Financials\",\"Information Technology\",\"Financials\",\"Utilities\",\"Consumer Staples\",\"Information Technology\",\"Consumer Staples\",\"Consumer Discretionary\",\"Financials\",\"Consumer Staples\",\"Energy\",\"Energy\",\"Utilities\",\"Consumer Staples\",\"Information Technology\",\"Consumer Staples\",\"Consumer Staples\",\"Real Estate\",\"Information Technology\",\"Industrials\",\"Industrials\",\"Consumer Staples\",\"Consumer Discretionary\",\"Health Care\",\"Consumer Discretionary\",\"Health Care\",\"Industrials\",\"Industrials\",\"Health Care\",\"Energy\",\"Real Estate\",\"Financials\",\"Consumer Discretionary\",\"Consumer Discretionary\",\"Consumer Discretionary\",\"Consumer Discretionary\",\"Consumer Discretionary\",\"Utilities\",\"Industrials\",\"Materials\",\"Consumer Staples\",\"Utilities\",\"Utilities\",\"Real Estate\",\"Information Technology\",\"Financials\",\"Materials\",\"Industrials\",\"Information Technology\",\"Materials\",\"Utilities\",\"Health Care\",\"Information Technology\",\"Industrials\",\"Utilities\",\"Health Care\",\"Energy\",\"Energy\",\"Industrials\",\"Real Estate\",\"Real Estate\",\"Real Estate\",\"Consumer Staples\",\"Financials\",\"Utilities\",\"Utilities\",\"Consumer Discretionary\",\"Industrials\",\"Health Care\",\"Real Estate\",\"Energy\",\"Information Technology\",\"Information Technology\",\"Industrials\",\"Real Estate\",\"Industrials\",\"Information Technology\",\"Financials\",\"Utilities\",\"Information Technology\",\"Information Technology\",\"Industrials\",\"Industrials\",\"Materials\",\"Consumer Discretionary\",\"Consumer Discretionary\",\"Industrials\",\"Industrials\",\"Financials\",\"Materials\",\"Consumer Discretionary\",\"Consumer Discretionary\",\"Information Technology\",\"Industrials\",\"Industrials\",\"Real Estate\",\"Consumer Staples\",\"Consumer Discretionary\",\"Consumer Discretionary\",\"Health Care\",\"Information Technology\",\"Financials\",\"Consumer Discretionary\",\"Industrials\",\"Energy\",\"Consumer Discretionary\",\"Consumer Discretionary\",\"Information Technology\",\"Financials\",\"Consumer Discretionary\",\"Health Care\",\"Real Estate\",\"Energy\",\"Health Care\",\"Energy\",\"Information Technology\",\"Consumer Discretionary\",\"Health Care\",\"Consumer Discretionary\",\"Industrials\",\"Consumer Staples\",\"Real Estate\",\"Information Technology\",\"Health Care\",\"Financials\",\"Industrials\",\"Health Care\",\"Industrials\",\"Industrials\",\"Health Care\",\"Health Care\",\"Industrials\",\"Information Technology\",\"Financials\",\"Information Technology\",\"Materials\",\"Consumer Discretionary\",\"Materials\",\"Information Technology\",\"Health Care\",\"Financials\",\"Health Care\",\"Real Estate\",\"Industrials\",\"Industrials\",\"Consumer Staples\",\"Health Care\",\"Industrials\",\"Financials\",\"Information Technology\",\"Industrials\",\"Consumer Staples\",\"Financials\",\"Consumer Staples\",\"Real Estate\",\"Energy\",\"Information Technology\",\"Consumer Discretionary\",\"Consumer Staples\",\"Consumer Staples\",\"Consumer Discretionary\",\"Industrials\",\"Health Care\",\"Information Technology\",\"Consumer Discretionary\",\"Consumer Discretionary\",\"Financials\",\"Health Care\",\"Financials\",\"Consumer Discretionary\",\"Industrials\",\"Financials\",\"Consumer Discretionary\",\"Materials\",\"Financials\",\"Real Estate\",\"Consumer Discretionary\",\"Energy\",\"Energy\",\"Consumer Discretionary\",\"Financials\",\"Materials\",\"Industrials\",\"Information Technology\",\"Consumer Discretionary\",\"Consumer Staples\",\"Consumer Discretionary\",\"Health Care\",\"Health Care\",\"Health Care\",\"Financials\",\"Health Care\",\"Consumer Discretionary\",\"Consumer Discretionary\",\"Information Technology\",\"Information Technology\",\"Information Technology\",\"Real Estate\",\"Consumer Discretionary\",\"Consumer Staples\",\"Consumer Staples\",\"Materials\",\"Consumer Staples\",\"Financials\",\"Financials\",\"Information Technology\",\"Health Care\",\"Financials\",\"Energy\",\"Financials\",\"Information Technology\",\"Information Technology\",\"Consumer Discretionary\",\"Energy\",\"Materials\",\"Consumer Discretionary\",\"Consumer Discretionary\",\"Utilities\",\"Industrials\",\"Consumer Discretionary\",\"Utilities\",\"Energy\",\"Consumer Discretionary\",\"Industrials\",\"Financials\",\"Industrials\",\"Consumer Discretionary\",\"Utilities\",\"Materials\",\"Information Technology\",\"Consumer Discretionary\",\"Energy\",\"Consumer Discretionary\",\"Energy\",\"Information Technology\",\"Industrials\",\"Materials\",\"Industrials\",\"Health Care\",\"Information Technology\",\"Information Technology\",\"Industrials\",\"Financials\",\"Consumer Staples\",\"Health Care\",\"Health Care\",\"Health Care\",\"Utilities\",\"Consumer Staples\",\"Energy\",\"Utilities\",\"Energy\",\"Financials\",\"Consumer Discretionary\",\"Materials\",\"Utilities\",\"Materials\",\"Consumer Discretionary\",\"Financials\",\"Consumer Staples\",\"Financials\",\"Real Estate\",\"Financials\",\"Utilities\",\"Real Estate\",\"Consumer Discretionary\",\"Consumer Discretionary\",\"Information Technology\",\"Information Technology\",\"Industrials\",\"Health Care\",\"Energy\",\"Financials\",\"Industrials\",\"Real Estate\",\"Information Technology\",\"Real Estate\",\"Health Care\",\"Financials\",\"Industrials\",\"Health Care\",\"Industrials\",\"Industrials\",\"Industrials\",\"Industrials\",\"Consumer Discretionary\",\"Consumer Discretionary\",\"Financials\",\"Information Technology\",\"Real Estate\",\"Utilities\",\"Energy\",\"Consumer Discretionary\",\"Information Technology\",\"Materials\",\"Utilities\",\"Materials\",\"Consumer Discretionary\",\"Real Estate\",\"Information Technology\",\"Real Estate\",\"Consumer Discretionary\",\"Utilities\",\"Industrials\",\"Consumer Discretionary\",\"Consumer Discretionary\",\"Financials\",\"Industrials\",\"Health Care\",\"Financials\",\"Information Technology\",\"Financials\",\"Information Technology\",\"Consumer Staples\",\"Financials\",\"Consumer Discretionary\",\"Consumer Discretionary\",\"Information Technology\",\"Energy\",\"Information Technology\",\"Industrials\",\"Financials\",\"Consumer Staples\",\"Health Care\",\"Consumer Staples\",\"Materials\",\"Financials\",\"Consumer Discretionary\",\"Health Care\",\"Consumer Discretionary\",\"Consumer Discretionary\",\"Consumer Discretionary\",\"Financials\",\"Information Technology\",\"Consumer Discretionary\",\"Industrials\",\"Consumer Discretionary\",\"Consumer Discretionary\",\"Consumer Discretionary\",\"Consumer Staples\",\"Financials\",\"Real Estate\",\"Consumer Discretionary\",\"Consumer Discretionary\",\"Consumer Discretionary\",\"Industrials\",\"Industrials\",\"Health Care\",\"Industrials\",\"Industrials\",\"Industrials\",\"Health Care\",\"Financials\",\"Consumer Discretionary\",\"Energy\",\"Health Care\",\"Real Estate\",\"Information Technology\",\"Industrials\",\"Telecommunication Services\",\"Health Care\",\"Consumer Discretionary\",\"Information Technology\",\"Real Estate\",\"Materials\",\"Consumer Staples\",\"Consumer Staples\",\"Industrials\",\"Health Care\",\"Utilities\",\"Financials\",\"Real Estate\",\"Information Technology\",\"Information Technology\",\"Materials\",\"Real Estate\",\"Consumer Discretionary\",\"Energy\",\"Financials\",\"Consumer Discretionary\",\"Consumer Discretionary\",\"Utilities\",\"Information Technology\",\"Information Technology\",\"Financials\",\"Industrials\",\"Consumer Discretionary\",\"Health Care\",\"Financials\",\"Health Care\"],\"x0\":\" \",\"xaxis\":\"x\",\"y\":[4.3902707,3.5754826,3.7404804,6.291571,2.604117,10.59512,1.7953473,13.092818,1.1301061,2.1091955,0.65951383,0.9923546,4.591235,1.5429344,6.493563,4.1163683,5.8546524,0.9801092,5.3666205,10.492155,9.720562,13.138819,4.265232,4.820115,1.7282298,3.4331481,1.2085556,6.801692,6.772653,4.945682,3.927053,2.693119,0.58022565,2.7489934,2.273575,1.4686536,11.954137,5.553833,1.9493247,0.17396984,4.015368,5.58192,3.85675,3.9682212,8.00391,0.6618165,16.8134,0.6696521,3.4972682,3.651366,6.187621,3.4586093,4.7020154,1.5025798,0.52478915,0.94214815,1.9400215,0.9821866,1.4083152,16.50682,4.0483294,1.8510429,10.251216,1.5206499,1.9390045,1.5696399,3.2011874,3.4394414,3.4552107,5.6912947,1.4328232,0.76715523,5.737439,6.9158196,2.0188456,2.1560605,1.5831376,6.839459,4.055685,1.4188358,6.503231,6.961893,1.8411398,0.85282737,3.3742425,8.636729,5.751737,2.3898203,1.5931405,0.21131156,0.6913859,2.8147783,2.0468428,8.249042,1.4622321,2.1055017,5.830071,0.5028663,1.6262617,1.4795984,5.5560412,3.0044448,7.949615,2.1208634,0.40765184,1.6489863,2.5523853,2.0985637,3.1682448,1.550762,7.556446,2.756679,2.7614057,5.484418,2.1857586,3.3917346,4.7538714,14.881806,2.4711676,6.822138,3.9678397,4.000737,2.1797748,4.905472,1.8294994,12.271951,2.0764177,2.960244,5.145596,2.544682,0.61203885,2.0061796,10.125291,1.3324839,4.216355,1.9406168,0.549852,1.1931022,3.688278,1.5278828,1.1451397,2.3746448,0.91792434,4.626262,2.0660408,12.434961,2.3610325,1.804088,1.7147918,1.8521843,1.5283886,1.6097589,3.7954214,1.986176,2.6922395,4.2149186,1.9091922,2.9348857,16.077257,1.9598055,5.689136,1.4904785,1.8161736,4.6720185,3.7360687,2.161095,7.8283277,7.4415817,3.6707752,1.5543115,1.227099,8.02302,6.4987307,5.6338058,10.639136,8.593619,14.1830845,3.9522583,2.0991988,3.1134193,1.3933871,2.5074897,2.190319,0.57588416,12.204818,1.7701944,4.1203604,13.241967,3.472977,12.898601,1.0751684,4.7038417,2.8802848,1.2994481,6.518713,5.137961,2.0803037,0.5516402,6.0089035,1.0362948,0.27054095,5.1682673,1.8434572,3.399101,1.6538345,1.1289738,5.319881,4.894499,2.0481362,1.0887611,17.003777,2.0389178,0.5633218,1.212236,5.2087464,5.775833,2.309415,0.72725976,1.3995146,2.1424224,1.6339768,1.66195,2.9516637,1.3939538,3.2375681,0.7251921,8.127109,3.7385862,1.262194,3.780475,1.4609766,3.7628453,4.80335,2.8964398,2.8267899,2.5174792,3.5549128,0.8954903,0.9256895,3.5112102,1.8924941,7.97525,5.0604,3.9286149,11.713953,17.02699,1.6147361,3.348876,9.619987,1.817167,1.0738261,1.4712903,4.4208813,9.633731,14.655261,2.6513786,2.8477087,3.2898626,1.7697402,1.2129636,2.496677,4.6326222,1.1415336,3.3714993,1.8543326,4.281897,2.3173764,3.270451,2.1947837,7.0508943,2.823936,4.3395863,0.8557757,4.6780853,0.27961263,1.7060977,1.4884604,2.2459624,3.0405293,2.0302901,1.1468264,1.0410156,3.754678,1.201944,1.723609,1.8781451,1.5809761,1.5653384,1.3037612,4.6277885,11.394877,0.45503208,4.6578755,0.42713487,2.9997249,2.9848945,4.416998,2.308266,15.020556,1.1863722,2.7788277,5.770237,0.15318617,4.944542,5.0893345,1.0496864,8.372307,2.2276719,3.1455927,7.4475183,2.1912806,7.1130967,6.6291075,2.7977824,1.2371694,2.5708609,3.589782,14.152587,9.932974,2.2258842,2.6092634,2.5358944,3.2591083,2.5209634,0.6986579,3.6687026,9.861594,1.2810479,4.703259,3.7076392,1.5518167,1.5718216,4.091698,2.7288198,3.0549932,2.2361343,4.6976447,0.74603415,3.8525908,4.031728,2.209576,3.2066104,0.9933021,0.99837583,20.094294,3.1934319,6.044895,1.5327156,2.6159565,5.2561646,1.28693,1.741522,1.8652664,0.7872792,7.248487,6.935696,2.5191512,3.9272704,3.6705062,3.7116463,3.3850067,4.0020885,1.5730644,2.7574685,0.47499472,2.9931207,6.7890477,4.04653,1.3948758,1.9551051,3.7497053,3.887915,9.176564,1.7167546,3.1595004,1.1458876,14.380373,1.083727,3.4491453,16.16417,1.0341544,1.7617522,3.389142,4.263658,0.77893436,1.7709883,1.9624339,1.9734555,2.2938328,15.588069,8.202077,13.762162,8.48541,3.474771,2.8841186,6.1640687,1.3330402,3.760594,3.781273,5.9715905,2.9734495,3.1026611,10.254704,10.3738785,15.189207,1.651705,3.2297828,4.374079,1.3048558,2.4700067,3.15303,2.5276077,0.7564699,8.754495,6.9704437,6.5820084,3.5114813,2.5080602,1.6294897,1.944325,3.4392443,3.263072,2.2607324,4.635566,3.3089445,3.5516493,2.1096623,6.276264,0.7295535,7.3911157,4.0785494,0.8047394,2.5734365,1.561575,6.9572234,1.0645695,3.3834257,2.798683,6.8538465,2.8396711,1.8161958,1.33382,3.9635563,4.015666,4.516748,2.3735986,1.9293598,3.1079664,3.175548,1.1642125,4.268832,4.5925775,2.1080317,3.1654842,0.93730986,3.7773547,12.365829,3.3779113,1.602308,1.4738787,4.8605075,0.5020496,1.0903316,1.4744618,2.1782618,1.7324123,1.3158662,0.9984924,3.7110944,0.4211918,3.9652252,7.0740495,12.401829,9.935474,1.6452544,16.185404,1.0924768,14.433654,7.1491003,5.7576876,0.82099426,0.5904388,3.2787669,6.9824114,2.4834197,2.8728192,6.725218,1.245503,2.22677,1.075785,3.6396794,0.58064795,4.2982845,3.4484663,2.7332082,2.478658,2.520456,0.7877656,7.101206,0.84394187,2.7262094,6.3136363,3.1648953,3.7945793,9.280896],\"y0\":\" \",\"yaxis\":\"y\",\"type\":\"box\"}],                        {\"template\":{\"data\":{\"barpolar\":[{\"marker\":{\"line\":{\"color\":\"rgb(17,17,17)\",\"width\":0.5},\"pattern\":{\"fillmode\":\"overlay\",\"size\":10,\"solidity\":0.2}},\"type\":\"barpolar\"}],\"bar\":[{\"error_x\":{\"color\":\"#f2f5fa\"},\"error_y\":{\"color\":\"#f2f5fa\"},\"marker\":{\"line\":{\"color\":\"rgb(17,17,17)\",\"width\":0.5},\"pattern\":{\"fillmode\":\"overlay\",\"size\":10,\"solidity\":0.2}},\"type\":\"bar\"}],\"carpet\":[{\"aaxis\":{\"endlinecolor\":\"#A2B1C6\",\"gridcolor\":\"#506784\",\"linecolor\":\"#506784\",\"minorgridcolor\":\"#506784\",\"startlinecolor\":\"#A2B1C6\"},\"baxis\":{\"endlinecolor\":\"#A2B1C6\",\"gridcolor\":\"#506784\",\"linecolor\":\"#506784\",\"minorgridcolor\":\"#506784\",\"startlinecolor\":\"#A2B1C6\"},\"type\":\"carpet\"}],\"choropleth\":[{\"colorbar\":{\"outlinewidth\":0,\"ticks\":\"\"},\"type\":\"choropleth\"}],\"contourcarpet\":[{\"colorbar\":{\"outlinewidth\":0,\"ticks\":\"\"},\"type\":\"contourcarpet\"}],\"contour\":[{\"colorbar\":{\"outlinewidth\":0,\"ticks\":\"\"},\"colorscale\":[[0.0,\"#0d0887\"],[0.1111111111111111,\"#46039f\"],[0.2222222222222222,\"#7201a8\"],[0.3333333333333333,\"#9c179e\"],[0.4444444444444444,\"#bd3786\"],[0.5555555555555556,\"#d8576b\"],[0.6666666666666666,\"#ed7953\"],[0.7777777777777778,\"#fb9f3a\"],[0.8888888888888888,\"#fdca26\"],[1.0,\"#f0f921\"]],\"type\":\"contour\"}],\"heatmapgl\":[{\"colorbar\":{\"outlinewidth\":0,\"ticks\":\"\"},\"colorscale\":[[0.0,\"#0d0887\"],[0.1111111111111111,\"#46039f\"],[0.2222222222222222,\"#7201a8\"],[0.3333333333333333,\"#9c179e\"],[0.4444444444444444,\"#bd3786\"],[0.5555555555555556,\"#d8576b\"],[0.6666666666666666,\"#ed7953\"],[0.7777777777777778,\"#fb9f3a\"],[0.8888888888888888,\"#fdca26\"],[1.0,\"#f0f921\"]],\"type\":\"heatmapgl\"}],\"heatmap\":[{\"colorbar\":{\"outlinewidth\":0,\"ticks\":\"\"},\"colorscale\":[[0.0,\"#0d0887\"],[0.1111111111111111,\"#46039f\"],[0.2222222222222222,\"#7201a8\"],[0.3333333333333333,\"#9c179e\"],[0.4444444444444444,\"#bd3786\"],[0.5555555555555556,\"#d8576b\"],[0.6666666666666666,\"#ed7953\"],[0.7777777777777778,\"#fb9f3a\"],[0.8888888888888888,\"#fdca26\"],[1.0,\"#f0f921\"]],\"type\":\"heatmap\"}],\"histogram2dcontour\":[{\"colorbar\":{\"outlinewidth\":0,\"ticks\":\"\"},\"colorscale\":[[0.0,\"#0d0887\"],[0.1111111111111111,\"#46039f\"],[0.2222222222222222,\"#7201a8\"],[0.3333333333333333,\"#9c179e\"],[0.4444444444444444,\"#bd3786\"],[0.5555555555555556,\"#d8576b\"],[0.6666666666666666,\"#ed7953\"],[0.7777777777777778,\"#fb9f3a\"],[0.8888888888888888,\"#fdca26\"],[1.0,\"#f0f921\"]],\"type\":\"histogram2dcontour\"}],\"histogram2d\":[{\"colorbar\":{\"outlinewidth\":0,\"ticks\":\"\"},\"colorscale\":[[0.0,\"#0d0887\"],[0.1111111111111111,\"#46039f\"],[0.2222222222222222,\"#7201a8\"],[0.3333333333333333,\"#9c179e\"],[0.4444444444444444,\"#bd3786\"],[0.5555555555555556,\"#d8576b\"],[0.6666666666666666,\"#ed7953\"],[0.7777777777777778,\"#fb9f3a\"],[0.8888888888888888,\"#fdca26\"],[1.0,\"#f0f921\"]],\"type\":\"histogram2d\"}],\"histogram\":[{\"marker\":{\"pattern\":{\"fillmode\":\"overlay\",\"size\":10,\"solidity\":0.2}},\"type\":\"histogram\"}],\"mesh3d\":[{\"colorbar\":{\"outlinewidth\":0,\"ticks\":\"\"},\"type\":\"mesh3d\"}],\"parcoords\":[{\"line\":{\"colorbar\":{\"outlinewidth\":0,\"ticks\":\"\"}},\"type\":\"parcoords\"}],\"pie\":[{\"automargin\":true,\"type\":\"pie\"}],\"scatter3d\":[{\"line\":{\"colorbar\":{\"outlinewidth\":0,\"ticks\":\"\"}},\"marker\":{\"colorbar\":{\"outlinewidth\":0,\"ticks\":\"\"}},\"type\":\"scatter3d\"}],\"scattercarpet\":[{\"marker\":{\"colorbar\":{\"outlinewidth\":0,\"ticks\":\"\"}},\"type\":\"scattercarpet\"}],\"scattergeo\":[{\"marker\":{\"colorbar\":{\"outlinewidth\":0,\"ticks\":\"\"}},\"type\":\"scattergeo\"}],\"scattergl\":[{\"marker\":{\"line\":{\"color\":\"#283442\"}},\"type\":\"scattergl\"}],\"scattermapbox\":[{\"marker\":{\"colorbar\":{\"outlinewidth\":0,\"ticks\":\"\"}},\"type\":\"scattermapbox\"}],\"scatterpolargl\":[{\"marker\":{\"colorbar\":{\"outlinewidth\":0,\"ticks\":\"\"}},\"type\":\"scatterpolargl\"}],\"scatterpolar\":[{\"marker\":{\"colorbar\":{\"outlinewidth\":0,\"ticks\":\"\"}},\"type\":\"scatterpolar\"}],\"scatter\":[{\"marker\":{\"line\":{\"color\":\"#283442\"}},\"type\":\"scatter\"}],\"scatterternary\":[{\"marker\":{\"colorbar\":{\"outlinewidth\":0,\"ticks\":\"\"}},\"type\":\"scatterternary\"}],\"surface\":[{\"colorbar\":{\"outlinewidth\":0,\"ticks\":\"\"},\"colorscale\":[[0.0,\"#0d0887\"],[0.1111111111111111,\"#46039f\"],[0.2222222222222222,\"#7201a8\"],[0.3333333333333333,\"#9c179e\"],[0.4444444444444444,\"#bd3786\"],[0.5555555555555556,\"#d8576b\"],[0.6666666666666666,\"#ed7953\"],[0.7777777777777778,\"#fb9f3a\"],[0.8888888888888888,\"#fdca26\"],[1.0,\"#f0f921\"]],\"type\":\"surface\"}],\"table\":[{\"cells\":{\"fill\":{\"color\":\"#506784\"},\"line\":{\"color\":\"rgb(17,17,17)\"}},\"header\":{\"fill\":{\"color\":\"#2a3f5f\"},\"line\":{\"color\":\"rgb(17,17,17)\"}},\"type\":\"table\"}]},\"layout\":{\"annotationdefaults\":{\"arrowcolor\":\"#f2f5fa\",\"arrowhead\":0,\"arrowwidth\":1},\"autotypenumbers\":\"strict\",\"coloraxis\":{\"colorbar\":{\"outlinewidth\":0,\"ticks\":\"\"}},\"colorscale\":{\"diverging\":[[0,\"#8e0152\"],[0.1,\"#c51b7d\"],[0.2,\"#de77ae\"],[0.3,\"#f1b6da\"],[0.4,\"#fde0ef\"],[0.5,\"#f7f7f7\"],[0.6,\"#e6f5d0\"],[0.7,\"#b8e186\"],[0.8,\"#7fbc41\"],[0.9,\"#4d9221\"],[1,\"#276419\"]],\"sequential\":[[0.0,\"#0d0887\"],[0.1111111111111111,\"#46039f\"],[0.2222222222222222,\"#7201a8\"],[0.3333333333333333,\"#9c179e\"],[0.4444444444444444,\"#bd3786\"],[0.5555555555555556,\"#d8576b\"],[0.6666666666666666,\"#ed7953\"],[0.7777777777777778,\"#fb9f3a\"],[0.8888888888888888,\"#fdca26\"],[1.0,\"#f0f921\"]],\"sequentialminus\":[[0.0,\"#0d0887\"],[0.1111111111111111,\"#46039f\"],[0.2222222222222222,\"#7201a8\"],[0.3333333333333333,\"#9c179e\"],[0.4444444444444444,\"#bd3786\"],[0.5555555555555556,\"#d8576b\"],[0.6666666666666666,\"#ed7953\"],[0.7777777777777778,\"#fb9f3a\"],[0.8888888888888888,\"#fdca26\"],[1.0,\"#f0f921\"]]},\"colorway\":[\"#636efa\",\"#EF553B\",\"#00cc96\",\"#ab63fa\",\"#FFA15A\",\"#19d3f3\",\"#FF6692\",\"#B6E880\",\"#FF97FF\",\"#FECB52\"],\"font\":{\"color\":\"#f2f5fa\"},\"geo\":{\"bgcolor\":\"rgb(17,17,17)\",\"lakecolor\":\"rgb(17,17,17)\",\"landcolor\":\"rgb(17,17,17)\",\"showlakes\":true,\"showland\":true,\"subunitcolor\":\"#506784\"},\"hoverlabel\":{\"align\":\"left\"},\"hovermode\":\"closest\",\"mapbox\":{\"style\":\"dark\"},\"paper_bgcolor\":\"rgb(17,17,17)\",\"plot_bgcolor\":\"rgb(17,17,17)\",\"polar\":{\"angularaxis\":{\"gridcolor\":\"#506784\",\"linecolor\":\"#506784\",\"ticks\":\"\"},\"bgcolor\":\"rgb(17,17,17)\",\"radialaxis\":{\"gridcolor\":\"#506784\",\"linecolor\":\"#506784\",\"ticks\":\"\"}},\"scene\":{\"xaxis\":{\"backgroundcolor\":\"rgb(17,17,17)\",\"gridcolor\":\"#506784\",\"gridwidth\":2,\"linecolor\":\"#506784\",\"showbackground\":true,\"ticks\":\"\",\"zerolinecolor\":\"#C8D4E3\"},\"yaxis\":{\"backgroundcolor\":\"rgb(17,17,17)\",\"gridcolor\":\"#506784\",\"gridwidth\":2,\"linecolor\":\"#506784\",\"showbackground\":true,\"ticks\":\"\",\"zerolinecolor\":\"#C8D4E3\"},\"zaxis\":{\"backgroundcolor\":\"rgb(17,17,17)\",\"gridcolor\":\"#506784\",\"gridwidth\":2,\"linecolor\":\"#506784\",\"showbackground\":true,\"ticks\":\"\",\"zerolinecolor\":\"#C8D4E3\"}},\"shapedefaults\":{\"line\":{\"color\":\"#f2f5fa\"}},\"sliderdefaults\":{\"bgcolor\":\"#C8D4E3\",\"bordercolor\":\"rgb(17,17,17)\",\"borderwidth\":1,\"tickwidth\":0},\"ternary\":{\"aaxis\":{\"gridcolor\":\"#506784\",\"linecolor\":\"#506784\",\"ticks\":\"\"},\"baxis\":{\"gridcolor\":\"#506784\",\"linecolor\":\"#506784\",\"ticks\":\"\"},\"bgcolor\":\"rgb(17,17,17)\",\"caxis\":{\"gridcolor\":\"#506784\",\"linecolor\":\"#506784\",\"ticks\":\"\"}},\"title\":{\"x\":0.05},\"updatemenudefaults\":{\"bgcolor\":\"#506784\",\"borderwidth\":0},\"xaxis\":{\"automargin\":true,\"gridcolor\":\"#283442\",\"linecolor\":\"#506784\",\"ticks\":\"\",\"title\":{\"standoff\":15},\"zerolinecolor\":\"#283442\",\"zerolinewidth\":2},\"yaxis\":{\"automargin\":true,\"gridcolor\":\"#283442\",\"linecolor\":\"#506784\",\"ticks\":\"\",\"title\":{\"standoff\":15},\"zerolinecolor\":\"#283442\",\"zerolinewidth\":2}}},\"xaxis\":{\"anchor\":\"y\",\"domain\":[0.0,1.0],\"title\":{\"text\":\"Sector\"}},\"yaxis\":{\"anchor\":\"x\",\"domain\":[0.0,1.0],\"title\":{\"text\":\"Price/Sales\"}},\"legend\":{\"tracegroupgap\":0},\"margin\":{\"t\":60},\"boxmode\":\"group\",\"width\":1200,\"height\":800},                        {\"responsive\": true}                    ).then(function(){\n",
       "                            \n",
       "var gd = document.getElementById('ae201061-8191-4850-9a83-ce24057cae06');\n",
       "var x = new MutationObserver(function (mutations, observer) {{\n",
       "        var display = window.getComputedStyle(gd).display;\n",
       "        if (!display || display === 'none') {{\n",
       "            console.log([gd, 'removed!']);\n",
       "            Plotly.purge(gd);\n",
       "            observer.disconnect();\n",
       "        }}\n",
       "}});\n",
       "\n",
       "// Listen for the removal of the full notebook cells\n",
       "var notebookContainer = gd.closest('#notebook-container');\n",
       "if (notebookContainer) {{\n",
       "    x.observe(notebookContainer, {childList: true});\n",
       "}}\n",
       "\n",
       "// Listen for the clearing of the current output cell\n",
       "var outputEl = gd.closest('.output');\n",
       "if (outputEl) {{\n",
       "    x.observe(outputEl, {childList: true});\n",
       "}}\n",
       "\n",
       "                        })                };                });            </script>        </div>"
      ]
     },
     "metadata": {},
     "output_type": "display_data"
    }
   ],
   "source": [
    "fig = px.box(SnP_500, y='Price/Sales', x='Sector', color_discrete_sequence=['firebrick'])\n",
    "fig.update_layout(width=1200, height=800, template = \"plotly_dark\")\n",
    "fig.show()"
   ]
  },
  {
   "attachments": {},
   "cell_type": "markdown",
   "metadata": {},
   "source": [
    "### VIOLIN PLOT"
   ]
  },
  {
   "attachments": {},
   "cell_type": "markdown",
   "metadata": {},
   "source": [
    "Alternatively we can use a violin plot, a violin plot combines a box plot with a kernel density plot. It displays the same summary statistics as a box plot, but also provides a more detailed view of the distribution. The plot is symmetrical and resembles a violin or a mirrored density plot. The width of the violin at each point represents the density of data points, with wider areas indicating higher density."
   ]
  },
  {
   "cell_type": "code",
   "execution_count": 109,
   "metadata": {},
   "outputs": [
    {
     "data": {
      "application/vnd.plotly.v1+json": {
       "config": {
        "plotlyServerURL": "https://plot.ly"
       },
       "data": [
        {
         "alignmentgroup": "True",
         "box": {
          "visible": false
         },
         "hovertemplate": "Earnings/Share=%{y}<extra></extra>",
         "legendgroup": "",
         "marker": {
          "color": "firebrick"
         },
         "name": "",
         "offsetgroup": "",
         "orientation": "v",
         "scalegroup": "True",
         "showlegend": false,
         "type": "violin",
         "x0": " ",
         "xaxis": "x",
         "y": [
          7.92,
          1.7,
          0.26,
          3.29,
          5.44,
          1.28,
          7.43,
          3.39,
          6.19,
          0.03,
          -1.72,
          5.75,
          12.07,
          11.01,
          2.1,
          13.66,
          1.79,
          8.28,
          5.66,
          1.57,
          1.77,
          2.84,
          2.37,
          38.35,
          14.13,
          1.65,
          4.68,
          22.27,
          22.27,
          5.31,
          6.16,
          2.68,
          3.91,
          1.24,
          2.9,
          -0.76,
          1.97,
          2.63,
          9.44,
          1.64,
          2.94,
          2.57,
          2.05,
          -5.9,
          2.11,
          6.13,
          2.99,
          14.36,
          4.66,
          -3.72,
          1.95,
          9.2,
          3.17,
          5.05,
          2.17,
          -0.21,
          2.54,
          9.08,
          4.76,
          -2.61,
          3.85,
          44.09,
          6.36,
          3.11,
          -0.31,
          0.85,
          1.55,
          1.29,
          2.74,
          4.65,
          9.76,
          3.81,
          11.94,
          30.3,
          1.92,
          13.47,
          0.55,
          2.93,
          0.07,
          -24.62,
          2.65,
          4.01,
          1.7,
          3.57,
          1.85,
          -0.92,
          0.74,
          2.89,
          3.45,
          4.04,
          3.97,
          3.58,
          1.26,
          2.27,
          1.69,
          2.81,
          3.58,
          3.23,
          1,
          1.16,
          1.84,
          -1.2,
          1.61,
          34.08,
          -6.44,
          4.85,
          0.8,
          8.2,
          2.92,
          7.2,
          -4.64,
          3.55,
          4.38,
          1.91,
          -3.1,
          3.27,
          -0.24,
          11.94,
          1.99,
          1.49,
          2.54,
          2.28,
          4.74,
          4.13,
          1.46,
          -11.04,
          -0.65,
          4.1,
          8.71,
          -0.78,
          6.09,
          -0.63,
          1.02,
          1.83,
          6.07,
          8.23,
          4.91,
          2.73,
          3.53,
          3.81,
          4.3,
          6.64,
          4.94,
          1.99,
          -6.89,
          2.19,
          5.41,
          1.96,
          1.96,
          3.06,
          4.43,
          3.77,
          4.91,
          5.15,
          1.59,
          4.54,
          4.82,
          3.12,
          0.88,
          -0.89,
          2.15,
          10.12,
          6.68,
          -1.07,
          4.14,
          3.96,
          2.88,
          3.07,
          2.35,
          -3.26,
          -0.48,
          -1.98,
          -2.69,
          4.04,
          1.77,
          1.63,
          6.27,
          3.35,
          23.71,
          2.96,
          1.23,
          1.81,
          2.36,
          5.39,
          2.92,
          1.88,
          6.51,
          5.39,
          2.01,
          3.5,
          11.07,
          1.72,
          2.85,
          -14.49,
          4.14,
          1.21,
          1.12,
          1.99,
          1.56,
          4.91,
          1.9,
          2.46,
          3.04,
          3,
          1.24,
          1.69,
          2.69,
          2.31,
          9.55,
          -0.72,
          1.34,
          2.77,
          6,
          4.6,
          9.95,
          1.58,
          8.61,
          4.74,
          10.02,
          -0.53,
          1.41,
          2.98,
          4.43,
          2.27,
          4.34,
          5.94,
          1.33,
          -1.2,
          3.1,
          -19.94,
          0.21,
          1.05,
          2.64,
          6.46,
          2.08,
          1.57,
          1.02,
          1.49,
          4.06,
          1,
          12.15,
          2.94,
          1,
          4.86,
          4.92,
          0.54,
          5.07,
          1.98,
          2.37,
          6.11,
          5.14,
          1.49,
          5.05,
          3.72,
          5.67,
          2.74,
          0.76,
          0.46,
          6.19,
          2.43,
          5.1,
          0.39,
          1.71,
          6.3,
          0.78,
          9.16,
          1.95,
          1.12,
          6.41,
          0.8,
          0.01,
          5.88,
          3.12,
          2.81,
          2.05,
          3.98,
          8.51,
          7.02,
          9.22,
          2.76,
          3.38,
          0.33,
          -0.2,
          9.24,
          1.5,
          6.83,
          1.93,
          3.46,
          12.25,
          8.69,
          3.43,
          1.98,
          -2.65,
          6.85,
          2.67,
          2.87,
          6.63,
          1.47,
          3.65,
          -3.06,
          3.73,
          6.36,
          22.74,
          2.89,
          1.4,
          0.63,
          14.24,
          1.92,
          3.31,
          0.66,
          4.36,
          2.97,
          2.86,
          12.48,
          9.27,
          1.91,
          5.09,
          1.19,
          1.35,
          3.09,
          -1.08,
          0.93,
          4.32,
          -6.4,
          1.01,
          1.81,
          1.25,
          1.17,
          -6.5,
          -1.18,
          -1.28,
          -1.28,
          11.39,
          1.39,
          2.51,
          1.02,
          -2.32,
          2.02,
          18.73,
          4.92,
          11.47,
          2.78,
          -2.23,
          4.1,
          2.57,
          10.73,
          -0.75,
          4.79,
          1.66,
          2.2,
          4.75,
          7.07,
          7.24,
          1.79,
          2.26,
          1.47,
          3.63,
          0.97,
          4.36,
          2.64,
          -28.01,
          3.51,
          2.78,
          4.48,
          9.93,
          3.95,
          -3.39,
          10.4,
          -1.19,
          6.31,
          2.79,
          4.32,
          42.66,
          4.5,
          5.6,
          2.73,
          3.06,
          9.73,
          1.75,
          6.81,
          1.44,
          6.77,
          -0.13,
          1.65,
          1.28,
          5.5,
          -2.79,
          4.12,
          6.95,
          1.12,
          1.68,
          1.43,
          7.74,
          1,
          1.77,
          2.41,
          2.32,
          6.35,
          4.8,
          9.38,
          2.83,
          7.53,
          7.95,
          0.27,
          0.62,
          4.16,
          -1.08,
          5.18,
          2.58,
          2.46,
          5.45,
          18.61,
          7.03,
          6.25,
          5.41,
          0.88,
          9.2,
          2.53,
          5.82,
          8.05,
          1.97,
          5.23,
          2.08,
          2.68,
          4.48,
          -0.17,
          2.41,
          0.87,
          2.08,
          4.75,
          2.09,
          4.71,
          4.71,
          0,
          3.6,
          1.14,
          3.73,
          5.33,
          7.52,
          3.66,
          0.85,
          7.31,
          5.7,
          5.6,
          3.55,
          6.62,
          3.46,
          4.5,
          3.16,
          3.3,
          7.92,
          0.81,
          1.59,
          1.59,
          4.79,
          3.52,
          1.08,
          6.52,
          0.45,
          0.45,
          13.52,
          7.05,
          10.71,
          5.62,
          15.72,
          5.7,
          7.14,
          4.38,
          2.55,
          9.24,
          2.69,
          1.86,
          3.43,
          3.45,
          7.36,
          1.04,
          4.68,
          2.8,
          4.33,
          3.1,
          4.39,
          3.78,
          2.66,
          0.19,
          3.79,
          4.07,
          2.81,
          1.29,
          0.51,
          2.77,
          0.77,
          4.51,
          -0.57,
          3.07,
          5.53,
          7.27,
          2.21,
          0.59,
          2.32,
          -2.24,
          1.83,
          4.07,
          9.01,
          2.6,
          1.65
         ],
         "y0": " ",
         "yaxis": "y"
        }
       ],
       "layout": {
        "height": 800,
        "legend": {
         "tracegroupgap": 0
        },
        "margin": {
         "t": 60
        },
        "template": {
         "data": {
          "bar": [
           {
            "error_x": {
             "color": "#f2f5fa"
            },
            "error_y": {
             "color": "#f2f5fa"
            },
            "marker": {
             "line": {
              "color": "rgb(17,17,17)",
              "width": 0.5
             },
             "pattern": {
              "fillmode": "overlay",
              "size": 10,
              "solidity": 0.2
             }
            },
            "type": "bar"
           }
          ],
          "barpolar": [
           {
            "marker": {
             "line": {
              "color": "rgb(17,17,17)",
              "width": 0.5
             },
             "pattern": {
              "fillmode": "overlay",
              "size": 10,
              "solidity": 0.2
             }
            },
            "type": "barpolar"
           }
          ],
          "carpet": [
           {
            "aaxis": {
             "endlinecolor": "#A2B1C6",
             "gridcolor": "#506784",
             "linecolor": "#506784",
             "minorgridcolor": "#506784",
             "startlinecolor": "#A2B1C6"
            },
            "baxis": {
             "endlinecolor": "#A2B1C6",
             "gridcolor": "#506784",
             "linecolor": "#506784",
             "minorgridcolor": "#506784",
             "startlinecolor": "#A2B1C6"
            },
            "type": "carpet"
           }
          ],
          "choropleth": [
           {
            "colorbar": {
             "outlinewidth": 0,
             "ticks": ""
            },
            "type": "choropleth"
           }
          ],
          "contour": [
           {
            "colorbar": {
             "outlinewidth": 0,
             "ticks": ""
            },
            "colorscale": [
             [
              0,
              "#0d0887"
             ],
             [
              0.1111111111111111,
              "#46039f"
             ],
             [
              0.2222222222222222,
              "#7201a8"
             ],
             [
              0.3333333333333333,
              "#9c179e"
             ],
             [
              0.4444444444444444,
              "#bd3786"
             ],
             [
              0.5555555555555556,
              "#d8576b"
             ],
             [
              0.6666666666666666,
              "#ed7953"
             ],
             [
              0.7777777777777778,
              "#fb9f3a"
             ],
             [
              0.8888888888888888,
              "#fdca26"
             ],
             [
              1,
              "#f0f921"
             ]
            ],
            "type": "contour"
           }
          ],
          "contourcarpet": [
           {
            "colorbar": {
             "outlinewidth": 0,
             "ticks": ""
            },
            "type": "contourcarpet"
           }
          ],
          "heatmap": [
           {
            "colorbar": {
             "outlinewidth": 0,
             "ticks": ""
            },
            "colorscale": [
             [
              0,
              "#0d0887"
             ],
             [
              0.1111111111111111,
              "#46039f"
             ],
             [
              0.2222222222222222,
              "#7201a8"
             ],
             [
              0.3333333333333333,
              "#9c179e"
             ],
             [
              0.4444444444444444,
              "#bd3786"
             ],
             [
              0.5555555555555556,
              "#d8576b"
             ],
             [
              0.6666666666666666,
              "#ed7953"
             ],
             [
              0.7777777777777778,
              "#fb9f3a"
             ],
             [
              0.8888888888888888,
              "#fdca26"
             ],
             [
              1,
              "#f0f921"
             ]
            ],
            "type": "heatmap"
           }
          ],
          "heatmapgl": [
           {
            "colorbar": {
             "outlinewidth": 0,
             "ticks": ""
            },
            "colorscale": [
             [
              0,
              "#0d0887"
             ],
             [
              0.1111111111111111,
              "#46039f"
             ],
             [
              0.2222222222222222,
              "#7201a8"
             ],
             [
              0.3333333333333333,
              "#9c179e"
             ],
             [
              0.4444444444444444,
              "#bd3786"
             ],
             [
              0.5555555555555556,
              "#d8576b"
             ],
             [
              0.6666666666666666,
              "#ed7953"
             ],
             [
              0.7777777777777778,
              "#fb9f3a"
             ],
             [
              0.8888888888888888,
              "#fdca26"
             ],
             [
              1,
              "#f0f921"
             ]
            ],
            "type": "heatmapgl"
           }
          ],
          "histogram": [
           {
            "marker": {
             "pattern": {
              "fillmode": "overlay",
              "size": 10,
              "solidity": 0.2
             }
            },
            "type": "histogram"
           }
          ],
          "histogram2d": [
           {
            "colorbar": {
             "outlinewidth": 0,
             "ticks": ""
            },
            "colorscale": [
             [
              0,
              "#0d0887"
             ],
             [
              0.1111111111111111,
              "#46039f"
             ],
             [
              0.2222222222222222,
              "#7201a8"
             ],
             [
              0.3333333333333333,
              "#9c179e"
             ],
             [
              0.4444444444444444,
              "#bd3786"
             ],
             [
              0.5555555555555556,
              "#d8576b"
             ],
             [
              0.6666666666666666,
              "#ed7953"
             ],
             [
              0.7777777777777778,
              "#fb9f3a"
             ],
             [
              0.8888888888888888,
              "#fdca26"
             ],
             [
              1,
              "#f0f921"
             ]
            ],
            "type": "histogram2d"
           }
          ],
          "histogram2dcontour": [
           {
            "colorbar": {
             "outlinewidth": 0,
             "ticks": ""
            },
            "colorscale": [
             [
              0,
              "#0d0887"
             ],
             [
              0.1111111111111111,
              "#46039f"
             ],
             [
              0.2222222222222222,
              "#7201a8"
             ],
             [
              0.3333333333333333,
              "#9c179e"
             ],
             [
              0.4444444444444444,
              "#bd3786"
             ],
             [
              0.5555555555555556,
              "#d8576b"
             ],
             [
              0.6666666666666666,
              "#ed7953"
             ],
             [
              0.7777777777777778,
              "#fb9f3a"
             ],
             [
              0.8888888888888888,
              "#fdca26"
             ],
             [
              1,
              "#f0f921"
             ]
            ],
            "type": "histogram2dcontour"
           }
          ],
          "mesh3d": [
           {
            "colorbar": {
             "outlinewidth": 0,
             "ticks": ""
            },
            "type": "mesh3d"
           }
          ],
          "parcoords": [
           {
            "line": {
             "colorbar": {
              "outlinewidth": 0,
              "ticks": ""
             }
            },
            "type": "parcoords"
           }
          ],
          "pie": [
           {
            "automargin": true,
            "type": "pie"
           }
          ],
          "scatter": [
           {
            "marker": {
             "line": {
              "color": "#283442"
             }
            },
            "type": "scatter"
           }
          ],
          "scatter3d": [
           {
            "line": {
             "colorbar": {
              "outlinewidth": 0,
              "ticks": ""
             }
            },
            "marker": {
             "colorbar": {
              "outlinewidth": 0,
              "ticks": ""
             }
            },
            "type": "scatter3d"
           }
          ],
          "scattercarpet": [
           {
            "marker": {
             "colorbar": {
              "outlinewidth": 0,
              "ticks": ""
             }
            },
            "type": "scattercarpet"
           }
          ],
          "scattergeo": [
           {
            "marker": {
             "colorbar": {
              "outlinewidth": 0,
              "ticks": ""
             }
            },
            "type": "scattergeo"
           }
          ],
          "scattergl": [
           {
            "marker": {
             "line": {
              "color": "#283442"
             }
            },
            "type": "scattergl"
           }
          ],
          "scattermapbox": [
           {
            "marker": {
             "colorbar": {
              "outlinewidth": 0,
              "ticks": ""
             }
            },
            "type": "scattermapbox"
           }
          ],
          "scatterpolar": [
           {
            "marker": {
             "colorbar": {
              "outlinewidth": 0,
              "ticks": ""
             }
            },
            "type": "scatterpolar"
           }
          ],
          "scatterpolargl": [
           {
            "marker": {
             "colorbar": {
              "outlinewidth": 0,
              "ticks": ""
             }
            },
            "type": "scatterpolargl"
           }
          ],
          "scatterternary": [
           {
            "marker": {
             "colorbar": {
              "outlinewidth": 0,
              "ticks": ""
             }
            },
            "type": "scatterternary"
           }
          ],
          "surface": [
           {
            "colorbar": {
             "outlinewidth": 0,
             "ticks": ""
            },
            "colorscale": [
             [
              0,
              "#0d0887"
             ],
             [
              0.1111111111111111,
              "#46039f"
             ],
             [
              0.2222222222222222,
              "#7201a8"
             ],
             [
              0.3333333333333333,
              "#9c179e"
             ],
             [
              0.4444444444444444,
              "#bd3786"
             ],
             [
              0.5555555555555556,
              "#d8576b"
             ],
             [
              0.6666666666666666,
              "#ed7953"
             ],
             [
              0.7777777777777778,
              "#fb9f3a"
             ],
             [
              0.8888888888888888,
              "#fdca26"
             ],
             [
              1,
              "#f0f921"
             ]
            ],
            "type": "surface"
           }
          ],
          "table": [
           {
            "cells": {
             "fill": {
              "color": "#506784"
             },
             "line": {
              "color": "rgb(17,17,17)"
             }
            },
            "header": {
             "fill": {
              "color": "#2a3f5f"
             },
             "line": {
              "color": "rgb(17,17,17)"
             }
            },
            "type": "table"
           }
          ]
         },
         "layout": {
          "annotationdefaults": {
           "arrowcolor": "#f2f5fa",
           "arrowhead": 0,
           "arrowwidth": 1
          },
          "autotypenumbers": "strict",
          "coloraxis": {
           "colorbar": {
            "outlinewidth": 0,
            "ticks": ""
           }
          },
          "colorscale": {
           "diverging": [
            [
             0,
             "#8e0152"
            ],
            [
             0.1,
             "#c51b7d"
            ],
            [
             0.2,
             "#de77ae"
            ],
            [
             0.3,
             "#f1b6da"
            ],
            [
             0.4,
             "#fde0ef"
            ],
            [
             0.5,
             "#f7f7f7"
            ],
            [
             0.6,
             "#e6f5d0"
            ],
            [
             0.7,
             "#b8e186"
            ],
            [
             0.8,
             "#7fbc41"
            ],
            [
             0.9,
             "#4d9221"
            ],
            [
             1,
             "#276419"
            ]
           ],
           "sequential": [
            [
             0,
             "#0d0887"
            ],
            [
             0.1111111111111111,
             "#46039f"
            ],
            [
             0.2222222222222222,
             "#7201a8"
            ],
            [
             0.3333333333333333,
             "#9c179e"
            ],
            [
             0.4444444444444444,
             "#bd3786"
            ],
            [
             0.5555555555555556,
             "#d8576b"
            ],
            [
             0.6666666666666666,
             "#ed7953"
            ],
            [
             0.7777777777777778,
             "#fb9f3a"
            ],
            [
             0.8888888888888888,
             "#fdca26"
            ],
            [
             1,
             "#f0f921"
            ]
           ],
           "sequentialminus": [
            [
             0,
             "#0d0887"
            ],
            [
             0.1111111111111111,
             "#46039f"
            ],
            [
             0.2222222222222222,
             "#7201a8"
            ],
            [
             0.3333333333333333,
             "#9c179e"
            ],
            [
             0.4444444444444444,
             "#bd3786"
            ],
            [
             0.5555555555555556,
             "#d8576b"
            ],
            [
             0.6666666666666666,
             "#ed7953"
            ],
            [
             0.7777777777777778,
             "#fb9f3a"
            ],
            [
             0.8888888888888888,
             "#fdca26"
            ],
            [
             1,
             "#f0f921"
            ]
           ]
          },
          "colorway": [
           "#636efa",
           "#EF553B",
           "#00cc96",
           "#ab63fa",
           "#FFA15A",
           "#19d3f3",
           "#FF6692",
           "#B6E880",
           "#FF97FF",
           "#FECB52"
          ],
          "font": {
           "color": "#f2f5fa"
          },
          "geo": {
           "bgcolor": "rgb(17,17,17)",
           "lakecolor": "rgb(17,17,17)",
           "landcolor": "rgb(17,17,17)",
           "showlakes": true,
           "showland": true,
           "subunitcolor": "#506784"
          },
          "hoverlabel": {
           "align": "left"
          },
          "hovermode": "closest",
          "mapbox": {
           "style": "dark"
          },
          "paper_bgcolor": "rgb(17,17,17)",
          "plot_bgcolor": "rgb(17,17,17)",
          "polar": {
           "angularaxis": {
            "gridcolor": "#506784",
            "linecolor": "#506784",
            "ticks": ""
           },
           "bgcolor": "rgb(17,17,17)",
           "radialaxis": {
            "gridcolor": "#506784",
            "linecolor": "#506784",
            "ticks": ""
           }
          },
          "scene": {
           "xaxis": {
            "backgroundcolor": "rgb(17,17,17)",
            "gridcolor": "#506784",
            "gridwidth": 2,
            "linecolor": "#506784",
            "showbackground": true,
            "ticks": "",
            "zerolinecolor": "#C8D4E3"
           },
           "yaxis": {
            "backgroundcolor": "rgb(17,17,17)",
            "gridcolor": "#506784",
            "gridwidth": 2,
            "linecolor": "#506784",
            "showbackground": true,
            "ticks": "",
            "zerolinecolor": "#C8D4E3"
           },
           "zaxis": {
            "backgroundcolor": "rgb(17,17,17)",
            "gridcolor": "#506784",
            "gridwidth": 2,
            "linecolor": "#506784",
            "showbackground": true,
            "ticks": "",
            "zerolinecolor": "#C8D4E3"
           }
          },
          "shapedefaults": {
           "line": {
            "color": "#f2f5fa"
           }
          },
          "sliderdefaults": {
           "bgcolor": "#C8D4E3",
           "bordercolor": "rgb(17,17,17)",
           "borderwidth": 1,
           "tickwidth": 0
          },
          "ternary": {
           "aaxis": {
            "gridcolor": "#506784",
            "linecolor": "#506784",
            "ticks": ""
           },
           "baxis": {
            "gridcolor": "#506784",
            "linecolor": "#506784",
            "ticks": ""
           },
           "bgcolor": "rgb(17,17,17)",
           "caxis": {
            "gridcolor": "#506784",
            "linecolor": "#506784",
            "ticks": ""
           }
          },
          "title": {
           "x": 0.05
          },
          "updatemenudefaults": {
           "bgcolor": "#506784",
           "borderwidth": 0
          },
          "xaxis": {
           "automargin": true,
           "gridcolor": "#283442",
           "linecolor": "#506784",
           "ticks": "",
           "title": {
            "standoff": 15
           },
           "zerolinecolor": "#283442",
           "zerolinewidth": 2
          },
          "yaxis": {
           "automargin": true,
           "gridcolor": "#283442",
           "linecolor": "#506784",
           "ticks": "",
           "title": {
            "standoff": 15
           },
           "zerolinecolor": "#283442",
           "zerolinewidth": 2
          }
         }
        },
        "violinmode": "group",
        "width": 1000,
        "xaxis": {
         "anchor": "y",
         "domain": [
          0,
          1
         ]
        },
        "yaxis": {
         "anchor": "x",
         "domain": [
          0,
          1
         ],
         "title": {
          "text": "Earnings/Share"
         }
        }
       }
      },
      "text/html": [
       "<div>                            <div id=\"aeecfa79-09b2-4745-9250-96967d5b2a32\" class=\"plotly-graph-div\" style=\"height:800px; width:1000px;\"></div>            <script type=\"text/javascript\">                require([\"plotly\"], function(Plotly) {                    window.PLOTLYENV=window.PLOTLYENV || {};                                    if (document.getElementById(\"aeecfa79-09b2-4745-9250-96967d5b2a32\")) {                    Plotly.newPlot(                        \"aeecfa79-09b2-4745-9250-96967d5b2a32\",                        [{\"alignmentgroup\":\"True\",\"box\":{\"visible\":false},\"hovertemplate\":\"Earnings/Share=%{y}<extra></extra>\",\"legendgroup\":\"\",\"marker\":{\"color\":\"firebrick\"},\"name\":\"\",\"offsetgroup\":\"\",\"orientation\":\"v\",\"scalegroup\":\"True\",\"showlegend\":false,\"x0\":\" \",\"xaxis\":\"x\",\"y\":[7.92,1.7,0.26,3.29,5.44,1.28,7.43,3.39,6.19,0.03,-1.72,5.75,12.07,11.01,2.1,13.66,1.79,8.28,5.66,1.57,1.77,2.84,2.37,38.35,14.13,1.65,4.68,22.27,22.27,5.31,6.16,2.68,3.91,1.24,2.9,-0.76,1.97,2.63,9.44,1.64,2.94,2.57,2.05,-5.9,2.11,6.13,2.99,14.36,4.66,-3.72,1.95,9.2,3.17,5.05,2.17,-0.21,2.54,9.08,4.76,-2.61,3.85,44.09,6.36,3.11,-0.31,0.85,1.55,1.29,2.74,4.65,9.76,3.81,11.94,30.3,1.92,13.47,0.55,2.93,0.07,-24.62,2.65,4.01,1.7,3.57,1.85,-0.92,0.74,2.89,3.45,4.04,3.97,3.58,1.26,2.27,1.69,2.81,3.58,3.23,1.0,1.16,1.84,-1.2,1.61,34.08,-6.44,4.85,0.8,8.2,2.92,7.2,-4.64,3.55,4.38,1.91,-3.1,3.27,-0.24,11.94,1.99,1.49,2.54,2.28,4.74,4.13,1.46,-11.04,-0.65,4.1,8.71,-0.78,6.09,-0.63,1.02,1.83,6.07,8.23,4.91,2.73,3.53,3.81,4.3,6.64,4.94,1.99,-6.89,2.19,5.41,1.96,1.96,3.06,4.43,3.77,4.91,5.15,1.59,4.54,4.82,3.12,0.88,-0.89,2.15,10.12,6.68,-1.07,4.14,3.96,2.88,3.07,2.35,-3.26,-0.48,-1.98,-2.69,4.04,1.77,1.63,6.27,3.35,23.71,2.96,1.23,1.81,2.36,5.39,2.92,1.88,6.51,5.39,2.01,3.5,11.07,1.72,2.85,-14.49,4.14,1.21,1.12,1.99,1.56,4.91,1.9,2.46,3.04,3.0,1.24,1.69,2.69,2.31,9.55,-0.72,1.34,2.77,6.0,4.6,9.95,1.58,8.61,4.74,10.02,-0.53,1.41,2.98,4.43,2.27,4.34,5.94,1.33,-1.2,3.1,-19.94,0.21,1.05,2.64,6.46,2.08,1.57,1.02,1.49,4.06,1.0,12.15,2.94,1.0,4.86,4.92,0.54,5.07,1.98,2.37,6.11,5.14,1.49,5.05,3.72,5.67,2.74,0.76,0.46,6.19,2.43,5.1,0.39,1.71,6.3,0.78,9.16,1.95,1.12,6.41,0.8,0.01,5.88,3.12,2.81,2.05,3.98,8.51,7.02,9.22,2.76,3.38,0.33,-0.2,9.24,1.5,6.83,1.93,3.46,12.25,8.69,3.43,1.98,-2.65,6.85,2.67,2.87,6.63,1.47,3.65,-3.06,3.73,6.36,22.74,2.89,1.4,0.63,14.24,1.92,3.31,0.66,4.36,2.97,2.86,12.48,9.27,1.91,5.09,1.19,1.35,3.09,-1.08,0.93,4.32,-6.4,1.01,1.81,1.25,1.17,-6.5,-1.18,-1.28,-1.28,11.39,1.39,2.51,1.02,-2.32,2.02,18.73,4.92,11.47,2.78,-2.23,4.1,2.57,10.73,-0.75,4.79,1.66,2.2,4.75,7.07,7.24,1.79,2.26,1.47,3.63,0.97,4.36,2.64,-28.01,3.51,2.78,4.48,9.93,3.95,-3.39,10.4,-1.19,6.31,2.79,4.32,42.66,4.5,5.6,2.73,3.06,9.73,1.75,6.81,1.44,6.77,-0.13,1.65,1.28,5.5,-2.79,4.12,6.95,1.12,1.68,1.43,7.74,1.0,1.77,2.41,2.32,6.35,4.8,9.38,2.83,7.53,7.95,0.27,0.62,4.16,-1.08,5.18,2.58,2.46,5.45,18.61,7.03,6.25,5.41,0.88,9.2,2.53,5.82,8.05,1.97,5.23,2.08,2.68,4.48,-0.17,2.41,0.87,2.08,4.75,2.09,4.71,4.71,0.0,3.6,1.14,3.73,5.33,7.52,3.66,0.85,7.31,5.7,5.6,3.55,6.62,3.46,4.5,3.16,3.3,7.92,0.81,1.59,1.59,4.79,3.52,1.08,6.52,0.45,0.45,13.52,7.05,10.71,5.62,15.72,5.7,7.14,4.38,2.55,9.24,2.69,1.86,3.43,3.45,7.36,1.04,4.68,2.8,4.33,3.1,4.39,3.78,2.66,0.19,3.79,4.07,2.81,1.29,0.51,2.77,0.77,4.51,-0.57,3.07,5.53,7.27,2.21,0.59,2.32,-2.24,1.83,4.07,9.01,2.6,1.65],\"y0\":\" \",\"yaxis\":\"y\",\"type\":\"violin\"}],                        {\"template\":{\"data\":{\"barpolar\":[{\"marker\":{\"line\":{\"color\":\"rgb(17,17,17)\",\"width\":0.5},\"pattern\":{\"fillmode\":\"overlay\",\"size\":10,\"solidity\":0.2}},\"type\":\"barpolar\"}],\"bar\":[{\"error_x\":{\"color\":\"#f2f5fa\"},\"error_y\":{\"color\":\"#f2f5fa\"},\"marker\":{\"line\":{\"color\":\"rgb(17,17,17)\",\"width\":0.5},\"pattern\":{\"fillmode\":\"overlay\",\"size\":10,\"solidity\":0.2}},\"type\":\"bar\"}],\"carpet\":[{\"aaxis\":{\"endlinecolor\":\"#A2B1C6\",\"gridcolor\":\"#506784\",\"linecolor\":\"#506784\",\"minorgridcolor\":\"#506784\",\"startlinecolor\":\"#A2B1C6\"},\"baxis\":{\"endlinecolor\":\"#A2B1C6\",\"gridcolor\":\"#506784\",\"linecolor\":\"#506784\",\"minorgridcolor\":\"#506784\",\"startlinecolor\":\"#A2B1C6\"},\"type\":\"carpet\"}],\"choropleth\":[{\"colorbar\":{\"outlinewidth\":0,\"ticks\":\"\"},\"type\":\"choropleth\"}],\"contourcarpet\":[{\"colorbar\":{\"outlinewidth\":0,\"ticks\":\"\"},\"type\":\"contourcarpet\"}],\"contour\":[{\"colorbar\":{\"outlinewidth\":0,\"ticks\":\"\"},\"colorscale\":[[0.0,\"#0d0887\"],[0.1111111111111111,\"#46039f\"],[0.2222222222222222,\"#7201a8\"],[0.3333333333333333,\"#9c179e\"],[0.4444444444444444,\"#bd3786\"],[0.5555555555555556,\"#d8576b\"],[0.6666666666666666,\"#ed7953\"],[0.7777777777777778,\"#fb9f3a\"],[0.8888888888888888,\"#fdca26\"],[1.0,\"#f0f921\"]],\"type\":\"contour\"}],\"heatmapgl\":[{\"colorbar\":{\"outlinewidth\":0,\"ticks\":\"\"},\"colorscale\":[[0.0,\"#0d0887\"],[0.1111111111111111,\"#46039f\"],[0.2222222222222222,\"#7201a8\"],[0.3333333333333333,\"#9c179e\"],[0.4444444444444444,\"#bd3786\"],[0.5555555555555556,\"#d8576b\"],[0.6666666666666666,\"#ed7953\"],[0.7777777777777778,\"#fb9f3a\"],[0.8888888888888888,\"#fdca26\"],[1.0,\"#f0f921\"]],\"type\":\"heatmapgl\"}],\"heatmap\":[{\"colorbar\":{\"outlinewidth\":0,\"ticks\":\"\"},\"colorscale\":[[0.0,\"#0d0887\"],[0.1111111111111111,\"#46039f\"],[0.2222222222222222,\"#7201a8\"],[0.3333333333333333,\"#9c179e\"],[0.4444444444444444,\"#bd3786\"],[0.5555555555555556,\"#d8576b\"],[0.6666666666666666,\"#ed7953\"],[0.7777777777777778,\"#fb9f3a\"],[0.8888888888888888,\"#fdca26\"],[1.0,\"#f0f921\"]],\"type\":\"heatmap\"}],\"histogram2dcontour\":[{\"colorbar\":{\"outlinewidth\":0,\"ticks\":\"\"},\"colorscale\":[[0.0,\"#0d0887\"],[0.1111111111111111,\"#46039f\"],[0.2222222222222222,\"#7201a8\"],[0.3333333333333333,\"#9c179e\"],[0.4444444444444444,\"#bd3786\"],[0.5555555555555556,\"#d8576b\"],[0.6666666666666666,\"#ed7953\"],[0.7777777777777778,\"#fb9f3a\"],[0.8888888888888888,\"#fdca26\"],[1.0,\"#f0f921\"]],\"type\":\"histogram2dcontour\"}],\"histogram2d\":[{\"colorbar\":{\"outlinewidth\":0,\"ticks\":\"\"},\"colorscale\":[[0.0,\"#0d0887\"],[0.1111111111111111,\"#46039f\"],[0.2222222222222222,\"#7201a8\"],[0.3333333333333333,\"#9c179e\"],[0.4444444444444444,\"#bd3786\"],[0.5555555555555556,\"#d8576b\"],[0.6666666666666666,\"#ed7953\"],[0.7777777777777778,\"#fb9f3a\"],[0.8888888888888888,\"#fdca26\"],[1.0,\"#f0f921\"]],\"type\":\"histogram2d\"}],\"histogram\":[{\"marker\":{\"pattern\":{\"fillmode\":\"overlay\",\"size\":10,\"solidity\":0.2}},\"type\":\"histogram\"}],\"mesh3d\":[{\"colorbar\":{\"outlinewidth\":0,\"ticks\":\"\"},\"type\":\"mesh3d\"}],\"parcoords\":[{\"line\":{\"colorbar\":{\"outlinewidth\":0,\"ticks\":\"\"}},\"type\":\"parcoords\"}],\"pie\":[{\"automargin\":true,\"type\":\"pie\"}],\"scatter3d\":[{\"line\":{\"colorbar\":{\"outlinewidth\":0,\"ticks\":\"\"}},\"marker\":{\"colorbar\":{\"outlinewidth\":0,\"ticks\":\"\"}},\"type\":\"scatter3d\"}],\"scattercarpet\":[{\"marker\":{\"colorbar\":{\"outlinewidth\":0,\"ticks\":\"\"}},\"type\":\"scattercarpet\"}],\"scattergeo\":[{\"marker\":{\"colorbar\":{\"outlinewidth\":0,\"ticks\":\"\"}},\"type\":\"scattergeo\"}],\"scattergl\":[{\"marker\":{\"line\":{\"color\":\"#283442\"}},\"type\":\"scattergl\"}],\"scattermapbox\":[{\"marker\":{\"colorbar\":{\"outlinewidth\":0,\"ticks\":\"\"}},\"type\":\"scattermapbox\"}],\"scatterpolargl\":[{\"marker\":{\"colorbar\":{\"outlinewidth\":0,\"ticks\":\"\"}},\"type\":\"scatterpolargl\"}],\"scatterpolar\":[{\"marker\":{\"colorbar\":{\"outlinewidth\":0,\"ticks\":\"\"}},\"type\":\"scatterpolar\"}],\"scatter\":[{\"marker\":{\"line\":{\"color\":\"#283442\"}},\"type\":\"scatter\"}],\"scatterternary\":[{\"marker\":{\"colorbar\":{\"outlinewidth\":0,\"ticks\":\"\"}},\"type\":\"scatterternary\"}],\"surface\":[{\"colorbar\":{\"outlinewidth\":0,\"ticks\":\"\"},\"colorscale\":[[0.0,\"#0d0887\"],[0.1111111111111111,\"#46039f\"],[0.2222222222222222,\"#7201a8\"],[0.3333333333333333,\"#9c179e\"],[0.4444444444444444,\"#bd3786\"],[0.5555555555555556,\"#d8576b\"],[0.6666666666666666,\"#ed7953\"],[0.7777777777777778,\"#fb9f3a\"],[0.8888888888888888,\"#fdca26\"],[1.0,\"#f0f921\"]],\"type\":\"surface\"}],\"table\":[{\"cells\":{\"fill\":{\"color\":\"#506784\"},\"line\":{\"color\":\"rgb(17,17,17)\"}},\"header\":{\"fill\":{\"color\":\"#2a3f5f\"},\"line\":{\"color\":\"rgb(17,17,17)\"}},\"type\":\"table\"}]},\"layout\":{\"annotationdefaults\":{\"arrowcolor\":\"#f2f5fa\",\"arrowhead\":0,\"arrowwidth\":1},\"autotypenumbers\":\"strict\",\"coloraxis\":{\"colorbar\":{\"outlinewidth\":0,\"ticks\":\"\"}},\"colorscale\":{\"diverging\":[[0,\"#8e0152\"],[0.1,\"#c51b7d\"],[0.2,\"#de77ae\"],[0.3,\"#f1b6da\"],[0.4,\"#fde0ef\"],[0.5,\"#f7f7f7\"],[0.6,\"#e6f5d0\"],[0.7,\"#b8e186\"],[0.8,\"#7fbc41\"],[0.9,\"#4d9221\"],[1,\"#276419\"]],\"sequential\":[[0.0,\"#0d0887\"],[0.1111111111111111,\"#46039f\"],[0.2222222222222222,\"#7201a8\"],[0.3333333333333333,\"#9c179e\"],[0.4444444444444444,\"#bd3786\"],[0.5555555555555556,\"#d8576b\"],[0.6666666666666666,\"#ed7953\"],[0.7777777777777778,\"#fb9f3a\"],[0.8888888888888888,\"#fdca26\"],[1.0,\"#f0f921\"]],\"sequentialminus\":[[0.0,\"#0d0887\"],[0.1111111111111111,\"#46039f\"],[0.2222222222222222,\"#7201a8\"],[0.3333333333333333,\"#9c179e\"],[0.4444444444444444,\"#bd3786\"],[0.5555555555555556,\"#d8576b\"],[0.6666666666666666,\"#ed7953\"],[0.7777777777777778,\"#fb9f3a\"],[0.8888888888888888,\"#fdca26\"],[1.0,\"#f0f921\"]]},\"colorway\":[\"#636efa\",\"#EF553B\",\"#00cc96\",\"#ab63fa\",\"#FFA15A\",\"#19d3f3\",\"#FF6692\",\"#B6E880\",\"#FF97FF\",\"#FECB52\"],\"font\":{\"color\":\"#f2f5fa\"},\"geo\":{\"bgcolor\":\"rgb(17,17,17)\",\"lakecolor\":\"rgb(17,17,17)\",\"landcolor\":\"rgb(17,17,17)\",\"showlakes\":true,\"showland\":true,\"subunitcolor\":\"#506784\"},\"hoverlabel\":{\"align\":\"left\"},\"hovermode\":\"closest\",\"mapbox\":{\"style\":\"dark\"},\"paper_bgcolor\":\"rgb(17,17,17)\",\"plot_bgcolor\":\"rgb(17,17,17)\",\"polar\":{\"angularaxis\":{\"gridcolor\":\"#506784\",\"linecolor\":\"#506784\",\"ticks\":\"\"},\"bgcolor\":\"rgb(17,17,17)\",\"radialaxis\":{\"gridcolor\":\"#506784\",\"linecolor\":\"#506784\",\"ticks\":\"\"}},\"scene\":{\"xaxis\":{\"backgroundcolor\":\"rgb(17,17,17)\",\"gridcolor\":\"#506784\",\"gridwidth\":2,\"linecolor\":\"#506784\",\"showbackground\":true,\"ticks\":\"\",\"zerolinecolor\":\"#C8D4E3\"},\"yaxis\":{\"backgroundcolor\":\"rgb(17,17,17)\",\"gridcolor\":\"#506784\",\"gridwidth\":2,\"linecolor\":\"#506784\",\"showbackground\":true,\"ticks\":\"\",\"zerolinecolor\":\"#C8D4E3\"},\"zaxis\":{\"backgroundcolor\":\"rgb(17,17,17)\",\"gridcolor\":\"#506784\",\"gridwidth\":2,\"linecolor\":\"#506784\",\"showbackground\":true,\"ticks\":\"\",\"zerolinecolor\":\"#C8D4E3\"}},\"shapedefaults\":{\"line\":{\"color\":\"#f2f5fa\"}},\"sliderdefaults\":{\"bgcolor\":\"#C8D4E3\",\"bordercolor\":\"rgb(17,17,17)\",\"borderwidth\":1,\"tickwidth\":0},\"ternary\":{\"aaxis\":{\"gridcolor\":\"#506784\",\"linecolor\":\"#506784\",\"ticks\":\"\"},\"baxis\":{\"gridcolor\":\"#506784\",\"linecolor\":\"#506784\",\"ticks\":\"\"},\"bgcolor\":\"rgb(17,17,17)\",\"caxis\":{\"gridcolor\":\"#506784\",\"linecolor\":\"#506784\",\"ticks\":\"\"}},\"title\":{\"x\":0.05},\"updatemenudefaults\":{\"bgcolor\":\"#506784\",\"borderwidth\":0},\"xaxis\":{\"automargin\":true,\"gridcolor\":\"#283442\",\"linecolor\":\"#506784\",\"ticks\":\"\",\"title\":{\"standoff\":15},\"zerolinecolor\":\"#283442\",\"zerolinewidth\":2},\"yaxis\":{\"automargin\":true,\"gridcolor\":\"#283442\",\"linecolor\":\"#506784\",\"ticks\":\"\",\"title\":{\"standoff\":15},\"zerolinecolor\":\"#283442\",\"zerolinewidth\":2}}},\"xaxis\":{\"anchor\":\"y\",\"domain\":[0.0,1.0]},\"yaxis\":{\"anchor\":\"x\",\"domain\":[0.0,1.0],\"title\":{\"text\":\"Earnings/Share\"}},\"legend\":{\"tracegroupgap\":0},\"margin\":{\"t\":60},\"violinmode\":\"group\",\"width\":1000,\"height\":800},                        {\"responsive\": true}                    ).then(function(){\n",
       "                            \n",
       "var gd = document.getElementById('aeecfa79-09b2-4745-9250-96967d5b2a32');\n",
       "var x = new MutationObserver(function (mutations, observer) {{\n",
       "        var display = window.getComputedStyle(gd).display;\n",
       "        if (!display || display === 'none') {{\n",
       "            console.log([gd, 'removed!']);\n",
       "            Plotly.purge(gd);\n",
       "            observer.disconnect();\n",
       "        }}\n",
       "}});\n",
       "\n",
       "// Listen for the removal of the full notebook cells\n",
       "var notebookContainer = gd.closest('#notebook-container');\n",
       "if (notebookContainer) {{\n",
       "    x.observe(notebookContainer, {childList: true});\n",
       "}}\n",
       "\n",
       "// Listen for the clearing of the current output cell\n",
       "var outputEl = gd.closest('.output');\n",
       "if (outputEl) {{\n",
       "    x.observe(outputEl, {childList: true});\n",
       "}}\n",
       "\n",
       "                        })                };                });            </script>        </div>"
      ]
     },
     "metadata": {},
     "output_type": "display_data"
    }
   ],
   "source": [
    "fig = px.violin(SnP_500, y='Earnings/Share', color_discrete_sequence=['firebrick'])\n",
    "fig.update_layout(width=1000, height=800, template = \"plotly_dark\")\n",
    "fig.show()"
   ]
  },
  {
   "attachments": {},
   "cell_type": "markdown",
   "metadata": {},
   "source": [
    "Compared to box plots, violin plots offer additional insights into the shape and multimodality of the distribution. They provide a more comprehensive visualization of the data, allowing for a better understanding of its characteristics. However, box plots are more compact and straightforward, making them useful for quick comparisons between multiple groups or variables.\n",
    "\n",
    "Additionally, with a violin plot, we can plot scatter dots alongside to better visualize the concentration of data.\n"
   ]
  },
  {
   "attachments": {},
   "cell_type": "markdown",
   "metadata": {},
   "source": [
    "We can see that most of the companies in the index have earnings per share between 12 and -3, but the data is more concentrated around the range of 3 to 1. Additionally, the majority of companies have a positive earnings per share. "
   ]
  },
  {
   "cell_type": "code",
   "execution_count": 63,
   "metadata": {},
   "outputs": [
    {
     "data": {
      "application/vnd.plotly.v1+json": {
       "config": {
        "plotlyServerURL": "https://plot.ly"
       },
       "data": [
        {
         "alignmentgroup": "True",
         "box": {
          "visible": false
         },
         "hovertemplate": "Earnings/Share=%{y}<extra></extra>",
         "legendgroup": "",
         "marker": {
          "color": "firebrick"
         },
         "name": "",
         "offsetgroup": "",
         "orientation": "v",
         "points": "all",
         "scalegroup": "True",
         "showlegend": false,
         "type": "violin",
         "x0": " ",
         "xaxis": "x",
         "y": [
          7.92,
          1.7,
          0.26,
          3.29,
          5.44,
          1.28,
          7.43,
          3.39,
          6.19,
          0.03,
          -1.72,
          5.75,
          12.07,
          11.01,
          2.1,
          13.66,
          1.79,
          8.28,
          5.66,
          1.57,
          1.77,
          2.84,
          2.37,
          38.35,
          14.13,
          1.65,
          4.68,
          22.27,
          22.27,
          5.31,
          6.16,
          2.68,
          3.91,
          1.24,
          2.9,
          -0.76,
          1.97,
          2.63,
          9.44,
          1.64,
          2.94,
          2.57,
          2.05,
          -5.9,
          2.11,
          6.13,
          2.99,
          14.36,
          4.66,
          -3.72,
          1.95,
          9.2,
          3.17,
          5.05,
          2.17,
          -0.21,
          2.54,
          9.08,
          4.76,
          -2.61,
          3.85,
          44.09,
          6.36,
          3.11,
          -0.31,
          0.85,
          1.55,
          1.29,
          2.74,
          4.65,
          9.76,
          3.81,
          11.94,
          30.3,
          1.92,
          13.47,
          0.55,
          2.93,
          0.07,
          -24.62,
          2.65,
          4.01,
          1.7,
          3.57,
          1.85,
          -0.92,
          0.74,
          2.89,
          3.45,
          4.04,
          3.97,
          3.58,
          1.26,
          2.27,
          1.69,
          2.81,
          3.58,
          3.23,
          1,
          1.16,
          1.84,
          -1.2,
          1.61,
          34.08,
          -6.44,
          4.85,
          0.8,
          8.2,
          2.92,
          7.2,
          -4.64,
          3.55,
          4.38,
          1.91,
          -3.1,
          3.27,
          -0.24,
          11.94,
          1.99,
          1.49,
          2.54,
          2.28,
          4.74,
          4.13,
          1.46,
          -11.04,
          -0.65,
          4.1,
          8.71,
          -0.78,
          6.09,
          -0.63,
          1.02,
          1.83,
          6.07,
          8.23,
          4.91,
          2.73,
          3.53,
          3.81,
          4.3,
          6.64,
          4.94,
          1.99,
          -6.89,
          2.19,
          5.41,
          1.96,
          1.96,
          3.06,
          4.43,
          3.77,
          4.91,
          5.15,
          1.59,
          4.54,
          4.82,
          3.12,
          0.88,
          -0.89,
          2.15,
          10.12,
          6.68,
          -1.07,
          4.14,
          3.96,
          2.88,
          3.07,
          2.35,
          -3.26,
          -0.48,
          -1.98,
          -2.69,
          4.04,
          1.77,
          1.63,
          6.27,
          3.35,
          23.71,
          2.96,
          1.23,
          1.81,
          2.36,
          5.39,
          2.92,
          1.88,
          6.51,
          5.39,
          2.01,
          3.5,
          11.07,
          1.72,
          2.85,
          -14.49,
          4.14,
          1.21,
          1.12,
          1.99,
          1.56,
          4.91,
          1.9,
          2.46,
          3.04,
          3,
          1.24,
          1.69,
          2.69,
          2.31,
          9.55,
          -0.72,
          1.34,
          2.77,
          6,
          4.6,
          9.95,
          1.58,
          8.61,
          4.74,
          10.02,
          -0.53,
          1.41,
          2.98,
          4.43,
          2.27,
          4.34,
          5.94,
          1.33,
          -1.2,
          3.1,
          -19.94,
          0.21,
          1.05,
          2.64,
          6.46,
          2.08,
          1.57,
          1.02,
          1.49,
          4.06,
          1,
          12.15,
          2.94,
          1,
          4.86,
          4.92,
          0.54,
          5.07,
          1.98,
          2.37,
          6.11,
          5.14,
          1.49,
          5.05,
          3.72,
          5.67,
          2.74,
          0.76,
          0.46,
          6.19,
          2.43,
          5.1,
          0.39,
          1.71,
          6.3,
          0.78,
          9.16,
          1.95,
          1.12,
          6.41,
          0.8,
          0.01,
          5.88,
          3.12,
          2.81,
          2.05,
          3.98,
          8.51,
          7.02,
          9.22,
          2.76,
          3.38,
          0.33,
          -0.2,
          9.24,
          1.5,
          6.83,
          1.93,
          3.46,
          12.25,
          8.69,
          3.43,
          1.98,
          -2.65,
          6.85,
          2.67,
          2.87,
          6.63,
          1.47,
          3.65,
          -3.06,
          3.73,
          6.36,
          22.74,
          2.89,
          1.4,
          0.63,
          14.24,
          1.92,
          3.31,
          0.66,
          4.36,
          2.97,
          2.86,
          12.48,
          9.27,
          1.91,
          5.09,
          1.19,
          1.35,
          3.09,
          -1.08,
          0.93,
          4.32,
          -6.4,
          1.01,
          1.81,
          1.25,
          1.17,
          -6.5,
          -1.18,
          -1.28,
          -1.28,
          11.39,
          1.39,
          2.51,
          1.02,
          -2.32,
          2.02,
          18.73,
          4.92,
          11.47,
          2.78,
          -2.23,
          4.1,
          2.57,
          10.73,
          -0.75,
          4.79,
          1.66,
          2.2,
          4.75,
          7.07,
          7.24,
          1.79,
          2.26,
          1.47,
          3.63,
          0.97,
          4.36,
          2.64,
          -28.01,
          3.51,
          2.78,
          4.48,
          9.93,
          3.95,
          -3.39,
          10.4,
          -1.19,
          6.31,
          2.79,
          4.32,
          42.66,
          4.5,
          5.6,
          2.73,
          3.06,
          9.73,
          1.75,
          6.81,
          1.44,
          6.77,
          -0.13,
          1.65,
          1.28,
          5.5,
          -2.79,
          4.12,
          6.95,
          1.12,
          1.68,
          1.43,
          7.74,
          1,
          1.77,
          2.41,
          2.32,
          6.35,
          4.8,
          9.38,
          2.83,
          7.53,
          7.95,
          0.27,
          0.62,
          4.16,
          -1.08,
          5.18,
          2.58,
          2.46,
          5.45,
          18.61,
          7.03,
          6.25,
          5.41,
          0.88,
          9.2,
          2.53,
          5.82,
          8.05,
          1.97,
          5.23,
          2.08,
          2.68,
          4.48,
          -0.17,
          2.41,
          0.87,
          2.08,
          4.75,
          2.09,
          4.71,
          4.71,
          0,
          3.6,
          1.14,
          3.73,
          5.33,
          7.52,
          3.66,
          0.85,
          7.31,
          5.7,
          5.6,
          3.55,
          6.62,
          3.46,
          4.5,
          3.16,
          3.3,
          7.92,
          0.81,
          1.59,
          1.59,
          4.79,
          3.52,
          1.08,
          6.52,
          0.45,
          0.45,
          13.52,
          7.05,
          10.71,
          5.62,
          15.72,
          5.7,
          7.14,
          4.38,
          2.55,
          9.24,
          2.69,
          1.86,
          3.43,
          3.45,
          7.36,
          1.04,
          4.68,
          2.8,
          4.33,
          3.1,
          4.39,
          3.78,
          2.66,
          0.19,
          3.79,
          4.07,
          2.81,
          1.29,
          0.51,
          2.77,
          0.77,
          4.51,
          -0.57,
          3.07,
          5.53,
          7.27,
          2.21,
          0.59,
          2.32,
          -2.24,
          1.83,
          4.07,
          9.01,
          2.6,
          1.65
         ],
         "y0": " ",
         "yaxis": "y"
        }
       ],
       "layout": {
        "height": 800,
        "legend": {
         "tracegroupgap": 0
        },
        "margin": {
         "t": 60
        },
        "template": {
         "data": {
          "bar": [
           {
            "error_x": {
             "color": "#f2f5fa"
            },
            "error_y": {
             "color": "#f2f5fa"
            },
            "marker": {
             "line": {
              "color": "rgb(17,17,17)",
              "width": 0.5
             },
             "pattern": {
              "fillmode": "overlay",
              "size": 10,
              "solidity": 0.2
             }
            },
            "type": "bar"
           }
          ],
          "barpolar": [
           {
            "marker": {
             "line": {
              "color": "rgb(17,17,17)",
              "width": 0.5
             },
             "pattern": {
              "fillmode": "overlay",
              "size": 10,
              "solidity": 0.2
             }
            },
            "type": "barpolar"
           }
          ],
          "carpet": [
           {
            "aaxis": {
             "endlinecolor": "#A2B1C6",
             "gridcolor": "#506784",
             "linecolor": "#506784",
             "minorgridcolor": "#506784",
             "startlinecolor": "#A2B1C6"
            },
            "baxis": {
             "endlinecolor": "#A2B1C6",
             "gridcolor": "#506784",
             "linecolor": "#506784",
             "minorgridcolor": "#506784",
             "startlinecolor": "#A2B1C6"
            },
            "type": "carpet"
           }
          ],
          "choropleth": [
           {
            "colorbar": {
             "outlinewidth": 0,
             "ticks": ""
            },
            "type": "choropleth"
           }
          ],
          "contour": [
           {
            "colorbar": {
             "outlinewidth": 0,
             "ticks": ""
            },
            "colorscale": [
             [
              0,
              "#0d0887"
             ],
             [
              0.1111111111111111,
              "#46039f"
             ],
             [
              0.2222222222222222,
              "#7201a8"
             ],
             [
              0.3333333333333333,
              "#9c179e"
             ],
             [
              0.4444444444444444,
              "#bd3786"
             ],
             [
              0.5555555555555556,
              "#d8576b"
             ],
             [
              0.6666666666666666,
              "#ed7953"
             ],
             [
              0.7777777777777778,
              "#fb9f3a"
             ],
             [
              0.8888888888888888,
              "#fdca26"
             ],
             [
              1,
              "#f0f921"
             ]
            ],
            "type": "contour"
           }
          ],
          "contourcarpet": [
           {
            "colorbar": {
             "outlinewidth": 0,
             "ticks": ""
            },
            "type": "contourcarpet"
           }
          ],
          "heatmap": [
           {
            "colorbar": {
             "outlinewidth": 0,
             "ticks": ""
            },
            "colorscale": [
             [
              0,
              "#0d0887"
             ],
             [
              0.1111111111111111,
              "#46039f"
             ],
             [
              0.2222222222222222,
              "#7201a8"
             ],
             [
              0.3333333333333333,
              "#9c179e"
             ],
             [
              0.4444444444444444,
              "#bd3786"
             ],
             [
              0.5555555555555556,
              "#d8576b"
             ],
             [
              0.6666666666666666,
              "#ed7953"
             ],
             [
              0.7777777777777778,
              "#fb9f3a"
             ],
             [
              0.8888888888888888,
              "#fdca26"
             ],
             [
              1,
              "#f0f921"
             ]
            ],
            "type": "heatmap"
           }
          ],
          "heatmapgl": [
           {
            "colorbar": {
             "outlinewidth": 0,
             "ticks": ""
            },
            "colorscale": [
             [
              0,
              "#0d0887"
             ],
             [
              0.1111111111111111,
              "#46039f"
             ],
             [
              0.2222222222222222,
              "#7201a8"
             ],
             [
              0.3333333333333333,
              "#9c179e"
             ],
             [
              0.4444444444444444,
              "#bd3786"
             ],
             [
              0.5555555555555556,
              "#d8576b"
             ],
             [
              0.6666666666666666,
              "#ed7953"
             ],
             [
              0.7777777777777778,
              "#fb9f3a"
             ],
             [
              0.8888888888888888,
              "#fdca26"
             ],
             [
              1,
              "#f0f921"
             ]
            ],
            "type": "heatmapgl"
           }
          ],
          "histogram": [
           {
            "marker": {
             "pattern": {
              "fillmode": "overlay",
              "size": 10,
              "solidity": 0.2
             }
            },
            "type": "histogram"
           }
          ],
          "histogram2d": [
           {
            "colorbar": {
             "outlinewidth": 0,
             "ticks": ""
            },
            "colorscale": [
             [
              0,
              "#0d0887"
             ],
             [
              0.1111111111111111,
              "#46039f"
             ],
             [
              0.2222222222222222,
              "#7201a8"
             ],
             [
              0.3333333333333333,
              "#9c179e"
             ],
             [
              0.4444444444444444,
              "#bd3786"
             ],
             [
              0.5555555555555556,
              "#d8576b"
             ],
             [
              0.6666666666666666,
              "#ed7953"
             ],
             [
              0.7777777777777778,
              "#fb9f3a"
             ],
             [
              0.8888888888888888,
              "#fdca26"
             ],
             [
              1,
              "#f0f921"
             ]
            ],
            "type": "histogram2d"
           }
          ],
          "histogram2dcontour": [
           {
            "colorbar": {
             "outlinewidth": 0,
             "ticks": ""
            },
            "colorscale": [
             [
              0,
              "#0d0887"
             ],
             [
              0.1111111111111111,
              "#46039f"
             ],
             [
              0.2222222222222222,
              "#7201a8"
             ],
             [
              0.3333333333333333,
              "#9c179e"
             ],
             [
              0.4444444444444444,
              "#bd3786"
             ],
             [
              0.5555555555555556,
              "#d8576b"
             ],
             [
              0.6666666666666666,
              "#ed7953"
             ],
             [
              0.7777777777777778,
              "#fb9f3a"
             ],
             [
              0.8888888888888888,
              "#fdca26"
             ],
             [
              1,
              "#f0f921"
             ]
            ],
            "type": "histogram2dcontour"
           }
          ],
          "mesh3d": [
           {
            "colorbar": {
             "outlinewidth": 0,
             "ticks": ""
            },
            "type": "mesh3d"
           }
          ],
          "parcoords": [
           {
            "line": {
             "colorbar": {
              "outlinewidth": 0,
              "ticks": ""
             }
            },
            "type": "parcoords"
           }
          ],
          "pie": [
           {
            "automargin": true,
            "type": "pie"
           }
          ],
          "scatter": [
           {
            "marker": {
             "line": {
              "color": "#283442"
             }
            },
            "type": "scatter"
           }
          ],
          "scatter3d": [
           {
            "line": {
             "colorbar": {
              "outlinewidth": 0,
              "ticks": ""
             }
            },
            "marker": {
             "colorbar": {
              "outlinewidth": 0,
              "ticks": ""
             }
            },
            "type": "scatter3d"
           }
          ],
          "scattercarpet": [
           {
            "marker": {
             "colorbar": {
              "outlinewidth": 0,
              "ticks": ""
             }
            },
            "type": "scattercarpet"
           }
          ],
          "scattergeo": [
           {
            "marker": {
             "colorbar": {
              "outlinewidth": 0,
              "ticks": ""
             }
            },
            "type": "scattergeo"
           }
          ],
          "scattergl": [
           {
            "marker": {
             "line": {
              "color": "#283442"
             }
            },
            "type": "scattergl"
           }
          ],
          "scattermapbox": [
           {
            "marker": {
             "colorbar": {
              "outlinewidth": 0,
              "ticks": ""
             }
            },
            "type": "scattermapbox"
           }
          ],
          "scatterpolar": [
           {
            "marker": {
             "colorbar": {
              "outlinewidth": 0,
              "ticks": ""
             }
            },
            "type": "scatterpolar"
           }
          ],
          "scatterpolargl": [
           {
            "marker": {
             "colorbar": {
              "outlinewidth": 0,
              "ticks": ""
             }
            },
            "type": "scatterpolargl"
           }
          ],
          "scatterternary": [
           {
            "marker": {
             "colorbar": {
              "outlinewidth": 0,
              "ticks": ""
             }
            },
            "type": "scatterternary"
           }
          ],
          "surface": [
           {
            "colorbar": {
             "outlinewidth": 0,
             "ticks": ""
            },
            "colorscale": [
             [
              0,
              "#0d0887"
             ],
             [
              0.1111111111111111,
              "#46039f"
             ],
             [
              0.2222222222222222,
              "#7201a8"
             ],
             [
              0.3333333333333333,
              "#9c179e"
             ],
             [
              0.4444444444444444,
              "#bd3786"
             ],
             [
              0.5555555555555556,
              "#d8576b"
             ],
             [
              0.6666666666666666,
              "#ed7953"
             ],
             [
              0.7777777777777778,
              "#fb9f3a"
             ],
             [
              0.8888888888888888,
              "#fdca26"
             ],
             [
              1,
              "#f0f921"
             ]
            ],
            "type": "surface"
           }
          ],
          "table": [
           {
            "cells": {
             "fill": {
              "color": "#506784"
             },
             "line": {
              "color": "rgb(17,17,17)"
             }
            },
            "header": {
             "fill": {
              "color": "#2a3f5f"
             },
             "line": {
              "color": "rgb(17,17,17)"
             }
            },
            "type": "table"
           }
          ]
         },
         "layout": {
          "annotationdefaults": {
           "arrowcolor": "#f2f5fa",
           "arrowhead": 0,
           "arrowwidth": 1
          },
          "autotypenumbers": "strict",
          "coloraxis": {
           "colorbar": {
            "outlinewidth": 0,
            "ticks": ""
           }
          },
          "colorscale": {
           "diverging": [
            [
             0,
             "#8e0152"
            ],
            [
             0.1,
             "#c51b7d"
            ],
            [
             0.2,
             "#de77ae"
            ],
            [
             0.3,
             "#f1b6da"
            ],
            [
             0.4,
             "#fde0ef"
            ],
            [
             0.5,
             "#f7f7f7"
            ],
            [
             0.6,
             "#e6f5d0"
            ],
            [
             0.7,
             "#b8e186"
            ],
            [
             0.8,
             "#7fbc41"
            ],
            [
             0.9,
             "#4d9221"
            ],
            [
             1,
             "#276419"
            ]
           ],
           "sequential": [
            [
             0,
             "#0d0887"
            ],
            [
             0.1111111111111111,
             "#46039f"
            ],
            [
             0.2222222222222222,
             "#7201a8"
            ],
            [
             0.3333333333333333,
             "#9c179e"
            ],
            [
             0.4444444444444444,
             "#bd3786"
            ],
            [
             0.5555555555555556,
             "#d8576b"
            ],
            [
             0.6666666666666666,
             "#ed7953"
            ],
            [
             0.7777777777777778,
             "#fb9f3a"
            ],
            [
             0.8888888888888888,
             "#fdca26"
            ],
            [
             1,
             "#f0f921"
            ]
           ],
           "sequentialminus": [
            [
             0,
             "#0d0887"
            ],
            [
             0.1111111111111111,
             "#46039f"
            ],
            [
             0.2222222222222222,
             "#7201a8"
            ],
            [
             0.3333333333333333,
             "#9c179e"
            ],
            [
             0.4444444444444444,
             "#bd3786"
            ],
            [
             0.5555555555555556,
             "#d8576b"
            ],
            [
             0.6666666666666666,
             "#ed7953"
            ],
            [
             0.7777777777777778,
             "#fb9f3a"
            ],
            [
             0.8888888888888888,
             "#fdca26"
            ],
            [
             1,
             "#f0f921"
            ]
           ]
          },
          "colorway": [
           "#636efa",
           "#EF553B",
           "#00cc96",
           "#ab63fa",
           "#FFA15A",
           "#19d3f3",
           "#FF6692",
           "#B6E880",
           "#FF97FF",
           "#FECB52"
          ],
          "font": {
           "color": "#f2f5fa"
          },
          "geo": {
           "bgcolor": "rgb(17,17,17)",
           "lakecolor": "rgb(17,17,17)",
           "landcolor": "rgb(17,17,17)",
           "showlakes": true,
           "showland": true,
           "subunitcolor": "#506784"
          },
          "hoverlabel": {
           "align": "left"
          },
          "hovermode": "closest",
          "mapbox": {
           "style": "dark"
          },
          "paper_bgcolor": "rgb(17,17,17)",
          "plot_bgcolor": "rgb(17,17,17)",
          "polar": {
           "angularaxis": {
            "gridcolor": "#506784",
            "linecolor": "#506784",
            "ticks": ""
           },
           "bgcolor": "rgb(17,17,17)",
           "radialaxis": {
            "gridcolor": "#506784",
            "linecolor": "#506784",
            "ticks": ""
           }
          },
          "scene": {
           "xaxis": {
            "backgroundcolor": "rgb(17,17,17)",
            "gridcolor": "#506784",
            "gridwidth": 2,
            "linecolor": "#506784",
            "showbackground": true,
            "ticks": "",
            "zerolinecolor": "#C8D4E3"
           },
           "yaxis": {
            "backgroundcolor": "rgb(17,17,17)",
            "gridcolor": "#506784",
            "gridwidth": 2,
            "linecolor": "#506784",
            "showbackground": true,
            "ticks": "",
            "zerolinecolor": "#C8D4E3"
           },
           "zaxis": {
            "backgroundcolor": "rgb(17,17,17)",
            "gridcolor": "#506784",
            "gridwidth": 2,
            "linecolor": "#506784",
            "showbackground": true,
            "ticks": "",
            "zerolinecolor": "#C8D4E3"
           }
          },
          "shapedefaults": {
           "line": {
            "color": "#f2f5fa"
           }
          },
          "sliderdefaults": {
           "bgcolor": "#C8D4E3",
           "bordercolor": "rgb(17,17,17)",
           "borderwidth": 1,
           "tickwidth": 0
          },
          "ternary": {
           "aaxis": {
            "gridcolor": "#506784",
            "linecolor": "#506784",
            "ticks": ""
           },
           "baxis": {
            "gridcolor": "#506784",
            "linecolor": "#506784",
            "ticks": ""
           },
           "bgcolor": "rgb(17,17,17)",
           "caxis": {
            "gridcolor": "#506784",
            "linecolor": "#506784",
            "ticks": ""
           }
          },
          "title": {
           "x": 0.05
          },
          "updatemenudefaults": {
           "bgcolor": "#506784",
           "borderwidth": 0
          },
          "xaxis": {
           "automargin": true,
           "gridcolor": "#283442",
           "linecolor": "#506784",
           "ticks": "",
           "title": {
            "standoff": 15
           },
           "zerolinecolor": "#283442",
           "zerolinewidth": 2
          },
          "yaxis": {
           "automargin": true,
           "gridcolor": "#283442",
           "linecolor": "#506784",
           "ticks": "",
           "title": {
            "standoff": 15
           },
           "zerolinecolor": "#283442",
           "zerolinewidth": 2
          }
         }
        },
        "violinmode": "group",
        "width": 1000,
        "xaxis": {
         "anchor": "y",
         "domain": [
          0,
          1
         ]
        },
        "yaxis": {
         "anchor": "x",
         "domain": [
          0,
          1
         ],
         "title": {
          "text": "Earnings/Share"
         }
        }
       }
      },
      "text/html": [
       "<div>                            <div id=\"bdc0f271-b521-4362-a50f-5604572e855e\" class=\"plotly-graph-div\" style=\"height:800px; width:1000px;\"></div>            <script type=\"text/javascript\">                require([\"plotly\"], function(Plotly) {                    window.PLOTLYENV=window.PLOTLYENV || {};                                    if (document.getElementById(\"bdc0f271-b521-4362-a50f-5604572e855e\")) {                    Plotly.newPlot(                        \"bdc0f271-b521-4362-a50f-5604572e855e\",                        [{\"alignmentgroup\":\"True\",\"box\":{\"visible\":false},\"hovertemplate\":\"Earnings/Share=%{y}<extra></extra>\",\"legendgroup\":\"\",\"marker\":{\"color\":\"firebrick\"},\"name\":\"\",\"offsetgroup\":\"\",\"orientation\":\"v\",\"points\":\"all\",\"scalegroup\":\"True\",\"showlegend\":false,\"x0\":\" \",\"xaxis\":\"x\",\"y\":[7.92,1.7,0.26,3.29,5.44,1.28,7.43,3.39,6.19,0.03,-1.72,5.75,12.07,11.01,2.1,13.66,1.79,8.28,5.66,1.57,1.77,2.84,2.37,38.35,14.13,1.65,4.68,22.27,22.27,5.31,6.16,2.68,3.91,1.24,2.9,-0.76,1.97,2.63,9.44,1.64,2.94,2.57,2.05,-5.9,2.11,6.13,2.99,14.36,4.66,-3.72,1.95,9.2,3.17,5.05,2.17,-0.21,2.54,9.08,4.76,-2.61,3.85,44.09,6.36,3.11,-0.31,0.85,1.55,1.29,2.74,4.65,9.76,3.81,11.94,30.3,1.92,13.47,0.55,2.93,0.07,-24.62,2.65,4.01,1.7,3.57,1.85,-0.92,0.74,2.89,3.45,4.04,3.97,3.58,1.26,2.27,1.69,2.81,3.58,3.23,1.0,1.16,1.84,-1.2,1.61,34.08,-6.44,4.85,0.8,8.2,2.92,7.2,-4.64,3.55,4.38,1.91,-3.1,3.27,-0.24,11.94,1.99,1.49,2.54,2.28,4.74,4.13,1.46,-11.04,-0.65,4.1,8.71,-0.78,6.09,-0.63,1.02,1.83,6.07,8.23,4.91,2.73,3.53,3.81,4.3,6.64,4.94,1.99,-6.89,2.19,5.41,1.96,1.96,3.06,4.43,3.77,4.91,5.15,1.59,4.54,4.82,3.12,0.88,-0.89,2.15,10.12,6.68,-1.07,4.14,3.96,2.88,3.07,2.35,-3.26,-0.48,-1.98,-2.69,4.04,1.77,1.63,6.27,3.35,23.71,2.96,1.23,1.81,2.36,5.39,2.92,1.88,6.51,5.39,2.01,3.5,11.07,1.72,2.85,-14.49,4.14,1.21,1.12,1.99,1.56,4.91,1.9,2.46,3.04,3.0,1.24,1.69,2.69,2.31,9.55,-0.72,1.34,2.77,6.0,4.6,9.95,1.58,8.61,4.74,10.02,-0.53,1.41,2.98,4.43,2.27,4.34,5.94,1.33,-1.2,3.1,-19.94,0.21,1.05,2.64,6.46,2.08,1.57,1.02,1.49,4.06,1.0,12.15,2.94,1.0,4.86,4.92,0.54,5.07,1.98,2.37,6.11,5.14,1.49,5.05,3.72,5.67,2.74,0.76,0.46,6.19,2.43,5.1,0.39,1.71,6.3,0.78,9.16,1.95,1.12,6.41,0.8,0.01,5.88,3.12,2.81,2.05,3.98,8.51,7.02,9.22,2.76,3.38,0.33,-0.2,9.24,1.5,6.83,1.93,3.46,12.25,8.69,3.43,1.98,-2.65,6.85,2.67,2.87,6.63,1.47,3.65,-3.06,3.73,6.36,22.74,2.89,1.4,0.63,14.24,1.92,3.31,0.66,4.36,2.97,2.86,12.48,9.27,1.91,5.09,1.19,1.35,3.09,-1.08,0.93,4.32,-6.4,1.01,1.81,1.25,1.17,-6.5,-1.18,-1.28,-1.28,11.39,1.39,2.51,1.02,-2.32,2.02,18.73,4.92,11.47,2.78,-2.23,4.1,2.57,10.73,-0.75,4.79,1.66,2.2,4.75,7.07,7.24,1.79,2.26,1.47,3.63,0.97,4.36,2.64,-28.01,3.51,2.78,4.48,9.93,3.95,-3.39,10.4,-1.19,6.31,2.79,4.32,42.66,4.5,5.6,2.73,3.06,9.73,1.75,6.81,1.44,6.77,-0.13,1.65,1.28,5.5,-2.79,4.12,6.95,1.12,1.68,1.43,7.74,1.0,1.77,2.41,2.32,6.35,4.8,9.38,2.83,7.53,7.95,0.27,0.62,4.16,-1.08,5.18,2.58,2.46,5.45,18.61,7.03,6.25,5.41,0.88,9.2,2.53,5.82,8.05,1.97,5.23,2.08,2.68,4.48,-0.17,2.41,0.87,2.08,4.75,2.09,4.71,4.71,0.0,3.6,1.14,3.73,5.33,7.52,3.66,0.85,7.31,5.7,5.6,3.55,6.62,3.46,4.5,3.16,3.3,7.92,0.81,1.59,1.59,4.79,3.52,1.08,6.52,0.45,0.45,13.52,7.05,10.71,5.62,15.72,5.7,7.14,4.38,2.55,9.24,2.69,1.86,3.43,3.45,7.36,1.04,4.68,2.8,4.33,3.1,4.39,3.78,2.66,0.19,3.79,4.07,2.81,1.29,0.51,2.77,0.77,4.51,-0.57,3.07,5.53,7.27,2.21,0.59,2.32,-2.24,1.83,4.07,9.01,2.6,1.65],\"y0\":\" \",\"yaxis\":\"y\",\"type\":\"violin\"}],                        {\"template\":{\"data\":{\"barpolar\":[{\"marker\":{\"line\":{\"color\":\"rgb(17,17,17)\",\"width\":0.5},\"pattern\":{\"fillmode\":\"overlay\",\"size\":10,\"solidity\":0.2}},\"type\":\"barpolar\"}],\"bar\":[{\"error_x\":{\"color\":\"#f2f5fa\"},\"error_y\":{\"color\":\"#f2f5fa\"},\"marker\":{\"line\":{\"color\":\"rgb(17,17,17)\",\"width\":0.5},\"pattern\":{\"fillmode\":\"overlay\",\"size\":10,\"solidity\":0.2}},\"type\":\"bar\"}],\"carpet\":[{\"aaxis\":{\"endlinecolor\":\"#A2B1C6\",\"gridcolor\":\"#506784\",\"linecolor\":\"#506784\",\"minorgridcolor\":\"#506784\",\"startlinecolor\":\"#A2B1C6\"},\"baxis\":{\"endlinecolor\":\"#A2B1C6\",\"gridcolor\":\"#506784\",\"linecolor\":\"#506784\",\"minorgridcolor\":\"#506784\",\"startlinecolor\":\"#A2B1C6\"},\"type\":\"carpet\"}],\"choropleth\":[{\"colorbar\":{\"outlinewidth\":0,\"ticks\":\"\"},\"type\":\"choropleth\"}],\"contourcarpet\":[{\"colorbar\":{\"outlinewidth\":0,\"ticks\":\"\"},\"type\":\"contourcarpet\"}],\"contour\":[{\"colorbar\":{\"outlinewidth\":0,\"ticks\":\"\"},\"colorscale\":[[0.0,\"#0d0887\"],[0.1111111111111111,\"#46039f\"],[0.2222222222222222,\"#7201a8\"],[0.3333333333333333,\"#9c179e\"],[0.4444444444444444,\"#bd3786\"],[0.5555555555555556,\"#d8576b\"],[0.6666666666666666,\"#ed7953\"],[0.7777777777777778,\"#fb9f3a\"],[0.8888888888888888,\"#fdca26\"],[1.0,\"#f0f921\"]],\"type\":\"contour\"}],\"heatmapgl\":[{\"colorbar\":{\"outlinewidth\":0,\"ticks\":\"\"},\"colorscale\":[[0.0,\"#0d0887\"],[0.1111111111111111,\"#46039f\"],[0.2222222222222222,\"#7201a8\"],[0.3333333333333333,\"#9c179e\"],[0.4444444444444444,\"#bd3786\"],[0.5555555555555556,\"#d8576b\"],[0.6666666666666666,\"#ed7953\"],[0.7777777777777778,\"#fb9f3a\"],[0.8888888888888888,\"#fdca26\"],[1.0,\"#f0f921\"]],\"type\":\"heatmapgl\"}],\"heatmap\":[{\"colorbar\":{\"outlinewidth\":0,\"ticks\":\"\"},\"colorscale\":[[0.0,\"#0d0887\"],[0.1111111111111111,\"#46039f\"],[0.2222222222222222,\"#7201a8\"],[0.3333333333333333,\"#9c179e\"],[0.4444444444444444,\"#bd3786\"],[0.5555555555555556,\"#d8576b\"],[0.6666666666666666,\"#ed7953\"],[0.7777777777777778,\"#fb9f3a\"],[0.8888888888888888,\"#fdca26\"],[1.0,\"#f0f921\"]],\"type\":\"heatmap\"}],\"histogram2dcontour\":[{\"colorbar\":{\"outlinewidth\":0,\"ticks\":\"\"},\"colorscale\":[[0.0,\"#0d0887\"],[0.1111111111111111,\"#46039f\"],[0.2222222222222222,\"#7201a8\"],[0.3333333333333333,\"#9c179e\"],[0.4444444444444444,\"#bd3786\"],[0.5555555555555556,\"#d8576b\"],[0.6666666666666666,\"#ed7953\"],[0.7777777777777778,\"#fb9f3a\"],[0.8888888888888888,\"#fdca26\"],[1.0,\"#f0f921\"]],\"type\":\"histogram2dcontour\"}],\"histogram2d\":[{\"colorbar\":{\"outlinewidth\":0,\"ticks\":\"\"},\"colorscale\":[[0.0,\"#0d0887\"],[0.1111111111111111,\"#46039f\"],[0.2222222222222222,\"#7201a8\"],[0.3333333333333333,\"#9c179e\"],[0.4444444444444444,\"#bd3786\"],[0.5555555555555556,\"#d8576b\"],[0.6666666666666666,\"#ed7953\"],[0.7777777777777778,\"#fb9f3a\"],[0.8888888888888888,\"#fdca26\"],[1.0,\"#f0f921\"]],\"type\":\"histogram2d\"}],\"histogram\":[{\"marker\":{\"pattern\":{\"fillmode\":\"overlay\",\"size\":10,\"solidity\":0.2}},\"type\":\"histogram\"}],\"mesh3d\":[{\"colorbar\":{\"outlinewidth\":0,\"ticks\":\"\"},\"type\":\"mesh3d\"}],\"parcoords\":[{\"line\":{\"colorbar\":{\"outlinewidth\":0,\"ticks\":\"\"}},\"type\":\"parcoords\"}],\"pie\":[{\"automargin\":true,\"type\":\"pie\"}],\"scatter3d\":[{\"line\":{\"colorbar\":{\"outlinewidth\":0,\"ticks\":\"\"}},\"marker\":{\"colorbar\":{\"outlinewidth\":0,\"ticks\":\"\"}},\"type\":\"scatter3d\"}],\"scattercarpet\":[{\"marker\":{\"colorbar\":{\"outlinewidth\":0,\"ticks\":\"\"}},\"type\":\"scattercarpet\"}],\"scattergeo\":[{\"marker\":{\"colorbar\":{\"outlinewidth\":0,\"ticks\":\"\"}},\"type\":\"scattergeo\"}],\"scattergl\":[{\"marker\":{\"line\":{\"color\":\"#283442\"}},\"type\":\"scattergl\"}],\"scattermapbox\":[{\"marker\":{\"colorbar\":{\"outlinewidth\":0,\"ticks\":\"\"}},\"type\":\"scattermapbox\"}],\"scatterpolargl\":[{\"marker\":{\"colorbar\":{\"outlinewidth\":0,\"ticks\":\"\"}},\"type\":\"scatterpolargl\"}],\"scatterpolar\":[{\"marker\":{\"colorbar\":{\"outlinewidth\":0,\"ticks\":\"\"}},\"type\":\"scatterpolar\"}],\"scatter\":[{\"marker\":{\"line\":{\"color\":\"#283442\"}},\"type\":\"scatter\"}],\"scatterternary\":[{\"marker\":{\"colorbar\":{\"outlinewidth\":0,\"ticks\":\"\"}},\"type\":\"scatterternary\"}],\"surface\":[{\"colorbar\":{\"outlinewidth\":0,\"ticks\":\"\"},\"colorscale\":[[0.0,\"#0d0887\"],[0.1111111111111111,\"#46039f\"],[0.2222222222222222,\"#7201a8\"],[0.3333333333333333,\"#9c179e\"],[0.4444444444444444,\"#bd3786\"],[0.5555555555555556,\"#d8576b\"],[0.6666666666666666,\"#ed7953\"],[0.7777777777777778,\"#fb9f3a\"],[0.8888888888888888,\"#fdca26\"],[1.0,\"#f0f921\"]],\"type\":\"surface\"}],\"table\":[{\"cells\":{\"fill\":{\"color\":\"#506784\"},\"line\":{\"color\":\"rgb(17,17,17)\"}},\"header\":{\"fill\":{\"color\":\"#2a3f5f\"},\"line\":{\"color\":\"rgb(17,17,17)\"}},\"type\":\"table\"}]},\"layout\":{\"annotationdefaults\":{\"arrowcolor\":\"#f2f5fa\",\"arrowhead\":0,\"arrowwidth\":1},\"autotypenumbers\":\"strict\",\"coloraxis\":{\"colorbar\":{\"outlinewidth\":0,\"ticks\":\"\"}},\"colorscale\":{\"diverging\":[[0,\"#8e0152\"],[0.1,\"#c51b7d\"],[0.2,\"#de77ae\"],[0.3,\"#f1b6da\"],[0.4,\"#fde0ef\"],[0.5,\"#f7f7f7\"],[0.6,\"#e6f5d0\"],[0.7,\"#b8e186\"],[0.8,\"#7fbc41\"],[0.9,\"#4d9221\"],[1,\"#276419\"]],\"sequential\":[[0.0,\"#0d0887\"],[0.1111111111111111,\"#46039f\"],[0.2222222222222222,\"#7201a8\"],[0.3333333333333333,\"#9c179e\"],[0.4444444444444444,\"#bd3786\"],[0.5555555555555556,\"#d8576b\"],[0.6666666666666666,\"#ed7953\"],[0.7777777777777778,\"#fb9f3a\"],[0.8888888888888888,\"#fdca26\"],[1.0,\"#f0f921\"]],\"sequentialminus\":[[0.0,\"#0d0887\"],[0.1111111111111111,\"#46039f\"],[0.2222222222222222,\"#7201a8\"],[0.3333333333333333,\"#9c179e\"],[0.4444444444444444,\"#bd3786\"],[0.5555555555555556,\"#d8576b\"],[0.6666666666666666,\"#ed7953\"],[0.7777777777777778,\"#fb9f3a\"],[0.8888888888888888,\"#fdca26\"],[1.0,\"#f0f921\"]]},\"colorway\":[\"#636efa\",\"#EF553B\",\"#00cc96\",\"#ab63fa\",\"#FFA15A\",\"#19d3f3\",\"#FF6692\",\"#B6E880\",\"#FF97FF\",\"#FECB52\"],\"font\":{\"color\":\"#f2f5fa\"},\"geo\":{\"bgcolor\":\"rgb(17,17,17)\",\"lakecolor\":\"rgb(17,17,17)\",\"landcolor\":\"rgb(17,17,17)\",\"showlakes\":true,\"showland\":true,\"subunitcolor\":\"#506784\"},\"hoverlabel\":{\"align\":\"left\"},\"hovermode\":\"closest\",\"mapbox\":{\"style\":\"dark\"},\"paper_bgcolor\":\"rgb(17,17,17)\",\"plot_bgcolor\":\"rgb(17,17,17)\",\"polar\":{\"angularaxis\":{\"gridcolor\":\"#506784\",\"linecolor\":\"#506784\",\"ticks\":\"\"},\"bgcolor\":\"rgb(17,17,17)\",\"radialaxis\":{\"gridcolor\":\"#506784\",\"linecolor\":\"#506784\",\"ticks\":\"\"}},\"scene\":{\"xaxis\":{\"backgroundcolor\":\"rgb(17,17,17)\",\"gridcolor\":\"#506784\",\"gridwidth\":2,\"linecolor\":\"#506784\",\"showbackground\":true,\"ticks\":\"\",\"zerolinecolor\":\"#C8D4E3\"},\"yaxis\":{\"backgroundcolor\":\"rgb(17,17,17)\",\"gridcolor\":\"#506784\",\"gridwidth\":2,\"linecolor\":\"#506784\",\"showbackground\":true,\"ticks\":\"\",\"zerolinecolor\":\"#C8D4E3\"},\"zaxis\":{\"backgroundcolor\":\"rgb(17,17,17)\",\"gridcolor\":\"#506784\",\"gridwidth\":2,\"linecolor\":\"#506784\",\"showbackground\":true,\"ticks\":\"\",\"zerolinecolor\":\"#C8D4E3\"}},\"shapedefaults\":{\"line\":{\"color\":\"#f2f5fa\"}},\"sliderdefaults\":{\"bgcolor\":\"#C8D4E3\",\"bordercolor\":\"rgb(17,17,17)\",\"borderwidth\":1,\"tickwidth\":0},\"ternary\":{\"aaxis\":{\"gridcolor\":\"#506784\",\"linecolor\":\"#506784\",\"ticks\":\"\"},\"baxis\":{\"gridcolor\":\"#506784\",\"linecolor\":\"#506784\",\"ticks\":\"\"},\"bgcolor\":\"rgb(17,17,17)\",\"caxis\":{\"gridcolor\":\"#506784\",\"linecolor\":\"#506784\",\"ticks\":\"\"}},\"title\":{\"x\":0.05},\"updatemenudefaults\":{\"bgcolor\":\"#506784\",\"borderwidth\":0},\"xaxis\":{\"automargin\":true,\"gridcolor\":\"#283442\",\"linecolor\":\"#506784\",\"ticks\":\"\",\"title\":{\"standoff\":15},\"zerolinecolor\":\"#283442\",\"zerolinewidth\":2},\"yaxis\":{\"automargin\":true,\"gridcolor\":\"#283442\",\"linecolor\":\"#506784\",\"ticks\":\"\",\"title\":{\"standoff\":15},\"zerolinecolor\":\"#283442\",\"zerolinewidth\":2}}},\"xaxis\":{\"anchor\":\"y\",\"domain\":[0.0,1.0]},\"yaxis\":{\"anchor\":\"x\",\"domain\":[0.0,1.0],\"title\":{\"text\":\"Earnings/Share\"}},\"legend\":{\"tracegroupgap\":0},\"margin\":{\"t\":60},\"violinmode\":\"group\",\"width\":1000,\"height\":800},                        {\"responsive\": true}                    ).then(function(){\n",
       "                            \n",
       "var gd = document.getElementById('bdc0f271-b521-4362-a50f-5604572e855e');\n",
       "var x = new MutationObserver(function (mutations, observer) {{\n",
       "        var display = window.getComputedStyle(gd).display;\n",
       "        if (!display || display === 'none') {{\n",
       "            console.log([gd, 'removed!']);\n",
       "            Plotly.purge(gd);\n",
       "            observer.disconnect();\n",
       "        }}\n",
       "}});\n",
       "\n",
       "// Listen for the removal of the full notebook cells\n",
       "var notebookContainer = gd.closest('#notebook-container');\n",
       "if (notebookContainer) {{\n",
       "    x.observe(notebookContainer, {childList: true});\n",
       "}}\n",
       "\n",
       "// Listen for the clearing of the current output cell\n",
       "var outputEl = gd.closest('.output');\n",
       "if (outputEl) {{\n",
       "    x.observe(outputEl, {childList: true});\n",
       "}}\n",
       "\n",
       "                        })                };                });            </script>        </div>"
      ]
     },
     "metadata": {},
     "output_type": "display_data"
    }
   ],
   "source": [
    "fig = px.violin(SnP_500, y='Earnings/Share', color_discrete_sequence=['firebrick'], points=\"all\")\n",
    "fig.update_layout(width=1000, height=800, template = \"plotly_dark\")\n",
    "fig.show()"
   ]
  },
  {
   "attachments": {},
   "cell_type": "markdown",
   "metadata": {},
   "source": [
    "Again, we could also observe the earnings per share (EPS) for all the sectors. It appears that almost all of the sectors have a higher number of companies with positive earnings, except for the energy sector. This discrepancy raises further questions and warrants investigation to understand why the energy sector has more companies with negative earnings compared to the rest."
   ]
  },
  {
   "cell_type": "code",
   "execution_count": 62,
   "metadata": {},
   "outputs": [
    {
     "data": {
      "application/vnd.plotly.v1+json": {
       "config": {
        "plotlyServerURL": "https://plot.ly"
       },
       "data": [
        {
         "alignmentgroup": "True",
         "box": {
          "visible": false
         },
         "hovertemplate": "Sector=%{x}<br>Earnings/Share=%{y}<extra></extra>",
         "legendgroup": "",
         "marker": {
          "color": "firebrick"
         },
         "name": "",
         "offsetgroup": "",
         "orientation": "v",
         "points": "all",
         "scalegroup": "True",
         "showlegend": false,
         "type": "violin",
         "x": [
          "Industrials",
          "Industrials",
          "Health Care",
          "Health Care",
          "Information Technology",
          "Information Technology",
          "Industrials",
          "Information Technology",
          "Consumer Discretionary",
          "Information Technology",
          "Utilities",
          "Health Care",
          "Financials",
          "Financials",
          "Health Care",
          "Materials",
          "Information Technology",
          "Industrials",
          "Materials",
          "Real Estate",
          "Health Care",
          "Health Care",
          "Industrials",
          "Health Care",
          "Information Technology",
          "Utilities",
          "Financials",
          "Information Technology",
          "Information Technology",
          "Consumer Staples",
          "Consumer Discretionary",
          "Utilities",
          "Industrials",
          "Utilities",
          "Financials",
          "Financials",
          "Real Estate",
          "Utilities",
          "Financials",
          "Health Care",
          "Industrials",
          "Health Care",
          "Information Technology",
          "Energy",
          "Information Technology",
          "Energy",
          "Information Technology",
          "Health Care",
          "Financials",
          "Energy",
          "Real Estate",
          "Information Technology",
          "Information Technology",
          "Consumer Discretionary",
          "Consumer Staples",
          "Industrials",
          "Financials",
          "Financials",
          "Telecommunication Services",
          "Information Technology",
          "Information Technology",
          "Consumer Discretionary",
          "Real Estate",
          "Materials",
          "Energy",
          "Materials",
          "Financials",
          "Health Care",
          "Financials",
          "Health Care",
          "Financials",
          "Consumer Discretionary",
          "Health Care",
          "Financials",
          "Financials",
          "Industrials",
          "Consumer Discretionary",
          "Real Estate",
          "Health Care",
          "Financials",
          "Health Care",
          "Information Technology",
          "Consumer Staples",
          "Industrials",
          "Information Technology",
          "Energy",
          "Information Technology",
          "Consumer Staples",
          "Financials",
          "Health Care",
          "Consumer Discretionary",
          "Consumer Discretionary",
          "Industrials",
          "Financials",
          "Real Estate",
          "Consumer Discretionary",
          "Health Care",
          "Health Care",
          "Utilities",
          "Telecommunication Services",
          "Health Care",
          "Materials",
          "Financials",
          "Consumer Discretionary",
          "Energy",
          "Energy",
          "Consumer Discretionary",
          "Financials",
          "Consumer Staples",
          "Health Care",
          "Energy",
          "Financials",
          "Industrials",
          "Information Technology",
          "Financials",
          "Financials",
          "Information Technology",
          "Financials",
          "Utilities",
          "Consumer Staples",
          "Information Technology",
          "Consumer Staples",
          "Consumer Discretionary",
          "Financials",
          "Consumer Staples",
          "Energy",
          "Energy",
          "Utilities",
          "Consumer Staples",
          "Information Technology",
          "Consumer Staples",
          "Consumer Staples",
          "Real Estate",
          "Information Technology",
          "Industrials",
          "Industrials",
          "Consumer Staples",
          "Consumer Discretionary",
          "Health Care",
          "Consumer Discretionary",
          "Health Care",
          "Industrials",
          "Industrials",
          "Health Care",
          "Energy",
          "Real Estate",
          "Financials",
          "Consumer Discretionary",
          "Consumer Discretionary",
          "Consumer Discretionary",
          "Consumer Discretionary",
          "Consumer Discretionary",
          "Utilities",
          "Industrials",
          "Materials",
          "Consumer Staples",
          "Utilities",
          "Utilities",
          "Real Estate",
          "Information Technology",
          "Financials",
          "Materials",
          "Industrials",
          "Information Technology",
          "Materials",
          "Utilities",
          "Health Care",
          "Information Technology",
          "Industrials",
          "Utilities",
          "Health Care",
          "Energy",
          "Energy",
          "Industrials",
          "Real Estate",
          "Real Estate",
          "Real Estate",
          "Consumer Staples",
          "Financials",
          "Utilities",
          "Utilities",
          "Consumer Discretionary",
          "Industrials",
          "Health Care",
          "Real Estate",
          "Energy",
          "Information Technology",
          "Information Technology",
          "Industrials",
          "Real Estate",
          "Industrials",
          "Information Technology",
          "Financials",
          "Utilities",
          "Information Technology",
          "Information Technology",
          "Industrials",
          "Industrials",
          "Materials",
          "Consumer Discretionary",
          "Consumer Discretionary",
          "Industrials",
          "Industrials",
          "Financials",
          "Materials",
          "Consumer Discretionary",
          "Consumer Discretionary",
          "Information Technology",
          "Industrials",
          "Industrials",
          "Real Estate",
          "Consumer Staples",
          "Consumer Discretionary",
          "Consumer Discretionary",
          "Health Care",
          "Information Technology",
          "Financials",
          "Consumer Discretionary",
          "Industrials",
          "Energy",
          "Consumer Discretionary",
          "Consumer Discretionary",
          "Information Technology",
          "Financials",
          "Consumer Discretionary",
          "Health Care",
          "Real Estate",
          "Energy",
          "Health Care",
          "Energy",
          "Information Technology",
          "Consumer Discretionary",
          "Health Care",
          "Consumer Discretionary",
          "Industrials",
          "Consumer Staples",
          "Real Estate",
          "Information Technology",
          "Health Care",
          "Financials",
          "Industrials",
          "Health Care",
          "Industrials",
          "Industrials",
          "Health Care",
          "Health Care",
          "Industrials",
          "Information Technology",
          "Financials",
          "Information Technology",
          "Materials",
          "Consumer Discretionary",
          "Materials",
          "Information Technology",
          "Health Care",
          "Financials",
          "Health Care",
          "Real Estate",
          "Industrials",
          "Industrials",
          "Consumer Staples",
          "Health Care",
          "Industrials",
          "Financials",
          "Information Technology",
          "Industrials",
          "Consumer Staples",
          "Financials",
          "Consumer Staples",
          "Real Estate",
          "Energy",
          "Information Technology",
          "Consumer Discretionary",
          "Consumer Staples",
          "Consumer Staples",
          "Consumer Discretionary",
          "Industrials",
          "Health Care",
          "Information Technology",
          "Consumer Discretionary",
          "Consumer Discretionary",
          "Financials",
          "Health Care",
          "Financials",
          "Consumer Discretionary",
          "Industrials",
          "Financials",
          "Consumer Discretionary",
          "Materials",
          "Financials",
          "Real Estate",
          "Consumer Discretionary",
          "Energy",
          "Energy",
          "Consumer Discretionary",
          "Financials",
          "Materials",
          "Industrials",
          "Information Technology",
          "Consumer Discretionary",
          "Consumer Staples",
          "Consumer Discretionary",
          "Health Care",
          "Health Care",
          "Health Care",
          "Financials",
          "Health Care",
          "Consumer Discretionary",
          "Consumer Discretionary",
          "Information Technology",
          "Information Technology",
          "Information Technology",
          "Real Estate",
          "Consumer Discretionary",
          "Consumer Staples",
          "Consumer Staples",
          "Materials",
          "Consumer Staples",
          "Financials",
          "Financials",
          "Information Technology",
          "Health Care",
          "Financials",
          "Energy",
          "Financials",
          "Information Technology",
          "Information Technology",
          "Consumer Discretionary",
          "Energy",
          "Materials",
          "Consumer Discretionary",
          "Consumer Discretionary",
          "Utilities",
          "Industrials",
          "Consumer Discretionary",
          "Utilities",
          "Energy",
          "Consumer Discretionary",
          "Industrials",
          "Financials",
          "Industrials",
          "Consumer Discretionary",
          "Utilities",
          "Materials",
          "Information Technology",
          "Consumer Discretionary",
          "Energy",
          "Consumer Discretionary",
          "Energy",
          "Information Technology",
          "Industrials",
          "Materials",
          "Industrials",
          "Health Care",
          "Information Technology",
          "Information Technology",
          "Industrials",
          "Financials",
          "Consumer Staples",
          "Health Care",
          "Health Care",
          "Health Care",
          "Utilities",
          "Consumer Staples",
          "Energy",
          "Utilities",
          "Energy",
          "Financials",
          "Consumer Discretionary",
          "Materials",
          "Utilities",
          "Materials",
          "Consumer Discretionary",
          "Financials",
          "Consumer Staples",
          "Financials",
          "Real Estate",
          "Financials",
          "Utilities",
          "Real Estate",
          "Consumer Discretionary",
          "Consumer Discretionary",
          "Information Technology",
          "Information Technology",
          "Industrials",
          "Health Care",
          "Energy",
          "Financials",
          "Industrials",
          "Real Estate",
          "Information Technology",
          "Real Estate",
          "Health Care",
          "Financials",
          "Industrials",
          "Health Care",
          "Industrials",
          "Industrials",
          "Industrials",
          "Industrials",
          "Consumer Discretionary",
          "Consumer Discretionary",
          "Financials",
          "Information Technology",
          "Real Estate",
          "Utilities",
          "Energy",
          "Consumer Discretionary",
          "Information Technology",
          "Materials",
          "Utilities",
          "Materials",
          "Consumer Discretionary",
          "Real Estate",
          "Information Technology",
          "Real Estate",
          "Consumer Discretionary",
          "Utilities",
          "Industrials",
          "Consumer Discretionary",
          "Consumer Discretionary",
          "Financials",
          "Industrials",
          "Health Care",
          "Financials",
          "Information Technology",
          "Financials",
          "Information Technology",
          "Consumer Staples",
          "Financials",
          "Consumer Discretionary",
          "Consumer Discretionary",
          "Information Technology",
          "Energy",
          "Information Technology",
          "Industrials",
          "Financials",
          "Consumer Staples",
          "Health Care",
          "Consumer Staples",
          "Materials",
          "Financials",
          "Consumer Discretionary",
          "Health Care",
          "Consumer Discretionary",
          "Consumer Discretionary",
          "Consumer Discretionary",
          "Financials",
          "Information Technology",
          "Consumer Discretionary",
          "Industrials",
          "Consumer Discretionary",
          "Consumer Discretionary",
          "Consumer Discretionary",
          "Consumer Staples",
          "Financials",
          "Real Estate",
          "Consumer Discretionary",
          "Consumer Discretionary",
          "Consumer Discretionary",
          "Industrials",
          "Industrials",
          "Health Care",
          "Industrials",
          "Industrials",
          "Industrials",
          "Health Care",
          "Financials",
          "Consumer Discretionary",
          "Energy",
          "Health Care",
          "Real Estate",
          "Information Technology",
          "Industrials",
          "Telecommunication Services",
          "Health Care",
          "Consumer Discretionary",
          "Information Technology",
          "Real Estate",
          "Materials",
          "Consumer Staples",
          "Consumer Staples",
          "Industrials",
          "Health Care",
          "Utilities",
          "Financials",
          "Real Estate",
          "Information Technology",
          "Information Technology",
          "Materials",
          "Real Estate",
          "Consumer Discretionary",
          "Energy",
          "Financials",
          "Consumer Discretionary",
          "Consumer Discretionary",
          "Utilities",
          "Information Technology",
          "Information Technology",
          "Financials",
          "Industrials",
          "Consumer Discretionary",
          "Health Care",
          "Financials",
          "Health Care"
         ],
         "x0": " ",
         "xaxis": "x",
         "y": [
          7.92,
          1.7,
          0.26,
          3.29,
          5.44,
          1.28,
          7.43,
          3.39,
          6.19,
          0.03,
          -1.72,
          5.75,
          12.07,
          11.01,
          2.1,
          13.66,
          1.79,
          8.28,
          5.66,
          1.57,
          1.77,
          2.84,
          2.37,
          38.35,
          14.13,
          1.65,
          4.68,
          22.27,
          22.27,
          5.31,
          6.16,
          2.68,
          3.91,
          1.24,
          2.9,
          -0.76,
          1.97,
          2.63,
          9.44,
          1.64,
          2.94,
          2.57,
          2.05,
          -5.9,
          2.11,
          6.13,
          2.99,
          14.36,
          4.66,
          -3.72,
          1.95,
          9.2,
          3.17,
          5.05,
          2.17,
          -0.21,
          2.54,
          9.08,
          4.76,
          -2.61,
          3.85,
          44.09,
          6.36,
          3.11,
          -0.31,
          0.85,
          1.55,
          1.29,
          2.74,
          4.65,
          9.76,
          3.81,
          11.94,
          30.3,
          1.92,
          13.47,
          0.55,
          2.93,
          0.07,
          -24.62,
          2.65,
          4.01,
          1.7,
          3.57,
          1.85,
          -0.92,
          0.74,
          2.89,
          3.45,
          4.04,
          3.97,
          3.58,
          1.26,
          2.27,
          1.69,
          2.81,
          3.58,
          3.23,
          1,
          1.16,
          1.84,
          -1.2,
          1.61,
          34.08,
          -6.44,
          4.85,
          0.8,
          8.2,
          2.92,
          7.2,
          -4.64,
          3.55,
          4.38,
          1.91,
          -3.1,
          3.27,
          -0.24,
          11.94,
          1.99,
          1.49,
          2.54,
          2.28,
          4.74,
          4.13,
          1.46,
          -11.04,
          -0.65,
          4.1,
          8.71,
          -0.78,
          6.09,
          -0.63,
          1.02,
          1.83,
          6.07,
          8.23,
          4.91,
          2.73,
          3.53,
          3.81,
          4.3,
          6.64,
          4.94,
          1.99,
          -6.89,
          2.19,
          5.41,
          1.96,
          1.96,
          3.06,
          4.43,
          3.77,
          4.91,
          5.15,
          1.59,
          4.54,
          4.82,
          3.12,
          0.88,
          -0.89,
          2.15,
          10.12,
          6.68,
          -1.07,
          4.14,
          3.96,
          2.88,
          3.07,
          2.35,
          -3.26,
          -0.48,
          -1.98,
          -2.69,
          4.04,
          1.77,
          1.63,
          6.27,
          3.35,
          23.71,
          2.96,
          1.23,
          1.81,
          2.36,
          5.39,
          2.92,
          1.88,
          6.51,
          5.39,
          2.01,
          3.5,
          11.07,
          1.72,
          2.85,
          -14.49,
          4.14,
          1.21,
          1.12,
          1.99,
          1.56,
          4.91,
          1.9,
          2.46,
          3.04,
          3,
          1.24,
          1.69,
          2.69,
          2.31,
          9.55,
          -0.72,
          1.34,
          2.77,
          6,
          4.6,
          9.95,
          1.58,
          8.61,
          4.74,
          10.02,
          -0.53,
          1.41,
          2.98,
          4.43,
          2.27,
          4.34,
          5.94,
          1.33,
          -1.2,
          3.1,
          -19.94,
          0.21,
          1.05,
          2.64,
          6.46,
          2.08,
          1.57,
          1.02,
          1.49,
          4.06,
          1,
          12.15,
          2.94,
          1,
          4.86,
          4.92,
          0.54,
          5.07,
          1.98,
          2.37,
          6.11,
          5.14,
          1.49,
          5.05,
          3.72,
          5.67,
          2.74,
          0.76,
          0.46,
          6.19,
          2.43,
          5.1,
          0.39,
          1.71,
          6.3,
          0.78,
          9.16,
          1.95,
          1.12,
          6.41,
          0.8,
          0.01,
          5.88,
          3.12,
          2.81,
          2.05,
          3.98,
          8.51,
          7.02,
          9.22,
          2.76,
          3.38,
          0.33,
          -0.2,
          9.24,
          1.5,
          6.83,
          1.93,
          3.46,
          12.25,
          8.69,
          3.43,
          1.98,
          -2.65,
          6.85,
          2.67,
          2.87,
          6.63,
          1.47,
          3.65,
          -3.06,
          3.73,
          6.36,
          22.74,
          2.89,
          1.4,
          0.63,
          14.24,
          1.92,
          3.31,
          0.66,
          4.36,
          2.97,
          2.86,
          12.48,
          9.27,
          1.91,
          5.09,
          1.19,
          1.35,
          3.09,
          -1.08,
          0.93,
          4.32,
          -6.4,
          1.01,
          1.81,
          1.25,
          1.17,
          -6.5,
          -1.18,
          -1.28,
          -1.28,
          11.39,
          1.39,
          2.51,
          1.02,
          -2.32,
          2.02,
          18.73,
          4.92,
          11.47,
          2.78,
          -2.23,
          4.1,
          2.57,
          10.73,
          -0.75,
          4.79,
          1.66,
          2.2,
          4.75,
          7.07,
          7.24,
          1.79,
          2.26,
          1.47,
          3.63,
          0.97,
          4.36,
          2.64,
          -28.01,
          3.51,
          2.78,
          4.48,
          9.93,
          3.95,
          -3.39,
          10.4,
          -1.19,
          6.31,
          2.79,
          4.32,
          42.66,
          4.5,
          5.6,
          2.73,
          3.06,
          9.73,
          1.75,
          6.81,
          1.44,
          6.77,
          -0.13,
          1.65,
          1.28,
          5.5,
          -2.79,
          4.12,
          6.95,
          1.12,
          1.68,
          1.43,
          7.74,
          1,
          1.77,
          2.41,
          2.32,
          6.35,
          4.8,
          9.38,
          2.83,
          7.53,
          7.95,
          0.27,
          0.62,
          4.16,
          -1.08,
          5.18,
          2.58,
          2.46,
          5.45,
          18.61,
          7.03,
          6.25,
          5.41,
          0.88,
          9.2,
          2.53,
          5.82,
          8.05,
          1.97,
          5.23,
          2.08,
          2.68,
          4.48,
          -0.17,
          2.41,
          0.87,
          2.08,
          4.75,
          2.09,
          4.71,
          4.71,
          0,
          3.6,
          1.14,
          3.73,
          5.33,
          7.52,
          3.66,
          0.85,
          7.31,
          5.7,
          5.6,
          3.55,
          6.62,
          3.46,
          4.5,
          3.16,
          3.3,
          7.92,
          0.81,
          1.59,
          1.59,
          4.79,
          3.52,
          1.08,
          6.52,
          0.45,
          0.45,
          13.52,
          7.05,
          10.71,
          5.62,
          15.72,
          5.7,
          7.14,
          4.38,
          2.55,
          9.24,
          2.69,
          1.86,
          3.43,
          3.45,
          7.36,
          1.04,
          4.68,
          2.8,
          4.33,
          3.1,
          4.39,
          3.78,
          2.66,
          0.19,
          3.79,
          4.07,
          2.81,
          1.29,
          0.51,
          2.77,
          0.77,
          4.51,
          -0.57,
          3.07,
          5.53,
          7.27,
          2.21,
          0.59,
          2.32,
          -2.24,
          1.83,
          4.07,
          9.01,
          2.6,
          1.65
         ],
         "y0": " ",
         "yaxis": "y"
        }
       ],
       "layout": {
        "height": 800,
        "legend": {
         "tracegroupgap": 0
        },
        "margin": {
         "t": 60
        },
        "template": {
         "data": {
          "bar": [
           {
            "error_x": {
             "color": "#f2f5fa"
            },
            "error_y": {
             "color": "#f2f5fa"
            },
            "marker": {
             "line": {
              "color": "rgb(17,17,17)",
              "width": 0.5
             },
             "pattern": {
              "fillmode": "overlay",
              "size": 10,
              "solidity": 0.2
             }
            },
            "type": "bar"
           }
          ],
          "barpolar": [
           {
            "marker": {
             "line": {
              "color": "rgb(17,17,17)",
              "width": 0.5
             },
             "pattern": {
              "fillmode": "overlay",
              "size": 10,
              "solidity": 0.2
             }
            },
            "type": "barpolar"
           }
          ],
          "carpet": [
           {
            "aaxis": {
             "endlinecolor": "#A2B1C6",
             "gridcolor": "#506784",
             "linecolor": "#506784",
             "minorgridcolor": "#506784",
             "startlinecolor": "#A2B1C6"
            },
            "baxis": {
             "endlinecolor": "#A2B1C6",
             "gridcolor": "#506784",
             "linecolor": "#506784",
             "minorgridcolor": "#506784",
             "startlinecolor": "#A2B1C6"
            },
            "type": "carpet"
           }
          ],
          "choropleth": [
           {
            "colorbar": {
             "outlinewidth": 0,
             "ticks": ""
            },
            "type": "choropleth"
           }
          ],
          "contour": [
           {
            "colorbar": {
             "outlinewidth": 0,
             "ticks": ""
            },
            "colorscale": [
             [
              0,
              "#0d0887"
             ],
             [
              0.1111111111111111,
              "#46039f"
             ],
             [
              0.2222222222222222,
              "#7201a8"
             ],
             [
              0.3333333333333333,
              "#9c179e"
             ],
             [
              0.4444444444444444,
              "#bd3786"
             ],
             [
              0.5555555555555556,
              "#d8576b"
             ],
             [
              0.6666666666666666,
              "#ed7953"
             ],
             [
              0.7777777777777778,
              "#fb9f3a"
             ],
             [
              0.8888888888888888,
              "#fdca26"
             ],
             [
              1,
              "#f0f921"
             ]
            ],
            "type": "contour"
           }
          ],
          "contourcarpet": [
           {
            "colorbar": {
             "outlinewidth": 0,
             "ticks": ""
            },
            "type": "contourcarpet"
           }
          ],
          "heatmap": [
           {
            "colorbar": {
             "outlinewidth": 0,
             "ticks": ""
            },
            "colorscale": [
             [
              0,
              "#0d0887"
             ],
             [
              0.1111111111111111,
              "#46039f"
             ],
             [
              0.2222222222222222,
              "#7201a8"
             ],
             [
              0.3333333333333333,
              "#9c179e"
             ],
             [
              0.4444444444444444,
              "#bd3786"
             ],
             [
              0.5555555555555556,
              "#d8576b"
             ],
             [
              0.6666666666666666,
              "#ed7953"
             ],
             [
              0.7777777777777778,
              "#fb9f3a"
             ],
             [
              0.8888888888888888,
              "#fdca26"
             ],
             [
              1,
              "#f0f921"
             ]
            ],
            "type": "heatmap"
           }
          ],
          "heatmapgl": [
           {
            "colorbar": {
             "outlinewidth": 0,
             "ticks": ""
            },
            "colorscale": [
             [
              0,
              "#0d0887"
             ],
             [
              0.1111111111111111,
              "#46039f"
             ],
             [
              0.2222222222222222,
              "#7201a8"
             ],
             [
              0.3333333333333333,
              "#9c179e"
             ],
             [
              0.4444444444444444,
              "#bd3786"
             ],
             [
              0.5555555555555556,
              "#d8576b"
             ],
             [
              0.6666666666666666,
              "#ed7953"
             ],
             [
              0.7777777777777778,
              "#fb9f3a"
             ],
             [
              0.8888888888888888,
              "#fdca26"
             ],
             [
              1,
              "#f0f921"
             ]
            ],
            "type": "heatmapgl"
           }
          ],
          "histogram": [
           {
            "marker": {
             "pattern": {
              "fillmode": "overlay",
              "size": 10,
              "solidity": 0.2
             }
            },
            "type": "histogram"
           }
          ],
          "histogram2d": [
           {
            "colorbar": {
             "outlinewidth": 0,
             "ticks": ""
            },
            "colorscale": [
             [
              0,
              "#0d0887"
             ],
             [
              0.1111111111111111,
              "#46039f"
             ],
             [
              0.2222222222222222,
              "#7201a8"
             ],
             [
              0.3333333333333333,
              "#9c179e"
             ],
             [
              0.4444444444444444,
              "#bd3786"
             ],
             [
              0.5555555555555556,
              "#d8576b"
             ],
             [
              0.6666666666666666,
              "#ed7953"
             ],
             [
              0.7777777777777778,
              "#fb9f3a"
             ],
             [
              0.8888888888888888,
              "#fdca26"
             ],
             [
              1,
              "#f0f921"
             ]
            ],
            "type": "histogram2d"
           }
          ],
          "histogram2dcontour": [
           {
            "colorbar": {
             "outlinewidth": 0,
             "ticks": ""
            },
            "colorscale": [
             [
              0,
              "#0d0887"
             ],
             [
              0.1111111111111111,
              "#46039f"
             ],
             [
              0.2222222222222222,
              "#7201a8"
             ],
             [
              0.3333333333333333,
              "#9c179e"
             ],
             [
              0.4444444444444444,
              "#bd3786"
             ],
             [
              0.5555555555555556,
              "#d8576b"
             ],
             [
              0.6666666666666666,
              "#ed7953"
             ],
             [
              0.7777777777777778,
              "#fb9f3a"
             ],
             [
              0.8888888888888888,
              "#fdca26"
             ],
             [
              1,
              "#f0f921"
             ]
            ],
            "type": "histogram2dcontour"
           }
          ],
          "mesh3d": [
           {
            "colorbar": {
             "outlinewidth": 0,
             "ticks": ""
            },
            "type": "mesh3d"
           }
          ],
          "parcoords": [
           {
            "line": {
             "colorbar": {
              "outlinewidth": 0,
              "ticks": ""
             }
            },
            "type": "parcoords"
           }
          ],
          "pie": [
           {
            "automargin": true,
            "type": "pie"
           }
          ],
          "scatter": [
           {
            "marker": {
             "line": {
              "color": "#283442"
             }
            },
            "type": "scatter"
           }
          ],
          "scatter3d": [
           {
            "line": {
             "colorbar": {
              "outlinewidth": 0,
              "ticks": ""
             }
            },
            "marker": {
             "colorbar": {
              "outlinewidth": 0,
              "ticks": ""
             }
            },
            "type": "scatter3d"
           }
          ],
          "scattercarpet": [
           {
            "marker": {
             "colorbar": {
              "outlinewidth": 0,
              "ticks": ""
             }
            },
            "type": "scattercarpet"
           }
          ],
          "scattergeo": [
           {
            "marker": {
             "colorbar": {
              "outlinewidth": 0,
              "ticks": ""
             }
            },
            "type": "scattergeo"
           }
          ],
          "scattergl": [
           {
            "marker": {
             "line": {
              "color": "#283442"
             }
            },
            "type": "scattergl"
           }
          ],
          "scattermapbox": [
           {
            "marker": {
             "colorbar": {
              "outlinewidth": 0,
              "ticks": ""
             }
            },
            "type": "scattermapbox"
           }
          ],
          "scatterpolar": [
           {
            "marker": {
             "colorbar": {
              "outlinewidth": 0,
              "ticks": ""
             }
            },
            "type": "scatterpolar"
           }
          ],
          "scatterpolargl": [
           {
            "marker": {
             "colorbar": {
              "outlinewidth": 0,
              "ticks": ""
             }
            },
            "type": "scatterpolargl"
           }
          ],
          "scatterternary": [
           {
            "marker": {
             "colorbar": {
              "outlinewidth": 0,
              "ticks": ""
             }
            },
            "type": "scatterternary"
           }
          ],
          "surface": [
           {
            "colorbar": {
             "outlinewidth": 0,
             "ticks": ""
            },
            "colorscale": [
             [
              0,
              "#0d0887"
             ],
             [
              0.1111111111111111,
              "#46039f"
             ],
             [
              0.2222222222222222,
              "#7201a8"
             ],
             [
              0.3333333333333333,
              "#9c179e"
             ],
             [
              0.4444444444444444,
              "#bd3786"
             ],
             [
              0.5555555555555556,
              "#d8576b"
             ],
             [
              0.6666666666666666,
              "#ed7953"
             ],
             [
              0.7777777777777778,
              "#fb9f3a"
             ],
             [
              0.8888888888888888,
              "#fdca26"
             ],
             [
              1,
              "#f0f921"
             ]
            ],
            "type": "surface"
           }
          ],
          "table": [
           {
            "cells": {
             "fill": {
              "color": "#506784"
             },
             "line": {
              "color": "rgb(17,17,17)"
             }
            },
            "header": {
             "fill": {
              "color": "#2a3f5f"
             },
             "line": {
              "color": "rgb(17,17,17)"
             }
            },
            "type": "table"
           }
          ]
         },
         "layout": {
          "annotationdefaults": {
           "arrowcolor": "#f2f5fa",
           "arrowhead": 0,
           "arrowwidth": 1
          },
          "autotypenumbers": "strict",
          "coloraxis": {
           "colorbar": {
            "outlinewidth": 0,
            "ticks": ""
           }
          },
          "colorscale": {
           "diverging": [
            [
             0,
             "#8e0152"
            ],
            [
             0.1,
             "#c51b7d"
            ],
            [
             0.2,
             "#de77ae"
            ],
            [
             0.3,
             "#f1b6da"
            ],
            [
             0.4,
             "#fde0ef"
            ],
            [
             0.5,
             "#f7f7f7"
            ],
            [
             0.6,
             "#e6f5d0"
            ],
            [
             0.7,
             "#b8e186"
            ],
            [
             0.8,
             "#7fbc41"
            ],
            [
             0.9,
             "#4d9221"
            ],
            [
             1,
             "#276419"
            ]
           ],
           "sequential": [
            [
             0,
             "#0d0887"
            ],
            [
             0.1111111111111111,
             "#46039f"
            ],
            [
             0.2222222222222222,
             "#7201a8"
            ],
            [
             0.3333333333333333,
             "#9c179e"
            ],
            [
             0.4444444444444444,
             "#bd3786"
            ],
            [
             0.5555555555555556,
             "#d8576b"
            ],
            [
             0.6666666666666666,
             "#ed7953"
            ],
            [
             0.7777777777777778,
             "#fb9f3a"
            ],
            [
             0.8888888888888888,
             "#fdca26"
            ],
            [
             1,
             "#f0f921"
            ]
           ],
           "sequentialminus": [
            [
             0,
             "#0d0887"
            ],
            [
             0.1111111111111111,
             "#46039f"
            ],
            [
             0.2222222222222222,
             "#7201a8"
            ],
            [
             0.3333333333333333,
             "#9c179e"
            ],
            [
             0.4444444444444444,
             "#bd3786"
            ],
            [
             0.5555555555555556,
             "#d8576b"
            ],
            [
             0.6666666666666666,
             "#ed7953"
            ],
            [
             0.7777777777777778,
             "#fb9f3a"
            ],
            [
             0.8888888888888888,
             "#fdca26"
            ],
            [
             1,
             "#f0f921"
            ]
           ]
          },
          "colorway": [
           "#636efa",
           "#EF553B",
           "#00cc96",
           "#ab63fa",
           "#FFA15A",
           "#19d3f3",
           "#FF6692",
           "#B6E880",
           "#FF97FF",
           "#FECB52"
          ],
          "font": {
           "color": "#f2f5fa"
          },
          "geo": {
           "bgcolor": "rgb(17,17,17)",
           "lakecolor": "rgb(17,17,17)",
           "landcolor": "rgb(17,17,17)",
           "showlakes": true,
           "showland": true,
           "subunitcolor": "#506784"
          },
          "hoverlabel": {
           "align": "left"
          },
          "hovermode": "closest",
          "mapbox": {
           "style": "dark"
          },
          "paper_bgcolor": "rgb(17,17,17)",
          "plot_bgcolor": "rgb(17,17,17)",
          "polar": {
           "angularaxis": {
            "gridcolor": "#506784",
            "linecolor": "#506784",
            "ticks": ""
           },
           "bgcolor": "rgb(17,17,17)",
           "radialaxis": {
            "gridcolor": "#506784",
            "linecolor": "#506784",
            "ticks": ""
           }
          },
          "scene": {
           "xaxis": {
            "backgroundcolor": "rgb(17,17,17)",
            "gridcolor": "#506784",
            "gridwidth": 2,
            "linecolor": "#506784",
            "showbackground": true,
            "ticks": "",
            "zerolinecolor": "#C8D4E3"
           },
           "yaxis": {
            "backgroundcolor": "rgb(17,17,17)",
            "gridcolor": "#506784",
            "gridwidth": 2,
            "linecolor": "#506784",
            "showbackground": true,
            "ticks": "",
            "zerolinecolor": "#C8D4E3"
           },
           "zaxis": {
            "backgroundcolor": "rgb(17,17,17)",
            "gridcolor": "#506784",
            "gridwidth": 2,
            "linecolor": "#506784",
            "showbackground": true,
            "ticks": "",
            "zerolinecolor": "#C8D4E3"
           }
          },
          "shapedefaults": {
           "line": {
            "color": "#f2f5fa"
           }
          },
          "sliderdefaults": {
           "bgcolor": "#C8D4E3",
           "bordercolor": "rgb(17,17,17)",
           "borderwidth": 1,
           "tickwidth": 0
          },
          "ternary": {
           "aaxis": {
            "gridcolor": "#506784",
            "linecolor": "#506784",
            "ticks": ""
           },
           "baxis": {
            "gridcolor": "#506784",
            "linecolor": "#506784",
            "ticks": ""
           },
           "bgcolor": "rgb(17,17,17)",
           "caxis": {
            "gridcolor": "#506784",
            "linecolor": "#506784",
            "ticks": ""
           }
          },
          "title": {
           "x": 0.05
          },
          "updatemenudefaults": {
           "bgcolor": "#506784",
           "borderwidth": 0
          },
          "xaxis": {
           "automargin": true,
           "gridcolor": "#283442",
           "linecolor": "#506784",
           "ticks": "",
           "title": {
            "standoff": 15
           },
           "zerolinecolor": "#283442",
           "zerolinewidth": 2
          },
          "yaxis": {
           "automargin": true,
           "gridcolor": "#283442",
           "linecolor": "#506784",
           "ticks": "",
           "title": {
            "standoff": 15
           },
           "zerolinecolor": "#283442",
           "zerolinewidth": 2
          }
         }
        },
        "violinmode": "group",
        "width": 1200,
        "xaxis": {
         "anchor": "y",
         "domain": [
          0,
          1
         ],
         "title": {
          "text": "Sector"
         }
        },
        "yaxis": {
         "anchor": "x",
         "domain": [
          0,
          1
         ],
         "title": {
          "text": "Earnings/Share"
         }
        }
       }
      },
      "text/html": [
       "<div>                            <div id=\"d1d63f21-0c24-45b1-92f5-5b2240a6d647\" class=\"plotly-graph-div\" style=\"height:800px; width:1200px;\"></div>            <script type=\"text/javascript\">                require([\"plotly\"], function(Plotly) {                    window.PLOTLYENV=window.PLOTLYENV || {};                                    if (document.getElementById(\"d1d63f21-0c24-45b1-92f5-5b2240a6d647\")) {                    Plotly.newPlot(                        \"d1d63f21-0c24-45b1-92f5-5b2240a6d647\",                        [{\"alignmentgroup\":\"True\",\"box\":{\"visible\":false},\"hovertemplate\":\"Sector=%{x}<br>Earnings/Share=%{y}<extra></extra>\",\"legendgroup\":\"\",\"marker\":{\"color\":\"firebrick\"},\"name\":\"\",\"offsetgroup\":\"\",\"orientation\":\"v\",\"points\":\"all\",\"scalegroup\":\"True\",\"showlegend\":false,\"x\":[\"Industrials\",\"Industrials\",\"Health Care\",\"Health Care\",\"Information Technology\",\"Information Technology\",\"Industrials\",\"Information Technology\",\"Consumer Discretionary\",\"Information Technology\",\"Utilities\",\"Health Care\",\"Financials\",\"Financials\",\"Health Care\",\"Materials\",\"Information Technology\",\"Industrials\",\"Materials\",\"Real Estate\",\"Health Care\",\"Health Care\",\"Industrials\",\"Health Care\",\"Information Technology\",\"Utilities\",\"Financials\",\"Information Technology\",\"Information Technology\",\"Consumer Staples\",\"Consumer Discretionary\",\"Utilities\",\"Industrials\",\"Utilities\",\"Financials\",\"Financials\",\"Real Estate\",\"Utilities\",\"Financials\",\"Health Care\",\"Industrials\",\"Health Care\",\"Information Technology\",\"Energy\",\"Information Technology\",\"Energy\",\"Information Technology\",\"Health Care\",\"Financials\",\"Energy\",\"Real Estate\",\"Information Technology\",\"Information Technology\",\"Consumer Discretionary\",\"Consumer Staples\",\"Industrials\",\"Financials\",\"Financials\",\"Telecommunication Services\",\"Information Technology\",\"Information Technology\",\"Consumer Discretionary\",\"Real Estate\",\"Materials\",\"Energy\",\"Materials\",\"Financials\",\"Health Care\",\"Financials\",\"Health Care\",\"Financials\",\"Consumer Discretionary\",\"Health Care\",\"Financials\",\"Financials\",\"Industrials\",\"Consumer Discretionary\",\"Real Estate\",\"Health Care\",\"Financials\",\"Health Care\",\"Information Technology\",\"Consumer Staples\",\"Industrials\",\"Information Technology\",\"Energy\",\"Information Technology\",\"Consumer Staples\",\"Financials\",\"Health Care\",\"Consumer Discretionary\",\"Consumer Discretionary\",\"Industrials\",\"Financials\",\"Real Estate\",\"Consumer Discretionary\",\"Health Care\",\"Health Care\",\"Utilities\",\"Telecommunication Services\",\"Health Care\",\"Materials\",\"Financials\",\"Consumer Discretionary\",\"Energy\",\"Energy\",\"Consumer Discretionary\",\"Financials\",\"Consumer Staples\",\"Health Care\",\"Energy\",\"Financials\",\"Industrials\",\"Information Technology\",\"Financials\",\"Financials\",\"Information Technology\",\"Financials\",\"Utilities\",\"Consumer Staples\",\"Information Technology\",\"Consumer Staples\",\"Consumer Discretionary\",\"Financials\",\"Consumer Staples\",\"Energy\",\"Energy\",\"Utilities\",\"Consumer Staples\",\"Information Technology\",\"Consumer Staples\",\"Consumer Staples\",\"Real Estate\",\"Information Technology\",\"Industrials\",\"Industrials\",\"Consumer Staples\",\"Consumer Discretionary\",\"Health Care\",\"Consumer Discretionary\",\"Health Care\",\"Industrials\",\"Industrials\",\"Health Care\",\"Energy\",\"Real Estate\",\"Financials\",\"Consumer Discretionary\",\"Consumer Discretionary\",\"Consumer Discretionary\",\"Consumer Discretionary\",\"Consumer Discretionary\",\"Utilities\",\"Industrials\",\"Materials\",\"Consumer Staples\",\"Utilities\",\"Utilities\",\"Real Estate\",\"Information Technology\",\"Financials\",\"Materials\",\"Industrials\",\"Information Technology\",\"Materials\",\"Utilities\",\"Health Care\",\"Information Technology\",\"Industrials\",\"Utilities\",\"Health Care\",\"Energy\",\"Energy\",\"Industrials\",\"Real Estate\",\"Real Estate\",\"Real Estate\",\"Consumer Staples\",\"Financials\",\"Utilities\",\"Utilities\",\"Consumer Discretionary\",\"Industrials\",\"Health Care\",\"Real Estate\",\"Energy\",\"Information Technology\",\"Information Technology\",\"Industrials\",\"Real Estate\",\"Industrials\",\"Information Technology\",\"Financials\",\"Utilities\",\"Information Technology\",\"Information Technology\",\"Industrials\",\"Industrials\",\"Materials\",\"Consumer Discretionary\",\"Consumer Discretionary\",\"Industrials\",\"Industrials\",\"Financials\",\"Materials\",\"Consumer Discretionary\",\"Consumer Discretionary\",\"Information Technology\",\"Industrials\",\"Industrials\",\"Real Estate\",\"Consumer Staples\",\"Consumer Discretionary\",\"Consumer Discretionary\",\"Health Care\",\"Information Technology\",\"Financials\",\"Consumer Discretionary\",\"Industrials\",\"Energy\",\"Consumer Discretionary\",\"Consumer Discretionary\",\"Information Technology\",\"Financials\",\"Consumer Discretionary\",\"Health Care\",\"Real Estate\",\"Energy\",\"Health Care\",\"Energy\",\"Information Technology\",\"Consumer Discretionary\",\"Health Care\",\"Consumer Discretionary\",\"Industrials\",\"Consumer Staples\",\"Real Estate\",\"Information Technology\",\"Health Care\",\"Financials\",\"Industrials\",\"Health Care\",\"Industrials\",\"Industrials\",\"Health Care\",\"Health Care\",\"Industrials\",\"Information Technology\",\"Financials\",\"Information Technology\",\"Materials\",\"Consumer Discretionary\",\"Materials\",\"Information Technology\",\"Health Care\",\"Financials\",\"Health Care\",\"Real Estate\",\"Industrials\",\"Industrials\",\"Consumer Staples\",\"Health Care\",\"Industrials\",\"Financials\",\"Information Technology\",\"Industrials\",\"Consumer Staples\",\"Financials\",\"Consumer Staples\",\"Real Estate\",\"Energy\",\"Information Technology\",\"Consumer Discretionary\",\"Consumer Staples\",\"Consumer Staples\",\"Consumer Discretionary\",\"Industrials\",\"Health Care\",\"Information Technology\",\"Consumer Discretionary\",\"Consumer Discretionary\",\"Financials\",\"Health Care\",\"Financials\",\"Consumer Discretionary\",\"Industrials\",\"Financials\",\"Consumer Discretionary\",\"Materials\",\"Financials\",\"Real Estate\",\"Consumer Discretionary\",\"Energy\",\"Energy\",\"Consumer Discretionary\",\"Financials\",\"Materials\",\"Industrials\",\"Information Technology\",\"Consumer Discretionary\",\"Consumer Staples\",\"Consumer Discretionary\",\"Health Care\",\"Health Care\",\"Health Care\",\"Financials\",\"Health Care\",\"Consumer Discretionary\",\"Consumer Discretionary\",\"Information Technology\",\"Information Technology\",\"Information Technology\",\"Real Estate\",\"Consumer Discretionary\",\"Consumer Staples\",\"Consumer Staples\",\"Materials\",\"Consumer Staples\",\"Financials\",\"Financials\",\"Information Technology\",\"Health Care\",\"Financials\",\"Energy\",\"Financials\",\"Information Technology\",\"Information Technology\",\"Consumer Discretionary\",\"Energy\",\"Materials\",\"Consumer Discretionary\",\"Consumer Discretionary\",\"Utilities\",\"Industrials\",\"Consumer Discretionary\",\"Utilities\",\"Energy\",\"Consumer Discretionary\",\"Industrials\",\"Financials\",\"Industrials\",\"Consumer Discretionary\",\"Utilities\",\"Materials\",\"Information Technology\",\"Consumer Discretionary\",\"Energy\",\"Consumer Discretionary\",\"Energy\",\"Information Technology\",\"Industrials\",\"Materials\",\"Industrials\",\"Health Care\",\"Information Technology\",\"Information Technology\",\"Industrials\",\"Financials\",\"Consumer Staples\",\"Health Care\",\"Health Care\",\"Health Care\",\"Utilities\",\"Consumer Staples\",\"Energy\",\"Utilities\",\"Energy\",\"Financials\",\"Consumer Discretionary\",\"Materials\",\"Utilities\",\"Materials\",\"Consumer Discretionary\",\"Financials\",\"Consumer Staples\",\"Financials\",\"Real Estate\",\"Financials\",\"Utilities\",\"Real Estate\",\"Consumer Discretionary\",\"Consumer Discretionary\",\"Information Technology\",\"Information Technology\",\"Industrials\",\"Health Care\",\"Energy\",\"Financials\",\"Industrials\",\"Real Estate\",\"Information Technology\",\"Real Estate\",\"Health Care\",\"Financials\",\"Industrials\",\"Health Care\",\"Industrials\",\"Industrials\",\"Industrials\",\"Industrials\",\"Consumer Discretionary\",\"Consumer Discretionary\",\"Financials\",\"Information Technology\",\"Real Estate\",\"Utilities\",\"Energy\",\"Consumer Discretionary\",\"Information Technology\",\"Materials\",\"Utilities\",\"Materials\",\"Consumer Discretionary\",\"Real Estate\",\"Information Technology\",\"Real Estate\",\"Consumer Discretionary\",\"Utilities\",\"Industrials\",\"Consumer Discretionary\",\"Consumer Discretionary\",\"Financials\",\"Industrials\",\"Health Care\",\"Financials\",\"Information Technology\",\"Financials\",\"Information Technology\",\"Consumer Staples\",\"Financials\",\"Consumer Discretionary\",\"Consumer Discretionary\",\"Information Technology\",\"Energy\",\"Information Technology\",\"Industrials\",\"Financials\",\"Consumer Staples\",\"Health Care\",\"Consumer Staples\",\"Materials\",\"Financials\",\"Consumer Discretionary\",\"Health Care\",\"Consumer Discretionary\",\"Consumer Discretionary\",\"Consumer Discretionary\",\"Financials\",\"Information Technology\",\"Consumer Discretionary\",\"Industrials\",\"Consumer Discretionary\",\"Consumer Discretionary\",\"Consumer Discretionary\",\"Consumer Staples\",\"Financials\",\"Real Estate\",\"Consumer Discretionary\",\"Consumer Discretionary\",\"Consumer Discretionary\",\"Industrials\",\"Industrials\",\"Health Care\",\"Industrials\",\"Industrials\",\"Industrials\",\"Health Care\",\"Financials\",\"Consumer Discretionary\",\"Energy\",\"Health Care\",\"Real Estate\",\"Information Technology\",\"Industrials\",\"Telecommunication Services\",\"Health Care\",\"Consumer Discretionary\",\"Information Technology\",\"Real Estate\",\"Materials\",\"Consumer Staples\",\"Consumer Staples\",\"Industrials\",\"Health Care\",\"Utilities\",\"Financials\",\"Real Estate\",\"Information Technology\",\"Information Technology\",\"Materials\",\"Real Estate\",\"Consumer Discretionary\",\"Energy\",\"Financials\",\"Consumer Discretionary\",\"Consumer Discretionary\",\"Utilities\",\"Information Technology\",\"Information Technology\",\"Financials\",\"Industrials\",\"Consumer Discretionary\",\"Health Care\",\"Financials\",\"Health Care\"],\"x0\":\" \",\"xaxis\":\"x\",\"y\":[7.92,1.7,0.26,3.29,5.44,1.28,7.43,3.39,6.19,0.03,-1.72,5.75,12.07,11.01,2.1,13.66,1.79,8.28,5.66,1.57,1.77,2.84,2.37,38.35,14.13,1.65,4.68,22.27,22.27,5.31,6.16,2.68,3.91,1.24,2.9,-0.76,1.97,2.63,9.44,1.64,2.94,2.57,2.05,-5.9,2.11,6.13,2.99,14.36,4.66,-3.72,1.95,9.2,3.17,5.05,2.17,-0.21,2.54,9.08,4.76,-2.61,3.85,44.09,6.36,3.11,-0.31,0.85,1.55,1.29,2.74,4.65,9.76,3.81,11.94,30.3,1.92,13.47,0.55,2.93,0.07,-24.62,2.65,4.01,1.7,3.57,1.85,-0.92,0.74,2.89,3.45,4.04,3.97,3.58,1.26,2.27,1.69,2.81,3.58,3.23,1.0,1.16,1.84,-1.2,1.61,34.08,-6.44,4.85,0.8,8.2,2.92,7.2,-4.64,3.55,4.38,1.91,-3.1,3.27,-0.24,11.94,1.99,1.49,2.54,2.28,4.74,4.13,1.46,-11.04,-0.65,4.1,8.71,-0.78,6.09,-0.63,1.02,1.83,6.07,8.23,4.91,2.73,3.53,3.81,4.3,6.64,4.94,1.99,-6.89,2.19,5.41,1.96,1.96,3.06,4.43,3.77,4.91,5.15,1.59,4.54,4.82,3.12,0.88,-0.89,2.15,10.12,6.68,-1.07,4.14,3.96,2.88,3.07,2.35,-3.26,-0.48,-1.98,-2.69,4.04,1.77,1.63,6.27,3.35,23.71,2.96,1.23,1.81,2.36,5.39,2.92,1.88,6.51,5.39,2.01,3.5,11.07,1.72,2.85,-14.49,4.14,1.21,1.12,1.99,1.56,4.91,1.9,2.46,3.04,3.0,1.24,1.69,2.69,2.31,9.55,-0.72,1.34,2.77,6.0,4.6,9.95,1.58,8.61,4.74,10.02,-0.53,1.41,2.98,4.43,2.27,4.34,5.94,1.33,-1.2,3.1,-19.94,0.21,1.05,2.64,6.46,2.08,1.57,1.02,1.49,4.06,1.0,12.15,2.94,1.0,4.86,4.92,0.54,5.07,1.98,2.37,6.11,5.14,1.49,5.05,3.72,5.67,2.74,0.76,0.46,6.19,2.43,5.1,0.39,1.71,6.3,0.78,9.16,1.95,1.12,6.41,0.8,0.01,5.88,3.12,2.81,2.05,3.98,8.51,7.02,9.22,2.76,3.38,0.33,-0.2,9.24,1.5,6.83,1.93,3.46,12.25,8.69,3.43,1.98,-2.65,6.85,2.67,2.87,6.63,1.47,3.65,-3.06,3.73,6.36,22.74,2.89,1.4,0.63,14.24,1.92,3.31,0.66,4.36,2.97,2.86,12.48,9.27,1.91,5.09,1.19,1.35,3.09,-1.08,0.93,4.32,-6.4,1.01,1.81,1.25,1.17,-6.5,-1.18,-1.28,-1.28,11.39,1.39,2.51,1.02,-2.32,2.02,18.73,4.92,11.47,2.78,-2.23,4.1,2.57,10.73,-0.75,4.79,1.66,2.2,4.75,7.07,7.24,1.79,2.26,1.47,3.63,0.97,4.36,2.64,-28.01,3.51,2.78,4.48,9.93,3.95,-3.39,10.4,-1.19,6.31,2.79,4.32,42.66,4.5,5.6,2.73,3.06,9.73,1.75,6.81,1.44,6.77,-0.13,1.65,1.28,5.5,-2.79,4.12,6.95,1.12,1.68,1.43,7.74,1.0,1.77,2.41,2.32,6.35,4.8,9.38,2.83,7.53,7.95,0.27,0.62,4.16,-1.08,5.18,2.58,2.46,5.45,18.61,7.03,6.25,5.41,0.88,9.2,2.53,5.82,8.05,1.97,5.23,2.08,2.68,4.48,-0.17,2.41,0.87,2.08,4.75,2.09,4.71,4.71,0.0,3.6,1.14,3.73,5.33,7.52,3.66,0.85,7.31,5.7,5.6,3.55,6.62,3.46,4.5,3.16,3.3,7.92,0.81,1.59,1.59,4.79,3.52,1.08,6.52,0.45,0.45,13.52,7.05,10.71,5.62,15.72,5.7,7.14,4.38,2.55,9.24,2.69,1.86,3.43,3.45,7.36,1.04,4.68,2.8,4.33,3.1,4.39,3.78,2.66,0.19,3.79,4.07,2.81,1.29,0.51,2.77,0.77,4.51,-0.57,3.07,5.53,7.27,2.21,0.59,2.32,-2.24,1.83,4.07,9.01,2.6,1.65],\"y0\":\" \",\"yaxis\":\"y\",\"type\":\"violin\"}],                        {\"template\":{\"data\":{\"barpolar\":[{\"marker\":{\"line\":{\"color\":\"rgb(17,17,17)\",\"width\":0.5},\"pattern\":{\"fillmode\":\"overlay\",\"size\":10,\"solidity\":0.2}},\"type\":\"barpolar\"}],\"bar\":[{\"error_x\":{\"color\":\"#f2f5fa\"},\"error_y\":{\"color\":\"#f2f5fa\"},\"marker\":{\"line\":{\"color\":\"rgb(17,17,17)\",\"width\":0.5},\"pattern\":{\"fillmode\":\"overlay\",\"size\":10,\"solidity\":0.2}},\"type\":\"bar\"}],\"carpet\":[{\"aaxis\":{\"endlinecolor\":\"#A2B1C6\",\"gridcolor\":\"#506784\",\"linecolor\":\"#506784\",\"minorgridcolor\":\"#506784\",\"startlinecolor\":\"#A2B1C6\"},\"baxis\":{\"endlinecolor\":\"#A2B1C6\",\"gridcolor\":\"#506784\",\"linecolor\":\"#506784\",\"minorgridcolor\":\"#506784\",\"startlinecolor\":\"#A2B1C6\"},\"type\":\"carpet\"}],\"choropleth\":[{\"colorbar\":{\"outlinewidth\":0,\"ticks\":\"\"},\"type\":\"choropleth\"}],\"contourcarpet\":[{\"colorbar\":{\"outlinewidth\":0,\"ticks\":\"\"},\"type\":\"contourcarpet\"}],\"contour\":[{\"colorbar\":{\"outlinewidth\":0,\"ticks\":\"\"},\"colorscale\":[[0.0,\"#0d0887\"],[0.1111111111111111,\"#46039f\"],[0.2222222222222222,\"#7201a8\"],[0.3333333333333333,\"#9c179e\"],[0.4444444444444444,\"#bd3786\"],[0.5555555555555556,\"#d8576b\"],[0.6666666666666666,\"#ed7953\"],[0.7777777777777778,\"#fb9f3a\"],[0.8888888888888888,\"#fdca26\"],[1.0,\"#f0f921\"]],\"type\":\"contour\"}],\"heatmapgl\":[{\"colorbar\":{\"outlinewidth\":0,\"ticks\":\"\"},\"colorscale\":[[0.0,\"#0d0887\"],[0.1111111111111111,\"#46039f\"],[0.2222222222222222,\"#7201a8\"],[0.3333333333333333,\"#9c179e\"],[0.4444444444444444,\"#bd3786\"],[0.5555555555555556,\"#d8576b\"],[0.6666666666666666,\"#ed7953\"],[0.7777777777777778,\"#fb9f3a\"],[0.8888888888888888,\"#fdca26\"],[1.0,\"#f0f921\"]],\"type\":\"heatmapgl\"}],\"heatmap\":[{\"colorbar\":{\"outlinewidth\":0,\"ticks\":\"\"},\"colorscale\":[[0.0,\"#0d0887\"],[0.1111111111111111,\"#46039f\"],[0.2222222222222222,\"#7201a8\"],[0.3333333333333333,\"#9c179e\"],[0.4444444444444444,\"#bd3786\"],[0.5555555555555556,\"#d8576b\"],[0.6666666666666666,\"#ed7953\"],[0.7777777777777778,\"#fb9f3a\"],[0.8888888888888888,\"#fdca26\"],[1.0,\"#f0f921\"]],\"type\":\"heatmap\"}],\"histogram2dcontour\":[{\"colorbar\":{\"outlinewidth\":0,\"ticks\":\"\"},\"colorscale\":[[0.0,\"#0d0887\"],[0.1111111111111111,\"#46039f\"],[0.2222222222222222,\"#7201a8\"],[0.3333333333333333,\"#9c179e\"],[0.4444444444444444,\"#bd3786\"],[0.5555555555555556,\"#d8576b\"],[0.6666666666666666,\"#ed7953\"],[0.7777777777777778,\"#fb9f3a\"],[0.8888888888888888,\"#fdca26\"],[1.0,\"#f0f921\"]],\"type\":\"histogram2dcontour\"}],\"histogram2d\":[{\"colorbar\":{\"outlinewidth\":0,\"ticks\":\"\"},\"colorscale\":[[0.0,\"#0d0887\"],[0.1111111111111111,\"#46039f\"],[0.2222222222222222,\"#7201a8\"],[0.3333333333333333,\"#9c179e\"],[0.4444444444444444,\"#bd3786\"],[0.5555555555555556,\"#d8576b\"],[0.6666666666666666,\"#ed7953\"],[0.7777777777777778,\"#fb9f3a\"],[0.8888888888888888,\"#fdca26\"],[1.0,\"#f0f921\"]],\"type\":\"histogram2d\"}],\"histogram\":[{\"marker\":{\"pattern\":{\"fillmode\":\"overlay\",\"size\":10,\"solidity\":0.2}},\"type\":\"histogram\"}],\"mesh3d\":[{\"colorbar\":{\"outlinewidth\":0,\"ticks\":\"\"},\"type\":\"mesh3d\"}],\"parcoords\":[{\"line\":{\"colorbar\":{\"outlinewidth\":0,\"ticks\":\"\"}},\"type\":\"parcoords\"}],\"pie\":[{\"automargin\":true,\"type\":\"pie\"}],\"scatter3d\":[{\"line\":{\"colorbar\":{\"outlinewidth\":0,\"ticks\":\"\"}},\"marker\":{\"colorbar\":{\"outlinewidth\":0,\"ticks\":\"\"}},\"type\":\"scatter3d\"}],\"scattercarpet\":[{\"marker\":{\"colorbar\":{\"outlinewidth\":0,\"ticks\":\"\"}},\"type\":\"scattercarpet\"}],\"scattergeo\":[{\"marker\":{\"colorbar\":{\"outlinewidth\":0,\"ticks\":\"\"}},\"type\":\"scattergeo\"}],\"scattergl\":[{\"marker\":{\"line\":{\"color\":\"#283442\"}},\"type\":\"scattergl\"}],\"scattermapbox\":[{\"marker\":{\"colorbar\":{\"outlinewidth\":0,\"ticks\":\"\"}},\"type\":\"scattermapbox\"}],\"scatterpolargl\":[{\"marker\":{\"colorbar\":{\"outlinewidth\":0,\"ticks\":\"\"}},\"type\":\"scatterpolargl\"}],\"scatterpolar\":[{\"marker\":{\"colorbar\":{\"outlinewidth\":0,\"ticks\":\"\"}},\"type\":\"scatterpolar\"}],\"scatter\":[{\"marker\":{\"line\":{\"color\":\"#283442\"}},\"type\":\"scatter\"}],\"scatterternary\":[{\"marker\":{\"colorbar\":{\"outlinewidth\":0,\"ticks\":\"\"}},\"type\":\"scatterternary\"}],\"surface\":[{\"colorbar\":{\"outlinewidth\":0,\"ticks\":\"\"},\"colorscale\":[[0.0,\"#0d0887\"],[0.1111111111111111,\"#46039f\"],[0.2222222222222222,\"#7201a8\"],[0.3333333333333333,\"#9c179e\"],[0.4444444444444444,\"#bd3786\"],[0.5555555555555556,\"#d8576b\"],[0.6666666666666666,\"#ed7953\"],[0.7777777777777778,\"#fb9f3a\"],[0.8888888888888888,\"#fdca26\"],[1.0,\"#f0f921\"]],\"type\":\"surface\"}],\"table\":[{\"cells\":{\"fill\":{\"color\":\"#506784\"},\"line\":{\"color\":\"rgb(17,17,17)\"}},\"header\":{\"fill\":{\"color\":\"#2a3f5f\"},\"line\":{\"color\":\"rgb(17,17,17)\"}},\"type\":\"table\"}]},\"layout\":{\"annotationdefaults\":{\"arrowcolor\":\"#f2f5fa\",\"arrowhead\":0,\"arrowwidth\":1},\"autotypenumbers\":\"strict\",\"coloraxis\":{\"colorbar\":{\"outlinewidth\":0,\"ticks\":\"\"}},\"colorscale\":{\"diverging\":[[0,\"#8e0152\"],[0.1,\"#c51b7d\"],[0.2,\"#de77ae\"],[0.3,\"#f1b6da\"],[0.4,\"#fde0ef\"],[0.5,\"#f7f7f7\"],[0.6,\"#e6f5d0\"],[0.7,\"#b8e186\"],[0.8,\"#7fbc41\"],[0.9,\"#4d9221\"],[1,\"#276419\"]],\"sequential\":[[0.0,\"#0d0887\"],[0.1111111111111111,\"#46039f\"],[0.2222222222222222,\"#7201a8\"],[0.3333333333333333,\"#9c179e\"],[0.4444444444444444,\"#bd3786\"],[0.5555555555555556,\"#d8576b\"],[0.6666666666666666,\"#ed7953\"],[0.7777777777777778,\"#fb9f3a\"],[0.8888888888888888,\"#fdca26\"],[1.0,\"#f0f921\"]],\"sequentialminus\":[[0.0,\"#0d0887\"],[0.1111111111111111,\"#46039f\"],[0.2222222222222222,\"#7201a8\"],[0.3333333333333333,\"#9c179e\"],[0.4444444444444444,\"#bd3786\"],[0.5555555555555556,\"#d8576b\"],[0.6666666666666666,\"#ed7953\"],[0.7777777777777778,\"#fb9f3a\"],[0.8888888888888888,\"#fdca26\"],[1.0,\"#f0f921\"]]},\"colorway\":[\"#636efa\",\"#EF553B\",\"#00cc96\",\"#ab63fa\",\"#FFA15A\",\"#19d3f3\",\"#FF6692\",\"#B6E880\",\"#FF97FF\",\"#FECB52\"],\"font\":{\"color\":\"#f2f5fa\"},\"geo\":{\"bgcolor\":\"rgb(17,17,17)\",\"lakecolor\":\"rgb(17,17,17)\",\"landcolor\":\"rgb(17,17,17)\",\"showlakes\":true,\"showland\":true,\"subunitcolor\":\"#506784\"},\"hoverlabel\":{\"align\":\"left\"},\"hovermode\":\"closest\",\"mapbox\":{\"style\":\"dark\"},\"paper_bgcolor\":\"rgb(17,17,17)\",\"plot_bgcolor\":\"rgb(17,17,17)\",\"polar\":{\"angularaxis\":{\"gridcolor\":\"#506784\",\"linecolor\":\"#506784\",\"ticks\":\"\"},\"bgcolor\":\"rgb(17,17,17)\",\"radialaxis\":{\"gridcolor\":\"#506784\",\"linecolor\":\"#506784\",\"ticks\":\"\"}},\"scene\":{\"xaxis\":{\"backgroundcolor\":\"rgb(17,17,17)\",\"gridcolor\":\"#506784\",\"gridwidth\":2,\"linecolor\":\"#506784\",\"showbackground\":true,\"ticks\":\"\",\"zerolinecolor\":\"#C8D4E3\"},\"yaxis\":{\"backgroundcolor\":\"rgb(17,17,17)\",\"gridcolor\":\"#506784\",\"gridwidth\":2,\"linecolor\":\"#506784\",\"showbackground\":true,\"ticks\":\"\",\"zerolinecolor\":\"#C8D4E3\"},\"zaxis\":{\"backgroundcolor\":\"rgb(17,17,17)\",\"gridcolor\":\"#506784\",\"gridwidth\":2,\"linecolor\":\"#506784\",\"showbackground\":true,\"ticks\":\"\",\"zerolinecolor\":\"#C8D4E3\"}},\"shapedefaults\":{\"line\":{\"color\":\"#f2f5fa\"}},\"sliderdefaults\":{\"bgcolor\":\"#C8D4E3\",\"bordercolor\":\"rgb(17,17,17)\",\"borderwidth\":1,\"tickwidth\":0},\"ternary\":{\"aaxis\":{\"gridcolor\":\"#506784\",\"linecolor\":\"#506784\",\"ticks\":\"\"},\"baxis\":{\"gridcolor\":\"#506784\",\"linecolor\":\"#506784\",\"ticks\":\"\"},\"bgcolor\":\"rgb(17,17,17)\",\"caxis\":{\"gridcolor\":\"#506784\",\"linecolor\":\"#506784\",\"ticks\":\"\"}},\"title\":{\"x\":0.05},\"updatemenudefaults\":{\"bgcolor\":\"#506784\",\"borderwidth\":0},\"xaxis\":{\"automargin\":true,\"gridcolor\":\"#283442\",\"linecolor\":\"#506784\",\"ticks\":\"\",\"title\":{\"standoff\":15},\"zerolinecolor\":\"#283442\",\"zerolinewidth\":2},\"yaxis\":{\"automargin\":true,\"gridcolor\":\"#283442\",\"linecolor\":\"#506784\",\"ticks\":\"\",\"title\":{\"standoff\":15},\"zerolinecolor\":\"#283442\",\"zerolinewidth\":2}}},\"xaxis\":{\"anchor\":\"y\",\"domain\":[0.0,1.0],\"title\":{\"text\":\"Sector\"}},\"yaxis\":{\"anchor\":\"x\",\"domain\":[0.0,1.0],\"title\":{\"text\":\"Earnings/Share\"}},\"legend\":{\"tracegroupgap\":0},\"margin\":{\"t\":60},\"violinmode\":\"group\",\"width\":1200,\"height\":800},                        {\"responsive\": true}                    ).then(function(){\n",
       "                            \n",
       "var gd = document.getElementById('d1d63f21-0c24-45b1-92f5-5b2240a6d647');\n",
       "var x = new MutationObserver(function (mutations, observer) {{\n",
       "        var display = window.getComputedStyle(gd).display;\n",
       "        if (!display || display === 'none') {{\n",
       "            console.log([gd, 'removed!']);\n",
       "            Plotly.purge(gd);\n",
       "            observer.disconnect();\n",
       "        }}\n",
       "}});\n",
       "\n",
       "// Listen for the removal of the full notebook cells\n",
       "var notebookContainer = gd.closest('#notebook-container');\n",
       "if (notebookContainer) {{\n",
       "    x.observe(notebookContainer, {childList: true});\n",
       "}}\n",
       "\n",
       "// Listen for the clearing of the current output cell\n",
       "var outputEl = gd.closest('.output');\n",
       "if (outputEl) {{\n",
       "    x.observe(outputEl, {childList: true});\n",
       "}}\n",
       "\n",
       "                        })                };                });            </script>        </div>"
      ]
     },
     "metadata": {},
     "output_type": "display_data"
    }
   ],
   "source": [
    "fig = px.violin(SnP_500, y='Earnings/Share', x='Sector', color_discrete_sequence=['firebrick'],points=\"all\")\n",
    "fig.update_layout(width=1200, height=800, template = \"plotly_dark\")\n",
    "fig.show()"
   ]
  },
  {
   "attachments": {},
   "cell_type": "markdown",
   "metadata": {},
   "source": [
    "Both violin plots and box plots serve as valuable tools in exploratory data analysis, helping to identify central tendencies, dispersion, skewness, and potential outliers in a dataset. The choice between the two depends on the specific requirements and the level of detail desired in visualizing the data distribution."
   ]
  },
  {
   "attachments": {},
   "cell_type": "markdown",
   "metadata": {},
   "source": [
    "### Histogram"
   ]
  },
  {
   "attachments": {},
   "cell_type": "markdown",
   "metadata": {},
   "source": [
    "A histogram is a graphical representation that displays the distribution of a dataset. It consists of a series of bars, where each bar represents a range of values and the height of the bar corresponds to the frequency or count of observations falling within that range. Histograms provide a visual depiction of the data's frequency distribution, allowing us to identify patterns, skewness, and central tendencies. They are particularly useful for understanding the shape of the data and detecting any outliers or unusual patterns. By examining the histogram, we can gain insights into the underlying characteristics and distribution of the variable being analyzed"
   ]
  },
  {
   "attachments": {},
   "cell_type": "markdown",
   "metadata": {},
   "source": [
    "When we plot the weekly distribution of returns for the MSCI World Index, we can observe that most of the data points are situated around -1.5% to 2.5%. Additionally, we can identify outliers scattered along the distribution, indicating extreme or unusual returns compared to the majority of data points. "
   ]
  },
  {
   "cell_type": "code",
   "execution_count": 51,
   "metadata": {},
   "outputs": [
    {
     "name": "stdout",
     "output_type": "stream",
     "text": [
      "[*********************100%***********************]  1 of 1 completed\n"
     ]
    }
   ],
   "source": [
    "world = yf.download('IXUS', \"2013-01-01\", \"2022-06-01\",interval=\"1wk\")['Adj Close']\n",
    "world_returns = world.pct_change(1).dropna()   "
   ]
  },
  {
   "cell_type": "code",
   "execution_count": 64,
   "metadata": {},
   "outputs": [
    {
     "data": {
      "application/vnd.plotly.v1+json": {
       "config": {
        "plotlyServerURL": "https://plot.ly"
       },
       "data": [
        {
         "alignmentgroup": "True",
         "bingroup": "x",
         "hovertemplate": "x=%{x}<br>count=%{y}<extra></extra>",
         "legendgroup": "",
         "marker": {
          "color": "firebrick",
          "pattern": {
           "shape": ""
          }
         },
         "name": "",
         "nbinsx": 80,
         "offsetgroup": "",
         "orientation": "v",
         "showlegend": false,
         "type": "histogram",
         "x": [
          0.011941430273306741,
          -0.0024744295102016034,
          -0.0019078958453192518,
          0.0009559611098328702,
          0.0009546691336217439,
          0.0011450593391955088,
          -0.021536285475078798,
          0.012855457919220603,
          0.020192192750284166,
          -0.01036730170827671,
          -0.009904880265475757,
          -0.001346460463900856,
          -0.00019295215264458765,
          -0.001926548371849135,
          0.007335877014545744,
          0.033921053477234286,
          0.012604385585398337,
          0.0018302732369555041,
          0.008587610853057814,
          -0.029166762530340895,
          -0.013995069232916935,
          -0.009651873836515668,
          -0.001528858616555051,
          -0.05990420863888257,
          0.019747634107632805,
          0.020232020510126514,
          0.03784112952092911,
          0.012473537204774843,
          -0.010424778232915988,
          0.012832790581606579,
          0.005106128497167184,
          -0.011477010946120414,
          -0.0009517429494345642,
          -0.024385564669857085,
          0.050185479082752726,
          0.018780322234779767,
          0.01405364608020232,
          -0.00827923533423558,
          -0.0043557433686131075,
          0.02169141119981921,
          0.020160729979235237,
          0,
          -0.006120984185653211,
          -0.012141537658219015,
          0.01531878790236152,
          -0.006491086599413887,
          -0.0008831770480351997,
          -0.002650925597050491,
          -0.012936492944049194,
          0.013824395229744546,
          0.022230972655548076,
          -0.016204827588652715,
          0.004427822265708814,
          0.0059953742255305364,
          -0.038737940368055335,
          -0.02334070732923943,
          0.034914332332698805,
          0.025978469821652972,
          0.011429735154385723,
          -0.018428300766623606,
          0.015054715863738188,
          -0.01518073303826728,
          -0.0054925878140484885,
          0.029752576125160024,
          0,
          -0.004671426095782194,
          0.012341493384969038,
          -0.002403810351428115,
          0.00946659372524139,
          0.006990481473687193,
          -0.0016933556018046136,
          0.00661486149787005,
          0.007245163903105034,
          0.011374963876683353,
          -0.005458084169015165,
          0.008647984061817215,
          -0.016653018528895114,
          0.02308795965719268,
          -0.0073284503999729855,
          -0.0016780275280039447,
          0.007226829136355528,
          -0.020356842472349146,
          -0.010730677235828434,
          0.014462710177343574,
          0.0054311909677347,
          0.0015190320501112797,
          -0.006404704236012915,
          -0.01374048543050077,
          -0.008427943551264194,
          -0.023243609229521178,
          -0.012253892655294085,
          -0.04207109115010155,
          0.01163661819336137,
          0.010204175514720637,
          0.02038566793500385,
          -0.005399788893468926,
          -0.0009046494789592963,
          0.01720718553772138,
          -0.010149715111580138,
          -0.010433403772854621,
          -0.0530813559947898,
          0.0314840013676041,
          0.010784908582622155,
          -0.03241417075933395,
          0.003658094393607758,
          0.018415565737252892,
          0.021096015206005125,
          -0.0051650419969930805,
          0.003337754192096254,
          0.022176974191173038,
          0.009763087799450787,
          0.00716221562274888,
          -0.023466739818602034,
          -0.004551218019679615,
          0.03346722568057636,
          -0.00920172741936287,
          0.017503141885265805,
          0.005441379301216243,
          0.004713614609366701,
          0.024500514093870107,
          -0.007801853496761324,
          -0.005299147020614514,
          0.013060680673221858,
          -0.0033925880976394263,
          -0.02621275286249858,
          -0.012235938902027788,
          0.001061872505241812,
          0.020152093598931886,
          -0.046785664555967,
          0.0003733761393627244,
          0.019723568403990477,
          0.004880514735988273,
          -0.034718300365217836,
          0.013417755561422329,
          0.014159686417216877,
          -0.02592944430562505,
          -0.09623962164166366,
          0.04675578737696817,
          -0.04053531205082028,
          0.023790191906919222,
          0.0020032039349653363,
          -0.043982380890766115,
          0.06085313251016178,
          0.024048909459653434,
          0.0017323714215060626,
          0.009415855882398905,
          -0.0032362353637941377,
          -0.023300340593404356,
          -0.0066483041904658036,
          0.010826719982000688,
          -0.0015578082867040433,
          -0.008192046850844958,
          -0.03618491233594079,
          -0.001020057303330657,
          0.029161388379420172,
          -0.0253013381331052,
          -0.04882575846444581,
          -0.034871119778581705,
          0.007405726515332889,
          0.03809310550051315,
          -0.03841194596856767,
          -0.01428263265522578,
          0.04935475543957102,
          -0.011866074214976763,
          0.05414854683403991,
          0.013670220390074261,
          0.012055441349930085,
          -0.014536498624162841,
          0.0010244260076823775,
          0.0026607442527699643,
          0.03531308375342257,
          0.003549109137482631,
          -0.0009825424818133977,
          -0.0330384372152297,
          0.0065082694217522,
          -0.00889078502885332,
          0.0230375866756678,
          0.015942589984543787,
          -0.040407943630681786,
          0.023712232430828983,
          -0.07687713862930035,
          0.07863756276746292,
          0.003664726008411945,
          0.020283791225578662,
          -0.003976323532466686,
          0.012175765408247496,
          0.008085303420987344,
          0.02269161931319208,
          -0.008033709532411892,
          -0.004049211915240436,
          0.012584815041314812,
          -0.006309859271871887,
          -0.015970731640234326,
          0.012319102405629057,
          0.009271692256181963,
          -0.003062114849521236,
          -0.021693333226812994,
          0.013540144754384364,
          -0.007163623526440288,
          -0.006435280030167467,
          -0.02708542521731183,
          0.00504348787801745,
          0.0028099803558321312,
          0.008406772172327326,
          0.018658245102672,
          -0.01266565058708391,
          -0.01045977238262652,
          0.01793923155340238,
          0.02039996096973362,
          0.014363280030329051,
          0.0005741019649614376,
          0.003251035550365877,
          0.005718791320838967,
          0.01364668134245095,
          0.0024306884393074935,
          -0.003544084543873449,
          0.0020591626245105576,
          0.008406551872613743,
          0.017599124234115138,
          0.0001819839920884636,
          -0.0005460969785158198,
          -0.006920274519461422,
          0.0075187013602773245,
          0.01729168640040979,
          0.006977948651066379,
          0.009772527204125803,
          0.011437812519241586,
          0.006088971680213495,
          0.0008645996951384127,
          0.01019360229404187,
          -0.010090741290474603,
          0.008120170012170025,
          -0.013881555744664431,
          0.010539002287253352,
          -0.001567803399162182,
          0.024249973466655916,
          0.006131749691809629,
          0.005586689952020718,
          0.008922617297107083,
          -0.015518232900806339,
          -0.0008473544435114722,
          0.012892344334450856,
          0.005526586147538204,
          0.013157925719585517,
          0.0034523172555653847,
          -0.007372257189483422,
          0.006436592195065094,
          0.0029518917856061755,
          0.018312601699955966,
          -0.008670542168516593,
          0.0024294619869809075,
          0.011310583104010785,
          -0.012941396034868435,
          0.0053414841250782885,
          0.009016144598607223,
          -0.008456912242554737,
          0.004827860004928519,
          0.009448924418298255,
          -0.006822116923299482,
          0.020261258150246375,
          0.032339898755198826,
          0.01274567363661916,
          0.015466268700482733,
          0.0035836726513560624,
          -0.06859097845191153,
          -0.00015983058097823744,
          0.030675994140606955,
          0.009300759481307264,
          -0.0317922795922414,
          0.019987362326151503,
          -0.016174288862640274,
          -0.007113474643593354,
          -0.01209991157775625,
          0.01305385680214921,
          0.01384024990653221,
          -0.003765796630549656,
          -0.0026775881473564134,
          0.00015794426579618381,
          0.016106048475444723,
          -0.006216037037873323,
          -0.014698930691599221,
          0.0022220293990409257,
          0.005542239103291768,
          -0.023307152624598926,
          -0.033537650566172306,
          0.005943438187704153,
          0.026585714167859598,
          -0.006556252400279461,
          0.0019797284323488373,
          0.013008523206500033,
          -0.01414163106930777,
          -0.02275349053307074,
          0.002699533301391499,
          0.026081027470906015,
          -0.01311902482524352,
          -0.028414846685034578,
          0.01419524575337161,
          0.020067529991491195,
          -0.0006612186045585888,
          -0.03358146622992619,
          -0.03355016048359971,
          -0.0028340409104335995,
          -0.04049716848451035,
          0.04479825217942168,
          -0.02197024699982808,
          0.00652181348596681,
          0.0016198307034629433,
          0.021383571002414392,
          -0.05436313497001499,
          -0.007069817296307956,
          -0.04721751701529964,
          0.04648970463682511,
          0.023034396743658148,
          0.013211718989716958,
          0.023691517577006715,
          -0.0005382640052797871,
          0.018488699055903668,
          -0.01780065380750462,
          0.020455952698004376,
          0.017935470587651325,
          -0.004145672700647363,
          -0.004683361642696671,
          0.02195872469459048,
          -0.018758394225214636,
          0.02259292363308929,
          0.010197098250700476,
          0.0020188905472910967,
          0.0016789477529621788,
          -0.0006705530707210583,
          -0.008554060070257719,
          -0.04330910728483672,
          0.005128214368189443,
          0.0021110900646115205,
          -0.005091301765692169,
          0.027174921151007947,
          -0.025253301372711423,
          0.04806794569910933,
          0.009572642885006033,
          -0.006264843938609821,
          0.0034077434651174077,
          -0.0030565389857118985,
          -0.0020438926152535064,
          -0.05905447937729058,
          0.005260260432019104,
          0.005593555982358112,
          -0.005024146132343477,
          0.01496845992183271,
          0.023276498977563342,
          0.010765652079384846,
          -0.0008588892526486536,
          -0.006877595093652822,
          -0.012984650349797011,
          0.01736522269898333,
          0.019827633321996885,
          0.008960277255068094,
          0.014912791312035933,
          -0.0016509173440854008,
          0.0013230284089893463,
          0.0019817825268886313,
          -0.011208118847445436,
          0.00966814682817918,
          0.015024085617402205,
          0.018688669005589187,
          0.001460070716903017,
          0.003888000754307619,
          0.011134353882391368,
          0.005904816558597981,
          -0.03918759927687532,
          -0.009246997883541996,
          0.02016658503957247,
          0.006861618892935573,
          -0.05111143451232192,
          -0.030950832430067687,
          -0.10005279710411619,
          -0.17411775401639307,
          -0.031338925408517126,
          0.15269612107592367,
          0.003402085021447787,
          0.03263385943985764,
          0.0036938567057573923,
          0.016765527511833023,
          -0.010255347600102493,
          0.027631181385330494,
          0.01166453558270919,
          -0.010748595676205785,
          0.06598191295253142,
          0.06152710541651274,
          -0.054294738540197396,
          0.03152526998630112,
          -0.011386203144388207,
          0.039670778316466704,
          -0.01055026081499788,
          0.02487995611410798,
          0.007976479203619657,
          -0.007569217205018464,
          0.010573717479045674,
          0.01886796931489676,
          0.0006732926077870349,
          -0.001177640470842567,
          -0.006905868270698168,
          0.008650098264878725,
          -0.021355333334108995,
          0.0024053919383180133,
          0.01714093955985696,
          0.023255718245364543,
          -0.021903760894367075,
          -0.005893159398208336,
          -0.02184970615291959,
          0.08415595011277754,
          0.022520358209576097,
          0.00515447957812043,
          -0.0021754431594159795,
          0.031926534183737365,
          -0.011470030004824494,
          0.01602687486597154,
          0.012910374022389037,
          0.013345035861130894,
          0.022935907733449,
          -0.00043395683708025157,
          0.015195432955271482,
          -0.023235982134574784,
          0.03137765836160056,
          0.018253855289040333,
          -0.012506937448861,
          -0.007458534638778991,
          -0.024528414564701784,
          0.031685994380315385,
          -0.0004227597703345687,
          -0.009443130880531725,
          0.02418892218938007,
          -0.007085279913087161,
          0.018329211157673386,
          0.004671673258626496,
          -0.004923321199788,
          0.008383606154914292,
          -0.00981320111052586,
          0.01335169370431566,
          0.010730942417300326,
          0.015051382570999916,
          -0.009664995927379683,
          -0.008676183052248931,
          0.006138310248100964,
          -0.0031182755537861873,
          -0.0023119936389043305,
          -0.032442701694550324,
          0.018173957757500414,
          0.007195285302773913,
          0.00315983017621968,
          0.0015065151108393238,
          -0.012853837653040712,
          0.015099058168714263,
          0.020605881095745238,
          -0.006150555698390403,
          -0.03874611396965644,
          0.017914554975549057,
          -0.03148620841713734,
          0.008659737459991268,
          0.026319632113938507,
          0.008776651850195494,
          0.0023111589295194968,
          0.005696323987659957,
          -0.002697161044180829,
          -0.020689762099875386,
          -0.02858321464798219,
          0.002132193990153297,
          -0.014326422333728162,
          0.0056428608094334365,
          0.03613062988336435,
          0.0026714772464233594,
          -0.012405711297009181,
          0.015780416749676007,
          -0.042827117810240956,
          0.007457243432038352,
          0.0029028403848188056,
          -0.010275058114849633,
          0.0020471984082930383,
          -0.02597413699559481,
          -0.07805234964908125,
          0.015112075882588005,
          0.06114940505113231,
          0.004223867076036614,
          0.018626834610323773,
          -0.03657267080645177,
          -0.0050512127800890205,
          -0.029384639354357756,
          -0.017118455886517836,
          -0.05095952638524359,
          0.02107058793625982,
          0.027958077962084937,
          0.018617380297714536,
          -0.006993020015199081
         ],
         "xaxis": "x",
         "yaxis": "y"
        }
       ],
       "layout": {
        "barmode": "relative",
        "height": 900,
        "legend": {
         "tracegroupgap": 0
        },
        "margin": {
         "t": 60
        },
        "template": {
         "data": {
          "bar": [
           {
            "error_x": {
             "color": "#f2f5fa"
            },
            "error_y": {
             "color": "#f2f5fa"
            },
            "marker": {
             "line": {
              "color": "rgb(17,17,17)",
              "width": 0.5
             },
             "pattern": {
              "fillmode": "overlay",
              "size": 10,
              "solidity": 0.2
             }
            },
            "type": "bar"
           }
          ],
          "barpolar": [
           {
            "marker": {
             "line": {
              "color": "rgb(17,17,17)",
              "width": 0.5
             },
             "pattern": {
              "fillmode": "overlay",
              "size": 10,
              "solidity": 0.2
             }
            },
            "type": "barpolar"
           }
          ],
          "carpet": [
           {
            "aaxis": {
             "endlinecolor": "#A2B1C6",
             "gridcolor": "#506784",
             "linecolor": "#506784",
             "minorgridcolor": "#506784",
             "startlinecolor": "#A2B1C6"
            },
            "baxis": {
             "endlinecolor": "#A2B1C6",
             "gridcolor": "#506784",
             "linecolor": "#506784",
             "minorgridcolor": "#506784",
             "startlinecolor": "#A2B1C6"
            },
            "type": "carpet"
           }
          ],
          "choropleth": [
           {
            "colorbar": {
             "outlinewidth": 0,
             "ticks": ""
            },
            "type": "choropleth"
           }
          ],
          "contour": [
           {
            "colorbar": {
             "outlinewidth": 0,
             "ticks": ""
            },
            "colorscale": [
             [
              0,
              "#0d0887"
             ],
             [
              0.1111111111111111,
              "#46039f"
             ],
             [
              0.2222222222222222,
              "#7201a8"
             ],
             [
              0.3333333333333333,
              "#9c179e"
             ],
             [
              0.4444444444444444,
              "#bd3786"
             ],
             [
              0.5555555555555556,
              "#d8576b"
             ],
             [
              0.6666666666666666,
              "#ed7953"
             ],
             [
              0.7777777777777778,
              "#fb9f3a"
             ],
             [
              0.8888888888888888,
              "#fdca26"
             ],
             [
              1,
              "#f0f921"
             ]
            ],
            "type": "contour"
           }
          ],
          "contourcarpet": [
           {
            "colorbar": {
             "outlinewidth": 0,
             "ticks": ""
            },
            "type": "contourcarpet"
           }
          ],
          "heatmap": [
           {
            "colorbar": {
             "outlinewidth": 0,
             "ticks": ""
            },
            "colorscale": [
             [
              0,
              "#0d0887"
             ],
             [
              0.1111111111111111,
              "#46039f"
             ],
             [
              0.2222222222222222,
              "#7201a8"
             ],
             [
              0.3333333333333333,
              "#9c179e"
             ],
             [
              0.4444444444444444,
              "#bd3786"
             ],
             [
              0.5555555555555556,
              "#d8576b"
             ],
             [
              0.6666666666666666,
              "#ed7953"
             ],
             [
              0.7777777777777778,
              "#fb9f3a"
             ],
             [
              0.8888888888888888,
              "#fdca26"
             ],
             [
              1,
              "#f0f921"
             ]
            ],
            "type": "heatmap"
           }
          ],
          "heatmapgl": [
           {
            "colorbar": {
             "outlinewidth": 0,
             "ticks": ""
            },
            "colorscale": [
             [
              0,
              "#0d0887"
             ],
             [
              0.1111111111111111,
              "#46039f"
             ],
             [
              0.2222222222222222,
              "#7201a8"
             ],
             [
              0.3333333333333333,
              "#9c179e"
             ],
             [
              0.4444444444444444,
              "#bd3786"
             ],
             [
              0.5555555555555556,
              "#d8576b"
             ],
             [
              0.6666666666666666,
              "#ed7953"
             ],
             [
              0.7777777777777778,
              "#fb9f3a"
             ],
             [
              0.8888888888888888,
              "#fdca26"
             ],
             [
              1,
              "#f0f921"
             ]
            ],
            "type": "heatmapgl"
           }
          ],
          "histogram": [
           {
            "marker": {
             "pattern": {
              "fillmode": "overlay",
              "size": 10,
              "solidity": 0.2
             }
            },
            "type": "histogram"
           }
          ],
          "histogram2d": [
           {
            "colorbar": {
             "outlinewidth": 0,
             "ticks": ""
            },
            "colorscale": [
             [
              0,
              "#0d0887"
             ],
             [
              0.1111111111111111,
              "#46039f"
             ],
             [
              0.2222222222222222,
              "#7201a8"
             ],
             [
              0.3333333333333333,
              "#9c179e"
             ],
             [
              0.4444444444444444,
              "#bd3786"
             ],
             [
              0.5555555555555556,
              "#d8576b"
             ],
             [
              0.6666666666666666,
              "#ed7953"
             ],
             [
              0.7777777777777778,
              "#fb9f3a"
             ],
             [
              0.8888888888888888,
              "#fdca26"
             ],
             [
              1,
              "#f0f921"
             ]
            ],
            "type": "histogram2d"
           }
          ],
          "histogram2dcontour": [
           {
            "colorbar": {
             "outlinewidth": 0,
             "ticks": ""
            },
            "colorscale": [
             [
              0,
              "#0d0887"
             ],
             [
              0.1111111111111111,
              "#46039f"
             ],
             [
              0.2222222222222222,
              "#7201a8"
             ],
             [
              0.3333333333333333,
              "#9c179e"
             ],
             [
              0.4444444444444444,
              "#bd3786"
             ],
             [
              0.5555555555555556,
              "#d8576b"
             ],
             [
              0.6666666666666666,
              "#ed7953"
             ],
             [
              0.7777777777777778,
              "#fb9f3a"
             ],
             [
              0.8888888888888888,
              "#fdca26"
             ],
             [
              1,
              "#f0f921"
             ]
            ],
            "type": "histogram2dcontour"
           }
          ],
          "mesh3d": [
           {
            "colorbar": {
             "outlinewidth": 0,
             "ticks": ""
            },
            "type": "mesh3d"
           }
          ],
          "parcoords": [
           {
            "line": {
             "colorbar": {
              "outlinewidth": 0,
              "ticks": ""
             }
            },
            "type": "parcoords"
           }
          ],
          "pie": [
           {
            "automargin": true,
            "type": "pie"
           }
          ],
          "scatter": [
           {
            "marker": {
             "line": {
              "color": "#283442"
             }
            },
            "type": "scatter"
           }
          ],
          "scatter3d": [
           {
            "line": {
             "colorbar": {
              "outlinewidth": 0,
              "ticks": ""
             }
            },
            "marker": {
             "colorbar": {
              "outlinewidth": 0,
              "ticks": ""
             }
            },
            "type": "scatter3d"
           }
          ],
          "scattercarpet": [
           {
            "marker": {
             "colorbar": {
              "outlinewidth": 0,
              "ticks": ""
             }
            },
            "type": "scattercarpet"
           }
          ],
          "scattergeo": [
           {
            "marker": {
             "colorbar": {
              "outlinewidth": 0,
              "ticks": ""
             }
            },
            "type": "scattergeo"
           }
          ],
          "scattergl": [
           {
            "marker": {
             "line": {
              "color": "#283442"
             }
            },
            "type": "scattergl"
           }
          ],
          "scattermapbox": [
           {
            "marker": {
             "colorbar": {
              "outlinewidth": 0,
              "ticks": ""
             }
            },
            "type": "scattermapbox"
           }
          ],
          "scatterpolar": [
           {
            "marker": {
             "colorbar": {
              "outlinewidth": 0,
              "ticks": ""
             }
            },
            "type": "scatterpolar"
           }
          ],
          "scatterpolargl": [
           {
            "marker": {
             "colorbar": {
              "outlinewidth": 0,
              "ticks": ""
             }
            },
            "type": "scatterpolargl"
           }
          ],
          "scatterternary": [
           {
            "marker": {
             "colorbar": {
              "outlinewidth": 0,
              "ticks": ""
             }
            },
            "type": "scatterternary"
           }
          ],
          "surface": [
           {
            "colorbar": {
             "outlinewidth": 0,
             "ticks": ""
            },
            "colorscale": [
             [
              0,
              "#0d0887"
             ],
             [
              0.1111111111111111,
              "#46039f"
             ],
             [
              0.2222222222222222,
              "#7201a8"
             ],
             [
              0.3333333333333333,
              "#9c179e"
             ],
             [
              0.4444444444444444,
              "#bd3786"
             ],
             [
              0.5555555555555556,
              "#d8576b"
             ],
             [
              0.6666666666666666,
              "#ed7953"
             ],
             [
              0.7777777777777778,
              "#fb9f3a"
             ],
             [
              0.8888888888888888,
              "#fdca26"
             ],
             [
              1,
              "#f0f921"
             ]
            ],
            "type": "surface"
           }
          ],
          "table": [
           {
            "cells": {
             "fill": {
              "color": "#506784"
             },
             "line": {
              "color": "rgb(17,17,17)"
             }
            },
            "header": {
             "fill": {
              "color": "#2a3f5f"
             },
             "line": {
              "color": "rgb(17,17,17)"
             }
            },
            "type": "table"
           }
          ]
         },
         "layout": {
          "annotationdefaults": {
           "arrowcolor": "#f2f5fa",
           "arrowhead": 0,
           "arrowwidth": 1
          },
          "autotypenumbers": "strict",
          "coloraxis": {
           "colorbar": {
            "outlinewidth": 0,
            "ticks": ""
           }
          },
          "colorscale": {
           "diverging": [
            [
             0,
             "#8e0152"
            ],
            [
             0.1,
             "#c51b7d"
            ],
            [
             0.2,
             "#de77ae"
            ],
            [
             0.3,
             "#f1b6da"
            ],
            [
             0.4,
             "#fde0ef"
            ],
            [
             0.5,
             "#f7f7f7"
            ],
            [
             0.6,
             "#e6f5d0"
            ],
            [
             0.7,
             "#b8e186"
            ],
            [
             0.8,
             "#7fbc41"
            ],
            [
             0.9,
             "#4d9221"
            ],
            [
             1,
             "#276419"
            ]
           ],
           "sequential": [
            [
             0,
             "#0d0887"
            ],
            [
             0.1111111111111111,
             "#46039f"
            ],
            [
             0.2222222222222222,
             "#7201a8"
            ],
            [
             0.3333333333333333,
             "#9c179e"
            ],
            [
             0.4444444444444444,
             "#bd3786"
            ],
            [
             0.5555555555555556,
             "#d8576b"
            ],
            [
             0.6666666666666666,
             "#ed7953"
            ],
            [
             0.7777777777777778,
             "#fb9f3a"
            ],
            [
             0.8888888888888888,
             "#fdca26"
            ],
            [
             1,
             "#f0f921"
            ]
           ],
           "sequentialminus": [
            [
             0,
             "#0d0887"
            ],
            [
             0.1111111111111111,
             "#46039f"
            ],
            [
             0.2222222222222222,
             "#7201a8"
            ],
            [
             0.3333333333333333,
             "#9c179e"
            ],
            [
             0.4444444444444444,
             "#bd3786"
            ],
            [
             0.5555555555555556,
             "#d8576b"
            ],
            [
             0.6666666666666666,
             "#ed7953"
            ],
            [
             0.7777777777777778,
             "#fb9f3a"
            ],
            [
             0.8888888888888888,
             "#fdca26"
            ],
            [
             1,
             "#f0f921"
            ]
           ]
          },
          "colorway": [
           "#636efa",
           "#EF553B",
           "#00cc96",
           "#ab63fa",
           "#FFA15A",
           "#19d3f3",
           "#FF6692",
           "#B6E880",
           "#FF97FF",
           "#FECB52"
          ],
          "font": {
           "color": "#f2f5fa"
          },
          "geo": {
           "bgcolor": "rgb(17,17,17)",
           "lakecolor": "rgb(17,17,17)",
           "landcolor": "rgb(17,17,17)",
           "showlakes": true,
           "showland": true,
           "subunitcolor": "#506784"
          },
          "hoverlabel": {
           "align": "left"
          },
          "hovermode": "closest",
          "mapbox": {
           "style": "dark"
          },
          "paper_bgcolor": "rgb(17,17,17)",
          "plot_bgcolor": "rgb(17,17,17)",
          "polar": {
           "angularaxis": {
            "gridcolor": "#506784",
            "linecolor": "#506784",
            "ticks": ""
           },
           "bgcolor": "rgb(17,17,17)",
           "radialaxis": {
            "gridcolor": "#506784",
            "linecolor": "#506784",
            "ticks": ""
           }
          },
          "scene": {
           "xaxis": {
            "backgroundcolor": "rgb(17,17,17)",
            "gridcolor": "#506784",
            "gridwidth": 2,
            "linecolor": "#506784",
            "showbackground": true,
            "ticks": "",
            "zerolinecolor": "#C8D4E3"
           },
           "yaxis": {
            "backgroundcolor": "rgb(17,17,17)",
            "gridcolor": "#506784",
            "gridwidth": 2,
            "linecolor": "#506784",
            "showbackground": true,
            "ticks": "",
            "zerolinecolor": "#C8D4E3"
           },
           "zaxis": {
            "backgroundcolor": "rgb(17,17,17)",
            "gridcolor": "#506784",
            "gridwidth": 2,
            "linecolor": "#506784",
            "showbackground": true,
            "ticks": "",
            "zerolinecolor": "#C8D4E3"
           }
          },
          "shapedefaults": {
           "line": {
            "color": "#f2f5fa"
           }
          },
          "sliderdefaults": {
           "bgcolor": "#C8D4E3",
           "bordercolor": "rgb(17,17,17)",
           "borderwidth": 1,
           "tickwidth": 0
          },
          "ternary": {
           "aaxis": {
            "gridcolor": "#506784",
            "linecolor": "#506784",
            "ticks": ""
           },
           "baxis": {
            "gridcolor": "#506784",
            "linecolor": "#506784",
            "ticks": ""
           },
           "bgcolor": "rgb(17,17,17)",
           "caxis": {
            "gridcolor": "#506784",
            "linecolor": "#506784",
            "ticks": ""
           }
          },
          "title": {
           "x": 0.05
          },
          "updatemenudefaults": {
           "bgcolor": "#506784",
           "borderwidth": 0
          },
          "xaxis": {
           "automargin": true,
           "gridcolor": "#283442",
           "linecolor": "#506784",
           "ticks": "",
           "title": {
            "standoff": 15
           },
           "zerolinecolor": "#283442",
           "zerolinewidth": 2
          },
          "yaxis": {
           "automargin": true,
           "gridcolor": "#283442",
           "linecolor": "#506784",
           "ticks": "",
           "title": {
            "standoff": 15
           },
           "zerolinecolor": "#283442",
           "zerolinewidth": 2
          }
         }
        },
        "title": {
         "text": "Distribution of Returns"
        },
        "width": 1500,
        "xaxis": {
         "anchor": "y",
         "domain": [
          0,
          1
         ],
         "title": {
          "text": "Returns"
         }
        },
        "yaxis": {
         "anchor": "x",
         "domain": [
          0,
          1
         ],
         "title": {
          "text": "Count"
         }
        }
       }
      },
      "text/html": [
       "<div>                            <div id=\"88e3e3fd-1c76-4340-a2d9-abbe1d08a68e\" class=\"plotly-graph-div\" style=\"height:900px; width:1500px;\"></div>            <script type=\"text/javascript\">                require([\"plotly\"], function(Plotly) {                    window.PLOTLYENV=window.PLOTLYENV || {};                                    if (document.getElementById(\"88e3e3fd-1c76-4340-a2d9-abbe1d08a68e\")) {                    Plotly.newPlot(                        \"88e3e3fd-1c76-4340-a2d9-abbe1d08a68e\",                        [{\"alignmentgroup\":\"True\",\"bingroup\":\"x\",\"hovertemplate\":\"x=%{x}<br>count=%{y}<extra></extra>\",\"legendgroup\":\"\",\"marker\":{\"color\":\"firebrick\",\"pattern\":{\"shape\":\"\"}},\"name\":\"\",\"nbinsx\":80,\"offsetgroup\":\"\",\"orientation\":\"v\",\"showlegend\":false,\"x\":[0.011941430273306741,-0.0024744295102016034,-0.0019078958453192518,0.0009559611098328702,0.0009546691336217439,0.0011450593391955088,-0.021536285475078798,0.012855457919220603,0.020192192750284166,-0.01036730170827671,-0.009904880265475757,-0.001346460463900856,-0.00019295215264458765,-0.001926548371849135,0.007335877014545744,0.033921053477234286,0.012604385585398337,0.0018302732369555041,0.008587610853057814,-0.029166762530340895,-0.013995069232916935,-0.009651873836515668,-0.001528858616555051,-0.05990420863888257,0.019747634107632805,0.020232020510126514,0.03784112952092911,0.012473537204774843,-0.010424778232915988,0.012832790581606579,0.005106128497167184,-0.011477010946120414,-0.0009517429494345642,-0.024385564669857085,0.050185479082752726,0.018780322234779767,0.01405364608020232,-0.00827923533423558,-0.0043557433686131075,0.02169141119981921,0.020160729979235237,0.0,-0.006120984185653211,-0.012141537658219015,0.01531878790236152,-0.006491086599413887,-0.0008831770480351997,-0.002650925597050491,-0.012936492944049194,0.013824395229744546,0.022230972655548076,-0.016204827588652715,0.004427822265708814,0.0059953742255305364,-0.038737940368055335,-0.02334070732923943,0.034914332332698805,0.025978469821652972,0.011429735154385723,-0.018428300766623606,0.015054715863738188,-0.01518073303826728,-0.0054925878140484885,0.029752576125160024,0.0,-0.004671426095782194,0.012341493384969038,-0.002403810351428115,0.00946659372524139,0.006990481473687193,-0.0016933556018046136,0.00661486149787005,0.007245163903105034,0.011374963876683353,-0.005458084169015165,0.008647984061817215,-0.016653018528895114,0.02308795965719268,-0.0073284503999729855,-0.0016780275280039447,0.007226829136355528,-0.020356842472349146,-0.010730677235828434,0.014462710177343574,0.0054311909677347,0.0015190320501112797,-0.006404704236012915,-0.01374048543050077,-0.008427943551264194,-0.023243609229521178,-0.012253892655294085,-0.04207109115010155,0.01163661819336137,0.010204175514720637,0.02038566793500385,-0.005399788893468926,-0.0009046494789592963,0.01720718553772138,-0.010149715111580138,-0.010433403772854621,-0.0530813559947898,0.0314840013676041,0.010784908582622155,-0.03241417075933395,0.003658094393607758,0.018415565737252892,0.021096015206005125,-0.0051650419969930805,0.003337754192096254,0.022176974191173038,0.009763087799450787,0.00716221562274888,-0.023466739818602034,-0.004551218019679615,0.03346722568057636,-0.00920172741936287,0.017503141885265805,0.005441379301216243,0.004713614609366701,0.024500514093870107,-0.007801853496761324,-0.005299147020614514,0.013060680673221858,-0.0033925880976394263,-0.02621275286249858,-0.012235938902027788,0.001061872505241812,0.020152093598931886,-0.046785664555967,0.0003733761393627244,0.019723568403990477,0.004880514735988273,-0.034718300365217836,0.013417755561422329,0.014159686417216877,-0.02592944430562505,-0.09623962164166366,0.04675578737696817,-0.04053531205082028,0.023790191906919222,0.0020032039349653363,-0.043982380890766115,0.06085313251016178,0.024048909459653434,0.0017323714215060626,0.009415855882398905,-0.0032362353637941377,-0.023300340593404356,-0.0066483041904658036,0.010826719982000688,-0.0015578082867040433,-0.008192046850844958,-0.03618491233594079,-0.001020057303330657,0.029161388379420172,-0.0253013381331052,-0.04882575846444581,-0.034871119778581705,0.007405726515332889,0.03809310550051315,-0.03841194596856767,-0.01428263265522578,0.04935475543957102,-0.011866074214976763,0.05414854683403991,0.013670220390074261,0.012055441349930085,-0.014536498624162841,0.0010244260076823775,0.0026607442527699643,0.03531308375342257,0.003549109137482631,-0.0009825424818133977,-0.0330384372152297,0.0065082694217522,-0.00889078502885332,0.0230375866756678,0.015942589984543787,-0.040407943630681786,0.023712232430828983,-0.07687713862930035,0.07863756276746292,0.003664726008411945,0.020283791225578662,-0.003976323532466686,0.012175765408247496,0.008085303420987344,0.02269161931319208,-0.008033709532411892,-0.004049211915240436,0.012584815041314812,-0.006309859271871887,-0.015970731640234326,0.012319102405629057,0.009271692256181963,-0.003062114849521236,-0.021693333226812994,0.013540144754384364,-0.007163623526440288,-0.006435280030167467,-0.02708542521731183,0.00504348787801745,0.0028099803558321312,0.008406772172327326,0.018658245102672,-0.01266565058708391,-0.01045977238262652,0.01793923155340238,0.02039996096973362,0.014363280030329051,0.0005741019649614376,0.003251035550365877,0.005718791320838967,0.01364668134245095,0.0024306884393074935,-0.003544084543873449,0.0020591626245105576,0.008406551872613743,0.017599124234115138,0.0001819839920884636,-0.0005460969785158198,-0.006920274519461422,0.0075187013602773245,0.01729168640040979,0.006977948651066379,0.009772527204125803,0.011437812519241586,0.006088971680213495,0.0008645996951384127,0.01019360229404187,-0.010090741290474603,0.008120170012170025,-0.013881555744664431,0.010539002287253352,-0.001567803399162182,0.024249973466655916,0.006131749691809629,0.005586689952020718,0.008922617297107083,-0.015518232900806339,-0.0008473544435114722,0.012892344334450856,0.005526586147538204,0.013157925719585517,0.0034523172555653847,-0.007372257189483422,0.006436592195065094,0.0029518917856061755,0.018312601699955966,-0.008670542168516593,0.0024294619869809075,0.011310583104010785,-0.012941396034868435,0.0053414841250782885,0.009016144598607223,-0.008456912242554737,0.004827860004928519,0.009448924418298255,-0.006822116923299482,0.020261258150246375,0.032339898755198826,0.01274567363661916,0.015466268700482733,0.0035836726513560624,-0.06859097845191153,-0.00015983058097823744,0.030675994140606955,0.009300759481307264,-0.0317922795922414,0.019987362326151503,-0.016174288862640274,-0.007113474643593354,-0.01209991157775625,0.01305385680214921,0.01384024990653221,-0.003765796630549656,-0.0026775881473564134,0.00015794426579618381,0.016106048475444723,-0.006216037037873323,-0.014698930691599221,0.0022220293990409257,0.005542239103291768,-0.023307152624598926,-0.033537650566172306,0.005943438187704153,0.026585714167859598,-0.006556252400279461,0.0019797284323488373,0.013008523206500033,-0.01414163106930777,-0.02275349053307074,0.002699533301391499,0.026081027470906015,-0.01311902482524352,-0.028414846685034578,0.01419524575337161,0.020067529991491195,-0.0006612186045585888,-0.03358146622992619,-0.03355016048359971,-0.0028340409104335995,-0.04049716848451035,0.04479825217942168,-0.02197024699982808,0.00652181348596681,0.0016198307034629433,0.021383571002414392,-0.05436313497001499,-0.007069817296307956,-0.04721751701529964,0.04648970463682511,0.023034396743658148,0.013211718989716958,0.023691517577006715,-0.0005382640052797871,0.018488699055903668,-0.01780065380750462,0.020455952698004376,0.017935470587651325,-0.004145672700647363,-0.004683361642696671,0.02195872469459048,-0.018758394225214636,0.02259292363308929,0.010197098250700476,0.0020188905472910967,0.0016789477529621788,-0.0006705530707210583,-0.008554060070257719,-0.04330910728483672,0.005128214368189443,0.0021110900646115205,-0.005091301765692169,0.027174921151007947,-0.025253301372711423,0.04806794569910933,0.009572642885006033,-0.006264843938609821,0.0034077434651174077,-0.0030565389857118985,-0.0020438926152535064,-0.05905447937729058,0.005260260432019104,0.005593555982358112,-0.005024146132343477,0.01496845992183271,0.023276498977563342,0.010765652079384846,-0.0008588892526486536,-0.006877595093652822,-0.012984650349797011,0.01736522269898333,0.019827633321996885,0.008960277255068094,0.014912791312035933,-0.0016509173440854008,0.0013230284089893463,0.0019817825268886313,-0.011208118847445436,0.00966814682817918,0.015024085617402205,0.018688669005589187,0.001460070716903017,0.003888000754307619,0.011134353882391368,0.005904816558597981,-0.03918759927687532,-0.009246997883541996,0.02016658503957247,0.006861618892935573,-0.05111143451232192,-0.030950832430067687,-0.10005279710411619,-0.17411775401639307,-0.031338925408517126,0.15269612107592367,0.003402085021447787,0.03263385943985764,0.0036938567057573923,0.016765527511833023,-0.010255347600102493,0.027631181385330494,0.01166453558270919,-0.010748595676205785,0.06598191295253142,0.06152710541651274,-0.054294738540197396,0.03152526998630112,-0.011386203144388207,0.039670778316466704,-0.01055026081499788,0.02487995611410798,0.007976479203619657,-0.007569217205018464,0.010573717479045674,0.01886796931489676,0.0006732926077870349,-0.001177640470842567,-0.006905868270698168,0.008650098264878725,-0.021355333334108995,0.0024053919383180133,0.01714093955985696,0.023255718245364543,-0.021903760894367075,-0.005893159398208336,-0.02184970615291959,0.08415595011277754,0.022520358209576097,0.00515447957812043,-0.0021754431594159795,0.031926534183737365,-0.011470030004824494,0.01602687486597154,0.012910374022389037,0.013345035861130894,0.022935907733449,-0.00043395683708025157,0.015195432955271482,-0.023235982134574784,0.03137765836160056,0.018253855289040333,-0.012506937448861,-0.007458534638778991,-0.024528414564701784,0.031685994380315385,-0.0004227597703345687,-0.009443130880531725,0.02418892218938007,-0.007085279913087161,0.018329211157673386,0.004671673258626496,-0.004923321199788,0.008383606154914292,-0.00981320111052586,0.01335169370431566,0.010730942417300326,0.015051382570999916,-0.009664995927379683,-0.008676183052248931,0.006138310248100964,-0.0031182755537861873,-0.0023119936389043305,-0.032442701694550324,0.018173957757500414,0.007195285302773913,0.00315983017621968,0.0015065151108393238,-0.012853837653040712,0.015099058168714263,0.020605881095745238,-0.006150555698390403,-0.03874611396965644,0.017914554975549057,-0.03148620841713734,0.008659737459991268,0.026319632113938507,0.008776651850195494,0.0023111589295194968,0.005696323987659957,-0.002697161044180829,-0.020689762099875386,-0.02858321464798219,0.002132193990153297,-0.014326422333728162,0.0056428608094334365,0.03613062988336435,0.0026714772464233594,-0.012405711297009181,0.015780416749676007,-0.042827117810240956,0.007457243432038352,0.0029028403848188056,-0.010275058114849633,0.0020471984082930383,-0.02597413699559481,-0.07805234964908125,0.015112075882588005,0.06114940505113231,0.004223867076036614,0.018626834610323773,-0.03657267080645177,-0.0050512127800890205,-0.029384639354357756,-0.017118455886517836,-0.05095952638524359,0.02107058793625982,0.027958077962084937,0.018617380297714536,-0.006993020015199081],\"xaxis\":\"x\",\"yaxis\":\"y\",\"type\":\"histogram\"}],                        {\"template\":{\"data\":{\"barpolar\":[{\"marker\":{\"line\":{\"color\":\"rgb(17,17,17)\",\"width\":0.5},\"pattern\":{\"fillmode\":\"overlay\",\"size\":10,\"solidity\":0.2}},\"type\":\"barpolar\"}],\"bar\":[{\"error_x\":{\"color\":\"#f2f5fa\"},\"error_y\":{\"color\":\"#f2f5fa\"},\"marker\":{\"line\":{\"color\":\"rgb(17,17,17)\",\"width\":0.5},\"pattern\":{\"fillmode\":\"overlay\",\"size\":10,\"solidity\":0.2}},\"type\":\"bar\"}],\"carpet\":[{\"aaxis\":{\"endlinecolor\":\"#A2B1C6\",\"gridcolor\":\"#506784\",\"linecolor\":\"#506784\",\"minorgridcolor\":\"#506784\",\"startlinecolor\":\"#A2B1C6\"},\"baxis\":{\"endlinecolor\":\"#A2B1C6\",\"gridcolor\":\"#506784\",\"linecolor\":\"#506784\",\"minorgridcolor\":\"#506784\",\"startlinecolor\":\"#A2B1C6\"},\"type\":\"carpet\"}],\"choropleth\":[{\"colorbar\":{\"outlinewidth\":0,\"ticks\":\"\"},\"type\":\"choropleth\"}],\"contourcarpet\":[{\"colorbar\":{\"outlinewidth\":0,\"ticks\":\"\"},\"type\":\"contourcarpet\"}],\"contour\":[{\"colorbar\":{\"outlinewidth\":0,\"ticks\":\"\"},\"colorscale\":[[0.0,\"#0d0887\"],[0.1111111111111111,\"#46039f\"],[0.2222222222222222,\"#7201a8\"],[0.3333333333333333,\"#9c179e\"],[0.4444444444444444,\"#bd3786\"],[0.5555555555555556,\"#d8576b\"],[0.6666666666666666,\"#ed7953\"],[0.7777777777777778,\"#fb9f3a\"],[0.8888888888888888,\"#fdca26\"],[1.0,\"#f0f921\"]],\"type\":\"contour\"}],\"heatmapgl\":[{\"colorbar\":{\"outlinewidth\":0,\"ticks\":\"\"},\"colorscale\":[[0.0,\"#0d0887\"],[0.1111111111111111,\"#46039f\"],[0.2222222222222222,\"#7201a8\"],[0.3333333333333333,\"#9c179e\"],[0.4444444444444444,\"#bd3786\"],[0.5555555555555556,\"#d8576b\"],[0.6666666666666666,\"#ed7953\"],[0.7777777777777778,\"#fb9f3a\"],[0.8888888888888888,\"#fdca26\"],[1.0,\"#f0f921\"]],\"type\":\"heatmapgl\"}],\"heatmap\":[{\"colorbar\":{\"outlinewidth\":0,\"ticks\":\"\"},\"colorscale\":[[0.0,\"#0d0887\"],[0.1111111111111111,\"#46039f\"],[0.2222222222222222,\"#7201a8\"],[0.3333333333333333,\"#9c179e\"],[0.4444444444444444,\"#bd3786\"],[0.5555555555555556,\"#d8576b\"],[0.6666666666666666,\"#ed7953\"],[0.7777777777777778,\"#fb9f3a\"],[0.8888888888888888,\"#fdca26\"],[1.0,\"#f0f921\"]],\"type\":\"heatmap\"}],\"histogram2dcontour\":[{\"colorbar\":{\"outlinewidth\":0,\"ticks\":\"\"},\"colorscale\":[[0.0,\"#0d0887\"],[0.1111111111111111,\"#46039f\"],[0.2222222222222222,\"#7201a8\"],[0.3333333333333333,\"#9c179e\"],[0.4444444444444444,\"#bd3786\"],[0.5555555555555556,\"#d8576b\"],[0.6666666666666666,\"#ed7953\"],[0.7777777777777778,\"#fb9f3a\"],[0.8888888888888888,\"#fdca26\"],[1.0,\"#f0f921\"]],\"type\":\"histogram2dcontour\"}],\"histogram2d\":[{\"colorbar\":{\"outlinewidth\":0,\"ticks\":\"\"},\"colorscale\":[[0.0,\"#0d0887\"],[0.1111111111111111,\"#46039f\"],[0.2222222222222222,\"#7201a8\"],[0.3333333333333333,\"#9c179e\"],[0.4444444444444444,\"#bd3786\"],[0.5555555555555556,\"#d8576b\"],[0.6666666666666666,\"#ed7953\"],[0.7777777777777778,\"#fb9f3a\"],[0.8888888888888888,\"#fdca26\"],[1.0,\"#f0f921\"]],\"type\":\"histogram2d\"}],\"histogram\":[{\"marker\":{\"pattern\":{\"fillmode\":\"overlay\",\"size\":10,\"solidity\":0.2}},\"type\":\"histogram\"}],\"mesh3d\":[{\"colorbar\":{\"outlinewidth\":0,\"ticks\":\"\"},\"type\":\"mesh3d\"}],\"parcoords\":[{\"line\":{\"colorbar\":{\"outlinewidth\":0,\"ticks\":\"\"}},\"type\":\"parcoords\"}],\"pie\":[{\"automargin\":true,\"type\":\"pie\"}],\"scatter3d\":[{\"line\":{\"colorbar\":{\"outlinewidth\":0,\"ticks\":\"\"}},\"marker\":{\"colorbar\":{\"outlinewidth\":0,\"ticks\":\"\"}},\"type\":\"scatter3d\"}],\"scattercarpet\":[{\"marker\":{\"colorbar\":{\"outlinewidth\":0,\"ticks\":\"\"}},\"type\":\"scattercarpet\"}],\"scattergeo\":[{\"marker\":{\"colorbar\":{\"outlinewidth\":0,\"ticks\":\"\"}},\"type\":\"scattergeo\"}],\"scattergl\":[{\"marker\":{\"line\":{\"color\":\"#283442\"}},\"type\":\"scattergl\"}],\"scattermapbox\":[{\"marker\":{\"colorbar\":{\"outlinewidth\":0,\"ticks\":\"\"}},\"type\":\"scattermapbox\"}],\"scatterpolargl\":[{\"marker\":{\"colorbar\":{\"outlinewidth\":0,\"ticks\":\"\"}},\"type\":\"scatterpolargl\"}],\"scatterpolar\":[{\"marker\":{\"colorbar\":{\"outlinewidth\":0,\"ticks\":\"\"}},\"type\":\"scatterpolar\"}],\"scatter\":[{\"marker\":{\"line\":{\"color\":\"#283442\"}},\"type\":\"scatter\"}],\"scatterternary\":[{\"marker\":{\"colorbar\":{\"outlinewidth\":0,\"ticks\":\"\"}},\"type\":\"scatterternary\"}],\"surface\":[{\"colorbar\":{\"outlinewidth\":0,\"ticks\":\"\"},\"colorscale\":[[0.0,\"#0d0887\"],[0.1111111111111111,\"#46039f\"],[0.2222222222222222,\"#7201a8\"],[0.3333333333333333,\"#9c179e\"],[0.4444444444444444,\"#bd3786\"],[0.5555555555555556,\"#d8576b\"],[0.6666666666666666,\"#ed7953\"],[0.7777777777777778,\"#fb9f3a\"],[0.8888888888888888,\"#fdca26\"],[1.0,\"#f0f921\"]],\"type\":\"surface\"}],\"table\":[{\"cells\":{\"fill\":{\"color\":\"#506784\"},\"line\":{\"color\":\"rgb(17,17,17)\"}},\"header\":{\"fill\":{\"color\":\"#2a3f5f\"},\"line\":{\"color\":\"rgb(17,17,17)\"}},\"type\":\"table\"}]},\"layout\":{\"annotationdefaults\":{\"arrowcolor\":\"#f2f5fa\",\"arrowhead\":0,\"arrowwidth\":1},\"autotypenumbers\":\"strict\",\"coloraxis\":{\"colorbar\":{\"outlinewidth\":0,\"ticks\":\"\"}},\"colorscale\":{\"diverging\":[[0,\"#8e0152\"],[0.1,\"#c51b7d\"],[0.2,\"#de77ae\"],[0.3,\"#f1b6da\"],[0.4,\"#fde0ef\"],[0.5,\"#f7f7f7\"],[0.6,\"#e6f5d0\"],[0.7,\"#b8e186\"],[0.8,\"#7fbc41\"],[0.9,\"#4d9221\"],[1,\"#276419\"]],\"sequential\":[[0.0,\"#0d0887\"],[0.1111111111111111,\"#46039f\"],[0.2222222222222222,\"#7201a8\"],[0.3333333333333333,\"#9c179e\"],[0.4444444444444444,\"#bd3786\"],[0.5555555555555556,\"#d8576b\"],[0.6666666666666666,\"#ed7953\"],[0.7777777777777778,\"#fb9f3a\"],[0.8888888888888888,\"#fdca26\"],[1.0,\"#f0f921\"]],\"sequentialminus\":[[0.0,\"#0d0887\"],[0.1111111111111111,\"#46039f\"],[0.2222222222222222,\"#7201a8\"],[0.3333333333333333,\"#9c179e\"],[0.4444444444444444,\"#bd3786\"],[0.5555555555555556,\"#d8576b\"],[0.6666666666666666,\"#ed7953\"],[0.7777777777777778,\"#fb9f3a\"],[0.8888888888888888,\"#fdca26\"],[1.0,\"#f0f921\"]]},\"colorway\":[\"#636efa\",\"#EF553B\",\"#00cc96\",\"#ab63fa\",\"#FFA15A\",\"#19d3f3\",\"#FF6692\",\"#B6E880\",\"#FF97FF\",\"#FECB52\"],\"font\":{\"color\":\"#f2f5fa\"},\"geo\":{\"bgcolor\":\"rgb(17,17,17)\",\"lakecolor\":\"rgb(17,17,17)\",\"landcolor\":\"rgb(17,17,17)\",\"showlakes\":true,\"showland\":true,\"subunitcolor\":\"#506784\"},\"hoverlabel\":{\"align\":\"left\"},\"hovermode\":\"closest\",\"mapbox\":{\"style\":\"dark\"},\"paper_bgcolor\":\"rgb(17,17,17)\",\"plot_bgcolor\":\"rgb(17,17,17)\",\"polar\":{\"angularaxis\":{\"gridcolor\":\"#506784\",\"linecolor\":\"#506784\",\"ticks\":\"\"},\"bgcolor\":\"rgb(17,17,17)\",\"radialaxis\":{\"gridcolor\":\"#506784\",\"linecolor\":\"#506784\",\"ticks\":\"\"}},\"scene\":{\"xaxis\":{\"backgroundcolor\":\"rgb(17,17,17)\",\"gridcolor\":\"#506784\",\"gridwidth\":2,\"linecolor\":\"#506784\",\"showbackground\":true,\"ticks\":\"\",\"zerolinecolor\":\"#C8D4E3\"},\"yaxis\":{\"backgroundcolor\":\"rgb(17,17,17)\",\"gridcolor\":\"#506784\",\"gridwidth\":2,\"linecolor\":\"#506784\",\"showbackground\":true,\"ticks\":\"\",\"zerolinecolor\":\"#C8D4E3\"},\"zaxis\":{\"backgroundcolor\":\"rgb(17,17,17)\",\"gridcolor\":\"#506784\",\"gridwidth\":2,\"linecolor\":\"#506784\",\"showbackground\":true,\"ticks\":\"\",\"zerolinecolor\":\"#C8D4E3\"}},\"shapedefaults\":{\"line\":{\"color\":\"#f2f5fa\"}},\"sliderdefaults\":{\"bgcolor\":\"#C8D4E3\",\"bordercolor\":\"rgb(17,17,17)\",\"borderwidth\":1,\"tickwidth\":0},\"ternary\":{\"aaxis\":{\"gridcolor\":\"#506784\",\"linecolor\":\"#506784\",\"ticks\":\"\"},\"baxis\":{\"gridcolor\":\"#506784\",\"linecolor\":\"#506784\",\"ticks\":\"\"},\"bgcolor\":\"rgb(17,17,17)\",\"caxis\":{\"gridcolor\":\"#506784\",\"linecolor\":\"#506784\",\"ticks\":\"\"}},\"title\":{\"x\":0.05},\"updatemenudefaults\":{\"bgcolor\":\"#506784\",\"borderwidth\":0},\"xaxis\":{\"automargin\":true,\"gridcolor\":\"#283442\",\"linecolor\":\"#506784\",\"ticks\":\"\",\"title\":{\"standoff\":15},\"zerolinecolor\":\"#283442\",\"zerolinewidth\":2},\"yaxis\":{\"automargin\":true,\"gridcolor\":\"#283442\",\"linecolor\":\"#506784\",\"ticks\":\"\",\"title\":{\"standoff\":15},\"zerolinecolor\":\"#283442\",\"zerolinewidth\":2}}},\"xaxis\":{\"anchor\":\"y\",\"domain\":[0.0,1.0],\"title\":{\"text\":\"Returns\"}},\"yaxis\":{\"anchor\":\"x\",\"domain\":[0.0,1.0],\"title\":{\"text\":\"Count\"}},\"legend\":{\"tracegroupgap\":0},\"margin\":{\"t\":60},\"barmode\":\"relative\",\"title\":{\"text\":\"Distribution of Returns\"},\"width\":1500,\"height\":900},                        {\"responsive\": true}                    ).then(function(){\n",
       "                            \n",
       "var gd = document.getElementById('88e3e3fd-1c76-4340-a2d9-abbe1d08a68e');\n",
       "var x = new MutationObserver(function (mutations, observer) {{\n",
       "        var display = window.getComputedStyle(gd).display;\n",
       "        if (!display || display === 'none') {{\n",
       "            console.log([gd, 'removed!']);\n",
       "            Plotly.purge(gd);\n",
       "            observer.disconnect();\n",
       "        }}\n",
       "}});\n",
       "\n",
       "// Listen for the removal of the full notebook cells\n",
       "var notebookContainer = gd.closest('#notebook-container');\n",
       "if (notebookContainer) {{\n",
       "    x.observe(notebookContainer, {childList: true});\n",
       "}}\n",
       "\n",
       "// Listen for the clearing of the current output cell\n",
       "var outputEl = gd.closest('.output');\n",
       "if (outputEl) {{\n",
       "    x.observe(outputEl, {childList: true});\n",
       "}}\n",
       "\n",
       "                        })                };                });            </script>        </div>"
      ]
     },
     "metadata": {},
     "output_type": "display_data"
    }
   ],
   "source": [
    "# Create histogram using Plotly Express\n",
    "fig = px.histogram(world_returns, x=world_returns, nbins=80, color_discrete_sequence=['firebrick'])\n",
    "\n",
    "# Customize the layout if needed\n",
    "fig.update_layout(title=\"Distribution of Returns\", xaxis_title=\"Returns\", yaxis_title=\"Count\",width=1500, height=900,template = \"plotly_dark\")\n",
    "fig.show()"
   ]
  },
  {
   "attachments": {},
   "cell_type": "markdown",
   "metadata": {},
   "source": [
    "But the way I always use the distribution of returns is by analyzing the percentage of occurrence for each bin, which provides insights into the potential expectations for the asset going forward. Interpreting the data, we can derive the following conclusions:\n",
    "\n",
    " - In approximately 66% of the time, the MSCI returns anywhere from -1.5% to +2.5% in a given week.\n",
    " - If you were looking to go long on the index with a target return of 3%, the probability of achieving that would be 5.4%.\n",
    " - Conversely, if you were aiming to go short and expecting at least a 2% return, the probability of achieving that return is approximately 9%. However, both probabilities are statistically insignificant.\n",
    "\n",
    "From this analysis, we can conclude that expecting a 3% return or a 2% return is unrealistic, and it may be necessary to adjust your target returns accordingly. Let's consider targeting a 1% return instead:\n",
    "\n",
    "  - If you were to go long with a minimum target of a 1% return, the probability of that happening would be 33%.\n",
    "  - On the other hand, if you were to go short with a minimum target of a 1% return, the probability of achieving that desired return would be 23%.\n",
    "    \n",
    "Although the odds appear to be better when adjusting our expectations, it is still statistically insignificant. Comparing it to a skydiving scenario where the parachute only works 33% of the time, taking such a risk would not be advisable.\n"
   ]
  },
  {
   "cell_type": "code",
   "execution_count": 65,
   "metadata": {},
   "outputs": [
    {
     "data": {
      "application/vnd.plotly.v1+json": {
       "config": {
        "plotlyServerURL": "https://plot.ly"
       },
       "data": [
        {
         "alignmentgroup": "True",
         "bingroup": "x",
         "histnorm": "percent",
         "hovertemplate": "variable=Adj Close<br>value=%{x}<br>percent=%{y}<extra></extra>",
         "legendgroup": "Adj Close",
         "marker": {
          "color": "firebrick",
          "pattern": {
           "shape": ""
          }
         },
         "name": "Adj Close",
         "nbinsx": 80,
         "offsetgroup": "Adj Close",
         "orientation": "v",
         "showlegend": true,
         "texttemplate": "%{value}",
         "type": "histogram",
         "x": [
          0.011941430273306741,
          -0.0024744295102016034,
          -0.0019078958453192518,
          0.0009559611098328702,
          0.0009546691336217439,
          0.0011450593391955088,
          -0.021536285475078798,
          0.012855457919220603,
          0.020192192750284166,
          -0.01036730170827671,
          -0.009904880265475757,
          -0.001346460463900856,
          -0.00019295215264458765,
          -0.001926548371849135,
          0.007335877014545744,
          0.033921053477234286,
          0.012604385585398337,
          0.0018302732369555041,
          0.008587610853057814,
          -0.029166762530340895,
          -0.013995069232916935,
          -0.009651873836515668,
          -0.001528858616555051,
          -0.05990420863888257,
          0.019747634107632805,
          0.020232020510126514,
          0.03784112952092911,
          0.012473537204774843,
          -0.010424778232915988,
          0.012832790581606579,
          0.005106128497167184,
          -0.011477010946120414,
          -0.0009517429494345642,
          -0.024385564669857085,
          0.050185479082752726,
          0.018780322234779767,
          0.01405364608020232,
          -0.00827923533423558,
          -0.0043557433686131075,
          0.02169141119981921,
          0.020160729979235237,
          0,
          -0.006120984185653211,
          -0.012141537658219015,
          0.01531878790236152,
          -0.006491086599413887,
          -0.0008831770480351997,
          -0.002650925597050491,
          -0.012936492944049194,
          0.013824395229744546,
          0.022230972655548076,
          -0.016204827588652715,
          0.004427822265708814,
          0.0059953742255305364,
          -0.038737940368055335,
          -0.02334070732923943,
          0.034914332332698805,
          0.025978469821652972,
          0.011429735154385723,
          -0.018428300766623606,
          0.015054715863738188,
          -0.01518073303826728,
          -0.0054925878140484885,
          0.029752576125160024,
          0,
          -0.004671426095782194,
          0.012341493384969038,
          -0.002403810351428115,
          0.00946659372524139,
          0.006990481473687193,
          -0.0016933556018046136,
          0.00661486149787005,
          0.007245163903105034,
          0.011374963876683353,
          -0.005458084169015165,
          0.008647984061817215,
          -0.016653018528895114,
          0.02308795965719268,
          -0.0073284503999729855,
          -0.0016780275280039447,
          0.007226829136355528,
          -0.020356842472349146,
          -0.010730677235828434,
          0.014462710177343574,
          0.0054311909677347,
          0.0015190320501112797,
          -0.006404704236012915,
          -0.01374048543050077,
          -0.008427943551264194,
          -0.023243609229521178,
          -0.012253892655294085,
          -0.04207109115010155,
          0.01163661819336137,
          0.010204175514720637,
          0.02038566793500385,
          -0.005399788893468926,
          -0.0009046494789592963,
          0.01720718553772138,
          -0.010149715111580138,
          -0.010433403772854621,
          -0.0530813559947898,
          0.0314840013676041,
          0.010784908582622155,
          -0.03241417075933395,
          0.003658094393607758,
          0.018415565737252892,
          0.021096015206005125,
          -0.0051650419969930805,
          0.003337754192096254,
          0.022176974191173038,
          0.009763087799450787,
          0.00716221562274888,
          -0.023466739818602034,
          -0.004551218019679615,
          0.03346722568057636,
          -0.00920172741936287,
          0.017503141885265805,
          0.005441379301216243,
          0.004713614609366701,
          0.024500514093870107,
          -0.007801853496761324,
          -0.005299147020614514,
          0.013060680673221858,
          -0.0033925880976394263,
          -0.02621275286249858,
          -0.012235938902027788,
          0.001061872505241812,
          0.020152093598931886,
          -0.046785664555967,
          0.0003733761393627244,
          0.019723568403990477,
          0.004880514735988273,
          -0.034718300365217836,
          0.013417755561422329,
          0.014159686417216877,
          -0.02592944430562505,
          -0.09623962164166366,
          0.04675578737696817,
          -0.04053531205082028,
          0.023790191906919222,
          0.0020032039349653363,
          -0.043982380890766115,
          0.06085313251016178,
          0.024048909459653434,
          0.0017323714215060626,
          0.009415855882398905,
          -0.0032362353637941377,
          -0.023300340593404356,
          -0.0066483041904658036,
          0.010826719982000688,
          -0.0015578082867040433,
          -0.008192046850844958,
          -0.03618491233594079,
          -0.001020057303330657,
          0.029161388379420172,
          -0.0253013381331052,
          -0.04882575846444581,
          -0.034871119778581705,
          0.007405726515332889,
          0.03809310550051315,
          -0.03841194596856767,
          -0.01428263265522578,
          0.04935475543957102,
          -0.011866074214976763,
          0.05414854683403991,
          0.013670220390074261,
          0.012055441349930085,
          -0.014536498624162841,
          0.0010244260076823775,
          0.0026607442527699643,
          0.03531308375342257,
          0.003549109137482631,
          -0.0009825424818133977,
          -0.0330384372152297,
          0.0065082694217522,
          -0.00889078502885332,
          0.0230375866756678,
          0.015942589984543787,
          -0.040407943630681786,
          0.023712232430828983,
          -0.07687713862930035,
          0.07863756276746292,
          0.003664726008411945,
          0.020283791225578662,
          -0.003976323532466686,
          0.012175765408247496,
          0.008085303420987344,
          0.02269161931319208,
          -0.008033709532411892,
          -0.004049211915240436,
          0.012584815041314812,
          -0.006309859271871887,
          -0.015970731640234326,
          0.012319102405629057,
          0.009271692256181963,
          -0.003062114849521236,
          -0.021693333226812994,
          0.013540144754384364,
          -0.007163623526440288,
          -0.006435280030167467,
          -0.02708542521731183,
          0.00504348787801745,
          0.0028099803558321312,
          0.008406772172327326,
          0.018658245102672,
          -0.01266565058708391,
          -0.01045977238262652,
          0.01793923155340238,
          0.02039996096973362,
          0.014363280030329051,
          0.0005741019649614376,
          0.003251035550365877,
          0.005718791320838967,
          0.01364668134245095,
          0.0024306884393074935,
          -0.003544084543873449,
          0.0020591626245105576,
          0.008406551872613743,
          0.017599124234115138,
          0.0001819839920884636,
          -0.0005460969785158198,
          -0.006920274519461422,
          0.0075187013602773245,
          0.01729168640040979,
          0.006977948651066379,
          0.009772527204125803,
          0.011437812519241586,
          0.006088971680213495,
          0.0008645996951384127,
          0.01019360229404187,
          -0.010090741290474603,
          0.008120170012170025,
          -0.013881555744664431,
          0.010539002287253352,
          -0.001567803399162182,
          0.024249973466655916,
          0.006131749691809629,
          0.005586689952020718,
          0.008922617297107083,
          -0.015518232900806339,
          -0.0008473544435114722,
          0.012892344334450856,
          0.005526586147538204,
          0.013157925719585517,
          0.0034523172555653847,
          -0.007372257189483422,
          0.006436592195065094,
          0.0029518917856061755,
          0.018312601699955966,
          -0.008670542168516593,
          0.0024294619869809075,
          0.011310583104010785,
          -0.012941396034868435,
          0.0053414841250782885,
          0.009016144598607223,
          -0.008456912242554737,
          0.004827860004928519,
          0.009448924418298255,
          -0.006822116923299482,
          0.020261258150246375,
          0.032339898755198826,
          0.01274567363661916,
          0.015466268700482733,
          0.0035836726513560624,
          -0.06859097845191153,
          -0.00015983058097823744,
          0.030675994140606955,
          0.009300759481307264,
          -0.0317922795922414,
          0.019987362326151503,
          -0.016174288862640274,
          -0.007113474643593354,
          -0.01209991157775625,
          0.01305385680214921,
          0.01384024990653221,
          -0.003765796630549656,
          -0.0026775881473564134,
          0.00015794426579618381,
          0.016106048475444723,
          -0.006216037037873323,
          -0.014698930691599221,
          0.0022220293990409257,
          0.005542239103291768,
          -0.023307152624598926,
          -0.033537650566172306,
          0.005943438187704153,
          0.026585714167859598,
          -0.006556252400279461,
          0.0019797284323488373,
          0.013008523206500033,
          -0.01414163106930777,
          -0.02275349053307074,
          0.002699533301391499,
          0.026081027470906015,
          -0.01311902482524352,
          -0.028414846685034578,
          0.01419524575337161,
          0.020067529991491195,
          -0.0006612186045585888,
          -0.03358146622992619,
          -0.03355016048359971,
          -0.0028340409104335995,
          -0.04049716848451035,
          0.04479825217942168,
          -0.02197024699982808,
          0.00652181348596681,
          0.0016198307034629433,
          0.021383571002414392,
          -0.05436313497001499,
          -0.007069817296307956,
          -0.04721751701529964,
          0.04648970463682511,
          0.023034396743658148,
          0.013211718989716958,
          0.023691517577006715,
          -0.0005382640052797871,
          0.018488699055903668,
          -0.01780065380750462,
          0.020455952698004376,
          0.017935470587651325,
          -0.004145672700647363,
          -0.004683361642696671,
          0.02195872469459048,
          -0.018758394225214636,
          0.02259292363308929,
          0.010197098250700476,
          0.0020188905472910967,
          0.0016789477529621788,
          -0.0006705530707210583,
          -0.008554060070257719,
          -0.04330910728483672,
          0.005128214368189443,
          0.0021110900646115205,
          -0.005091301765692169,
          0.027174921151007947,
          -0.025253301372711423,
          0.04806794569910933,
          0.009572642885006033,
          -0.006264843938609821,
          0.0034077434651174077,
          -0.0030565389857118985,
          -0.0020438926152535064,
          -0.05905447937729058,
          0.005260260432019104,
          0.005593555982358112,
          -0.005024146132343477,
          0.01496845992183271,
          0.023276498977563342,
          0.010765652079384846,
          -0.0008588892526486536,
          -0.006877595093652822,
          -0.012984650349797011,
          0.01736522269898333,
          0.019827633321996885,
          0.008960277255068094,
          0.014912791312035933,
          -0.0016509173440854008,
          0.0013230284089893463,
          0.0019817825268886313,
          -0.011208118847445436,
          0.00966814682817918,
          0.015024085617402205,
          0.018688669005589187,
          0.001460070716903017,
          0.003888000754307619,
          0.011134353882391368,
          0.005904816558597981,
          -0.03918759927687532,
          -0.009246997883541996,
          0.02016658503957247,
          0.006861618892935573,
          -0.05111143451232192,
          -0.030950832430067687,
          -0.10005279710411619,
          -0.17411775401639307,
          -0.031338925408517126,
          0.15269612107592367,
          0.003402085021447787,
          0.03263385943985764,
          0.0036938567057573923,
          0.016765527511833023,
          -0.010255347600102493,
          0.027631181385330494,
          0.01166453558270919,
          -0.010748595676205785,
          0.06598191295253142,
          0.06152710541651274,
          -0.054294738540197396,
          0.03152526998630112,
          -0.011386203144388207,
          0.039670778316466704,
          -0.01055026081499788,
          0.02487995611410798,
          0.007976479203619657,
          -0.007569217205018464,
          0.010573717479045674,
          0.01886796931489676,
          0.0006732926077870349,
          -0.001177640470842567,
          -0.006905868270698168,
          0.008650098264878725,
          -0.021355333334108995,
          0.0024053919383180133,
          0.01714093955985696,
          0.023255718245364543,
          -0.021903760894367075,
          -0.005893159398208336,
          -0.02184970615291959,
          0.08415595011277754,
          0.022520358209576097,
          0.00515447957812043,
          -0.0021754431594159795,
          0.031926534183737365,
          -0.011470030004824494,
          0.01602687486597154,
          0.012910374022389037,
          0.013345035861130894,
          0.022935907733449,
          -0.00043395683708025157,
          0.015195432955271482,
          -0.023235982134574784,
          0.03137765836160056,
          0.018253855289040333,
          -0.012506937448861,
          -0.007458534638778991,
          -0.024528414564701784,
          0.031685994380315385,
          -0.0004227597703345687,
          -0.009443130880531725,
          0.02418892218938007,
          -0.007085279913087161,
          0.018329211157673386,
          0.004671673258626496,
          -0.004923321199788,
          0.008383606154914292,
          -0.00981320111052586,
          0.01335169370431566,
          0.010730942417300326,
          0.015051382570999916,
          -0.009664995927379683,
          -0.008676183052248931,
          0.006138310248100964,
          -0.0031182755537861873,
          -0.0023119936389043305,
          -0.032442701694550324,
          0.018173957757500414,
          0.007195285302773913,
          0.00315983017621968,
          0.0015065151108393238,
          -0.012853837653040712,
          0.015099058168714263,
          0.020605881095745238,
          -0.006150555698390403,
          -0.03874611396965644,
          0.017914554975549057,
          -0.03148620841713734,
          0.008659737459991268,
          0.026319632113938507,
          0.008776651850195494,
          0.0023111589295194968,
          0.005696323987659957,
          -0.002697161044180829,
          -0.020689762099875386,
          -0.02858321464798219,
          0.002132193990153297,
          -0.014326422333728162,
          0.0056428608094334365,
          0.03613062988336435,
          0.0026714772464233594,
          -0.012405711297009181,
          0.015780416749676007,
          -0.042827117810240956,
          0.007457243432038352,
          0.0029028403848188056,
          -0.010275058114849633,
          0.0020471984082930383,
          -0.02597413699559481,
          -0.07805234964908125,
          0.015112075882588005,
          0.06114940505113231,
          0.004223867076036614,
          0.018626834610323773,
          -0.03657267080645177,
          -0.0050512127800890205,
          -0.029384639354357756,
          -0.017118455886517836,
          -0.05095952638524359,
          0.02107058793625982,
          0.027958077962084937,
          0.018617380297714536,
          -0.006993020015199081
         ],
         "xaxis": "x",
         "yaxis": "y"
        }
       ],
       "layout": {
        "barmode": "relative",
        "height": 900,
        "legend": {
         "title": {
          "text": "variable"
         },
         "tracegroupgap": 0
        },
        "margin": {
         "t": 60
        },
        "template": {
         "data": {
          "bar": [
           {
            "error_x": {
             "color": "#f2f5fa"
            },
            "error_y": {
             "color": "#f2f5fa"
            },
            "marker": {
             "line": {
              "color": "rgb(17,17,17)",
              "width": 0.5
             },
             "pattern": {
              "fillmode": "overlay",
              "size": 10,
              "solidity": 0.2
             }
            },
            "type": "bar"
           }
          ],
          "barpolar": [
           {
            "marker": {
             "line": {
              "color": "rgb(17,17,17)",
              "width": 0.5
             },
             "pattern": {
              "fillmode": "overlay",
              "size": 10,
              "solidity": 0.2
             }
            },
            "type": "barpolar"
           }
          ],
          "carpet": [
           {
            "aaxis": {
             "endlinecolor": "#A2B1C6",
             "gridcolor": "#506784",
             "linecolor": "#506784",
             "minorgridcolor": "#506784",
             "startlinecolor": "#A2B1C6"
            },
            "baxis": {
             "endlinecolor": "#A2B1C6",
             "gridcolor": "#506784",
             "linecolor": "#506784",
             "minorgridcolor": "#506784",
             "startlinecolor": "#A2B1C6"
            },
            "type": "carpet"
           }
          ],
          "choropleth": [
           {
            "colorbar": {
             "outlinewidth": 0,
             "ticks": ""
            },
            "type": "choropleth"
           }
          ],
          "contour": [
           {
            "colorbar": {
             "outlinewidth": 0,
             "ticks": ""
            },
            "colorscale": [
             [
              0,
              "#0d0887"
             ],
             [
              0.1111111111111111,
              "#46039f"
             ],
             [
              0.2222222222222222,
              "#7201a8"
             ],
             [
              0.3333333333333333,
              "#9c179e"
             ],
             [
              0.4444444444444444,
              "#bd3786"
             ],
             [
              0.5555555555555556,
              "#d8576b"
             ],
             [
              0.6666666666666666,
              "#ed7953"
             ],
             [
              0.7777777777777778,
              "#fb9f3a"
             ],
             [
              0.8888888888888888,
              "#fdca26"
             ],
             [
              1,
              "#f0f921"
             ]
            ],
            "type": "contour"
           }
          ],
          "contourcarpet": [
           {
            "colorbar": {
             "outlinewidth": 0,
             "ticks": ""
            },
            "type": "contourcarpet"
           }
          ],
          "heatmap": [
           {
            "colorbar": {
             "outlinewidth": 0,
             "ticks": ""
            },
            "colorscale": [
             [
              0,
              "#0d0887"
             ],
             [
              0.1111111111111111,
              "#46039f"
             ],
             [
              0.2222222222222222,
              "#7201a8"
             ],
             [
              0.3333333333333333,
              "#9c179e"
             ],
             [
              0.4444444444444444,
              "#bd3786"
             ],
             [
              0.5555555555555556,
              "#d8576b"
             ],
             [
              0.6666666666666666,
              "#ed7953"
             ],
             [
              0.7777777777777778,
              "#fb9f3a"
             ],
             [
              0.8888888888888888,
              "#fdca26"
             ],
             [
              1,
              "#f0f921"
             ]
            ],
            "type": "heatmap"
           }
          ],
          "heatmapgl": [
           {
            "colorbar": {
             "outlinewidth": 0,
             "ticks": ""
            },
            "colorscale": [
             [
              0,
              "#0d0887"
             ],
             [
              0.1111111111111111,
              "#46039f"
             ],
             [
              0.2222222222222222,
              "#7201a8"
             ],
             [
              0.3333333333333333,
              "#9c179e"
             ],
             [
              0.4444444444444444,
              "#bd3786"
             ],
             [
              0.5555555555555556,
              "#d8576b"
             ],
             [
              0.6666666666666666,
              "#ed7953"
             ],
             [
              0.7777777777777778,
              "#fb9f3a"
             ],
             [
              0.8888888888888888,
              "#fdca26"
             ],
             [
              1,
              "#f0f921"
             ]
            ],
            "type": "heatmapgl"
           }
          ],
          "histogram": [
           {
            "marker": {
             "pattern": {
              "fillmode": "overlay",
              "size": 10,
              "solidity": 0.2
             }
            },
            "type": "histogram"
           }
          ],
          "histogram2d": [
           {
            "colorbar": {
             "outlinewidth": 0,
             "ticks": ""
            },
            "colorscale": [
             [
              0,
              "#0d0887"
             ],
             [
              0.1111111111111111,
              "#46039f"
             ],
             [
              0.2222222222222222,
              "#7201a8"
             ],
             [
              0.3333333333333333,
              "#9c179e"
             ],
             [
              0.4444444444444444,
              "#bd3786"
             ],
             [
              0.5555555555555556,
              "#d8576b"
             ],
             [
              0.6666666666666666,
              "#ed7953"
             ],
             [
              0.7777777777777778,
              "#fb9f3a"
             ],
             [
              0.8888888888888888,
              "#fdca26"
             ],
             [
              1,
              "#f0f921"
             ]
            ],
            "type": "histogram2d"
           }
          ],
          "histogram2dcontour": [
           {
            "colorbar": {
             "outlinewidth": 0,
             "ticks": ""
            },
            "colorscale": [
             [
              0,
              "#0d0887"
             ],
             [
              0.1111111111111111,
              "#46039f"
             ],
             [
              0.2222222222222222,
              "#7201a8"
             ],
             [
              0.3333333333333333,
              "#9c179e"
             ],
             [
              0.4444444444444444,
              "#bd3786"
             ],
             [
              0.5555555555555556,
              "#d8576b"
             ],
             [
              0.6666666666666666,
              "#ed7953"
             ],
             [
              0.7777777777777778,
              "#fb9f3a"
             ],
             [
              0.8888888888888888,
              "#fdca26"
             ],
             [
              1,
              "#f0f921"
             ]
            ],
            "type": "histogram2dcontour"
           }
          ],
          "mesh3d": [
           {
            "colorbar": {
             "outlinewidth": 0,
             "ticks": ""
            },
            "type": "mesh3d"
           }
          ],
          "parcoords": [
           {
            "line": {
             "colorbar": {
              "outlinewidth": 0,
              "ticks": ""
             }
            },
            "type": "parcoords"
           }
          ],
          "pie": [
           {
            "automargin": true,
            "type": "pie"
           }
          ],
          "scatter": [
           {
            "marker": {
             "line": {
              "color": "#283442"
             }
            },
            "type": "scatter"
           }
          ],
          "scatter3d": [
           {
            "line": {
             "colorbar": {
              "outlinewidth": 0,
              "ticks": ""
             }
            },
            "marker": {
             "colorbar": {
              "outlinewidth": 0,
              "ticks": ""
             }
            },
            "type": "scatter3d"
           }
          ],
          "scattercarpet": [
           {
            "marker": {
             "colorbar": {
              "outlinewidth": 0,
              "ticks": ""
             }
            },
            "type": "scattercarpet"
           }
          ],
          "scattergeo": [
           {
            "marker": {
             "colorbar": {
              "outlinewidth": 0,
              "ticks": ""
             }
            },
            "type": "scattergeo"
           }
          ],
          "scattergl": [
           {
            "marker": {
             "line": {
              "color": "#283442"
             }
            },
            "type": "scattergl"
           }
          ],
          "scattermapbox": [
           {
            "marker": {
             "colorbar": {
              "outlinewidth": 0,
              "ticks": ""
             }
            },
            "type": "scattermapbox"
           }
          ],
          "scatterpolar": [
           {
            "marker": {
             "colorbar": {
              "outlinewidth": 0,
              "ticks": ""
             }
            },
            "type": "scatterpolar"
           }
          ],
          "scatterpolargl": [
           {
            "marker": {
             "colorbar": {
              "outlinewidth": 0,
              "ticks": ""
             }
            },
            "type": "scatterpolargl"
           }
          ],
          "scatterternary": [
           {
            "marker": {
             "colorbar": {
              "outlinewidth": 0,
              "ticks": ""
             }
            },
            "type": "scatterternary"
           }
          ],
          "surface": [
           {
            "colorbar": {
             "outlinewidth": 0,
             "ticks": ""
            },
            "colorscale": [
             [
              0,
              "#0d0887"
             ],
             [
              0.1111111111111111,
              "#46039f"
             ],
             [
              0.2222222222222222,
              "#7201a8"
             ],
             [
              0.3333333333333333,
              "#9c179e"
             ],
             [
              0.4444444444444444,
              "#bd3786"
             ],
             [
              0.5555555555555556,
              "#d8576b"
             ],
             [
              0.6666666666666666,
              "#ed7953"
             ],
             [
              0.7777777777777778,
              "#fb9f3a"
             ],
             [
              0.8888888888888888,
              "#fdca26"
             ],
             [
              1,
              "#f0f921"
             ]
            ],
            "type": "surface"
           }
          ],
          "table": [
           {
            "cells": {
             "fill": {
              "color": "#506784"
             },
             "line": {
              "color": "rgb(17,17,17)"
             }
            },
            "header": {
             "fill": {
              "color": "#2a3f5f"
             },
             "line": {
              "color": "rgb(17,17,17)"
             }
            },
            "type": "table"
           }
          ]
         },
         "layout": {
          "annotationdefaults": {
           "arrowcolor": "#f2f5fa",
           "arrowhead": 0,
           "arrowwidth": 1
          },
          "autotypenumbers": "strict",
          "coloraxis": {
           "colorbar": {
            "outlinewidth": 0,
            "ticks": ""
           }
          },
          "colorscale": {
           "diverging": [
            [
             0,
             "#8e0152"
            ],
            [
             0.1,
             "#c51b7d"
            ],
            [
             0.2,
             "#de77ae"
            ],
            [
             0.3,
             "#f1b6da"
            ],
            [
             0.4,
             "#fde0ef"
            ],
            [
             0.5,
             "#f7f7f7"
            ],
            [
             0.6,
             "#e6f5d0"
            ],
            [
             0.7,
             "#b8e186"
            ],
            [
             0.8,
             "#7fbc41"
            ],
            [
             0.9,
             "#4d9221"
            ],
            [
             1,
             "#276419"
            ]
           ],
           "sequential": [
            [
             0,
             "#0d0887"
            ],
            [
             0.1111111111111111,
             "#46039f"
            ],
            [
             0.2222222222222222,
             "#7201a8"
            ],
            [
             0.3333333333333333,
             "#9c179e"
            ],
            [
             0.4444444444444444,
             "#bd3786"
            ],
            [
             0.5555555555555556,
             "#d8576b"
            ],
            [
             0.6666666666666666,
             "#ed7953"
            ],
            [
             0.7777777777777778,
             "#fb9f3a"
            ],
            [
             0.8888888888888888,
             "#fdca26"
            ],
            [
             1,
             "#f0f921"
            ]
           ],
           "sequentialminus": [
            [
             0,
             "#0d0887"
            ],
            [
             0.1111111111111111,
             "#46039f"
            ],
            [
             0.2222222222222222,
             "#7201a8"
            ],
            [
             0.3333333333333333,
             "#9c179e"
            ],
            [
             0.4444444444444444,
             "#bd3786"
            ],
            [
             0.5555555555555556,
             "#d8576b"
            ],
            [
             0.6666666666666666,
             "#ed7953"
            ],
            [
             0.7777777777777778,
             "#fb9f3a"
            ],
            [
             0.8888888888888888,
             "#fdca26"
            ],
            [
             1,
             "#f0f921"
            ]
           ]
          },
          "colorway": [
           "#636efa",
           "#EF553B",
           "#00cc96",
           "#ab63fa",
           "#FFA15A",
           "#19d3f3",
           "#FF6692",
           "#B6E880",
           "#FF97FF",
           "#FECB52"
          ],
          "font": {
           "color": "#f2f5fa"
          },
          "geo": {
           "bgcolor": "rgb(17,17,17)",
           "lakecolor": "rgb(17,17,17)",
           "landcolor": "rgb(17,17,17)",
           "showlakes": true,
           "showland": true,
           "subunitcolor": "#506784"
          },
          "hoverlabel": {
           "align": "left"
          },
          "hovermode": "closest",
          "mapbox": {
           "style": "dark"
          },
          "paper_bgcolor": "rgb(17,17,17)",
          "plot_bgcolor": "rgb(17,17,17)",
          "polar": {
           "angularaxis": {
            "gridcolor": "#506784",
            "linecolor": "#506784",
            "ticks": ""
           },
           "bgcolor": "rgb(17,17,17)",
           "radialaxis": {
            "gridcolor": "#506784",
            "linecolor": "#506784",
            "ticks": ""
           }
          },
          "scene": {
           "xaxis": {
            "backgroundcolor": "rgb(17,17,17)",
            "gridcolor": "#506784",
            "gridwidth": 2,
            "linecolor": "#506784",
            "showbackground": true,
            "ticks": "",
            "zerolinecolor": "#C8D4E3"
           },
           "yaxis": {
            "backgroundcolor": "rgb(17,17,17)",
            "gridcolor": "#506784",
            "gridwidth": 2,
            "linecolor": "#506784",
            "showbackground": true,
            "ticks": "",
            "zerolinecolor": "#C8D4E3"
           },
           "zaxis": {
            "backgroundcolor": "rgb(17,17,17)",
            "gridcolor": "#506784",
            "gridwidth": 2,
            "linecolor": "#506784",
            "showbackground": true,
            "ticks": "",
            "zerolinecolor": "#C8D4E3"
           }
          },
          "shapedefaults": {
           "line": {
            "color": "#f2f5fa"
           }
          },
          "sliderdefaults": {
           "bgcolor": "#C8D4E3",
           "bordercolor": "rgb(17,17,17)",
           "borderwidth": 1,
           "tickwidth": 0
          },
          "ternary": {
           "aaxis": {
            "gridcolor": "#506784",
            "linecolor": "#506784",
            "ticks": ""
           },
           "baxis": {
            "gridcolor": "#506784",
            "linecolor": "#506784",
            "ticks": ""
           },
           "bgcolor": "rgb(17,17,17)",
           "caxis": {
            "gridcolor": "#506784",
            "linecolor": "#506784",
            "ticks": ""
           }
          },
          "title": {
           "x": 0.05
          },
          "updatemenudefaults": {
           "bgcolor": "#506784",
           "borderwidth": 0
          },
          "xaxis": {
           "automargin": true,
           "gridcolor": "#283442",
           "linecolor": "#506784",
           "ticks": "",
           "title": {
            "standoff": 15
           },
           "zerolinecolor": "#283442",
           "zerolinewidth": 2
          },
          "yaxis": {
           "automargin": true,
           "gridcolor": "#283442",
           "linecolor": "#506784",
           "ticks": "",
           "title": {
            "standoff": 15
           },
           "zerolinecolor": "#283442",
           "zerolinewidth": 2
          }
         }
        },
        "title": {
         "text": "Distribution of Returns"
        },
        "width": 1500,
        "xaxis": {
         "anchor": "y",
         "domain": [
          0,
          1
         ],
         "title": {
          "text": "Returns"
         }
        },
        "yaxis": {
         "anchor": "x",
         "domain": [
          0,
          1
         ],
         "title": {
          "text": "Count"
         }
        }
       }
      },
      "text/html": [
       "<div>                            <div id=\"4a00b8fc-a060-42d6-aad2-413f2fa4754c\" class=\"plotly-graph-div\" style=\"height:900px; width:1500px;\"></div>            <script type=\"text/javascript\">                require([\"plotly\"], function(Plotly) {                    window.PLOTLYENV=window.PLOTLYENV || {};                                    if (document.getElementById(\"4a00b8fc-a060-42d6-aad2-413f2fa4754c\")) {                    Plotly.newPlot(                        \"4a00b8fc-a060-42d6-aad2-413f2fa4754c\",                        [{\"alignmentgroup\":\"True\",\"bingroup\":\"x\",\"histnorm\":\"percent\",\"hovertemplate\":\"variable=Adj Close<br>value=%{x}<br>percent=%{y}<extra></extra>\",\"legendgroup\":\"Adj Close\",\"marker\":{\"color\":\"firebrick\",\"pattern\":{\"shape\":\"\"}},\"name\":\"Adj Close\",\"nbinsx\":80,\"offsetgroup\":\"Adj Close\",\"orientation\":\"v\",\"showlegend\":true,\"texttemplate\":\"%{value}\",\"x\":[0.011941430273306741,-0.0024744295102016034,-0.0019078958453192518,0.0009559611098328702,0.0009546691336217439,0.0011450593391955088,-0.021536285475078798,0.012855457919220603,0.020192192750284166,-0.01036730170827671,-0.009904880265475757,-0.001346460463900856,-0.00019295215264458765,-0.001926548371849135,0.007335877014545744,0.033921053477234286,0.012604385585398337,0.0018302732369555041,0.008587610853057814,-0.029166762530340895,-0.013995069232916935,-0.009651873836515668,-0.001528858616555051,-0.05990420863888257,0.019747634107632805,0.020232020510126514,0.03784112952092911,0.012473537204774843,-0.010424778232915988,0.012832790581606579,0.005106128497167184,-0.011477010946120414,-0.0009517429494345642,-0.024385564669857085,0.050185479082752726,0.018780322234779767,0.01405364608020232,-0.00827923533423558,-0.0043557433686131075,0.02169141119981921,0.020160729979235237,0.0,-0.006120984185653211,-0.012141537658219015,0.01531878790236152,-0.006491086599413887,-0.0008831770480351997,-0.002650925597050491,-0.012936492944049194,0.013824395229744546,0.022230972655548076,-0.016204827588652715,0.004427822265708814,0.0059953742255305364,-0.038737940368055335,-0.02334070732923943,0.034914332332698805,0.025978469821652972,0.011429735154385723,-0.018428300766623606,0.015054715863738188,-0.01518073303826728,-0.0054925878140484885,0.029752576125160024,0.0,-0.004671426095782194,0.012341493384969038,-0.002403810351428115,0.00946659372524139,0.006990481473687193,-0.0016933556018046136,0.00661486149787005,0.007245163903105034,0.011374963876683353,-0.005458084169015165,0.008647984061817215,-0.016653018528895114,0.02308795965719268,-0.0073284503999729855,-0.0016780275280039447,0.007226829136355528,-0.020356842472349146,-0.010730677235828434,0.014462710177343574,0.0054311909677347,0.0015190320501112797,-0.006404704236012915,-0.01374048543050077,-0.008427943551264194,-0.023243609229521178,-0.012253892655294085,-0.04207109115010155,0.01163661819336137,0.010204175514720637,0.02038566793500385,-0.005399788893468926,-0.0009046494789592963,0.01720718553772138,-0.010149715111580138,-0.010433403772854621,-0.0530813559947898,0.0314840013676041,0.010784908582622155,-0.03241417075933395,0.003658094393607758,0.018415565737252892,0.021096015206005125,-0.0051650419969930805,0.003337754192096254,0.022176974191173038,0.009763087799450787,0.00716221562274888,-0.023466739818602034,-0.004551218019679615,0.03346722568057636,-0.00920172741936287,0.017503141885265805,0.005441379301216243,0.004713614609366701,0.024500514093870107,-0.007801853496761324,-0.005299147020614514,0.013060680673221858,-0.0033925880976394263,-0.02621275286249858,-0.012235938902027788,0.001061872505241812,0.020152093598931886,-0.046785664555967,0.0003733761393627244,0.019723568403990477,0.004880514735988273,-0.034718300365217836,0.013417755561422329,0.014159686417216877,-0.02592944430562505,-0.09623962164166366,0.04675578737696817,-0.04053531205082028,0.023790191906919222,0.0020032039349653363,-0.043982380890766115,0.06085313251016178,0.024048909459653434,0.0017323714215060626,0.009415855882398905,-0.0032362353637941377,-0.023300340593404356,-0.0066483041904658036,0.010826719982000688,-0.0015578082867040433,-0.008192046850844958,-0.03618491233594079,-0.001020057303330657,0.029161388379420172,-0.0253013381331052,-0.04882575846444581,-0.034871119778581705,0.007405726515332889,0.03809310550051315,-0.03841194596856767,-0.01428263265522578,0.04935475543957102,-0.011866074214976763,0.05414854683403991,0.013670220390074261,0.012055441349930085,-0.014536498624162841,0.0010244260076823775,0.0026607442527699643,0.03531308375342257,0.003549109137482631,-0.0009825424818133977,-0.0330384372152297,0.0065082694217522,-0.00889078502885332,0.0230375866756678,0.015942589984543787,-0.040407943630681786,0.023712232430828983,-0.07687713862930035,0.07863756276746292,0.003664726008411945,0.020283791225578662,-0.003976323532466686,0.012175765408247496,0.008085303420987344,0.02269161931319208,-0.008033709532411892,-0.004049211915240436,0.012584815041314812,-0.006309859271871887,-0.015970731640234326,0.012319102405629057,0.009271692256181963,-0.003062114849521236,-0.021693333226812994,0.013540144754384364,-0.007163623526440288,-0.006435280030167467,-0.02708542521731183,0.00504348787801745,0.0028099803558321312,0.008406772172327326,0.018658245102672,-0.01266565058708391,-0.01045977238262652,0.01793923155340238,0.02039996096973362,0.014363280030329051,0.0005741019649614376,0.003251035550365877,0.005718791320838967,0.01364668134245095,0.0024306884393074935,-0.003544084543873449,0.0020591626245105576,0.008406551872613743,0.017599124234115138,0.0001819839920884636,-0.0005460969785158198,-0.006920274519461422,0.0075187013602773245,0.01729168640040979,0.006977948651066379,0.009772527204125803,0.011437812519241586,0.006088971680213495,0.0008645996951384127,0.01019360229404187,-0.010090741290474603,0.008120170012170025,-0.013881555744664431,0.010539002287253352,-0.001567803399162182,0.024249973466655916,0.006131749691809629,0.005586689952020718,0.008922617297107083,-0.015518232900806339,-0.0008473544435114722,0.012892344334450856,0.005526586147538204,0.013157925719585517,0.0034523172555653847,-0.007372257189483422,0.006436592195065094,0.0029518917856061755,0.018312601699955966,-0.008670542168516593,0.0024294619869809075,0.011310583104010785,-0.012941396034868435,0.0053414841250782885,0.009016144598607223,-0.008456912242554737,0.004827860004928519,0.009448924418298255,-0.006822116923299482,0.020261258150246375,0.032339898755198826,0.01274567363661916,0.015466268700482733,0.0035836726513560624,-0.06859097845191153,-0.00015983058097823744,0.030675994140606955,0.009300759481307264,-0.0317922795922414,0.019987362326151503,-0.016174288862640274,-0.007113474643593354,-0.01209991157775625,0.01305385680214921,0.01384024990653221,-0.003765796630549656,-0.0026775881473564134,0.00015794426579618381,0.016106048475444723,-0.006216037037873323,-0.014698930691599221,0.0022220293990409257,0.005542239103291768,-0.023307152624598926,-0.033537650566172306,0.005943438187704153,0.026585714167859598,-0.006556252400279461,0.0019797284323488373,0.013008523206500033,-0.01414163106930777,-0.02275349053307074,0.002699533301391499,0.026081027470906015,-0.01311902482524352,-0.028414846685034578,0.01419524575337161,0.020067529991491195,-0.0006612186045585888,-0.03358146622992619,-0.03355016048359971,-0.0028340409104335995,-0.04049716848451035,0.04479825217942168,-0.02197024699982808,0.00652181348596681,0.0016198307034629433,0.021383571002414392,-0.05436313497001499,-0.007069817296307956,-0.04721751701529964,0.04648970463682511,0.023034396743658148,0.013211718989716958,0.023691517577006715,-0.0005382640052797871,0.018488699055903668,-0.01780065380750462,0.020455952698004376,0.017935470587651325,-0.004145672700647363,-0.004683361642696671,0.02195872469459048,-0.018758394225214636,0.02259292363308929,0.010197098250700476,0.0020188905472910967,0.0016789477529621788,-0.0006705530707210583,-0.008554060070257719,-0.04330910728483672,0.005128214368189443,0.0021110900646115205,-0.005091301765692169,0.027174921151007947,-0.025253301372711423,0.04806794569910933,0.009572642885006033,-0.006264843938609821,0.0034077434651174077,-0.0030565389857118985,-0.0020438926152535064,-0.05905447937729058,0.005260260432019104,0.005593555982358112,-0.005024146132343477,0.01496845992183271,0.023276498977563342,0.010765652079384846,-0.0008588892526486536,-0.006877595093652822,-0.012984650349797011,0.01736522269898333,0.019827633321996885,0.008960277255068094,0.014912791312035933,-0.0016509173440854008,0.0013230284089893463,0.0019817825268886313,-0.011208118847445436,0.00966814682817918,0.015024085617402205,0.018688669005589187,0.001460070716903017,0.003888000754307619,0.011134353882391368,0.005904816558597981,-0.03918759927687532,-0.009246997883541996,0.02016658503957247,0.006861618892935573,-0.05111143451232192,-0.030950832430067687,-0.10005279710411619,-0.17411775401639307,-0.031338925408517126,0.15269612107592367,0.003402085021447787,0.03263385943985764,0.0036938567057573923,0.016765527511833023,-0.010255347600102493,0.027631181385330494,0.01166453558270919,-0.010748595676205785,0.06598191295253142,0.06152710541651274,-0.054294738540197396,0.03152526998630112,-0.011386203144388207,0.039670778316466704,-0.01055026081499788,0.02487995611410798,0.007976479203619657,-0.007569217205018464,0.010573717479045674,0.01886796931489676,0.0006732926077870349,-0.001177640470842567,-0.006905868270698168,0.008650098264878725,-0.021355333334108995,0.0024053919383180133,0.01714093955985696,0.023255718245364543,-0.021903760894367075,-0.005893159398208336,-0.02184970615291959,0.08415595011277754,0.022520358209576097,0.00515447957812043,-0.0021754431594159795,0.031926534183737365,-0.011470030004824494,0.01602687486597154,0.012910374022389037,0.013345035861130894,0.022935907733449,-0.00043395683708025157,0.015195432955271482,-0.023235982134574784,0.03137765836160056,0.018253855289040333,-0.012506937448861,-0.007458534638778991,-0.024528414564701784,0.031685994380315385,-0.0004227597703345687,-0.009443130880531725,0.02418892218938007,-0.007085279913087161,0.018329211157673386,0.004671673258626496,-0.004923321199788,0.008383606154914292,-0.00981320111052586,0.01335169370431566,0.010730942417300326,0.015051382570999916,-0.009664995927379683,-0.008676183052248931,0.006138310248100964,-0.0031182755537861873,-0.0023119936389043305,-0.032442701694550324,0.018173957757500414,0.007195285302773913,0.00315983017621968,0.0015065151108393238,-0.012853837653040712,0.015099058168714263,0.020605881095745238,-0.006150555698390403,-0.03874611396965644,0.017914554975549057,-0.03148620841713734,0.008659737459991268,0.026319632113938507,0.008776651850195494,0.0023111589295194968,0.005696323987659957,-0.002697161044180829,-0.020689762099875386,-0.02858321464798219,0.002132193990153297,-0.014326422333728162,0.0056428608094334365,0.03613062988336435,0.0026714772464233594,-0.012405711297009181,0.015780416749676007,-0.042827117810240956,0.007457243432038352,0.0029028403848188056,-0.010275058114849633,0.0020471984082930383,-0.02597413699559481,-0.07805234964908125,0.015112075882588005,0.06114940505113231,0.004223867076036614,0.018626834610323773,-0.03657267080645177,-0.0050512127800890205,-0.029384639354357756,-0.017118455886517836,-0.05095952638524359,0.02107058793625982,0.027958077962084937,0.018617380297714536,-0.006993020015199081],\"xaxis\":\"x\",\"yaxis\":\"y\",\"type\":\"histogram\"}],                        {\"template\":{\"data\":{\"barpolar\":[{\"marker\":{\"line\":{\"color\":\"rgb(17,17,17)\",\"width\":0.5},\"pattern\":{\"fillmode\":\"overlay\",\"size\":10,\"solidity\":0.2}},\"type\":\"barpolar\"}],\"bar\":[{\"error_x\":{\"color\":\"#f2f5fa\"},\"error_y\":{\"color\":\"#f2f5fa\"},\"marker\":{\"line\":{\"color\":\"rgb(17,17,17)\",\"width\":0.5},\"pattern\":{\"fillmode\":\"overlay\",\"size\":10,\"solidity\":0.2}},\"type\":\"bar\"}],\"carpet\":[{\"aaxis\":{\"endlinecolor\":\"#A2B1C6\",\"gridcolor\":\"#506784\",\"linecolor\":\"#506784\",\"minorgridcolor\":\"#506784\",\"startlinecolor\":\"#A2B1C6\"},\"baxis\":{\"endlinecolor\":\"#A2B1C6\",\"gridcolor\":\"#506784\",\"linecolor\":\"#506784\",\"minorgridcolor\":\"#506784\",\"startlinecolor\":\"#A2B1C6\"},\"type\":\"carpet\"}],\"choropleth\":[{\"colorbar\":{\"outlinewidth\":0,\"ticks\":\"\"},\"type\":\"choropleth\"}],\"contourcarpet\":[{\"colorbar\":{\"outlinewidth\":0,\"ticks\":\"\"},\"type\":\"contourcarpet\"}],\"contour\":[{\"colorbar\":{\"outlinewidth\":0,\"ticks\":\"\"},\"colorscale\":[[0.0,\"#0d0887\"],[0.1111111111111111,\"#46039f\"],[0.2222222222222222,\"#7201a8\"],[0.3333333333333333,\"#9c179e\"],[0.4444444444444444,\"#bd3786\"],[0.5555555555555556,\"#d8576b\"],[0.6666666666666666,\"#ed7953\"],[0.7777777777777778,\"#fb9f3a\"],[0.8888888888888888,\"#fdca26\"],[1.0,\"#f0f921\"]],\"type\":\"contour\"}],\"heatmapgl\":[{\"colorbar\":{\"outlinewidth\":0,\"ticks\":\"\"},\"colorscale\":[[0.0,\"#0d0887\"],[0.1111111111111111,\"#46039f\"],[0.2222222222222222,\"#7201a8\"],[0.3333333333333333,\"#9c179e\"],[0.4444444444444444,\"#bd3786\"],[0.5555555555555556,\"#d8576b\"],[0.6666666666666666,\"#ed7953\"],[0.7777777777777778,\"#fb9f3a\"],[0.8888888888888888,\"#fdca26\"],[1.0,\"#f0f921\"]],\"type\":\"heatmapgl\"}],\"heatmap\":[{\"colorbar\":{\"outlinewidth\":0,\"ticks\":\"\"},\"colorscale\":[[0.0,\"#0d0887\"],[0.1111111111111111,\"#46039f\"],[0.2222222222222222,\"#7201a8\"],[0.3333333333333333,\"#9c179e\"],[0.4444444444444444,\"#bd3786\"],[0.5555555555555556,\"#d8576b\"],[0.6666666666666666,\"#ed7953\"],[0.7777777777777778,\"#fb9f3a\"],[0.8888888888888888,\"#fdca26\"],[1.0,\"#f0f921\"]],\"type\":\"heatmap\"}],\"histogram2dcontour\":[{\"colorbar\":{\"outlinewidth\":0,\"ticks\":\"\"},\"colorscale\":[[0.0,\"#0d0887\"],[0.1111111111111111,\"#46039f\"],[0.2222222222222222,\"#7201a8\"],[0.3333333333333333,\"#9c179e\"],[0.4444444444444444,\"#bd3786\"],[0.5555555555555556,\"#d8576b\"],[0.6666666666666666,\"#ed7953\"],[0.7777777777777778,\"#fb9f3a\"],[0.8888888888888888,\"#fdca26\"],[1.0,\"#f0f921\"]],\"type\":\"histogram2dcontour\"}],\"histogram2d\":[{\"colorbar\":{\"outlinewidth\":0,\"ticks\":\"\"},\"colorscale\":[[0.0,\"#0d0887\"],[0.1111111111111111,\"#46039f\"],[0.2222222222222222,\"#7201a8\"],[0.3333333333333333,\"#9c179e\"],[0.4444444444444444,\"#bd3786\"],[0.5555555555555556,\"#d8576b\"],[0.6666666666666666,\"#ed7953\"],[0.7777777777777778,\"#fb9f3a\"],[0.8888888888888888,\"#fdca26\"],[1.0,\"#f0f921\"]],\"type\":\"histogram2d\"}],\"histogram\":[{\"marker\":{\"pattern\":{\"fillmode\":\"overlay\",\"size\":10,\"solidity\":0.2}},\"type\":\"histogram\"}],\"mesh3d\":[{\"colorbar\":{\"outlinewidth\":0,\"ticks\":\"\"},\"type\":\"mesh3d\"}],\"parcoords\":[{\"line\":{\"colorbar\":{\"outlinewidth\":0,\"ticks\":\"\"}},\"type\":\"parcoords\"}],\"pie\":[{\"automargin\":true,\"type\":\"pie\"}],\"scatter3d\":[{\"line\":{\"colorbar\":{\"outlinewidth\":0,\"ticks\":\"\"}},\"marker\":{\"colorbar\":{\"outlinewidth\":0,\"ticks\":\"\"}},\"type\":\"scatter3d\"}],\"scattercarpet\":[{\"marker\":{\"colorbar\":{\"outlinewidth\":0,\"ticks\":\"\"}},\"type\":\"scattercarpet\"}],\"scattergeo\":[{\"marker\":{\"colorbar\":{\"outlinewidth\":0,\"ticks\":\"\"}},\"type\":\"scattergeo\"}],\"scattergl\":[{\"marker\":{\"line\":{\"color\":\"#283442\"}},\"type\":\"scattergl\"}],\"scattermapbox\":[{\"marker\":{\"colorbar\":{\"outlinewidth\":0,\"ticks\":\"\"}},\"type\":\"scattermapbox\"}],\"scatterpolargl\":[{\"marker\":{\"colorbar\":{\"outlinewidth\":0,\"ticks\":\"\"}},\"type\":\"scatterpolargl\"}],\"scatterpolar\":[{\"marker\":{\"colorbar\":{\"outlinewidth\":0,\"ticks\":\"\"}},\"type\":\"scatterpolar\"}],\"scatter\":[{\"marker\":{\"line\":{\"color\":\"#283442\"}},\"type\":\"scatter\"}],\"scatterternary\":[{\"marker\":{\"colorbar\":{\"outlinewidth\":0,\"ticks\":\"\"}},\"type\":\"scatterternary\"}],\"surface\":[{\"colorbar\":{\"outlinewidth\":0,\"ticks\":\"\"},\"colorscale\":[[0.0,\"#0d0887\"],[0.1111111111111111,\"#46039f\"],[0.2222222222222222,\"#7201a8\"],[0.3333333333333333,\"#9c179e\"],[0.4444444444444444,\"#bd3786\"],[0.5555555555555556,\"#d8576b\"],[0.6666666666666666,\"#ed7953\"],[0.7777777777777778,\"#fb9f3a\"],[0.8888888888888888,\"#fdca26\"],[1.0,\"#f0f921\"]],\"type\":\"surface\"}],\"table\":[{\"cells\":{\"fill\":{\"color\":\"#506784\"},\"line\":{\"color\":\"rgb(17,17,17)\"}},\"header\":{\"fill\":{\"color\":\"#2a3f5f\"},\"line\":{\"color\":\"rgb(17,17,17)\"}},\"type\":\"table\"}]},\"layout\":{\"annotationdefaults\":{\"arrowcolor\":\"#f2f5fa\",\"arrowhead\":0,\"arrowwidth\":1},\"autotypenumbers\":\"strict\",\"coloraxis\":{\"colorbar\":{\"outlinewidth\":0,\"ticks\":\"\"}},\"colorscale\":{\"diverging\":[[0,\"#8e0152\"],[0.1,\"#c51b7d\"],[0.2,\"#de77ae\"],[0.3,\"#f1b6da\"],[0.4,\"#fde0ef\"],[0.5,\"#f7f7f7\"],[0.6,\"#e6f5d0\"],[0.7,\"#b8e186\"],[0.8,\"#7fbc41\"],[0.9,\"#4d9221\"],[1,\"#276419\"]],\"sequential\":[[0.0,\"#0d0887\"],[0.1111111111111111,\"#46039f\"],[0.2222222222222222,\"#7201a8\"],[0.3333333333333333,\"#9c179e\"],[0.4444444444444444,\"#bd3786\"],[0.5555555555555556,\"#d8576b\"],[0.6666666666666666,\"#ed7953\"],[0.7777777777777778,\"#fb9f3a\"],[0.8888888888888888,\"#fdca26\"],[1.0,\"#f0f921\"]],\"sequentialminus\":[[0.0,\"#0d0887\"],[0.1111111111111111,\"#46039f\"],[0.2222222222222222,\"#7201a8\"],[0.3333333333333333,\"#9c179e\"],[0.4444444444444444,\"#bd3786\"],[0.5555555555555556,\"#d8576b\"],[0.6666666666666666,\"#ed7953\"],[0.7777777777777778,\"#fb9f3a\"],[0.8888888888888888,\"#fdca26\"],[1.0,\"#f0f921\"]]},\"colorway\":[\"#636efa\",\"#EF553B\",\"#00cc96\",\"#ab63fa\",\"#FFA15A\",\"#19d3f3\",\"#FF6692\",\"#B6E880\",\"#FF97FF\",\"#FECB52\"],\"font\":{\"color\":\"#f2f5fa\"},\"geo\":{\"bgcolor\":\"rgb(17,17,17)\",\"lakecolor\":\"rgb(17,17,17)\",\"landcolor\":\"rgb(17,17,17)\",\"showlakes\":true,\"showland\":true,\"subunitcolor\":\"#506784\"},\"hoverlabel\":{\"align\":\"left\"},\"hovermode\":\"closest\",\"mapbox\":{\"style\":\"dark\"},\"paper_bgcolor\":\"rgb(17,17,17)\",\"plot_bgcolor\":\"rgb(17,17,17)\",\"polar\":{\"angularaxis\":{\"gridcolor\":\"#506784\",\"linecolor\":\"#506784\",\"ticks\":\"\"},\"bgcolor\":\"rgb(17,17,17)\",\"radialaxis\":{\"gridcolor\":\"#506784\",\"linecolor\":\"#506784\",\"ticks\":\"\"}},\"scene\":{\"xaxis\":{\"backgroundcolor\":\"rgb(17,17,17)\",\"gridcolor\":\"#506784\",\"gridwidth\":2,\"linecolor\":\"#506784\",\"showbackground\":true,\"ticks\":\"\",\"zerolinecolor\":\"#C8D4E3\"},\"yaxis\":{\"backgroundcolor\":\"rgb(17,17,17)\",\"gridcolor\":\"#506784\",\"gridwidth\":2,\"linecolor\":\"#506784\",\"showbackground\":true,\"ticks\":\"\",\"zerolinecolor\":\"#C8D4E3\"},\"zaxis\":{\"backgroundcolor\":\"rgb(17,17,17)\",\"gridcolor\":\"#506784\",\"gridwidth\":2,\"linecolor\":\"#506784\",\"showbackground\":true,\"ticks\":\"\",\"zerolinecolor\":\"#C8D4E3\"}},\"shapedefaults\":{\"line\":{\"color\":\"#f2f5fa\"}},\"sliderdefaults\":{\"bgcolor\":\"#C8D4E3\",\"bordercolor\":\"rgb(17,17,17)\",\"borderwidth\":1,\"tickwidth\":0},\"ternary\":{\"aaxis\":{\"gridcolor\":\"#506784\",\"linecolor\":\"#506784\",\"ticks\":\"\"},\"baxis\":{\"gridcolor\":\"#506784\",\"linecolor\":\"#506784\",\"ticks\":\"\"},\"bgcolor\":\"rgb(17,17,17)\",\"caxis\":{\"gridcolor\":\"#506784\",\"linecolor\":\"#506784\",\"ticks\":\"\"}},\"title\":{\"x\":0.05},\"updatemenudefaults\":{\"bgcolor\":\"#506784\",\"borderwidth\":0},\"xaxis\":{\"automargin\":true,\"gridcolor\":\"#283442\",\"linecolor\":\"#506784\",\"ticks\":\"\",\"title\":{\"standoff\":15},\"zerolinecolor\":\"#283442\",\"zerolinewidth\":2},\"yaxis\":{\"automargin\":true,\"gridcolor\":\"#283442\",\"linecolor\":\"#506784\",\"ticks\":\"\",\"title\":{\"standoff\":15},\"zerolinecolor\":\"#283442\",\"zerolinewidth\":2}}},\"xaxis\":{\"anchor\":\"y\",\"domain\":[0.0,1.0],\"title\":{\"text\":\"Returns\"}},\"yaxis\":{\"anchor\":\"x\",\"domain\":[0.0,1.0],\"title\":{\"text\":\"Count\"}},\"legend\":{\"title\":{\"text\":\"variable\"},\"tracegroupgap\":0},\"margin\":{\"t\":60},\"barmode\":\"relative\",\"title\":{\"text\":\"Distribution of Returns\"},\"width\":1500,\"height\":900},                        {\"responsive\": true}                    ).then(function(){\n",
       "                            \n",
       "var gd = document.getElementById('4a00b8fc-a060-42d6-aad2-413f2fa4754c');\n",
       "var x = new MutationObserver(function (mutations, observer) {{\n",
       "        var display = window.getComputedStyle(gd).display;\n",
       "        if (!display || display === 'none') {{\n",
       "            console.log([gd, 'removed!']);\n",
       "            Plotly.purge(gd);\n",
       "            observer.disconnect();\n",
       "        }}\n",
       "}});\n",
       "\n",
       "// Listen for the removal of the full notebook cells\n",
       "var notebookContainer = gd.closest('#notebook-container');\n",
       "if (notebookContainer) {{\n",
       "    x.observe(notebookContainer, {childList: true});\n",
       "}}\n",
       "\n",
       "// Listen for the clearing of the current output cell\n",
       "var outputEl = gd.closest('.output');\n",
       "if (outputEl) {{\n",
       "    x.observe(outputEl, {childList: true});\n",
       "}}\n",
       "\n",
       "                        })                };                });            </script>        </div>"
      ]
     },
     "metadata": {},
     "output_type": "display_data"
    }
   ],
   "source": [
    "# Create histogram using Plotly Express\n",
    "fig = px.histogram(world_returns, nbins=80, color_discrete_sequence=['firebrick'], text_auto=True, histnorm='percent')\n",
    "\n",
    "\n",
    "# Customize the layout if needed\n",
    "fig.update_layout(title=\"Distribution of Returns\", xaxis_title=\"Returns\", yaxis_title=\"Count\",width=1500, height=900,template = \"plotly_dark\")\n",
    "fig.show()"
   ]
  },
  {
   "attachments": {},
   "cell_type": "markdown",
   "metadata": {},
   "source": [
    "Histograms are a great tool for exploring data. However, there is still more to uncover. As you may have noticed, we have begun delving into the realm of probability. In our next blog, we will continue this exploration so that we can gain a deeper understanding of distributions and appreciate concepts such as skewness, fat tails, probability of events, and more. By incorporating these theories, we will further enhance our data analysis capabilities."
   ]
  },
  {
   "attachments": {},
   "cell_type": "markdown",
   "metadata": {},
   "source": [
    "#### References\n",
    "- \"Quantitative Investment Analysis\", by DeFusco, McLeavey, Pinto, and Runkle\n",
    "- \"Introduction to Modern Statistics\", by Mine Çetinkaya-Rundel and Johanna Hardin"
   ]
  }
 ],
 "metadata": {
  "kernelspec": {
   "display_name": "base",
   "language": "python",
   "name": "python3"
  },
  "language_info": {
   "codemirror_mode": {
    "name": "ipython",
    "version": 3
   },
   "file_extension": ".py",
   "mimetype": "text/x-python",
   "name": "python",
   "nbconvert_exporter": "python",
   "pygments_lexer": "ipython3",
   "version": "3.10.9"
  },
  "orig_nbformat": 4
 },
 "nbformat": 4,
 "nbformat_minor": 2
}
