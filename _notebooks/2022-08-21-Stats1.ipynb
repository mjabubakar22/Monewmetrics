{
 "cells": [
  {
   "attachments": {},
   "cell_type": "markdown",
   "id": "1bb21f4f",
   "metadata": {},
   "source": [
    "# EDA PART 1, Summary Statistics\n",
    "> In this notebook we'll go through some basic concepts that most if not all statisticians and data analysts look at when they first encouter a data set\n",
    "\n",
    "- toc: true\n",
    "- badges: true\n",
    "- categories:[Statistics & Probability]\n",
    "- image:images/math.jpg"
   ]
  },
  {
   "attachments": {},
   "cell_type": "markdown",
   "id": "d7d6bbef",
   "metadata": {},
   "source": [
    "Exploratory Data Analysis (EDA) is a systematic and unbiased approach to analyze and understand a dataset by employing statistical techniques and visualizations. It involves thoroughly examining the dataset from various perspectives, summarizing its characteristics, and identifying key patterns, trends, or anomalies without making any prior assumptions about the data's nature or underlying relationships. EDA aims to provide meaningful insights and uncover relevant features of the data that can guide further analysis and decision-making processes.\n",
    "\n",
    "There are two types of data, categorical and numerical data.\n",
    "\n",
    "Categorical data, also known as qualitative data, is a type of data that represents characteristics or attributes that belong to a specific category or group\n",
    "\n",
    "While, Numerical data, also known as quantitative data, is a type of data that consists of numeric values representing measurable quantities or variables.\n"
   ]
  },
  {
   "attachments": {},
   "cell_type": "markdown",
   "id": "93a53c99",
   "metadata": {},
   "source": [
    "Univariate Analysis: Univariate analysis is a type of exploratory data analysis that focuses on analyzing or dealing with only one variable at a time. It involves examining and describing the data of a single variable, aiming to identify patterns and characteristics within that variable. Univariate analysis does not consider causes or relationships and primarily serves the purpose of providing insights and summarizing data.\n",
    "\n",
    "Bivariate Analysis: Bivariate analysis is a type of exploratory data analysis that involves the analysis of two different variables simultaneously. It explores the relationship between these two variables, aiming to understand how changes in one variable may impact the other. Bivariate analysis delves into causality and relationships, seeking to identify associations and dependencies between the two variables under investigation.\n",
    "\n",
    "Multivariate Analysis: Multivariate analysis is a type of exploratory data analysis that deals with datasets containing three or more variables. It examines the relationships and patterns between multiple variables, allowing for a more comprehensive analysis of the data. Multivariate analysis employs various statistical techniques and graphical representations to uncover complex relationships and interactions among the variables, facilitating a deeper understanding of the dataset as a whole.\n"
   ]
  },
  {
   "attachments": {},
   "cell_type": "markdown",
   "id": "c09b7734",
   "metadata": {},
   "source": [
    "EDA consists of two parts, \n",
    "\n",
    "Non-graphical Analysis and Graphical Analysis\n",
    "Non-graphical Analysis: Non-graphical analysis in exploratory data analysis involves examining and analyzing data using statistical tools and measures such summary statistic that quantitatively describes or summarizes features of a dataset. It focuses on understanding the characteristics and patterns for mostly one variable but can also be used for two or more variables.\n",
    "\n",
    "Graphical Analysis: Graphical analysis is the most common part of exploratory data analysis that utilizes visualizations and charts to analyze and interpret data. It involves representing data in graphical forms to visually identify trends, patterns, distributions, relationships between variables or even compare different variables. Graphical analysis provides a comprehensive view of the data, allowing for a better understanding of the underlying structure and facilitating the exploration of multivariate relationships.\n",
    "\n",
    "We'll start off by first performing the non graphical part then we will finish with graphical analysis in the second part\n"
   ]
  },
  {
   "attachments": {},
   "cell_type": "markdown",
   "id": "5c28cf99-71b0-4517-8cc2-ee152bc99801",
   "metadata": {},
   "source": [
    "## Measures of central tendency:\n",
    "A measure of central tendency (also referred to as measures of center or central location) is a summary measure that attempts to describe a whole set of data with a single value that represents the middle or center of its distribution.\n"
   ]
  },
  {
   "attachments": {},
   "cell_type": "markdown",
   "id": "fcce7bbd-108e-4b45-bc7b-ace121156b37",
   "metadata": {},
   "source": [
    "#### Mean:\n",
    "The arithmetic mean is the sum of the observations divided by the number of observations. The arithmetic mean is by far the most frequently used measure of the middle or center of data. The mean is also referred to as the average\n",
    "The population mean, μ, is the arithmetic mean value of a population. For a finite population, the population mean is:\n",
    "\n",
    "$$\\mu = \\dfrac{\\sum_{i=1}^N X_i}{N} $$\n",
    "\n",
    "where $N$ is the number of observations in the entire population and $X_i$\n",
    "is the $i$th observation.\n",
    "\n",
    "The sample mean is the arithmetic mean computed for a sample. A sample is a percentage of the total population in statistics. You can use the data from a sample to make inferences about a population as a whole. The concept of the mean can be applied to the observations in a sample with a slight change in notation. \n",
    "\n",
    "$$\\bar{x} = \\dfrac{\\sum_{i=1}^n X_i}{n} $$\n",
    "\n",
    "where $n$ is the number of observations in the sample."
   ]
  },
  {
   "cell_type": "code",
   "execution_count": 31,
   "id": "23caf5af-8583-4203-ba95-08930a1e5a4a",
   "metadata": {},
   "outputs": [],
   "source": [
    "#importing relevant libraries\n",
    "import pandas as pd\n",
    "import numpy as np\n",
    "import yfinance as yf\n",
    "import scipy.stats as stats\n",
    "import statistics"
   ]
  },
  {
   "cell_type": "code",
   "execution_count": null,
   "id": "b2f7b9cc",
   "metadata": {},
   "outputs": [],
   "source": [
    "#Downloading data\n",
    "msft_daily = yf.download('MSFT', '2016-01-01', '2021-12-31', interval= '1d')['Adj Close']"
   ]
  },
  {
   "cell_type": "code",
   "execution_count": 2,
   "id": "5dd6b4e0",
   "metadata": {},
   "outputs": [
    {
     "name": "stdout",
     "output_type": "stream",
     "text": [
      "The average daily return for Microsoft stock is: 0.14%\n"
     ]
    }
   ],
   "source": [
    "#Calculating average return\n",
    "msft_returns = msft_daily.pct_change(1).dropna()\n",
    "average_return = str(round((np.mean(msft_returns) * 100),2)) + '%'\n",
    "print(f'The average daily return for Microsoft stock is: {average_return}')"
   ]
  },
  {
   "attachments": {},
   "cell_type": "markdown",
   "id": "aeb9c9cd-9e52-41f7-bf71-0b49d239ee9e",
   "metadata": {},
   "source": [
    "#### Weighted mean:\n",
    "\n",
    "The ordinary arithmetic mean is where all sample observations are equally weighted by the factor 1/n (each of the data points contributes equally to the final average).\n",
    "\n",
    "But with the weighted mean, some data points contribute more than others based on their weighting, the higher the weighting, the more it influences the final average. The weighted mean is also referred to as the weighted average\n",
    "\n",
    "$$\\bar{X}_w = {\\sum_{i=1}^n w_i X_i} $$\n",
    "\n",
    "where the sum of the weights equals 1; that is,$\\sum_{i} w_i = 1$"
   ]
  },
  {
   "cell_type": "code",
   "execution_count": 6,
   "id": "65fd5130-09d2-415c-a06b-12f646266b3f",
   "metadata": {},
   "outputs": [
    {
     "name": "stdout",
     "output_type": "stream",
     "text": [
      "[*********************100%***********************]  1 of 1 completed\n",
      "[*********************100%***********************]  1 of 1 completed\n",
      "[*********************100%***********************]  1 of 1 completed\n"
     ]
    }
   ],
   "source": [
    "#Downloading data\n",
    "aapl = yf.download('AAPL', '2021-10-01', '2021-12-31', interval= '1d')['Adj Close']\n",
    "nvdia = yf.download('NVDA', '2021-10-01', '2021-12-31', interval= '1d')['Adj Close']\n",
    "msft = yf.download('MSFT', '2021-10-01', '2021-12-31', interval= '1d')['Adj Close']"
   ]
  },
  {
   "cell_type": "code",
   "execution_count": 8,
   "id": "9d79ff70",
   "metadata": {},
   "outputs": [
    {
     "name": "stdout",
     "output_type": "stream",
     "text": [
      "The Weighted mean return of the portfolio assuming a 50/30/20 split is: 0.25%\n",
      "The Arithmetic mean return of the portfolio assuming no split is: 0.35%\n"
     ]
    }
   ],
   "source": [
    "#Calculating 2021 Q4 return\n",
    "msft_ret = (msft[-1] - msft[0])/msft[0]\n",
    "aapl_ret = (aapl[-1] - aapl[0])/aapl[0]\n",
    "nvda_ret = (nvdia[-1] - nvdia[0])/aapl[0]\n",
    "\n",
    "#portfolio return if 50% of capital was deplyoed in microsoft,30% in apple and 20% in nvidia\n",
    "Wavg = (msft_ret * .50 + aapl_ret + .30 + nvda_ret * .20)/3\n",
    "avg = (msft_ret + aapl_ret + nvda_ret)/3\n",
    "\n",
    "weighted = str(round(Wavg,2)) + '%'\n",
    "arith = str(round(avg,2)) + '%'\n",
    "\n",
    "print(f\"The Weighted mean return of the portfolio assuming a 50/30/20 split is: {weighted}\")\n",
    "print(f\"The Arithmetic mean return of the portfolio assuming no split is:\", arith)"
   ]
  },
  {
   "attachments": {},
   "cell_type": "markdown",
   "id": "0c1cb7f2-6d5f-4918-8a4d-d2ac79da32af",
   "metadata": {},
   "source": [
    "The weighted mean is also very useful when calculating a theoretically expected outcome where each outcome has a different probability of occurring (more on this in probability concepts)"
   ]
  },
  {
   "attachments": {},
   "cell_type": "markdown",
   "id": "4651a8af",
   "metadata": {},
   "source": [
    "#### Harmonic mean:\n",
    "The harmonic mean is a type of numerical average. It is calculated by dividing the number of observations by the reciprocal of each number in the series. Thus, the harmonic mean is the reciprocal of the arithmetic mean of the reciprocals.\n",
    "\n",
    "$$\\bar{X}_h = \\dfrac{n}{\\sum_{i=1}^n \\dfrac1X_i} $$"
   ]
  },
  {
   "attachments": {},
   "cell_type": "markdown",
   "id": "677c69e6",
   "metadata": {},
   "source": [
    "#### Geometric mean:\n",
    "The geometric mean is most frequently used to average rates of change over time or to compute the growth rate of a variable. \n",
    "\n",
    "For volatile numbers like stock returns, the geometric average provides a far more accurate measurement of the true return by taking into account year-over-year compounding that smooths the average.\n",
    "\n",
    "$$ G = \\sqrt[n]{X_1,X_2,X_3....X_n} $$"
   ]
  },
  {
   "attachments": {},
   "cell_type": "markdown",
   "id": "0a2d02fb",
   "metadata": {},
   "source": [
    "Data Source: https://www.kaggle.com/datasets/paytonfisher/sp-500-companies-with-financial-information?resource=download"
   ]
  },
  {
   "cell_type": "code",
   "execution_count": 9,
   "id": "b613d152",
   "metadata": {},
   "outputs": [
    {
     "data": {
      "text/html": [
       "<div>\n",
       "<style scoped>\n",
       "    .dataframe tbody tr th:only-of-type {\n",
       "        vertical-align: middle;\n",
       "    }\n",
       "\n",
       "    .dataframe tbody tr th {\n",
       "        vertical-align: top;\n",
       "    }\n",
       "\n",
       "    .dataframe thead th {\n",
       "        text-align: right;\n",
       "    }\n",
       "</style>\n",
       "<table border=\"1\" class=\"dataframe\">\n",
       "  <thead>\n",
       "    <tr style=\"text-align: right;\">\n",
       "      <th></th>\n",
       "      <th>Symbol</th>\n",
       "      <th>Name</th>\n",
       "      <th>Sector</th>\n",
       "      <th>Price</th>\n",
       "      <th>Price/Earnings</th>\n",
       "      <th>Dividend Yield</th>\n",
       "      <th>Earnings/Share</th>\n",
       "      <th>52 Week Low</th>\n",
       "      <th>52 Week High</th>\n",
       "      <th>Market Cap</th>\n",
       "      <th>EBITDA</th>\n",
       "      <th>Price/Sales</th>\n",
       "      <th>Price/Book</th>\n",
       "      <th>SEC Filings</th>\n",
       "    </tr>\n",
       "  </thead>\n",
       "  <tbody>\n",
       "    <tr>\n",
       "      <th>0</th>\n",
       "      <td>MMM</td>\n",
       "      <td>3M Company</td>\n",
       "      <td>Industrials</td>\n",
       "      <td>222.89</td>\n",
       "      <td>24.31</td>\n",
       "      <td>2.332862</td>\n",
       "      <td>7.92</td>\n",
       "      <td>259.77</td>\n",
       "      <td>175.490</td>\n",
       "      <td>1.387211e+11</td>\n",
       "      <td>9.048000e+09</td>\n",
       "      <td>4.390271</td>\n",
       "      <td>11.34</td>\n",
       "      <td>http://www.sec.gov/cgi-bin/browse-edgar?action...</td>\n",
       "    </tr>\n",
       "    <tr>\n",
       "      <th>1</th>\n",
       "      <td>AOS</td>\n",
       "      <td>A.O. Smith Corp</td>\n",
       "      <td>Industrials</td>\n",
       "      <td>60.24</td>\n",
       "      <td>27.76</td>\n",
       "      <td>1.147959</td>\n",
       "      <td>1.70</td>\n",
       "      <td>68.39</td>\n",
       "      <td>48.925</td>\n",
       "      <td>1.078342e+10</td>\n",
       "      <td>6.010000e+08</td>\n",
       "      <td>3.575483</td>\n",
       "      <td>6.35</td>\n",
       "      <td>http://www.sec.gov/cgi-bin/browse-edgar?action...</td>\n",
       "    </tr>\n",
       "    <tr>\n",
       "      <th>2</th>\n",
       "      <td>ABT</td>\n",
       "      <td>Abbott Laboratories</td>\n",
       "      <td>Health Care</td>\n",
       "      <td>56.27</td>\n",
       "      <td>22.51</td>\n",
       "      <td>1.908982</td>\n",
       "      <td>0.26</td>\n",
       "      <td>64.60</td>\n",
       "      <td>42.280</td>\n",
       "      <td>1.021210e+11</td>\n",
       "      <td>5.744000e+09</td>\n",
       "      <td>3.740480</td>\n",
       "      <td>3.19</td>\n",
       "      <td>http://www.sec.gov/cgi-bin/browse-edgar?action...</td>\n",
       "    </tr>\n",
       "    <tr>\n",
       "      <th>3</th>\n",
       "      <td>ABBV</td>\n",
       "      <td>AbbVie Inc.</td>\n",
       "      <td>Health Care</td>\n",
       "      <td>108.48</td>\n",
       "      <td>19.41</td>\n",
       "      <td>2.499560</td>\n",
       "      <td>3.29</td>\n",
       "      <td>125.86</td>\n",
       "      <td>60.050</td>\n",
       "      <td>1.813863e+11</td>\n",
       "      <td>1.031000e+10</td>\n",
       "      <td>6.291571</td>\n",
       "      <td>26.14</td>\n",
       "      <td>http://www.sec.gov/cgi-bin/browse-edgar?action...</td>\n",
       "    </tr>\n",
       "    <tr>\n",
       "      <th>4</th>\n",
       "      <td>ACN</td>\n",
       "      <td>Accenture plc</td>\n",
       "      <td>Information Technology</td>\n",
       "      <td>150.51</td>\n",
       "      <td>25.47</td>\n",
       "      <td>1.714470</td>\n",
       "      <td>5.44</td>\n",
       "      <td>162.60</td>\n",
       "      <td>114.820</td>\n",
       "      <td>9.876586e+10</td>\n",
       "      <td>5.643228e+09</td>\n",
       "      <td>2.604117</td>\n",
       "      <td>10.62</td>\n",
       "      <td>http://www.sec.gov/cgi-bin/browse-edgar?action...</td>\n",
       "    </tr>\n",
       "    <tr>\n",
       "      <th>...</th>\n",
       "      <td>...</td>\n",
       "      <td>...</td>\n",
       "      <td>...</td>\n",
       "      <td>...</td>\n",
       "      <td>...</td>\n",
       "      <td>...</td>\n",
       "      <td>...</td>\n",
       "      <td>...</td>\n",
       "      <td>...</td>\n",
       "      <td>...</td>\n",
       "      <td>...</td>\n",
       "      <td>...</td>\n",
       "      <td>...</td>\n",
       "      <td>...</td>\n",
       "    </tr>\n",
       "    <tr>\n",
       "      <th>500</th>\n",
       "      <td>XYL</td>\n",
       "      <td>Xylem Inc.</td>\n",
       "      <td>Industrials</td>\n",
       "      <td>70.24</td>\n",
       "      <td>30.94</td>\n",
       "      <td>1.170079</td>\n",
       "      <td>1.83</td>\n",
       "      <td>76.81</td>\n",
       "      <td>46.860</td>\n",
       "      <td>1.291502e+10</td>\n",
       "      <td>7.220000e+08</td>\n",
       "      <td>2.726209</td>\n",
       "      <td>5.31</td>\n",
       "      <td>http://www.sec.gov/cgi-bin/browse-edgar?action...</td>\n",
       "    </tr>\n",
       "    <tr>\n",
       "      <th>501</th>\n",
       "      <td>YUM</td>\n",
       "      <td>Yum! Brands Inc</td>\n",
       "      <td>Consumer Discretionary</td>\n",
       "      <td>76.30</td>\n",
       "      <td>27.25</td>\n",
       "      <td>1.797080</td>\n",
       "      <td>4.07</td>\n",
       "      <td>86.93</td>\n",
       "      <td>62.850</td>\n",
       "      <td>2.700330e+10</td>\n",
       "      <td>2.289000e+09</td>\n",
       "      <td>6.313636</td>\n",
       "      <td>212.08</td>\n",
       "      <td>http://www.sec.gov/cgi-bin/browse-edgar?action...</td>\n",
       "    </tr>\n",
       "    <tr>\n",
       "      <th>502</th>\n",
       "      <td>ZBH</td>\n",
       "      <td>Zimmer Biomet Holdings</td>\n",
       "      <td>Health Care</td>\n",
       "      <td>115.53</td>\n",
       "      <td>14.32</td>\n",
       "      <td>0.794834</td>\n",
       "      <td>9.01</td>\n",
       "      <td>133.49</td>\n",
       "      <td>108.170</td>\n",
       "      <td>2.445470e+10</td>\n",
       "      <td>2.007400e+09</td>\n",
       "      <td>3.164895</td>\n",
       "      <td>2.39</td>\n",
       "      <td>http://www.sec.gov/cgi-bin/browse-edgar?action...</td>\n",
       "    </tr>\n",
       "    <tr>\n",
       "      <th>503</th>\n",
       "      <td>ZION</td>\n",
       "      <td>Zions Bancorp</td>\n",
       "      <td>Financials</td>\n",
       "      <td>50.71</td>\n",
       "      <td>17.73</td>\n",
       "      <td>1.480933</td>\n",
       "      <td>2.60</td>\n",
       "      <td>55.61</td>\n",
       "      <td>38.430</td>\n",
       "      <td>1.067068e+10</td>\n",
       "      <td>0.000000e+00</td>\n",
       "      <td>3.794579</td>\n",
       "      <td>1.42</td>\n",
       "      <td>http://www.sec.gov/cgi-bin/browse-edgar?action...</td>\n",
       "    </tr>\n",
       "    <tr>\n",
       "      <th>504</th>\n",
       "      <td>ZTS</td>\n",
       "      <td>Zoetis</td>\n",
       "      <td>Health Care</td>\n",
       "      <td>71.51</td>\n",
       "      <td>32.80</td>\n",
       "      <td>0.682372</td>\n",
       "      <td>1.65</td>\n",
       "      <td>80.13</td>\n",
       "      <td>52.000</td>\n",
       "      <td>3.599111e+10</td>\n",
       "      <td>1.734000e+09</td>\n",
       "      <td>9.280896</td>\n",
       "      <td>18.09</td>\n",
       "      <td>http://www.sec.gov/cgi-bin/browse-edgar?action...</td>\n",
       "    </tr>\n",
       "  </tbody>\n",
       "</table>\n",
       "<p>505 rows × 14 columns</p>\n",
       "</div>"
      ],
      "text/plain": [
       "    Symbol                    Name                  Sector   Price  \\\n",
       "0      MMM              3M Company             Industrials  222.89   \n",
       "1      AOS         A.O. Smith Corp             Industrials   60.24   \n",
       "2      ABT     Abbott Laboratories             Health Care   56.27   \n",
       "3     ABBV             AbbVie Inc.             Health Care  108.48   \n",
       "4      ACN           Accenture plc  Information Technology  150.51   \n",
       "..     ...                     ...                     ...     ...   \n",
       "500    XYL              Xylem Inc.             Industrials   70.24   \n",
       "501    YUM         Yum! Brands Inc  Consumer Discretionary   76.30   \n",
       "502    ZBH  Zimmer Biomet Holdings             Health Care  115.53   \n",
       "503   ZION           Zions Bancorp              Financials   50.71   \n",
       "504    ZTS                  Zoetis             Health Care   71.51   \n",
       "\n",
       "     Price/Earnings  Dividend Yield  Earnings/Share  52 Week Low  \\\n",
       "0             24.31        2.332862            7.92       259.77   \n",
       "1             27.76        1.147959            1.70        68.39   \n",
       "2             22.51        1.908982            0.26        64.60   \n",
       "3             19.41        2.499560            3.29       125.86   \n",
       "4             25.47        1.714470            5.44       162.60   \n",
       "..              ...             ...             ...          ...   \n",
       "500           30.94        1.170079            1.83        76.81   \n",
       "501           27.25        1.797080            4.07        86.93   \n",
       "502           14.32        0.794834            9.01       133.49   \n",
       "503           17.73        1.480933            2.60        55.61   \n",
       "504           32.80        0.682372            1.65        80.13   \n",
       "\n",
       "     52 Week High    Market Cap        EBITDA  Price/Sales  Price/Book  \\\n",
       "0         175.490  1.387211e+11  9.048000e+09     4.390271       11.34   \n",
       "1          48.925  1.078342e+10  6.010000e+08     3.575483        6.35   \n",
       "2          42.280  1.021210e+11  5.744000e+09     3.740480        3.19   \n",
       "3          60.050  1.813863e+11  1.031000e+10     6.291571       26.14   \n",
       "4         114.820  9.876586e+10  5.643228e+09     2.604117       10.62   \n",
       "..            ...           ...           ...          ...         ...   \n",
       "500        46.860  1.291502e+10  7.220000e+08     2.726209        5.31   \n",
       "501        62.850  2.700330e+10  2.289000e+09     6.313636      212.08   \n",
       "502       108.170  2.445470e+10  2.007400e+09     3.164895        2.39   \n",
       "503        38.430  1.067068e+10  0.000000e+00     3.794579        1.42   \n",
       "504        52.000  3.599111e+10  1.734000e+09     9.280896       18.09   \n",
       "\n",
       "                                           SEC Filings  \n",
       "0    http://www.sec.gov/cgi-bin/browse-edgar?action...  \n",
       "1    http://www.sec.gov/cgi-bin/browse-edgar?action...  \n",
       "2    http://www.sec.gov/cgi-bin/browse-edgar?action...  \n",
       "3    http://www.sec.gov/cgi-bin/browse-edgar?action...  \n",
       "4    http://www.sec.gov/cgi-bin/browse-edgar?action...  \n",
       "..                                                 ...  \n",
       "500  http://www.sec.gov/cgi-bin/browse-edgar?action...  \n",
       "501  http://www.sec.gov/cgi-bin/browse-edgar?action...  \n",
       "502  http://www.sec.gov/cgi-bin/browse-edgar?action...  \n",
       "503  http://www.sec.gov/cgi-bin/browse-edgar?action...  \n",
       "504  http://www.sec.gov/cgi-bin/browse-edgar?action...  \n",
       "\n",
       "[505 rows x 14 columns]"
      ]
     },
     "execution_count": 9,
     "metadata": {},
     "output_type": "execute_result"
    }
   ],
   "source": [
    "SnP_500 = pd.read_csv('/home/mj22/data/financials.csv')\n",
    "SnP_500"
   ]
  },
  {
   "cell_type": "code",
   "execution_count": 22,
   "id": "5e370245",
   "metadata": {},
   "outputs": [
    {
     "name": "stdout",
     "output_type": "stream",
     "text": [
      "The Harmonic mean of Price to Sales Ratio for companies in the S&P 500 is: 1.95\n",
      "The Geometric mean of  Price to Sales Ratio  for companies in the S&P 500 is: 2.83\n",
      "The Arithmetic mean of  Price to Sales Ratio  for companies in the S&P 500 is: 3.94\n"
     ]
    }
   ],
   "source": [
    "# Use scipy's gmean&hmean function to compute the geometric mean and harmonic mean\n",
    "print(\"The Harmonic mean of Price to Sales Ratio for companies in the S&P 500 is:\", round(stats.hmean(SnP_500['Price/Sales']),2))\n",
    "print(\"The Geometric mean of  Price to Sales Ratio  for companies in the S&P 500 is:\", round(stats.gmean(SnP_500['Price/Sales']),2))\n",
    "print(\"The Arithmetic mean of  Price to Sales Ratio  for companies in the S&P 500 is:\", round(np.mean(SnP_500['Price/Sales']),2))"
   ]
  },
  {
   "attachments": {},
   "cell_type": "markdown",
   "id": "4774c0bb",
   "metadata": {},
   "source": [
    "> “A mathematical fact concerning the harmonic, geometric, and arithmetic means is that unless all the observations in a data set have the same value, the harmonic mean is less than the geometric mean, which in turn is less than the arithmetic mean” – Quantitative Investment Analysis, by DeFusco, McLeavey, Pinto, and Runkle"
   ]
  },
  {
   "attachments": {},
   "cell_type": "markdown",
   "id": "196cc6ee",
   "metadata": {},
   "source": [
    "#### Trimmed mean:\n",
    "A trimmed mean is a method of averaging that removes a small designated percentage of the largest and smallest values before calculating the mean. After removing the specified outlier observations, the trimmed mean is found using a standard arithmetic averaging formula. The use of a trimmed mean helps eliminate the influence of outliers or data points on the tails that may unfairly affect the traditional or arithmetic mean."
   ]
  },
  {
   "attachments": {},
   "cell_type": "markdown",
   "id": "15dbf6e4",
   "metadata": {},
   "source": [
    "To trim the mean by a total of 40%, we remove the lowest 20% and the highest 20% of values, eliminating the scores of 8 and 9"
   ]
  },
  {
   "cell_type": "code",
   "execution_count": 6,
   "id": "fd8869fe",
   "metadata": {},
   "outputs": [
    {
     "name": "stdout",
     "output_type": "stream",
     "text": [
      "Hence, a mean trimmed at 40% would equal 3.0 versus 5.2\n"
     ]
    }
   ],
   "source": [
    "data = [8, 2, 3, 4, 9]\n",
    "mean = np.mean(data)\n",
    "\n",
    "trimmed_data = [2, 3, 4]\n",
    "trimmed_mean = np.mean(trimmed_data)\n",
    "\n",
    "print(f\"Hence, a mean trimmed at 40% would equal {trimmed_mean} versus {mean}\")"
   ]
  },
  {
   "attachments": {},
   "cell_type": "markdown",
   "id": "89ec106f",
   "metadata": {},
   "source": [
    "#### Median:\n",
    "The median is the middle number in a sorted, ascending, or descending list of numbers and can be more descriptive of that data set than the average. It is the point above and below which half (50%) of the observed data falls, and so represents the midpoint of the data.\n"
   ]
  },
  {
   "cell_type": "code",
   "execution_count": 29,
   "id": "55e067b5",
   "metadata": {},
   "outputs": [
    {
     "name": "stdout",
     "output_type": "stream",
     "text": [
      "The Median Price to Sales Ratio for Companies in the S&P 500 is: 2.9\n"
     ]
    }
   ],
   "source": [
    "print(f'The Median Price to Sales Ratio for Companies in the S&P 500 is:', round(np.median(SnP_500['Price/Sales']),2))"
   ]
  },
  {
   "attachments": {},
   "cell_type": "markdown",
   "id": "ff943243",
   "metadata": {},
   "source": [
    "#### Mode:\n",
    "The mode is the value that appears most frequently in a data set\n",
    "A distribution can have more than one mode or even no mode. When a distribution has one most frequently occurring value, the distribution is said to be unimodal. If a distribution has two most frequently occurring values, then it has two modes and we say it is bimodal. If the distribution has three most frequently occurring values, then it is trimodal. When all the values in a data set are different, the distribution has no mode because no value occurs more frequently than any other value. "
   ]
  },
  {
   "cell_type": "code",
   "execution_count": 36,
   "id": "29979821",
   "metadata": {},
   "outputs": [
    {
     "name": "stdout",
     "output_type": "stream",
     "text": [
      "The Mode of the Price to Sales ratio for Companies in the S&P 500 is 4.39, indicating that it is the most commonly occurring value among the dataset\n"
     ]
    }
   ],
   "source": [
    "mode =  round(statistics.mode(SnP_500['Price/Sales']),2)\n",
    "print(f'The Mode of the Price to Sales ratio for Companies in the S&P 500 is {mode}, indicating that it is the most commonly occurring value among the dataset')"
   ]
  },
  {
   "attachments": {},
   "cell_type": "markdown",
   "id": "b4260664",
   "metadata": {},
   "source": [
    "## Measures of dispersion\n",
    "Location is just one dimension in describing data. A second dimension, variability, also referred to as dispersion, measures whether the data values are tightly clustered or spread out.\n"
   ]
  },
  {
   "attachments": {},
   "cell_type": "markdown",
   "id": "12c5c5f9",
   "metadata": {},
   "source": [
    "#### Range:\n",
    "Range, the range of a set of data is the difference between the largest and smallest values, the result of subtracting the sample maximum and minimum. It is expressed in the same units as the data."
   ]
  },
  {
   "cell_type": "code",
   "execution_count": 9,
   "id": "008a4de5",
   "metadata": {},
   "outputs": [
    {
     "name": "stdout",
     "output_type": "stream",
     "text": [
      "The maximum dividend per share paid by Microsoft is 3.08$\n",
      "The minimum dividend per share paid by Microsoft is 0.08$\n",
      "Hence, the range is 3.0$\n"
     ]
    }
   ],
   "source": [
    "maX = np.max(dividends)\n",
    "miN = np.min(dividends)\n",
    "Range= np.ptp(dividends)\n",
    "\n",
    "print(f'The maximum dividend per share paid by Microsoft is {maX}$') \n",
    "print(f'The minimum dividend per share paid by Microsoft is {miN}$')\n",
    "print(f'Hence, the range is {Range}$')"
   ]
  },
  {
   "attachments": {},
   "cell_type": "markdown",
   "id": "3a33d232",
   "metadata": {},
   "source": [
    "#### Variance sample and population:\n",
    "The variance and standard deviation are the two most widely used measures of dispersion\n",
    "Variance is defined as the average of the squared deviations around the mean.\n",
    "Population variance is a measure of the spread of population data. Hence, population variance can be defined as the average of the distances from each data point in a particular population to the mean squared, and it indicates how data points are spread out in the population. we can compute the population variance.Denoted by the symbol σ2\n",
    "\n",
    "Population formula:\n",
    "\n",
    "$$\\sigma^2 = \\dfrac{\\sum_{i=1}^N(x_i - \\mu)^2}N $$\n",
    "\n",
    "While sample formula is:\n",
    "\n",
    "$$s^2 = \\dfrac{\\sum_{i=1}^n(x_i - \\bar x)^2}{n-1} $$\n"
   ]
  },
  {
   "attachments": {},
   "cell_type": "markdown",
   "id": "70a44ccf",
   "metadata": {},
   "source": [
    "#### Standard deviation sample and population:\n",
    "Standard Deviation (SD) is the positive square root of the variance. It is represented by the Greek letter ‘σ’ and is used to measure the amount of variation or dispersion of a set of data values relative to its mean (average), thus interpret the reliability of the data. If it is smaller then the data points lie close to the mean value, thus showing reliability. But if it is larger then data points spread far from the mean.\n",
    "\n",
    "Population formula:\n",
    "\n",
    "$$\\sigma^2 = \\sqrt{\\dfrac{\\sum_{i=1}^N(x_i - \\mu)^2}N} $$\n",
    "\n",
    "While sample formula is:\n",
    "\n",
    "$$s^2 = \\sqrt{\\dfrac{\\sum_{i=1}^n(x_i - \\bar x)^2}{n-1}} $$\n",
    "\n",
    "Hence, Variance Measures Dispersion within the Data Set while the standard deviation measures spread around the mean!\n"
   ]
  },
  {
   "cell_type": "code",
   "execution_count": 10,
   "id": "9b1a286e",
   "metadata": {},
   "outputs": [
    {
     "name": "stdout",
     "output_type": "stream",
     "text": [
      "The variance of Microsoft's daily stock returns: 0.00028\n",
      "The standard deviation of Microsoft's daily stock returns: 0.01684\n"
     ]
    }
   ],
   "source": [
    "print(\"The variance of Microsoft's daily stock returns:\", round(np.var(msft_returns),5))\n",
    "print(\"The standard deviation of Microsoft's daily stock returns:\", round(np.std(msft_returns),5))"
   ]
  },
  {
   "attachments": {},
   "cell_type": "markdown",
   "id": "15172aed",
   "metadata": {},
   "source": [
    "## Relationship between variables  \n",
    "\n",
    "Relationship between variables means, In a dataset, the values of one variable correspond to the values of another variable.\n",
    "\n",
    "By conducting a non-graphical analysis of the relationship between variables, you can quantitatively assess their associations, dependencies, and impacts, providing valuable insights for further analysis and decision-making\n",
    "\n",
    "Moreover, non-graphical analysis of the relationship between variables involves examining the numerical values in a matrix to understand the connections between variables. A covariance matrix and a correlation matrix are square matrices that display the pairwise relationships between different variables in a dataset. They provide valuable insights into the strength and direction of the relationships between variables\n"
   ]
  },
  {
   "attachments": {},
   "cell_type": "markdown",
   "id": "6a41b1f6",
   "metadata": {},
   "source": [
    "#### Covariance \n",
    "Covariance provides insight into how two variables are related to one another. More precisely, covariance refers to the measure of how two random variables in a data set will change together. A positive covariance means that the two variables at hand are positively related, and they move in the same direction. A negative covariance means that the variables are inversely related, or that they move in opposite directions.\n",
    "Both variance and covariance measure how data points are distributed around a calculated mean. However, variance measures the spread of data along a single axis, while covariance examines the directional relationship between two variables.\n",
    "\n",
    "Population formula:\n",
    "\n",
    "$$\\sigma_{xy} = \\dfrac{\\sum_{i=1}^N(x_i - \\mu_x)*(y_i - \\mu_y)}N $$\n",
    "\n",
    "While sample formula is:\n",
    "\n",
    "$$s_{xy} = \\dfrac{\\sum_{i=1}^n(x_i - \\bar x)*(y_i - \\bar y)}{n-1} $$"
   ]
  },
  {
   "cell_type": "code",
   "execution_count": 11,
   "id": "e90d155e",
   "metadata": {},
   "outputs": [
    {
     "name": "stdout",
     "output_type": "stream",
     "text": [
      "[*********************100%***********************]  1 of 1 completed\n",
      "[*********************100%***********************]  1 of 1 completed\n",
      "[*********************100%***********************]  1 of 1 completed\n",
      "[*********************100%***********************]  1 of 1 completed\n",
      "[*********************100%***********************]  1 of 1 completed\n",
      "[*********************100%***********************]  1 of 1 completed\n",
      "[*********************100%***********************]  1 of 1 completed\n"
     ]
    }
   ],
   "source": [
    "assets = ['META','AMZN','NFLX','GOOG','MSFT','NVDA','TSLA']\n",
    "pf_data = pd.DataFrame()\n",
    "for a in assets:\n",
    "    pf_data[a] = yf.download(a, start=\"2021-10-01\", end=\"2021-12-31\", index_col = 'Date', parse_dates=True)['Adj Close']\n",
    "\n",
    "returns = pf_data.pct_change(1).dropna()\n",
    "cov = returns.cov()\n",
    "corr = returns.corr()"
   ]
  },
  {
   "cell_type": "code",
   "execution_count": 12,
   "id": "ed5697df",
   "metadata": {},
   "outputs": [
    {
     "data": {
      "text/html": [
       "<div>\n",
       "<style scoped>\n",
       "    .dataframe tbody tr th:only-of-type {\n",
       "        vertical-align: middle;\n",
       "    }\n",
       "\n",
       "    .dataframe tbody tr th {\n",
       "        vertical-align: top;\n",
       "    }\n",
       "\n",
       "    .dataframe thead th {\n",
       "        text-align: right;\n",
       "    }\n",
       "</style>\n",
       "<table border=\"1\" class=\"dataframe\">\n",
       "  <thead>\n",
       "    <tr style=\"text-align: right;\">\n",
       "      <th></th>\n",
       "      <th>META</th>\n",
       "      <th>AMZN</th>\n",
       "      <th>NFLX</th>\n",
       "      <th>GOOG</th>\n",
       "      <th>MSFT</th>\n",
       "      <th>NVDA</th>\n",
       "      <th>TSLA</th>\n",
       "    </tr>\n",
       "  </thead>\n",
       "  <tbody>\n",
       "    <tr>\n",
       "      <th>META</th>\n",
       "      <td>0.000404</td>\n",
       "      <td>0.000137</td>\n",
       "      <td>0.000143</td>\n",
       "      <td>0.000135</td>\n",
       "      <td>0.000134</td>\n",
       "      <td>0.000252</td>\n",
       "      <td>0.000189</td>\n",
       "    </tr>\n",
       "    <tr>\n",
       "      <th>AMZN</th>\n",
       "      <td>0.000137</td>\n",
       "      <td>0.000253</td>\n",
       "      <td>0.000075</td>\n",
       "      <td>0.000142</td>\n",
       "      <td>0.000111</td>\n",
       "      <td>0.000362</td>\n",
       "      <td>0.000064</td>\n",
       "    </tr>\n",
       "    <tr>\n",
       "      <th>NFLX</th>\n",
       "      <td>0.000143</td>\n",
       "      <td>0.000075</td>\n",
       "      <td>0.000319</td>\n",
       "      <td>0.000098</td>\n",
       "      <td>0.000115</td>\n",
       "      <td>0.000196</td>\n",
       "      <td>0.000151</td>\n",
       "    </tr>\n",
       "    <tr>\n",
       "      <th>GOOG</th>\n",
       "      <td>0.000135</td>\n",
       "      <td>0.000142</td>\n",
       "      <td>0.000098</td>\n",
       "      <td>0.000221</td>\n",
       "      <td>0.000177</td>\n",
       "      <td>0.000284</td>\n",
       "      <td>0.000074</td>\n",
       "    </tr>\n",
       "    <tr>\n",
       "      <th>MSFT</th>\n",
       "      <td>0.000134</td>\n",
       "      <td>0.000111</td>\n",
       "      <td>0.000115</td>\n",
       "      <td>0.000177</td>\n",
       "      <td>0.000207</td>\n",
       "      <td>0.000287</td>\n",
       "      <td>0.000182</td>\n",
       "    </tr>\n",
       "    <tr>\n",
       "      <th>NVDA</th>\n",
       "      <td>0.000252</td>\n",
       "      <td>0.000362</td>\n",
       "      <td>0.000196</td>\n",
       "      <td>0.000284</td>\n",
       "      <td>0.000287</td>\n",
       "      <td>0.001286</td>\n",
       "      <td>0.000490</td>\n",
       "    </tr>\n",
       "    <tr>\n",
       "      <th>TSLA</th>\n",
       "      <td>0.000189</td>\n",
       "      <td>0.000064</td>\n",
       "      <td>0.000151</td>\n",
       "      <td>0.000074</td>\n",
       "      <td>0.000182</td>\n",
       "      <td>0.000490</td>\n",
       "      <td>0.001463</td>\n",
       "    </tr>\n",
       "  </tbody>\n",
       "</table>\n",
       "</div>"
      ],
      "text/plain": [
       "          META      AMZN      NFLX      GOOG      MSFT      NVDA      TSLA\n",
       "META  0.000404  0.000137  0.000143  0.000135  0.000134  0.000252  0.000189\n",
       "AMZN  0.000137  0.000253  0.000075  0.000142  0.000111  0.000362  0.000064\n",
       "NFLX  0.000143  0.000075  0.000319  0.000098  0.000115  0.000196  0.000151\n",
       "GOOG  0.000135  0.000142  0.000098  0.000221  0.000177  0.000284  0.000074\n",
       "MSFT  0.000134  0.000111  0.000115  0.000177  0.000207  0.000287  0.000182\n",
       "NVDA  0.000252  0.000362  0.000196  0.000284  0.000287  0.001286  0.000490\n",
       "TSLA  0.000189  0.000064  0.000151  0.000074  0.000182  0.000490  0.001463"
      ]
     },
     "execution_count": 12,
     "metadata": {},
     "output_type": "execute_result"
    }
   ],
   "source": [
    "cov"
   ]
  },
  {
   "attachments": {},
   "cell_type": "markdown",
   "id": "aef7e9cc",
   "metadata": {},
   "source": [
    "#### Correlation coefficient\n",
    "Correlation shows the strength of a relationship between two variables and is expressed numerically by the correlation coefficient. While covariance measures the direction of a relationship between two variables, correlation measures the strength of that relationship. There are many different measures of correlation but the most common one, and the one I use is the Pearson Coefficient of Correlation.\n",
    "\n",
    "Output values of the Pearson Correlation Coefficient range between values of +1 and -1, or 100% and -100%, where +1 represents perfect positive correlation and -1 perfect negative correlation. A measure of 0 would suggest the two variables are perfectly uncorrelated, and there is no linear relationship between them. However, that doesn’t necessarily mean the variables are independent – as they might have a relationship that is not linear. Scatterplot charts are a good way of visualizing various values for correlation\n",
    "\n",
    "Population formula:\n",
    "\n",
    "$$p = \\dfrac{\\sigma_{xy}}{\\sigma_y\\sigma_x} $$\n",
    "\n",
    "While sample formula is:\n",
    "\n",
    "$$r = \\dfrac{s_{xy}}{s_ys_x} $$"
   ]
  },
  {
   "cell_type": "code",
   "execution_count": 13,
   "id": "82e8571e",
   "metadata": {},
   "outputs": [
    {
     "data": {
      "text/html": [
       "<div>\n",
       "<style scoped>\n",
       "    .dataframe tbody tr th:only-of-type {\n",
       "        vertical-align: middle;\n",
       "    }\n",
       "\n",
       "    .dataframe tbody tr th {\n",
       "        vertical-align: top;\n",
       "    }\n",
       "\n",
       "    .dataframe thead th {\n",
       "        text-align: right;\n",
       "    }\n",
       "</style>\n",
       "<table border=\"1\" class=\"dataframe\">\n",
       "  <thead>\n",
       "    <tr style=\"text-align: right;\">\n",
       "      <th></th>\n",
       "      <th>META</th>\n",
       "      <th>AMZN</th>\n",
       "      <th>NFLX</th>\n",
       "      <th>GOOG</th>\n",
       "      <th>MSFT</th>\n",
       "      <th>NVDA</th>\n",
       "      <th>TSLA</th>\n",
       "    </tr>\n",
       "  </thead>\n",
       "  <tbody>\n",
       "    <tr>\n",
       "      <th>META</th>\n",
       "      <td>1.000000</td>\n",
       "      <td>0.426954</td>\n",
       "      <td>0.399251</td>\n",
       "      <td>0.451141</td>\n",
       "      <td>0.462463</td>\n",
       "      <td>0.349047</td>\n",
       "      <td>0.245190</td>\n",
       "    </tr>\n",
       "    <tr>\n",
       "      <th>AMZN</th>\n",
       "      <td>0.426954</td>\n",
       "      <td>1.000000</td>\n",
       "      <td>0.263913</td>\n",
       "      <td>0.599965</td>\n",
       "      <td>0.486596</td>\n",
       "      <td>0.635210</td>\n",
       "      <td>0.105951</td>\n",
       "    </tr>\n",
       "    <tr>\n",
       "      <th>NFLX</th>\n",
       "      <td>0.399251</td>\n",
       "      <td>0.263913</td>\n",
       "      <td>1.000000</td>\n",
       "      <td>0.369411</td>\n",
       "      <td>0.449536</td>\n",
       "      <td>0.306624</td>\n",
       "      <td>0.221220</td>\n",
       "    </tr>\n",
       "    <tr>\n",
       "      <th>GOOG</th>\n",
       "      <td>0.451141</td>\n",
       "      <td>0.599965</td>\n",
       "      <td>0.369411</td>\n",
       "      <td>1.000000</td>\n",
       "      <td>0.829273</td>\n",
       "      <td>0.532455</td>\n",
       "      <td>0.130574</td>\n",
       "    </tr>\n",
       "    <tr>\n",
       "      <th>MSFT</th>\n",
       "      <td>0.462463</td>\n",
       "      <td>0.486596</td>\n",
       "      <td>0.449536</td>\n",
       "      <td>0.829273</td>\n",
       "      <td>1.000000</td>\n",
       "      <td>0.556526</td>\n",
       "      <td>0.331061</td>\n",
       "    </tr>\n",
       "    <tr>\n",
       "      <th>NVDA</th>\n",
       "      <td>0.349047</td>\n",
       "      <td>0.635210</td>\n",
       "      <td>0.306624</td>\n",
       "      <td>0.532455</td>\n",
       "      <td>0.556526</td>\n",
       "      <td>1.000000</td>\n",
       "      <td>0.357039</td>\n",
       "    </tr>\n",
       "    <tr>\n",
       "      <th>TSLA</th>\n",
       "      <td>0.245190</td>\n",
       "      <td>0.105951</td>\n",
       "      <td>0.221220</td>\n",
       "      <td>0.130574</td>\n",
       "      <td>0.331061</td>\n",
       "      <td>0.357039</td>\n",
       "      <td>1.000000</td>\n",
       "    </tr>\n",
       "  </tbody>\n",
       "</table>\n",
       "</div>"
      ],
      "text/plain": [
       "          META      AMZN      NFLX      GOOG      MSFT      NVDA      TSLA\n",
       "META  1.000000  0.426954  0.399251  0.451141  0.462463  0.349047  0.245190\n",
       "AMZN  0.426954  1.000000  0.263913  0.599965  0.486596  0.635210  0.105951\n",
       "NFLX  0.399251  0.263913  1.000000  0.369411  0.449536  0.306624  0.221220\n",
       "GOOG  0.451141  0.599965  0.369411  1.000000  0.829273  0.532455  0.130574\n",
       "MSFT  0.462463  0.486596  0.449536  0.829273  1.000000  0.556526  0.331061\n",
       "NVDA  0.349047  0.635210  0.306624  0.532455  0.556526  1.000000  0.357039\n",
       "TSLA  0.245190  0.105951  0.221220  0.130574  0.331061  0.357039  1.000000"
      ]
     },
     "execution_count": 13,
     "metadata": {},
     "output_type": "execute_result"
    }
   ],
   "source": [
    "corr"
   ]
  },
  {
   "attachments": {},
   "cell_type": "markdown",
   "id": "be4fcc97",
   "metadata": {},
   "source": [
    "One of the most common pitfalls of correlation analysis is that correlation is not causation! \n",
    "\n",
    "Just because two variables have shown a historic correlation doesn’t mean that one of the variables causes the other to move. The causation of the two variables moving with a positive or negative correlation could be a third completely unconsidered variable OR a combination of many factors. In theory, we want to try and understand the causes for relationships between variables so we can have a more accurate idea about when those relationships might change and if they will. The reality is that this is very hard to achieve and so practically speaking correlation analysis is often used to summarise relationships and use them as forward-looking predicator under the caveat that we understand it is likely that there are many factors at play that are responsible for the causation of the relationship."
   ]
  },
  {
   "attachments": {},
   "cell_type": "markdown",
   "id": "82293713",
   "metadata": {},
   "source": [
    "#### References\n",
    "- \"Quantitative Investment Analysis\", by DeFusco, McLeavey, Pinto, and Runkle\n",
    "- \"Practical Statistics for Data Scientists\", by Andrew Bruce, Peter C. Bruce, and Peter Gedeck"
   ]
  }
 ],
 "metadata": {
  "kernelspec": {
   "display_name": "Python 3 (ipykernel)",
   "language": "python",
   "name": "python3"
  },
  "language_info": {
   "codemirror_mode": {
    "name": "ipython",
    "version": 3
   },
   "file_extension": ".py",
   "mimetype": "text/x-python",
   "name": "python",
   "nbconvert_exporter": "python",
   "pygments_lexer": "ipython3",
   "version": "3.10.9"
  }
 },
 "nbformat": 4,
 "nbformat_minor": 5
}
