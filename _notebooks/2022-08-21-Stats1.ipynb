{
 "cells": [
  {
   "cell_type": "markdown",
   "id": "14b8bf73-a86d-4abd-9914-470cec7474b7",
   "metadata": {},
   "source": [
    "# Descriptive Statistics And Relationship Between Variables\n",
    "\n",
    "> In this notebook, we'll go  through some basic concepts that most if not all statisticians and data analysts look at when they first encouter a data set\n",
    "\n",
    "- toc: true\n",
    "- badges: true\n",
    "- categories:[Statistics & Probability]\n",
    "- image:images/math.jpg"
   ]
  },
  {
   "cell_type": "markdown",
   "id": "5c28cf99-71b0-4517-8cc2-ee152bc99801",
   "metadata": {},
   "source": [
    "## Measures of central tendency:\n",
    "A measure of central tendency (also referred to as measures of center or central location) is a summary measure that attempts to describe a whole set of data with a single value that represents the middle or center of its distribution.\n"
   ]
  },
  {
   "cell_type": "markdown",
   "id": "fcce7bbd-108e-4b45-bc7b-ace121156b37",
   "metadata": {},
   "source": [
    "#### Mean:\n",
    "The arithmetic mean is the sum of the observations divided by the number of observations. The arithmetic mean is by far the most frequently used measure of the middle or center of data. The mean is also referred to as the average\n",
    "The population mean, μ, is the arithmetic mean value of a population. For a finite population, the population mean is:\n",
    "\n",
    "$$\\mu = \\dfrac{\\sum_{i=1}^N X_i}{N} $$\n",
    "\n",
    "where $N$ is the number of observations in the entire population and $X_i$\n",
    "is the $i$th observation.\n",
    "\n",
    "The sample mean is the arithmetic mean computed for a sample. A sample is a percentage of the total population in statistics. You can use the data from a sample to make inferences about a population as a whole. The concept of the mean can be applied to the observations in a sample with a slight change in notation. \n",
    "\n",
    "$$\\bar{x} = \\dfrac{\\sum_{i=1}^n X_i}{n} $$\n",
    "\n",
    "where $n$ is the number of observations in the sample."
   ]
  },
  {
   "cell_type": "code",
   "execution_count": 1,
   "id": "23caf5af-8583-4203-ba95-08930a1e5a4a",
   "metadata": {},
   "outputs": [
    {
     "name": "stdout",
     "output_type": "stream",
     "text": [
      "[*********************100%***********************]  1 of 1 completed\n",
      "The average daily return for Microsoft stock is: 0.14%\n"
     ]
    }
   ],
   "source": [
    "#importing relevant libraries\n",
    "import pandas as pd\n",
    "import numpy as np\n",
    "import yfinance as yf\n",
    "#Downloading \n",
    "msft_daily = yf.download('MSFT', '2016-01-01', '2021-12-31', interval= '1d',index_col = 'Date', parse_dates=True)['Adj Close']"
   ]
  },
  {
   "cell_type": "code",
   "execution_count": null,
   "id": "5dd6b4e0",
   "metadata": {},
   "outputs": [],
   "source": [
    "#Calculating average return\n",
    "msft_returns = msft_daily.pct_change(1).dropna()\n",
    "average_return = str(round((np.mean(msft_returns) * 100),2)) + '%'\n",
    "print(f'The average daily return for Microsoft stock is: {average_return}')"
   ]
  },
  {
   "cell_type": "markdown",
   "id": "aeb9c9cd-9e52-41f7-bf71-0b49d239ee9e",
   "metadata": {},
   "source": [
    "#### Weighted mean:\n",
    "\n",
    "The ordinary arithmetic mean is where all sample observations are equally weighted by the factor 1/n (each of the data points contributes equally to the final average).\n",
    "\n",
    "But with the weighted mean, some data points contribute more than others based on their weighting, the higher the weighting, the more it influences the final average. The weighted mean is also referred to as the weighted average\n",
    "\n",
    "$$\\bar{X}_w = {\\sum_{i=1}^n w_i X_i} $$\n",
    "\n",
    "where the sum of the weights equals 1; that is,$\\sum_{i} w_i = 1$"
   ]
  },
  {
   "cell_type": "code",
   "execution_count": 2,
   "id": "65fd5130-09d2-415c-a06b-12f646266b3f",
   "metadata": {},
   "outputs": [
    {
     "name": "stdout",
     "output_type": "stream",
     "text": [
      "[*********************100%***********************]  1 of 1 completed\n",
      "[*********************100%***********************]  1 of 1 completed\n",
      "[*********************100%***********************]  1 of 1 completed\n"
     ]
    }
   ],
   "source": [
    "#Downloading data\n",
    "aapl = yf.download('AAPL', '2021-10-01', '2021-12-31', interval= '1d',index_col = 'Date', parse_dates=True)['Adj Close']\n",
    "nvdia = yf.download('NVDA', '2021-10-01', '2021-12-31', interval= '1d',index_col = 'Date', parse_dates=True)['Adj Close']\n",
    "msft = yf.download('MSFT', '2021-10-01', '2021-12-31', interval= '1d',index_col = 'Date', parse_dates=True)['Adj Close']"
   ]
  },
  {
   "cell_type": "code",
   "execution_count": 76,
   "id": "9d79ff70",
   "metadata": {},
   "outputs": [
    {
     "name": "stdout",
     "output_type": "stream",
     "text": [
      "The Weighted mean return of the portfolio is: -0.09\n",
      "The Arithmetic mean return of the portfolio is: -0.25\n"
     ]
    }
   ],
   "source": [
    "#Calculating 2021 Q4 return\n",
    "msft_ret = (msft[-1] - msft[0])/msft[0]\n",
    "aapl_ret = (aapl[-1] - aapl[0])/aapl[0]\n",
    "nvda_ret = (nvdia[-1] - nvdia[0])/aapl[0]\n",
    "\n",
    "#portfolio return if 50% of capital was deplyoed in microsoft,30% in apple and 20% in nvidia\n",
    "Wavg = (msft_ret * .50 + aapl_ret + .30 + nvda_ret * .20)/3\n",
    "avg = (msft_ret + aapl_ret + nvda_ret)/3\n",
    "\n",
    "print(\"The Weighted mean return of the portfolio assuming a 50/30/20 split is:\", round(Wavg,2))\n",
    "print(\"The Arithmetic mean return of the portfolio assuming no split is:\", round(avg,2))"
   ]
  },
  {
   "cell_type": "markdown",
   "id": "0c1cb7f2-6d5f-4918-8a4d-d2ac79da32af",
   "metadata": {},
   "source": [
    "The weighted mean is also very useful when calculating a theoretically expected outcome where each outcome has a different probability of occurring (more on this in probability concepts)"
   ]
  },
  {
   "cell_type": "markdown",
   "id": "4651a8af",
   "metadata": {},
   "source": [
    "#### Harmonic mean:\n",
    "The harmonic mean is a type of numerical average. It is calculated by dividing the number of observations by the reciprocal of each number in the series. Thus, the harmonic mean is the reciprocal of the arithmetic mean of the reciprocals.\n",
    "\n",
    "$$\\bar{X}_h = \\dfrac{n}{\\sum_{i=1}^n \\dfrac1X_i} $$"
   ]
  },
  {
   "cell_type": "markdown",
   "id": "677c69e6",
   "metadata": {},
   "source": [
    "#### Geometric mean:\n",
    "The geometric mean is most frequently used to average rates of change over time or to compute the growth rate of a variable. \n",
    "\n",
    "For volatile numbers like stock returns, the geometric average provides a far more accurate measurement of the true return by taking into account year-over-year compounding that smooths the average.\n",
    "\n",
    "$$ G = \\sqrt[n]{X_1,X_2,X_3....X_n} $$"
   ]
  },
  {
   "cell_type": "code",
   "execution_count": 74,
   "id": "5e370245",
   "metadata": {},
   "outputs": [
    {
     "name": "stdout",
     "output_type": "stream",
     "text": [
      "The Harmonic mean of Microsoft's dividends per share is: 0.19\n",
      "The Geometric mean of Microsoft's dividends per share is: 0.24\n",
      "The Arithmetic mean of Microsoft's dividends per share is: 0.32\n"
     ]
    }
   ],
   "source": [
    "import scipy.stats as stats\n",
    "msfT = yf.Ticker(\"MSFT\")\n",
    "dividends = msfT.dividends\n",
    "\n",
    "# Use scipy's gmean&hmean function to compute the geometric mean and harmonic mean\n",
    "print(\"The Harmonic mean of Microsoft's dividends per share is:\", round(stats.hmean(dividends),2))\n",
    "print(\"The Geometric mean of Microsoft's dividends per share is:\", round(stats.gmean(dividends),2))\n",
    "print(\"The Arithmetic mean of Microsoft's dividends per share is:\", round(np.mean(dividends),2))"
   ]
  },
  {
   "cell_type": "markdown",
   "id": "4774c0bb",
   "metadata": {},
   "source": [
    "> “A mathematical fact concerning the harmonic, geometric, and arithmetic means is that unless all the observations in a data set have the same value, the harmonic mean is less than the geometric mean, which in turn is less than the arithmetic mean” – Quantitative Investment Analysis, by DeFusco, McLeavey, Pinto, and Runkle"
   ]
  },
  {
   "cell_type": "markdown",
   "id": "196cc6ee",
   "metadata": {},
   "source": [
    "#### Trimmed mean:\n",
    "A trimmed mean is a method of averaging that removes a small designated percentage of the largest and smallest values before calculating the mean. After removing the specified outlier observations, the trimmed mean is found using a standard arithmetic averaging formula. The use of a trimmed mean helps eliminate the influence of outliers or data points on the tails that may unfairly affect the traditional or arithmetic mean."
   ]
  },
  {
   "cell_type": "markdown",
   "id": "15dbf6e4",
   "metadata": {},
   "source": [
    "To trim the mean by a total of 40%, we remove the lowest 20% and the highest 20% of values, eliminating the scores of 8 and 9"
   ]
  },
  {
   "cell_type": "code",
   "execution_count": 95,
   "id": "fd8869fe",
   "metadata": {},
   "outputs": [
    {
     "name": "stdout",
     "output_type": "stream",
     "text": [
      "Hence, a mean trimmed at 40% would equal 3.0 versus 5.2\n"
     ]
    }
   ],
   "source": [
    "data = [8, 2, 3, 4, 9]\n",
    "mean = np.mean(data)\n",
    "\n",
    "trimmed_data = [2, 3, 4]\n",
    "trimmed_mean = np.mean(trimmed_data)\n",
    "\n",
    "print(f\"Hence, a mean trimmed at 40% would equal {trimmed_mean} versus {mean}\")"
   ]
  },
  {
   "cell_type": "markdown",
   "id": "89ec106f",
   "metadata": {},
   "source": [
    "#### Median:\n",
    "The median is the middle number in a sorted, ascending, or descending list of numbers and can be more descriptive of that data set than the average. It is the point above and below which half (50%) of the observed data falls, and so represents the midpoint of the data.\n"
   ]
  },
  {
   "cell_type": "code",
   "execution_count": 108,
   "id": "55e067b5",
   "metadata": {},
   "outputs": [
    {
     "name": "stdout",
     "output_type": "stream",
     "text": [
      "The median dividend per share paid by Microsoft is 0.23$\n"
     ]
    }
   ],
   "source": [
    "median = np.median(dividends)\n",
    "print(f'The median dividend per share paid by Microsoft is {median}$')"
   ]
  },
  {
   "cell_type": "markdown",
   "id": "ff943243",
   "metadata": {},
   "source": [
    "#### Mode:\n",
    "The mode is the value that appears most frequently in a data set\n",
    "A distribution can have more than one mode or even no mode. When a distribution has one most frequently occurring value, the distribution is said to be unimodal. If a distribution has two most frequently occurring values, then it has two modes and we say it is bimodal. If the distribution has three most frequently occurring values, then it is trimodal. When all the values in a data set are different, the distribution has no mode because no value occurs more frequently than any other value. "
   ]
  },
  {
   "cell_type": "code",
   "execution_count": 104,
   "id": "29979821",
   "metadata": {},
   "outputs": [
    {
     "name": "stdout",
     "output_type": "stream",
     "text": [
      "Since 2013, Microsoft has paid out 0.13$ dividend per share the most in a given period\n"
     ]
    }
   ],
   "source": [
    "import statistics\n",
    "mode = statistics.mode(dividends)\n",
    "print(f'Since 2013, Microsoft has paid out {mode}$ dividend per share the most in a given period')"
   ]
  },
  {
   "cell_type": "markdown",
   "id": "b4260664",
   "metadata": {},
   "source": [
    "## Measures of dispersion\n",
    "Location is just one dimension in describing data. A second dimension, variability, also referred to as dispersion, measures whether the data values are tightly clustered or spread out.\n"
   ]
  },
  {
   "cell_type": "markdown",
   "id": "12c5c5f9",
   "metadata": {},
   "source": [
    "#### Range:\n",
    "Range, the range of a set of data is the difference between the largest and smallest values, the result of subtracting the sample maximum and minimum. It is expressed in the same units as the data."
   ]
  },
  {
   "cell_type": "code",
   "execution_count": 107,
   "id": "008a4de5",
   "metadata": {},
   "outputs": [
    {
     "name": "stdout",
     "output_type": "stream",
     "text": [
      "The maximum dividend per share paid by Microsoft is 3.08$\n",
      "The minimum dividend per share paid by Microsoft is 0.08$\n",
      "Hence, the range is 3.0$\n"
     ]
    }
   ],
   "source": [
    "maX = np.max(dividends)\n",
    "miN = np.min(dividends)\n",
    "Range= np.ptp(dividends)\n",
    "\n",
    "print(f'The maximum dividend per share paid by Microsoft is {maX}$') \n",
    "print(f'The minimum dividend per share paid by Microsoft is {miN}$')\n",
    "print(f'Hence, the range is {Range}$')"
   ]
  },
  {
   "cell_type": "markdown",
   "id": "3a33d232",
   "metadata": {},
   "source": [
    "#### Variance sample and population:\n",
    "The variance and standard deviation are the two most widely used measures of dispersion\n",
    "Variance is defined as the average of the squared deviations around the mean.\n",
    "Population variance is a measure of the spread of population data. Hence, population variance can be defined as the average of the distances from each data point in a particular population to the mean squared, and it indicates how data points are spread out in the population. we can compute the population variance.Denoted by the symbol σ2\n",
    "\n",
    "Population formula:\n",
    "\n",
    "$$\\sigma^2 = \\dfrac{\\sum_{i=1}^N(x_i - \\mu)^2}N $$\n",
    "\n",
    "While sample formula is:\n",
    "\n",
    "$$s^2 = \\dfrac{\\sum_{i=1}^n(x_i - \\bar x)^2}{n-1} $$\n"
   ]
  },
  {
   "cell_type": "markdown",
   "id": "70a44ccf",
   "metadata": {},
   "source": [
    "#### Standard deviation sample and population:\n",
    "Standard Deviation (SD) is the positive square root of the variance. It is represented by the Greek letter ‘σ’ and is used to measure the amount of variation or dispersion of a set of data values relative to its mean (average), thus interpret the reliability of the data. If it is smaller then the data points lie close to the mean value, thus showing reliability. But if it is larger then data points spread far from the mean.\n",
    "\n",
    "Population formula:\n",
    "\n",
    "$$\\sigma^2 = \\sqrt{\\dfrac{\\sum_{i=1}^N(x_i - \\mu)^2}N} $$\n",
    "\n",
    "While sample formula is:\n",
    "\n",
    "$$s^2 = \\sqrt{\\dfrac{\\sum_{i=1}^n(x_i - \\bar x)^2}{n-1}} $$\n",
    "\n",
    "Hence, Variance Measures Dispersion within the Data Set while the standard deviation measures spread around the mean!\n"
   ]
  },
  {
   "cell_type": "code",
   "execution_count": 86,
   "id": "9b1a286e",
   "metadata": {},
   "outputs": [
    {
     "name": "stdout",
     "output_type": "stream",
     "text": [
      "The variance of Microsoft's daily stock returns: 0.00028\n",
      "The standard deviation of Microsoft's daily stock returns: 0.01684\n"
     ]
    }
   ],
   "source": [
    "print(\"The variance of Microsoft's daily stock returns:\", round(np.var(msft_returns),5))\n",
    "print(\"The standard deviation of Microsoft's daily stock returns:\", round(np.std(msft_returns),5))"
   ]
  },
  {
   "cell_type": "markdown",
   "id": "15172aed",
   "metadata": {},
   "source": [
    "## Relationship between variables  \n",
    "\n",
    "Relationship between variables means, In a dataset, the values of one variable correspond to the values of another variable. In other words, knowing the value of one variable, for a given case, helps you to predict the value of the other one. "
   ]
  },
  {
   "cell_type": "markdown",
   "id": "6a41b1f6",
   "metadata": {},
   "source": [
    "#### Covariance \n",
    "Covariance provides insight into how two variables are related to one another. More precisely, covariance refers to the measure of how two random variables in a data set will change together. A positive covariance means that the two variables at hand are positively related, and they move in the same direction. A negative covariance means that the variables are inversely related, or that they move in opposite directions.\n",
    "Both variance and covariance measure how data points are distributed around a calculated mean. However, variance measures the spread of data along a single axis, while covariance examines the directional relationship between two variables.\n",
    "\n",
    "Population formula:\n",
    "\n",
    "$$\\sigma_{xy} = \\dfrac{\\sum_{i=1}^N(x_i - \\mu_x)*(y_i - \\mu_y)}N $$\n",
    "\n",
    "While sample formula is:\n",
    "\n",
    "$$s_{xy} = \\dfrac{\\sum_{i=1}^n(x_i - \\bar x)*(y_i - \\bar y)}{n-1} $$"
   ]
  },
  {
   "cell_type": "code",
   "execution_count": 67,
   "id": "e90d155e",
   "metadata": {},
   "outputs": [
    {
     "name": "stdout",
     "output_type": "stream",
     "text": [
      "[*********************100%***********************]  1 of 1 completed\n",
      "[*********************100%***********************]  1 of 1 completed\n",
      "[*********************100%***********************]  1 of 1 completed\n",
      "[*********************100%***********************]  1 of 1 completed\n",
      "[*********************100%***********************]  1 of 1 completed\n",
      "[*********************100%***********************]  1 of 1 completed\n",
      "[*********************100%***********************]  1 of 1 completed\n"
     ]
    }
   ],
   "source": [
    "assets = ['META','AMZN','NFLX','GOOG','MSFT','NVDA','TSLA']\n",
    "pf_data = pd.DataFrame()\n",
    "for a in assets:\n",
    "    pf_data[a] = yf.download(a, start=\"2021-10-01\", end=\"2021-12-31\", index_col = 'Date', parse_dates=True)['Adj Close']\n",
    "\n",
    "returns = pf_data.pct_change(1).dropna()\n",
    "cov = returns.cov()\n",
    "corr = returns.corr()"
   ]
  },
  {
   "cell_type": "code",
   "execution_count": 68,
   "id": "ed5697df",
   "metadata": {},
   "outputs": [
    {
     "data": {
      "text/html": [
       "<div>\n",
       "<style scoped>\n",
       "    .dataframe tbody tr th:only-of-type {\n",
       "        vertical-align: middle;\n",
       "    }\n",
       "\n",
       "    .dataframe tbody tr th {\n",
       "        vertical-align: top;\n",
       "    }\n",
       "\n",
       "    .dataframe thead th {\n",
       "        text-align: right;\n",
       "    }\n",
       "</style>\n",
       "<table border=\"1\" class=\"dataframe\">\n",
       "  <thead>\n",
       "    <tr style=\"text-align: right;\">\n",
       "      <th></th>\n",
       "      <th>META</th>\n",
       "      <th>AMZN</th>\n",
       "      <th>NFLX</th>\n",
       "      <th>GOOG</th>\n",
       "      <th>MSFT</th>\n",
       "      <th>NVDA</th>\n",
       "      <th>TSLA</th>\n",
       "    </tr>\n",
       "  </thead>\n",
       "  <tbody>\n",
       "    <tr>\n",
       "      <th>META</th>\n",
       "      <td>0.000404</td>\n",
       "      <td>0.000137</td>\n",
       "      <td>0.000143</td>\n",
       "      <td>0.000135</td>\n",
       "      <td>0.000134</td>\n",
       "      <td>0.000252</td>\n",
       "      <td>0.000189</td>\n",
       "    </tr>\n",
       "    <tr>\n",
       "      <th>AMZN</th>\n",
       "      <td>0.000137</td>\n",
       "      <td>0.000253</td>\n",
       "      <td>0.000075</td>\n",
       "      <td>0.000142</td>\n",
       "      <td>0.000111</td>\n",
       "      <td>0.000362</td>\n",
       "      <td>0.000064</td>\n",
       "    </tr>\n",
       "    <tr>\n",
       "      <th>NFLX</th>\n",
       "      <td>0.000143</td>\n",
       "      <td>0.000075</td>\n",
       "      <td>0.000319</td>\n",
       "      <td>0.000098</td>\n",
       "      <td>0.000115</td>\n",
       "      <td>0.000196</td>\n",
       "      <td>0.000151</td>\n",
       "    </tr>\n",
       "    <tr>\n",
       "      <th>GOOG</th>\n",
       "      <td>0.000135</td>\n",
       "      <td>0.000142</td>\n",
       "      <td>0.000098</td>\n",
       "      <td>0.000221</td>\n",
       "      <td>0.000177</td>\n",
       "      <td>0.000284</td>\n",
       "      <td>0.000074</td>\n",
       "    </tr>\n",
       "    <tr>\n",
       "      <th>MSFT</th>\n",
       "      <td>0.000134</td>\n",
       "      <td>0.000111</td>\n",
       "      <td>0.000115</td>\n",
       "      <td>0.000177</td>\n",
       "      <td>0.000207</td>\n",
       "      <td>0.000287</td>\n",
       "      <td>0.000182</td>\n",
       "    </tr>\n",
       "    <tr>\n",
       "      <th>NVDA</th>\n",
       "      <td>0.000252</td>\n",
       "      <td>0.000362</td>\n",
       "      <td>0.000196</td>\n",
       "      <td>0.000284</td>\n",
       "      <td>0.000287</td>\n",
       "      <td>0.001286</td>\n",
       "      <td>0.000490</td>\n",
       "    </tr>\n",
       "    <tr>\n",
       "      <th>TSLA</th>\n",
       "      <td>0.000189</td>\n",
       "      <td>0.000064</td>\n",
       "      <td>0.000151</td>\n",
       "      <td>0.000074</td>\n",
       "      <td>0.000182</td>\n",
       "      <td>0.000490</td>\n",
       "      <td>0.001463</td>\n",
       "    </tr>\n",
       "  </tbody>\n",
       "</table>\n",
       "</div>"
      ],
      "text/plain": [
       "          META      AMZN      NFLX      GOOG      MSFT      NVDA      TSLA\n",
       "META  0.000404  0.000137  0.000143  0.000135  0.000134  0.000252  0.000189\n",
       "AMZN  0.000137  0.000253  0.000075  0.000142  0.000111  0.000362  0.000064\n",
       "NFLX  0.000143  0.000075  0.000319  0.000098  0.000115  0.000196  0.000151\n",
       "GOOG  0.000135  0.000142  0.000098  0.000221  0.000177  0.000284  0.000074\n",
       "MSFT  0.000134  0.000111  0.000115  0.000177  0.000207  0.000287  0.000182\n",
       "NVDA  0.000252  0.000362  0.000196  0.000284  0.000287  0.001286  0.000490\n",
       "TSLA  0.000189  0.000064  0.000151  0.000074  0.000182  0.000490  0.001463"
      ]
     },
     "execution_count": 68,
     "metadata": {},
     "output_type": "execute_result"
    }
   ],
   "source": [
    "cov"
   ]
  },
  {
   "cell_type": "markdown",
   "id": "aef7e9cc",
   "metadata": {},
   "source": [
    "#### Correlation coefficient\n",
    "Correlation shows the strength of a relationship between two variables and is expressed numerically by the correlation coefficient. While covariance measures the direction of a relationship between two variables, correlation measures the strength of that relationship. There are many different measures of correlation but the most common one, and the one I use is the Pearson Coefficient of Correlation.\n",
    "\n",
    "Output values of the Pearson Correlation Coefficient range between values of +1 and -1, or 100% and -100%, where +1 represents perfect positive correlation and -1 perfect negative correlation. A measure of 0 would suggest the two variables are perfectly uncorrelated, and there is no linear relationship between them. However, that doesn’t necessarily mean the variables are independent – as they might have a relationship that is not linear. Scatterplot charts are a good way of visualizing various values for correlation\n",
    "\n",
    "Population formula:\n",
    "\n",
    "$$p = \\dfrac{\\sigma_{xy}}{\\sigma_y\\sigma_x} $$\n",
    "\n",
    "While sample formula is:\n",
    "\n",
    "$$r = \\dfrac{s_{xy}}{s_ys_x} $$"
   ]
  },
  {
   "cell_type": "code",
   "execution_count": 69,
   "id": "82e8571e",
   "metadata": {},
   "outputs": [
    {
     "data": {
      "text/html": [
       "<div>\n",
       "<style scoped>\n",
       "    .dataframe tbody tr th:only-of-type {\n",
       "        vertical-align: middle;\n",
       "    }\n",
       "\n",
       "    .dataframe tbody tr th {\n",
       "        vertical-align: top;\n",
       "    }\n",
       "\n",
       "    .dataframe thead th {\n",
       "        text-align: right;\n",
       "    }\n",
       "</style>\n",
       "<table border=\"1\" class=\"dataframe\">\n",
       "  <thead>\n",
       "    <tr style=\"text-align: right;\">\n",
       "      <th></th>\n",
       "      <th>META</th>\n",
       "      <th>AMZN</th>\n",
       "      <th>NFLX</th>\n",
       "      <th>GOOG</th>\n",
       "      <th>MSFT</th>\n",
       "      <th>NVDA</th>\n",
       "      <th>TSLA</th>\n",
       "    </tr>\n",
       "  </thead>\n",
       "  <tbody>\n",
       "    <tr>\n",
       "      <th>META</th>\n",
       "      <td>1.000000</td>\n",
       "      <td>0.426954</td>\n",
       "      <td>0.399251</td>\n",
       "      <td>0.451141</td>\n",
       "      <td>0.462463</td>\n",
       "      <td>0.349046</td>\n",
       "      <td>0.245190</td>\n",
       "    </tr>\n",
       "    <tr>\n",
       "      <th>AMZN</th>\n",
       "      <td>0.426954</td>\n",
       "      <td>1.000000</td>\n",
       "      <td>0.263913</td>\n",
       "      <td>0.599965</td>\n",
       "      <td>0.486596</td>\n",
       "      <td>0.635210</td>\n",
       "      <td>0.105951</td>\n",
       "    </tr>\n",
       "    <tr>\n",
       "      <th>NFLX</th>\n",
       "      <td>0.399251</td>\n",
       "      <td>0.263913</td>\n",
       "      <td>1.000000</td>\n",
       "      <td>0.369411</td>\n",
       "      <td>0.449535</td>\n",
       "      <td>0.306623</td>\n",
       "      <td>0.221220</td>\n",
       "    </tr>\n",
       "    <tr>\n",
       "      <th>GOOG</th>\n",
       "      <td>0.451141</td>\n",
       "      <td>0.599965</td>\n",
       "      <td>0.369411</td>\n",
       "      <td>1.000000</td>\n",
       "      <td>0.829273</td>\n",
       "      <td>0.532454</td>\n",
       "      <td>0.130574</td>\n",
       "    </tr>\n",
       "    <tr>\n",
       "      <th>MSFT</th>\n",
       "      <td>0.462463</td>\n",
       "      <td>0.486596</td>\n",
       "      <td>0.449535</td>\n",
       "      <td>0.829273</td>\n",
       "      <td>1.000000</td>\n",
       "      <td>0.556526</td>\n",
       "      <td>0.331061</td>\n",
       "    </tr>\n",
       "    <tr>\n",
       "      <th>NVDA</th>\n",
       "      <td>0.349046</td>\n",
       "      <td>0.635210</td>\n",
       "      <td>0.306623</td>\n",
       "      <td>0.532454</td>\n",
       "      <td>0.556526</td>\n",
       "      <td>1.000000</td>\n",
       "      <td>0.357039</td>\n",
       "    </tr>\n",
       "    <tr>\n",
       "      <th>TSLA</th>\n",
       "      <td>0.245190</td>\n",
       "      <td>0.105951</td>\n",
       "      <td>0.221220</td>\n",
       "      <td>0.130574</td>\n",
       "      <td>0.331061</td>\n",
       "      <td>0.357039</td>\n",
       "      <td>1.000000</td>\n",
       "    </tr>\n",
       "  </tbody>\n",
       "</table>\n",
       "</div>"
      ],
      "text/plain": [
       "          META      AMZN      NFLX      GOOG      MSFT      NVDA      TSLA\n",
       "META  1.000000  0.426954  0.399251  0.451141  0.462463  0.349046  0.245190\n",
       "AMZN  0.426954  1.000000  0.263913  0.599965  0.486596  0.635210  0.105951\n",
       "NFLX  0.399251  0.263913  1.000000  0.369411  0.449535  0.306623  0.221220\n",
       "GOOG  0.451141  0.599965  0.369411  1.000000  0.829273  0.532454  0.130574\n",
       "MSFT  0.462463  0.486596  0.449535  0.829273  1.000000  0.556526  0.331061\n",
       "NVDA  0.349046  0.635210  0.306623  0.532454  0.556526  1.000000  0.357039\n",
       "TSLA  0.245190  0.105951  0.221220  0.130574  0.331061  0.357039  1.000000"
      ]
     },
     "execution_count": 69,
     "metadata": {},
     "output_type": "execute_result"
    }
   ],
   "source": [
    "corr"
   ]
  },
  {
   "cell_type": "markdown",
   "id": "be4fcc97",
   "metadata": {},
   "source": [
    "One of the most common pitfalls of correlation analysis is that correlation is not causation! \n",
    "\n",
    "Just because two variables have shown a historic correlation doesn’t mean that one of the variables causes the other to move. The causation of the two variables moving with a positive or negative correlation could be a third completely unconsidered variable OR a combination of many factors. In theory, we want to try and understand the causes for relationships between variables so we can have a more accurate idea about when those relationships might change and if they will. The reality is that this is very hard to achieve and so practically speaking correlation analysis is often used to summarise relationships and use them as forward-looking predicator under the caveat that we understand it is likely that there are many factors at play that are responsible for the causation of the relationship."
   ]
  },
  {
   "cell_type": "markdown",
   "id": "82293713",
   "metadata": {},
   "source": [
    "#### References\n",
    "- \"Quantitative Investment Analysis\", by DeFusco, McLeavey, Pinto, and Runkle\n",
    "- \"Practical Statistics for Data Scientists\", by Andrew Bruce, Peter C. Bruce, and Peter Gedeck"
   ]
  }
 ],
 "metadata": {
  "kernelspec": {
   "display_name": "Python 3 (ipykernel)",
   "language": "python",
   "name": "python3"
  },
  "language_info": {
   "codemirror_mode": {
    "name": "ipython",
    "version": 3
   },
   "file_extension": ".py",
   "mimetype": "text/x-python",
   "name": "python",
   "nbconvert_exporter": "python",
   "pygments_lexer": "ipython3",
   "version": "3.7.6"
  }
 },
 "nbformat": 4,
 "nbformat_minor": 5
}
